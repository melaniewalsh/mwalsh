{
 "cells": [
  {
   "cell_type": "markdown",
   "metadata": {},
   "source": [
    "# Collecting Twitter Data"
   ]
  },
  {
   "cell_type": "markdown",
   "metadata": {},
   "source": [
    "[Download relevant files here](https://melaniewalsh.org/Collecting-Twitter-Data.zip) or run `git pull` from command line in the \"Intro-Cultural-Analytics-Notebooks\" directory"
   ]
  },
  {
   "cell_type": "markdown",
   "metadata": {},
   "source": [
    "<img src=\"https://cfcdnpull-creativefreedoml.netdna-ssl.com/wp-content/uploads/2017/06/Twitter-featured.png\" width=100%>"
   ]
  },
  {
   "cell_type": "markdown",
   "metadata": {},
   "source": [
    "In this lesson, we're going to learn how to collect Twitter data with the Python/command line tool [twarc](https://github.com/DocNow/twarc). This tool was developed by a project called [Documenting the Now](https://www.docnow.io/). The DocNow team develops tools and ethical frameworks for social media research.\n",
    "\n",
    "Because twarc relies on Twitter's API, we need to apply for a Twitter developer account and create a Twitter application before we use it. You can find instructions for the application process and for installing and configuring twarc here: [Twitter Collection Setup](https://melaniewalsh.github.io/Intro-Cultural-Analytics/Collecting-Cultural-Data/Twitter-Collection-Setup.html)."
   ]
  },
  {
   "cell_type": "markdown",
   "metadata": {},
   "source": [
    "# Twitter API (Free Version)"
   ]
  },
  {
   "cell_type": "markdown",
   "metadata": {},
   "source": [
    "With the free version of the Twitter API, there are basically two ways to collect your own Twitter data: in real time or ~7 days in the past. To get data any further in the past requires a paid version of the Twitter API. Twarc allows you to collect tweets both in real time and ~7 days in the past."
   ]
  },
  {
   "cell_type": "markdown",
   "metadata": {},
   "source": [
    "# Collect Tweets in Real Time"
   ]
  },
  {
   "cell_type": "markdown",
   "metadata": {},
   "source": [
    "## Twarc From the Command Line"
   ]
  },
  {
   "cell_type": "markdown",
   "metadata": {},
   "source": [
    "The easiest way to collect tweets with twarc is to use the command line. To collect tweets in real time, you can use the command `twarc filter`, followed by a search query, then the output operator `>` and a filename of your choosing with the \".jsonl\" file extension (which outputs your Twitter data to this JSONL file)."
   ]
  },
  {
   "cell_type": "markdown",
   "metadata": {},
   "source": [
    "`twarc filter \"search term\" > my_file.jsonl`"
   ]
  },
  {
   "cell_type": "markdown",
   "metadata": {},
   "source": [
    "For example, to collect tweets in real time that include the word \"coronavirus,\" you would run:"
   ]
  },
  {
   "cell_type": "markdown",
   "metadata": {},
   "source": [
    "`twarc  filter \"coronavirus\" > coronavirus_filter.jsonl`"
   ]
  },
  {
   "cell_type": "markdown",
   "metadata": {},
   "source": [
    "### Starting and Stopping Twarc"
   ]
  },
  {
   "cell_type": "markdown",
   "metadata": {},
   "source": [
    "If you run `twarc filter` from your command line, `twarc` will keep running until you explicitly stop the process. You can stop a process on the command line by typing `Ctrl + C`."
   ]
  },
  {
   "cell_type": "markdown",
   "metadata": {},
   "source": [
    "As you may recall, we can run command line functions in Jupyter notebooks by putting an exclamation point `!` at the beginning of a cell. For some reason, however, `!twarc filter` and `!twarc search` don't play very well in Jupyter notebooks (or at least they don't play well consistently). Sometimes when you start running them, they won't stop—even when you hit the stop button or try to interrupt the kernel (the equivalent of `Ctrl + C`).\n",
    "\n",
    "Because of this unpredictability, I strongly recommend that you open your Terminal or PowerShell and experiment with the twarc code below by copying it and pasting it into your command line, where you can more easily stop the processes.\n",
    "\n",
    "To give just a taste of twarc in this notebook and to make sure it stops properly, however, we're going to add the `timeout` command, which will stop the process after a certain length of time (seconds `s`, minutes `m`, or hours `h`) . Unfortunately, `timeout` only works for Unix command lines (Mac/Chrome OS)."
   ]
  },
  {
   "cell_type": "markdown",
   "metadata": {},
   "source": [
    "Run a live collection of tweets that include the word \"coronavirus\" for 10 seconds:"
   ]
  },
  {
   "cell_type": "code",
   "execution_count": 35,
   "metadata": {},
   "outputs": [],
   "source": [
    "!timeout 10s twarc  filter \"coronavirus\" > coronavirus_filter.jsonl"
   ]
  },
  {
   "cell_type": "markdown",
   "metadata": {},
   "source": [
    "Run a live collection of tweets that include the word \"Shakespeare\" for 10 seconds:"
   ]
  },
  {
   "cell_type": "code",
   "execution_count": 33,
   "metadata": {},
   "outputs": [],
   "source": [
    "!timeout 10s twarc filter \"Shakespeare\" > shakespeare_filter.jsonl"
   ]
  },
  {
   "cell_type": "markdown",
   "metadata": {},
   "source": [
    "## Twarc From Python/Jupyter Notebooks"
   ]
  },
  {
   "cell_type": "markdown",
   "metadata": {},
   "source": [
    "Though I recommend collecting tweets from the command line, you can also use twarc as a Python library and run it in a Jupyter notebook. To import twarc, run `from twarc import Twarc` (as in the cell below). We're also going to import a library called JSON to help us output a JSON file."
   ]
  },
  {
   "cell_type": "code",
   "execution_count": 42,
   "metadata": {},
   "outputs": [],
   "source": [
    "from twarc import Twarc\n",
    "import json"
   ]
  },
  {
   "cell_type": "markdown",
   "metadata": {},
   "source": [
    "To use Twarc as a Python library, you'll once again need to configure twarc with your [API keys](https://developer.twitter.com/en/apps) (\\*sigh\\*). Copy and paste them into the quotation marks below."
   ]
  },
  {
   "cell_type": "code",
   "execution_count": 44,
   "metadata": {},
   "outputs": [],
   "source": [
    "consumer_key= \"\"\n",
    "consumer_secret = \"\"\n",
    "access_token = \"\"\n",
    "access_token_secret= \"\""
   ]
  },
  {
   "cell_type": "markdown",
   "metadata": {},
   "source": [
    "Quick tip! If you've already set up your Twitter API keys with `twarc configure`, you can find your API keys by running `open ~/.twarc` (Mac/Chrome OS) or `Invoke-Item ~/.twarc` (Windows) from the command line:"
   ]
  },
  {
   "cell_type": "markdown",
   "metadata": {},
   "source": [
    " Mac/Chrome OS"
   ]
  },
  {
   "cell_type": "code",
   "execution_count": 1,
   "metadata": {},
   "outputs": [],
   "source": [
    "!open ~/.twarc"
   ]
  },
  {
   "cell_type": "markdown",
   "metadata": {},
   "source": [
    "<img src=https://upload.wikimedia.org/wikipedia/commons/thumb/3/34/Windows_logo_-_2012_derivative.svg/1024px-Windows_logo_-_2012_derivative.svg.png width=20 align='left'> Windows "
   ]
  },
  {
   "cell_type": "code",
   "execution_count": null,
   "metadata": {},
   "outputs": [],
   "source": [
    "!Invoke-Item ~/.twarc"
   ]
  },
  {
   "cell_type": "markdown",
   "metadata": {},
   "source": [
    "These commands will open the \".twarc\" document that hosts your API keys, and you can simply copy and paste the correct information into the variables in the cell above."
   ]
  },
  {
   "cell_type": "markdown",
   "metadata": {},
   "source": [
    "### Configure Twarc"
   ]
  },
  {
   "cell_type": "code",
   "execution_count": 45,
   "metadata": {},
   "outputs": [],
   "source": [
    "twarc = Twarc(consumer_key, consumer_secret, access_token, access_token_secret)"
   ]
  },
  {
   "cell_type": "markdown",
   "metadata": {},
   "source": [
    "Below I've written a Python function called `collect_live_tweets()` that uses `twarc.filter()`. This function accepts a search query, the number of tweets that you want to collect, and a filename with a .jsonl extension. This function will output your Twitter data to a file with this filename."
   ]
  },
  {
   "cell_type": "markdown",
   "metadata": {},
   "source": [
    "### Make Live Tweet Collection Function"
   ]
  },
  {
   "cell_type": "code",
   "execution_count": 63,
   "metadata": {},
   "outputs": [],
   "source": [
    "def collect_live_tweets(search_query, number_of_desired_tweets, filename):    \n",
    "    \n",
    "    twarc = Twarc(consumer_key, consumer_secret, access_token, access_token_secret)\n",
    "\n",
    "    tweets = []\n",
    "    with open(filename, 'w', encoding='utf-8') as outfile:\n",
    "        for tweet in twarc.filter(search_query):\n",
    "            if len(tweets) < number_of_desired_tweets:\n",
    "                tweets.append(tweet)\n",
    "                json.dump(tweet, outfile)\n",
    "                outfile.write('\\n')\n",
    "            else:\n",
    "                break\n",
    "    return"
   ]
  },
  {
   "cell_type": "markdown",
   "metadata": {},
   "source": [
    "### Run Live Tweet Collection Function"
   ]
  },
  {
   "cell_type": "code",
   "execution_count": 52,
   "metadata": {},
   "outputs": [],
   "source": [
    "collect_live_tweets(\"coronavirus\", 100, \"coronavirus_filter.jsonl\")"
   ]
  },
  {
   "cell_type": "markdown",
   "metadata": {},
   "source": [
    "## Check Number of Tweets Collected"
   ]
  },
  {
   "cell_type": "markdown",
   "metadata": {},
   "source": [
    " Mac/Chrome OS"
   ]
  },
  {
   "cell_type": "code",
   "execution_count": null,
   "metadata": {},
   "outputs": [],
   "source": [
    "!wc -l coronavirus_filter.jsonl"
   ]
  },
  {
   "cell_type": "code",
   "execution_count": null,
   "metadata": {},
   "outputs": [],
   "source": [
    "!wc -l shakespeare_filter.jsonl"
   ]
  },
  {
   "cell_type": "markdown",
   "metadata": {},
   "source": [
    "<img src=https://upload.wikimedia.org/wikipedia/commons/thumb/3/34/Windows_logo_-_2012_derivative.svg/1024px-Windows_logo_-_2012_derivative.svg.png width=20 align='left'> Windows "
   ]
  },
  {
   "cell_type": "code",
   "execution_count": null,
   "metadata": {},
   "outputs": [],
   "source": [
    "!find /v /c “” coronavirus_filter.jsonl"
   ]
  },
  {
   "cell_type": "code",
   "execution_count": null,
   "metadata": {},
   "outputs": [],
   "source": [
    "!find /v /c “” shakespeare_filter.jsonl"
   ]
  },
  {
   "cell_type": "markdown",
   "metadata": {},
   "source": [
    "# Collect Tweets From Past 7 days"
   ]
  },
  {
   "cell_type": "markdown",
   "metadata": {},
   "source": [
    "## Twarc From the Command Line"
   ]
  },
  {
   "cell_type": "markdown",
   "metadata": {},
   "source": [
    "To collect tweets from approximately 7 days in the past, you can use the command `twarc search`, followed by a search query, then the output operator `>` and a filename of your choosing with the \".jsonl\" file extension (which outputs your Twitter data to this JSONL file)."
   ]
  },
  {
   "cell_type": "markdown",
   "metadata": {},
   "source": [
    "Run a collection of tweets from the past ~7 days that include the word \"coronavirus\" for 10 seconds:"
   ]
  },
  {
   "cell_type": "code",
   "execution_count": 49,
   "metadata": {},
   "outputs": [],
   "source": [
    "!timeout 10s twarc search \"coronavirus\" > coronavirus_search.jsonl "
   ]
  },
  {
   "cell_type": "markdown",
   "metadata": {},
   "source": [
    "Run a collection of tweets from the last ~7 days that include the word \"Shakespeare\" for 10 seconds:"
   ]
  },
  {
   "cell_type": "code",
   "execution_count": 8,
   "metadata": {},
   "outputs": [
    {
     "name": "stdout",
     "output_type": "stream",
     "text": [
      "^C\n"
     ]
    }
   ],
   "source": [
    "!timeout 10s twarc search \"Shakespeare\" > shakespeare_search.jsonl "
   ]
  },
  {
   "cell_type": "markdown",
   "metadata": {},
   "source": [
    "## Twarc From Python/Jupyter Notebooks"
   ]
  },
  {
   "cell_type": "markdown",
   "metadata": {},
   "source": [
    "Below I've written a Python function called `collect_past_tweets()` that uses `twarc.search()`. This function accepts a search query, the maximum number of tweets that you want to collect, and a filename with a .jsonl extension. This function will output your Twitter data to a file with this filename. "
   ]
  },
  {
   "cell_type": "markdown",
   "metadata": {},
   "source": [
    "### Make Past Tweet Collection Function"
   ]
  },
  {
   "cell_type": "code",
   "execution_count": 57,
   "metadata": {},
   "outputs": [],
   "source": [
    "def collect_past_tweets(search_query, number_of_max_tweets, filename):    \n",
    "    \n",
    "    twarc = Twarc(consumer_key, consumer_secret, access_token, access_token_secret)\n",
    "\n",
    "    tweets = []\n",
    "    with open(filename, 'w', encoding='utf-8') as outfile:\n",
    "        for tweet in twarc.search(search_query):\n",
    "            if len(tweets) < number_of_max_tweets:\n",
    "                tweets.append(tweet)\n",
    "                json.dump(tweet, outfile)\n",
    "                outfile.write('\\n')\n",
    "            else:\n",
    "                break\n",
    "    return"
   ]
  },
  {
   "cell_type": "markdown",
   "metadata": {},
   "source": [
    "### Run Past Tweet Collection Function"
   ]
  },
  {
   "cell_type": "code",
   "execution_count": 60,
   "metadata": {},
   "outputs": [],
   "source": [
    "collect_past_tweets(\"coronavirus\", 1000, \"coronavirus_search.jsonl\")"
   ]
  },
  {
   "cell_type": "markdown",
   "metadata": {},
   "source": [
    "## Check Number of Tweets Collected"
   ]
  },
  {
   "cell_type": "markdown",
   "metadata": {},
   "source": [
    " Mac/Chrome OS"
   ]
  },
  {
   "cell_type": "code",
   "execution_count": null,
   "metadata": {},
   "outputs": [],
   "source": [
    "!wc -l coronavirus_search.jsonl"
   ]
  },
  {
   "cell_type": "markdown",
   "metadata": {},
   "source": [
    "<img src=https://upload.wikimedia.org/wikipedia/commons/thumb/3/34/Windows_logo_-_2012_derivative.svg/1024px-Windows_logo_-_2012_derivative.svg.png width=20 align='left'> Windows "
   ]
  },
  {
   "cell_type": "code",
   "execution_count": null,
   "metadata": {},
   "outputs": [],
   "source": [
    "!find /v /c “” coronavirus_search.jsonl"
   ]
  },
  {
   "cell_type": "markdown",
   "metadata": {},
   "source": [
    "# Crafting a Good Twitter Query"
   ]
  },
  {
   "cell_type": "markdown",
   "metadata": {},
   "source": [
    "We made relatively simple queries to Twitter's API in the examples above. But there are more specific and more complex ways to make queries.\n",
    "\n",
    "To craft a good Twitter search query, it's important to understand and explore these myriad ways. A researcher named Igor Brigadir has compiled a wonderful resource that details many of the Twitter API search operators: https://github.com/igorbrigadir/twitter-advanced-search/blob/master/README.md"
   ]
  },
  {
   "cell_type": "markdown",
   "metadata": {},
   "source": [
    "## Search for Exact Phrases"
   ]
  },
  {
   "cell_type": "markdown",
   "metadata": {},
   "source": [
    "`twarc search \"\\\"an exact phrase\\\"\"`"
   ]
  },
  {
   "cell_type": "markdown",
   "metadata": {},
   "source": [
    "You can search for an *exact* phrase in a tweet by including the phrase in escaped `\\` quotation marks, as above."
   ]
  },
  {
   "cell_type": "markdown",
   "metadata": {},
   "source": [
    "### \"Not with a bang but with a...\""
   ]
  },
  {
   "cell_type": "markdown",
   "metadata": {},
   "source": [
    "The first phrase that we're going to search for comes from the conclusion of T.S. Eliot's 1925 [poem \"The Hollow Men\"](https://msu.edu/~jungahre/transmedia/the-hollow-men.html):"
   ]
  },
  {
   "cell_type": "markdown",
   "metadata": {},
   "source": [
    ">This is the way the world ends<br>\n",
    ">This is the way the world ends<br>\n",
    ">This is the way the world ends<br>\n",
    ">**Not with a bang but with a whimper.**"
   ]
  },
  {
   "cell_type": "markdown",
   "metadata": {},
   "source": [
    "You've probably heard these lines before, even if you didn't know that they were written by the modernist poet T.S. Eliot. This phrase is a striking example of a bit of literary, poetic language that has gone \"viral\" in 21st-century American culture, both on and off the internet."
   ]
  },
  {
   "cell_type": "markdown",
   "metadata": {},
   "source": [
    "We don't need to include the `timeout` function below because there aren't a ton of tweets from the past 7 days that included \"not with a bang but with a\". Unlike with a live real-time tweet collection, the number of past tweets to be collected is finite. The search will thus complete in a relatively short amount of time, and it should be safe to run even if you have trouble stopping twarc commands in Jupyter notebooks. "
   ]
  },
  {
   "cell_type": "code",
   "execution_count": 13,
   "metadata": {},
   "outputs": [],
   "source": [
    "!twarc search \"\\\"not with a bang but with a\\\"\" > bang.jsonl"
   ]
  },
  {
   "cell_type": "code",
   "execution_count": 69,
   "metadata": {},
   "outputs": [],
   "source": [
    "collect_past_tweets(\"\\\"not with a bang but with a\\\"\", 1000, \"bang.jsonl\")"
   ]
  },
  {
   "cell_type": "markdown",
   "metadata": {},
   "source": [
    "## Search for General Phrases"
   ]
  },
  {
   "cell_type": "markdown",
   "metadata": {},
   "source": [
    "### \"Touch my face\""
   ]
  },
  {
   "cell_type": "markdown",
   "metadata": {},
   "source": [
    "The other phrase we're going to search for comes from public health recommendations about preventing the spread of the coronavirus: that people should avoid touching their faces. Many people are, in light of these recommendations, discovering that it's actually very difficult not to touch your own face.\n",
    "\n",
    "Now the avoidance of touching one's face has sprouted up as a funny Twitter meme. These various \"touch my face\" memes serves as an interesting example of how online communities produce comedy and levity even in times of stress and crisis."
   ]
  },
  {
   "cell_type": "code",
   "execution_count": 960,
   "metadata": {},
   "outputs": [
    {
     "data": {
      "text/html": [
       "<blockquote class=\"twitter-tweet\"><p lang=\"en\" dir=\"ltr\">Working on not touching my face :) <a href=\"https://t.co/qfyNdrDReh\">pic.twitter.com/qfyNdrDReh</a></p>&mdash; Hannah (@McBBQSauce) <a href=\"https://twitter.com/McBBQSauce/status/1235700933801242626?ref_src=twsrc%5Etfw\">March 5, 2020</a></blockquote> <script async src=\"https://platform.twitter.com/widgets.js\" charset=\"utf-8\"></script>"
      ],
      "text/plain": [
       "<IPython.core.display.HTML object>"
      ]
     },
     "metadata": {},
     "output_type": "display_data"
    }
   ],
   "source": [
    "%%html\n",
    "<blockquote class=\"twitter-tweet\"><p lang=\"en\" dir=\"ltr\">Working on not touching my face :) <a href=\"https://t.co/qfyNdrDReh\">pic.twitter.com/qfyNdrDReh</a></p>&mdash; Hannah (@McBBQSauce) <a href=\"https://twitter.com/McBBQSauce/status/1235700933801242626?ref_src=twsrc%5Etfw\">March 5, 2020</a></blockquote> <script async src=\"https://platform.twitter.com/widgets.js\" charset=\"utf-8\"></script>"
   ]
  },
  {
   "cell_type": "code",
   "execution_count": 14,
   "metadata": {},
   "outputs": [],
   "source": [
    "!twarc search \"touch my face min_retweets:10\" > face.jsonl "
   ]
  },
  {
   "cell_type": "code",
   "execution_count": 71,
   "metadata": {},
   "outputs": [],
   "source": [
    "collect_past_tweets(\"touch my face min_retweets:10\", 2000, \"face.jsonl\")"
   ]
  },
  {
   "cell_type": "markdown",
   "metadata": {},
   "source": [
    "  "
   ]
  },
  {
   "cell_type": "markdown",
   "metadata": {},
   "source": [
    "Great! Now we have some Twitter data. But before we dive into analysis, we need to complete one more step. We need to convert this JSON data to CSV data, which will be easier for us to work with. Luckily, there's a twarc \"utility\" for this very purpose."
   ]
  },
  {
   "cell_type": "markdown",
   "metadata": {},
   "source": [
    "# Get Twarc Utilities"
   ]
  },
  {
   "cell_type": "markdown",
   "metadata": {},
   "source": [
    "There are a number of twarc \"utilities\" that enable you to manipulate and analyze Twitter data. With these utilities, you can do things such as convert JSON data to CSV data, count up the most frequent emojis used in tweets, make a network visualization of tweets and Twitter users, and more.\n",
    "\n",
    "These utilities are not available from the `pip install twarc` installation. To access the twarc utilities, you'll need to `git clone` the [twarc GitHub repository](https://github.com/DocNow/twarc) or download it as a zip file.\n",
    "\n",
    "The twarc repository should already be downloaded in your relevant files, but if you uncomment the line below, you can also clone the repository with this line of code."
   ]
  },
  {
   "cell_type": "code",
   "execution_count": 80,
   "metadata": {},
   "outputs": [
    {
     "name": "stdout",
     "output_type": "stream",
     "text": [
      "Cloning into 'twarc'...\n",
      "remote: Enumerating objects: 37, done.\u001b[K\n",
      "remote: Counting objects: 100% (37/37), done.\u001b[K\n",
      "remote: Compressing objects: 100% (28/28), done.\u001b[K\n",
      "remote: Total 3464 (delta 16), reused 23 (delta 9), pack-reused 3427\u001b[K\n",
      "Receiving objects: 100% (3464/3464), 906.45 KiB | 9.96 MiB/s, done.\n",
      "Resolving deltas: 100% (2180/2180), done.\n"
     ]
    }
   ],
   "source": [
    "#!git clone https://github.com/DocNow/twarc.git"
   ]
  },
  {
   "cell_type": "markdown",
   "metadata": {},
   "source": [
    "# Use Twarc Utilities"
   ]
  },
  {
   "cell_type": "markdown",
   "metadata": {},
   "source": [
    "`python twarc/utils/your_desired_util.py tweets.jsonl`"
   ]
  },
  {
   "cell_type": "markdown",
   "metadata": {},
   "source": [
    "To use a twarc utility, you need to call `python` from the command line and then include the utility's file path (they all should be in the \"twarc/utils\" subfolder).\n",
    "\n",
    "Note that if your Jupyter notebook is in exactly the same directory as the \"twarc\" repository, then you can run the code as above. However, if your Jupyter notebook is somewhere else, you will have to direct it to the correct location of \"twarc/utils\". For example`python /Users/melaniewalsh/twarc/utils/your_desired_util.py tweets.jsonl`"
   ]
  },
  {
   "cell_type": "markdown",
   "metadata": {},
   "source": [
    "## Convert JSON to CSV"
   ]
  },
  {
   "cell_type": "markdown",
   "metadata": {},
   "source": [
    "To convert a JSON file to a CSV file, you can run `python twarc/utils/json2csv.py` followed by the JSONL filename, the output operator `>` and your desired filename for the CSV file."
   ]
  },
  {
   "cell_type": "markdown",
   "metadata": {},
   "source": [
    "`python twarc/utils/json2csv.py json_file.jsonl > csv_file.csv`"
   ]
  },
  {
   "cell_type": "markdown",
   "metadata": {},
   "source": [
    "> <img src=https://upload.wikimedia.org/wikipedia/commons/thumb/3/34/Windows_logo_-_2012_derivative.svg/1024px-Windows_logo_-_2012_derivative.svg.png width=20 align='left'> Heads up Windows users! The twarc utility json2csv.py will probably not work on your computer by default. You'll likely get a UnicodeEncodeError because Windows computers do not use Unicode (UTF-8) by default. However, you can make UTF-8 your default by following [these instructions](https://scholarslab.github.io/learn-twarc/08-win-region-settings) and restarting your comptuer. Then json2csv.py should work."
   ]
  },
  {
   "cell_type": "markdown",
   "metadata": {},
   "source": [
    "Make \"bang.jsonl\" into \"bang.csv\" (with an extra field added for the full version of the original retweeted text)"
   ]
  },
  {
   "cell_type": "code",
   "execution_count": 72,
   "metadata": {},
   "outputs": [],
   "source": [
    "!python twarc/utils/json2csv.py --extra-field rt_text retweeted_status.full_text bang.jsonl > bang.csv"
   ]
  },
  {
   "cell_type": "markdown",
   "metadata": {},
   "source": [
    "Make \"face.jsonl\" into \"face.csv\" (with an extra field added for the full version of the original retweeted text)"
   ]
  },
  {
   "cell_type": "code",
   "execution_count": 73,
   "metadata": {},
   "outputs": [],
   "source": [
    "!python twarc/utils/json2csv.py --extra-field rt_text retweeted_status.full_text face.jsonl > face.csv"
   ]
  },
  {
   "cell_type": "markdown",
   "metadata": {},
   "source": [
    "  "
   ]
  }
 ],
 "metadata": {
  "kernelspec": {
   "display_name": "Python 3",
   "language": "python",
   "name": "python3"
  },
  "language_info": {
   "codemirror_mode": {
    "name": "ipython",
    "version": 3
   },
   "file_extension": ".py",
   "mimetype": "text/x-python",
   "name": "python",
   "nbconvert_exporter": "python",
   "pygments_lexer": "ipython3",
   "version": "3.7.5"
  }
 },
 "nbformat": 4,
 "nbformat_minor": 4
}
