{
 "cells": [
  {
   "cell_type": "markdown",
   "metadata": {},
   "source": [
    "# Application Programming Interfaces (APIs)"
   ]
  },
  {
   "cell_type": "markdown",
   "metadata": {},
   "source": [
    "[Download relevant files here](https://melaniewalsh.org/APIs.zip)"
   ]
  },
  {
   "cell_type": "markdown",
   "metadata": {},
   "source": [
    "In the previous lessons, we collected internet data by **\"scraping\"** the surface of Genius.com web pages. We extracted song titles and lyrics based on HTML tags — in other words, based on how the Genius web pages appeared when we, as users, navigated to those pages. But there's another major way of collecting internet data called **Application Programming Interfaces (APIs)**. In this lesson, we're going to use the Genius API and LyricsGenius— a Python package that a data scientist named John Miller created to work with the Genius API—to scrape all the song lyrics for any album on Genius.com.\n",
    "\n",
    "# Introduction\n",
    "\n",
    "## What is an API?\n",
    "\n",
    " APIs allow you to programmatically extract and interact with data under the hood of websites like Genius as well as other social networks, applications, and projects that make their data publicly available, such as Twitter and [The Smithsonian museums](https://www.smithsonianmag.com/smithsonian-institution/smithsonian-releases-28-million-images-public-domain-180974263/?no-cache).\n",
    "\n",
    "An API is something that a project or company explicitly designs for data-sharing purposes. Why do companies or projects go to all this trouble? One reason is that it helps to promote the use and further development of an applications and its data. For example, Twitter wants other developers to use, integrate, and build upon Twitter tools and data when they're making their *own* applications and websites. The Twitter API is the main conduit by which those develops can do so.\n",
    "\n",
    "## Pros and Cons\n",
    "Because APIs are explicitly designed for data-sharing purposes, working with an API is often a cleaner, more reliable, and more streamlined process than web scraping. However, one of the downsides is that the companies and projects that design the APIs get to decide exactly which kinds of data they want to share, and they often choose not to share their most lucrative and desirable data."
   ]
  },
  {
   "cell_type": "markdown",
   "metadata": {},
   "source": [
    "# Genius API"
   ]
  },
  {
   "cell_type": "markdown",
   "metadata": {},
   "source": [
    "We're going to learn about APIs by exploring the API for Genius.com."
   ]
  },
  {
   "cell_type": "markdown",
   "metadata": {},
   "source": [
    "<img src=\"../images/Genius-API.png\" width=100%>"
   ]
  },
  {
   "cell_type": "markdown",
   "metadata": {},
   "source": [
    "# API Keys"
   ]
  },
  {
   "cell_type": "markdown",
   "metadata": {},
   "source": [
    "To use the Genius API, you need a special API key (specifically a \"Client Access Token\"), which is kind of like a password. Many APIs require authentication keys to gain access to them. To get your necessary Genius API keys, you need to navigate to the following URL: https://genius.com/api-clients.\n",
    "\n",
    "You'll be prompted to sign up for [a Genius account](https://genius.com/signup_or_login), which is required to gain API access. Signing up for a Genius account is free and easy. You just need a Genius nickname (which must be one word), an email address, and a password."
   ]
  },
  {
   "cell_type": "markdown",
   "metadata": {},
   "source": [
    "<img src=\"../images/Genius-login.png\" width=100%>"
   ]
  },
  {
   "cell_type": "markdown",
   "metadata": {},
   "source": [
    "Once you're signed in, you should be taken to https://genius.com/api-clients, where you need to click the button that says \"New API Client.\""
   ]
  },
  {
   "cell_type": "markdown",
   "metadata": {},
   "source": [
    "<img src=\"../images/Genius-New-API.png\" width=100%>"
   ]
  },
  {
   "cell_type": "markdown",
   "metadata": {},
   "source": [
    "After clicking \"New API Client,\" you'll be prompted to fill out a short form about the \"App\" that you need the Genius API for. You only need to fill out \"App Name\" and \"App Website URL.\""
   ]
  },
  {
   "cell_type": "markdown",
   "metadata": {},
   "source": [
    "<img src=\"../images/New-API-Client.png\" width=100%>"
   ]
  },
  {
   "cell_type": "markdown",
   "metadata": {},
   "source": [
    "It doesn't really matter what you type in. You can simply put \"Song Lyrics Project\" for the \"App Name\" and the URL for our course website \"https://melaniewalsh.github.io/Intro-Cultural-Analytics/\" for the \"App Website URL.\""
   ]
  },
  {
   "cell_type": "markdown",
   "metadata": {},
   "source": [
    "When you click \"Save,\" you'll be given a series of API Keys: a \"Client ID\" and a \"Client Secret.\" To generate your \"Client Access Token,\" which is the API key that we'll be using in this notebook, you need to click \"Generate Access Token\"."
   ]
  },
  {
   "cell_type": "markdown",
   "metadata": {},
   "source": [
    "<img src=\"../images/Access-Token.png\" width=100%>"
   ]
  },
  {
   "cell_type": "markdown",
   "metadata": {},
   "source": [
    "Finally, copy and paste your \"Client Access Token\" into the quotation marks below, and run the cell to save your variable "
   ]
  },
  {
   "cell_type": "code",
   "execution_count": null,
   "metadata": {},
   "outputs": [],
   "source": [
    "client_access_token = \"INSERT YOUR CLIENT ACCESES TOKEN\""
   ]
  },
  {
   "cell_type": "markdown",
   "metadata": {},
   "source": [
    "### Protecting Your API Key"
   ]
  },
  {
   "cell_type": "markdown",
   "metadata": {},
   "source": [
    "For this lesson, if you just copy and paste your Genius API key into your Jupyter notebook, everything should be fine. But that's actually not the best way of storing your API keys. If you published this notebook to GitHub, for example, other people might be able to read and use/steal your API key.\n",
    "\n",
    "For this reason, it's best practice to keep your API keys away from your code, such as in another file. For example, I made a new Python file called \"api_key.py\" that contains just one variable `your_client_access_token = \"MY API KEY\"`, and I can import this variable into my notebook with `import api_key`. "
   ]
  },
  {
   "cell_type": "code",
   "execution_count": 1,
   "metadata": {},
   "outputs": [],
   "source": [
    "import api_key"
   ]
  },
  {
   "cell_type": "markdown",
   "metadata": {},
   "source": [
    "By importing this Python file/module, I get access to the variable `your_client_access_token` without ever explicitly typing my secret API token in this notebook. If I wanted to publish this notebook to GitHub, then I could ignore or leave out the \"api_key.py\" file that actually contains my Client Access Token."
   ]
  },
  {
   "cell_type": "code",
   "execution_count": 2,
   "metadata": {},
   "outputs": [
    {
     "data": {
      "text/plain": [
       "'INSERT YOUR API KEY HERE'"
      ]
     },
     "execution_count": 2,
     "metadata": {},
     "output_type": "execute_result"
    }
   ],
   "source": [
    "api_key.your_client_access_token"
   ]
  },
  {
   "cell_type": "code",
   "execution_count": 3,
   "metadata": {},
   "outputs": [],
   "source": [
    "client_access_token = api_key.your_client_access_token"
   ]
  },
  {
   "cell_type": "markdown",
   "metadata": {},
   "source": [
    "# Making an API Request"
   ]
  },
  {
   "cell_type": "markdown",
   "metadata": {},
   "source": [
    "Making an API request looks a lot like typing a specially-formatted URL. That's kind of what it is. But instead of getting a rendered HTML web page in return, you get some data in return.\n",
    "\n",
    "There are a few different ways that we can query the Genius API, all of which are discussed in the [Genius API documentation](https://docs.genius.com/#songs-h2). The way we're going to cover in this lesson is [the basic search](https://docs.genius.com/#search-h2), which allows you to get a bunch of Genius data about any artist or songs that you search for, and it looks something like this:"
   ]
  },
  {
   "cell_type": "markdown",
   "metadata": {},
   "source": [
    "`http://api.genius.com/search?q={search_term}&access_token={client_access_token}`"
   ]
  },
  {
   "cell_type": "markdown",
   "metadata": {},
   "source": [
    "Sticking with our Missy Elliott theme/obsession, we're going to search for Genius data about Missy Elliott.\n",
    "\n",
    "First we're going to assign the string \"Missy Elliott\" to the variable `search_term`. Then we're going to make an f-string URL that contains the variables `search_term` and `client_access_token`."
   ]
  },
  {
   "cell_type": "code",
   "execution_count": 18,
   "metadata": {},
   "outputs": [],
   "source": [
    "search_term = \"Missy Elliott\""
   ]
  },
  {
   "cell_type": "code",
   "execution_count": 19,
   "metadata": {},
   "outputs": [],
   "source": [
    "genius_search_url = f\"http://api.genius.com/search?q={search_term}&access_token={client_access_token}\""
   ]
  },
  {
   "cell_type": "markdown",
   "metadata": {},
   "source": [
    "This URL is basically all we need to make a Genius API request. Want proof? Run the cell below and print this URL, then copy and paste it into a new tab in your web browser."
   ]
  },
  {
   "cell_type": "code",
   "execution_count": 16,
   "metadata": {},
   "outputs": [
    {
     "name": "stdout",
     "output_type": "stream",
     "text": [
      "http://api.genius.com/search?q=Missy Elliott&access_token=rY1dvIUUg_dUqISKKmPItoRHRMFmPm5nSGSFwlbMXaJAwp90HXg5t8XMxFV1g92t\n"
     ]
    }
   ],
   "source": [
    "print(genius_search_url)"
   ]
  },
  {
   "cell_type": "markdown",
   "metadata": {},
   "source": [
    "It doesn't look pretty, but that's a bunch of Genius data about Missy Elliott!\n",
    "\n",
    "We can programmatically do the same thing by again using the Python library `requests` with this URL. Instead of getting the `.text` of the response, as we did before, we're going to use `.json()`.\n",
    "\n",
    "[JSON](https://www.w3schools.com/whatis/whatis_json.asp) is a data format that is commonly used by APIs. It's kind of like a more complex CSV file. JSON data can be nested and contains key/value pairs (much like a Python dictionary)."
   ]
  },
  {
   "cell_type": "code",
   "execution_count": 22,
   "metadata": {},
   "outputs": [],
   "source": [
    "import requests"
   ]
  },
  {
   "cell_type": "code",
   "execution_count": 23,
   "metadata": {},
   "outputs": [],
   "source": [
    "response = requests.get(genius_search_url)\n",
    "json_data = response.json()"
   ]
  },
  {
   "cell_type": "markdown",
   "metadata": {},
   "source": [
    "The JSON data that we get from our Missy Elliott API query looks something like this:"
   ]
  },
  {
   "cell_type": "code",
   "execution_count": 25,
   "metadata": {
    "scrolled": true,
    "tags": [
     "output_scroll"
    ]
   },
   "outputs": [
    {
     "data": {
      "text/plain": [
       "{'meta': {'status': 200},\n",
       " 'response': {'hits': [{'highlights': [],\n",
       "    'index': 'song',\n",
       "    'type': 'song',\n",
       "    'result': {'annotation_count': 32,\n",
       "     'api_path': '/songs/4176',\n",
       "     'full_title': 'Work It by\\xa0Missy\\xa0Elliott',\n",
       "     'header_image_thumbnail_url': 'https://images.genius.com/27c1fbfef17041b435302af288cfa0c6.300x311x1.jpg',\n",
       "     'header_image_url': 'https://images.genius.com/27c1fbfef17041b435302af288cfa0c6.482x500x1.jpg',\n",
       "     'id': 4176,\n",
       "     'lyrics_owner_id': 6654,\n",
       "     'lyrics_state': 'complete',\n",
       "     'path': '/Missy-elliott-work-it-lyrics',\n",
       "     'pyongs_count': 37,\n",
       "     'song_art_image_thumbnail_url': 'https://images.genius.com/27c1fbfef17041b435302af288cfa0c6.300x311x1.jpg',\n",
       "     'song_art_image_url': 'https://images.genius.com/27c1fbfef17041b435302af288cfa0c6.482x500x1.jpg',\n",
       "     'stats': {'unreviewed_annotations': 3,\n",
       "      'hot': False,\n",
       "      'pageviews': 1024133},\n",
       "     'title': 'Work It',\n",
       "     'title_with_featured': 'Work It',\n",
       "     'url': 'https://genius.com/Missy-elliott-work-it-lyrics',\n",
       "     'primary_artist': {'api_path': '/artists/1529',\n",
       "      'header_image_url': 'https://images.genius.com/d91c82fa4ae2f1016fadc1c24fbbc59e.1000x333x1.jpg',\n",
       "      'id': 1529,\n",
       "      'image_url': 'https://images.genius.com/085828b7d79bf8cf068b1557ca7a5e4c.1000x1000x1.jpg',\n",
       "      'is_meme_verified': False,\n",
       "      'is_verified': False,\n",
       "      'name': 'Missy Elliott',\n",
       "      'url': 'https://genius.com/artists/Missy-elliott'}}},\n",
       "   {'highlights': [],\n",
       "    'index': 'song',\n",
       "    'type': 'song',\n",
       "    'result': {'annotation_count': 27,\n",
       "     'api_path': '/songs/2368201',\n",
       "     'full_title': 'WTF (Where They From) by\\xa0Missy\\xa0Elliott (Ft.\\xa0Pharrell\\xa0Williams)',\n",
       "     'header_image_thumbnail_url': 'https://images.rapgenius.com/a439d6d6020559ffe7c10f0d73722de1.300x300x1.jpg',\n",
       "     'header_image_url': 'https://images.rapgenius.com/a439d6d6020559ffe7c10f0d73722de1.1000x1000x1.jpg',\n",
       "     'id': 2368201,\n",
       "     'lyrics_owner_id': 282633,\n",
       "     'lyrics_state': 'complete',\n",
       "     'path': '/Missy-elliott-wtf-where-they-from-lyrics',\n",
       "     'pyongs_count': 86,\n",
       "     'song_art_image_thumbnail_url': 'https://images.rapgenius.com/a439d6d6020559ffe7c10f0d73722de1.300x300x1.jpg',\n",
       "     'song_art_image_url': 'https://images.rapgenius.com/a439d6d6020559ffe7c10f0d73722de1.1000x1000x1.jpg',\n",
       "     'stats': {'unreviewed_annotations': 0, 'hot': False, 'pageviews': 283487},\n",
       "     'title': 'WTF (Where They From)',\n",
       "     'title_with_featured': 'WTF (Where They From) (Ft.\\xa0Pharrell\\xa0Williams)',\n",
       "     'url': 'https://genius.com/Missy-elliott-wtf-where-they-from-lyrics',\n",
       "     'primary_artist': {'api_path': '/artists/1529',\n",
       "      'header_image_url': 'https://images.genius.com/d91c82fa4ae2f1016fadc1c24fbbc59e.1000x333x1.jpg',\n",
       "      'id': 1529,\n",
       "      'image_url': 'https://images.genius.com/085828b7d79bf8cf068b1557ca7a5e4c.1000x1000x1.jpg',\n",
       "      'is_meme_verified': False,\n",
       "      'is_verified': False,\n",
       "      'name': 'Missy Elliott',\n",
       "      'url': 'https://genius.com/artists/Missy-elliott'}}},\n",
       "   {'highlights': [],\n",
       "    'index': 'song',\n",
       "    'type': 'song',\n",
       "    'result': {'annotation_count': 14,\n",
       "     'api_path': '/songs/4640',\n",
       "     'full_title': 'Get Ur Freak On by\\xa0Missy\\xa0Elliott',\n",
       "     'header_image_thumbnail_url': 'https://images.genius.com/338e122c1534b6f6363afb06f77912cf.300x259x1.jpg',\n",
       "     'header_image_url': 'https://images.genius.com/338e122c1534b6f6363afb06f77912cf.300x259x1.jpg',\n",
       "     'id': 4640,\n",
       "     'lyrics_owner_id': 1297,\n",
       "     'lyrics_state': 'complete',\n",
       "     'path': '/Missy-elliott-get-ur-freak-on-lyrics',\n",
       "     'pyongs_count': 15,\n",
       "     'song_art_image_thumbnail_url': 'https://images.genius.com/338e122c1534b6f6363afb06f77912cf.300x259x1.jpg',\n",
       "     'song_art_image_url': 'https://images.genius.com/338e122c1534b6f6363afb06f77912cf.300x259x1.jpg',\n",
       "     'stats': {'unreviewed_annotations': 0, 'hot': False, 'pageviews': 132080},\n",
       "     'title': 'Get Ur Freak On',\n",
       "     'title_with_featured': 'Get Ur Freak On',\n",
       "     'url': 'https://genius.com/Missy-elliott-get-ur-freak-on-lyrics',\n",
       "     'primary_artist': {'api_path': '/artists/1529',\n",
       "      'header_image_url': 'https://images.genius.com/d91c82fa4ae2f1016fadc1c24fbbc59e.1000x333x1.jpg',\n",
       "      'id': 1529,\n",
       "      'image_url': 'https://images.genius.com/085828b7d79bf8cf068b1557ca7a5e4c.1000x1000x1.jpg',\n",
       "      'is_meme_verified': False,\n",
       "      'is_verified': False,\n",
       "      'name': 'Missy Elliott',\n",
       "      'url': 'https://genius.com/artists/Missy-elliott'}}},\n",
       "   {'highlights': [],\n",
       "    'index': 'song',\n",
       "    'type': 'song',\n",
       "    'result': {'annotation_count': 9,\n",
       "     'api_path': '/songs/2967124',\n",
       "     'full_title': \"I'm Better by\\xa0Missy\\xa0Elliott (Ft.\\xa0Cainon\\xa0Lamb)\",\n",
       "     'header_image_thumbnail_url': 'https://images.genius.com/609afe10820cce09ce9e3c768518c63c.300x300x1.jpg',\n",
       "     'header_image_url': 'https://images.genius.com/609afe10820cce09ce9e3c768518c63c.600x600x1.jpg',\n",
       "     'id': 2967124,\n",
       "     'lyrics_owner_id': 3075478,\n",
       "     'lyrics_state': 'complete',\n",
       "     'path': '/Missy-elliott-im-better-lyrics',\n",
       "     'pyongs_count': 13,\n",
       "     'song_art_image_thumbnail_url': 'https://images.genius.com/609afe10820cce09ce9e3c768518c63c.300x300x1.jpg',\n",
       "     'song_art_image_url': 'https://images.genius.com/609afe10820cce09ce9e3c768518c63c.600x600x1.jpg',\n",
       "     'stats': {'unreviewed_annotations': 0, 'hot': False, 'pageviews': 101908},\n",
       "     'title': 'I’m Better',\n",
       "     'title_with_featured': \"I'm Better (Ft.\\xa0Cainon\\xa0Lamb)\",\n",
       "     'url': 'https://genius.com/Missy-elliott-im-better-lyrics',\n",
       "     'primary_artist': {'api_path': '/artists/1529',\n",
       "      'header_image_url': 'https://images.genius.com/d91c82fa4ae2f1016fadc1c24fbbc59e.1000x333x1.jpg',\n",
       "      'id': 1529,\n",
       "      'image_url': 'https://images.genius.com/085828b7d79bf8cf068b1557ca7a5e4c.1000x1000x1.jpg',\n",
       "      'is_meme_verified': False,\n",
       "      'is_verified': False,\n",
       "      'name': 'Missy Elliott',\n",
       "      'url': 'https://genius.com/artists/Missy-elliott'}}},\n",
       "   {'highlights': [],\n",
       "    'index': 'song',\n",
       "    'type': 'song',\n",
       "    'result': {'annotation_count': 41,\n",
       "     'api_path': '/songs/4173',\n",
       "     'full_title': 'Gossip Folks by\\xa0Missy\\xa0Elliott (Ft.\\xa0Ludacris)',\n",
       "     'header_image_thumbnail_url': 'https://images.genius.com/206153c53d05804677e236aa2ae4eb45.300x300x1.jpg',\n",
       "     'header_image_url': 'https://images.genius.com/206153c53d05804677e236aa2ae4eb45.600x600x1.jpg',\n",
       "     'id': 4173,\n",
       "     'lyrics_owner_id': 6654,\n",
       "     'lyrics_state': 'complete',\n",
       "     'path': '/Missy-elliott-gossip-folks-lyrics',\n",
       "     'pyongs_count': 7,\n",
       "     'song_art_image_thumbnail_url': 'https://images.genius.com/206153c53d05804677e236aa2ae4eb45.300x300x1.jpg',\n",
       "     'song_art_image_url': 'https://images.genius.com/206153c53d05804677e236aa2ae4eb45.600x600x1.jpg',\n",
       "     'stats': {'unreviewed_annotations': 0, 'hot': False, 'pageviews': 92595},\n",
       "     'title': 'Gossip Folks',\n",
       "     'title_with_featured': 'Gossip Folks (Ft.\\xa0Ludacris)',\n",
       "     'url': 'https://genius.com/Missy-elliott-gossip-folks-lyrics',\n",
       "     'primary_artist': {'api_path': '/artists/1529',\n",
       "      'header_image_url': 'https://images.genius.com/d91c82fa4ae2f1016fadc1c24fbbc59e.1000x333x1.jpg',\n",
       "      'id': 1529,\n",
       "      'image_url': 'https://images.genius.com/085828b7d79bf8cf068b1557ca7a5e4c.1000x1000x1.jpg',\n",
       "      'is_meme_verified': False,\n",
       "      'is_verified': False,\n",
       "      'name': 'Missy Elliott',\n",
       "      'url': 'https://genius.com/artists/Missy-elliott'}}},\n",
       "   {'highlights': [],\n",
       "    'index': 'song',\n",
       "    'type': 'song',\n",
       "    'result': {'annotation_count': 16,\n",
       "     'api_path': '/songs/128',\n",
       "     'full_title': 'The Rain (Supa Dupa Fly) by\\xa0Missy\\xa0Elliott',\n",
       "     'header_image_thumbnail_url': 'https://images.genius.com/a1543159342cd360256c12b42185771f.300x308x1.jpg',\n",
       "     'header_image_url': 'https://images.genius.com/a1543159342cd360256c12b42185771f.975x1000x1.jpg',\n",
       "     'id': 128,\n",
       "     'lyrics_owner_id': 4619460,\n",
       "     'lyrics_state': 'complete',\n",
       "     'path': '/Missy-elliott-the-rain-supa-dupa-fly-lyrics',\n",
       "     'pyongs_count': 6,\n",
       "     'song_art_image_thumbnail_url': 'https://images.genius.com/a1543159342cd360256c12b42185771f.300x308x1.jpg',\n",
       "     'song_art_image_url': 'https://images.genius.com/a1543159342cd360256c12b42185771f.975x1000x1.jpg',\n",
       "     'stats': {'unreviewed_annotations': 0, 'hot': False, 'pageviews': 84662},\n",
       "     'title': 'The Rain (Supa Dupa Fly)',\n",
       "     'title_with_featured': 'The Rain (Supa Dupa Fly)',\n",
       "     'url': 'https://genius.com/Missy-elliott-the-rain-supa-dupa-fly-lyrics',\n",
       "     'primary_artist': {'api_path': '/artists/1529',\n",
       "      'header_image_url': 'https://images.genius.com/d91c82fa4ae2f1016fadc1c24fbbc59e.1000x333x1.jpg',\n",
       "      'id': 1529,\n",
       "      'image_url': 'https://images.genius.com/085828b7d79bf8cf068b1557ca7a5e4c.1000x1000x1.jpg',\n",
       "      'is_meme_verified': False,\n",
       "      'is_verified': False,\n",
       "      'name': 'Missy Elliott',\n",
       "      'url': 'https://genius.com/artists/Missy-elliott'}}},\n",
       "   {'highlights': [],\n",
       "    'index': 'song',\n",
       "    'type': 'song',\n",
       "    'result': {'annotation_count': 5,\n",
       "     'api_path': '/songs/33158',\n",
       "     'full_title': 'Lose Control by\\xa0Missy\\xa0Elliott (Ft.\\xa0Ciara & Fatman\\xa0Scoop)',\n",
       "     'header_image_thumbnail_url': 'https://images.genius.com/51639e476eac5cb5bed5794c023763ff.300x303x1.jpg',\n",
       "     'header_image_url': 'https://images.genius.com/51639e476eac5cb5bed5794c023763ff.700x707x1.jpg',\n",
       "     'id': 33158,\n",
       "     'lyrics_owner_id': 50,\n",
       "     'lyrics_state': 'complete',\n",
       "     'path': '/Missy-elliott-lose-control-lyrics',\n",
       "     'pyongs_count': 10,\n",
       "     'song_art_image_thumbnail_url': 'https://images.genius.com/51639e476eac5cb5bed5794c023763ff.300x303x1.jpg',\n",
       "     'song_art_image_url': 'https://images.genius.com/51639e476eac5cb5bed5794c023763ff.700x707x1.jpg',\n",
       "     'stats': {'unreviewed_annotations': 0, 'hot': False, 'pageviews': 74377},\n",
       "     'title': 'Lose Control',\n",
       "     'title_with_featured': 'Lose Control (Ft.\\xa0Ciara & Fatman\\xa0Scoop)',\n",
       "     'url': 'https://genius.com/Missy-elliott-lose-control-lyrics',\n",
       "     'primary_artist': {'api_path': '/artists/1529',\n",
       "      'header_image_url': 'https://images.genius.com/d91c82fa4ae2f1016fadc1c24fbbc59e.1000x333x1.jpg',\n",
       "      'id': 1529,\n",
       "      'image_url': 'https://images.genius.com/085828b7d79bf8cf068b1557ca7a5e4c.1000x1000x1.jpg',\n",
       "      'is_meme_verified': False,\n",
       "      'is_verified': False,\n",
       "      'name': 'Missy Elliott',\n",
       "      'url': 'https://genius.com/artists/Missy-elliott'}}},\n",
       "   {'highlights': [],\n",
       "    'index': 'song',\n",
       "    'type': 'song',\n",
       "    'result': {'annotation_count': 12,\n",
       "     'api_path': '/songs/4671',\n",
       "     'full_title': 'One Minute Man by\\xa0Missy\\xa0Elliott (Ft.\\xa0Ludacris & Trina)',\n",
       "     'header_image_thumbnail_url': 'https://images.genius.com/faad336511ca96884fc642f4beeba1a6.300x300x1.jpg',\n",
       "     'header_image_url': 'https://images.genius.com/faad336511ca96884fc642f4beeba1a6.1000x1000x1.jpg',\n",
       "     'id': 4671,\n",
       "     'lyrics_owner_id': 7299,\n",
       "     'lyrics_state': 'complete',\n",
       "     'path': '/Missy-elliott-one-minute-man-lyrics',\n",
       "     'pyongs_count': 6,\n",
       "     'song_art_image_thumbnail_url': 'https://images.genius.com/faad336511ca96884fc642f4beeba1a6.300x300x1.jpg',\n",
       "     'song_art_image_url': 'https://images.genius.com/faad336511ca96884fc642f4beeba1a6.1000x1000x1.jpg',\n",
       "     'stats': {'unreviewed_annotations': 0, 'hot': False, 'pageviews': 56326},\n",
       "     'title': 'One Minute Man',\n",
       "     'title_with_featured': 'One Minute Man (Ft.\\xa0Ludacris & Trina)',\n",
       "     'url': 'https://genius.com/Missy-elliott-one-minute-man-lyrics',\n",
       "     'primary_artist': {'api_path': '/artists/1529',\n",
       "      'header_image_url': 'https://images.genius.com/d91c82fa4ae2f1016fadc1c24fbbc59e.1000x333x1.jpg',\n",
       "      'id': 1529,\n",
       "      'image_url': 'https://images.genius.com/085828b7d79bf8cf068b1557ca7a5e4c.1000x1000x1.jpg',\n",
       "      'is_meme_verified': False,\n",
       "      'is_verified': False,\n",
       "      'name': 'Missy Elliott',\n",
       "      'url': 'https://genius.com/artists/Missy-elliott'}}},\n",
       "   {'highlights': [],\n",
       "    'index': 'song',\n",
       "    'type': 'song',\n",
       "    'result': {'annotation_count': 17,\n",
       "     'api_path': '/songs/33191',\n",
       "     'full_title': 'Pass That Dutch by\\xa0Missy\\xa0Elliott',\n",
       "     'header_image_thumbnail_url': 'https://images.genius.com/8c2a5015c6ba9e5f0c154f9a20f14534.300x300x1.jpg',\n",
       "     'header_image_url': 'https://images.genius.com/8c2a5015c6ba9e5f0c154f9a20f14534.583x583x1.jpg',\n",
       "     'id': 33191,\n",
       "     'lyrics_owner_id': 50,\n",
       "     'lyrics_state': 'complete',\n",
       "     'path': '/Missy-elliott-pass-that-dutch-lyrics',\n",
       "     'pyongs_count': 5,\n",
       "     'song_art_image_thumbnail_url': 'https://images.genius.com/8c2a5015c6ba9e5f0c154f9a20f14534.300x300x1.jpg',\n",
       "     'song_art_image_url': 'https://images.genius.com/8c2a5015c6ba9e5f0c154f9a20f14534.583x583x1.jpg',\n",
       "     'stats': {'unreviewed_annotations': 1, 'hot': False, 'pageviews': 40070},\n",
       "     'title': 'Pass That Dutch',\n",
       "     'title_with_featured': 'Pass That Dutch',\n",
       "     'url': 'https://genius.com/Missy-elliott-pass-that-dutch-lyrics',\n",
       "     'primary_artist': {'api_path': '/artists/1529',\n",
       "      'header_image_url': 'https://images.genius.com/d91c82fa4ae2f1016fadc1c24fbbc59e.1000x333x1.jpg',\n",
       "      'id': 1529,\n",
       "      'image_url': 'https://images.genius.com/085828b7d79bf8cf068b1557ca7a5e4c.1000x1000x1.jpg',\n",
       "      'is_meme_verified': False,\n",
       "      'is_verified': False,\n",
       "      'name': 'Missy Elliott',\n",
       "      'url': 'https://genius.com/artists/Missy-elliott'}}},\n",
       "   {'highlights': [],\n",
       "    'index': 'song',\n",
       "    'type': 'song',\n",
       "    'result': {'annotation_count': 1,\n",
       "     'api_path': '/songs/4042648',\n",
       "     'full_title': 'This Is Me (The Reimagined Remix) by\\xa0Keala\\xa0Settle, Kesha & Missy Elliott',\n",
       "     'header_image_thumbnail_url': 'https://images.genius.com/29f15eb96f814e785598d0eea14126a7.300x300x1.png',\n",
       "     'header_image_url': 'https://images.genius.com/29f15eb96f814e785598d0eea14126a7.1000x1000x1.png',\n",
       "     'id': 4042648,\n",
       "     'lyrics_owner_id': 93685,\n",
       "     'lyrics_state': 'complete',\n",
       "     'path': '/Keala-settle-kesha-and-missy-elliott-this-is-me-the-reimagined-remix-lyrics',\n",
       "     'pyongs_count': 15,\n",
       "     'song_art_image_thumbnail_url': 'https://images.genius.com/29f15eb96f814e785598d0eea14126a7.300x300x1.png',\n",
       "     'song_art_image_url': 'https://images.genius.com/29f15eb96f814e785598d0eea14126a7.1000x1000x1.png',\n",
       "     'stats': {'unreviewed_annotations': 1, 'hot': False, 'pageviews': 41422},\n",
       "     'title': 'This Is Me (The Reimagined Remix)',\n",
       "     'title_with_featured': 'This Is Me (The Reimagined Remix)',\n",
       "     'url': 'https://genius.com/Keala-settle-kesha-and-missy-elliott-this-is-me-the-reimagined-remix-lyrics',\n",
       "     'primary_artist': {'api_path': '/artists/1600466',\n",
       "      'header_image_url': 'https://assets.genius.com/images/default_avatar_300.png?1583358002',\n",
       "      'id': 1600466,\n",
       "      'image_url': 'https://assets.genius.com/images/default_avatar_300.png?1583358002',\n",
       "      'is_meme_verified': False,\n",
       "      'is_verified': False,\n",
       "      'name': 'Keala Settle, Kesha & Missy Elliott',\n",
       "      'url': 'https://genius.com/artists/Keala-settle-kesha-and-missy-elliott'}}}]}}"
      ]
     },
     "execution_count": 25,
     "metadata": {},
     "output_type": "execute_result"
    }
   ],
   "source": [
    "json_data"
   ]
  },
  {
   "cell_type": "markdown",
   "metadata": {},
   "source": [
    "We can index this data (again, like a Python dictionary) and look at the first \"hit\" about Missy Elliott from Genius.com."
   ]
  },
  {
   "cell_type": "code",
   "execution_count": 345,
   "metadata": {},
   "outputs": [
    {
     "data": {
      "text/plain": [
       "{'highlights': [],\n",
       " 'index': 'song',\n",
       " 'type': 'song',\n",
       " 'result': {'annotation_count': 32,\n",
       "  'api_path': '/songs/4176',\n",
       "  'full_title': 'Work It by\\xa0Missy\\xa0Elliott',\n",
       "  'header_image_thumbnail_url': 'https://images.genius.com/27c1fbfef17041b435302af288cfa0c6.300x311x1.jpg',\n",
       "  'header_image_url': 'https://images.genius.com/27c1fbfef17041b435302af288cfa0c6.482x500x1.jpg',\n",
       "  'id': 4176,\n",
       "  'lyrics_owner_id': 6654,\n",
       "  'lyrics_state': 'complete',\n",
       "  'path': '/Missy-elliott-work-it-lyrics',\n",
       "  'pyongs_count': 37,\n",
       "  'song_art_image_thumbnail_url': 'https://images.genius.com/27c1fbfef17041b435302af288cfa0c6.300x311x1.jpg',\n",
       "  'song_art_image_url': 'https://images.genius.com/27c1fbfef17041b435302af288cfa0c6.482x500x1.jpg',\n",
       "  'stats': {'unreviewed_annotations': 3,\n",
       "   'concurrents': 2,\n",
       "   'hot': False,\n",
       "   'pageviews': 1023939},\n",
       "  'title': 'Work It',\n",
       "  'title_with_featured': 'Work It',\n",
       "  'url': 'https://genius.com/Missy-elliott-work-it-lyrics',\n",
       "  'primary_artist': {'api_path': '/artists/1529',\n",
       "   'header_image_url': 'https://images.genius.com/d91c82fa4ae2f1016fadc1c24fbbc59e.1000x333x1.jpg',\n",
       "   'id': 1529,\n",
       "   'image_url': 'https://images.genius.com/085828b7d79bf8cf068b1557ca7a5e4c.1000x1000x1.jpg',\n",
       "   'is_meme_verified': False,\n",
       "   'is_verified': False,\n",
       "   'name': 'Missy Elliott',\n",
       "   'url': 'https://genius.com/artists/Missy-elliott'}}}"
      ]
     },
     "execution_count": 345,
     "metadata": {},
     "output_type": "execute_result"
    }
   ],
   "source": [
    "json_data['response']['hits'][0]"
   ]
  },
  {
   "cell_type": "markdown",
   "metadata": {},
   "source": [
    "We can tell that this data describes the song \"Work It\" and contains other information about the song, such as its number of Genius annotations, its number of web page views, and links to images of its album cover."
   ]
  },
  {
   "cell_type": "markdown",
   "metadata": {},
   "source": [
    "# Looping Through JSON Data"
   ]
  },
  {
   "cell_type": "markdown",
   "metadata": {},
   "source": [
    "## Get Song Titles"
   ]
  },
  {
   "cell_type": "code",
   "execution_count": 26,
   "metadata": {},
   "outputs": [
    {
     "name": "stdout",
     "output_type": "stream",
     "text": [
      "Work It by Missy Elliott\n",
      "WTF (Where They From) by Missy Elliott (Ft. Pharrell Williams)\n",
      "Get Ur Freak On by Missy Elliott\n",
      "I'm Better by Missy Elliott (Ft. Cainon Lamb)\n",
      "Gossip Folks by Missy Elliott (Ft. Ludacris)\n",
      "The Rain (Supa Dupa Fly) by Missy Elliott\n",
      "Lose Control by Missy Elliott (Ft. Ciara & Fatman Scoop)\n",
      "One Minute Man by Missy Elliott (Ft. Ludacris & Trina)\n",
      "Pass That Dutch by Missy Elliott\n",
      "This Is Me (The Reimagined Remix) by Keala Settle, Kesha & Missy Elliott\n"
     ]
    }
   ],
   "source": [
    "for song in json_data['response']['hits']:\n",
    "    print(song['result']['full_title'])"
   ]
  },
  {
   "cell_type": "markdown",
   "metadata": {},
   "source": [
    "## Get Song Tiles and Page View Counts"
   ]
  },
  {
   "cell_type": "code",
   "execution_count": 27,
   "metadata": {},
   "outputs": [
    {
     "name": "stdout",
     "output_type": "stream",
     "text": [
      "Work It by Missy Elliott 1024133\n",
      "WTF (Where They From) by Missy Elliott (Ft. Pharrell Williams) 283487\n",
      "Get Ur Freak On by Missy Elliott 132080\n",
      "I'm Better by Missy Elliott (Ft. Cainon Lamb) 101908\n",
      "Gossip Folks by Missy Elliott (Ft. Ludacris) 92595\n",
      "The Rain (Supa Dupa Fly) by Missy Elliott 84662\n",
      "Lose Control by Missy Elliott (Ft. Ciara & Fatman Scoop) 74377\n",
      "One Minute Man by Missy Elliott (Ft. Ludacris & Trina) 56326\n",
      "Pass That Dutch by Missy Elliott 40070\n",
      "This Is Me (The Reimagined Remix) by Keala Settle, Kesha & Missy Elliott 41422\n"
     ]
    }
   ],
   "source": [
    "for song in json_data['response']['hits']:\n",
    "    print(song['result']['full_title'], song['result']['stats']['pageviews'])"
   ]
  },
  {
   "cell_type": "markdown",
   "metadata": {},
   "source": [
    "## Transform Song Titles and Page View Counts into a DataFrame"
   ]
  },
  {
   "cell_type": "markdown",
   "metadata": {},
   "source": [
    "We can loop through this data, append it into a list, and then transform that list into a Pandas dataframe by calling `pd.DataFrame()`"
   ]
  },
  {
   "cell_type": "code",
   "execution_count": 32,
   "metadata": {},
   "outputs": [],
   "source": [
    "import pandas as pd"
   ]
  },
  {
   "cell_type": "code",
   "execution_count": 33,
   "metadata": {},
   "outputs": [
    {
     "data": {
      "text/html": [
       "<div>\n",
       "<style scoped>\n",
       "    .dataframe tbody tr th:only-of-type {\n",
       "        vertical-align: middle;\n",
       "    }\n",
       "\n",
       "    .dataframe tbody tr th {\n",
       "        vertical-align: top;\n",
       "    }\n",
       "\n",
       "    .dataframe thead th {\n",
       "        text-align: right;\n",
       "    }\n",
       "</style>\n",
       "<table border=\"1\" class=\"dataframe\">\n",
       "  <thead>\n",
       "    <tr style=\"text-align: right;\">\n",
       "      <th></th>\n",
       "      <th>song_title</th>\n",
       "      <th>page_views</th>\n",
       "    </tr>\n",
       "  </thead>\n",
       "  <tbody>\n",
       "    <tr>\n",
       "      <th>0</th>\n",
       "      <td>Work It by Missy Elliott</td>\n",
       "      <td>1024133</td>\n",
       "    </tr>\n",
       "    <tr>\n",
       "      <th>1</th>\n",
       "      <td>WTF (Where They From) by Missy Elliott (Ft. Ph...</td>\n",
       "      <td>283487</td>\n",
       "    </tr>\n",
       "    <tr>\n",
       "      <th>2</th>\n",
       "      <td>Get Ur Freak On by Missy Elliott</td>\n",
       "      <td>132080</td>\n",
       "    </tr>\n",
       "    <tr>\n",
       "      <th>3</th>\n",
       "      <td>I'm Better by Missy Elliott (Ft. Cainon Lamb)</td>\n",
       "      <td>101908</td>\n",
       "    </tr>\n",
       "    <tr>\n",
       "      <th>4</th>\n",
       "      <td>Gossip Folks by Missy Elliott (Ft. Ludacris)</td>\n",
       "      <td>92595</td>\n",
       "    </tr>\n",
       "    <tr>\n",
       "      <th>5</th>\n",
       "      <td>The Rain (Supa Dupa Fly) by Missy Elliott</td>\n",
       "      <td>84662</td>\n",
       "    </tr>\n",
       "    <tr>\n",
       "      <th>6</th>\n",
       "      <td>Lose Control by Missy Elliott (Ft. Ciara &amp; Fat...</td>\n",
       "      <td>74377</td>\n",
       "    </tr>\n",
       "    <tr>\n",
       "      <th>7</th>\n",
       "      <td>One Minute Man by Missy Elliott (Ft. Ludacris ...</td>\n",
       "      <td>56326</td>\n",
       "    </tr>\n",
       "    <tr>\n",
       "      <th>8</th>\n",
       "      <td>Pass That Dutch by Missy Elliott</td>\n",
       "      <td>40070</td>\n",
       "    </tr>\n",
       "    <tr>\n",
       "      <th>9</th>\n",
       "      <td>This Is Me (The Reimagined Remix) by Keala Set...</td>\n",
       "      <td>41422</td>\n",
       "    </tr>\n",
       "  </tbody>\n",
       "</table>\n",
       "</div>"
      ],
      "text/plain": [
       "                                          song_title  page_views\n",
       "0                           Work It by Missy Elliott     1024133\n",
       "1  WTF (Where They From) by Missy Elliott (Ft. Ph...      283487\n",
       "2                   Get Ur Freak On by Missy Elliott      132080\n",
       "3      I'm Better by Missy Elliott (Ft. Cainon Lamb)      101908\n",
       "4       Gossip Folks by Missy Elliott (Ft. Ludacris)       92595\n",
       "5          The Rain (Supa Dupa Fly) by Missy Elliott       84662\n",
       "6  Lose Control by Missy Elliott (Ft. Ciara & Fat...       74377\n",
       "7  One Minute Man by Missy Elliott (Ft. Ludacris ...       56326\n",
       "8                   Pass That Dutch by Missy Elliott       40070\n",
       "9  This Is Me (The Reimagined Remix) by Keala Set...       41422"
      ]
     },
     "execution_count": 33,
     "metadata": {},
     "output_type": "execute_result"
    }
   ],
   "source": [
    "missy_songs = []\n",
    "for song in json_data['response']['hits']:\n",
    "    missy_songs.append([song['result']['full_title'], song['result']['stats']['pageviews']])\n",
    "    \n",
    "#Make a Pandas dataframe from a list\n",
    "missy_df = pd.DataFrame(missy_songs)\n",
    "missy_df.columns = ['song_title', 'page_views']\n",
    "missy_df"
   ]
  },
  {
   "cell_type": "markdown",
   "metadata": {},
   "source": [
    "## Transform Song Titles, Page View Counts, & Album Covers into a DataFrame"
   ]
  },
  {
   "cell_type": "markdown",
   "metadata": {},
   "source": [
    "Just for fun, we can do the same thing but also add links to images of Missy Elliott's album art—and we can actually display those images, too!\n",
    "\n",
    "To display images in a Pandas dataframe, you need to run `from IPython.core.display import HTML` and make the function `get_image_html()`. We're going to take the image URLs and make them into HTML objects."
   ]
  },
  {
   "cell_type": "code",
   "execution_count": 34,
   "metadata": {},
   "outputs": [],
   "source": [
    "from IPython.core.display import HTML"
   ]
  },
  {
   "cell_type": "code",
   "execution_count": 35,
   "metadata": {},
   "outputs": [],
   "source": [
    "def get_image_html(link):\n",
    "    image_html = f\"<img src='{link}' width='100'>\"\n",
    "    return image_html"
   ]
  },
  {
   "cell_type": "code",
   "execution_count": 36,
   "metadata": {},
   "outputs": [
    {
     "data": {
      "text/html": [
       "<div>\n",
       "<style scoped>\n",
       "    .dataframe tbody tr th:only-of-type {\n",
       "        vertical-align: middle;\n",
       "    }\n",
       "\n",
       "    .dataframe tbody tr th {\n",
       "        vertical-align: top;\n",
       "    }\n",
       "\n",
       "    .dataframe thead th {\n",
       "        text-align: right;\n",
       "    }\n",
       "</style>\n",
       "<table border=\"1\" class=\"dataframe\">\n",
       "  <thead>\n",
       "    <tr style=\"text-align: right;\">\n",
       "      <th></th>\n",
       "      <th>song_title</th>\n",
       "      <th>page_views</th>\n",
       "      <th>album_cover_url</th>\n",
       "      <th>album_cover</th>\n",
       "    </tr>\n",
       "  </thead>\n",
       "  <tbody>\n",
       "    <tr>\n",
       "      <th>0</th>\n",
       "      <td>Work It by Missy Elliott</td>\n",
       "      <td>1024133</td>\n",
       "      <td>https://images.genius.com/27c1fbfef17041b43530...</td>\n",
       "      <td>&lt;img src='https://images.genius.com/27c1fbfef1...</td>\n",
       "    </tr>\n",
       "    <tr>\n",
       "      <th>1</th>\n",
       "      <td>WTF (Where They From) by Missy Elliott (Ft. Ph...</td>\n",
       "      <td>283487</td>\n",
       "      <td>https://images.rapgenius.com/a439d6d6020559ffe...</td>\n",
       "      <td>&lt;img src='https://images.rapgenius.com/a439d6d...</td>\n",
       "    </tr>\n",
       "    <tr>\n",
       "      <th>2</th>\n",
       "      <td>Get Ur Freak On by Missy Elliott</td>\n",
       "      <td>132080</td>\n",
       "      <td>https://images.genius.com/338e122c1534b6f6363a...</td>\n",
       "      <td>&lt;img src='https://images.genius.com/338e122c15...</td>\n",
       "    </tr>\n",
       "    <tr>\n",
       "      <th>3</th>\n",
       "      <td>I'm Better by Missy Elliott (Ft. Cainon Lamb)</td>\n",
       "      <td>101908</td>\n",
       "      <td>https://images.genius.com/609afe10820cce09ce9e...</td>\n",
       "      <td>&lt;img src='https://images.genius.com/609afe1082...</td>\n",
       "    </tr>\n",
       "    <tr>\n",
       "      <th>4</th>\n",
       "      <td>Gossip Folks by Missy Elliott (Ft. Ludacris)</td>\n",
       "      <td>92595</td>\n",
       "      <td>https://images.genius.com/206153c53d05804677e2...</td>\n",
       "      <td>&lt;img src='https://images.genius.com/206153c53d...</td>\n",
       "    </tr>\n",
       "    <tr>\n",
       "      <th>5</th>\n",
       "      <td>The Rain (Supa Dupa Fly) by Missy Elliott</td>\n",
       "      <td>84662</td>\n",
       "      <td>https://images.genius.com/a1543159342cd360256c...</td>\n",
       "      <td>&lt;img src='https://images.genius.com/a154315934...</td>\n",
       "    </tr>\n",
       "    <tr>\n",
       "      <th>6</th>\n",
       "      <td>Lose Control by Missy Elliott (Ft. Ciara &amp; Fat...</td>\n",
       "      <td>74377</td>\n",
       "      <td>https://images.genius.com/51639e476eac5cb5bed5...</td>\n",
       "      <td>&lt;img src='https://images.genius.com/51639e476e...</td>\n",
       "    </tr>\n",
       "    <tr>\n",
       "      <th>7</th>\n",
       "      <td>One Minute Man by Missy Elliott (Ft. Ludacris ...</td>\n",
       "      <td>56326</td>\n",
       "      <td>https://images.genius.com/faad336511ca96884fc6...</td>\n",
       "      <td>&lt;img src='https://images.genius.com/faad336511...</td>\n",
       "    </tr>\n",
       "    <tr>\n",
       "      <th>8</th>\n",
       "      <td>Pass That Dutch by Missy Elliott</td>\n",
       "      <td>40070</td>\n",
       "      <td>https://images.genius.com/8c2a5015c6ba9e5f0c15...</td>\n",
       "      <td>&lt;img src='https://images.genius.com/8c2a5015c6...</td>\n",
       "    </tr>\n",
       "    <tr>\n",
       "      <th>9</th>\n",
       "      <td>This Is Me (The Reimagined Remix) by Keala Set...</td>\n",
       "      <td>41422</td>\n",
       "      <td>https://images.genius.com/29f15eb96f814e785598...</td>\n",
       "      <td>&lt;img src='https://images.genius.com/29f15eb96f...</td>\n",
       "    </tr>\n",
       "  </tbody>\n",
       "</table>\n",
       "</div>"
      ],
      "text/plain": [
       "                                          song_title  page_views  \\\n",
       "0                           Work It by Missy Elliott     1024133   \n",
       "1  WTF (Where They From) by Missy Elliott (Ft. Ph...      283487   \n",
       "2                   Get Ur Freak On by Missy Elliott      132080   \n",
       "3      I'm Better by Missy Elliott (Ft. Cainon Lamb)      101908   \n",
       "4       Gossip Folks by Missy Elliott (Ft. Ludacris)       92595   \n",
       "5          The Rain (Supa Dupa Fly) by Missy Elliott       84662   \n",
       "6  Lose Control by Missy Elliott (Ft. Ciara & Fat...       74377   \n",
       "7  One Minute Man by Missy Elliott (Ft. Ludacris ...       56326   \n",
       "8                   Pass That Dutch by Missy Elliott       40070   \n",
       "9  This Is Me (The Reimagined Remix) by Keala Set...       41422   \n",
       "\n",
       "                                     album_cover_url  \\\n",
       "0  https://images.genius.com/27c1fbfef17041b43530...   \n",
       "1  https://images.rapgenius.com/a439d6d6020559ffe...   \n",
       "2  https://images.genius.com/338e122c1534b6f6363a...   \n",
       "3  https://images.genius.com/609afe10820cce09ce9e...   \n",
       "4  https://images.genius.com/206153c53d05804677e2...   \n",
       "5  https://images.genius.com/a1543159342cd360256c...   \n",
       "6  https://images.genius.com/51639e476eac5cb5bed5...   \n",
       "7  https://images.genius.com/faad336511ca96884fc6...   \n",
       "8  https://images.genius.com/8c2a5015c6ba9e5f0c15...   \n",
       "9  https://images.genius.com/29f15eb96f814e785598...   \n",
       "\n",
       "                                         album_cover  \n",
       "0  <img src='https://images.genius.com/27c1fbfef1...  \n",
       "1  <img src='https://images.rapgenius.com/a439d6d...  \n",
       "2  <img src='https://images.genius.com/338e122c15...  \n",
       "3  <img src='https://images.genius.com/609afe1082...  \n",
       "4  <img src='https://images.genius.com/206153c53d...  \n",
       "5  <img src='https://images.genius.com/a154315934...  \n",
       "6  <img src='https://images.genius.com/51639e476e...  \n",
       "7  <img src='https://images.genius.com/faad336511...  \n",
       "8  <img src='https://images.genius.com/8c2a5015c6...  \n",
       "9  <img src='https://images.genius.com/29f15eb96f...  "
      ]
     },
     "execution_count": 36,
     "metadata": {},
     "output_type": "execute_result"
    }
   ],
   "source": [
    "missy_songs = []\n",
    "for song in json_data['response']['hits']:\n",
    "    missy_songs.append([song['result']['full_title'], song['result']['stats']['pageviews'], song['result']['song_art_image_url']])\n",
    "    \n",
    "missy_df = pd.DataFrame(missy_songs)\n",
    "missy_df.columns = ['song_title', 'page_views','album_cover_url']\n",
    "\n",
    "#Use the function get_image_html()\n",
    "missy_df['album_cover'] = missy_df['album_cover_url'].apply(get_image_html)\n",
    "missy_df"
   ]
  },
  {
   "cell_type": "markdown",
   "metadata": {},
   "source": [
    "If we call `HTML()` on our dataframe and add the method `.to_html(escape=False)` to the dataframe, then it should display the dataframe with viewable images."
   ]
  },
  {
   "cell_type": "code",
   "execution_count": 353,
   "metadata": {},
   "outputs": [
    {
     "data": {
      "text/html": [
       "<table border=\"1\" class=\"dataframe\">\n",
       "  <thead>\n",
       "    <tr style=\"text-align: right;\">\n",
       "      <th></th>\n",
       "      <th>song_title</th>\n",
       "      <th>page_views</th>\n",
       "      <th>album_cover_url</th>\n",
       "      <th>album_cover</th>\n",
       "    </tr>\n",
       "  </thead>\n",
       "  <tbody>\n",
       "    <tr>\n",
       "      <th>0</th>\n",
       "      <td>Work It by Missy Elliott</td>\n",
       "      <td>1023939</td>\n",
       "      <td>https://images.genius.com/27c1fbfef17041b435302af288cfa0c6.482x500x1.jpg</td>\n",
       "      <td><img src='https://images.genius.com/27c1fbfef17041b435302af288cfa0c6.482x500x1.jpg' width='100'></td>\n",
       "    </tr>\n",
       "    <tr>\n",
       "      <th>1</th>\n",
       "      <td>WTF (Where They From) by Missy Elliott (Ft. Pharrell Williams)</td>\n",
       "      <td>283478</td>\n",
       "      <td>https://images.rapgenius.com/a439d6d6020559ffe7c10f0d73722de1.1000x1000x1.jpg</td>\n",
       "      <td><img src='https://images.rapgenius.com/a439d6d6020559ffe7c10f0d73722de1.1000x1000x1.jpg' width='100'></td>\n",
       "    </tr>\n",
       "    <tr>\n",
       "      <th>2</th>\n",
       "      <td>Get Ur Freak On by Missy Elliott</td>\n",
       "      <td>132030</td>\n",
       "      <td>https://images.genius.com/338e122c1534b6f6363afb06f77912cf.300x259x1.jpg</td>\n",
       "      <td><img src='https://images.genius.com/338e122c1534b6f6363afb06f77912cf.300x259x1.jpg' width='100'></td>\n",
       "    </tr>\n",
       "    <tr>\n",
       "      <th>3</th>\n",
       "      <td>I'm Better by Missy Elliott (Ft. Cainon Lamb)</td>\n",
       "      <td>101905</td>\n",
       "      <td>https://images.genius.com/609afe10820cce09ce9e3c768518c63c.600x600x1.jpg</td>\n",
       "      <td><img src='https://images.genius.com/609afe10820cce09ce9e3c768518c63c.600x600x1.jpg' width='100'></td>\n",
       "    </tr>\n",
       "    <tr>\n",
       "      <th>4</th>\n",
       "      <td>Gossip Folks by Missy Elliott (Ft. Ludacris)</td>\n",
       "      <td>92573</td>\n",
       "      <td>https://images.genius.com/206153c53d05804677e236aa2ae4eb45.600x600x1.jpg</td>\n",
       "      <td><img src='https://images.genius.com/206153c53d05804677e236aa2ae4eb45.600x600x1.jpg' width='100'></td>\n",
       "    </tr>\n",
       "    <tr>\n",
       "      <th>5</th>\n",
       "      <td>The Rain (Supa Dupa Fly) by Missy Elliott</td>\n",
       "      <td>84646</td>\n",
       "      <td>https://images.genius.com/a1543159342cd360256c12b42185771f.975x1000x1.jpg</td>\n",
       "      <td><img src='https://images.genius.com/a1543159342cd360256c12b42185771f.975x1000x1.jpg' width='100'></td>\n",
       "    </tr>\n",
       "    <tr>\n",
       "      <th>6</th>\n",
       "      <td>Lose Control by Missy Elliott (Ft. Ciara & Fatman Scoop)</td>\n",
       "      <td>74356</td>\n",
       "      <td>https://images.genius.com/51639e476eac5cb5bed5794c023763ff.700x707x1.jpg</td>\n",
       "      <td><img src='https://images.genius.com/51639e476eac5cb5bed5794c023763ff.700x707x1.jpg' width='100'></td>\n",
       "    </tr>\n",
       "    <tr>\n",
       "      <th>7</th>\n",
       "      <td>One Minute Man by Missy Elliott (Ft. Ludacris & Trina)</td>\n",
       "      <td>56311</td>\n",
       "      <td>https://images.genius.com/faad336511ca96884fc642f4beeba1a6.1000x1000x1.jpg</td>\n",
       "      <td><img src='https://images.genius.com/faad336511ca96884fc642f4beeba1a6.1000x1000x1.jpg' width='100'></td>\n",
       "    </tr>\n",
       "    <tr>\n",
       "      <th>8</th>\n",
       "      <td>Pass That Dutch by Missy Elliott</td>\n",
       "      <td>40067</td>\n",
       "      <td>https://images.genius.com/8c2a5015c6ba9e5f0c154f9a20f14534.583x583x1.jpg</td>\n",
       "      <td><img src='https://images.genius.com/8c2a5015c6ba9e5f0c154f9a20f14534.583x583x1.jpg' width='100'></td>\n",
       "    </tr>\n",
       "    <tr>\n",
       "      <th>9</th>\n",
       "      <td>This Is Me (The Reimagined Remix) by Keala Settle, Kesha & Missy Elliott</td>\n",
       "      <td>41415</td>\n",
       "      <td>https://images.genius.com/29f15eb96f814e785598d0eea14126a7.1000x1000x1.png</td>\n",
       "      <td><img src='https://images.genius.com/29f15eb96f814e785598d0eea14126a7.1000x1000x1.png' width='100'></td>\n",
       "    </tr>\n",
       "  </tbody>\n",
       "</table>"
      ],
      "text/plain": [
       "<IPython.core.display.HTML object>"
      ]
     },
     "execution_count": 353,
     "metadata": {},
     "output_type": "execute_result"
    }
   ],
   "source": [
    "HTML(missy_df.to_html(escape=False))"
   ]
  },
  {
   "cell_type": "markdown",
   "metadata": {},
   "source": [
    "# Your Turn! "
   ]
  },
  {
   "cell_type": "markdown",
   "metadata": {},
   "source": [
    "Replace \"Jorja Smith\" with any artist/musician of your choosing and run the following cells."
   ]
  },
  {
   "cell_type": "code",
   "execution_count": 78,
   "metadata": {},
   "outputs": [],
   "source": [
    "search_term = \"Jorja Smith\""
   ]
  },
  {
   "cell_type": "code",
   "execution_count": 79,
   "metadata": {},
   "outputs": [],
   "source": [
    "genius_search_url = f\"http://api.genius.com/search?q={search_term}&access_token={client_access_token}\""
   ]
  },
  {
   "cell_type": "code",
   "execution_count": 80,
   "metadata": {},
   "outputs": [],
   "source": [
    "response = requests.get(genius_search_url)\n",
    "json_data = response.json()"
   ]
  },
  {
   "cell_type": "code",
   "execution_count": 81,
   "metadata": {},
   "outputs": [
    {
     "data": {
      "text/html": [
       "<table border=\"1\" class=\"dataframe\">\n",
       "  <thead>\n",
       "    <tr style=\"text-align: right;\">\n",
       "      <th></th>\n",
       "      <th>song_title</th>\n",
       "      <th>page_views</th>\n",
       "      <th>album_cover_url</th>\n",
       "      <th>album_cover</th>\n",
       "    </tr>\n",
       "  </thead>\n",
       "  <tbody>\n",
       "    <tr>\n",
       "      <th>0</th>\n",
       "      <td>Blue Lights by Jorja Smith</td>\n",
       "      <td>379836</td>\n",
       "      <td>https://images.genius.com/d24dd57aa0c3b16c85b150bd864187e1.640x640x1.png</td>\n",
       "      <td><img src='https://images.genius.com/d24dd57aa0c3b16c85b150bd864187e1.640x640x1.png' width='100'></td>\n",
       "    </tr>\n",
       "    <tr>\n",
       "      <th>1</th>\n",
       "      <td>Let Me Down by Jorja Smith (Ft. Stormzy)</td>\n",
       "      <td>261733</td>\n",
       "      <td>https://images.genius.com/e51b0c6741407f8a0c4f632fa27d793d.1000x1000x1.jpg</td>\n",
       "      <td><img src='https://images.genius.com/e51b0c6741407f8a0c4f632fa27d793d.1000x1000x1.jpg' width='100'></td>\n",
       "    </tr>\n",
       "    <tr>\n",
       "      <th>2</th>\n",
       "      <td>On My Mind by Jorja Smith</td>\n",
       "      <td>253129</td>\n",
       "      <td>https://images.genius.com/4bb874749f5715fa1dedd5f7f3d0a78f.1000x1000x1.jpg</td>\n",
       "      <td><img src='https://images.genius.com/4bb874749f5715fa1dedd5f7f3d0a78f.1000x1000x1.jpg' width='100'></td>\n",
       "    </tr>\n",
       "    <tr>\n",
       "      <th>3</th>\n",
       "      <td>Be Honest by Jorja Smith (Ft. Burna Boy)</td>\n",
       "      <td>232407</td>\n",
       "      <td>https://images.genius.com/6b076afe88c85bf754ec47633b2dd151.1000x1000x1.jpg</td>\n",
       "      <td><img src='https://images.genius.com/6b076afe88c85bf754ec47633b2dd151.1000x1000x1.jpg' width='100'></td>\n",
       "    </tr>\n",
       "    <tr>\n",
       "      <th>4</th>\n",
       "      <td>I Am by Jorja Smith</td>\n",
       "      <td>225828</td>\n",
       "      <td>https://images.genius.com/b0ef6cfffeb8c493ca2344f8358e741a.960x960x1.jpg</td>\n",
       "      <td><img src='https://images.genius.com/b0ef6cfffeb8c493ca2344f8358e741a.960x960x1.jpg' width='100'></td>\n",
       "    </tr>\n",
       "    <tr>\n",
       "      <th>5</th>\n",
       "      <td>Don't Watch Me Cry by Jorja Smith</td>\n",
       "      <td>289517</td>\n",
       "      <td>https://images.genius.com/467c61d48cff59c00694b1b3a2e1559a.850x850x1.jpg</td>\n",
       "      <td><img src='https://images.genius.com/467c61d48cff59c00694b1b3a2e1559a.850x850x1.jpg' width='100'></td>\n",
       "    </tr>\n",
       "    <tr>\n",
       "      <th>6</th>\n",
       "      <td>Teenage Fantasy by Jorja Smith</td>\n",
       "      <td>199909</td>\n",
       "      <td>https://images.genius.com/1256192fe18ba60a476cc285d7459bf8.1000x1000x1.jpg</td>\n",
       "      <td><img src='https://images.genius.com/1256192fe18ba60a476cc285d7459bf8.1000x1000x1.jpg' width='100'></td>\n",
       "    </tr>\n",
       "    <tr>\n",
       "      <th>7</th>\n",
       "      <td>February 3rd by Jorja Smith</td>\n",
       "      <td>125650</td>\n",
       "      <td>https://images.genius.com/467c61d48cff59c00694b1b3a2e1559a.850x850x1.jpg</td>\n",
       "      <td><img src='https://images.genius.com/467c61d48cff59c00694b1b3a2e1559a.850x850x1.jpg' width='100'></td>\n",
       "    </tr>\n",
       "    <tr>\n",
       "      <th>8</th>\n",
       "      <td>Lost & Found by Jorja Smith</td>\n",
       "      <td>110786</td>\n",
       "      <td>https://images.genius.com/467c61d48cff59c00694b1b3a2e1559a.850x850x1.jpg</td>\n",
       "      <td><img src='https://images.genius.com/467c61d48cff59c00694b1b3a2e1559a.850x850x1.jpg' width='100'></td>\n",
       "    </tr>\n",
       "    <tr>\n",
       "      <th>9</th>\n",
       "      <td>Where Did I Go? by Jorja Smith</td>\n",
       "      <td>122509</td>\n",
       "      <td>https://images.genius.com/9fcd6b01c367ab1d8604cbbdb53e0a87.500x500x1.jpg</td>\n",
       "      <td><img src='https://images.genius.com/9fcd6b01c367ab1d8604cbbdb53e0a87.500x500x1.jpg' width='100'></td>\n",
       "    </tr>\n",
       "  </tbody>\n",
       "</table>"
      ],
      "text/plain": [
       "<IPython.core.display.HTML object>"
      ]
     },
     "execution_count": 81,
     "metadata": {},
     "output_type": "execute_result"
    }
   ],
   "source": [
    "songs = []\n",
    "for song in json_data['response']['hits']:\n",
    "    songs.append((song['result']['full_title'], song['result']['stats']['pageviews'], song['result']['song_art_image_url']))\n",
    "    \n",
    "artist_df = pd.DataFrame(songs)\n",
    "artist_df.columns = ['song_title', 'page_views', 'album_cover_url']\n",
    "\n",
    "artist_df['album_cover'] = artist_df['album_cover_url'].apply(get_image_html)\n",
    "HTML(artist_df.to_html(escape=False))"
   ]
  },
  {
   "cell_type": "markdown",
   "metadata": {},
   "source": [
    "# When Other People Build Tools for APIs"
   ]
  },
  {
   "cell_type": "markdown",
   "metadata": {},
   "source": [
    "It's relatively common for software developers and others to create special Python packages that help people work with a particular API—even if they don't work for the company or project that designed the API. Lucky for us, this is the case with the Genius API.\n",
    "\n",
    "A data scientist named John Miller wrote a Python package called [LyricsGenius,](https://github.com/johnwmillr/LyricsGenius) which you can see on GitHub below. "
   ]
  },
  {
   "cell_type": "markdown",
   "metadata": {},
   "source": [
    "<a href=\"https://github.com/johnwmillr/LyricsGenius\"><img src=\"../images/LyricsGenius-Git1.png\" width=100%></a>"
   ]
  },
  {
   "cell_type": "markdown",
   "metadata": {},
   "source": [
    "LyricsGenius makes working with the Genius API easier, but it also adds some functionality that is not offered by the Genius API. Remember when I said that companies typically don't offer access to their most lucrative data? Well, the Genius API doesn't offer you a way to get access to song lyrics. That's the bread and butter of the whole website!\n",
    "\n",
    "To solve this pesky problem, LyricsGenius combines the Genius API with the web scraping library BeautifulSoup (which we are now familiar with!) in order to get and save song lyrics."
   ]
  },
  {
   "cell_type": "markdown",
   "metadata": {},
   "source": [
    "<img src=\"../images/LyricsGenius-Git2.png\" width=100%>"
   ]
  },
  {
   "cell_type": "markdown",
   "metadata": {},
   "source": [
    "## Install the Package"
   ]
  },
  {
   "cell_type": "markdown",
   "metadata": {},
   "source": [
    "To install LyricsGenius, run:"
   ]
  },
  {
   "cell_type": "code",
   "execution_count": 140,
   "metadata": {},
   "outputs": [
    {
     "name": "stdout",
     "output_type": "stream",
     "text": [
      "Requirement already satisfied: lyricsgenius in /Users/melaniewalsh/anaconda3/lib/python3.7/site-packages (1.8.1)\n",
      "Collecting beautifulsoup4==4.6.0\n",
      "  Using cached https://files.pythonhosted.org/packages/9e/d4/10f46e5cfac773e22707237bfcd51bbffeaf0a576b0a847ec7ab15bd7ace/beautifulsoup4-4.6.0-py3-none-any.whl\n",
      "Requirement already satisfied: requests>=2.20.0 in /Users/melaniewalsh/anaconda3/lib/python3.7/site-packages (from lyricsgenius) (2.22.0)\n",
      "Requirement already satisfied: chardet<3.1.0,>=3.0.2 in /Users/melaniewalsh/anaconda3/lib/python3.7/site-packages (from requests>=2.20.0->lyricsgenius) (3.0.4)\n",
      "Requirement already satisfied: idna<2.9,>=2.5 in /Users/melaniewalsh/anaconda3/lib/python3.7/site-packages (from requests>=2.20.0->lyricsgenius) (2.8)\n",
      "Requirement already satisfied: certifi>=2017.4.17 in /Users/melaniewalsh/anaconda3/lib/python3.7/site-packages (from requests>=2.20.0->lyricsgenius) (2019.11.28)\n",
      "Requirement already satisfied: urllib3!=1.25.0,!=1.25.1,<1.26,>=1.21.1 in /Users/melaniewalsh/anaconda3/lib/python3.7/site-packages (from requests>=2.20.0->lyricsgenius) (1.25.7)\n",
      "Installing collected packages: beautifulsoup4\n",
      "  Found existing installation: beautifulsoup4 4.8.1\n",
      "    Uninstalling beautifulsoup4-4.8.1:\n",
      "      Successfully uninstalled beautifulsoup4-4.8.1\n",
      "Successfully installed beautifulsoup4-4.7.1\n"
     ]
    }
   ],
   "source": [
    "!pip install lyricsgenius"
   ]
  },
  {
   "cell_type": "markdown",
   "metadata": {},
   "source": [
    "To import and set up LyricsGenius, run:"
   ]
  },
  {
   "cell_type": "code",
   "execution_count": 39,
   "metadata": {},
   "outputs": [],
   "source": [
    "import lyricsgenius\n",
    "LyricsGenius = lyricsgenius.Genius(client_access_token)"
   ]
  },
  {
   "cell_type": "markdown",
   "metadata": {},
   "source": [
    "## Get Songs and Lyrics By a Specific Artist"
   ]
  },
  {
   "cell_type": "markdown",
   "metadata": {},
   "source": [
    "To get the top songs and song lyrics from a specific artist you can use the method `.search_artist()`:"
   ]
  },
  {
   "cell_type": "code",
   "execution_count": 40,
   "metadata": {},
   "outputs": [
    {
     "name": "stdout",
     "output_type": "stream",
     "text": [
      "Searching for songs by Missy Elliott...\n",
      "\n",
      "Song 1: \"Work It\"\n",
      "Song 2: \"WTF (Where They From)\"\n",
      "Song 3: \"Get Ur Freak On\"\n",
      "Song 4: \"I’m Better\"\n",
      "Song 5: \"Gossip Folks\"\n",
      "Song 6: \"The Rain (Supa Dupa Fly)\"\n",
      "\n",
      "Reached user-specified song limit (6).\n",
      "Done. Found 6 songs.\n"
     ]
    }
   ],
   "source": [
    "artist = LyricsGenius.search_artist(\"Missy Elliott\", max_songs=6)"
   ]
  },
  {
   "cell_type": "markdown",
   "metadata": {},
   "source": [
    "To access the song titles, you can run `artist.songs`:"
   ]
  },
  {
   "cell_type": "code",
   "execution_count": 361,
   "metadata": {},
   "outputs": [
    {
     "data": {
      "text/plain": [
       "[('Work It', 'Missy Elliott'),\n",
       " ('WTF (Where They From)', 'Missy Elliott'),\n",
       " ('Get Ur Freak On', 'Missy Elliott'),\n",
       " ('I’m Better', 'Missy Elliott'),\n",
       " ('Gossip Folks', 'Missy Elliott'),\n",
       " ('The Rain (Supa Dupa Fly)', 'Missy Elliott'),\n",
       " ('Lose Control', 'Missy Elliott'),\n",
       " ('One Minute Man', 'Missy Elliott'),\n",
       " ('Pass That Dutch', 'Missy Elliott'),\n",
       " ('Hot Boyz (Remix)', 'Missy Elliott')]"
      ]
     },
     "execution_count": 361,
     "metadata": {},
     "output_type": "execute_result"
    }
   ],
   "source": [
    "artist.songs"
   ]
  },
  {
   "cell_type": "markdown",
   "metadata": {},
   "source": [
    "Inside each of those songs, LyricsGenius has already saved the song lyrics. You can access these lyrics by looping through `artist.songs` and pulling out `song.lyrics`:"
   ]
  },
  {
   "cell_type": "code",
   "execution_count": 362,
   "metadata": {
    "scrolled": true,
    "tags": [
     "output_scroll"
    ]
   },
   "outputs": [
    {
     "name": "stdout",
     "output_type": "stream",
     "text": [
      "[Intro]\n",
      "DJ, please pick up your phone, I'm on the request line\n",
      "This is a Missy Elliott one-time exclusive, come on\n",
      "\n",
      "[Chorus]\n",
      "Is it worth it? Let me work it\n",
      "I put my thing down, flip it and reverse it\n",
      "Ti esrever dna ti pilf, nwod gniht ym tup\n",
      "Ti esrever dna ti pilf, nwod gniht ym tup\n",
      "If you got a big *elephant trumpet*, let me search ya\n",
      "And find out how hard I gotta work ya\n",
      "Ti esrever dna ti pilf, nwod gniht ym tup\n",
      "Ti esrever dna ti pilf, nwod gniht ym tup\n",
      "C'mon\n",
      "\n",
      "[Verse 1]\n",
      "I'd like to get to know ya so I could show ya\n",
      "Put the pussy on ya like I told ya\n",
      "Give me all your numbers so I can phone ya\n",
      "Your girl acting stank, then call me over\n",
      "Not on the bed, lay me on your sofa\n",
      "Call before you come, I need to shave my chocha\n",
      "You do or you don't or you will or won't ya?\n",
      "Go downtown and eat it like a vulture\n",
      "See my hips and my tips, don't ya?\n",
      "See my ass and my lips, don't ya?\n",
      "Lost a few pounds and my waist for ya\n",
      "This the kinda beat that go ra-ta-ta\n",
      "Ra-ta-ta-ta-ta-ta-ta-ta-ta-ta\n",
      "Sex me so good I say blah-blah-blah\n",
      "Work it, I need a glass of water\n",
      "Boy, oh boy, it's good to know ya\n",
      "C'mon\n",
      "\n",
      "[Chorus]\n",
      "Is it worth it? Let me work it\n",
      "I put my thing down, flip it and reverse it\n",
      "Ti esrever dna ti pilf, nwod gniht ym tup\n",
      "Ti esrever dna ti pilf, nwod gniht ym tup\n",
      "If you got a big *elephant trumpet*, let me search ya\n",
      "And find out how hard I gotta work ya\n",
      "Ti esrever dna ti pilf, nwod gniht ym tup\n",
      "Ti esrever dna ti pilf, nwod gniht ym tup\n",
      "C'mon\n",
      "\n",
      "[Verse 2]\n",
      "If you a fly gal, get your nails done\n",
      "Get a pedicure, get your hair did\n",
      "Boy, lift it up, let's make a toast-a\n",
      "Let's get drunk, that's gonna bring us closer\n",
      "Don't I look like a Halle Berry poster?\n",
      "See the Belvedere playing tricks on ya\n",
      "Girlfriend wanna be like me, never\n",
      "You won't find a bitch that's even better\n",
      "I make you hot as Las Vegas weather\n",
      "Listen up close while I take it backwards\n",
      "​sdrawkcab ti ekat ot ekil yssiM yaw eht hctaW\n",
      "I'm not a prostitute, but I could give you what you want\n",
      "I love your braids and your mouth full of fronts\n",
      "Love the way my ass go bum-bum-bum-bum\n",
      "Keep your eyes on my bum-bum-bum-bum-bum\n",
      "You think you can handle this badonka-donk-donk\n",
      "Take my thong off and my ass go boom\n",
      "Cut the lights on so you see what I could do\n",
      "C'mon\n",
      "\n",
      "[Chorus]\n",
      "Is it worth it? Let me work it\n",
      "I put my thing down, flip it and reverse it\n",
      "Ti esrever dna ti pilf, nwod gniht ym tup\n",
      "Ti esrever dna ti pilf, nwod gniht ym tup\n",
      "If you got a big *elephant trumpet*, let me search ya\n",
      "And find out how hard I gotta work ya\n",
      "Ti esrever dna ti pilf, nwod gniht ym tup\n",
      "Ti esrever dna ti pilf, nwod gniht ym tup\n",
      "C'mon\n",
      "\n",
      "[Verse 3]\n",
      "Boys, boys, all type of boys\n",
      "Black, White, Puerto Rican, Chinese boys (C'mon)\n",
      "Why-thai, thai-o-toy-o-thai-thai\n",
      "Rock-thai, thai-o-toy-o-thai-thai (C'mon)\n",
      "Girls, girls, get that cash\n",
      "If it's 9 to 5 or shaking your ass (Aha)\n",
      "Ain't no shame, ladies do your thing (C'mon)\n",
      "Just make sure you ahead of the game\n",
      "Just 'cause I got a lot of fame super\n",
      "Prince couldn't get me change my name, papa\n",
      "Kunta Kinte a slave again, no sir\n",
      "Picture blacks saying, “Oh yes'a, massa”\n",
      "Picture Lil' Kim dating a pastor\n",
      "Minute Man and Big Red could outlast ya\n",
      "Who is the best? I don't have to ask ya\n",
      "When I come out, you won't even matter\n",
      "Why you act dumb like, uh, duh?\n",
      "So you act dumb like, uh, duh\n",
      "As the drummer boy go ba-rom-pop-pom-pom\n",
      "Give you some-some-some of this Cinnabun\n",
      "C'mon\n",
      "\n",
      "[Chorus]\n",
      "Is it worth it? Let me work it\n",
      "I put my thing down, flip it and reverse it\n",
      "Ti esrever dna ti pilf, nwod gniht ym tup\n",
      "Ti esrever dna ti pilf, nwod gniht ym tup\n",
      "If you got a big *elephant trumpet*, let me search ya\n",
      "And find out how hard I gotta work ya\n",
      "Ti esrever dna ti pilf, nwod gniht ym tup\n",
      "Ti esrever dna ti pilf, nwod gniht ym tup\n",
      "C'mon\n",
      "\n",
      "[Outro]\n",
      "To my fellas (Ooh good god!)\n",
      "I like the way you work that (Uh huh, la-la-la-la)\n",
      "To my ladies (Whoo! Good god!)\n",
      "You sure know how to work that\n",
      "\n",
      "Yeah, it's Missy Elliott!\n",
      "I hope y'all enjoying what y'all heard so far\n",
      "I was sittin' here thinkin' like\n",
      "Big Daddy Kane and Public Enemy\n",
      "Salt n Pepa, Lyte, EPMD, LL, Run-DMC\n",
      "KRS-One, Rakim\n",
      "Most of them artists used to dance\n",
      "And still get respected in the street\n",
      "Don't be scared to Bankhead or Bogo\n",
      "Or move as far as sold Michael Jackson 43 million\n",
      "Shoot, errbody have the zipper jacket\n",
      "And half of these thugs have the glove to match, ya feel me?\n",
      "Yo, it's ok though, if you wanna be hard and ice grill\n",
      "And Harlem Shake at the same time, whatever\n",
      "Let's just have fun, it's hip-hop man, this is hip-hop!\n",
      "[Produced by Pharrell]\n",
      "\n",
      "[Intro]\n",
      "\n",
      "[Hook: Missy Elliott (Pharrell)]\n",
      "(Shorty what?)\n",
      "The dance that you doing is dumb\n",
      "How they do it where you from? (Ayy!, Triflin'!)\n",
      "Stickin' out your tongue\n",
      "Girl, but you know you're too young\n",
      "A bunch of girls do it and the shit look fun\n",
      "That's how they do it where we from (Ayy!)\n",
      "You know it don't start till one\n",
      "That's how they do it where they from\n",
      "\n",
      "[Verse 1: Missy Elliott]\n",
      "I'm so faded, no exaggeration (What?)\n",
      "Backs breakin' like a percolation (What?)\n",
      "Boys to the yard for some hip spankin'\n",
      "Where you make it drop down like you in the matrix (Yeah!)\n",
      "Can't take it, them chicks been fakin' (What?)\n",
      "Y'all still sleep, better stay awakened (What?)\n",
      "Hot new dance for the hood to make it\n",
      "Make the donk move fast, make them think you drinkin' (Yeah!)\n",
      "Head to the floor don't collect that though (What?)\n",
      "You better huddle up cause the beat's so cold (Huh?)\n",
      "Pop that, pop that, cock and reload (Huh?)\n",
      "This another hit, I got an ace in the hole (What?)\n",
      "Boys on my back, playa, did you peep that?\n",
      "You got a small stack, playa, you can keep that (Huh?)\n",
      "I'm a Big Mac make you wanna eat that\n",
      "Like m-m-m-m-m, yak it to the yak (Yeah?)\n",
      "Junk in the trunk make you pumps in the bump\n",
      "Girls wanna have fun make you stickin' out your tongue (What?)\n",
      "\n",
      "[Hook: Missy Elliott]\n",
      "Shorty what?\n",
      "The dance that you doing is dumb\n",
      "How they do it where you from?\n",
      "Stickin' out your tongue girl\n",
      "But you know you're too young\n",
      "A bunch of girls do it and the shit look fun\n",
      "That's how they do it where we from\n",
      "You know it don't start till one\n",
      "That's how they do it where they from\n",
      "\n",
      "[Verse 2: Pharrell]\n",
      "I come into this bitch like liquid\n",
      "Drip, drip, then the business\n",
      "Click, click, get your picture\n",
      "Hermés Trismegistus\n",
      "Witness and get lifted\n",
      "Basic, nigga I was born in the basement\n",
      "Shape shift, nigga, I think like a spaceship\n",
      "False, oh-nah-nah-nah\n",
      "I am so different than y'all, so far apart\n",
      "The way that I balance the bars\n",
      "I never fall, and if I do I just call\n",
      "The almighty yellow star, God\n",
      "Lyrically I'm Optimus Prime\n",
      "The car I drive; La FER-RAR-I\n",
      "When I go by, smoke in your eyes\n",
      "So open your eyes, the joke's on you guys\n",
      "And you ain't gotta be a mason to see through\n",
      "Some of this shit on occasion\n",
      "\n",
      "[Hook: Missy Elliott]\n",
      "Shorty what?\n",
      "The dance that you doing is dumb\n",
      "How they do it where you from?\n",
      "Stickin' out your tongue, girl\n",
      "But you know you're too young\n",
      "A bunch of girls do it and the shit look fun\n",
      "That's how they do it where we from\n",
      "You know it don't start till one\n",
      "That's how they do it where they from\n",
      "\n",
      "[Verse 3: Missy Elliott]\n",
      "I'm like kak-a-rak-a-rak-rak-a-rak-a-rak\n",
      "Make a new track, make 'em fall on they crack\n",
      "Give 'em a slap, appetizer and smack\n",
      "I'm so fat in the back, make the boys all collapse\n",
      "Yeah, when I rap they be all on my jack\n",
      "Boys wanna jump on this pussy cat (Prrrr)\n",
      "Got a new idea, let me switch it\n",
      "Man, I'm so futuristic\n",
      "Big lips and big, big, big hips\n",
      "Body be thick like a biscuit\n",
      "Different, rippin' shit, microphone grippin' it\n",
      "Gettin' these Benjamins, new car, whippin' it\n",
      "Uh, I'm so far ahead of ya'll, man I'm on top of the stars\n",
      "I don't care none of you are, blah-blah-blah-blah\n",
      "You best to go rewrite your bars\n",
      "\n",
      "[Outro Missy Elliott & (Pharrell)]\n",
      "Shawty what?\n",
      "How they do it where you from? (Triflin'!)\n",
      "How they do it where you from?\n",
      "That's how they do it where we from\n",
      "That's how they do it where they from\n",
      "Shawty what?\n",
      "How they do it where you from? (Hey!)\n",
      "How they do it where you from?\n",
      "That's how they do it where we from\n",
      "That's how they do it where they from\n",
      "[Intro]\n",
      "Kore kara minna de mechakucha odotte\n",
      "Sawago sawago!\n",
      "Headbanger, hit me, hit me, hit me, hit me...\n",
      "Yeah, gimme some new shit\n",
      "Gimme some new shit\n",
      "Gimme some new shit\n",
      "Gimme some new shit\n",
      "\n",
      "[Verse 1]\n",
      "Missy be puttin' it down, I'm the hottest 'round\n",
      "I told y'all motherfuckers, y'all can't stop me now\n",
      "Listen to me now, I'm lastin' twenty rounds\n",
      "And if you want me (nigga) then come on, get me now\n",
      "Is you with me now? Then biggie, biggie bounce\n",
      "I know you dig the way I sw-sw-switch my style\n",
      "Holla\n",
      "People sing around\n",
      "Now people gather 'round, now people jump around\n",
      "\n",
      "[Hook]\n",
      "Go, get your freak on, go, get your freak on\n",
      "Go, get your freak on, go, get your freak on\n",
      "Go, get your freak on, go, get your freak on\n",
      "Go, get your freak on\n",
      "Go, getcha getcha getcha getcha getcha freak on\n",
      "Go, get your freak on, go, get your freak on\n",
      "Go, get your freak on, go, get your freak on\n",
      "Go, get your freak on, go, get your freak on\n",
      "Go, get your freak on\n",
      "Go, getcha getcha getcha getcha getcha freak on\n",
      "\n",
      "[Verse 2]\n",
      "Who’s that bitch? People you know\n",
      "Me and Timbaland been hot since twenty years ago\n",
      "What tha dilly yo? Now what tha drilly yo?\n",
      "If you wanna battle me then (nigga) let me know\n",
      "Holla\n",
      "Got to feel it, son\n",
      "Lemme throw you some (maut mujhko)\n",
      "People, here I come, now sweat me when I'm done\n",
      "We got the radio shook like we got a gun\n",
      "\n",
      "[Hook]\n",
      "Go, get your freak on, go, get your freak on\n",
      "Go, get your freak on, go, get your freak on\n",
      "Go, get your freak on, go, get your freak on\n",
      "Go, get your freak on\n",
      "Go, getcha getcha getcha getcha getcha freak on\n",
      "Go, get your freak on, go, get your freak on\n",
      "Go, get your freak on, go, get your freak on\n",
      "Go, get your freak on, go, get your freak on\n",
      "Go, get your freak on\n",
      "Go, getcha getcha getcha getcha getcha freak on\n",
      "\n",
      "[Verse 3]\n",
      "Quiet! (Shhh) Hush your mouth, silence when I spit it out\n",
      "(Hah-choo!) In your face, open your mouth, give you a taste\n",
      "Holla\n",
      "Ain't no stoppin' me, copy written so don't copy me\n",
      "Y'all do it sloppily and y'all can't come close to me\n",
      "I know you feel me now, I know you hear me loud\n",
      "I scream it loud and proud, Missy gon' blow it down\n",
      "People gon' play me now, in and outta town\n",
      "'Cause I'm the best around with this crazy style\n",
      "\n",
      "[Hook]\n",
      "Go, get your freak on, go, get your freak on\n",
      "Go, get your freak on, go, get your freak on\n",
      "Go, get your freak on, go, get your freak on\n",
      "Go, get your freak on\n",
      "Go, getcha getcha getcha getcha getcha freak on\n",
      "Go, get your freak on, go, get your freak on\n",
      "Go, get your freak on, go, get your freak on\n",
      "Go, get your freak on, go, get your freak on\n",
      "Go, get your freak on\n",
      "Go, getcha getcha getcha getcha getcha freak on\n",
      "\n",
      "[Outro]\n",
      "Ichi, ni, san, ji\n",
      "[Hook: Lamb]\n",
      "I'mma start it from the bottom\n",
      "Show you how to flip a dollar\n",
      "I got food in my dining room\n",
      "I'm better, I'm better, I'm better\n",
      "It's another day, another chance\n",
      "I wake up, I wanna dance\n",
      "So as long as I got my friends...\n",
      "I'm better, I'm better, I'm better\n",
      "\n",
      "[Verse 1: Missy]\n",
      "He say I'm hot, I'm so fuego\n",
      "Pull up on him in my vehicle\n",
      "He say I'm pretty, I'm pretty\n",
      "You must be from Brazil, or must be from México\n",
      "Roll up on him in my Lambo\n",
      "Jump out like skrrrt, yeah bro\n",
      "You need a chick like me to make you wanna leave them other broads, you don't know nann hoe\n",
      "\n",
      "[Bridge: Missy]\n",
      "Yeah he got bands in the Bando\n",
      "Missy got dudes in Orlando\n",
      "Plus I got cars that he paying for\n",
      "Man I be too much to handle\n",
      "Watch what I do, when I get up on you\n",
      "Pop potential in my room and zoom in the poom\n",
      "He watching my body like he watching Scandal\n",
      "But I'm just here, with my girls\n",
      "\n",
      "[Hook: Lamb]\n",
      "I'mma start it from the bottom\n",
      "Show you how to flip a dollar\n",
      "I got food in my dining room\n",
      "I'm better, I'm better, I'm better\n",
      "It's another day, another chance\n",
      "I wake up, I wanna dance\n",
      "So as long as I got my friends...\n",
      "I'm better, I'm better, I'm better\n",
      "\n",
      "[Verse 2: Missy]\n",
      "Missy so hot, I'm from VA\n",
      "The car that I drive be Ferr-ar-i\n",
      "My clique is so thick and the boys they be hollin' and whistlin'\n",
      "At me like damn bae\n",
      "Man I'm 3000, I'm André\n",
      "Yo Missy talk big, I'm so grande\n",
      "Bruce Lee on the beat, I don't compete with none of these geeks\n",
      "I just rant like I'm Kanye\n",
      "\n",
      "[Bridge 2: Missy]\n",
      "Yeah he got bands in the Bando\n",
      "Missy got dudes in Orlando\n",
      "And I be driving cars he paying for\n",
      "He say I'm too much, I'm a handful\n",
      "He watching my body like watching he Scandal\n",
      "But I'm just here, with my girls\n",
      "\n",
      "[Hook: Lamb]\n",
      "I'mma start it from the bottom\n",
      "Show you how to flip a dollar\n",
      "I got food in my dining room\n",
      "I'm better, I'm better, I'm better\n",
      "It's another day, another chance\n",
      "I wake up, I wanna dance\n",
      "So as long as I got my friends...\n",
      "I'm better, I'm better, I'm better\n",
      "\n",
      "[Verse 3: Missy]\n",
      "Brand new flow when I rap\n",
      "DJ, bring that back\n",
      "You ain't ever heard a track like that\n",
      "Shit might slap, booty go clap\n",
      "Roll up in the Benz\n",
      "Looking like a ten, stack\n",
      "When I rock, make it bop, in my car\n",
      "And it bang-bang-bang like (tune-out noise) go blap-blap-blap\n",
      "\n",
      "[Bridge 3: Missy]\n",
      "Yeah he got bands in the Bando\n",
      "Missy got dudes in Orlando\n",
      "Buying me bags and new shoes and new cars and everything I know that he paying for\n",
      "Yeah he be hooking me up\n",
      "Yeah he be looking me up\n",
      "Watch what I do, when I get up on you\n",
      "Pop potential and zoom in the poom\n",
      "\n",
      "[Hook: Lamb]\n",
      "I'mma start it from the bottom\n",
      "Show you how to flip a dollar\n",
      "I got food in my dining room\n",
      "I'm better, I'm better, I'm better\n",
      "It's another day, another chance\n",
      "I wake up, I wanna dance\n",
      "So as long as I got my friends...\n",
      "I'm better, I'm better, I'm better\n",
      "[Intro: People in background chatting]\n",
      "Yo, yo yo move out of the way\n",
      "We got Missy Elliott coming through\n",
      "Girl that is Missy Elliott she lost a lot of weight\n",
      "Girl I heard she eats one cracker a day\n",
      "Oh well I heard the bitch was married to Tim and started fucking with Trina\n",
      "I heard the bitch got hit with three zebras and a monkey\n",
      "I can't stand the bitch no way\n",
      "\n",
      "[Verse 1: Missy Elliott]\n",
      "When I walk up in the piece\n",
      "I ain't gotta even speak\n",
      "I'm a bad mamajama\n",
      "Goddammit motherfucker you ain't gotta like me\n",
      "How you stuntin' these hoes\n",
      "Need to talk what you know\n",
      "And stop talking bout who I'm sticking and licking\n",
      "Just mad it ain't yours\n",
      "I know ya'll po' ya'll broke\n",
      "Ya'll job just hanging up clothes\n",
      "Step to me get burnt like toast\n",
      "Muthafuckas, adios amigos\n",
      "Halves halves wholes wholes\n",
      "I don't brag I mostly boast\n",
      "From the VA to the LA coast\n",
      "Izzy kizzy lizzy goh\n",
      "\n",
      "[Chorus]\n",
      "Millze cillzan sillzome plilzay dilzzouble dilzutch!\n",
      "Hilzzoo?\n",
      "My gizzirl!\n",
      "Brillzing her izzin!\n",
      "Izzo kizzay!\n",
      "Izzall rizzight...\n",
      "Izzo kizzay!\n",
      "Izzall rizzight! Nizzow wizzee wilzzo-izzo-zee!\n",
      "\n",
      "[Verse 2: Missy Elliott]\n",
      "When I pull up in my whip\n",
      "Bitches wanna talk shit\n",
      "I'm driving I'm glad and I'm styling\n",
      "In these muthafuckas ask, did you see it?\n",
      "I'm gripping these curbs\n",
      "Skrrt Did ya heard?\n",
      "I love em, my feathers, my furs\n",
      "I fly like a bird\n",
      "Chicken heads on the prowl\n",
      "Who you trying fuck now?\n",
      "Now you ain't getting loud\n",
      "Better calm down 'for I smack your ass down\n",
      "I need my drums bass high\n",
      "Has to be my snare, strings, horns, yes\n",
      "I need my Tim sound\n",
      "Right, left\n",
      "Izzy kizzy looky here\n",
      "\n",
      "[Chorus]\n",
      "Millze cillzan sillzome plilzay dilzzouble dilzutch!\n",
      "Hilzzoo?\n",
      "My gizzirl!\n",
      "Brillzing her izzin!\n",
      "Izzo kizzay!\n",
      "Izzall rizzight...\n",
      "Izzo kizzay!\n",
      "Izzall rizzight! Nizzow wizzee wilzzo-izzo-zee!\n",
      "\n",
      "[Bridge: Missy]\n",
      "I don't go out my house shorty\n",
      "You just waiting to see\n",
      "Who gon' roll up in the club and then report that next week\n",
      "Just wanna see who I am fucking boy\n",
      "Sniffing some coke\n",
      "I know by the time I finish this line Imma hear this on the radio\n",
      "\n",
      "[Verse 3: Ludacris]\n",
      "Yeah, uh huh, okay\n",
      "Once upon a time in College Park\n",
      "Where they live life fast and they scared of dark\n",
      "There was a little nigga by the name of Chris\n",
      "Nobody paid him any mind\n",
      "No one gave a shit\n",
      "Knowing he could rap\n",
      "No one lifted hands\n",
      "So he went about his business and devised a plan\n",
      "Made a CD and then he hit the block\n",
      "50 thousand sold\n",
      "Seven dollars a pop\n",
      "Hold the phone\n",
      "Three years later\n",
      "Stepped out the swamp\n",
      "With ten and a half gators\n",
      "Now all around the world on the microphone\n",
      "He leave the booth smelling like Burberry cologne\n",
      "Still riding chrome\n",
      "Got bitches in the kitchen\n",
      "Never home alone\n",
      "And he's on the grind\n",
      "Please let me know if he's on your mind\n",
      "And respect you'll give me\n",
      "Ludacris I live loud just like Timmy\n",
      "Fuck, have to clear these rumors\n",
      "I got a headache and it's not a tumor\n",
      "Get up on my lap and get my head sucked tight\n",
      "Sprayed so I never let the bed bugs bite\n",
      "Hard to the core\n",
      "Core to the rotten\n",
      "Jump down, turn around, pick a bale of cotton\n",
      "Yahh\n",
      "\n",
      "[Chorus]\n",
      "Millze cillzan sillzome plilzay dilzzouble dilzutch!\n",
      "Hilzzoo?\n",
      "My gizzirl!\n",
      "Brillzing her izzin!\n",
      "Izzo kizzay!\n",
      "Izzall rizzight...\n",
      "Izzo kizzay!\n",
      "Izzall rizzight! Nizzow wizzee wilzzo-izzo-zee!\n",
      "\n",
      "[People in the background chatting]\n",
      "Yo, straight up Missy killed that shit tonight for real\n",
      "I know I know, I don't even care about her being preganant by Michael Jackson\n",
      "You know what we should do\n",
      "We should go get her album when it comes out\n",
      "There she go, there she go, there she\n",
      "Heeeey Misssy\n",
      "\n",
      "[Missy]\n",
      "Hi Missy?\n",
      "What's up fools?\n",
      "You think I ain't knowin y'all broke, Milli Vanilli\n",
      "J.J. Fad wannabes ain't over here gossiping bout me?\n",
      "Yo how bout you buff these Pumas for 20 cents\n",
      "So your lights won't get cut off\n",
      "You soggy breasts, cow stomachs\n",
      "Yo take those baby GAP shirts off, too\n",
      "You just mad cuz Payless ran outa plastic pumps for the after party\n",
      "Yo by the way, go get my album\n",
      "Damn!\n",
      "\n",
      "[Chorus/Outro]\n",
      "Millze cillzan sillzome plilzay dilzzouble dilzutch!\n",
      "Hilzzoo?\n",
      "My gizzirl!\n",
      "Brillzing her izzin!--(Echos)\n",
      "[Intro: Missy Elliott & Timbaland]\n",
      "[*Yawning*]\n",
      "Run the track\n",
      "\n",
      "[Chorus: Missy Elliott & Ann Peebles]\n",
      "Me I'm super fly, super dupa fly\n",
      "(I can't stand the rain) Supa dupa fly\n",
      "Me I'm super fly, (against my window) super dupa fly\n",
      "(I can't stand the rain) supa dupa fly\n",
      "Me I'm super fly, (against my window) super dupa fly\n",
      "(I can't stand the rain) supa dupa fly\n",
      "Me I'm super fly, (against my window)\n",
      "\n",
      "[Verse 1: Missy Elliott]\n",
      "When the rain hits my window\n",
      "I take and *cough* me some indo\n",
      "Me and Timbaland, ooh, we sang a jangle\n",
      "We so tight that you get our styles tangled\n",
      "Sway on dosie-do like you loco\n",
      "Can we get kinky tonight?\n",
      "Like Coko, so-so\n",
      "You don't wanna play with my Yo-Yo\n",
      "I smoke my hydro on the D-low (D-D-D-D-D-low)\n",
      "\n",
      "[Hook: Ann Peebles]\n",
      "I can't stand the rain against my window\n",
      "I can't stand the rain against my window\n",
      "I can't stand the rain against my window\n",
      "I can't stand the rain against my window\n",
      "I can't stand the rain\n",
      "\n",
      "[Verse 2: Missy Elliott]\n",
      "Beep, beep, who got the keys to the Jeep, vroom\n",
      "I'm driving to the beach\n",
      "Top down, loud sounds, see my peeps\n",
      "Give them pounds, now look who it be\n",
      "It be me, me, me and Timothy\n",
      "Look like it's 'bout to rain, what a shame\n",
      "I got the Armor-All to shine up the stain\n",
      "Oh, Missy, try to maintain\n",
      "Icky-icky-icky-icky-icky-icky-icky\n",
      "\n",
      "[Hook: Ann Peebles]\n",
      "I can't stand the rain against my window\n",
      "I can't stand the rain against my window\n",
      "I can't stand the rain against my window\n",
      "I can't stand the rain against my window\n",
      "I can't stand the rain\n",
      "\n",
      "[Verse 3: Missy Elliott & Ann Peebles]\n",
      "I feel the wind\n",
      "5, 6, 7, 8, 9, 10\n",
      "9, 10\n",
      "Begin, I sit on Hills like Lauryn\n",
      "Until the rain starts coming down, pouring\n",
      "Chill, I got my umbrella\n",
      "My finger waves these days, they fall like Humpty\n",
      "Chumpy, I break up with him before he dump me\n",
      "To have me, (I can't stand the rain), yes, you lucky (against my window)\n",
      "\n",
      "[Outro: Ann Peebles]\n",
      "I can't stand the rain against my window\n",
      "I can't stand the rain against my window\n",
      "I can't stand the rain against my window\n",
      "I can't stand the rain\n",
      "I can't stand the rain\n",
      "I can't stand the rain\n",
      "I can't stand the rain\n",
      "I can't stand the rain against my window\n",
      "I can't stand the rain against my window\n",
      "I I can't stand the rain against my window\n",
      "I can't stand the rain against my window\n",
      "I can't stand the rain\n",
      "I can't stand the rain\n",
      "I can't stand the rain\n",
      "I can't stand the rain\n",
      "[Intro: Fatman Scoop]\n",
      "Music make you lose control, music make you lose control\n",
      "Let's go! Hey, hey, hey, hey, hey, hey\n",
      "Here we go now, here we go now, here we go now, here we go now\n",
      "(Music make you lose control)\n",
      "Misdemeanor's in the house\n",
      "Ciara's in the house\n",
      "Misdemeanor's in the house\n",
      "Fatman Scoop-man Scoop-man Scoop..\n",
      "\n",
      "[Verse 1: Missy]\n",
      "I got a cute face, chubby waist\n",
      "Thick legs, in shape\n",
      "Rump shakin, both ways\n",
      "Make you do a double take\n",
      "Planet rocker, show stopper\n",
      "Flow proper, head knocker\n",
      "Beat scholar, tail dropper\n",
      "Do my thang, motherfucker\n",
      "My Rolls Royce, Lamborghini\n",
      "Blue Madena, always beamin\n",
      "Rag top, chrome pipes\n",
      "Blue lights, outta sight\n",
      "(Long weave) sewed in\n",
      "(Say it again) sewed in\n",
      "Make that money, throw it in\n",
      "Booty bouncin, gone head\n",
      "\n",
      "[Hook: Ciara & Missy Elliot]\n",
      "Everybody here - get it out of control\n",
      "Get your backs off the wall, cause Misdemeanor said so\n",
      "Everybody, everybody, everybody, everybody\n",
      "(Just throw your hands in the air!)\n",
      "\n",
      "[Break: Ciara & (Missy Elliot)]\n",
      "Well my name is Ciara, for all you fly fellas\n",
      "No one, can do it better (She'll sing on acapella)\n",
      "Boy the music makes me lose control\n",
      "\n",
      "[Verse 3: Missy]\n",
      "(Now bring it back now!) We gon' make you lose control\n",
      "And let it go, 'fore you know, you gon' hit the flo'\n",
      "I rock to the beat til I'm (tired)\n",
      "I walk in the club it's (fire)\n",
      "Get it crunk and wired\n",
      "Wave your hands scream (louder)\n",
      "If you smoke then fire it up\n",
      "Brang the roof down and (holla)\n",
      "If you tipsy stand up\n",
      "DJ turn it (louder)\n",
      "Take somebody by the waist and (uhh!)\n",
      "Now throw it in they face like (uhh!)\n",
      "Hypnotic robotic, this here will rock yo' bodies\n",
      "Take somebody by the waist and (uhh!)\n",
      "Now throw it in they face like (uhh!)\n",
      "Systematic ecstatic (THIS HIT BE AUTOMATIC)\n",
      "\n",
      "[Bridge - Missy & Fatman Scoop]\n",
      "Work me, work, work\n",
      "Work me, work, work\n",
      "Work me, work, work\n",
      "Work me, do it right\n",
      "Hit the floor, hit the floor\n",
      "Hit the floor, hit the floor\n",
      "Hit the floor, hit the floor\n",
      "Hit the floor, hit the floor\n",
      "\n",
      "[Hook - Missy & Fatman]\n",
      "Everybody here - get it out of control\n",
      "Get your backs off the wall, cause Misdemeanor said so\n",
      "Everybody, everybody, everybody, everybody\n",
      "(Just throw your hands in the air!)\n",
      "Everybody here - get it out of control\n",
      "Get your backs off the wall, cause Misdemeanor said so\n",
      "Everybody, everybody, everybody, everybody\n",
      "(Just throw your hands in the air!)\n",
      "\n",
      "[Fatman Scoop] + (Missy)\n",
      "Get your back off the wall, get your back off the wall\n",
      "Get your back off the wall, get your back off the wall\n",
      "(Everybody, get loose) Now put your back, on the wall\n",
      "Put your back, on the wall\n",
      "Put your back, on the wall, put your back, on the wall\n",
      "Misdemeanor's in the house\n",
      "Yeah, Ciara's in the house\n",
      "Misdemeanor's in the house, \"Music make you lose control\"\n",
      "We on fire, we on fire, we on fire, we on fire\n",
      "Now throw it girl, throw it girl, throw it girl, yes\n",
      "Now move your arms to the left girl\n",
      "Now move your arms to the left girl\n",
      "Now move your arms to the right girl\n",
      "Now move your arms to the right girl\n",
      "Let's go now, let's go now, let's go now, WOO! Let's go\n",
      "Should I bring it back right now?\n",
      "Now bring it back down!\n",
      "WOO! Oh, I see you Ci\n",
      "Now see, I'mma I'mma do it like Ci do it\n",
      "Now shake it girl, c'mon and just shake it girl\n",
      "C'mon and let it pop right girl, c'mon and let it pop right girl\n",
      "Now, now, now back it up girl, back it up girl\n",
      "Back it up girl, back it up girl\n",
      "WOO! WOO! WOO! Yo, yo\n",
      "Bring it to the front girl, yo, yo\n",
      "Bring it to the front girl, yo, yo\n",
      "Bring it to the front girl, yo, yo\n",
      "Bring it to the front girl, let's go, let's go\n",
      "[Intro]\n",
      "Ooh, I don't want I don't need I can't stand no minute man\n",
      "I don't want no minute man\n",
      "Ooh, here's your chance be a man take my hand understand\n",
      "I don't want no minute man\n",
      "Ooh, ooh, ooh, ah, ah, ooh, ooh, ah\n",
      "\n",
      "[Verse 1]\n",
      "Boy I'mma make you love me, make you want me\n",
      "And I'mma give you some attention, tonight (Shut up!)\n",
      "Now follow my intuitions, what you're wishin'\n",
      "See I'mma keep you up all night (all night), for a long time\n",
      "So start countin' away\n",
      "\n",
      "[Hook]\n",
      "Break me off, show me what you got\n",
      "Cause I don't want, no one minute man\n",
      "Break me off, show me what you got\n",
      "Cause I don't want, no one minute man\n",
      "Break me off, show me what you got\n",
      "Cause I don't want, no one minute man\n",
      "Break me off, show me what you got\n",
      "Cause I don't want, no\n",
      "\n",
      "[Verse 2]\n",
      "Tonight I'mma give it to you, throw it to you\n",
      "I want you to come prepared, ohh yeah (Oh yes)\n",
      "Boy it's been a long time, a crazy long time\n",
      "And I don't want no minute man, and that's real\n",
      "Give it to me some more\n",
      "\n",
      "[Hook]\n",
      "Break me off, show me what you got\n",
      "Cause I don't want, no one minute man\n",
      "Break me off, show me what you got\n",
      "Cause I don't want, no one minute man\n",
      "Break me off, show me what you got\n",
      "Cause I don't want, no one minute man\n",
      "Break me off, show me what you got\n",
      "Cause I don't want, no\n",
      "\n",
      "[Verse 3: Ludacris]\n",
      "It's time to set your clock back bout as long as you can\n",
      "I stop daylight, it's Ludacris the maintenance man\n",
      "Get your oil changed, I check fluids and transmission\n",
      "You one minute fools, you wonder why y'all missin\n",
      "On the back of milk cartons and there's no reward\n",
      "No regards, close but it's no cigar\n",
      "A hard head make a soft ass, but a hard dick make the sex last\n",
      "I jump in pools and make a big splash\n",
      "Water overflowin, so get your head right\n",
      "It's all in your mind punk so keep your head tight\n",
      "Enough with tips and advice and thangs\n",
      "I'm big dog, havin women seein stripes and thangs\n",
      "They go to sleep, start snorin, countin sheep and shit\n",
      "They so wet, that they body start to leak and shit\n",
      "Just cause I'm an all-nighter, shoot all fire\n",
      "Ludacris, balance and rotate all tires\n",
      "\n",
      "[Bridge]\n",
      "Ooh, I don't want I don't need I can't stand no minute man\n",
      "I don't want no minute man\n",
      "Ooh, here's your chance be a man take my hand understand\n",
      "I don't want no minute man\n",
      "\n",
      "[Hook]\n",
      "Break me off, show me what you got\n",
      "Cause I don't want, no one minute man\n",
      "Break me off, show me what you got\n",
      "Cause I don't want, no one minute man\n",
      "Break me off, show me what you got\n",
      "Cause I don't want, no one minute man\n",
      "Break me off, break me off, break me off\n",
      "Cause I don't want, no one minute man\n",
      "\n",
      "[Verse 4: Trina]\n",
      "You know lil' mama ain't with that quick shit\n",
      "You better break me off stiff tongue or stiff dick\n",
      "One minute, two minutes, three minutes\n",
      "Hell naw, to please me you gotta sleep in it\n",
      "I see you talk a good game and you play hard\n",
      "But if I put this thing on ya, can you stay hard?\n",
      "If not, you better keep your day job\n",
      "Cause I'm looking for a man to make me say God\n",
      "I'm off glass and you know this\n",
      "I'll work your ass out like aerobics\n",
      "So baby stay focused\n",
      "Start off slow and then speed it up\n",
      "Baby show me what you got, is you a G or what?\n",
      "If you can't beat it up then eat it up\n",
      "Put a cherry on top, whip cream it up, What?\n",
      "\n",
      "[Outro]\n",
      "Break me off, show me what you got\n",
      "Cause I don't want, no one minute man\n",
      "Break me off, show me what you got\n",
      "[Intro]\n",
      "Listen up, everyone!\n",
      "We have been just informed that there's an unknown virus that's attacking all clubs\n",
      "Symptoms have been said to be: heaving breathing, wild dancing, coughing\n",
      "So when you hear the sound \"who-di-whoooo!\"\n",
      "Run for cover, motherfucker!\n",
      "Woooooo! Ahh, daddy! Ooooo! Ah! oh, ooh!\n",
      "Pass that dutch (ah), pass that dutch (ooh)\n",
      "Pass that dutch (ah), pass that dutch (ah)\n",
      "Pass that dutch (ah), pass that dutch (ah)\n",
      "Pass that dutch (whoo), pass that dutch\n",
      "\n",
      "[Verse 1]\n",
      "Misdemeanor on the flow, pretty boy, here I come\n",
      "Pumps and a bump make you wanna hurt something\n",
      "I can take your man, I don't have to sex 'em\n",
      "Hang 'em out the window, call me Michael Jackson (hehehee!)\n",
      "I'm a pain in your rectum, I am that bitch y'all slept on\n",
      "Heavy hitter, rhyme spitter, call me Re-Run\n",
      "Hey, hey, hey, I'm what's happ'nin\n",
      "Hpnotiq in my drink (That’s right!)\n",
      "Shake ya ass 'til it stink (That's right!)\n",
      "Mr. Mos' on the beat (That's right!)\n",
      "Put it down for the streets (That's right!)\n",
      "\n",
      "[Chorus]\n",
      "(Who-di-whooooooooooooo!)\n",
      "Pass that dutch, pass that dutch\n",
      "Pass that dutch, pass that dutch, pass that dutch\n",
      "Come on, pass the dutch, baby! (ahh!)\n",
      "Shake-shake shake ya stuff, ladies!\n",
      "(Who-di-whooooooooooooo!)\n",
      "Pass that dutch, pass that dutch\n",
      "Pass that dutch, pass that dutch\n",
      "Pop that, pop that, jiggle that fat (ahh!)\n",
      "Don't stop, get it 'til ya clothes get wet\n",
      "\n",
      "[Verse 2]\n",
      "Number one; drums go bump, bump, bump\n",
      "This beat here will make your pum pum jump\n",
      "If you's a fat one, put your clothes back on\n",
      "Before you start putting pot holes in my lawn\n",
      "Oh my gosh, oh my gosh\n",
      "I'm under attack like my name was Saddam\n",
      "I am the bomb from New York to Milan\n",
      "And I can write a song sicker than Jeffrey Dahm'\n",
      "(Woop woop!) Don't touch my car alarm\n",
      "Break in my car, you will hear \"Viper Armed\"\n",
      "I've been a superstar since Daddy Kane was raw\n",
      "I'm live on stage, c'mon and give me some applause\n",
      "\"Thank you! Oh, thank you, you all are so wonderful!\"\n",
      "\n",
      "[Chorus]\n",
      "(Who-di-whooooooooooooo!)\n",
      "Pass that dutch, pass that dutch\n",
      "Pass that dutch, pass that dutch, pass that dutch\n",
      "Come on, pass the dutch, baby! (ahh!)\n",
      "Shake-shake shake ya stuff, ladies!\n",
      "(Who-di-whooooooooooooo!)\n",
      "Pass that dutch, pass that dutch\n",
      "Pass that dutch, pass that dutch\n",
      "Pop that, pop that, jiggle that fat (ahh!)\n",
      "Don't stop, get it 'til ya clothes get wet\n",
      "\n",
      "[Interlude]\n",
      "Listen up, motherfuckers\n",
      "You have five seconds to catch your breath\n",
      "Five, four, three, two, one\n",
      "\n",
      "[Verse 3]\n",
      "Pop that, pop that, make that money\n",
      "Just keep it going like the Energizer Bunny\n",
      "Shake that, shake that, move it all around\n",
      "Spank that, yank that, dutch back now\n",
      "Freak him, freak her, whatever your choice\n",
      "Didn't come to judge, I came to get ya moist\n",
      "Scream \"Who-di-whooooooo!\", now my voice is lost\n",
      "Can I get a ride on the white horse?\n",
      "\n",
      "[Chorus]\n",
      "(Who-di-whooooooooooooo!)\n",
      "Pass that dutch, pass that dutch\n",
      "Pass that dutch, pass that dutch, pass that dutch\n",
      "Come on, pass the dutch, baby! (ahh!)\n",
      "Shake-shake shake ya stuff, ladies!\n",
      "(Who-di-whooooooooooooo!)\n",
      "Pass that dutch, pass that dutch\n",
      "Pass that dutch, pass that dutch\n",
      "Pop that, pop that, jiggle that fat (ahh!)\n",
      "Don't stop, get it 'til ya clothes get wet\n",
      "\n",
      "[Outro]\n",
      "Pop that\n",
      "Pass that dutch, baby!\n",
      "Jiggle that fat\n",
      "[Missy]\n",
      "This is for my ghetto motherfuckers, uh\n",
      "\n",
      "[Nas]\n",
      "Uh, forty side felony\n",
      "Felony, misdemeanor\n",
      "The charge is murder\n",
      "Escobar CBR bikes\n",
      "I'm switching gears\n",
      "Headlights, shine so bright\n",
      "Bitches freeze like deers\n",
      "Them fiends want that deep boy\n",
      "Feds send in a decoy, pack that heat boy\n",
      "Push ya where ya rest in peace boy\n",
      "Get your mama's house shot up\n",
      "Bodies all chopped up\n",
      "When them bodies pop up, I ain't getting' locked up\n",
      "My Bentley cruise the block, with the sun roof top\n",
      "Hood rats jumpin' on my jock cause I blew up the spot\n",
      "Crushin' your Benz, crushin' your Navigator system\n",
      "My QB piece make y'all niggas tuck your shit in\n",
      "It's Nas in your area, Queens 'bout to tear it up\n",
      "Braveheart y'all scared of us, real niggas, they be us\n",
      "\n",
      "[Missy & Lil' Mo]\n",
      "What's your name, cause I'm impressed?\n",
      "Can you treat me good, I won't settle for less\n",
      "You a hot boy, a rock boy\n",
      "A fun toy, tote a Glock boy\n",
      "Where you live, is it by yourself?\n",
      "Can I move with you, do you need some help?\n",
      "I cook boy, I'll give you more\n",
      "I'm a fly girl, and I like those\n",
      "\n",
      "1 - [Missy & Lil' Mo]\n",
      "Hot boyz\n",
      "Baby you got what I want\n",
      "See cause y'all be driving Lexus jeeps\n",
      "And the Benz jeeps, and the Lincoln jeeps\n",
      "Nothin' cheaper, got them Platinum Visa's\n",
      "Hot boyz\n",
      "Baby you got what I want\n",
      "See cause y'all be driving' Jaguars\n",
      "And the Bentley's, and the Rolls Royce\n",
      "Playin' hardballs with them Platinum Visa's\n",
      "\n",
      "[Missy & Lil' Mo]\n",
      "Is that your car, the XK-8?\n",
      "Are you riding alone, can I be your date?\n",
      "Come get me, get me, don't diss me, don't trick me\n",
      "Got some friends, can they come too?\n",
      "Can you hook them up wit' some boyz like you\n",
      "A hot boy, a rock boy, on top boy\n",
      "And I like those\n",
      "\n",
      "Repeat 1\n",
      "\n",
      "[Eve]\n",
      "Yo only take 'em thugged out\n",
      "Slightly bugged out, fuck with his tongue out\n",
      "Know the job ain't getting done, until the body getting drugged out\n",
      "Hot boy, keep me right\n",
      "Play your part and I'll keep it tight\n",
      "Where else you gonna be in the middle of the night\n",
      "But up in the sheets with me aiight\n",
      "Gangsta, true to your gang, street master\n",
      "You the one I need when there's beef, street blaster\n",
      "Ain't afraid to stop a cat, plus pop a cat, huh\n",
      "Soldier, cash money, rule your world\n",
      "What's topping that?\n",
      "Huh, S-4-3-0 keep me on my toes\n",
      "Get a tingle in my spine, what spot? Only he knows\n",
      "He's a hot boy, Missy sing it out and I'm gon' spit it\n",
      "Ruff Ryders scream it loud, daddy is you with it\n",
      "If your team can't handle my bitches then we gon' ride\n",
      "Brickhouse stallions, keep thugs open wide, huh\n",
      "'Illadelph's best E-V-E stay committed\n",
      "Mess with many, but if he ain't the realer\n",
      "I ain't with it, with it\n",
      "\n",
      "[Q-Tip]\n",
      "Yo, mami, what the deal?\n",
      "Ain't no heat fuckin' hotter than the heat a nigga hold\n",
      "I think you really should be told that I deal with long shafts\n",
      "That keep a long blast (blast)\n",
      "Now look at a nigga and peel off fast (come on)\n",
      "Word you got your girlfriend\n",
      "Word, she can get it too\n",
      "Fuck it though, I'm honest yo\n",
      "I'm saying though, let's play it through\n",
      "Getting cinematic with it\n",
      "Niggas if you got it, hit it\n",
      "Fuck the dumbness\n",
      "Hit it till its numbness\n",
      "\n",
      "[Missy & Lil' Mo']\n",
      "Hot boy\n",
      "Baby you got what I want\n",
      "Won't you really come and satisfy me\n",
      "I be lovin' you like endlessly\n",
      "(Everyday all day)\n",
      "Hot boy\n",
      "Baby you got what I want\n",
      "Won't you really come and satisfy me\n"
     ]
    }
   ],
   "source": [
    "for song in artist.songs:\n",
    "    print(song.lyrics)"
   ]
  },
  {
   "cell_type": "markdown",
   "metadata": {},
   "source": [
    "## Get Specific Song and Lyrics By a Specific Artist"
   ]
  },
  {
   "cell_type": "markdown",
   "metadata": {},
   "source": [
    "To get the song lyrics from a specific artist, you can use the method `.search_song()`"
   ]
  },
  {
   "cell_type": "code",
   "execution_count": 42,
   "metadata": {},
   "outputs": [
    {
     "name": "stdout",
     "output_type": "stream",
     "text": [
      "Searching for \"Missy Elliott\" by Work It...\n",
      "Done.\n"
     ]
    }
   ],
   "source": [
    "song = LyricsGenius.search_song(\"Missy Elliott\", \"Work It\")"
   ]
  },
  {
   "cell_type": "code",
   "execution_count": 43,
   "metadata": {
    "scrolled": true,
    "tags": [
     "output_scroll"
    ]
   },
   "outputs": [
    {
     "data": {
      "text/plain": [
       "\"[Intro]\\nDJ, please pick up your phone, I'm on the request line\\nThis is a Missy Elliott one-time exclusive, come on\\n\\n[Chorus]\\nIs it worth it? Let me work it\\nI put my thing down, flip it and reverse it\\nTi esrever dna ti pilf, nwod gniht ym tup\\nTi esrever dna ti pilf, nwod gniht ym tup\\nIf you got a big *elephant trumpet*, let me search ya\\nAnd find out how hard I gotta work ya\\nTi esrever dna ti pilf, nwod gniht ym tup\\nTi esrever dna ti pilf, nwod gniht ym tup\\nC'mon\\n\\n[Verse 1]\\nI'd like to get to know ya so I could show ya\\nPut the pussy on ya like I told ya\\nGive me all your numbers so I can phone ya\\nYour girl acting stank, then call me over\\nNot on the bed, lay me on your sofa\\nCall before you come, I need to shave my chocha\\nYou do or you don't or you will or won't ya?\\nGo downtown and eat it like a vulture\\nSee my hips and my tips, don't ya?\\nSee my ass and my lips, don't ya?\\nLost a few pounds and my waist for ya\\nThis the kinda beat that go ra-ta-ta\\nRa-ta-ta-ta-ta-ta-ta-ta-ta-ta\\nSex me so good I say blah-blah-blah\\nWork it, I need a glass of water\\nBoy, oh boy, it's good to know ya\\nC'mon\\n\\n[Chorus]\\nIs it worth it? Let me work it\\nI put my thing down, flip it and reverse it\\nTi esrever dna ti pilf, nwod gniht ym tup\\nTi esrever dna ti pilf, nwod gniht ym tup\\nIf you got a big *elephant trumpet*, let me search ya\\nAnd find out how hard I gotta work ya\\nTi esrever dna ti pilf, nwod gniht ym tup\\nTi esrever dna ti pilf, nwod gniht ym tup\\nC'mon\\n\\n[Verse 2]\\nIf you a fly gal, get your nails done\\nGet a pedicure, get your hair did\\nBoy, lift it up, let's make a toast-a\\nLet's get drunk, that's gonna bring us closer\\nDon't I look like a Halle Berry poster?\\nSee the Belvedere playing tricks on ya\\nGirlfriend wanna be like me, never\\nYou won't find a bitch that's even better\\nI make you hot as Las Vegas weather\\nListen up close while I take it backwards\\n\\u200bsdrawkcab ti ekat ot ekil yssiM yaw eht hctaW\\nI'm not a prostitute, but I could give you what you want\\nI love your braids and your mouth full of fronts\\nLove the way my ass go bum-bum-bum-bum\\nKeep your eyes on my bum-bum-bum-bum-bum\\nYou think you can handle this badonka-donk-donk\\nTake my thong off and my ass go boom\\nCut the lights on so you see what I could do\\nC'mon\\n\\n[Chorus]\\nIs it worth it? Let me work it\\nI put my thing down, flip it and reverse it\\nTi esrever dna ti pilf, nwod gniht ym tup\\nTi esrever dna ti pilf, nwod gniht ym tup\\nIf you got a big *elephant trumpet*, let me search ya\\nAnd find out how hard I gotta work ya\\nTi esrever dna ti pilf, nwod gniht ym tup\\nTi esrever dna ti pilf, nwod gniht ym tup\\nC'mon\\n\\n[Verse 3]\\nBoys, boys, all type of boys\\nBlack, White, Puerto Rican, Chinese boys (C'mon)\\nWhy-thai, thai-o-toy-o-thai-thai\\nRock-thai, thai-o-toy-o-thai-thai (C'mon)\\nGirls, girls, get that cash\\nIf it's 9 to 5 or shaking your ass (Aha)\\nAin't no shame, ladies do your thing (C'mon)\\nJust make sure you ahead of the game\\nJust 'cause I got a lot of fame super\\nPrince couldn't get me change my name, papa\\nKunta Kinte a slave again, no sir\\nPicture blacks saying, “Oh yes'a, massa”\\nPicture Lil' Kim dating a pastor\\nMinute Man and Big Red could outlast ya\\nWho is the best? I don't have to ask ya\\nWhen I come out, you won't even matter\\nWhy you act dumb like, uh, duh?\\nSo you act dumb like, uh, duh\\nAs the drummer boy go ba-rom-pop-pom-pom\\nGive you some-some-some of this Cinnabun\\nC'mon\\n\\n[Chorus]\\nIs it worth it? Let me work it\\nI put my thing down, flip it and reverse it\\nTi esrever dna ti pilf, nwod gniht ym tup\\nTi esrever dna ti pilf, nwod gniht ym tup\\nIf you got a big *elephant trumpet*, let me search ya\\nAnd find out how hard I gotta work ya\\nTi esrever dna ti pilf, nwod gniht ym tup\\nTi esrever dna ti pilf, nwod gniht ym tup\\nC'mon\\n\\n[Outro]\\nTo my fellas (Ooh good god!)\\nI like the way you work that (Uh huh, la-la-la-la)\\nTo my ladies (Whoo! Good god!)\\nYou sure know how to work that\\n\\nYeah, it's Missy Elliott!\\nI hope y'all enjoying what y'all heard so far\\nI was sittin' here thinkin' like\\nBig Daddy Kane and Public Enemy\\nSalt n Pepa, Lyte, EPMD, LL, Run-DMC\\nKRS-One, Rakim\\nMost of them artists used to dance\\nAnd still get respected in the street\\nDon't be scared to Bankhead or Bogo\\nOr move as far as sold Michael Jackson 43 million\\nShoot, errbody have the zipper jacket\\nAnd half of these thugs have the glove to match, ya feel me?\\nYo, it's ok though, if you wanna be hard and ice grill\\nAnd Harlem Shake at the same time, whatever\\nLet's just have fun, it's hip-hop man, this is hip-hop!\""
      ]
     },
     "execution_count": 43,
     "metadata": {},
     "output_type": "execute_result"
    }
   ],
   "source": [
    "song.lyrics"
   ]
  },
  {
   "cell_type": "markdown",
   "metadata": {},
   "source": [
    "### Save Lyrics to .txt File"
   ]
  },
  {
   "cell_type": "code",
   "execution_count": 44,
   "metadata": {},
   "outputs": [
    {
     "name": "stdout",
     "output_type": "stream",
     "text": [
      "Wrote Work It to lyrics_missyelliott_workit.txt.\n"
     ]
    }
   ],
   "source": [
    "song.save_lyrics(extension='txt')"
   ]
  },
  {
   "cell_type": "markdown",
   "metadata": {},
   "source": [
    "## Get Songs and Lyrics For a Specific Album"
   ]
  },
  {
   "cell_type": "markdown",
   "metadata": {},
   "source": [
    "As you can see, LyricsGenius is an extremely useful Python package! But one thing that we can't do with LyricsGenius is get all the song lyrics for a particular album.\n",
    "\n",
    "So we're going to use the web scraping functions that we wrote in the last lesson to get all the song titles for a specific album, then use LyricsGenius to get the lyrics for each of those songs, and then save them all as text files in a directory."
   ]
  },
  {
   "cell_type": "code",
   "execution_count": 77,
   "metadata": {},
   "outputs": [],
   "source": [
    "from bs4 import BeautifulSoup\n",
    "import re\n",
    "import os\n",
    "import lyricsgenius"
   ]
  },
  {
   "cell_type": "markdown",
   "metadata": {},
   "source": [
    "### Make RegEx Function To Clean Up Songs"
   ]
  },
  {
   "cell_type": "code",
   "execution_count": 61,
   "metadata": {},
   "outputs": [],
   "source": [
    "def clean_up(song_title):\n",
    "\n",
    "    if \"Ft\" in song_title:\n",
    "        before_ft_pattern = re.compile(\".*(?=\\(Ft)\")\n",
    "        song_title_before_ft = before_ft_pattern.search(song_title).group(0)\n",
    "        clean_song_title = song_title_before_ft.strip()\n",
    "        clean_song_title = clean_song_title.replace(\"/\", \"-\")\n",
    "    \n",
    "    else:\n",
    "        song_title_no_lyrics = song_title.replace(\"Lyrics\", \"\")\n",
    "        clean_song_title = song_title_no_lyrics.strip()\n",
    "        clean_song_title = clean_song_title.replace(\"/\", \"-\")\n",
    "    \n",
    "    return clean_song_title"
   ]
  },
  {
   "cell_type": "markdown",
   "metadata": {},
   "source": [
    "### Make Function To Scrape Song Titles For Album"
   ]
  },
  {
   "cell_type": "code",
   "execution_count": 62,
   "metadata": {},
   "outputs": [],
   "source": [
    "def get_all_songs_from_album(artist, album_name):\n",
    "    \n",
    "    artist = artist.replace(\" \", \"-\")\n",
    "    album_name = album_name.replace(\" \", \"-\")\n",
    "    \n",
    "    response = requests.get(f\"https://genius.com/albums/{artist}/{album_name}\")\n",
    "    html_string = response.text\n",
    "    document = BeautifulSoup(html_string, \"html.parser\")\n",
    "    song_title_tags = document.find_all(\"h3\", attrs={\"class\": \"chart_row-content-title\"})\n",
    "    song_titles = [song_title.text for song_title in song_title_tags]\n",
    "    \n",
    "    clean_songs = []\n",
    "    for song_title in song_titles:\n",
    "        clean_song = clean_up(song_title)\n",
    "        clean_songs.append(clean_song)\n",
    "        \n",
    "    return clean_songs"
   ]
  },
  {
   "cell_type": "markdown",
   "metadata": {},
   "source": [
    "### Make Function To Download Lyrics For All Songs in Album"
   ]
  },
  {
   "cell_type": "code",
   "execution_count": null,
   "metadata": {},
   "outputs": [],
   "source": [
    "client_access_token = \"YOUR CLIENT ACCESS TOKEN\""
   ]
  },
  {
   "cell_type": "code",
   "execution_count": 59,
   "metadata": {},
   "outputs": [],
   "source": [
    "def download_album_lyrics(artist, album_name): \n",
    "    \n",
    "    # Set up LyricsGenius with your Genius API client access token\n",
    "    #client_access_token = Your-Client-Access-Token\n",
    "    LyricsGenius = lyricsgenius.Genius(client_access_token)\n",
    "    LyricsGenius.remove_section_headers = True\n",
    "    \n",
    "    # With the function that we previously created, go to Genius.com and get all song titles for a particular artist's album\n",
    "    clean_songs = get_all_songs_from_album(artist, album_name)\n",
    "    \n",
    "    for song in clean_songs:\n",
    "        \n",
    "        #For each song in the list, search for that song with LyricsGenius\n",
    "        song_object = LyricsGenius.search_song(song, artist)\n",
    "        \n",
    "        #If the song is not empty\n",
    "        if song_object != None:\n",
    "            \n",
    "            #Do some cleaning and prep for the filename of the song\n",
    "            artist_title = artist.replace(\" \", \"-\")\n",
    "            album_title = album_name.replace(\" \", \"-\")\n",
    "            song_title = song.replace(\"/\", \"-\")\n",
    "            song_title = song.replace(\" \", \"-\")\n",
    "            \n",
    "            #Establish the filename for each song inside a directory that begins with the artist's name and album title\n",
    "            filename=f\"{artist_title}-{album_title}/{song_title}\"\n",
    "            \n",
    "            #A line of code that we need to create a directory\n",
    "            os.makedirs(os.path.dirname(filename), exist_ok=True)\n",
    "            \n",
    "            #Save the lyrics for the song as a text file\n",
    "            song_object.save_lyrics(filename=filename, extension='txt')\n",
    "        \n",
    "        #If the song doesn't contain lyrics\n",
    "        else:\n",
    "            print('No lyrics')"
   ]
  },
  {
   "cell_type": "code",
   "execution_count": null,
   "metadata": {},
   "outputs": [],
   "source": [
    "download_album_lyrics(\"Missy Elliott\", \"Under Construction\")"
   ]
  },
  {
   "cell_type": "markdown",
   "metadata": {},
   "source": [
    "# Some Extra Album Analysis Fun"
   ]
  },
  {
   "cell_type": "markdown",
   "metadata": {},
   "source": [
    "Since we now have access to all these great song lyrics, we might as well run some basic analysis on them! We can use the word frequency code that we introduced during the first couple weeks to count the most frequent words in an entire album."
   ]
  },
  {
   "cell_type": "code",
   "execution_count": null,
   "metadata": {},
   "outputs": [],
   "source": [
    "import nltk\n",
    "nltk.download('stopwords')\n",
    "from collections import Counter\n",
    "from nltk.corpus import stopwords"
   ]
  },
  {
   "cell_type": "markdown",
   "metadata": {},
   "source": [
    "## Make a Function That Splits Up Words"
   ]
  },
  {
   "cell_type": "code",
   "execution_count": 65,
   "metadata": {},
   "outputs": [],
   "source": [
    "def split_into_words(any_chunk_of_text):\n",
    "    lowercase_text = any_chunk_of_text.lower()\n",
    "    split_words = re.split(\"\\W+\", lowercase_text)\n",
    "    return split_words"
   ]
  },
  {
   "cell_type": "markdown",
   "metadata": {},
   "source": [
    "## Make a Function That Counts Top 15 Words in Text File"
   ]
  },
  {
   "cell_type": "code",
   "execution_count": 73,
   "metadata": {},
   "outputs": [],
   "source": [
    "def get_most_frequent_words(filepath_of_text):\n",
    "    \n",
    "    nltk_stop_words = stopwords.words(\"english\")\n",
    "    number_of_desired_words = 15\n",
    "    \n",
    "    full_text = open(filepath_of_text, encoding=\"utf-8\").read()\n",
    "\n",
    "    all_the_words = split_into_words(full_text)\n",
    "    meaningful_words = [word for word in all_the_words if word not in nltk_stop_words]\n",
    "    meaningful_words_tally = Counter(meaningful_words)\n",
    "    most_frequent_meaningful_words = meaningful_words_tally.most_common(number_of_desired_words)\n",
    "\n",
    "    return most_frequent_meaningful_words"
   ]
  },
  {
   "cell_type": "markdown",
   "metadata": {},
   "source": [
    "## Make a Function That Counts Top 15 Words in An Entire Dicrectory of Text Files"
   ]
  },
  {
   "cell_type": "code",
   "execution_count": 74,
   "metadata": {},
   "outputs": [],
   "source": [
    "def get_most_frequent_words_directory(directory):\n",
    "    \n",
    "    nltk_stop_words = stopwords.words(\"english\")\n",
    "    number_of_desired_words = 15\n",
    "    meaningful_words_tally = Counter()\n",
    "    \n",
    "    for filepath_of_text in os.listdir(directory):\n",
    "        if filepath_of_text.endswith(\".txt\"):\n",
    "    \n",
    "            full_text = open(f\"{directory}/{filepath_of_text}\", encoding=\"utf-8\").read()\n",
    "\n",
    "            all_the_words = split_into_words(full_text)\n",
    "            meaningful_words = [word for word in all_the_words if word not in nltk_stop_words]\n",
    "            meaningful_words_tally.update(meaningful_words)\n",
    "    \n",
    "    most_frequent_meaningful_words = meaningful_words_tally.most_common(number_of_desired_words)\n",
    "\n",
    "    return most_frequent_meaningful_words"
   ]
  },
  {
   "cell_type": "code",
   "execution_count": 75,
   "metadata": {},
   "outputs": [
    {
     "data": {
      "text/plain": [
       "[('oh', 119),\n",
       " ('like', 96),\n",
       " ('go', 72),\n",
       " ('ya', 70),\n",
       " ('get', 56),\n",
       " ('know', 54),\n",
       " ('got', 53),\n",
       " ('ti', 49),\n",
       " ('let', 48),\n",
       " ('one', 40),\n",
       " ('love', 36),\n",
       " ('missy', 35),\n",
       " ('yeah', 35),\n",
       " ('come', 34),\n",
       " ('see', 33)]"
      ]
     },
     "execution_count": 75,
     "metadata": {},
     "output_type": "execute_result"
    }
   ],
   "source": [
    "get_most_frequent_words_directory(\"Missy-Elliott-Under-Construction\")"
   ]
  },
  {
   "cell_type": "markdown",
   "metadata": {},
   "source": [
    "## Data Viz With Pandas"
   ]
  },
  {
   "cell_type": "code",
   "execution_count": 59,
   "metadata": {},
   "outputs": [],
   "source": [
    "import pandas as pd"
   ]
  },
  {
   "cell_type": "code",
   "execution_count": 76,
   "metadata": {},
   "outputs": [
    {
     "data": {
      "text/plain": [
       "<matplotlib.axes._subplots.AxesSubplot at 0x114653390>"
      ]
     },
     "execution_count": 76,
     "metadata": {},
     "output_type": "execute_result"
    },
    {
     "data": {
      "image/png": "[encoded data removed]",
      "text/plain": [
       "<Figure size 720x360 with 1 Axes>"
      ]
     },
     "metadata": {
      "needs_background": "light"
     },
     "output_type": "display_data"
    }
   ],
   "source": [
    "frequencies = get_most_frequent_words_directory(\"Missy-Elliott-Under-Construction\")\n",
    "word_frequency_df = pd.DataFrame(frequencies)\n",
    "word_frequency_df.columns = ['word', 'word_count']\n",
    "word_frequency_df.plot(x='word', kind='bar', figsize=(10,5), title=\"Album Word Frequencies\", fontsize=20)"
   ]
  }
 ],
 "metadata": {
  "kernelspec": {
   "display_name": "Python 3",
   "language": "python",
   "name": "python3"
  },
  "language_info": {
   "codemirror_mode": {
    "name": "ipython",
    "version": 3
   },
   "file_extension": ".py",
   "mimetype": "text/x-python",
   "name": "python",
   "nbconvert_exporter": "python",
   "pygments_lexer": "ipython3",
   "version": "3.7.5"
  }
 },
 "nbformat": 4,
 "nbformat_minor": 4
}
