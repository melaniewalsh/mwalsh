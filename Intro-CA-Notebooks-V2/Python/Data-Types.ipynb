{
 "cells": [
  {
   "cell_type": "markdown",
   "metadata": {},
   "source": [
    "# Data Types"
   ]
  },
  {
   "cell_type": "markdown",
   "metadata": {},
   "source": [
    "* 4 essential kinds of Python data with different powers and capabilities, like starter pack Pokémon    \n",
    "    - Strings (Words)\n",
    "    - Integers (Whole Numbers)\n",
    "    - Floats (Decimal Numbers)\n",
    "    - Booleans (True/False)"
   ]
  },
  {
   "cell_type": "markdown",
   "metadata": {},
   "source": [
    "<img src=\"https://hips.hearstapps.com/digitalspyuk.cdnds.net/16/08/1456483171-pokemon2.jpg?resize=768:*\">"
   ]
  },
  {
   "cell_type": "markdown",
   "metadata": {},
   "source": [
    "**HEADS UP!**"
   ]
  },
  {
   "cell_type": "markdown",
   "metadata": {},
   "source": [
    "🚨 To run any of the code on this page, you need to run this cell first!!🚨"
   ]
  },
  {
   "cell_type": "code",
   "execution_count": null,
   "metadata": {},
   "outputs": [],
   "source": [
    "import nltk\n",
    "nltk.download('stopwords')"
   ]
  },
  {
   "cell_type": "code",
   "execution_count": 50,
   "metadata": {},
   "outputs": [
    {
     "name": "stdout",
     "output_type": "stream",
     "text": [
      "[('love', 93), ('like', 50), ('slay', 49), ('sorry', 44), ('okay', 42), ('oh', 38), ('get', 32), ('daddy', 28), ('let', 28), ('back', 24), ('said', 22), ('work', 21), ('cause', 21), ('ft', 21), ('hold', 20), ('night', 19), ('feel', 19), ('hurt', 19), ('best', 19), ('winner', 19), ('every', 18), ('bout', 18), ('money', 17), ('baby', 16), ('boy', 16), ('long', 16), ('shoot', 16), ('good', 16), ('catch', 16), ('know', 15), ('ooh', 15), ('got', 14), ('come', 14), ('pray', 14), ('way', 13), ('gon', 13), ('kiss', 13), ('rub', 12), ('girl', 12), ('see', 12)]\n"
     ]
    }
   ],
   "source": [
    "import re\n",
    "from collections import Counter\n",
    "from nltk.corpus import stopwords\n",
    "\n",
    "def split_into_words(any_chunk_of_text):\n",
    "    lowercase_text = any_chunk_of_text.lower()\n",
    "    split_words = re.split(\"\\W+\", lowercase_text)\n",
    "    return split_words\n",
    "\n",
    "filepath_of_text = \"../texts/music/Beyonce-Lemonade.txt\"\n",
    "nltk_stop_words = stopwords.words(\"english\")\n",
    "number_of_desired_words = 40\n",
    "\n",
    "full_text = open(filepath_of_text, encoding=\"utf-8\").read()\n",
    "\n",
    "all_the_words = split_into_words(full_text)\n",
    "meaningful_words = [word for word in all_the_words if word not in nltk_stop_words]\n",
    "meaningful_words_tally = Counter(meaningful_words)\n",
    "most_frequent_meaningful_words = meaningful_words_tally.most_common(number_of_desired_words)\n",
    "\n",
    "print(most_frequent_meaningful_words)"
   ]
  },
  {
   "cell_type": "markdown",
   "metadata": {},
   "source": [
    "You might be wondering why we put quotation marks around `\"../texts/Beyonce-Lemonade.txt\"` and not around `40`,  or why the file path shows up in red and 40 shows up in green."
   ]
  },
  {
   "cell_type": "code",
   "execution_count": 13,
   "metadata": {},
   "outputs": [],
   "source": [
    "filepath_of_text = \"../texts/music/Beyonce-Lemonade.txt\"\n",
    "number_of_desired_words = 40"
   ]
  },
  {
   "cell_type": "markdown",
   "metadata": {},
   "source": [
    "That's because these are two different \"types\" of Python data. The file path is what's called a \"string,\" or words, and 40 is an \"integer,\" or a whole number.\n",
    "\n",
    "In Python, there are four basic data types:\n",
    "\n",
    "- Strings (Words)\n",
    "- Integers (Whole Numbers)\n",
    "- Floats (Decimal Numbers)\n",
    "- Booleans (True/False)\n",
    "\n",
    "Each data type has different properties and different capabilities. You can check a data type if you use the function `type()`. As you may have noticed, functions use parentheses, and they do something to the thing inside the parentheses, what we call an \"argument.\"\n"
   ]
  },
  {
   "cell_type": "code",
   "execution_count": 2,
   "metadata": {},
   "outputs": [
    {
     "data": {
      "text/plain": [
       "str"
      ]
     },
     "execution_count": 2,
     "metadata": {},
     "output_type": "execute_result"
    }
   ],
   "source": [
    "type(filepath_of_text)"
   ]
  },
  {
   "cell_type": "code",
   "execution_count": 15,
   "metadata": {},
   "outputs": [
    {
     "data": {
      "text/plain": [
       "int"
      ]
     },
     "execution_count": 15,
     "metadata": {},
     "output_type": "execute_result"
    }
   ],
   "source": [
    "type(number_of_desired_words)"
   ]
  },
  {
   "cell_type": "markdown",
   "metadata": {},
   "source": [
    "Let's look at what happens if we change the data types of `filepath_of_text` and `number_of_desired_words`"
   ]
  },
  {
   "cell_type": "code",
   "execution_count": 235,
   "metadata": {},
   "outputs": [
    {
     "ename": "SyntaxError",
     "evalue": "invalid syntax (<ipython-input-235-82fd123c8c66>, line 10)",
     "output_type": "error",
     "traceback": [
      "\u001b[0;36m  File \u001b[0;32m\"<ipython-input-235-82fd123c8c66>\"\u001b[0;36m, line \u001b[0;32m10\u001b[0m\n\u001b[0;31m    filepath_of_text = ../texts/Beyonce-Lemonade.txt\u001b[0m\n\u001b[0m                       ^\u001b[0m\n\u001b[0;31mSyntaxError\u001b[0m\u001b[0;31m:\u001b[0m invalid syntax\n"
     ]
    }
   ],
   "source": [
    "import re\n",
    "from collections import Counter\n",
    "from nltk.corpus import stopwords\n",
    "\n",
    "def split_into_words(any_chunk_of_text):\n",
    "    lowercase_text = any_chunk_of_text.lower()\n",
    "    split_words = re.split(\"\\W+\", lowercase_text)\n",
    "    return split_words\n",
    "\n",
    "filepath_of_text = ../texts/music/Beyonce-Lemonade.txt\n",
    "nltk_stop_words = stopwords.words(\"english\")\n",
    "number_of_desired_words = 40\n",
    "\n",
    "full_text = open(filepath_of_text, encoding=\"utf-8\").read()\n",
    "\n",
    "all_the_words = split_into_words(full_text)\n",
    "meaningful_words = [word for word in all_the_words if word not in nltk_stop_words]\n",
    "meaningful_words_tally = Counter(meaningful_words)\n",
    "most_frequent_meaningful_words = meaningful_words_tally.most_common(number_of_desired_words)\n",
    "\n",
    "print(most_frequent_meaningful_words)"
   ]
  },
  {
   "cell_type": "code",
   "execution_count": 240,
   "metadata": {},
   "outputs": [
    {
     "ename": "TypeError",
     "evalue": "'>=' not supported between instances of 'str' and 'int'",
     "output_type": "error",
     "traceback": [
      "\u001b[0;31m---------------------------------------------------------------------------\u001b[0m",
      "\u001b[0;31mTypeError\u001b[0m                                 Traceback (most recent call last)",
      "\u001b[0;32m<ipython-input-240-079485b7b154>\u001b[0m in \u001b[0;36m<module>\u001b[0;34m\u001b[0m\n\u001b[1;32m     17\u001b[0m \u001b[0mmeaningful_words\u001b[0m \u001b[0;34m=\u001b[0m \u001b[0;34m[\u001b[0m\u001b[0mword\u001b[0m \u001b[0;32mfor\u001b[0m \u001b[0mword\u001b[0m \u001b[0;32min\u001b[0m \u001b[0mall_the_words\u001b[0m \u001b[0;32mif\u001b[0m \u001b[0mword\u001b[0m \u001b[0;32mnot\u001b[0m \u001b[0;32min\u001b[0m \u001b[0mnltk_stop_words\u001b[0m\u001b[0;34m]\u001b[0m\u001b[0;34m\u001b[0m\u001b[0;34m\u001b[0m\u001b[0m\n\u001b[1;32m     18\u001b[0m \u001b[0mmeaningful_words_tally\u001b[0m \u001b[0;34m=\u001b[0m \u001b[0mCounter\u001b[0m\u001b[0;34m(\u001b[0m\u001b[0mmeaningful_words\u001b[0m\u001b[0;34m)\u001b[0m\u001b[0;34m\u001b[0m\u001b[0;34m\u001b[0m\u001b[0m\n\u001b[0;32m---> 19\u001b[0;31m \u001b[0mmost_frequent_meaningful_words\u001b[0m \u001b[0;34m=\u001b[0m \u001b[0mmeaningful_words_tally\u001b[0m\u001b[0;34m.\u001b[0m\u001b[0mmost_common\u001b[0m\u001b[0;34m(\u001b[0m\u001b[0mnumber_of_desired_words\u001b[0m\u001b[0;34m)\u001b[0m\u001b[0;34m\u001b[0m\u001b[0;34m\u001b[0m\u001b[0m\n\u001b[0m\u001b[1;32m     20\u001b[0m \u001b[0;34m\u001b[0m\u001b[0m\n\u001b[1;32m     21\u001b[0m \u001b[0mprint\u001b[0m\u001b[0;34m(\u001b[0m\u001b[0mmost_frequent_meaningful_words\u001b[0m\u001b[0;34m)\u001b[0m\u001b[0;34m\u001b[0m\u001b[0;34m\u001b[0m\u001b[0m\n",
      "\u001b[0;32m~/anaconda3/lib/python3.7/collections/__init__.py\u001b[0m in \u001b[0;36mmost_common\u001b[0;34m(self, n)\u001b[0m\n\u001b[1;32m    584\u001b[0m         \u001b[0;32mif\u001b[0m \u001b[0mn\u001b[0m \u001b[0;32mis\u001b[0m \u001b[0;32mNone\u001b[0m\u001b[0;34m:\u001b[0m\u001b[0;34m\u001b[0m\u001b[0;34m\u001b[0m\u001b[0m\n\u001b[1;32m    585\u001b[0m             \u001b[0;32mreturn\u001b[0m \u001b[0msorted\u001b[0m\u001b[0;34m(\u001b[0m\u001b[0mself\u001b[0m\u001b[0;34m.\u001b[0m\u001b[0mitems\u001b[0m\u001b[0;34m(\u001b[0m\u001b[0;34m)\u001b[0m\u001b[0;34m,\u001b[0m \u001b[0mkey\u001b[0m\u001b[0;34m=\u001b[0m\u001b[0m_itemgetter\u001b[0m\u001b[0;34m(\u001b[0m\u001b[0;36m1\u001b[0m\u001b[0;34m)\u001b[0m\u001b[0;34m,\u001b[0m \u001b[0mreverse\u001b[0m\u001b[0;34m=\u001b[0m\u001b[0;32mTrue\u001b[0m\u001b[0;34m)\u001b[0m\u001b[0;34m\u001b[0m\u001b[0;34m\u001b[0m\u001b[0m\n\u001b[0;32m--> 586\u001b[0;31m         \u001b[0;32mreturn\u001b[0m \u001b[0m_heapq\u001b[0m\u001b[0;34m.\u001b[0m\u001b[0mnlargest\u001b[0m\u001b[0;34m(\u001b[0m\u001b[0mn\u001b[0m\u001b[0;34m,\u001b[0m \u001b[0mself\u001b[0m\u001b[0;34m.\u001b[0m\u001b[0mitems\u001b[0m\u001b[0;34m(\u001b[0m\u001b[0;34m)\u001b[0m\u001b[0;34m,\u001b[0m \u001b[0mkey\u001b[0m\u001b[0;34m=\u001b[0m\u001b[0m_itemgetter\u001b[0m\u001b[0;34m(\u001b[0m\u001b[0;36m1\u001b[0m\u001b[0;34m)\u001b[0m\u001b[0;34m)\u001b[0m\u001b[0;34m\u001b[0m\u001b[0;34m\u001b[0m\u001b[0m\n\u001b[0m\u001b[1;32m    587\u001b[0m \u001b[0;34m\u001b[0m\u001b[0m\n\u001b[1;32m    588\u001b[0m     \u001b[0;32mdef\u001b[0m \u001b[0melements\u001b[0m\u001b[0;34m(\u001b[0m\u001b[0mself\u001b[0m\u001b[0;34m)\u001b[0m\u001b[0;34m:\u001b[0m\u001b[0;34m\u001b[0m\u001b[0;34m\u001b[0m\u001b[0m\n",
      "\u001b[0;32m~/anaconda3/lib/python3.7/heapq.py\u001b[0m in \u001b[0;36mnlargest\u001b[0;34m(n, iterable, key)\u001b[0m\n\u001b[1;32m    544\u001b[0m         \u001b[0;32mpass\u001b[0m\u001b[0;34m\u001b[0m\u001b[0;34m\u001b[0m\u001b[0m\n\u001b[1;32m    545\u001b[0m     \u001b[0;32melse\u001b[0m\u001b[0;34m:\u001b[0m\u001b[0;34m\u001b[0m\u001b[0;34m\u001b[0m\u001b[0m\n\u001b[0;32m--> 546\u001b[0;31m         \u001b[0;32mif\u001b[0m \u001b[0mn\u001b[0m \u001b[0;34m>=\u001b[0m \u001b[0msize\u001b[0m\u001b[0;34m:\u001b[0m\u001b[0;34m\u001b[0m\u001b[0;34m\u001b[0m\u001b[0m\n\u001b[0m\u001b[1;32m    547\u001b[0m             \u001b[0;32mreturn\u001b[0m \u001b[0msorted\u001b[0m\u001b[0;34m(\u001b[0m\u001b[0miterable\u001b[0m\u001b[0;34m,\u001b[0m \u001b[0mkey\u001b[0m\u001b[0;34m=\u001b[0m\u001b[0mkey\u001b[0m\u001b[0;34m,\u001b[0m \u001b[0mreverse\u001b[0m\u001b[0;34m=\u001b[0m\u001b[0;32mTrue\u001b[0m\u001b[0;34m)\u001b[0m\u001b[0;34m[\u001b[0m\u001b[0;34m:\u001b[0m\u001b[0mn\u001b[0m\u001b[0;34m]\u001b[0m\u001b[0;34m\u001b[0m\u001b[0;34m\u001b[0m\u001b[0m\n\u001b[1;32m    548\u001b[0m \u001b[0;34m\u001b[0m\u001b[0m\n",
      "\u001b[0;31mTypeError\u001b[0m: '>=' not supported between instances of 'str' and 'int'"
     ]
    }
   ],
   "source": [
    "import re\n",
    "from collections import Counter\n",
    "from nltk.corpus import stopwords\n",
    "\n",
    "def split_into_words(any_chunk_of_text):\n",
    "    lowercase_text = any_chunk_of_text.lower()\n",
    "    split_words = re.split(\"\\W+\", lowercase_text)\n",
    "    return split_words\n",
    "\n",
    "filepath_of_text = \"../texts/music/Beyonce-Lemonade.txt\"\n",
    "nltk_stop_words = stopwords.words(\"english\")\n",
    "number_of_desired_words = \"40\"\n",
    "\n",
    "full_text = open(filepath_of_text, encoding=\"utf-8\").read()\n",
    "\n",
    "all_the_words = split_into_words(full_text)\n",
    "meaningful_words = [word for word in all_the_words if word not in nltk_stop_words]\n",
    "meaningful_words_tally = Counter(meaningful_words)\n",
    "most_frequent_meaningful_words = meaningful_words_tally.most_common(number_of_desired_words)\n",
    "\n",
    "print(most_frequent_meaningful_words)"
   ]
  },
  {
   "cell_type": "markdown",
   "metadata": {},
   "source": [
    "# Strings (Words)"
   ]
  },
  {
   "cell_type": "markdown",
   "metadata": {},
   "source": [
    "- Enclosed by either single or double quotation marks (doesn't matter which but you have to be consistent)\n",
    "- Ability to combine strings with `+`\n",
    "- Ability to manipulate in special ways (make lowercase or uppercase, replace parts, grab slices, etc.)"
   ]
  },
  {
   "cell_type": "code",
   "execution_count": 51,
   "metadata": {
    "scrolled": true,
    "tags": [
     "output_scroll"
    ]
   },
   "outputs": [
    {
     "data": {
      "text/plain": [
       "'Six inch heels, she walked in the club like nobody\\'s business\\nGoddamn, she murdered everybody and I was her witness\\n\\nShe\\'s stacking money, money everywhere she goes\\nYou know, pesos out of Mexico\\nDe uno, commas and them decimals\\nShe don\\'t gotta give it up, she professional\\nShe mixing up that Ace with that Hennessy\\nShe love the way it tastes, that\\'s her recipe\\nRushing through her veins like it\\'s ecstasy (Oh no)\\nShe already made enough, but she\\'ll never leave\\n\\nSix inch heels, she walked in the club like nobody\\'s business\\nGoddamn, she murdered everybody and I was her witness\\nShe works for the money, she work for the money\\nFrom the start to the finish\\nAnd she worth every dollar, she worth every dollar\\nAnd she worth every minute\\n\\nShe work for the money\\nShe work for the money\\nShe work for the money\\nShe work for the money\\n\\nShe stack her money, money everywhere she goes\\nShe got that Sake, her Yamazaki straight from Tokyo\\nOh baby, you know, she got them commas and them decimals\\nShe don\\'t gotta give it up \\'cause she professional\\n\\nSix inch heels, she walked in the club like nobody\\'s business\\nGoddamn (Goddamn, babe)\\nShe murdered everybody and I was her witness (Oh)\\nShe works for the money (Work for the)\\nShe work for the money (Work for the)\\nFrom the start to the finish (Oh baby)\\nAnd she worth every dollar (Worth every)\\nShe worth every dollar (Work for the)\\nAnd she worth every minute\\n\\nStars in her eyes\\nShe fights for the power, keeping time\\nShe grinds day and night\\nShe grinds from Monday to Friday\\nWork from Friday to Sunday, oh\\nShe gon\\' slang\\nShe too smart to crave material things\\nShe pushing herself day and night\\nShe grinds from Monday to Friday\\nWork from Friday to Sunday, oh\\nStars in her eyes\\nShe fights and she sweats those sleepless nights\\nBut she don\\'t mind, she loves the grind\\nShe grinds from Monday to Friday\\nWorks from Friday to Sunday, yeah, yeah\\nShe gon\\' slang\\nToo smart to crave material things\\nStacking her paper, stacking her cake up\\nShe grinds from Monday to Friday\\nWorks from Friday to Sunday\\n\\nSix inch heels, she walked in the club like nobody\\'s business\\nGoddamn, she murdered everybody and I was her witness\\nShe works for the money, she work for the money\\n(Know just what to do to make you love me)\\nFrom the start to the finish\\nAnd she worth every dollar, she worth every dollar (Love me)\\nAnd she worth every minute\\n\\nOoh, boy, I\\'ll make you feel\\nYou\\'ll always come back to me\\nCome back, come back\\nCome back, come back\\nCome back, come backI found the truth beneath your lies\\nAnd true love never has to hide\\nTrue love never has to hide\\nI\\'ll trade your broken wings for mine\\nTrade your broken wings for mine\\nI\\'ve seen your scars and kissed your crime, oh\\nSeen your scars and kissed your crime\\n\\nSo many people that I know, they\\'re just tryna touch ya\\nKiss up and rub up and feel up\\nKiss up and rub up and feel up on you\\nGive you some time to prove that I can trust you again\\nI\\'m gonna kiss up and rub up and feel up\\nKiss up and rub up and feel up on you\\n\\nAll night long\\nLove all night long\\nSweet love all night long\\nSweet love all night long\\nAll I wanna, ain\\'t no other\\nWe together, I remember\\nSweet love all night long\\n\\nOur love was stronger than your pride\\nBeyond your darkness, I\\'m your light, oh\\nIf you get deep, you touch my mind\\nIf you get deep, you touch my mind\\nBaptize your tears and dry your eyes, oh\\nBaptize your tears and dry your eyes\\n\\nSo many people, I know that they\\'re just tryna touch ya\\nKiss up and rub up and feel up\\nKiss up and rub up and feel up on you\\nGive you some time to prove that I can trust you again\\nI\\'m gonna kiss up and rub up and feel up\\nKiss up and rub up and feel up on you\\n\\nAll night long\\nLove all night long\\nSweet love all night long\\nSweet love all night long\\nAll I wanna, ain\\'t no other\\nWe together, I remember\\nSweet love all night long\\n\\nThey say true love\\'s the greatest weapon\\nTo win the war caused by pain, pain\\nBut every diamond has imperfections\\nBut my love\\'s too pure to watch it chip away\\nBoy, nothing real can be threatened\\nTrue love breathes salvation back into me\\nWith every tear came redemption\\nAnd my torturer became my remedy\\n\\nSo many people, I know that they\\'re just tryna touch ya\\nKiss up and rub up and feel up\\nKiss up and rub up and feel up on you\\nGive you some time to prove that I can trust you again\\nI\\'m gonna kiss up and rub up and feel up\\nKiss up and rub up and feel up on you\\n\\nAll night long\\nLove all night long\\nSweet love all night long\\nSweet love all night long\\nAll I wanna, ain\\'t no other\\nWe together, I remember\\nSweet love all night long\\n\\nHow I missed you, my loveYee-haw\\nOoh\\nTexas, Texas (Ooh) Texas\\n\\nCame into this world, daddy\\'s little girl\\nAnd Daddy made a soldier out of me (Ooh)\\nDaddy made me dance and Daddy held my hand (Ooh)\\nAnd Daddy liked his whiskey with his tea\\n\\nAnd we rode motorcycles\\nBlackjack, classic vinyl\\nTough girl is what I had to be\\nHe said, \"Take care of your mother\\nWatch out for your sister\"\\nAnd oh, that\\'s when he gave to me\\n\\nWith his gun and his head held high, he told me not to cry\\nOh, my daddy said shoot\\nOh, my daddy said shoot\\nWith his right hand on his rifle, he swore it on the bible\\nMy daddy said shoot\\nOh, my daddy said shoot\\nHe held me in his arms and he taught me to be strong\\nHe told me when he\\'s gone, \"Here\\'s what you do\\nWhen trouble comes in town and men like me come around\"\\nOh, my daddy said shoot\\nOh, my daddy said shoot\\n\\nOoh\\nYee, woo\\nOoh\\nYee-haw (Woo)\\n\\nDaddy made me fight, it wasn\\'t always right\\nBut he said, \"Girl, it\\'s your second amendment\" (Ooh)\\nHe always played it cool, but Daddy was no fool\\nAnd right before he died, he said, \"Remember...\"\\n\\nHe said, \"Take care of your mother\\nWatch out for your sister\"\\nThat\\'s when Daddy looked at me\\n\\nWith his gun, with his head held high, he told me not to cry\\nOh, my daddy said shoot\\nOh, my daddy said shoot\\nWith his right hand on his rifle, he swore it on the bible\\nMy daddy said shoot (Yee)\\nOh, my daddy said shoot (Yee-haw)\\n\\'Cause he held me in his arms and he taught me to be strong\\nAnd he told me when he\\'s gone, \"Here\\'s what you do\\nWhen trouble comes in town and men like me come around\"\\nOh, my daddy said shoot\\nOh, my daddy said shoot (Woo)\\n\\nOoh (Woo)\\nOoh (Woo)\\nOoh (Yee)\\nOoh (Yee-haw)\\n\\nMy daddy warned me about men like you\\nHe said, \"Baby girl, he\\'s playing you, he\\'s playing you\" (Ooh)\\nMy daddy warned me about men like you\\nHe said, \"Baby girl, he\\'s playing you, he\\'s playing you (Ooh)\\n\\'Cause when trouble comes in town and men like me come around\"\\nOh, my daddy said shoot (Yee)\\nOh, my daddy said shoot (Yee-haw)\\n\"\\'Cause when trouble comes to town and men like me come around\"\\nOh, my daddy said shoot\\nOh, my daddy said shoot\\n(Good job, Bey)Oh na na na\\nOh na na na\\nOh na na na\\nDon\\'t hurt yourself\\nDon\\'t hurt yourself\\n\\nWho the fuck do you think I is?\\nYou ain\\'t married to no average bitch, boy\\nYou can watch my fat ass twist, boy\\nAs I bounce to the next dick, boy\\nAnd keep your money, I got my own\\nKeep a bigger smile on my face being alone\\nBad motherfucker, God complex\\nMotivate your ass, call me Malcolm X\\nYo operator, or innovator\\nFuck you hater, you can\\'t recreate her, no, nuh-uh\\nYou\\'ll never recreate her no, hell no\\n\\nWe just got to let it be\\nLet it be, let it be, let it be, baby\\nYou just got to let it be\\nLet it be, let it be, let it be, babe\\n\\nWhen you hurt me, you hurt yourself\\nDon\\'t hurt yourself\\nWhen you diss me, you diss yourself\\nDon\\'t hurt yourself\\nWhen you hurt me, you hurt yourself\\nDon\\'t hurt yourself (Don\\'t hurt yourself)\\nDon\\'t hurt yourself\\nWhen you love me, you love yourself\\nLove God herself\\n\\nI am the dragon breathing fire\\nBeautiful mane, I\\'m the lion\\nBeautiful man, I know you\\'re lying\\nI am not broken, I\\'m not crying, I\\'m not crying\\nYou ain\\'t trying hard enough\\nYou ain\\'t loving hard enough\\nYou don\\'t love me deep enough\\nWe not reaching peaks enough\\nBlindly in love, I fucks with you\\n\\'Til I realize I\\'m just too much for you\\nI\\'m just too much for you\\n\\nYou just got to let it be\\nLet it be, let it be, let it be, baby\\nHey baby, who the fuck do you think I is?\\nI smell that fragrance on your Louis knit, boy\\nJust give my fat ass a big kiss, boy\\nTonight I\\'m fucking up all your shit, boy\\n\\nWhen you hurt me, you hurt yourself\\nTry not to hurt yourself\\nWhen you play me, you play yourself\\nDon\\'t play yourself\\nWhen you lie to me, you lie to yourself\\nYou only lying to yourself (Don\\'t hurt yourself)\\nWhen you love me, you love yourself\\nLove God herself\\n\\nWe just got to let it be\\nLet it be, let it be, let it be, let it be, babe\\nUh, this is your final warning (Don\\'t hurt yourself)\\nYou know I give you life (Don\\'t hurt yourself)\\nIf you try this shit again (Don\\'t hurt yourself)\\nYou gon\\' lose your wifeWhat happened at the New Wil\\'ins?\\nBitch, I\\'m back by popular demand\\n\\nY\\'all haters corny with that Illuminati mess\\nPaparazzi, catch my fly and my cocky fresh\\nI\\'m so reckless when I rock my Givenchy dress (Stylin\\')\\nI\\'m so possessive so I rock his Roc necklaces\\nMy daddy Alabama, momma Louisiana\\nYou mix that negro with that Creole, make a Texas bama\\nI like my baby hair with baby hair and afros\\nI like my negro nose with Jackson Five nostrils\\nEarned all this money, but they never take the country out me\\nI got hot sauce in my bag, swag\\n\\nOh yeah, baby, oh yeah I, ohhhhh, oh, yes, I like that\\nI did not come to play with you hoes, haha\\nI came to slay, bitch\\nI like cornbreads and collard greens, bitch\\nOh, yes, you besta believe it\\n\\nY\\'all haters corny with that lluminati mess\\nPaparazzi, catch my fly and my cocky fresh\\nI\\'m so reckless when I rock my Givenchy dress (Stylin\\')\\nI\\'m so possessive so I rock his Roc necklaces\\nMy daddy Alabama, momma Louisiana\\nYou mix that negro with that Creole, make a Texas bama\\nI like my baby heir with baby hair and afros\\nI like my negro nose with Jackson Five nostrils\\nEarned all this money but they never take the country out me\\nI got hot sauce in my bag, swag\\n\\nI see it, I want it, I stunt; yellow bone-it\\nI dream it, I work hard, I grind \\'til I own it\\nI twirl on them haters, albino alligators\\nEl Camino with the seat low, sippin\\' Cuervo with no chaser\\nSometimes I go off (I go off), I go hard (I go hard)\\nGet what\\'s mine (Take what\\'s mine), I\\'m a star (I\\'m a star)\\n\\'Cause I slay (Slay), I slay (Hey), I slay (Okay), I slay (Okay)\\nAll day (Okay), I slay (Okay), I slay (Okay), I slay (Okay)\\nWe gon\\' slay (Slay), gon\\' slay (Okay), we slay (Okay), I slay (Okay)\\nI slay (Okay), okay (Okay), I slay (Okay), okay, okay, okay, okay\\nOkay, okay, ladies, now let\\'s get in formation, \\'cause I slay\\nOkay, ladies, now let\\'s get in formation, \\'cause I slay\\nProve to me you got some coordination, \\'cause I slay\\nSlay trick, or you get eliminated\\n\\nWhen he fuck me good, I take his ass to Red Lobster, \\'cause I slay\\nWhen he fuck me good, I take his ass to Red Lobster, we gon slay\\nIf he hit it right, I might take him on a flight on my chopper, I slay\\nDrop him off at the mall, let him buy some J\\'s, let him shop up, \\'cause I slay\\nI might get your song played on the radio station, \\'cause I slay\\nI might get your song played on the radio station, \\'cause I slay\\nYou just might be a black Bill Gates in the making, \\'cause I slay\\nI just might be a black Bill Gates in the making\\n\\nI see it, I want it, I stunt; yellow bone-it\\nI dream it, I work hard, I grind \\'til I own it\\nI twirl on them haters, albino alligators\\nEl Camino with the seat low, sippin\\' Cuervo with no chaser\\nSometimes I go off (I go off), I go hard (I go hard)\\nTake what\\'s mine (Take what\\'s mine), I\\'m a star (I\\'m a star)\\n\\'Cause I slay (Slay), I slay (Hey), I slay (Okay), I slay (Okay)\\nI slay (Okay), I slay (Okay), I slay (Okay), I slay (Okay)\\nWe gon\\' slay (Slay), gon\\' slay (Okay), we slay (Okay), I slay (Okay)\\nI slay (Okay), okay (Okay), I slay (Okay), okay, okay, okay, okay\\nOkay, okay, ladies, now let\\'s get in formation, I slay\\nOkay, ladies, now let\\'s get in formation, \\'cause I slay\\nProve to me you got some coordination, \\'cause I slay\\nSlay trick, or you get eliminated, I slay\\n\\nOkay, ladies, now let\\'s get in formation, I slay\\nOkay, ladies, now let\\'s get in formation\\nYou know you that bitch when you cause all this conversation\\nAlways stay gracious, best revenge is your paper\\n\\nGirl, I hear some thunder\\nGolly, look at that water, boy, oh LordForward\\nBest foot first just in case\\nWhen we made our way \\'til now\\nIt\\'s time to listen, it\\'s time to fight\\nForward\\nNow we\\'re going to hold doors open for a while\\nNow we can be open for a while\\nForward\\nI love you more than this job, please don\\'t work for me\\nForward\\nGo back to your sleep in your favorite spot just next to me\\nForward, ooh, forward\\n\\nForward, forwardBest Rap Album\\nWINNER: Macklemore and Ryan Lewis - The Heist\\nDrake - Nothing Was The Same\\nJAY Z - Magna Carta…Holy Grail\\nKendrick Lamar - Good Kid, m.A.A.d City\\nKanye West - Yeezus\\nAlbum of the Year\\nWINNER: Daft Punk – Random Access Memories\\nKendrick Lamar – Good Kid, m.A.A.d City\\nSara Bareilles - The Blessed Unrest\\nMacklemore and Ryan Lewis – The Heist\\nTaylor Swift – Red\\nSong of the Year\\nWINNER: Lorde – Royals\\nPink ft. Nate Ruess – Just Give Me A Reason\\nBruno Mars – Locked Out Of Heaven\\nKaty Perry – Roar\\nMacklemore and Ryan Lewis ft. Mary Lambert – Same Love\\nBest Rap Song\\nWINNER: Macklemore and Ryan Lewis ft. Wanz - Thrift Shop\\nASAP Rocky ft. Drake, 2 Chainz & Kendrick Lamar - Fuckin\\' Problems\\nJAY Z ft. Justin Timberlake - Holy Grail\\nKanye West - New Slaves\\nDrake - Started From The Bottom\\nBest Pop Duo Or Group Performance\\nWINNER: Daft Punk ft. Pharrell – Get Lucky\\nPink ft. Nate Ruess – Just Give Me A Reason\\nRihanna ft. Mikky Ekko – Stay\\nRobin Thicke ft. Pharrell and T.I. – Blurred Lines\\nJustin Timberlake ft. JAY Z – Suit & Tie\\nBest R&B Album\\nWINNER: Alicia Keys - Girl On Fire\\nFaith Evans - R&B Divas\\nJohn Legend - Love In The Future\\nTGT - Three Kings\\nBest Urban Contemporary Album\\nWINNER: Rihanna - Unapologetic\\nTamar Braxton - Love And War\\nFantasia - Side Effects Of You\\nSalaam Remi - One: In The Chamber\\nMack Wilds -  New York: A Love Story\\nBest Country Album\\nWINNER: Kacey Musgraves – Same Trailer Different Park\\nJason Aldean – Night Train\\nTim McGraw – Two Lanes of Freedom\\nBlake Shelton – Based on a True Story\\nTaylor Swift – Red\\nBest New Artist\\nWINNER: Macklemore and Ryan Lewis\\nJames Blake\\nEd Sheeran\\nKendrick Lamar\\nKacey Musgraves\\nRecord of the Year\\nWINNER: Daft Punk ft. Pharrell – Get Lucky\\nImagine Dragons – Radioactive\\nLorde – Royals\\nBruno Mars – Locked Out Of Heaven\\nRobin Thicke ft. T.I. and Pharrell – Blurred Lines\\nBest Rap/Sung Collaboration\\nWINNER: JAY Z ft. Justin Timberlake - Holy Grail\\nJ. Cole ft. Miguel - Power Trip\\nJAY Z ft. Beyoncé - Part II (On The Run)\\nKendrick Lamar ft. Mary J. Blige - Now Or Never\\nWiz Khalifa ft. The Weeknd - Remember You\\nBest Rap Performance\\nWINNER: Macklemore and Ryan Lewis ft. Wanz - Thrift Shop\\nDrake - Started From The Bottom\\nEminem - Berzerk\\nJay Z - Tom Ford\\nKendrick Lamar - Swimming Pools (Drank)\\nBest Pop Vocal Album\\nWINNER: Bruno Mars - Unorthodox Jukebox\\nLana Del Rey - Paradise\\nLorde - Pure Heroine\\nRobin Thicke - Blurred Lines\\nJustin Timberlake - The 20/20 Experience\\nBest R&B Song (A Songwriters Award)\\nWINNER: James Fauntleroy, Jerome Harmon, Timothy Mosley & Justin Timberlake - Pusher Love Girl\\nAnthony Hamilton & Jairus Mozee - Best Of Me\\nTamar Braxton, Darhyl Camper, Jr., LaShawn Daniels & Makeba Riddick - Love And War\\nPJ Morton ft. Stevie Wonder - Only One\\nFantasia Barrino, Missy Elliott, Al Sherrod Lambert, Harmony Samuels & Kyle Stewart - Without Me\\nBest Traditional R&B Performance\\nWINNER: Gary Clark Jr. - Please Come Home\\nFantasia - Get It Right\\nMaysa - Quiet Fire\\nGregory Porter - Hey Laura\\nRyan Shaw - Yesterday\\nBest R&B Performance\\nWINNER: Snarky Puppy With Lalah Hathaway - Something\\nTamar Braxton - Love And War\\nAnthony Hamilton - Best Of Me\\nHiatus Kaiyote ft. Q-Tip - Nakamarra\\nMiguel ft. Kendrick Lamar - How Many Drinks?\\nBest Reggae Album\\nWINNER: Ziggy Marley - Ziggy Marley In Concert\\nBeres Hammond - One Love, One Life\\nSizzla - The Messiah\\nSly & Robbie And The Jam Masters - Reggae Connection\\nSnoop Lion - Reincarnated\\nBest Dance/Electronica Album\\nWINNER: Daft Punk - Random Access Memories\\nDisclosure - Settle\\nCalvin Harris - 18 Months\\nKaskade - Atmosphere\\nPretty Lights - A Color Map Of The Sun\\nBest Alternative Album\\nWINNER: Vampire Weekend - Modern Vampires Of The City\\nNeko Case - The Worse Things Get, The Harder I Fight, The Harder I Fight, The More I Love You\\nThe National - Trouble Will Find Me\\nNine Inch Nails - Hesitation Marks\\nTame Impala - LonerismHold up, they don\\'t love you like I love you\\nSlow down, they don\\'t love you like I love you\\nBack up, they don\\'t love you like I love you\\nStep down, they don\\'t love you like I love you\\nCan\\'t you see there\\'s no other man above you?\\nWhat a wicked way to treat the girl that loves you\\nHold up, they don\\'t love you like I love you\\nOh, down, they don\\'t love you like I love you\\n\\nSomething don\\'t feel right because it ain\\'t right\\nEspecially comin\\' up after midnight\\nI smell your secrets, and I\\'m not too perfect\\nTo ever feel this worthless\\nHow did it come down to this? Scrolling through your call list\\nI don\\'t wanna lose my pride, but I\\'ma fuck me up a bitch\\nKnow that I kept it sexy, you know I kept it fun\\nThere\\'s something that I\\'m missing, maybe my head for one\\n\\nWhat\\'s worst, lookin\\' jealous or crazy? Jealous or crazy?\\nOr like being walked all over lately, walked all over lately\\nI\\'d rather be crazy\\n\\nHold up, they don\\'t love you like I love you\\nSlow down, they don\\'t love you like I love you\\nBack up, they don\\'t love you like I love you\\nStep down, they don\\'t love you like I love you\\nCan\\'t you see there\\'s no other man above you?\\nWhat a wicked way to treat the girl that loves you\\nHold up, they don\\'t love you like I love you\\nSlow down, they don\\'t love you like I love you\\n\\nLet\\'s imagine for a moment that you never made a name for yourself\\nOr mastered wealth, they had you labeled as a king\\nNever made it out the cage, still out there movin\\' in them streets\\nNever had the baddest woman in the game up in your sheets\\nWould they be down to ride? No\\nThey used to hide from you, lie to you\\nBut y\\'all know we were made for each other\\nSo I find you and hold you down\\nMe sing se\\n\\nHold up, they don\\'t love you like I love you\\nSlow down, they don\\'t love you like I love you\\nBack up, they don\\'t love you like I love you\\nStep down, they don\\'t love you like I love you\\nCan\\'t you see there\\'s no other man above you?\\nWhat a wicked way to treat the girl that loves you\\nHold up, they don\\'t love you like I love you\\nSlow down, they don\\'t love you like I love you\\n\\nHey, this such a shame\\nYou let this good love go to waste\\nI always keep the top tier, 5 star\\nBackseat lovin\\' in the car\\nLike make that wood, like make that wood\\nHolly like a boulevard\\n\\nWhat\\'s worse, lookin\\' jealous or crazy? Jealous and crazy?\\nOr like being walked all over lately, walked all over lately\\nI\\'d rather be crazy\\n\\nHold up, they don\\'t love you like I love you\\nSlow down, they don\\'t love you like I love you\\nBack up, they don\\'t love you like I love you\\nStep down, they don\\'t love you like I love you\\nCan\\'t you see there\\'s no other man above you?\\nWhat a wicked way to treat the girl that loves you\\nHold up, they don\\'t love you like I love you\\nOh, down, they don\\'t love you like I love you\\n\\nI hop up out my bed and get my swag on\\nI look in the mirror, say, \"What\\'s up?\"\\nWhat\\'s up, what\\'s up, what\\'s up\\nI hop up out my bed and get my swag on\\nI look in the mirror, say, \"What\\'s up?\"\\nWhat\\'s up, what\\'s up, what\\'s upTen times out of nine, I know you‘re lying\\nBut nine times out of ten, I know you\\'re trying\\nSo I\\'m trying to be fair\\nAnd you\\'re trying to be there and to care\\nAnd you\\'re caught up in your permanent emotions\\nAnd all the loving I\\'ve been giving goes unnoticed\\nIt\\'s just floating in the air, lookie there\\nAre you aware you\\'re my lifeline, are you tryna kill me?\\nIf I wasn\\'t me, would you still feel me?\\nLike on my worst day? Or am I not thirsty, enough?\\nI don\\'t care about the lights or the beams\\nSpend my life in the dark for the sake of you and me\\nOnly way to go is up, skin thick, too tough, mmm\\n\\n\\'Cause you, you, you, you and me could move a mountain\\nYou, you, you, you and me could calm a war down\\nYou, you, you, you and me could make it rain now\\nYou, you, you, you and me could stop this love drought\\n\\nNine times out of ten, I\\'m in my feelings\\nBut ten times out of nine, I\\'m only human\\nTell me, what did I do wrong?\\nFeel like that question has been posed, I\\'m movin\\' on\\nI always been committed, I been focused\\nI always paid attention, been devoted\\nTell me, what did I do wrong?\\nOh, already asked that, my bad\\nBut you my lifeline, think you tryna kill me\\nIf I wasn\\'t B, would you still feel me?\\nLike on my worst day? Or am I not thirsty, enough?\\nI don\\'t care about the lights or the beams\\nSpend my life in the dark for the sake of you and me\\nOnly way to go is up, them old bitches so wack\\nI\\'m so tough, wassup?\\n\\n\\'Cause you, you, you, you and me could move a mountain\\nYou, you, you, you and me could calm a war down\\nYou, you, you, you and me could make it rain now\\nAnd you, you, you, you and me will stop this love drought\\n\\nYou, you, you, you and me will stop this love drought\\nYou, you, you, you and me will stop this love droughtYou can taste the dishonesty\\nIt\\'s all over your breath as you pass it off so cavalier\\nBut even that\\'s a test\\nConstantly aware of it all\\nMy lonely ear pressed against the walls of your world\\n\\nPray to catch you whispering\\nI pray you catch me listening\\nI\\'m prayin\\' to catch you whispering\\nI pray you catch me\\nI\\'m prayin\\' to catch you whispering\\nI pray you catch me listening\\nI pray you catch me\\n\\nNothing else ever seems to hurt like the smile on your face\\nWhen it\\'s only in my memory, it don\\'t hit me quite the same\\nMaybe it\\'s a cause for concern, but I\\'m not at ease\\nKeeping my head to the curb\\n\\nPray to catch you whispering\\nI pray you catch me listening\\nI pray to catch you whispering (Whisper, whisper)\\nI pray you catch me (Whisper, whisper)\\nI pray you catch me\\nI pray you catch me (Pray you)\\nI\\'m praying you catch me\\n\\nWhat are you doing, my love?We built sandcastles that washed away\\nI made you cry when I walked away, oh\\nAnd although I promised that I couldn\\'t stay, baby\\nEvery promise don\\'t work out that way, oh, babe\\nEvery promise don\\'t work out that way\\n\\nDishes smashed on my counter from our last encounter\\nPictures snatched out the frame\\nBitch, I scratched out your name and your face\\nWhat is it about you that I can\\'t erase, baby?\\nWhen every promise don\\'t work out that way, no no, babe\\nWhen every promise don\\'t work out that way\\n\\nAnd your heart is broken \\'cause I walked away\\nShow me your scars and I won\\'t walk away, oh\\nAnd I know I promised that I couldn\\'t stay, baby\\nEvery promise don\\'t work out that way, no, no, no, no, no\\nEvery promise don\\'t work out that waySorry, I ain\\'t sorry\\nSorry, I ain\\'t sorry\\nI ain\\'t sorry, nigga, nah\\nSorry, I ain\\'t sorry\\nSorry, I ain\\'t sorry\\nI ain\\'t sorry\\n\\nHe trying to roll me up (I ain\\'t sorry)\\nI ain\\'t picking up (I ain\\'t sorry)\\nHeaded to the club (I ain\\'t sorry)\\nI ain\\'t thinking \\'bout you (I ain\\'t sorry)\\nMe and my ladies sip my D\\'USSÉ cups\\nI don\\'t give a fuck, chucking my deuces up\\nSuck on my balls, pause, I had enough (Sorry, I ain\\'t sorry)\\nI ain\\'t thinking \\'bout you\\nI ain\\'t thinking \\'bout\\n\\nMiddle fingers up, put them hands high\\nWave it in his face, tell him, boy, bye (Sorry, I ain\\'t sorry)\\nTell him, boy, bye, boy, bye, middle fingers up\\nI ain\\'t thinking \\'bout you\\n\\nSorry, I ain\\'t sorry (You)\\nSorry, I ain\\'t sorry (You)\\nI ain\\'t sorry, nigga, nah\\nI ain\\'t thinking \\'bout you\\nSorry, I ain\\'t sorry\\nSorry, I ain\\'t sorry, I ain\\'t sorry\\nNo, no, hell nah\\n\\nNow you wanna say you\\'re sorry\\nNow you wanna call me crying\\nNow you gotta see me wilding\\nNow I\\'m the one that\\'s lying\\nAnd I don\\'t feel bad about it\\nIt\\'s exactly what you get\\nStop interrupting my grinding\\n(You interrupting my grinding)\\nI ain\\'t thinking \\'bout you\\n\\nSorry, I ain\\'t sorry\\nI ain\\'t thinking \\'bout you\\nI ain\\'t thinking \\'bout you\\nSorry, I ain\\'t sorry\\nI ain\\'t thinking \\'bout you\\nI ain\\'t thinking \\'bout you\\n\\nMiddle fingers up, put them hands high\\nWave it in his face, tell him, boy, bye (Bye) (Sorry, I ain\\'t sorry)\\nTell him, boy, bye (Bye), boy, bye (Bye)\\nMiddle fingers up, I ain\\'t thinking \\'bout you\\n\\nSorry, I ain\\'t sorry\\nSorry, I ain\\'t sorry\\nI ain\\'t sorry, nigga, nah\\nSorry, I ain\\'t sorry\\nSorry, I ain\\'t sorry\\nI ain\\'t sorry\\nNo, no, hell nah\\n\\nLooking at my watch, he shoulda been home\\nToday, I regret the night I put that ring on\\nHe always got them fucking excuses\\nI pray to the Lord you reveal what his truth is\\n\\nI left a note in the hallway\\nBy the time you read it, I\\'ll be far away\\nI\\'m far away\\nBut I ain\\'t fucking with nobody\\nLet\\'s have a toast to the good life\\nSuicide before you see this tear fall down my eyes\\nMe and my baby, we gon\\' be alright\\nWe gon\\' live a good life\\nBig homie better grow up\\nMe and my whoadies \\'bout to stroll up\\nI see them boppers in the corner\\nThey sneaking out the back door\\nHe only want me when I\\'m not there\\nHe better call Becky with the good hair\\nHe better call Becky with the good hairThe big homie better hold up (Hold up)\\nBig homie better hold up (Hold up)\\nMy whoadies \\'bout to roll up (Roll up)\\nYoung whoadies \\'bout to stroll up (Stroll up)\\nThey comin\\' through the back door\\nThe big homie better hold up (Hold up)\\nMe and my whoadies \\'bout to roll up (Roll up)\\nI see them boppers in the corner (Corner)\\nSneaking out the back door\\n\\nWe really could be\\nLiving young, wild and free\\n\\nI left a note in the hallway (Hallway)\\nBy the time you read it, I\\'ll be far away (Far away)\\nI ain\\'t fucking with nobody (Nobody)\\nToast to the good life (Good life)\\nSuicide before you see my tears in my eyes (In my eyes)\\nMe and my daughter, we gon\\' be alright\\nWe gon\\' live a good life (Good life)\\n\\nBig homie better hold up (Hold up)\\nMe and my whoadies \\'bout to roll up (Roll up)\\nI say my whoadies \\'bout to stroll up (Stroll up)\\nThey comin\\' through the back door\\nBig homie better hold up (Hold up)\\nMe and my whoadies \\'bout to stroll up (Stroll up)\\nI see them boppers in the corner (Corner)\\nSneaking out the back door\\n\\nWe really could be\\nLiving young, wild and free\\n\\nHell no, I ain\\'t gon\\' call you back (Call you back)\\nChase me \\'round the world just to fall back (Fall back)\\nAin\\'t nobody got no time for that\\nTryna keep my family right\\nSwear you\\'re giving me your heart, but I don\\'t care (Don\\'t care)\\nBetter call Becky with the good hair (The good hair)\\nYou only want me when I\\'m not there\\nBoy, you better get in line\\n\\nSometimes I regret the day I put this ring on (Get in line)\\nLooking at my watch he should\\'ve been home (Get in line)\\nHe always got them motherfucking excuses (Get in line)\\nI pray to God you reveal to me what his truth is (Get in line)\\n\\nHey, big homie better grow up (Get in line)\\nAsk you something then you choke up (Get in line)\\nMe and my whoadies gonna roll up\\nBeating down your back door (Get in line)\\nBig homie better hold up (Get in line)\\nYou\\'ve been running game on the wrong one (Get in line)\\nI\\'m runnin\\' so fast for the long run\\nRunnin\\' out the back door (Get in line)\\n\\nWe truly could have been\\nLiving young, wild and free (Get in line)\\nWe truly could have been\\nLiving young, wild and free'"
      ]
     },
     "execution_count": 51,
     "metadata": {},
     "output_type": "execute_result"
    }
   ],
   "source": [
    "full_text"
   ]
  },
  {
   "cell_type": "markdown",
   "metadata": {},
   "source": [
    "**Heads up!**\n",
    "The `\\n` above means \"new line.\" "
   ]
  },
  {
   "cell_type": "code",
   "execution_count": 19,
   "metadata": {},
   "outputs": [
    {
     "data": {
      "text/plain": [
       "str"
      ]
     },
     "execution_count": 19,
     "metadata": {},
     "output_type": "execute_result"
    }
   ],
   "source": [
    "type(full_text)"
   ]
  },
  {
   "cell_type": "markdown",
   "metadata": {},
   "source": [
    "## Extract Parts of Strings"
   ]
  },
  {
   "cell_type": "markdown",
   "metadata": {},
   "source": [
    "### Index"
   ]
  },
  {
   "cell_type": "markdown",
   "metadata": {},
   "source": [
    "By using square brackets `[]`, you can \"index\"—or grab—part of a string based on its character number. The first line of Beyonce's album Lemonade is:\n",
    "> Six inch heels, she walked in the club like nobody's business.\n",
    "\n",
    "If we index the very first character of the album, which character do you think we'll get?"
   ]
  },
  {
   "cell_type": "code",
   "execution_count": null,
   "metadata": {},
   "outputs": [],
   "source": [
    "full_text[1]"
   ]
  },
  {
   "cell_type": "code",
   "execution_count": null,
   "metadata": {},
   "outputs": [],
   "source": [
    "full_text[0]"
   ]
  },
  {
   "cell_type": "markdown",
   "metadata": {},
   "source": [
    "This is one weird thing about Python that you're just going to have to commit to memory. The zero-th place in a Python index is actually the very first place. Its number system starts with zero."
   ]
  },
  {
   "cell_type": "markdown",
   "metadata": {},
   "source": [
    "### Slice"
   ]
  },
  {
   "cell_type": "markdown",
   "metadata": {},
   "source": [
    "By using a colon `:`, we can index a string up to a certain character."
   ]
  },
  {
   "cell_type": "code",
   "execution_count": 67,
   "metadata": {},
   "outputs": [
    {
     "data": {
      "text/plain": [
       "\"Six inch heels, she walked in the club like nobody's business\""
      ]
     },
     "execution_count": 67,
     "metadata": {},
     "output_type": "execute_result"
    }
   ],
   "source": [
    "full_text[:61]"
   ]
  },
  {
   "cell_type": "code",
   "execution_count": 52,
   "metadata": {},
   "outputs": [],
   "source": [
    "lemonade_first_line = full_text[:61]"
   ]
  },
  {
   "cell_type": "markdown",
   "metadata": {},
   "source": [
    "## Add Strings Together"
   ]
  },
  {
   "cell_type": "code",
   "execution_count": 266,
   "metadata": {},
   "outputs": [
    {
     "data": {
      "text/plain": [
       "\"Six inch heels, she walked in the club like nobody's business, and then she took off her shoes because they were pretty tall\""
      ]
     },
     "execution_count": 266,
     "metadata": {},
     "output_type": "execute_result"
    }
   ],
   "source": [
    "lemonade_first_line + \", and then she took off her shoes because they were pretty tall\""
   ]
  },
  {
   "cell_type": "markdown",
   "metadata": {},
   "source": [
    "## Lots of Handy String Methods!"
   ]
  },
  {
   "cell_type": "markdown",
   "metadata": {},
   "source": [
    "For more, see [String Methods](https://melaniewalsh.github.io/Intro-Cultural-Analytics/Python/String-Methods.html)"
   ]
  },
  {
   "cell_type": "code",
   "execution_count": 68,
   "metadata": {},
   "outputs": [
    {
     "data": {
      "text/plain": [
       "\"SIX INCH HEELS, SHE WALKED IN THE CLUB LIKE NOBODY'S BUSINESS\""
      ]
     },
     "execution_count": 68,
     "metadata": {},
     "output_type": "execute_result"
    }
   ],
   "source": [
    "lemonade_first_line.upper()"
   ]
  },
  {
   "cell_type": "markdown",
   "metadata": {},
   "source": [
    "A method is like a function, except that it follows the thing it's going to act upon, and it doesn't necessarily need an \"argument\" in the parentheses."
   ]
  },
  {
   "cell_type": "markdown",
   "metadata": {},
   "source": [
    "## Put Variables Inside Strings"
   ]
  },
  {
   "cell_type": "markdown",
   "metadata": {},
   "source": [
    "You can also insert variables into a string with something called **f-strings**! They're amazing. An f-string must begin with an `f` outside the quotation marks, and then the variable must be be placed within curly brackets `{}`, like so:"
   ]
  },
  {
   "cell_type": "code",
   "execution_count": 267,
   "metadata": {},
   "outputs": [
    {
     "name": "stdout",
     "output_type": "stream",
     "text": [
      "Beyonce stepped on stage and sang: \n",
      "\n",
      "'Six inch heels, she walked in the club like nobody's business'\n"
     ]
    }
   ],
   "source": [
    "print(f\"Beyonce stepped on stage and sang: \\n\\n'{lemonade_first_line}'\")"
   ]
  },
  {
   "cell_type": "markdown",
   "metadata": {},
   "source": [
    "### Your Turn"
   ]
  },
  {
   "cell_type": "markdown",
   "metadata": {},
   "source": [
    "Remix! Make a variable called `new_first_line` and assign it the value of `lemonade_first_line` plus `+` your new remixed ending `new_first_line`. Then print it."
   ]
  },
  {
   "cell_type": "code",
   "execution_count": null,
   "metadata": {},
   "outputs": [],
   "source": [
    "new_first_line = #Your Code Here"
   ]
  },
  {
   "cell_type": "code",
   "execution_count": null,
   "metadata": {},
   "outputs": [],
   "source": [
    "print(f\"Beyonce stepped on stage and sang: \\n\\n'{#Your Code Here}'\")"
   ]
  },
  {
   "cell_type": "markdown",
   "metadata": {},
   "source": [
    "# Integers & Floats (Numbers)"
   ]
  },
  {
   "cell_type": "markdown",
   "metadata": {},
   "source": [
    "- You can do math with them!"
   ]
  },
  {
   "cell_type": "code",
   "execution_count": 268,
   "metadata": {},
   "outputs": [],
   "source": [
    "number_of_desired_words = 40"
   ]
  },
  {
   "cell_type": "code",
   "execution_count": 269,
   "metadata": {},
   "outputs": [
    {
     "data": {
      "text/plain": [
       "int"
      ]
     },
     "execution_count": 269,
     "metadata": {},
     "output_type": "execute_result"
    }
   ],
   "source": [
    "type(number_of_desired_words)"
   ]
  },
  {
   "cell_type": "code",
   "execution_count": 270,
   "metadata": {},
   "outputs": [
    {
     "data": {
      "text/plain": [
       "97"
      ]
     },
     "execution_count": 270,
     "metadata": {},
     "output_type": "execute_result"
    }
   ],
   "source": [
    "number_of_desired_words + 57"
   ]
  },
  {
   "cell_type": "code",
   "execution_count": 22,
   "metadata": {},
   "outputs": [],
   "source": [
    "new_number = 100005"
   ]
  },
  {
   "cell_type": "code",
   "execution_count": 23,
   "metadata": {},
   "outputs": [
    {
     "data": {
      "text/plain": [
       "4000200"
      ]
     },
     "execution_count": 23,
     "metadata": {},
     "output_type": "execute_result"
    }
   ],
   "source": [
    "number_of_desired_words * new_number"
   ]
  },
  {
   "cell_type": "code",
   "execution_count": null,
   "metadata": {},
   "outputs": [],
   "source": [
    "number_of_desired_words= 40.5"
   ]
  },
  {
   "cell_type": "code",
   "execution_count": 273,
   "metadata": {},
   "outputs": [
    {
     "data": {
      "text/plain": [
       "float"
      ]
     },
     "execution_count": 273,
     "metadata": {},
     "output_type": "execute_result"
    }
   ],
   "source": [
    "type(number_of_desired_words)"
   ]
  },
  {
   "cell_type": "code",
   "execution_count": 275,
   "metadata": {},
   "outputs": [
    {
     "data": {
      "text/plain": [
       "float"
      ]
     },
     "execution_count": 275,
     "metadata": {},
     "output_type": "execute_result"
    }
   ],
   "source": [
    "type(40.555555555555)"
   ]
  },
  {
   "cell_type": "markdown",
   "metadata": {},
   "source": [
    "## Multiplication"
   ]
  },
  {
   "cell_type": "code",
   "execution_count": 26,
   "metadata": {},
   "outputs": [
    {
     "data": {
      "text/plain": [
       "8"
      ]
     },
     "execution_count": 26,
     "metadata": {},
     "output_type": "execute_result"
    }
   ],
   "source": [
    "4 * 2"
   ]
  },
  {
   "cell_type": "markdown",
   "metadata": {},
   "source": [
    "## Exponents"
   ]
  },
  {
   "cell_type": "code",
   "execution_count": 46,
   "metadata": {},
   "outputs": [
    {
     "data": {
      "text/plain": [
       "16"
      ]
     },
     "execution_count": 46,
     "metadata": {},
     "output_type": "execute_result"
    }
   ],
   "source": [
    "4 ** 2"
   ]
  },
  {
   "cell_type": "markdown",
   "metadata": {},
   "source": [
    "## Order of Operations"
   ]
  },
  {
   "cell_type": "code",
   "execution_count": 31,
   "metadata": {},
   "outputs": [
    {
     "data": {
      "text/plain": [
       "8"
      ]
     },
     "execution_count": 31,
     "metadata": {},
     "output_type": "execute_result"
    }
   ],
   "source": [
    "4 + 2 * 2"
   ]
  },
  {
   "cell_type": "code",
   "execution_count": 30,
   "metadata": {},
   "outputs": [
    {
     "data": {
      "text/plain": [
       "12"
      ]
     },
     "execution_count": 30,
     "metadata": {},
     "output_type": "execute_result"
    }
   ],
   "source": [
    "(4 + 2) * 2"
   ]
  },
  {
   "cell_type": "markdown",
   "metadata": {},
   "source": [
    "# Booleans (True/False)"
   ]
  },
  {
   "cell_type": "markdown",
   "metadata": {},
   "source": [
    "Booleans are like little judgments. They report on whether things in your Python universe are `True` or `False`."
   ]
  },
  {
   "cell_type": "code",
   "execution_count": 10,
   "metadata": {},
   "outputs": [],
   "source": [
    "beyonce = \"Grammy award-winner\""
   ]
  },
  {
   "cell_type": "code",
   "execution_count": 6,
   "metadata": {},
   "outputs": [
    {
     "data": {
      "text/plain": [
       "True"
      ]
     },
     "execution_count": 6,
     "metadata": {},
     "output_type": "execute_result"
    }
   ],
   "source": [
    "beyonce == \"Grammy award-winner\""
   ]
  },
  {
   "cell_type": "code",
   "execution_count": 7,
   "metadata": {},
   "outputs": [
    {
     "data": {
      "text/plain": [
       "False"
      ]
     },
     "execution_count": 7,
     "metadata": {},
     "output_type": "execute_result"
    }
   ],
   "source": [
    "beyonce == \"Oscar award-winner\""
   ]
  },
  {
   "cell_type": "code",
   "execution_count": 11,
   "metadata": {},
   "outputs": [
    {
     "data": {
      "text/plain": [
       "False"
      ]
     },
     "execution_count": 11,
     "metadata": {},
     "output_type": "execute_result"
    }
   ],
   "source": [
    "beyonce == \"Grammy award winner\""
   ]
  },
  {
   "cell_type": "code",
   "execution_count": 8,
   "metadata": {},
   "outputs": [
    {
     "data": {
      "text/plain": [
       "bool"
      ]
     },
     "execution_count": 8,
     "metadata": {},
     "output_type": "execute_result"
    }
   ],
   "source": [
    "type(beyonce == \"Oscar award-winner\")"
   ]
  },
  {
   "cell_type": "markdown",
   "metadata": {},
   "source": [
    "# Type Conversion"
   ]
  },
  {
   "cell_type": "code",
   "execution_count": 43,
   "metadata": {},
   "outputs": [
    {
     "data": {
      "text/plain": [
       "40"
      ]
     },
     "execution_count": 43,
     "metadata": {},
     "output_type": "execute_result"
    }
   ],
   "source": [
    "number_of_desired_words = 40\n",
    "number_of_desired_words"
   ]
  },
  {
   "cell_type": "code",
   "execution_count": 44,
   "metadata": {},
   "outputs": [
    {
     "data": {
      "text/plain": [
       "int"
      ]
     },
     "execution_count": 44,
     "metadata": {},
     "output_type": "execute_result"
    }
   ],
   "source": [
    "type(number_of_desired_words)"
   ]
  },
  {
   "cell_type": "code",
   "execution_count": null,
   "metadata": {},
   "outputs": [],
   "source": [
    "str(number_of_desired_words)"
   ]
  },
  {
   "cell_type": "code",
   "execution_count": 47,
   "metadata": {},
   "outputs": [],
   "source": [
    "converted_num_desired_words = str(number_of_desired_words)"
   ]
  },
  {
   "cell_type": "code",
   "execution_count": 48,
   "metadata": {},
   "outputs": [
    {
     "data": {
      "text/plain": [
       "str"
      ]
     },
     "execution_count": 48,
     "metadata": {},
     "output_type": "execute_result"
    }
   ],
   "source": [
    "type(converted_num_desired_words)"
   ]
  },
  {
   "cell_type": "code",
   "execution_count": 55,
   "metadata": {},
   "outputs": [
    {
     "ename": "ValueError",
     "evalue": "invalid literal for int() with base 10: \"Six inch heels, she walked in the club like nobody's business\"",
     "output_type": "error",
     "traceback": [
      "\u001b[0;31m---------------------------------------------------------------------------\u001b[0m",
      "\u001b[0;31mValueError\u001b[0m                                Traceback (most recent call last)",
      "\u001b[0;32m<ipython-input-55-a67295cab421>\u001b[0m in \u001b[0;36m<module>\u001b[0;34m\u001b[0m\n\u001b[0;32m----> 1\u001b[0;31m \u001b[0mint\u001b[0m\u001b[0;34m(\u001b[0m\u001b[0mlemonade_first_line\u001b[0m\u001b[0;34m)\u001b[0m\u001b[0;34m\u001b[0m\u001b[0;34m\u001b[0m\u001b[0m\n\u001b[0m",
      "\u001b[0;31mValueError\u001b[0m: invalid literal for int() with base 10: \"Six inch heels, she walked in the club like nobody's business\""
     ]
    }
   ],
   "source": [
    "int(lemonade_first_line)"
   ]
  },
  {
   "cell_type": "markdown",
   "metadata": {},
   "source": [
    "# In-Class Exercise"
   ]
  },
  {
   "cell_type": "code",
   "execution_count": 60,
   "metadata": {},
   "outputs": [],
   "source": [
    "name = 'Prof. Walsh' #string\n",
    "age = 1000 #integer\n",
    "place = 'Chicago' #string \n",
    "favorite_food = 'tacos' #string\n",
    "dog_years_age = age * 7.5 #float\n",
    "student = False #boolean"
   ]
  },
  {
   "cell_type": "code",
   "execution_count": 61,
   "metadata": {},
   "outputs": [
    {
     "name": "stdout",
     "output_type": "stream",
     "text": [
      "✨This is...Prof. Walsh!✨\n",
      "Prof. Walsh likes tacos and once lived in Chicago. Prof. Walsh is 1000 years old, which is 7500.0 in dog years. The statement \"Prof. Walsh is a student\" is False.\n"
     ]
    }
   ],
   "source": [
    "print(f'✨This is...{name}!✨')\n",
    "\n",
    "print(f'{name} likes {favorite_food} and once lived in {place}. {name} is {age} years old, which is {dog_years_age} in dog years. The statement \"{name} is a student\" is {student}.')"
   ]
  },
  {
   "cell_type": "markdown",
   "metadata": {},
   "source": [
    "## Your turn!\n",
    "\n",
    "Make sure `name`, `place`, and `favorite_food` are strings. Make sure `age` and `dog_years_age` integers and floats. Make sure `student` is a boolean."
   ]
  },
  {
   "cell_type": "code",
   "execution_count": null,
   "metadata": {},
   "outputs": [],
   "source": [
    "name = #Your code here\n",
    "age = #Your code here\n",
    "home_town = #Your code here\n",
    "favorite_food = #Your code here\n",
    "dog_years_age =#Your code here * 7.5\n",
    "student = False #boolean"
   ]
  },
  {
   "cell_type": "code",
   "execution_count": null,
   "metadata": {},
   "outputs": [],
   "source": [
    "print(f'✨This is...{name}!✨')\n",
    "\n",
    "print(f'{name} likes {favorite_food} and once lived in {place}. {name} is {age} years old, which is {dog_years_age} in dog years. The statement \"{name} is a student\" is {student}.')"
   ]
  },
  {
   "cell_type": "markdown",
   "metadata": {},
   "source": [
    "Now add a new variable called `favorite_movie` and update the f-string to include a new sentence about the person's favorite movie."
   ]
  },
  {
   "cell_type": "code",
   "execution_count": null,
   "metadata": {},
   "outputs": [],
   "source": [
    "name = \n",
    "age = \n",
    "home_town = \n",
    "favorite_food = \n",
    "dog_years_age =\n",
    "#favorite_movie = "
   ]
  },
  {
   "cell_type": "code",
   "execution_count": null,
   "metadata": {},
   "outputs": [],
   "source": [
    "print(f'✨This is...{name}!✨')\n",
    "\n",
    "print(f'{name} likes {favorite_food} and once lived in {place}. {name} is {age} years old, which is {dog_years_age} in dog years. The statement \"{name} is a student\" is {student}. # YOUR NEW SENTENCE HERE')"
   ]
  }
 ],
 "metadata": {
  "kernelspec": {
   "display_name": "Python 3",
   "language": "python",
   "name": "python3"
  },
  "language_info": {
   "codemirror_mode": {
    "name": "ipython",
    "version": 3
   },
   "file_extension": ".py",
   "mimetype": "text/x-python",
   "name": "python",
   "nbconvert_exporter": "python",
   "pygments_lexer": "ipython3",
   "version": "3.7.5"
  }
 },
 "nbformat": 4,
 "nbformat_minor": 4
}
