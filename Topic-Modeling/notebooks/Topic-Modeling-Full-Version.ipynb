{
 "cells": [
  {
   "cell_type": "markdown",
   "metadata": {},
   "source": [
    "# Topic Modeling"
   ]
  },
  {
   "cell_type": "markdown",
   "metadata": {},
   "source": [
    "[Download relevant files here](https://melaniewalsh.org/Topic-Models.zip)"
   ]
  },
  {
   "cell_type": "markdown",
   "metadata": {},
   "source": [
    "<img src=\"https://pngimg.com/uploads/palette/palette_PNG68293.png\">"
   ]
  },
  {
   "cell_type": "markdown",
   "metadata": {},
   "source": [
    "In this lesson, we're going to learn about a text analysis method called **topic modeling**. This method will help us identify the main topics or discourses within a collection of texts (or within a single text that has been separated into smaller text chunks)."
   ]
  },
  {
   "cell_type": "markdown",
   "metadata": {},
   "source": [
    ">term = word <br>\n",
    ">document = text (or chunk of a text) <br>\n",
    ">corpus = collection of texts <br>"
   ]
  },
  {
   "cell_type": "markdown",
   "metadata": {},
   "source": [
    "When we calculated term frequency-inverse document frequency (tf-idf) scores, we identified individual words that were statistically meaningful for certain documents (i.e., they were more likely to show up in certain documents rather than in other ones). When we topic model, we're going to identify *clusters of words* that show up together in statistically meaningful ways throughout the corpus."
   ]
  },
  {
   "cell_type": "markdown",
   "metadata": {},
   "source": [
    "# Why Are Topic Models Useful?"
   ]
  },
  {
   "cell_type": "markdown",
   "metadata": {},
   "source": [
    "Topic models are useful for understanding collections of texts in their broadest outlines and themes. If you wanted to get a sense of the primary subjects discussed in thousands of journal articles published over multiple decades, then topic modeling might be a good choice. Topic models can also be helpful for looking at the fluctuation of topics and themes over time (this is a time series approach that we will discuss in the next lesson) or finding clusters of texts that contain the same or similar topics. "
   ]
  },
  {
   "cell_type": "markdown",
   "metadata": {},
   "source": [
    "In this lesson, we will train a topic model on a collection of 378 obituaries published by *The New York Times*. As we'll find out, the topics—or clusters of words—that emerge from this analysis are broadly related to art, literature, sports, the military, and politics, among other subjects. These results are pretty satisfying! They seem to capture what the obituaries are \"about.\" Frida Kahlo's obituary contains a significant discussion of her art, while Nella Larsen's obituary discusses her novels, Jackie Robinson's obituary discusses his role in sports, and Ulysses S. Grant's obituary discusses his military career. How does the topic model \"know\" or \"discover\" what these *NYT* obituaries are about?"
   ]
  },
  {
   "cell_type": "markdown",
   "metadata": {},
   "source": [
    "# How LDA Topic Models Work"
   ]
  },
  {
   "cell_type": "markdown",
   "metadata": {},
   "source": [
    "There are numerous kinds of topic models, but the most popular and widely-used kind is latent Dirichlet allocation (LDA). It's so popular, in fact, that \"LDA\" and \"topic model\" are sometimes used interchangeably, even though LDA is only one type.\n",
    "\n",
    "LDA math is pretty complicated. We're not going to get very deep into the math here. But we are going to introduce two important concepts that will help us conceptually understand how LDA topic models work."
   ]
  },
  {
   "cell_type": "markdown",
   "metadata": {},
   "source": [
    "## 1) LDA is an Unsupervised Algorithm\n",
    "\n",
    "Topic modeling is a kind of machine learning. *Machine learning* always sounds like a fancy, scary term, but it really just means that computer algorithms are performing tasks without being explicitly programmed to do so and that they are \"learning\" how to perform these tasks by being fed training data.  In the field of machine learning, algorithms are typically split into two broad categories: supervised and unsupervised. These categories describe how the algorithms are \"trained\" or how they \"learn.\" LDA is an unsupervised algorithm.\n",
    "\n",
    "If an algorithm is *supervised*, that means a researcher is helping to guide it with some kind of information, like labels. For example, if you wanted to create an algorithm that could identify pictures of cats vs pictures of dogs, you could train it with a bunch of pictures of cats that were clearly labeled CAT and a bunch of pictures of dogs that were clearly labeled DOG. The algorithm would then be able to learn which features are specific to cats vs dogs because you explicitly told it: this is a picture of a cat; this is a picture of a dog.\n",
    "\n",
    "If an algorithm is *unsupervised*, that means a researcher does *not* train it with outside information. There are no labels. The algorithm just learns that pictures of cats are more similar to each other and pictures of dogs are more similar to each other. The algorithm doesn't really know that one cluster is cats and one cluster is dogs; it just knows that there are two distinct clusters.\n",
    "\n",
    "Because LDA is an *unsupervised* algorithm, we don't tell our topic model which words or topics to look for. We only tell the topic model how many topics (or clusters of words) that we want returned. The topic model doesn't know anything about Frida Kahlo, Nella Larsen, and Jackie Robinson. It doesn't know anything about art, literature, and sports."
   ]
  },
  {
   "cell_type": "markdown",
   "metadata": {},
   "source": [
    "## 2) LDA is a Probabilistic Model\n",
    "\n",
    "LDA fundamentally relies on statistics and probabilities. Rather than  calculating precise and unchanging metrics about a given corpus, a topic model makes a series of very sophisticated guesses about the corpus. These guesses will change slightly every time we run the topic model. This is important to remember as we analyze, interpret, and make arguments based on our results. All of our results in this lesson will be probabilities, and they'll change slightly every time we re-run the topic model. \n",
    "\n",
    "## The Master Painter and Her Mystery Paints\n",
    "\n",
    "<img src=\"https://pngimg.com/uploads/palette/palette_PNG68293.png\">\n",
    "\n",
    "When we tell the topic model that we want to extract 15 topics from the *NYT* obituaries, here's what the topic model does:\n",
    "\n",
    "The topic model starts off with a slightly silly, backwards assumption. The topic model assumes that every single one of the 378 obituaries in the corpus was written by someone who exclusively drew their words from 15 mystery topics, or 15 clusters of words. To spin it in a slightly different way with a different medium, the topic model assumes that there was one master artist with 15 different paints on her palette, who created all the *NYT* obituaries by dipping her brush into these 15 paints alone, applying and blending them onto each canvas in different proportions. The topic model is trying to discover the 15 mystery topics that created all the *NYT* obituaries, as well as the mixture of these topics that makes up each individual *NYT* obituary.\n",
    "\n",
    "The topic model begins by taking a completely wild guess about the 15 topics, but then it iterates through all the words in all the documents and makes better and better guesses. If the word \"book\" keeps showing up with the words \"published\" and \"writing,\" and if all three words keep showing up in the same kinds of *NYT* obituaries, then the topic model starts to suspect that these three words should belong to the same topic. If the word \"film\" keeps showing up with \"Hollywood\" and \"actor,\" then the topic model suspects that they should belong to the same topic, too. The topic model finally arrives at its best guesses for the 15 topics that most likely created all the *NYT* obituaries."
   ]
  },
  {
   "cell_type": "markdown",
   "metadata": {},
   "source": [
    "# Topics and Labels"
   ]
  },
  {
   "cell_type": "markdown",
   "metadata": {},
   "source": [
    "What we call a \"topic\" is really just a list of the most probable words for that topic, which are sorted in descending order of probability. The most probable word for the topic is the first word. Here are some sample topics from a previous run on the *NYT* obituaries:\n",
    "\n",
    "✨Topic 3✨\n",
    "\n",
    "['book', 'new', 'wrote', 'work', 'published', 'art', 'years', 'writing', 'world', 'writer', 'books', 'novel', 'paris', 'life', 'story']\n",
    "\n",
    "✨Topic 6✨\n",
    "\n",
    "['president', 'state', 'court', 'roosevelt', 'justice', 'house', 'years', 'law', 'party', 'political', 'republican', 'senator', 'governor', 'democratic', 'campaign']\n",
    "\n",
    "✨Topic 10✨\n",
    "\n",
    "['miss', 'film', 'years', 'theater', 'broadway', 'movie', 'films', 'hollywood', 'stage', 'movies', 'actor', 'new', 'director', 'york', 'show']\n",
    "\n",
    "Topic models start to get more powerful when we, as human researchers, analyze the most probable words for every topic and summarize what these words have in common. This summary can then be used as a descriptive label for the topic. Remember, since an LDA topic model is an unsupervised algorithm, it doesn't know what these words mean in relationship to one another. It's up to us, as the human researchers, to make meaning out of the topics.\n",
    "\n",
    "For example, we might label the topics as follows:\n",
    "\n",
    "✨Topic 3: **Literature**✨\n",
    "\n",
    "['book', 'new', 'wrote', 'work', 'published', 'art', 'years', 'writing', 'world', 'writer', 'books', 'novel', 'paris', 'life', 'story']\n",
    "\n",
    "✨Topic 6: **Politics**✨\n",
    "\n",
    "['president', 'state', 'court', 'roosevelt', 'justice', 'house', 'years', 'law', 'party', 'political', 'republican', 'senator', 'governor', 'democratic', 'campaign']\n",
    "\n",
    "✨Topic 10: **Hollywood**✨\n",
    "\n",
    "['miss', 'film', 'years', 'theater', 'broadway', 'movie', 'films', 'hollywood', 'stage', 'movies', 'actor', 'new', 'director', 'york', 'show']\n",
    "\n",
    "However, even when the topics are relatively straightforward, as these topics seem to be, they're still open to interpretation. For instance, we could just as easily label Topic 3 \"Writing & Art,\" Topic 6 \"Government,\" and Topic 10 \"Film & Theater.\" These subtle changes might shape the direction of our analysis and eventual argument in substantial ways. Topics can be far more ambiguous than the above examples, as well, which makes the business of interpretation even more significant. We'll discuss the ambiguity of topics and topic labels in more depth below."
   ]
  },
  {
   "cell_type": "markdown",
   "metadata": {},
   "source": [
    "# MALLET (For Python)"
   ]
  },
  {
   "cell_type": "markdown",
   "metadata": {},
   "source": [
    "[MALLET](http://mallet.cs.umass.edu/topics.php), short for **MA**chine **L**earning for **L**anguag**E** **T**oolkit, is a software package for  topic modeling and other natural language processing techniques. It's maintained by David Mimno, a Cornell professor in Information Science. Go Big Red!\n",
    "\n",
    "MALLET is great, but it's written in Java, another programming language, which makes it slightly difficult to use. Luckily, another Cornellian, Maria Antoniak, a PhD student in Information Science, has written a Python package that will let us easily use MALLET in this Jupyter notebook. It's called [Little MALLET Wrapper](https://github.com/maria-antoniak/little-mallet-wrapper). (A \"wrapper\" is a Python package that makes complicated code easier to use and/or makes code from a different programming language accessible in Python.) "
   ]
  },
  {
   "cell_type": "markdown",
   "metadata": {},
   "source": [
    "## Download and Unzip MALLET"
   ]
  },
  {
   "cell_type": "markdown",
   "metadata": {},
   "source": [
    "The first thing we need to do is download the Java-based MALLET package. To download MALLET, click the following link http://mallet.cs.umass.edu/dist/mallet-2.0.8.zip or find the link on the [MALLET home page](http://mallet.cs.umass.edu/download.php)."
   ]
  },
  {
   "cell_type": "markdown",
   "metadata": {},
   "source": [
    "Once the zip file downloads, unzip it. Make note of where the \"mallet-2.0.8\" directory is located on your computer, or move it into a directory of your choice. I decided to move my \"mallet-2.0.8\" directory into the directory that contains this notebook."
   ]
  },
  {
   "cell_type": "markdown",
   "metadata": {},
   "source": [
    "## Set MALLET Path"
   ]
  },
  {
   "cell_type": "markdown",
   "metadata": {},
   "source": [
    "<img src=\"../images/mallet-bin.png\" width=100%>"
   ]
  },
  {
   "cell_type": "markdown",
   "metadata": {},
   "source": [
    "Next we make a variable called `path_to_mallet` and assign it the file path of our MALLET program. We need to point it to the \"mallet\" file inside the \"bin\" folder inside the \"mallet-2.0.8\" folder. "
   ]
  },
  {
   "cell_type": "markdown",
   "metadata": {},
   "source": [
    "**If MALLET is in your current directory, then set your `path_to_mallet` as follows:**"
   ]
  },
  {
   "cell_type": "code",
   "execution_count": 210,
   "metadata": {},
   "outputs": [],
   "source": [
    "path_to_mallet = 'mallet-2.0.8/bin/mallet' "
   ]
  },
  {
   "cell_type": "markdown",
   "metadata": {},
   "source": [
    "**If MALLET is located in another directory, then set your `path_to_mallet` to that file path. For example:**"
   ]
  },
  {
   "cell_type": "markdown",
   "metadata": {},
   "source": [
    "`'/Users/melaniewalsh/Downloads/mallet-2.0.8/bin/mallet'`"
   ]
  },
  {
   "cell_type": "markdown",
   "metadata": {},
   "source": [
    "## Install and Import Libraries"
   ]
  },
  {
   "cell_type": "markdown",
   "metadata": {},
   "source": [
    "Then we install the Python package [little_mallet_wrapper](https://github.com/maria-antoniak/little-mallet-wrapper). To install it, run `pip install little_mallet_wrapper`, as below."
   ]
  },
  {
   "cell_type": "code",
   "execution_count": null,
   "metadata": {},
   "outputs": [],
   "source": [
    "!pip install little_mallet_wrapper"
   ]
  },
  {
   "cell_type": "markdown",
   "metadata": {},
   "source": [
    "Once the package is installed, we will `import` the `little_mallet_wrapper` package into this Jupyter notebook."
   ]
  },
  {
   "cell_type": "code",
   "execution_count": 268,
   "metadata": {},
   "outputs": [],
   "source": [
    "import little_mallet_wrapper"
   ]
  },
  {
   "cell_type": "markdown",
   "metadata": {},
   "source": [
    "We're also going to import [`glob`](https://docs.python.org/3/library/glob.html) and [`pathlib`](https://docs.python.org/3/library/pathlib.html#basic-use) for working with files and the file system."
   ]
  },
  {
   "cell_type": "code",
   "execution_count": 271,
   "metadata": {},
   "outputs": [],
   "source": [
    "import glob\n",
    "from pathlib import Path"
   ]
  },
  {
   "cell_type": "markdown",
   "metadata": {},
   "source": [
    "## Get Training Data From Text Files"
   ]
  },
  {
   "cell_type": "markdown",
   "metadata": {},
   "source": [
    "Before we topic model the *NYT* obituaries, we need to process the text files and prepare them for analysis. The steps below demonstrate how to process texts if your corpus is a collection of separate text files. In the next lesson, we'll demonstrate how to process texts that come from a CSV file.\n",
    "\n",
    "Note: we're calling these text files our *training data*, because we're *training* our topic model with these texts. The topic model will be learning and extracting topics based on these texts."
   ]
  },
  {
   "cell_type": "markdown",
   "metadata": {},
   "source": [
    "## NYT Obituaries"
   ]
  },
  {
   "cell_type": "markdown",
   "metadata": {},
   "source": [
    "This dataset of *NYT* obituaries is based on data originally collected by Matt Lavin for his *Programming Historian* [TF-IDF tutorial](https://programminghistorian.org/en/lessons/analyzing-documents-with-tfidf#lesson-dataset). However, I have re-scraped the obituaries so that the subject's name and death year is included in each text file name, and I have added 12 more [\"Overlooked\"](https://www.nytimes.com/interactive/2018/obituaries/overlooked.html) obituaries."
   ]
  },
  {
   "cell_type": "markdown",
   "metadata": {},
   "source": [
    "To get the necessary text files, we're going to make a variable and assign it the file path for the directory that contains the text files."
   ]
  },
  {
   "cell_type": "code",
   "execution_count": 379,
   "metadata": {},
   "outputs": [],
   "source": [
    "directory = \"../texts/history/NYT-Obituaries/\""
   ]
  },
  {
   "cell_type": "markdown",
   "metadata": {},
   "source": [
    "Then we're going to use the `glob.gob()` function to make a list of all (`*`) the `.txt` files in that directory."
   ]
  },
  {
   "cell_type": "code",
   "execution_count": 380,
   "metadata": {},
   "outputs": [],
   "source": [
    "files = glob.glob(f\"{directory}/*.txt\")"
   ]
  },
  {
   "cell_type": "code",
   "execution_count": 381,
   "metadata": {
    "scrolled": true
   },
   "outputs": [
    {
     "data": {
      "text/plain": [
       "['../texts/history/NYT-Obituaries/1945-Adolf-Hitler.txt',\n",
       " '../texts/history/NYT-Obituaries/1915-F-W-Taylor.txt',\n",
       " '../texts/history/NYT-Obituaries/1975-Chiang-Kai-shek.txt',\n",
       " '../texts/history/NYT-Obituaries/1984-Ethel-Merman.txt',\n",
       " '../texts/history/NYT-Obituaries/1953-Jim-Thorpe.txt',\n",
       " '../texts/history/NYT-Obituaries/1964-Nella-Larsen.txt',\n",
       " '../texts/history/NYT-Obituaries/1955-Margaret-Abbott.txt',\n",
       " '../texts/history/NYT-Obituaries/1984-Lillian-Hellman.txt',\n",
       " '../texts/history/NYT-Obituaries/1959-Cecil-De-Mille.txt',\n",
       " '../texts/history/NYT-Obituaries/1928-Mabel-Craty.txt',\n",
       " '../texts/history/NYT-Obituaries/1973-Eddie-Rickenbacker.txt',\n",
       " '../texts/history/NYT-Obituaries/1989-Ferdinand-Marcos.txt',\n",
       " '../texts/history/NYT-Obituaries/1991-Martha-Graham.txt',\n",
       " '../texts/history/NYT-Obituaries/1997-Deng-Xiaoping.txt',\n",
       " '../texts/history/NYT-Obituaries/1938-George-E-Hale.txt',\n",
       " '../texts/history/NYT-Obituaries/1885-Ulysses-Grant.txt',\n",
       " '../texts/history/NYT-Obituaries/1909-Sarah-Orne-Jewett.txt',\n",
       " '../texts/history/NYT-Obituaries/1957-Christian-Dior.txt',\n",
       " '../texts/history/NYT-Obituaries/1987-Clare-Boothe-Luce.txt',\n",
       " '../texts/history/NYT-Obituaries/1976-Jacques-Monod.txt',\n",
       " '../texts/history/NYT-Obituaries/1954-Getulio-Vargas.txt',\n",
       " '../texts/history/NYT-Obituaries/1979-Stan-Kenton.txt',\n",
       " '../texts/history/NYT-Obituaries/1990-Leonard-Bernstein.txt',\n",
       " '../texts/history/NYT-Obituaries/1972-Jackie-Robinson.txt',\n",
       " '../texts/history/NYT-Obituaries/1998-Fred-W-Friendly.txt',\n",
       " '../texts/history/NYT-Obituaries/1991-Leo-Durocher.txt',\n",
       " '../texts/history/NYT-Obituaries/1915-B-T-Washington.txt',\n",
       " '../texts/history/NYT-Obituaries/1997-James-Stewart.txt',\n",
       " '../texts/history/NYT-Obituaries/1981-Joe-Louis.txt',\n",
       " '../texts/history/NYT-Obituaries/1983-Muddy-Waters.txt',\n",
       " '../texts/history/NYT-Obituaries/1942-George-M-Cohan.txt',\n",
       " '../texts/history/NYT-Obituaries/1989-Samuel-Beckett.txt',\n",
       " '../texts/history/NYT-Obituaries/1962-Marilyn-Monroe.txt',\n",
       " '../texts/history/NYT-Obituaries/2000-Charles-M-Schulz.txt',\n",
       " '../texts/history/NYT-Obituaries/1967-Gregory-Pincus.txt',\n",
       " '../texts/history/NYT-Obituaries/1894-R-L-Stevenson.txt',\n",
       " '../texts/history/NYT-Obituaries/1978-Bruce-Catton.txt',\n",
       " '../texts/history/NYT-Obituaries/1982-Arthur-Rubinstein.txt',\n",
       " '../texts/history/NYT-Obituaries/1875-Andrew-Johnson.txt',\n",
       " '../texts/history/NYT-Obituaries/1974-Charles-Lindbergh.txt',\n",
       " '../texts/history/NYT-Obituaries/1964-Rachel-Carson.txt',\n",
       " '../texts/history/NYT-Obituaries/1973-Otto-Klemperer.txt',\n",
       " '../texts/history/NYT-Obituaries/1963-Sylvia-Plath.txt',\n",
       " '../texts/history/NYT-Obituaries/1956-Charles-Merrill.txt',\n",
       " '../texts/history/NYT-Obituaries/1966-Lenny-Bruce.txt',\n",
       " '../texts/history/NYT-Obituaries/1908-Cleveland.txt',\n",
       " '../texts/history/NYT-Obituaries/1982-Anna-Freud.txt',\n",
       " '../texts/history/NYT-Obituaries/1941-Frank-Conrad.txt',\n",
       " '../texts/history/NYT-Obituaries/1966-Alfred-P-Sloan-Jr.txt',\n",
       " '../texts/history/NYT-Obituaries/1960-Beno-Gutenberg.txt',\n",
       " '../texts/history/NYT-Obituaries/1976-J-Paul-Getty.txt',\n",
       " '../texts/history/NYT-Obituaries/1891-P-T-Barnum.txt',\n",
       " '../texts/history/NYT-Obituaries/1901-Queen-Victoria.txt',\n",
       " '../texts/history/NYT-Obituaries/1970-Erich-Maria-Remarque.txt',\n",
       " '../texts/history/NYT-Obituaries/1989-August-A-Busch-Jr.txt',\n",
       " '../texts/history/NYT-Obituaries/1992-John-Cage.txt',\n",
       " '../texts/history/NYT-Obituaries/1994-Erik-Erikson.txt',\n",
       " '../texts/history/NYT-Obituaries/1990-Erte.txt',\n",
       " '../texts/history/NYT-Obituaries/1966-Chester-Nimitz.txt',\n",
       " '../texts/history/NYT-Obituaries/1954-Enrico-Fermi.txt',\n",
       " '../texts/history/NYT-Obituaries/1961-Primitive-Artist.txt',\n",
       " '../texts/history/NYT-Obituaries/1945-Bela-Bartok.txt',\n",
       " '../texts/history/NYT-Obituaries/1978-Pope-Paul-VI.txt',\n",
       " '../texts/history/NYT-Obituaries/1965-Martin-Buber.txt',\n",
       " '../texts/history/NYT-Obituaries/1971-Diane-Arbus.txt',\n",
       " '../texts/history/NYT-Obituaries/1973-Lyndon-Johnson.txt',\n",
       " '../texts/history/NYT-Obituaries/1998-Bob-Kane.txt',\n",
       " '../texts/history/NYT-Obituaries/1969-Judy-Garland.txt',\n",
       " '../texts/history/NYT-Obituaries/1959-Frank-Lloyd-Wright.txt',\n",
       " '../texts/history/NYT-Obituaries/1995-Ginger-Rogers.txt',\n",
       " '../texts/history/NYT-Obituaries/1920-Marlene-Dietrich.txt',\n",
       " '../texts/history/NYT-Obituaries/1998-Alan-B-Shepard-Jr.txt',\n",
       " '../texts/history/NYT-Obituaries/1971-Khrushchev.txt',\n",
       " '../texts/history/NYT-Obituaries/1935-Justice-Holmes.txt',\n",
       " '../texts/history/NYT-Obituaries/1969-David-Eisenhower.txt',\n",
       " '../texts/history/NYT-Obituaries/1992-Marsha-P-Johnson.txt',\n",
       " '../texts/history/NYT-Obituaries/1914-Alfred-Thayer-Mahan.txt',\n",
       " '../texts/history/NYT-Obituaries/1965-Branch-Rickey.txt',\n",
       " '../texts/history/NYT-Obituaries/1953-Rawlings.txt',\n",
       " '../texts/history/NYT-Obituaries/1965-Albert-Schweitzer.txt',\n",
       " '../texts/history/NYT-Obituaries/1992-Isaac-Asimov.txt',\n",
       " '../texts/history/NYT-Obituaries/1989-William-B-Shockley.txt',\n",
       " '../texts/history/NYT-Obituaries/1910-William-James.txt',\n",
       " '../texts/history/NYT-Obituaries/1951-Fanny-Brice.txt',\n",
       " '../texts/history/NYT-Obituaries/1916-Jack-London.txt',\n",
       " '../texts/history/NYT-Obituaries/1947-Al-Capone.txt',\n",
       " '../texts/history/NYT-Obituaries/1989-Lucille-Ball.txt',\n",
       " '../texts/history/NYT-Obituaries/1980-Jean-Paul-Sartre.txt',\n",
       " '../texts/history/NYT-Obituaries/1969-Sonja-Henie.txt',\n",
       " '../texts/history/NYT-Obituaries/1976-Adolph-Zukor.txt',\n",
       " '../texts/history/NYT-Obituaries/1959-John-Dulles.txt',\n",
       " '../texts/history/NYT-Obituaries/1980-Alfred-Hitchcock.txt',\n",
       " '../texts/history/NYT-Obituaries/1901-Benjamin-Harrison.txt',\n",
       " '../texts/history/NYT-Obituaries/1994-Richard-Nixon.txt',\n",
       " '../texts/history/NYT-Obituaries/1917-Hilaire-G-E-Degas.txt',\n",
       " '../texts/history/NYT-Obituaries/1987-James-Baldwin.txt',\n",
       " '../texts/history/NYT-Obituaries/1941-Virginia-Woolf.txt',\n",
       " '../texts/history/NYT-Obituaries/1922-Alexander-Graham-Bell.txt',\n",
       " '../texts/history/NYT-Obituaries/1907-Qiu-Jin.txt',\n",
       " '../texts/history/NYT-Obituaries/1895-Fred-Douglass.txt',\n",
       " '../texts/history/NYT-Obituaries/1971-Florence-Blanchfield.txt',\n",
       " '../texts/history/NYT-Obituaries/1984-Ray-A-Kroc.txt',\n",
       " '../texts/history/NYT-Obituaries/1947-Fiorello-La-Guardia.txt',\n",
       " '../texts/history/NYT-Obituaries/1988-Louis-L-Amour.txt',\n",
       " '../texts/history/NYT-Obituaries/1902-Elizabeth-Cady-Stanton.txt',\n",
       " '../texts/history/NYT-Obituaries/1965-Shirley-Jackson.txt',\n",
       " '../texts/history/NYT-Obituaries/1979-John-Wayne.txt',\n",
       " '../texts/history/NYT-Obituaries/1994-Thomas-P-O-Neill-Jr.txt',\n",
       " '../texts/history/NYT-Obituaries/1982-Thelonious-Monk.txt',\n",
       " '../texts/history/NYT-Obituaries/1919-C-J-Walker.txt',\n",
       " '../texts/history/NYT-Obituaries/1954-Liberty-H-Bailey.txt',\n",
       " '../texts/history/NYT-Obituaries/1977-Dash-Ended.txt',\n",
       " '../texts/history/NYT-Obituaries/1936-Maxim-Gorky.txt',\n",
       " '../texts/history/NYT-Obituaries/2000-Pierre-Trudeau.txt',\n",
       " '../texts/history/NYT-Obituaries/1976-Mao-Tse-Tung.txt',\n",
       " '../texts/history/NYT-Obituaries/1955-Walter-White.txt',\n",
       " '../texts/history/NYT-Obituaries/1930-Conan-Doyle.txt',\n",
       " '../texts/history/NYT-Obituaries/1995-Jonas-Salk.txt',\n",
       " '../texts/history/NYT-Obituaries/1949-Mitchell.txt',\n",
       " '../texts/history/NYT-Obituaries/1951-Henrietta-Lacks.txt',\n",
       " '../texts/history/NYT-Obituaries/1903-James-M-N-Whistler.txt',\n",
       " '../texts/history/NYT-Obituaries/1950-A-J-Dempster.txt',\n",
       " '../texts/history/NYT-Obituaries/1937-Edith-Wharton.txt',\n",
       " '../texts/history/NYT-Obituaries/1935-Jane-Addams.txt',\n",
       " '../texts/history/NYT-Obituaries/1941-James-Joyce.txt',\n",
       " '../texts/history/NYT-Obituaries/1952-John-Dewey.txt',\n",
       " '../texts/history/NYT-Obituaries/1940-Marcus-Garvey.txt',\n",
       " '../texts/history/NYT-Obituaries/1971-Louis-Armstrong.txt',\n",
       " '../texts/history/NYT-Obituaries/1923-Warren-Harding.txt',\n",
       " '../texts/history/NYT-Obituaries/1937-John-Rockefeller.txt',\n",
       " '../texts/history/NYT-Obituaries/2000-Elliot-Richardson.txt',\n",
       " '../texts/history/NYT-Obituaries/1972-J-Edgar-Hoover.txt',\n",
       " '../texts/history/NYT-Obituaries/1975-Franco.txt',\n",
       " '../texts/history/NYT-Obituaries/1973-Jeanette-Rankin.txt',\n",
       " '../texts/history/NYT-Obituaries/1888-Louisa-M-Alcott.txt',\n",
       " '../texts/history/NYT-Obituaries/1977-Charles-Chaplin.txt',\n",
       " '../texts/history/NYT-Obituaries/1990-Ralph-David-Abernathy.txt',\n",
       " '../texts/history/NYT-Obituaries/1946-Lord-Keynes.txt',\n",
       " '../texts/history/NYT-Obituaries/1996-Gene-Kelly.txt',\n",
       " '../texts/history/NYT-Obituaries/1973-Roberto-Clemente.txt',\n",
       " '../texts/history/NYT-Obituaries/1986-Georgia-O-Keeffe.txt',\n",
       " '../texts/history/NYT-Obituaries/1990-Rex-Harrison.txt',\n",
       " '../texts/history/NYT-Obituaries/1916-Martian-Theory.txt',\n",
       " '../texts/history/NYT-Obituaries/1961-Ernest-Hemingway.txt',\n",
       " '../texts/history/NYT-Obituaries/1978-Margaret-Mead.txt',\n",
       " '../texts/history/NYT-Obituaries/1982-Ingrid-Bergman.txt',\n",
       " '../texts/history/NYT-Obituaries/1946-C-E-M-Clung.txt',\n",
       " '../texts/history/NYT-Obituaries/1977-Maria-Callas.txt',\n",
       " '../texts/history/NYT-Obituaries/1952-Eva-Peron.txt',\n",
       " '../texts/history/NYT-Obituaries/1953-Stalin-Rose-From.txt',\n",
       " '../texts/history/NYT-Obituaries/1961-Emily-Balch.txt',\n",
       " '../texts/history/NYT-Obituaries/1979-Arthur-Fiedler.txt',\n",
       " '../texts/history/NYT-Obituaries/1896-Harriet-Beecher-Stowe.txt',\n",
       " '../texts/history/NYT-Obituaries/1989-Andrei-Sakharov.txt',\n",
       " '../texts/history/NYT-Obituaries/1939-W-B-Yeats.txt',\n",
       " '../texts/history/NYT-Obituaries/1961-Hammarskjold.txt',\n",
       " '../texts/history/NYT-Obituaries/1969-Madhubala.txt',\n",
       " '../texts/history/NYT-Obituaries/1970-Edouard-Daladier.txt',\n",
       " '../texts/history/NYT-Obituaries/1988-John-Houseman.txt',\n",
       " '../texts/history/NYT-Obituaries/1992-William-Shawn.txt',\n",
       " '../texts/history/NYT-Obituaries/1950-Edna-St-V-Millay.txt',\n",
       " '../texts/history/NYT-Obituaries/1989-Claude-Pepper.txt',\n",
       " '../texts/history/NYT-Obituaries/1929-Marie-Curie.txt',\n",
       " '../texts/history/NYT-Obituaries/1972-The-Duke-of-Windsor.txt',\n",
       " '../texts/history/NYT-Obituaries/1984-Count-Basie.txt',\n",
       " '../texts/history/NYT-Obituaries/1998-Helen-Moody.txt',\n",
       " '../texts/history/NYT-Obituaries/1936-Anne-Macy.txt',\n",
       " '../texts/history/NYT-Obituaries/1900-Nietzsche.txt',\n",
       " '../texts/history/NYT-Obituaries/1880-Lucretia-Mott.txt',\n",
       " '../texts/history/NYT-Obituaries/1967-J-Robert-Oppenheimer.txt',\n",
       " '../texts/history/NYT-Obituaries/1984-Richard-Burton.txt',\n",
       " '../texts/history/NYT-Obituaries/1964-Sean-O-Casey.txt',\n",
       " '../texts/history/NYT-Obituaries/1931-Thomas-Edison.txt',\n",
       " '../texts/history/NYT-Obituaries/1971-Bobby-Jones.txt',\n",
       " '../texts/history/NYT-Obituaries/1914-John-P-Holland.txt',\n",
       " '../texts/history/NYT-Obituaries/1995-George-Abbott.txt',\n",
       " '../texts/history/NYT-Obituaries/1950-Henry-L-Stimson.txt',\n",
       " '../texts/history/NYT-Obituaries/1955-Dale-Carnegie.txt',\n",
       " '../texts/history/NYT-Obituaries/1934-T-A-Watson.txt',\n",
       " '../texts/history/NYT-Obituaries/1968-Martin-Luther-King-Jr.txt',\n",
       " '../texts/history/NYT-Obituaries/1933-Louis-C-Tiffany.txt',\n",
       " '../texts/history/NYT-Obituaries/1909-Geronimo.txt',\n",
       " '../texts/history/NYT-Obituaries/1952-Charles-Spaulding.txt',\n",
       " '../texts/history/NYT-Obituaries/1922-Nellie-Bly.txt',\n",
       " '../texts/history/NYT-Obituaries/1955-Cy-Young.txt',\n",
       " '../texts/history/NYT-Obituaries/1993-Arthur-Ashe.txt',\n",
       " '../texts/history/NYT-Obituaries/1986-Bernard-Malamud.txt',\n",
       " '../texts/history/NYT-Obituaries/1939-Howard-Carter.txt',\n",
       " '../texts/history/NYT-Obituaries/1994-Linus-C-Pauling.txt',\n",
       " '../texts/history/NYT-Obituaries/1967-Langston-Hughes.txt',\n",
       " '../texts/history/NYT-Obituaries/1948-Mohandas-K-Gandhi.txt',\n",
       " '../texts/history/NYT-Obituaries/1931-Melvil-Dewey.txt',\n",
       " '../texts/history/NYT-Obituaries/1969-Everett-Dirksen.txt',\n",
       " '../texts/history/NYT-Obituaries/1968-Helen-Keller.txt',\n",
       " '../texts/history/NYT-Obituaries/1992-Alex-Haley.txt',\n",
       " '../texts/history/NYT-Obituaries/1953-Eugene-O-Neill.txt',\n",
       " '../texts/history/NYT-Obituaries/1981-Anwar-el-Sadat.txt',\n",
       " '../texts/history/NYT-Obituaries/1937-Maurice-Ravel.txt',\n",
       " '../texts/history/NYT-Obituaries/1966-Margaret-Sanger.txt',\n",
       " '../texts/history/NYT-Obituaries/1989-I-F-Stone.txt',\n",
       " '../texts/history/NYT-Obituaries/1943-J-H-Kellogg.txt',\n",
       " '../texts/history/NYT-Obituaries/1985-Roger-Maris.txt',\n",
       " '../texts/history/NYT-Obituaries/1972-Mahalia-Jackson.txt',\n",
       " '../texts/history/NYT-Obituaries/1968-Upton-Sinclair-Author.txt',\n",
       " '../texts/history/NYT-Obituaries/1990-Greta-Garbo.txt',\n",
       " '../texts/history/NYT-Obituaries/1998-Benjamin-Spock.txt',\n",
       " '../texts/history/NYT-Obituaries/1994-Jessica-Tandy.txt',\n",
       " '../texts/history/NYT-Obituaries/1979-Richard-Rodgers.txt',\n",
       " '../texts/history/NYT-Obituaries/1958-W-C-Handy.txt',\n",
       " '../texts/history/NYT-Obituaries/1974-Ed-Sullivan.txt',\n",
       " '../texts/history/NYT-Obituaries/1989-Hirohito.txt',\n",
       " '../texts/history/NYT-Obituaries/1933-Calvin-Coolidge.txt',\n",
       " '../texts/history/NYT-Obituaries/1969-Ho-Chi-Minh.txt',\n",
       " '../texts/history/NYT-Obituaries/1987-John-Huston.txt',\n",
       " '../texts/history/NYT-Obituaries/1984-Johnny-Weissmuller.txt',\n",
       " '../texts/history/NYT-Obituaries/1969-Maureen-Connolly.txt',\n",
       " '../texts/history/NYT-Obituaries/1968-Yuri-Gagarin.txt',\n",
       " '../texts/history/NYT-Obituaries/1991-Peggy-Ashcroft.txt',\n",
       " '../texts/history/NYT-Obituaries/1979-A-Philip-Randolph.txt',\n",
       " '../texts/history/NYT-Obituaries/1946-Gertrude-Stein.txt',\n",
       " '../texts/history/NYT-Obituaries/1993-Thurgood-Marshall.txt',\n",
       " '../texts/history/NYT-Obituaries/1887-Emma-Lazarus.txt',\n",
       " '../texts/history/NYT-Obituaries/1986-James-Cagney.txt',\n",
       " '../texts/history/NYT-Obituaries/1976-Richard-Daley.txt',\n",
       " '../texts/history/NYT-Obituaries/1977-Joan-Crawford.txt',\n",
       " '../texts/history/NYT-Obituaries/1971-Hugo-Black.txt',\n",
       " '../texts/history/NYT-Obituaries/1954-Henri-Matisse.txt',\n",
       " '../texts/history/NYT-Obituaries/1906-Susan-B-Anthony.txt',\n",
       " '../texts/history/NYT-Obituaries/1990-Sammy-Davis-Jr.txt',\n",
       " '../texts/history/NYT-Obituaries/1914-John-Muir.txt',\n",
       " '../texts/history/NYT-Obituaries/1954-Anne-O-Hare-McCormick.txt',\n",
       " '../texts/history/NYT-Obituaries/1986-Kate-Smith.txt',\n",
       " '../texts/history/NYT-Obituaries/1919-Anna-H-Shaw.txt',\n",
       " '../texts/history/NYT-Obituaries/1980-Jean-Piaget.txt',\n",
       " '../texts/history/NYT-Obituaries/1966-Buster-Keaton.txt',\n",
       " '../texts/history/NYT-Obituaries/1997-Allen-Ginsberg.txt',\n",
       " '../texts/history/NYT-Obituaries/1991-Miles-Davis.txt',\n",
       " '../texts/history/NYT-Obituaries/1982-Satchel-Paige.txt',\n",
       " '../texts/history/NYT-Obituaries/1931-Ida-B-Wells.txt',\n",
       " '../texts/history/NYT-Obituaries/1967-Henry-R-Luce.txt',\n",
       " '../texts/history/NYT-Obituaries/1984-Ansel-Adams.txt',\n",
       " '../texts/history/NYT-Obituaries/1945-Ernie-Pyle.txt',\n",
       " '../texts/history/NYT-Obituaries/1952-Chaim-Weizmann.txt',\n",
       " '../texts/history/NYT-Obituaries/1973-Nancy-Mitford.txt',\n",
       " '../texts/history/NYT-Obituaries/1852-Ada-Lovelace.txt',\n",
       " '../texts/history/NYT-Obituaries/1996-Timothy-Leary.txt',\n",
       " '../texts/history/NYT-Obituaries/1919-Carnegie-Started.txt',\n",
       " '../texts/history/NYT-Obituaries/1989-Andrei-A-Gromyko.txt',\n",
       " '../texts/history/NYT-Obituaries/1965-David-O-Selznick.txt',\n",
       " '../texts/history/NYT-Obituaries/1870-Robert-E-Lee.txt',\n",
       " '../texts/history/NYT-Obituaries/1968-Robert-Francis-Kennedy.txt',\n",
       " '../texts/history/NYT-Obituaries/1900-Stephen-Crane.txt',\n",
       " '../texts/history/NYT-Obituaries/1936-John-W-Heisman.txt',\n",
       " '../texts/history/NYT-Obituaries/1998-Maureen-O-Sullivan.txt',\n",
       " '../texts/history/NYT-Obituaries/1944-Alfred-E-Smith.txt',\n",
       " '../texts/history/NYT-Obituaries/1910-Tolstoy.txt',\n",
       " '../texts/history/NYT-Obituaries/1964-Cole-Porter.txt',\n",
       " '../texts/history/NYT-Obituaries/1983-Jack-Dempsey.txt',\n",
       " '../texts/history/NYT-Obituaries/1975-Haile-Selassie.txt',\n",
       " '../texts/history/NYT-Obituaries/1882-Charles-Darwin.txt',\n",
       " '../texts/history/NYT-Obituaries/1903-Emily-Warren-Roebling.txt',\n",
       " '../texts/history/NYT-Obituaries/1962-Eleanor-Roosevelt.txt',\n",
       " '../texts/history/NYT-Obituaries/1926-Harry-Houdini.txt',\n",
       " '../texts/history/NYT-Obituaries/1955-Albert-Einstein.txt',\n",
       " '../texts/history/NYT-Obituaries/1971-Coco-Chanel.txt',\n",
       " '../texts/history/NYT-Obituaries/1959-Billie-Holiday.txt',\n",
       " '../texts/history/NYT-Obituaries/1969-Coleman-Hawkins.txt',\n",
       " '../texts/history/NYT-Obituaries/1954-Frida-Kahlo.txt',\n",
       " '../texts/history/NYT-Obituaries/1911-Joseph-Pulitzer.txt',\n",
       " '../texts/history/NYT-Obituaries/1993-Carlos-Montoya.txt',\n",
       " '../texts/history/NYT-Obituaries/1947-Max-Planck.txt',\n",
       " '../texts/history/NYT-Obituaries/1985-Orson-Welles.txt',\n",
       " '../texts/history/NYT-Obituaries/1974-Earl-Warren.txt',\n",
       " '../texts/history/NYT-Obituaries/1971-Ralph-Bunche.txt',\n",
       " '../texts/history/NYT-Obituaries/1999-Hassan-II.txt',\n",
       " '../texts/history/NYT-Obituaries/1931-Knute-Rocke.txt',\n",
       " '../texts/history/NYT-Obituaries/1998-Theodore-Schultz.txt',\n",
       " '../texts/history/NYT-Obituaries/1960-Boris-Pasternak.txt',\n",
       " '../texts/history/NYT-Obituaries/1927-Victoria-Martin.txt',\n",
       " '../texts/history/NYT-Obituaries/1943-George-Washington-Carver.txt',\n",
       " '../texts/history/NYT-Obituaries/1956-Thomas-J-Watson-Sr.txt',\n",
       " '../texts/history/NYT-Obituaries/1947-Henry-Ford.txt',\n",
       " '../texts/history/NYT-Obituaries/1953-Fred-Vinson.txt',\n",
       " '../texts/history/NYT-Obituaries/1982-Leonid-Brezhnev.txt',\n",
       " '../texts/history/NYT-Obituaries/1999-King-Hussein.txt',\n",
       " '../texts/history/NYT-Obituaries/1930-Elmer-Sperry.txt',\n",
       " '../texts/history/NYT-Obituaries/1985-E-B-White.txt',\n",
       " '../texts/history/NYT-Obituaries/1959-Ethel-Barrymore.txt',\n",
       " '../texts/history/NYT-Obituaries/1986-Benny-Goodman.txt',\n",
       " '../texts/history/NYT-Obituaries/1963-W-E-B-DuBois.txt',\n",
       " '../texts/history/NYT-Obituaries/1975-Elijah-Muhammad.txt',\n",
       " '../texts/history/NYT-Obituaries/1973-Pablo-Picasso.txt',\n",
       " '../texts/history/NYT-Obituaries/1993-Federico-Fellini.txt',\n",
       " '../texts/history/NYT-Obituaries/1945-Harry-S-Truman.txt',\n",
       " '../texts/history/NYT-Obituaries/1970-De-Gaulle-Rallied.txt',\n",
       " '../texts/history/NYT-Obituaries/1995-Alfred-Eisenstaedt.txt',\n",
       " '../texts/history/NYT-Obituaries/1999-Iris-Murdoch.txt',\n",
       " '../texts/history/NYT-Obituaries/1987-Alf-Landon.txt',\n",
       " '../texts/history/NYT-Obituaries/1998-Bella-Abzug.txt',\n",
       " '../texts/history/NYT-Obituaries/1940-Scott-Fitzgerald.txt',\n",
       " '../texts/history/NYT-Obituaries/1989-Vladimir-Horowitz.txt',\n",
       " '../texts/history/NYT-Obituaries/1969-Mies-van-der-Rohe.txt',\n",
       " '../texts/history/NYT-Obituaries/1944-Ida-M-Tarbell.txt',\n",
       " '../texts/history/NYT-Obituaries/1948-John-Pershing.txt',\n",
       " '../texts/history/NYT-Obituaries/1938-Clarence-Darrow.txt',\n",
       " '../texts/history/NYT-Obituaries/1987-Primo-Levi.txt',\n",
       " '../texts/history/NYT-Obituaries/1971-Igor-Stravinsky.txt',\n",
       " '../texts/history/NYT-Obituaries/1945-George-Patton.txt',\n",
       " '../texts/history/NYT-Obituaries/1930-William-Howard-Taft.txt',\n",
       " '../texts/history/NYT-Obituaries/1935-Will-Rogers.txt',\n",
       " '../texts/history/NYT-Obituaries/1992-Shirley-Booth.txt',\n",
       " '../texts/history/NYT-Obituaries/1994-Jacqueline-Kennedy.txt',\n",
       " '../texts/history/NYT-Obituaries/1933-Ring-Lardner.txt',\n",
       " '../texts/history/NYT-Obituaries/1974-Sylvia-Plath.txt',\n",
       " '../texts/history/NYT-Obituaries/1945-FDR.txt',\n",
       " '../texts/history/NYT-Obituaries/1995-Yitzhak-Rabin.txt',\n",
       " '../texts/history/NYT-Obituaries/1960-Emily-Post.txt',\n",
       " '../texts/history/NYT-Obituaries/1984-Truman-Capote.txt',\n",
       " '../texts/history/NYT-Obituaries/1994-Jan-Tinbergen.txt',\n",
       " '../texts/history/NYT-Obituaries/1957-Gerard-Swope.txt',\n",
       " '../texts/history/NYT-Obituaries/1993-Albert-Sabin.txt',\n",
       " '../texts/history/NYT-Obituaries/1955-Thomas-Mann.txt',\n",
       " '../texts/history/NYT-Obituaries/1991-Dr-Seuss.txt',\n",
       " '../texts/history/NYT-Obituaries/1877-Bedford-Forrest.txt',\n",
       " '../texts/history/NYT-Obituaries/1964-Douglas-MacArthur.txt',\n",
       " '../texts/history/NYT-Obituaries/1965-Churchill.txt',\n",
       " '../texts/history/NYT-Obituaries/1962-William-Faulkner.txt',\n",
       " '../texts/history/NYT-Obituaries/1956-Babe-Zaharias.txt',\n",
       " '../texts/history/NYT-Obituaries/1932-John-Philip-Sousa.txt',\n",
       " '../texts/history/NYT-Obituaries/1964-Herbert-Hoover.txt',\n",
       " '../texts/history/NYT-Obituaries/1961-Sam-Rayburn.txt',\n",
       " '../texts/history/NYT-Obituaries/1954-Lionel-Barrymore.txt',\n",
       " '../texts/history/NYT-Obituaries/1998-Frank-Sinatra.txt',\n",
       " '../texts/history/NYT-Obituaries/1948-Babe-Ruth.txt',\n",
       " '../texts/history/NYT-Obituaries/1947-Willa-Cather.txt',\n",
       " '../texts/history/NYT-Obituaries/1963-John-F-Kennedy.txt',\n",
       " '../texts/history/NYT-Obituaries/1975-Walker-Evans.txt',\n",
       " '../texts/history/NYT-Obituaries/1916-J-J-Hill.txt',\n",
       " '../texts/history/NYT-Obituaries/1980-Jesse-Owens.txt',\n",
       " '../texts/history/NYT-Obituaries/1948-Sergei-Eisenstein.txt',\n",
       " '../texts/history/NYT-Obituaries/1981-Robert-Moses.txt',\n",
       " '../texts/history/NYT-Obituaries/1989-Robert-Penn-Warren.txt',\n",
       " '../texts/history/NYT-Obituaries/1901-William-McKinley.txt',\n",
       " '../texts/history/NYT-Obituaries/1970-Walter-Reuther.txt',\n",
       " '../texts/history/NYT-Obituaries/1930-Balfour.txt',\n",
       " '../texts/history/NYT-Obituaries/1984-Indira-Gandhi.txt',\n",
       " '../texts/history/NYT-Obituaries/1978-Golda-Meir.txt',\n",
       " '../texts/history/NYT-Obituaries/1983-Earl-Hines.txt',\n",
       " '../texts/history/NYT-Obituaries/1974-Katharine-Cornell.txt',\n",
       " '../texts/history/NYT-Obituaries/1982-Lee-Strasberg.txt',\n",
       " '../texts/history/NYT-Obituaries/1939-Pope-Pius-XI.txt',\n",
       " '../texts/history/NYT-Obituaries/1886-Mary-Ewing-Outerbridge.txt',\n",
       " '../texts/history/NYT-Obituaries/1993-Dizzy-Gillespie.txt',\n",
       " '../texts/history/NYT-Obituaries/1910-Florence-Nightingale.txt',\n",
       " '../texts/history/NYT-Obituaries/1960-Richard-Wright.txt',\n",
       " '../texts/history/NYT-Obituaries/1986-The-Challenger.txt',\n",
       " '../texts/history/NYT-Obituaries/1992-Menachem-Begin.txt',\n",
       " '../texts/history/NYT-Obituaries/1998-Galina-Ulanova.txt',\n",
       " '../texts/history/NYT-Obituaries/1976-Max-Ernst.txt',\n",
       " '../texts/history/NYT-Obituaries/1993-Cesar-Chavez.txt',\n",
       " '../texts/history/NYT-Obituaries/1965-Adlai-Ewing-Stevenson.txt',\n",
       " '../texts/history/NYT-Obituaries/1935-Adolph-S-Ochs.txt',\n",
       " '../texts/history/NYT-Obituaries/1941-Lou-Gehrig.txt',\n",
       " '../texts/history/NYT-Obituaries/1961-Carl-G-Jung.txt',\n",
       " '../texts/history/NYT-Obituaries/1963-Robert-Frost.txt',\n",
       " '../texts/history/NYT-Obituaries/1965-Edward-R-Murrow.txt',\n",
       " '../texts/history/NYT-Obituaries/1971-Dean-Acheson.txt',\n",
       " '../texts/history/NYT-Obituaries/1986-Jorge-Luis-Borges.txt',\n",
       " '../texts/history/NYT-Obituaries/1966-Walt-Disney.txt',\n",
       " '../texts/history/NYT-Obituaries/1996-Carl-Sagan.txt',\n",
       " '../texts/history/NYT-Obituaries/1959-Ross-G-Harrison.txt',\n",
       " '../texts/history/NYT-Obituaries/1945-Jerome-Kern.txt',\n",
       " '../texts/history/NYT-Obituaries/1991-Frank-Capra.txt',\n",
       " '../texts/history/NYT-Obituaries/1987-Andres-Segovie.txt',\n",
       " '../texts/history/NYT-Obituaries/1987-Rita-Hayworth.txt',\n",
       " '../texts/history/NYT-Obituaries/1993-William-Golding.txt',\n",
       " '../texts/history/NYT-Obituaries/1932-Florenz-Ziegfeld.txt',\n",
       " '../texts/history/NYT-Obituaries/1938-Constantin-Stanislavsky.txt']"
      ]
     },
     "execution_count": 381,
     "metadata": {},
     "output_type": "execute_result"
    }
   ],
   "source": [
    "files"
   ]
  },
  {
   "cell_type": "markdown",
   "metadata": {},
   "source": [
    "## Process Texts"
   ]
  },
  {
   "cell_type": "markdown",
   "metadata": {},
   "source": [
    "`little_mallet_wrapper.process_string(text, numbers='remove')`"
   ]
  },
  {
   "cell_type": "markdown",
   "metadata": {},
   "source": [
    "Next we process our texts with the function `little_mallet_wrapper.process_string()`. This function will take every individual text file, transform all the text to lowercase as well as remove stopwords, punctuation, and numbers, and then add the processed text to our master list `training_data`."
   ]
  },
  {
   "cell_type": "markdown",
   "metadata": {},
   "source": [
    "> *Take a moment to study this code and reflect about what's happening here. This is a very common Python pattern! We make an empty list `training_data = []`, then we use a `for` loop to iterate through every file path in the list of file paths, then we `open()` and `.read()` each text file associated with that file path, then we processes `little_mallet_wrapper.process_string()` the text, and finally we `.append()` the processed text to our master list.*"
   ]
  },
  {
   "cell_type": "code",
   "execution_count": 382,
   "metadata": {},
   "outputs": [],
   "source": [
    "training_data = []\n",
    "for file in files:\n",
    "    text = open(file, encoding='utf-8').read()\n",
    "    processed_text = little_mallet_wrapper.process_string(text, numbers='remove')\n",
    "    training_data.append(processed_text)"
   ]
  },
  {
   "cell_type": "markdown",
   "metadata": {},
   "source": [
    "We're also making a master list of the original text of the obituaries for future reference."
   ]
  },
  {
   "cell_type": "code",
   "execution_count": null,
   "metadata": {},
   "outputs": [],
   "source": [
    "original_texts = []\n",
    "for file in files:\n",
    "    text = open(file, encoding='utf-8').read()\n",
    "    original_texts.append(text)"
   ]
  },
  {
   "cell_type": "markdown",
   "metadata": {},
   "source": [
    "## Process Titles"
   ]
  },
  {
   "cell_type": "markdown",
   "metadata": {},
   "source": [
    "Here we extract the relevant part of each file name by using [`Path().stem`](https://docs.python.org/3/library/pathlib.html#pathlib.PurePath.stem), which conveniently extracts just the last part of the file path without the \".txt\" file extension. Because each file name includes the obituary subject's name as well as the year that the subject died, we're going to use this information as a title or label for each obituary."
   ]
  },
  {
   "cell_type": "markdown",
   "metadata": {},
   "source": [
    "> *Take a moment to study this code and reflect about what's happening here. This is a very simple list comprehension!*"
   ]
  },
  {
   "cell_type": "code",
   "execution_count": 384,
   "metadata": {},
   "outputs": [],
   "source": [
    "obit_titles = [Path(file).stem for file in files]"
   ]
  },
  {
   "cell_type": "code",
   "execution_count": 385,
   "metadata": {
    "scrolled": true
   },
   "outputs": [
    {
     "data": {
      "text/plain": [
       "['1945-Adolf-Hitler',\n",
       " '1915-F-W-Taylor',\n",
       " '1975-Chiang-Kai-shek',\n",
       " '1984-Ethel-Merman',\n",
       " '1953-Jim-Thorpe',\n",
       " '1964-Nella-Larsen',\n",
       " '1955-Margaret-Abbott',\n",
       " '1984-Lillian-Hellman',\n",
       " '1959-Cecil-De-Mille',\n",
       " '1928-Mabel-Craty',\n",
       " '1973-Eddie-Rickenbacker',\n",
       " '1989-Ferdinand-Marcos',\n",
       " '1991-Martha-Graham',\n",
       " '1997-Deng-Xiaoping',\n",
       " '1938-George-E-Hale',\n",
       " '1885-Ulysses-Grant',\n",
       " '1909-Sarah-Orne-Jewett',\n",
       " '1957-Christian-Dior',\n",
       " '1987-Clare-Boothe-Luce',\n",
       " '1976-Jacques-Monod',\n",
       " '1954-Getulio-Vargas',\n",
       " '1979-Stan-Kenton',\n",
       " '1990-Leonard-Bernstein',\n",
       " '1972-Jackie-Robinson',\n",
       " '1998-Fred-W-Friendly',\n",
       " '1991-Leo-Durocher',\n",
       " '1915-B-T-Washington',\n",
       " '1997-James-Stewart',\n",
       " '1981-Joe-Louis',\n",
       " '1983-Muddy-Waters',\n",
       " '1942-George-M-Cohan',\n",
       " '1989-Samuel-Beckett',\n",
       " '1962-Marilyn-Monroe',\n",
       " '2000-Charles-M-Schulz',\n",
       " '1967-Gregory-Pincus',\n",
       " '1894-R-L-Stevenson',\n",
       " '1978-Bruce-Catton',\n",
       " '1982-Arthur-Rubinstein',\n",
       " '1875-Andrew-Johnson',\n",
       " '1974-Charles-Lindbergh',\n",
       " '1964-Rachel-Carson',\n",
       " '1973-Otto-Klemperer',\n",
       " '1963-Sylvia-Plath',\n",
       " '1956-Charles-Merrill',\n",
       " '1966-Lenny-Bruce',\n",
       " '1908-Cleveland',\n",
       " '1982-Anna-Freud',\n",
       " '1941-Frank-Conrad',\n",
       " '1966-Alfred-P-Sloan-Jr',\n",
       " '1960-Beno-Gutenberg',\n",
       " '1976-J-Paul-Getty',\n",
       " '1891-P-T-Barnum',\n",
       " '1901-Queen-Victoria',\n",
       " '1970-Erich-Maria-Remarque',\n",
       " '1989-August-A-Busch-Jr',\n",
       " '1992-John-Cage',\n",
       " '1994-Erik-Erikson',\n",
       " '1990-Erte',\n",
       " '1966-Chester-Nimitz',\n",
       " '1954-Enrico-Fermi',\n",
       " '1961-Primitive-Artist',\n",
       " '1945-Bela-Bartok',\n",
       " '1978-Pope-Paul-VI',\n",
       " '1965-Martin-Buber',\n",
       " '1971-Diane-Arbus',\n",
       " '1973-Lyndon-Johnson',\n",
       " '1998-Bob-Kane',\n",
       " '1969-Judy-Garland',\n",
       " '1959-Frank-Lloyd-Wright',\n",
       " '1995-Ginger-Rogers',\n",
       " '1920-Marlene-Dietrich',\n",
       " '1998-Alan-B-Shepard-Jr',\n",
       " '1971-Khrushchev',\n",
       " '1935-Justice-Holmes',\n",
       " '1969-David-Eisenhower',\n",
       " '1992-Marsha-P-Johnson',\n",
       " '1914-Alfred-Thayer-Mahan',\n",
       " '1965-Branch-Rickey',\n",
       " '1953-Rawlings',\n",
       " '1965-Albert-Schweitzer',\n",
       " '1992-Isaac-Asimov',\n",
       " '1989-William-B-Shockley',\n",
       " '1910-William-James',\n",
       " '1951-Fanny-Brice',\n",
       " '1916-Jack-London',\n",
       " '1947-Al-Capone',\n",
       " '1989-Lucille-Ball',\n",
       " '1980-Jean-Paul-Sartre',\n",
       " '1969-Sonja-Henie',\n",
       " '1976-Adolph-Zukor',\n",
       " '1959-John-Dulles',\n",
       " '1980-Alfred-Hitchcock',\n",
       " '1901-Benjamin-Harrison',\n",
       " '1994-Richard-Nixon',\n",
       " '1917-Hilaire-G-E-Degas',\n",
       " '1987-James-Baldwin',\n",
       " '1941-Virginia-Woolf',\n",
       " '1922-Alexander-Graham-Bell',\n",
       " '1907-Qiu-Jin',\n",
       " '1895-Fred-Douglass',\n",
       " '1971-Florence-Blanchfield',\n",
       " '1984-Ray-A-Kroc',\n",
       " '1947-Fiorello-La-Guardia',\n",
       " '1988-Louis-L-Amour',\n",
       " '1902-Elizabeth-Cady-Stanton',\n",
       " '1965-Shirley-Jackson',\n",
       " '1979-John-Wayne',\n",
       " '1994-Thomas-P-O-Neill-Jr',\n",
       " '1982-Thelonious-Monk',\n",
       " '1919-C-J-Walker',\n",
       " '1954-Liberty-H-Bailey',\n",
       " '1977-Dash-Ended',\n",
       " '1936-Maxim-Gorky',\n",
       " '2000-Pierre-Trudeau',\n",
       " '1976-Mao-Tse-Tung',\n",
       " '1955-Walter-White',\n",
       " '1930-Conan-Doyle',\n",
       " '1995-Jonas-Salk',\n",
       " '1949-Mitchell',\n",
       " '1951-Henrietta-Lacks',\n",
       " '1903-James-M-N-Whistler',\n",
       " '1950-A-J-Dempster',\n",
       " '1937-Edith-Wharton',\n",
       " '1935-Jane-Addams',\n",
       " '1941-James-Joyce',\n",
       " '1952-John-Dewey',\n",
       " '1940-Marcus-Garvey',\n",
       " '1971-Louis-Armstrong',\n",
       " '1923-Warren-Harding',\n",
       " '1937-John-Rockefeller',\n",
       " '2000-Elliot-Richardson',\n",
       " '1972-J-Edgar-Hoover',\n",
       " '1975-Franco',\n",
       " '1973-Jeanette-Rankin',\n",
       " '1888-Louisa-M-Alcott',\n",
       " '1977-Charles-Chaplin',\n",
       " '1990-Ralph-David-Abernathy',\n",
       " '1946-Lord-Keynes',\n",
       " '1996-Gene-Kelly',\n",
       " '1973-Roberto-Clemente',\n",
       " '1986-Georgia-O-Keeffe',\n",
       " '1990-Rex-Harrison',\n",
       " '1916-Martian-Theory',\n",
       " '1961-Ernest-Hemingway',\n",
       " '1978-Margaret-Mead',\n",
       " '1982-Ingrid-Bergman',\n",
       " '1946-C-E-M-Clung',\n",
       " '1977-Maria-Callas',\n",
       " '1952-Eva-Peron',\n",
       " '1953-Stalin-Rose-From',\n",
       " '1961-Emily-Balch',\n",
       " '1979-Arthur-Fiedler',\n",
       " '1896-Harriet-Beecher-Stowe',\n",
       " '1989-Andrei-Sakharov',\n",
       " '1939-W-B-Yeats',\n",
       " '1961-Hammarskjold',\n",
       " '1969-Madhubala',\n",
       " '1970-Edouard-Daladier',\n",
       " '1988-John-Houseman',\n",
       " '1992-William-Shawn',\n",
       " '1950-Edna-St-V-Millay',\n",
       " '1989-Claude-Pepper',\n",
       " '1929-Marie-Curie',\n",
       " '1972-The-Duke-of-Windsor',\n",
       " '1984-Count-Basie',\n",
       " '1998-Helen-Moody',\n",
       " '1936-Anne-Macy',\n",
       " '1900-Nietzsche',\n",
       " '1880-Lucretia-Mott',\n",
       " '1967-J-Robert-Oppenheimer',\n",
       " '1984-Richard-Burton',\n",
       " '1964-Sean-O-Casey',\n",
       " '1931-Thomas-Edison',\n",
       " '1971-Bobby-Jones',\n",
       " '1914-John-P-Holland',\n",
       " '1995-George-Abbott',\n",
       " '1950-Henry-L-Stimson',\n",
       " '1955-Dale-Carnegie',\n",
       " '1934-T-A-Watson',\n",
       " '1968-Martin-Luther-King-Jr',\n",
       " '1933-Louis-C-Tiffany',\n",
       " '1909-Geronimo',\n",
       " '1952-Charles-Spaulding',\n",
       " '1922-Nellie-Bly',\n",
       " '1955-Cy-Young',\n",
       " '1993-Arthur-Ashe',\n",
       " '1986-Bernard-Malamud',\n",
       " '1939-Howard-Carter',\n",
       " '1994-Linus-C-Pauling',\n",
       " '1967-Langston-Hughes',\n",
       " '1948-Mohandas-K-Gandhi',\n",
       " '1931-Melvil-Dewey',\n",
       " '1969-Everett-Dirksen',\n",
       " '1968-Helen-Keller',\n",
       " '1992-Alex-Haley',\n",
       " '1953-Eugene-O-Neill',\n",
       " '1981-Anwar-el-Sadat',\n",
       " '1937-Maurice-Ravel',\n",
       " '1966-Margaret-Sanger',\n",
       " '1989-I-F-Stone',\n",
       " '1943-J-H-Kellogg',\n",
       " '1985-Roger-Maris',\n",
       " '1972-Mahalia-Jackson',\n",
       " '1968-Upton-Sinclair-Author',\n",
       " '1990-Greta-Garbo',\n",
       " '1998-Benjamin-Spock',\n",
       " '1994-Jessica-Tandy',\n",
       " '1979-Richard-Rodgers',\n",
       " '1958-W-C-Handy',\n",
       " '1974-Ed-Sullivan',\n",
       " '1989-Hirohito',\n",
       " '1933-Calvin-Coolidge',\n",
       " '1969-Ho-Chi-Minh',\n",
       " '1987-John-Huston',\n",
       " '1984-Johnny-Weissmuller',\n",
       " '1969-Maureen-Connolly',\n",
       " '1968-Yuri-Gagarin',\n",
       " '1991-Peggy-Ashcroft',\n",
       " '1979-A-Philip-Randolph',\n",
       " '1946-Gertrude-Stein',\n",
       " '1993-Thurgood-Marshall',\n",
       " '1887-Emma-Lazarus',\n",
       " '1986-James-Cagney',\n",
       " '1976-Richard-Daley',\n",
       " '1977-Joan-Crawford',\n",
       " '1971-Hugo-Black',\n",
       " '1954-Henri-Matisse',\n",
       " '1906-Susan-B-Anthony',\n",
       " '1990-Sammy-Davis-Jr',\n",
       " '1914-John-Muir',\n",
       " '1954-Anne-O-Hare-McCormick',\n",
       " '1986-Kate-Smith',\n",
       " '1919-Anna-H-Shaw',\n",
       " '1980-Jean-Piaget',\n",
       " '1966-Buster-Keaton',\n",
       " '1997-Allen-Ginsberg',\n",
       " '1991-Miles-Davis',\n",
       " '1982-Satchel-Paige',\n",
       " '1931-Ida-B-Wells',\n",
       " '1967-Henry-R-Luce',\n",
       " '1984-Ansel-Adams',\n",
       " '1945-Ernie-Pyle',\n",
       " '1952-Chaim-Weizmann',\n",
       " '1973-Nancy-Mitford',\n",
       " '1852-Ada-Lovelace',\n",
       " '1996-Timothy-Leary',\n",
       " '1919-Carnegie-Started',\n",
       " '1989-Andrei-A-Gromyko',\n",
       " '1965-David-O-Selznick',\n",
       " '1870-Robert-E-Lee',\n",
       " '1968-Robert-Francis-Kennedy',\n",
       " '1900-Stephen-Crane',\n",
       " '1936-John-W-Heisman',\n",
       " '1998-Maureen-O-Sullivan',\n",
       " '1944-Alfred-E-Smith',\n",
       " '1910-Tolstoy',\n",
       " '1964-Cole-Porter',\n",
       " '1983-Jack-Dempsey',\n",
       " '1975-Haile-Selassie',\n",
       " '1882-Charles-Darwin',\n",
       " '1903-Emily-Warren-Roebling',\n",
       " '1962-Eleanor-Roosevelt',\n",
       " '1926-Harry-Houdini',\n",
       " '1955-Albert-Einstein',\n",
       " '1971-Coco-Chanel',\n",
       " '1959-Billie-Holiday',\n",
       " '1969-Coleman-Hawkins',\n",
       " '1954-Frida-Kahlo',\n",
       " '1911-Joseph-Pulitzer',\n",
       " '1993-Carlos-Montoya',\n",
       " '1947-Max-Planck',\n",
       " '1985-Orson-Welles',\n",
       " '1974-Earl-Warren',\n",
       " '1971-Ralph-Bunche',\n",
       " '1999-Hassan-II',\n",
       " '1931-Knute-Rocke',\n",
       " '1998-Theodore-Schultz',\n",
       " '1960-Boris-Pasternak',\n",
       " '1927-Victoria-Martin',\n",
       " '1943-George-Washington-Carver',\n",
       " '1956-Thomas-J-Watson-Sr',\n",
       " '1947-Henry-Ford',\n",
       " '1953-Fred-Vinson',\n",
       " '1982-Leonid-Brezhnev',\n",
       " '1999-King-Hussein',\n",
       " '1930-Elmer-Sperry',\n",
       " '1985-E-B-White',\n",
       " '1959-Ethel-Barrymore',\n",
       " '1986-Benny-Goodman',\n",
       " '1963-W-E-B-DuBois',\n",
       " '1975-Elijah-Muhammad',\n",
       " '1973-Pablo-Picasso',\n",
       " '1993-Federico-Fellini',\n",
       " '1945-Harry-S-Truman',\n",
       " '1970-De-Gaulle-Rallied',\n",
       " '1995-Alfred-Eisenstaedt',\n",
       " '1999-Iris-Murdoch',\n",
       " '1987-Alf-Landon',\n",
       " '1998-Bella-Abzug',\n",
       " '1940-Scott-Fitzgerald',\n",
       " '1989-Vladimir-Horowitz',\n",
       " '1969-Mies-van-der-Rohe',\n",
       " '1944-Ida-M-Tarbell',\n",
       " '1948-John-Pershing',\n",
       " '1938-Clarence-Darrow',\n",
       " '1987-Primo-Levi',\n",
       " '1971-Igor-Stravinsky',\n",
       " '1945-George-Patton',\n",
       " '1930-William-Howard-Taft',\n",
       " '1935-Will-Rogers',\n",
       " '1992-Shirley-Booth',\n",
       " '1994-Jacqueline-Kennedy',\n",
       " '1933-Ring-Lardner',\n",
       " '1974-Sylvia-Plath',\n",
       " '1945-FDR',\n",
       " '1995-Yitzhak-Rabin',\n",
       " '1960-Emily-Post',\n",
       " '1984-Truman-Capote',\n",
       " '1994-Jan-Tinbergen',\n",
       " '1957-Gerard-Swope',\n",
       " '1993-Albert-Sabin',\n",
       " '1955-Thomas-Mann',\n",
       " '1991-Dr-Seuss',\n",
       " '1877-Bedford-Forrest',\n",
       " '1964-Douglas-MacArthur',\n",
       " '1965-Churchill',\n",
       " '1962-William-Faulkner',\n",
       " '1956-Babe-Zaharias',\n",
       " '1932-John-Philip-Sousa',\n",
       " '1964-Herbert-Hoover',\n",
       " '1961-Sam-Rayburn',\n",
       " '1954-Lionel-Barrymore',\n",
       " '1998-Frank-Sinatra',\n",
       " '1948-Babe-Ruth',\n",
       " '1947-Willa-Cather',\n",
       " '1963-John-F-Kennedy',\n",
       " '1975-Walker-Evans',\n",
       " '1916-J-J-Hill',\n",
       " '1980-Jesse-Owens',\n",
       " '1948-Sergei-Eisenstein',\n",
       " '1981-Robert-Moses',\n",
       " '1989-Robert-Penn-Warren',\n",
       " '1901-William-McKinley',\n",
       " '1970-Walter-Reuther',\n",
       " '1930-Balfour',\n",
       " '1984-Indira-Gandhi',\n",
       " '1978-Golda-Meir',\n",
       " '1983-Earl-Hines',\n",
       " '1974-Katharine-Cornell',\n",
       " '1982-Lee-Strasberg',\n",
       " '1939-Pope-Pius-XI',\n",
       " '1886-Mary-Ewing-Outerbridge',\n",
       " '1993-Dizzy-Gillespie',\n",
       " '1910-Florence-Nightingale',\n",
       " '1960-Richard-Wright',\n",
       " '1986-The-Challenger',\n",
       " '1992-Menachem-Begin',\n",
       " '1998-Galina-Ulanova',\n",
       " '1976-Max-Ernst',\n",
       " '1993-Cesar-Chavez',\n",
       " '1965-Adlai-Ewing-Stevenson',\n",
       " '1935-Adolph-S-Ochs',\n",
       " '1941-Lou-Gehrig',\n",
       " '1961-Carl-G-Jung',\n",
       " '1963-Robert-Frost',\n",
       " '1965-Edward-R-Murrow',\n",
       " '1971-Dean-Acheson',\n",
       " '1986-Jorge-Luis-Borges',\n",
       " '1966-Walt-Disney',\n",
       " '1996-Carl-Sagan',\n",
       " '1959-Ross-G-Harrison',\n",
       " '1945-Jerome-Kern',\n",
       " '1991-Frank-Capra',\n",
       " '1987-Andres-Segovie',\n",
       " '1987-Rita-Hayworth',\n",
       " '1993-William-Golding',\n",
       " '1932-Florenz-Ziegfeld',\n",
       " '1938-Constantin-Stanislavsky']"
      ]
     },
     "execution_count": 385,
     "metadata": {},
     "output_type": "execute_result"
    }
   ],
   "source": [
    "obit_titles"
   ]
  },
  {
   "cell_type": "markdown",
   "metadata": {},
   "source": [
    "## Get Training Data Stats"
   ]
  },
  {
   "cell_type": "markdown",
   "metadata": {},
   "source": [
    "We can get training data summary statisitcs by using the funciton `little_mallet_wrapper.print_dataset_stats()`."
   ]
  },
  {
   "cell_type": "code",
   "execution_count": 386,
   "metadata": {},
   "outputs": [
    {
     "name": "stdout",
     "output_type": "stream",
     "text": [
      "Number of Documents: 378\n",
      "Mean Number of Words: 1345.6\n",
      "Vocabulary Size: 36072\n"
     ]
    }
   ],
   "source": [
    "little_mallet_wrapper.print_dataset_stats(training_data)"
   ]
  },
  {
   "cell_type": "markdown",
   "metadata": {},
   "source": [
    "According to this little report, we have 378 documents (or obituaries) that average 1345 words in length."
   ]
  },
  {
   "cell_type": "markdown",
   "metadata": {},
   "source": [
    "# Training the Topic Model"
   ]
  },
  {
   "cell_type": "markdown",
   "metadata": {},
   "source": [
    "`little_mallet_wrapper.train_topic_model(path_to_mallet,\n",
    "                      path_to_formatted_training_data,\n",
    "                      path_to_model,\n",
    "                      path_to_topic_keys,\n",
    "                      path_to_topic_distributions,\n",
    "                      num_topics)`"
   ]
  },
  {
   "cell_type": "markdown",
   "metadata": {},
   "source": [
    "We're going to train our topic model with the `little_mallet_wrapper.train_topic_model()` function. As you can see above, however, this function requires 6 different arguments and file paths to run properly:\n",
    "\n",
    "- `path_to_mallet`\n",
    "- `path_to_formatted_training_data`\n",
    "- `path_to_model`\n",
    "- `path_to_topic_keys`\n",
    "- `path_to_topic_distributions`\n",
    "- `num_topics`\n",
    "\n",
    "So we have to set a few things up first."
   ]
  },
  {
   "cell_type": "markdown",
   "metadata": {},
   "source": [
    "## Set Number of Topics"
   ]
  },
  {
   "cell_type": "markdown",
   "metadata": {},
   "source": [
    "We need to make a variable `num_topics` and assign it the number of topics we want returned."
   ]
  },
  {
   "cell_type": "code",
   "execution_count": 387,
   "metadata": {},
   "outputs": [],
   "source": [
    "num_topics = 15"
   ]
  },
  {
   "cell_type": "markdown",
   "metadata": {},
   "source": [
    "## Set Training Data"
   ]
  },
  {
   "cell_type": "markdown",
   "metadata": {},
   "source": [
    "We already made a variable called `training_data`, which includes all of our processed obituary texts, so we can just set it equal to itself."
   ]
  },
  {
   "cell_type": "code",
   "execution_count": 388,
   "metadata": {},
   "outputs": [],
   "source": [
    "training_data = training_data"
   ]
  },
  {
   "cell_type": "markdown",
   "metadata": {},
   "source": [
    "## Set Other MALLET File Paths"
   ]
  },
  {
   "cell_type": "markdown",
   "metadata": {},
   "source": [
    "To set up the rest of the necessary file paths, all we need to do is change the location of the `output_directory_path` in the cell below. This file path is where all of your MALLET topic modeling results are going to be dumped. The other necessary variables below `output_directory_path` will be automatically created inside this directory, so you don't need to change anything else.\n",
    "\n",
    "Below I'm outputting everything into my current directory inside another directory called \"topic-model-output\" and a subdirectory specific to the NYT obituaries called \"NYT-Obits.\""
   ]
  },
  {
   "cell_type": "code",
   "execution_count": 389,
   "metadata": {},
   "outputs": [],
   "source": [
    "#Change to your desired output directory\n",
    "output_directory_path = '/topic-model-output/NYT-Obits'\n",
    "\n",
    "#No need to change anything below here\n",
    "Path(f\"{output_directory_path}\").mkdir(parents=True, exist_ok=True)\n",
    "\n",
    "path_to_training_data           = f\"{output_directory_path}/training.txt\"\n",
    "path_to_formatted_training_data = f\"{output_directory_path}/mallet.training\"\n",
    "path_to_model                   = f\"{output_directory_path}/mallet.model.{str(num_topics)}\"\n",
    "path_to_topic_keys              = f\"{output_directory_path}/mallet.topic_keys.{str(num_topics)}\"\n",
    "path_to_topic_distributions     = f\"{output_directory_path}/mallet.topic_distributions.{str(num_topics)}\""
   ]
  },
  {
   "cell_type": "markdown",
   "metadata": {},
   "source": [
    "## Import Data"
   ]
  },
  {
   "cell_type": "markdown",
   "metadata": {},
   "source": [
    "Now we import our training data with `little_mallet_wrapper.import_data()`."
   ]
  },
  {
   "cell_type": "code",
   "execution_count": 562,
   "metadata": {},
   "outputs": [
    {
     "name": "stdout",
     "output_type": "stream",
     "text": [
      "Importing data...\n",
      "Complete\n"
     ]
    }
   ],
   "source": [
    "little_mallet_wrapper.import_data(path_to_mallet,\n",
    "                path_to_training_data,\n",
    "                path_to_formatted_training_data,\n",
    "                training_data)"
   ]
  },
  {
   "cell_type": "markdown",
   "metadata": {},
   "source": [
    "## Train Topic Model"
   ]
  },
  {
   "cell_type": "markdown",
   "metadata": {},
   "source": [
    "And, finally, we train our topic model with `little_mallet_wrapper.train_topic_model()`. The topic model should take about 45 seconds to 1 minute to fully train and complete. If you want, you can look at your Terminal or PowerShell while it's running and see what the model looks like as it trains."
   ]
  },
  {
   "cell_type": "code",
   "execution_count": 391,
   "metadata": {},
   "outputs": [
    {
     "name": "stdout",
     "output_type": "stream",
     "text": [
      "Training topic model...\n",
      "Complete\n"
     ]
    }
   ],
   "source": [
    "little_mallet_wrapper.train_topic_model(path_to_mallet,\n",
    "                      path_to_formatted_training_data,\n",
    "                      path_to_model,\n",
    "                      path_to_topic_keys,\n",
    "                      path_to_topic_distributions,\n",
    "                      num_topics)"
   ]
  },
  {
   "cell_type": "markdown",
   "metadata": {},
   "source": [
    "When the topic model finishes, it will output your results to your `output_directory_path`, as below."
   ]
  },
  {
   "cell_type": "markdown",
   "metadata": {},
   "source": [
    "<img src=\"../images/mallet-topic-keys.png\" width=100%>"
   ]
  },
  {
   "cell_type": "markdown",
   "metadata": {},
   "source": [
    "# Display Topics and Top Words"
   ]
  },
  {
   "cell_type": "markdown",
   "metadata": {},
   "source": [
    "To examine the 15 topics that the topic model extracted from the *NYT* obituaries, run the cell below. This code uses the `little_mallet_wrapper.load_topic_keys()` function to read and process the MALLET topic model output from your computer, specifically the file \"mallet.topic_keys.15\".\n",
    "\n",
    ">*Take a minute to read through every topic. Reflect on what each topic seems to capture as well as how well you think the topics capture the broad themes of the entire collection. Note any oddities, outliers, or inconsistencies.*"
   ]
  },
  {
   "cell_type": "code",
   "execution_count": 557,
   "metadata": {},
   "outputs": [
    {
     "name": "stdout",
     "output_type": "stream",
     "text": [
      "✨Topic 0✨\n",
      "\n",
      "['miss', 'film', 'theater', 'movie', 'broadway', 'films', 'stage', 'hollywood', 'movies', 'actor', 'made', 'television', 'director', 'new', 'show', 'role', 'won', 'actress', 'first', 'york']\n",
      "\n",
      "✨Topic 1✨\n",
      "\n",
      "['first', 'baseball', 'louis', 'game', 'year', 'team', 'won', 'years', 'ruth', 'luce', 'home', 'three', 'tennis', 'league', 'later', 'football', 'champion', 'record', 'black', 'world']\n",
      "\n",
      "✨Topic 2✨\n",
      "\n",
      "['times', 'years', 'york', 'business', 'company', 'new', 'mrs', 'paper', 'news', 'newspaper', 'ford', 'home', 'oil', 'american', 'national', 'ochs', 'day', 'father', 'first', 'later']\n",
      "\n",
      "✨Topic 3✨\n",
      "\n",
      "['said', 'one', 'years', 'man', 'also', 'never', 'could', 'many', 'like', 'even', 'called', 'life', 'people', 'would', 'well', 'wrote', 'way', 'another', 'took', 'old']\n",
      "\n",
      "✨Topic 4✨\n",
      "\n",
      "['king', 'years', 'london', 'queen', 'england', 'prince', 'lord', 'one', 'sir', 'english', 'death', 'died', 'great', 'victoria', 'british', 'duke', 'royal', 'emperor', 'father', 'made']\n",
      "\n",
      "✨Topic 5✨\n",
      "\n",
      "['soviet', 'hitler', 'german', 'germany', 'stalin', 'union', 'khrushchev', 'moscow', 'world', 'war', 'nazi', 'party', 'brezhnev', 'berlin', 'russia', 'space', 'states', 'oppenheimer', 'flight', 'poland']\n",
      "\n",
      "✨Topic 6✨\n",
      "\n",
      "['time', 'new', 'first', 'made', 'one', 'world', 'year', 'would', 'two', 'became', 'great', 'long', 'went', 'last', 'public', 'many', 'came', 'war', 'began', 'work']\n",
      "\n",
      "✨Topic 7✨\n",
      "\n",
      "['president', 'roosevelt', 'state', 'court', 'house', 'states', 'justice', 'law', 'republican', 'black', 'political', 'party', 'united', 'election', 'senator', 'rights', 'governor', 'later', 'washington', 'democratic']\n",
      "\n",
      "✨Topic 8✨\n",
      "\n",
      "['miss', 'book', 'new', 'wrote', 'published', 'mrs', 'writing', 'life', 'writer', 'years', 'books', 'said', 'author', 'york', 'story', 'novel', 'women', 'magazine', 'work', 'later']\n",
      "\n",
      "✨Topic 9✨\n",
      "\n",
      "['israel', 'peace', 'war', 'minister', 'united', 'nations', 'king', 'secretary', 'arab', 'states', 'churchill', 'british', 'jewish', 'israeli', 'prime', 'dulles', 'sadat', 'state', 'foreign', 'later']\n",
      "\n",
      "✨Topic 10✨\n",
      "\n",
      "['university', 'professor', 'research', 'science', 'also', 'institute', 'children', 'scientific', 'human', 'died', 'work', 'school', 'society', 'received', 'child', 'years', 'american', 'study', 'life', 'prize']\n",
      "\n",
      "✨Topic 11✨\n",
      "\n",
      "['general', 'grant', 'gen', 'army', 'war', 'men', 'president', 'states', 'upon', 'command', 'pershing', 'sent', 'took', 'military', 'troops', 'day', 'union', 'service', 'forces', 'colonel']\n",
      "\n",
      "✨Topic 12✨\n",
      "\n",
      "['art', 'paris', 'york', 'new', 'moses', 'work', 'picasso', 'artist', 'world', 'french', 'modern', 'lindbergh', 'years', 'century', 'american', 'franco', 'painting', 'museum', 'pictures', 'bell']\n",
      "\n",
      "✨Topic 13✨\n",
      "\n",
      "['party', 'war', 'mao', 'china', 'military', 'united', 'communist', 'government', 'political', 'french', 'american', 'france', 'economic', 'chinese', 'power', 'gandhi', 'deng', 'general', 'chiang', 'policy']\n",
      "\n",
      "✨Topic 14✨\n",
      "\n",
      "['music', 'band', 'jazz', 'years', 'piano', 'new', 'sinatra', 'musical', 'composer', 'first', 'goodman', 'played', 'orchestra', 'concert', 'stravinsky', 'playing', 'bernstein', 'armstrong', 'musicians', 'davis']\n",
      "\n"
     ]
    }
   ],
   "source": [
    "topics = little_mallet_wrapper.load_topic_keys(path_to_topic_keys)\n",
    "\n",
    "for topic_number, topic in enumerate(topics):\n",
    "    \n",
    "    print(f\"✨Topic {topic_number}✨\\n\\n{topic}\\n\")"
   ]
  },
  {
   "cell_type": "markdown",
   "metadata": {},
   "source": [
    "# Load Topic Distributions"
   ]
  },
  {
   "cell_type": "markdown",
   "metadata": {},
   "source": [
    "MALLET also calculates the likely mixture of these topics for every single obituary in the corpus. This mixture is really a probability distribution, that is, the probability that each topic exists in the document. We can use these probability distributions to examine which of the above topics are strongly associated with which specific obituaries.\n",
    "\n",
    "To get the topic distributions, we're going to use the `little_mallet_wrapper.load_topic_distributions()` function, which will read and process the MALLET topic model output, specifically the file \"mallet.topic_distributions.15\". "
   ]
  },
  {
   "cell_type": "code",
   "execution_count": 393,
   "metadata": {},
   "outputs": [],
   "source": [
    "topic_distributions = little_mallet_wrapper.load_topic_distributions(path_to_topic_distributions)"
   ]
  },
  {
   "cell_type": "markdown",
   "metadata": {},
   "source": [
    "If we look at the 32nd topic distribution in this list of `topic_distributions`, which corresponds to Marilyn Monroe's obituary, we will see a list of 15 probabilities. This  list corresponds to the likelihood that each of the 15 topics exists in Marilyn Monroe's obituary."
   ]
  },
  {
   "cell_type": "code",
   "execution_count": 559,
   "metadata": {
    "scrolled": true
   },
   "outputs": [
    {
     "data": {
      "text/plain": [
       "[0.2020671834625323,\n",
       " 0.0578811369509044,\n",
       " 0.009819121447028423,\n",
       " 0.43772609819121444,\n",
       " 0.0067183462532299735,\n",
       " 0.0020671834625322996,\n",
       " 0.17416020671834626,\n",
       " 0.008268733850129198,\n",
       " 0.04237726098191214,\n",
       " 0.008268733850129198,\n",
       " 0.008268733850129198,\n",
       " 0.02532299741602067,\n",
       " 0.012919896640826874,\n",
       " 0.003617571059431525,\n",
       " 0.0005167958656330749]"
      ]
     },
     "execution_count": 559,
     "metadata": {},
     "output_type": "execute_result"
    }
   ],
   "source": [
    "topic_distributions[32]"
   ]
  },
  {
   "cell_type": "markdown",
   "metadata": {},
   "source": [
    "It's a bit easier to understand if we pair these probabilities with the topics themselves. As you can see below, Topic 0 \"miss film theater movie broadway films\" has a relatively high probability of existing in Marilyn Monroe's obituary `.202` while Topic 5 \"soviet hitler german germany stalin union\" has a relatively low probability `.002`. This seems to comport with what we know about Marilyn Monroe."
   ]
  },
  {
   "cell_type": "code",
   "execution_count": 558,
   "metadata": {
    "scrolled": true
   },
   "outputs": [
    {
     "name": "stdout",
     "output_type": "stream",
     "text": [
      "32\n",
      "Topic Distributions for 1962-Marilyn-Monroe\n",
      "\n",
      "✨Topic 0 ['miss', 'film', 'theater', 'movie', 'broadway', 'films'] ✨\n",
      "Probability: 0.202\n",
      "\n",
      "✨Topic 1 ['first', 'baseball', 'louis', 'game', 'year', 'team'] ✨\n",
      "Probability: 0.058\n",
      "\n",
      "✨Topic 2 ['times', 'years', 'york', 'business', 'company', 'new'] ✨\n",
      "Probability: 0.01\n",
      "\n",
      "✨Topic 3 ['said', 'one', 'years', 'man', 'also', 'never'] ✨\n",
      "Probability: 0.438\n",
      "\n",
      "✨Topic 4 ['king', 'years', 'london', 'queen', 'england', 'prince'] ✨\n",
      "Probability: 0.007\n",
      "\n",
      "✨Topic 5 ['soviet', 'hitler', 'german', 'germany', 'stalin', 'union'] ✨\n",
      "Probability: 0.002\n",
      "\n",
      "✨Topic 6 ['time', 'new', 'first', 'made', 'one', 'world'] ✨\n",
      "Probability: 0.174\n",
      "\n",
      "✨Topic 7 ['president', 'roosevelt', 'state', 'court', 'house', 'states'] ✨\n",
      "Probability: 0.008\n",
      "\n",
      "✨Topic 8 ['miss', 'book', 'new', 'wrote', 'published', 'mrs'] ✨\n",
      "Probability: 0.042\n",
      "\n",
      "✨Topic 9 ['israel', 'peace', 'war', 'minister', 'united', 'nations'] ✨\n",
      "Probability: 0.008\n",
      "\n",
      "✨Topic 10 ['university', 'professor', 'research', 'science', 'also', 'institute'] ✨\n",
      "Probability: 0.008\n",
      "\n",
      "✨Topic 11 ['general', 'grant', 'gen', 'army', 'war', 'men'] ✨\n",
      "Probability: 0.025\n",
      "\n",
      "✨Topic 12 ['art', 'paris', 'york', 'new', 'moses', 'work'] ✨\n",
      "Probability: 0.013\n",
      "\n",
      "✨Topic 13 ['party', 'war', 'mao', 'china', 'military', 'united'] ✨\n",
      "Probability: 0.004\n",
      "\n",
      "✨Topic 14 ['music', 'band', 'jazz', 'years', 'piano', 'new'] ✨\n",
      "Probability: 0.001\n",
      "\n"
     ]
    }
   ],
   "source": [
    "obituary_to_check = \"1962-Marilyn-Monroe\"\n",
    "\n",
    "obit_number = obit_titles.index(obituary_to_check)\n",
    "\n",
    "print(f\"Topic Distributions for {obit_titles[obit_number]}\\n\")\n",
    "for topic_number, (topic, topic_distribution) in enumerate(zip(topics, topic_distributions[obit_number])):\n",
    "    print(f\"✨Topic {topic_number} {topic[:6]} ✨\\nProbability: {round(topic_distribution, 3)}\\n\")"
   ]
  },
  {
   "cell_type": "markdown",
   "metadata": {},
   "source": [
    "# Explore Heatmap of Topics and Texts"
   ]
  },
  {
   "cell_type": "markdown",
   "metadata": {},
   "source": [
    "`little_mallet_wrapper.plot_categories_by_topics_heatmap(all_labels,\n",
    "                                      topic_distributions,\n",
    "                                      topics, \n",
    "                                      output_directory_path + '/categories_by_topics.pdf',\n",
    "                                      target_labels=target_labels,\n",
    "                                      dim= (10, 9)\n",
    "                                     )`"
   ]
  },
  {
   "cell_type": "markdown",
   "metadata": {},
   "source": [
    "We can visualize and compare these topic probability distributions with a heatmap by using the `little_mallet_wrapper.plot_categories_by_topics_heatmap()` function. This function requires six arguments and file paths:\n",
    "\n",
    "* `all_labels` all the labels for the texts in your collection \n",
    "* `topic_distributions` your list of topic distributions\n",
    "* `topics` your list of topics \n",
    "* `output_directory_path + '/categories_by_topics.pdf'` the file path where you want to save a PDF of the heatmap\n",
    "* `target_labels=target_labels` the sample of texts that you want to visualize \n",
    "* `dim= (10, 9)` the size or dimensions of the heatmap\n",
    "\n",
    "We have everything we need for the heatmap except for our list of `target_labels`, the sample of texts that we'd like to visualize and compare with the heatmap. Below we make our list of desired target labels."
   ]
  },
  {
   "cell_type": "code",
   "execution_count": 396,
   "metadata": {},
   "outputs": [],
   "source": [
    "target_labels = ['1852-Ada-Lovelace', '1885-Ulysses-Grant',\n",
    "                 '1900-Nietzsche', '1931-Ida-B-Wells', '1940-Marcus-Garvey',\n",
    "                 '1941-Virginia-Woolf', '1954-Frida-Kahlo', '1962-Marilyn-Monroe',\n",
    "                 '1963-John-F-Kennedy', '1964-Nella-Larsen', '1972-Jackie-Robinson',\n",
    "                 '1973-Pablo-Picasso', '1984-Ray-A-Kroc','1986-Jorge-Luis-Borges', '1991-Miles-Davis',\n",
    "                 '1992-Marsha-P-Johnson', '1993-Cesar-Chavez']"
   ]
  },
  {
   "cell_type": "markdown",
   "metadata": {},
   "source": [
    "If you'd like to make a random list of target labels, you can uncomment and run the cell below."
   ]
  },
  {
   "cell_type": "code",
   "execution_count": 161,
   "metadata": {},
   "outputs": [],
   "source": [
    "#import random\n",
    "#target_labels = random.sample(obit_titles, 10)"
   ]
  },
  {
   "cell_type": "code",
   "execution_count": 564,
   "metadata": {},
   "outputs": [
    {
     "data": {
      "image/png": "[encoded data removed]",
      "text/plain": [
       "<Figure size 720x648 with 2 Axes>"
      ]
     },
     "metadata": {},
     "output_type": "display_data"
    }
   ],
   "source": [
    "little_mallet_wrapper.plot_categories_by_topics_heatmap(obit_titles,\n",
    "                                      topic_distributions,\n",
    "                                      topics, \n",
    "                                      output_directory_path + '/categories_by_topics.pdf',\n",
    "                                      target_labels=target_labels,\n",
    "                                      dim= (10, 9)\n",
    "                                     )"
   ]
  },
  {
   "cell_type": "markdown",
   "metadata": {},
   "source": [
    "The darker squares in this heatmap represent a high probability for the corresponding topic (compared to everyone else in the heatmap) and the lighter squares in the heatmap represent a low probability for the corresponding topic. For example, if you scan across the row of Marilyn Monroe, you can see a dark square for the topic \"miss film theater movie theater broadway\". If you scan across the row of Ada Lovelace, an English mathematician who is now recognized as the first computer programmer, according to her [NYT obituary](https://www.nytimes.com/interactive/2018/obituaries/overlooked-ada-lovelace.html), you can see a dark square for \"university professor research science also\"."
   ]
  },
  {
   "cell_type": "markdown",
   "metadata": {},
   "source": [
    "# Display Top Titles Per Topic"
   ]
  },
  {
   "cell_type": "markdown",
   "metadata": {},
   "source": [
    "`little_mallet_wrapper.get_top_docs(training_data,\n",
    "                                    topic_distributions,\n",
    "                                    topic=topic_number,\n",
    "                                    n=number_of_documents)`"
   ]
  },
  {
   "cell_type": "markdown",
   "metadata": {},
   "source": [
    "We can also display the obituaries that have the highest probability for every topic with the `little_mallet_wrapper.get_top_docs()` function.\n",
    "\n",
    "Because most of the obituaries in our corpus are pretty long, however, it will be more useful for us to simply display the title of each obituary, rather than the entire document—at least as a first step. To do so, we'll first need to make two dictionaries, which will allow us to find the corresponding obituary title and the original text from a given training document."
   ]
  },
  {
   "cell_type": "code",
   "execution_count": 399,
   "metadata": {},
   "outputs": [],
   "source": [
    "training_data_obit_titles = dict(zip(training_data, obit_titles))\n",
    "training_data_original_text = dict(zip(training_data, original_texts))"
   ]
  },
  {
   "cell_type": "markdown",
   "metadata": {},
   "source": [
    "Then we'll make our own function `display_top_titles_per_topic()` that will display the top text titles for every topic. This function accepts a given `topic_number` as well as a desired `number_of_documents` to display."
   ]
  },
  {
   "cell_type": "code",
   "execution_count": 567,
   "metadata": {},
   "outputs": [],
   "source": [
    "def display_top_titles_per_topic(topic_number=0, number_of_documents=5):\n",
    "    \n",
    "    print(f\"✨Topic {topic_number}✨\\n\\n{topics[topic_number]}\\n\")\n",
    "\n",
    "    for probability, document in little_mallet_wrapper.get_top_docs(training_data, topic_distributions, topic_number, n=number_of_documents):\n",
    "        print(round(probability, 4), training_data_obit_titles[document] + \"\\n\")\n",
    "    return"
   ]
  },
  {
   "cell_type": "markdown",
   "metadata": {},
   "source": [
    "### Topic 0"
   ]
  },
  {
   "cell_type": "markdown",
   "metadata": {},
   "source": [
    "To display the top 5 obituary titles with the highest probability of containing Topic 0, we will run:"
   ]
  },
  {
   "cell_type": "code",
   "execution_count": 568,
   "metadata": {},
   "outputs": [
    {
     "name": "stdout",
     "output_type": "stream",
     "text": [
      "✨Topic 0✨\n",
      "\n",
      "['miss', 'film', 'theater', 'movie', 'broadway', 'films', 'stage', 'hollywood', 'movies', 'actor', 'made', 'television', 'director', 'new', 'show', 'role', 'won', 'actress', 'first', 'york']\n",
      "\n",
      "0.5313 1996-Gene-Kelly\n",
      "\n",
      "0.5093 1992-Shirley-Booth\n",
      "\n",
      "0.4752 1995-Ginger-Rogers\n",
      "\n",
      "0.4707 1990-Rex-Harrison\n",
      "\n",
      "0.457 1987-Rita-Hayworth\n",
      "\n"
     ]
    }
   ],
   "source": [
    "display_top_titles_per_topic(topic_number=0, number_of_documents=5)"
   ]
  },
  {
   "cell_type": "markdown",
   "metadata": {},
   "source": [
    "### Topic 0 Label: Hollywood"
   ]
  },
  {
   "cell_type": "markdown",
   "metadata": {},
   "source": [
    "Based on the words in this topic and these top obituary texts, I'm going to label this topic \"Hollywood.\""
   ]
  },
  {
   "cell_type": "markdown",
   "metadata": {},
   "source": [
    "### Topic 9"
   ]
  },
  {
   "cell_type": "markdown",
   "metadata": {},
   "source": [
    "To display the top 5 obituary titles with the highest probability of containing Topic 9, we will run:"
   ]
  },
  {
   "cell_type": "code",
   "execution_count": 582,
   "metadata": {},
   "outputs": [
    {
     "name": "stdout",
     "output_type": "stream",
     "text": [
      "✨Topic 9✨\n",
      "\n",
      "['israel', 'peace', 'war', 'minister', 'united', 'nations', 'king', 'secretary', 'arab', 'states', 'churchill', 'british', 'jewish', 'israeli', 'prime', 'dulles', 'sadat', 'state', 'foreign', 'later']\n",
      "\n",
      "0.4148 1992-Menachem-Begin\n",
      "\n",
      "0.4099 1999-King-Hussein\n",
      "\n",
      "0.3448 1995-Yitzhak-Rabin\n",
      "\n",
      "0.3295 1981-Anwar-el-Sadat\n",
      "\n",
      "0.3288 1952-Chaim-Weizmann\n",
      "\n"
     ]
    }
   ],
   "source": [
    "display_top_titles_per_topic(topic_number=9, number_of_documents=5)"
   ]
  },
  {
   "cell_type": "markdown",
   "metadata": {},
   "source": [
    "### Topic 9 Label: Global Affairs"
   ]
  },
  {
   "cell_type": "markdown",
   "metadata": {},
   "source": [
    "Based on the words in this topic and these top obituary texts, I'm going to label this topic \"Global Affairs.\""
   ]
  },
  {
   "cell_type": "markdown",
   "metadata": {},
   "source": [
    "### Topic 8"
   ]
  },
  {
   "cell_type": "markdown",
   "metadata": {},
   "source": [
    "To display the top 7 obituaries with the highest probability of containing Topic 8, we will run:"
   ]
  },
  {
   "cell_type": "code",
   "execution_count": 565,
   "metadata": {},
   "outputs": [
    {
     "name": "stdout",
     "output_type": "stream",
     "text": [
      "✨Topic 8✨\n",
      "\n",
      "['miss', 'book', 'new', 'wrote', 'published', 'mrs', 'writing', 'life', 'writer', 'years', 'books', 'said', 'author', 'york', 'story', 'novel', 'women', 'magazine', 'work', 'later']\n",
      "\n",
      "0.429 1941-James-Joyce\n",
      "\n",
      "0.4267 1936-Anne-Macy\n",
      "\n",
      "0.4151 1967-Langston-Hughes\n",
      "\n",
      "0.413 1978-Bruce-Catton\n",
      "\n",
      "0.403 1964-Nella-Larsen\n",
      "\n",
      "0.3998 1909-Sarah-Orne-Jewett\n",
      "\n",
      "0.398 1992-Alex-Haley\n",
      "\n"
     ]
    }
   ],
   "source": [
    "display_top_titles_per_topic(topic_number=8, number_of_documents=7)"
   ]
  },
  {
   "cell_type": "markdown",
   "metadata": {},
   "source": [
    "### Topic 8 Label: Authors"
   ]
  },
  {
   "cell_type": "markdown",
   "metadata": {},
   "source": [
    "Based on the words in this topic and these top obituary texts, I'm going to label this topic \"Authors.\""
   ]
  },
  {
   "cell_type": "markdown",
   "metadata": {},
   "source": [
    "# Display Topic Words in Context of Original Text"
   ]
  },
  {
   "cell_type": "markdown",
   "metadata": {},
   "source": [
    "Often it's useful to actually look at the document that has ranked highly for a given topic and puzzle out why it ranks so highly."
   ]
  },
  {
   "cell_type": "markdown",
   "metadata": {},
   "source": [
    "To display the original obituary texts that rank highly for a given topic, with the relevant topic words **bolded** for emphasis, we are going to make the function `display_bolded_topic_words_in_context()`.\n",
    "\n",
    "In the cell below, we're importing two special Jupyter notebook display modules, which will allow us to make the relevant topic words **bolded**, as well as the regular expressions library `re`, which will allow us to find and replace the correct words."
   ]
  },
  {
   "cell_type": "code",
   "execution_count": 584,
   "metadata": {
    "scrolled": true
   },
   "outputs": [],
   "source": [
    "from IPython.display import Markdown, display\n",
    "import re\n",
    "\n",
    "def display_bolded_topic_words_in_context(topic_number=3, number_of_documents=3, custom_words=None):\n",
    "\n",
    "    for probability, document in little_mallet_wrapper.get_top_docs(training_data, topic_distributions, topic_number, n=number_of_documents):\n",
    "        \n",
    "        print(f\"✨Topic {topic_number}✨\\n\\n{topics[topic_number]}\\n\")\n",
    "        \n",
    "        probability = f\"✨✨✨\\n\\n**{probability}**\"\n",
    "        obit_title = f\"**{training_data_obit_titles[document]}**\"\n",
    "        original_text = training_data_original_text[document]\n",
    "        topic_words = topics[topic_number]\n",
    "        topic_words = custom_words if custom_words != None else topic_words\n",
    "\n",
    "        for word in topic_words:\n",
    "            if word in original_text:\n",
    "                original_text = re.sub(f\"\\\\b{word}\\\\b\", f\"**{word}**\", original_text)\n",
    "\n",
    "        display(Markdown(probability)), display(Markdown(obit_title)), display(Markdown(original_text))\n",
    "    return"
   ]
  },
  {
   "cell_type": "markdown",
   "metadata": {},
   "source": [
    "### Topic 3"
   ]
  },
  {
   "cell_type": "markdown",
   "metadata": {},
   "source": [
    "To display the top 3 original obituaries with the highest probability of containing Topic 0 and with relevant topic words bolded, we will run:"
   ]
  },
  {
   "cell_type": "code",
   "execution_count": 587,
   "metadata": {
    "scrolled": true
   },
   "outputs": [
    {
     "name": "stdout",
     "output_type": "stream",
     "text": [
      "✨Topic 3✨\n",
      "\n",
      "['said', 'one', 'years', 'man', 'also', 'never', 'could', 'many', 'like', 'even', 'called', 'life', 'people', 'would', 'well', 'wrote', 'way', 'another', 'took', 'old']\n",
      "\n"
     ]
    },
    {
     "data": {
      "text/markdown": [
       "✨✨✨\n",
       "\n",
       "**0.43772609819121444**"
      ],
      "text/plain": [
       "<IPython.core.display.Markdown object>"
      ]
     },
     "metadata": {},
     "output_type": "display_data"
    },
    {
     "data": {
      "text/markdown": [
       "**1962-Marilyn-Monroe**"
      ],
      "text/plain": [
       "<IPython.core.display.Markdown object>"
      ]
     },
     "metadata": {},
     "output_type": "display_data"
    },
    {
     "data": {
      "text/markdown": [
       "August 6, 1962\n",
       "\n",
       "OBITUARY\n",
       "\n",
       "Brilliant Stardom and Personal Tragedy Punctuated the Life of Marilyn Monroe\n",
       "\n",
       "By THE NEW YORK TIMES\n",
       "\n",
       "The **life** of Marilyn Monroe, the golden girl of the movies, ended as it began, in misery and tragedy.\n",
       "\n",
       "Her death at the age of 36 closed an incredibly glamorous career and capped a series of somber events that began with her birth as an unwanted, illegitimate baby and went on and on, illuminated during\n",
       "\n",
       "the last dozen **years** by the lightning of fame.\n",
       "\n",
       "Her public **life** was in dazzling contrast to her private **life**.\n",
       "\n",
       "The first **man** to see her on the screen, the **man** who made her screen test, felt the almost universal reaction as he ran the wordless scene. In it, she walked, sat down and lit a cigarette.\n",
       "\n",
       "Recalled 'Lush Stars'\n",
       "\n",
       "\"I got a cold chill,\" he **said**. \"This girl had something I hadn't seen since silent pictures. This is the first girl who looked **like** **one** of those lush stars of the silent era. Every\n",
       "\n",
       "frame of the test radiated sex.\"\n",
       "\n",
       "Billy Wilder, the director, **called** it \"flesh impact.\"\n",
       "\n",
       "\"Flesh impact is rare,\" he **said**. \"Three I remember who had it were Clara Bow, Jean Harlow and Rita Hayworth. Such girls have flesh which photographs **like** flesh. You feel you can reach\n",
       "\n",
       "out and touch it.\"\n",
       "\n",
       "Fans paid $200,000,000 to see her project this quality. No sex symbol of the era other than Brigitte Bardot **could** match her popularity. Toward the end, she **also** convinced critics and the public that\n",
       "\n",
       "she **could** act.\n",
       "\n",
       "During the **years** of her greatest success, she saw two of her marriages end in divorce. She suffered at least two miscarriages and was **never** able to have a child. Her emotional insecurity deepened; her\n",
       "\n",
       "**many** illnesses came upon her more frequently.\n",
       "\n",
       "Dismissed From Picture\n",
       "\n",
       "In 1961, she was twice admitted to hospitals in New York for psychiatric observation and rest. She was dismissed in June by Twentieth Century-Fox after being absent all but five days during seven weeks\n",
       "\n",
       "of shooting \"Something's Got to Give.\"\n",
       "\n",
       "\"It's something that Marilyn no longer can control,\" **one** of her studio chiefs confided. \"Sure she's sick. She believes she's sick. She may **even** have a fever, but it's\n",
       "\n",
       "a sickness of the mind. Only a psychiatrist can help her now.\"\n",
       "\n",
       "In her last interview, published in the Aug. 3 issue of Life magazine, she told Richard Meryman, an associate editor:\n",
       "\n",
       "\"I was **never** used to being happy, so that wasn't something I ever **took** for granted.\"\n",
       "\n",
       "Considering her background, this was a statement of exquisite restraint.\n",
       "\n",
       "She was born in Los Angeles on June 1, 1926. The name on the birth record is Norma Jean Mortenson, the surname of the **man** who fathered her, then abandoned her mother. She later **took** her mother's last name, Baker.\n",
       "\n",
       "Family Tragedies\n",
       "\n",
       "Both her maternal grandparents and her mother were committed to mental institutions. Her uncle killed himself. Her father died in a motorcycle accident three **years** after her birth.\n",
       "\n",
       "Her childhood has been described as \"Oliver Twist in girl's clothing.\"\n",
       "\n",
       "During her mother's stays in asylums, she was farmed out to twelve sets of foster parents. Two families were religious fanatics; **one** gave her empty whisky bottles to play with instead of dolls.\n",
       "\n",
       "At **another** stage, she lived in a drought area with a family of seven. She spent two **years** in a Los Angeles orphanage, wearing a uniform she detested.\n",
       "\n",
       "By the time she was 9 **years** **old**, Norma Jean had begun to stammer--an affliction rare among females.\n",
       "\n",
       "Her dream since childhood had been to be a movie star, and she succeeded beyond her wildest imaginings. The conviction of her mother's best friend was borne out; she had told the little girl, day\n",
       "\n",
       "after day:\n",
       "\n",
       "\"Don't worry. You're going to be a beautiful girl when you get big. You're going to be a movie star. Oh, I feel it in my bones.\"\n",
       "\n",
       "Nunnally Johnson, the producer and writer, understood that Miss Monroe was something special. Marilyn, he **said**, was \"a phenomenon of nature, **like** Niagara Falls and the Grand Canyon.\n",
       "\n",
       "\"You can't talk to it. It can't talk to you. All you can do is stand back and be awed by it,\" he **said**.\n",
       "\n",
       "This figure in the minds of millions was difficult to analyze statistically. Her dimensions--37-23- 37--were voluptuous but not extraordinary. She stood 5 feet 5 1/2 inches tall. She had soft blonde\n",
       "\n",
       "hair, wide, dreamy, gray-blue eyes. She spoke in a high baby voice that was little more than a breathless whisper.\n",
       "\n",
       "Heavy Fan Mail\n",
       "\n",
       "Fans **wrote** her 5,000 letters a week, at least a dozen of them proposing marriage. The Communists denounced her as a capitalist trick to make the American **people** forget how miserable they were. In Turkey\n",
       "\n",
       "a young **man** **took** leave of his senses while watching \"How to Marry a Millionaire\" and slashed his wrists.\n",
       "\n",
       "There were other symbols of success. She married two American male idols--**one** an athlete, **one** an intellectual.\n",
       "\n",
       "Her second husband was Joe DiMaggio, the baseball player. Her third and last was the Pulitzer- Prize winning playwright, Arthur Miller.\n",
       "\n",
       "She was 16 when she married for the first time. The bridegroom was James Dougherty, 21, an aircraft worker.\n",
       "\n",
       "Mr. Dougherty **said** after their divorce four **years** later, in 1946, that she had been a \"wonderful\" housekeeper.\n",
       "\n",
       "Her two successive divorces came in 1954, when she split with Mr. DiMaggio after only nine months, and in 1960, after a four-year marriage to Mr. Miller.\n",
       "\n",
       "She became famous with her first featured role of any prominence in \"The Asphalt Jungle,\" issued in 1950.\n",
       "\n",
       "Her appearance was brief but unforgettable. From the instant she moved onto the screen with that extraordinary walk of hers, **people** asked themselves: \"Who's that blonde?\"\n",
       "\n",
       "In 1952 it was revealed that Miss Monroe had been the subject of a widely distributed nude calendar photograph shot while she was a notably unsuccessful starlet.\n",
       "\n",
       "Revealed Her Wit\n",
       "\n",
       "It created a scandal, but it was her reaction to the scandal that was remembered. She told interviewers that she was not ashamed and had needed the money to pay her rent.\n",
       "\n",
       "She **also** revealed her sense of humor. When asked by a woman journalist, \"You mean you didn't have anything on?\" she replied breathlessly:\n",
       "\n",
       "\"Oh yes, I had the radio on.\"\n",
       "\n",
       "One of her most exasperating quirks was her tardiness. She was, during the **years** of her fame, anywhere from **one** to twenty-four hours late for appointments. Until lately, she managed to get away with\n",
       "\n",
       "it.\n",
       "\n",
       "Her dilatory nature and sicknesses added nearly $1,000,000 to the budget of \"Let's Make Love.\" The late Jerry Wald, head of her studio, simply commented:\n",
       "\n",
       "\"True, she's not punctual. She can't help it, but I'm not sad about it,\" he **said**, \"I can get a dozen beautiful blondes who will show up promptly in make-up at 4 A.M. each\n",
       "\n",
       "morning, but they are not Marilyn Monroe.\"\n",
       "\n",
       "The tardiness, the lack of responsibility and the fears began to show more and more through the glamorous patina as Miss Monroe's career waxed.\n",
       "\n",
       "Speaking of her career and her fame in the Life interview, she **said**, wistfully:\n",
       "\n",
       "\"It might be kind of a relief to be finished. It's sort of **like** I don't know what kind of a yard dash you're running, but then you're at the finish line and you sort of sigh--you've\n",
       "\n",
       "made it! But you **never** have--you have to start all over again.\"\n",
       "\n"
      ],
      "text/plain": [
       "<IPython.core.display.Markdown object>"
      ]
     },
     "metadata": {},
     "output_type": "display_data"
    }
   ],
   "source": [
    "display_bolded_topic_words_in_context(topic_number=3, number_of_documents=3)"
   ]
  },
  {
   "cell_type": "markdown",
   "metadata": {},
   "source": [
    "### Topic 8"
   ]
  },
  {
   "cell_type": "markdown",
   "metadata": {},
   "source": [
    "To display the top 3 original obituaries with the highest probability of containing Topic 8 and with relevant topic words bolded, we will run:"
   ]
  },
  {
   "cell_type": "code",
   "execution_count": 586,
   "metadata": {
    "scrolled": true
   },
   "outputs": [
    {
     "name": "stdout",
     "output_type": "stream",
     "text": [
      "✨Topic 8✨\n",
      "\n",
      "['miss', 'book', 'new', 'wrote', 'published', 'mrs', 'writing', 'life', 'writer', 'years', 'books', 'said', 'author', 'york', 'story', 'novel', 'women', 'magazine', 'work', 'later']\n",
      "\n"
     ]
    },
    {
     "data": {
      "text/markdown": [
       "✨✨✨\n",
       "\n",
       "**0.42896497441951986**"
      ],
      "text/plain": [
       "<IPython.core.display.Markdown object>"
      ]
     },
     "metadata": {},
     "output_type": "display_data"
    },
    {
     "data": {
      "text/markdown": [
       "**1941-James-Joyce**"
      ],
      "text/plain": [
       "<IPython.core.display.Markdown object>"
      ]
     },
     "metadata": {},
     "output_type": "display_data"
    },
    {
     "data": {
      "text/markdown": [
       "January 13, 1941\n",
       "\n",
       "OBITUARY\n",
       "\n",
       "James Joyce Dies; Wrote 'Ulysses'\n",
       "\n",
       "By THE NEW YORK TIMES\n",
       "\n",
       "ZURICH, Switzerland, Monday, Jan 13- James Joyce, Irish **author** whose \"Ulysses\" was the center of one of the most bitter literary controversies of modern times, died in a hospital here early\n",
       "\n",
       "today despite the efforts of doctors to save him by blood transfusions. He would have been 59 **years** old Feb. 2.\n",
       "\n",
       "Joyce underwent an intestinal operation Saturday afternoon at the Schwesternhaus von Rotenkreuz Hospital. For a time he appeared to be recovering. Only yesterday his son reported him to have been cheerful and apparently out of danger.\n",
       "\n",
       "During the afternoon, however, the **writer** suffered a sudden relapse and sank rapidly. He died at 2:15 A.M. (8:15 P.M., Eastern standard time).\n",
       "\n",
       "His wife and son were at the hospital when he died.\n",
       "\n",
       "Hailed and Belittled by Critics\n",
       "\n",
       "The status of James Joyce as a **writer** never could be determined in his lifetime. In the opinion of some critics, notably Edmund Wilson, he deserved to rank with the great innovators of literature as one whose influence upon other writers of his time was\n",
       "\n",
       "incalculable. On the other hand, there were critics like Max Eastman who gave him a place with Gertrude Stein and T.S. Eliot among the \"Unintelligibles\" and there was Professor Irving Babbitt\n",
       "\n",
       "of Harvard who dismissed his most widely read **novel**, \"Ulysses,\" as one which only could have been written \"in an advanced stage of psychic disintegration.\"\n",
       "\n",
       "Originally **published** in 1922, \"Ulysses\" was not legally available in the United States until eleven **years** **later**, when United States Judge John Monro Woolsey handed down his famous decision to the effect that the **book** was not obscene. Hitherto\n",
       "\n",
       "the **book** had been smuggled in and sold at high prices by \"bookleggers\" and a violent critical battle had raged around it.\n",
       "\n",
       "Judge Woolsey's Decision\n",
       "\n",
       "\"'Ulysses' is not an easy **book** to read or understand,\" Judge Woolsey **wrote**. \"But there has been much written about it, and in order properly to approach the consideration of it it is advisable to read a number of other **books** which\n",
       "\n",
       "have now become its satellites. The study of \"Ulysses\" is therefore a heavy task.\n",
       "\n",
       "\"The reputation of 'Ulysses' in the literary world, however, warranted my taking such time as was necessary to enable me to satisfy myself as to the intent with which the **book** was written, for, of course, in any case where a **book** is claimed\n",
       "\n",
       "to be obscene it must first be determined whether the intent with which it was written was what is called, according to the usual phrase, pornographic, that is, written for the purpose of exploiting\n",
       "\n",
       "obscenity.\n",
       "\n",
       "\"If the conclusion is that the **book** is pornographic that is the end of the inquiry... But in 'Ulysses,\" in spite of its unusual frankness, I do not detect anywhere the leer of the sensualist. I hold, therefore, that it is not pornographic.\"\n",
       "\n",
       "On the passages dealing with sex, Judge Woolsey paused to remark that the reader must not forget that \"the characters are Celtic and the time is Spring.\" His decision was hailed as one of the most civilized ever propounded by an American judge.\n",
       "\n",
       "After he had admitted Ulysses to the country, there was a rush to but the almost immediately available authorized and uncensored edition **published** by Random House. Since then the **book**, unlike many\n",
       "\n",
       "another once banned by the censor and then forgotten, has been read widely; less for the passages once objected to than for the **book** as a whole.\n",
       "\n",
       "Although Joyce appeared in many of his writings, \"notably \"A Portrait of the Artist as a Young Man\" and \"Ulysses,\" as Stephen Dedalus, many details of his **life** are missing. The most comprehensive study is Herbert Gorman's\n",
       "\n",
       "biography **published** in 1940.\n",
       "\n",
       "Was Born in Dublin\n",
       "\n",
       "The **writer** was born Feb. 2, 1882, in Dublin, Ireland, the son of John Stanislaus Joyce (The Simon Dedalus of \"Ulysses\" whom Bloom hears singing in the Ormond bar) and Mary Murray Joyce. His father supposedly had one of the finest tenor voices\n",
       "\n",
       "in Ireland. James Joyce had an equally fine voice.\n",
       "\n",
       "The Joyce family was not prosperous and it was large. James stood out among his brothers and sisters and, at the age of 9, is supposed to have written an attack on Tim Healy, the anti-Parnellite, which was printed but of which no known copy exists. Since\n",
       "\n",
       "he was literary it was decided to give him an education and he was sent first to Clongowes Wood College, then to Belvedere College, also in Ireland, and **later** he received his Bachelor of Arts degree\n",
       "\n",
       "from the Royal University in Dublin.\n",
       "\n",
       "He was an amazing scholar, and an independent and solitary figure. When he was 17 he read Ibsen's plays and **wrote** an essay for the Fortnightly Review about the **author** of \"The Doll's House.\" Dissatisfied with the English translations,\n",
       "\n",
       "Joyce learned Norwegian when he was 19 **years** old so that he might read his literary god in the original. At the same time he was reading and studying Dante, all the Elizabethan poets, St. Thomas\n",
       "\n",
       "Aquinas and Aristotle.\n",
       "\n",
       "In those days, according to Padraic Colum, who knew him at the Royal University (**later** reorganized as the National University), Joyce was a tall, slender young man with \"a Dantesque face and steely blue eyes,\" who sauntered along the street\n",
       "\n",
       "in a peaked tennis cap, soiled tennis shoes, carrying an ashplant for a cane. Stephen Dedalus carries a similar cane in \"Ulysses\" and frequently talks with it! He loved to sing and recite\n",
       "\n",
       "poetry in his fine tenor voice, but he spoke harshly and used \"many of the unprintable words he got printed in 'Ulysses.'\"\n",
       "\n",
       "Conceit and arrogance were his characteristics. When he first met Yeats he remarked:\n",
       "\n",
       "\"We have met too late; you are too old to be influenced by me.\"\n",
       "\n",
       "AE (George Russell) recognized his \"keen and cold intelligence,\" but told the young man, \"I'm afraid you have not enough chaos in you to make a world.\"\n",
       "\n",
       "Joyce was in continuous rebellion against Ireland and its **life** and **said**: \"When the soul of a man is born in this country there are no nets flung at it to hold it back from flight.\"\n",
       "\n",
       "The words are Stephen Dedalus's in \"A Portrait of the Artist as a Young Man,\" but it was Joyce speaking, and, at the age of 20, he left Ireland for Paris where he intended, and for a time pretended, to study medicine.\n",
       "\n",
       "At this time he started the stories that were eventually **published** as \"Dubliners\" (this **book** was **later** publicly burned in a Dublin public square) and started his first **novel**. This, the \"Portrait of the Artist,\" was ten **years** in the\n",
       "\n",
       "**writing**. His first **published** **work**- except for the forgotten attack on Tim Healy- was \"Chamber Music,\" a collection of Elizabethan-like verse, which were printed in 1907.\n",
       "\n",
       "It was at this time that he met Nora Barnacle, \"a sleek blond beauty\" from Galway, the daughter of Thomas and Ann Healy Barnacle. They soon went to the continent to live (their marriage was not regularized until twenty-seven **years** **later**, when\n",
       "\n",
       "they visited a London registry office to legalize the status of their two children, George and Lucia). In Trieste, where they settled after some wandering, Joyce taught English at the Berlitz School\n",
       "\n",
       "and the Commercial Academy. He knew seventeen languages, ancient and modern, including Arabic, Sanskrit and Greek.\n",
       "\n",
       "\"Dubliners\" Issued in 1914\n",
       "\n",
       "In 1914 Dubliners was **published** in London. In the same year he also finished his **novel** \"Portrait of the Artist as a Young Man.\"\n",
       "\n",
       "When war was declared Joyce and his wife, who were British citizens, were in Austria. He was forced out of his job as a teacher, and the couple moved to Zurich.\n",
       "\n",
       "While living in Zurich Joyce began to suffer from severe ocular illness and eventually underwent at least ten operations on his eyes. For **years** he was almost totally blind and much of his **later** **writing** was done with red crayon on huge white sheets of\n",
       "\n",
       "paper.\n",
       "\n",
       "\"Ulysses\" was begun under this difficult situation. Much of it was **published** by Margaret Anderson in The Little Review, the **magazine** which Otto Kahn, New York banker, once subsidized for his Greenwich Village friends. Chapters appeared between\n",
       "\n",
       "March, 1918, and August, 1920, when the Society for the Suppression of Vice had The Review stopped by court order.\n",
       "\n",
       "After the war the Joyces returned to Trieste, where they lived with Stanislaus Joyce, the **author**'s brother. Then, in 1919, they went to Paris, where they made their home until the next war sent them again to Zurich to occupy the house they had known\n",
       "\n",
       "in 1914.\n",
       "\n",
       "In 1922 Joyce's greatest **book**, \"Ulysses,\" was **published** in Paris. Great Britain, Ireland and the United States banned the **book**.\n",
       "\n",
       "For many **years** after \"Ulysses\" was done Joyce worked on what he called \"Work in Progress.\" Much of it appeared in Transition, the **magazine** **published** in the Nineteen Twenties in Paris by Eugene Jolas. In May, 1939, it was **published**\n",
       "\n",
       "as \"Finnegan's Wake,\" a **book** \"distinguished\" by such \"words\" as Goragorridgeorballyedpuhkalsom, to name one of the simpler ones, and many puns. In it Mr. Joyce\n",
       "\n",
       "suggested the **book** was the **work** of \"a too pained whitelwit laden with the loot of learning.\"\n",
       "\n",
       "During all his **years** as a **writer** Joyce was carefully protected by his wife, who once **said** she cared for him despite \"his necessity to write those **books** no one can understand.\" His conversation was clear, never anything like his **writing**, and\n",
       "\n",
       "his wit as keen.\n",
       "\n",
       "Joyce's son, George Joyce, married the former Miss Helen Castor of Long Branch, N.J. They had one son, Stephen James Joyce. James Joyce and his wife made their home with his son for many **years** before the present war.\n",
       "\n"
      ],
      "text/plain": [
       "<IPython.core.display.Markdown object>"
      ]
     },
     "metadata": {},
     "output_type": "display_data"
    }
   ],
   "source": [
    "display_bolded_topic_words_in_context(topic_number=8, number_of_documents=3)"
   ]
  },
  {
   "cell_type": "markdown",
   "metadata": {},
   "source": [
    "# Your Turn!"
   ]
  },
  {
   "cell_type": "markdown",
   "metadata": {},
   "source": [
    "Pick a topic number. Display the top 6 obituary titles for that topic. Then display the top 6 original obituary texts for that topic with the relevant topic words bolded. Finally, come up with a label for the topic and explain why you chose the label you did."
   ]
  },
  {
   "cell_type": "markdown",
   "metadata": {},
   "source": [
    "### Topic: *Your Number Choice Here*"
   ]
  },
  {
   "cell_type": "markdown",
   "metadata": {},
   "source": [
    "**1.** Display the top 6 obituary titles for this topic"
   ]
  },
  {
   "cell_type": "code",
   "execution_count": 554,
   "metadata": {},
   "outputs": [],
   "source": [
    "#Your Code Here"
   ]
  },
  {
   "cell_type": "markdown",
   "metadata": {},
   "source": [
    "**2.** Display the topic words in the context of the original obituary for the 6 titles"
   ]
  },
  {
   "cell_type": "code",
   "execution_count": 554,
   "metadata": {},
   "outputs": [],
   "source": [
    "#Your Code Here"
   ]
  },
  {
   "cell_type": "markdown",
   "metadata": {},
   "source": [
    "**3.** Come up with a label for your topic:"
   ]
  },
  {
   "cell_type": "markdown",
   "metadata": {},
   "source": [
    "### Topic Label: *Your Label Here*"
   ]
  },
  {
   "cell_type": "markdown",
   "metadata": {},
   "source": [
    "### Reflection"
   ]
  },
  {
   "cell_type": "markdown",
   "metadata": {},
   "source": [
    "**4.** Why did you label your topic the way you did? What is one alternative label?"
   ]
  },
  {
   "cell_type": "markdown",
   "metadata": {},
   "source": [
    "**#**Your answer here"
   ]
  },
  {
   "cell_type": "markdown",
   "metadata": {},
   "source": [
    "**5.** What's another collection of texts that you think might be interesting to analyze with tf-idf scores?  Why?"
   ]
  },
  {
   "cell_type": "markdown",
   "metadata": {},
   "source": [
    "**#**Your answer here"
   ]
  }
 ],
 "metadata": {
  "kernelspec": {
   "display_name": "Python 3",
   "language": "python",
   "name": "python3"
  },
  "language_info": {
   "codemirror_mode": {
    "name": "ipython",
    "version": 3
   },
   "file_extension": ".py",
   "mimetype": "text/x-python",
   "name": "python",
   "nbconvert_exporter": "python",
   "pygments_lexer": "ipython3",
   "version": "3.7.5"
  }
 },
 "nbformat": 4,
 "nbformat_minor": 4
}
