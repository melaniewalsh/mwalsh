{
 "cells": [
  {
   "cell_type": "markdown",
   "metadata": {},
   "source": [
    "# Topic Modeling — Time Series"
   ]
  },
  {
   "cell_type": "markdown",
   "metadata": {},
   "source": [
    "<img src=\"https://pngimg.com/uploads/palette/palette_PNG68293.png\">"
   ]
  },
  {
   "cell_type": "markdown",
   "metadata": {},
   "source": [
    "In these lessons, we're learning about a text analysis method called **topic modeling**. This method will help us identify the main topics or discourses within a collection of texts (or within a single text that has been separated into smaller text chunks)."
   ]
  },
  {
   "cell_type": "markdown",
   "metadata": {},
   "source": [
    "In this particular lesson, we're going to use [Little MALLET Wrapper](https://github.com/maria-antoniak/little-mallet-wrapper), a Python wrapper for [MALLET](http://mallet.cs.umass.edu/topics.php), to topic model a CSV file of Donald Trump's tweets and plot the fluctuation of topics over time."
   ]
  },
  {
   "cell_type": "markdown",
   "metadata": {},
   "source": [
    "# What You Need To Get Started"
   ]
  },
  {
   "cell_type": "markdown",
   "metadata": {},
   "source": [
    "*If you're working in this Jupyter notebook on your own computer, you'll need to have both the Java Development Kit and MALLET pre-installed. For set up instructions, please see [the previous lesson](http://melaniewalsh.github.io/Intro-Cultural-Analytics/Text-Analysis/Topic-Modeling-Set-Up.html).\n",
    "\n",
    "*If you're working in this Jupyter notebook in the cloud via Binder, then the Java Development Kit and Mallet will already be installed. You're good to go!"
   ]
  },
  {
   "cell_type": "markdown",
   "metadata": {},
   "source": [
    "# Set MALLET Path"
   ]
  },
  {
   "cell_type": "markdown",
   "metadata": {},
   "source": [
    "Since Little MALLET Wrapper is a Python package built around MALLET, we first need to tell it where the bigger, Java-based MALLET lives.\n",
    "\n",
    "We're going to make a variable called `path_to_mallet` and assign it the file path of our MALLET program. We need to point it, specifically, to the \"mallet\" file inside the \"bin\" folder inside the \"mallet-2.0.8\" folder. "
   ]
  },
  {
   "cell_type": "markdown",
   "metadata": {},
   "source": [
    "Run the cell below if you're working in the cloud via Binder or if MALLET if is located in your current directory:"
   ]
  },
  {
   "cell_type": "code",
   "execution_count": null,
   "metadata": {},
   "outputs": [],
   "source": [
    "path_to_mallet = 'mallet-2.0.8/bin/mallet'"
   ]
  },
  {
   "cell_type": "markdown",
   "metadata": {},
   "source": [
    "Uncomment and run the cell below if MALLET is in your home directory on a Mac:"
   ]
  },
  {
   "cell_type": "code",
   "execution_count": 5,
   "metadata": {},
   "outputs": [],
   "source": [
    "#path_to_mallet = '~/mallet-2.0.8/bin/mallet' "
   ]
  },
  {
   "cell_type": "markdown",
   "metadata": {},
   "source": [
    "Uncomment and run the cell below if MALLET is in your C:/ directory on a Windows computer:"
   ]
  },
  {
   "cell_type": "code",
   "execution_count": 6,
   "metadata": {},
   "outputs": [],
   "source": [
    "#path_to_mallet = 'C:/mallet-2.0.8/bin/mallet'"
   ]
  },
  {
   "cell_type": "markdown",
   "metadata": {},
   "source": [
    "If MALLET is located in another directory, then set your `path_to_mallet` to that file path."
   ]
  },
  {
   "cell_type": "markdown",
   "metadata": {},
   "source": [
    "*Remember that \"uncomment\" means delete the initial `#`*"
   ]
  },
  {
   "cell_type": "markdown",
   "metadata": {},
   "source": [
    "*Remember that the tilde `~` automatically fills in your home directory on Mac/Linux machines*"
   ]
  },
  {
   "cell_type": "markdown",
   "metadata": {},
   "source": [
    "# Import Libraries"
   ]
  },
  {
   "cell_type": "code",
   "execution_count": 7,
   "metadata": {},
   "outputs": [],
   "source": [
    "#!pip install little_mallet_wrapper\n",
    "#!pip install seaborn"
   ]
  },
  {
   "cell_type": "markdown",
   "metadata": {},
   "source": [
    "Now let's `import` the `little_mallet_wrapper` and the data viz library `seaborn`."
   ]
  },
  {
   "cell_type": "code",
   "execution_count": 8,
   "metadata": {},
   "outputs": [],
   "source": [
    "import little_mallet_wrapper\n",
    "import seaborn"
   ]
  },
  {
   "cell_type": "markdown",
   "metadata": {},
   "source": [
    "We're also going to import the `random` module for generating random numbers; the `pandas` library for reading CSV data (we're also changing its default column width display setting); and  [`glob`](https://docs.python.org/3/library/glob.html) and [`pathlib`](https://docs.python.org/3/library/pathlib.html#basic-use) for working with files and the file system."
   ]
  },
  {
   "cell_type": "code",
   "execution_count": 9,
   "metadata": {},
   "outputs": [],
   "source": [
    "import random"
   ]
  },
  {
   "cell_type": "code",
   "execution_count": 2,
   "metadata": {},
   "outputs": [],
   "source": [
    "import pandas as pd\n",
    "pd.set_option(\"max_columns\", 50)\n",
    "pd.set_option(\"max_colwidth\", 200)"
   ]
  },
  {
   "cell_type": "code",
   "execution_count": 11,
   "metadata": {},
   "outputs": [],
   "source": [
    "import glob\n",
    "from pathlib import Path"
   ]
  },
  {
   "cell_type": "markdown",
   "metadata": {},
   "source": [
    "# Get Training Data From CSV File"
   ]
  },
  {
   "cell_type": "markdown",
   "metadata": {},
   "source": [
    "Before we topic model Donald Trump's tweets, we need to process the tweets and prepare them for analysis. The steps below demonstrate how to process texts if they come from a CSV file.\n",
    "\n",
    "Note: We're calling these text files our *training data*, because we're *training* our topic model with these texts. The topic model will be learning and extracting topics based on these texts."
   ]
  },
  {
   "cell_type": "markdown",
   "metadata": {},
   "source": [
    "# Trump Tweets"
   ]
  },
  {
   "cell_type": "markdown",
   "metadata": {},
   "source": [
    "This dataset of Donald Trump's tweets is taken from [Trump Twitter Archive](http://www.trumptwitterarchive.com/). To read in the CSV file, we're going to use Pandas."
   ]
  },
  {
   "cell_type": "code",
   "execution_count": 3,
   "metadata": {},
   "outputs": [],
   "source": [
    "trump_df = pd.read_csv(\"../texts/politics/Trump-Tweets.csv\", encoding='utf-8')"
   ]
  },
  {
   "cell_type": "code",
   "execution_count": 4,
   "metadata": {},
   "outputs": [
    {
     "data": {
      "text/html": [
       "<div>\n",
       "<style scoped>\n",
       "    .dataframe tbody tr th:only-of-type {\n",
       "        vertical-align: middle;\n",
       "    }\n",
       "\n",
       "    .dataframe tbody tr th {\n",
       "        vertical-align: top;\n",
       "    }\n",
       "\n",
       "    .dataframe thead th {\n",
       "        text-align: right;\n",
       "    }\n",
       "</style>\n",
       "<table border=\"1\" class=\"dataframe\">\n",
       "  <thead>\n",
       "    <tr style=\"text-align: right;\">\n",
       "      <th></th>\n",
       "      <th>source</th>\n",
       "      <th>text</th>\n",
       "      <th>created_at</th>\n",
       "      <th>retweet_count</th>\n",
       "      <th>favorite_count</th>\n",
       "      <th>is_retweet</th>\n",
       "      <th>id_str</th>\n",
       "    </tr>\n",
       "  </thead>\n",
       "  <tbody>\n",
       "    <tr>\n",
       "      <th>0</th>\n",
       "      <td>Twitter for iPhone</td>\n",
       "      <td>Just finished a very good conversation with President Xi of China. Discussed in great detail the CoronaVirus that is ravaging large parts of our Planet. China has been through much &amp;amp; has developed a strong understanding of the Virus. We are working closely together. Much respect!</td>\n",
       "      <td>03-27-2020 05:19:02</td>\n",
       "      <td>33074</td>\n",
       "      <td>202087</td>\n",
       "      <td>False</td>\n",
       "      <td>1243407157321560000</td>\n",
       "    </tr>\n",
       "    <tr>\n",
       "      <th>1</th>\n",
       "      <td>Twitter for iPhone</td>\n",
       "      <td>Will be interviewed on @seanhannity at 9:10 P.M. @FoxNews</td>\n",
       "      <td>03-27-2020 01:05:59</td>\n",
       "      <td>7419</td>\n",
       "      <td>42186</td>\n",
       "      <td>False</td>\n",
       "      <td>1243343475799720000</td>\n",
       "    </tr>\n",
       "    <tr>\n",
       "      <th>2</th>\n",
       "      <td>Twitter for iPhone</td>\n",
       "      <td>The world is at war with a hidden enemy. WE WILL WIN! https://t.co/QLceNWcL6Z</td>\n",
       "      <td>03-26-2020 23:50:02</td>\n",
       "      <td>24472</td>\n",
       "      <td>97346</td>\n",
       "      <td>False</td>\n",
       "      <td>1243324360523490000</td>\n",
       "    </tr>\n",
       "    <tr>\n",
       "      <th>3</th>\n",
       "      <td>Twitter for iPhone</td>\n",
       "      <td>Our great Oil &amp;amp; Gas industry is under under seige after having one of the best years in recorded history. It will get better than ever as soon as our Country starts up again. Vital that it does for our National Security!</td>\n",
       "      <td>03-26-2020 23:06:28</td>\n",
       "      <td>25514</td>\n",
       "      <td>131210</td>\n",
       "      <td>False</td>\n",
       "      <td>1243313399284500000</td>\n",
       "    </tr>\n",
       "    <tr>\n",
       "      <th>4</th>\n",
       "      <td>Twitter for iPhone</td>\n",
       "      <td>Will be going out in 10 minutes for the press conference.</td>\n",
       "      <td>03-26-2020 20:57:15</td>\n",
       "      <td>15797</td>\n",
       "      <td>130201</td>\n",
       "      <td>False</td>\n",
       "      <td>1243280878991790000</td>\n",
       "    </tr>\n",
       "  </tbody>\n",
       "</table>\n",
       "</div>"
      ],
      "text/plain": [
       "               source  \\\n",
       "0  Twitter for iPhone   \n",
       "1  Twitter for iPhone   \n",
       "2  Twitter for iPhone   \n",
       "3  Twitter for iPhone   \n",
       "4  Twitter for iPhone   \n",
       "\n",
       "                                                                                                                                                                                                                                                                                           text  \\\n",
       "0  Just finished a very good conversation with President Xi of China. Discussed in great detail the CoronaVirus that is ravaging large parts of our Planet. China has been through much &amp; has developed a strong understanding of the Virus. We are working closely together. Much respect!   \n",
       "1                                                                                                                                                                                                                                     Will be interviewed on @seanhannity at 9:10 P.M. @FoxNews   \n",
       "2                                                                                                                                                                                                                 The world is at war with a hidden enemy. WE WILL WIN! https://t.co/QLceNWcL6Z   \n",
       "3                                                              Our great Oil &amp; Gas industry is under under seige after having one of the best years in recorded history. It will get better than ever as soon as our Country starts up again. Vital that it does for our National Security!   \n",
       "4                                                                                                                                                                                                                                     Will be going out in 10 minutes for the press conference.   \n",
       "\n",
       "            created_at  retweet_count  favorite_count is_retweet  \\\n",
       "0  03-27-2020 05:19:02          33074          202087      False   \n",
       "1  03-27-2020 01:05:59           7419           42186      False   \n",
       "2  03-26-2020 23:50:02          24472           97346      False   \n",
       "3  03-26-2020 23:06:28          25514          131210      False   \n",
       "4  03-26-2020 20:57:15          15797          130201      False   \n",
       "\n",
       "                id_str  \n",
       "0  1243407157321560000  \n",
       "1  1243343475799720000  \n",
       "2  1243324360523490000  \n",
       "3  1243313399284500000  \n",
       "4  1243280878991790000  "
      ]
     },
     "execution_count": 4,
     "metadata": {},
     "output_type": "execute_result"
    }
   ],
   "source": [
    "trump_df.head()"
   ]
  },
  {
   "cell_type": "code",
   "execution_count": 50,
   "metadata": {},
   "outputs": [],
   "source": [
    "trump_df['text'] = trump_df['text'].astype(str)"
   ]
  },
  {
   "cell_type": "markdown",
   "metadata": {},
   "source": [
    "### Process Trump Tweets"
   ]
  },
  {
   "cell_type": "code",
   "execution_count": 51,
   "metadata": {},
   "outputs": [],
   "source": [
    "training_data = [little_mallet_wrapper.process_string(text, numbers='remove') for text in trump_df['text']]"
   ]
  },
  {
   "cell_type": "markdown",
   "metadata": {},
   "source": [
    "### Get Original Trump Tweets"
   ]
  },
  {
   "cell_type": "code",
   "execution_count": 209,
   "metadata": {},
   "outputs": [],
   "source": [
    "original_trump_tweets = [title for title in trump_df['text']]"
   ]
  },
  {
   "cell_type": "markdown",
   "metadata": {},
   "source": [
    "### Get Dataset Statistics"
   ]
  },
  {
   "cell_type": "code",
   "execution_count": 53,
   "metadata": {},
   "outputs": [
    {
     "name": "stdout",
     "output_type": "stream",
     "text": [
      "Number of Documents: 29395\n",
      "Mean Number of Words: 13.0\n",
      "Vocabulary Size: 33945\n"
     ]
    }
   ],
   "source": [
    "little_mallet_wrapper.print_dataset_stats(training_data)"
   ]
  },
  {
   "cell_type": "markdown",
   "metadata": {},
   "source": [
    "# Training the Topic Model"
   ]
  },
  {
   "cell_type": "markdown",
   "metadata": {},
   "source": [
    "`little_mallet_wrapper.train_topic_model(path_to_mallet,\n",
    "                      path_to_formatted_training_data,\n",
    "                      path_to_model,\n",
    "                      path_to_topic_keys,\n",
    "                      path_to_topic_distributions,\n",
    "                      num_topics)`"
   ]
  },
  {
   "cell_type": "markdown",
   "metadata": {},
   "source": [
    "We're going to train our topic model with the `little_mallet_wrapper.train_topic_model()` function. As you can see above, however, this function requires 6 different arguments and file paths to run properly:\n",
    "\n",
    "- `path_to_mallet`\n",
    "- `path_to_formatted_training_data`\n",
    "- `path_to_model`\n",
    "- `path_to_topic_keys`\n",
    "- `path_to_topic_distributions`\n",
    "- `num_topics`\n",
    "\n",
    "So we have to set a few things up first."
   ]
  },
  {
   "cell_type": "markdown",
   "metadata": {},
   "source": [
    "## Set Number of Topics"
   ]
  },
  {
   "cell_type": "markdown",
   "metadata": {},
   "source": [
    "We need to make a variable `num_topics` and assign it the number of topics we want returned."
   ]
  },
  {
   "cell_type": "code",
   "execution_count": 20,
   "metadata": {},
   "outputs": [],
   "source": [
    "num_topics = 35"
   ]
  },
  {
   "cell_type": "markdown",
   "metadata": {},
   "source": [
    "## Set Training Data"
   ]
  },
  {
   "cell_type": "markdown",
   "metadata": {},
   "source": [
    "We already made a variable called `training_data`, which includes all of our processed Reddit post texts, so we can just set it equal to itself."
   ]
  },
  {
   "cell_type": "code",
   "execution_count": 21,
   "metadata": {},
   "outputs": [],
   "source": [
    "training_data = training_data"
   ]
  },
  {
   "cell_type": "markdown",
   "metadata": {},
   "source": [
    "## Set Other MALLET File Paths"
   ]
  },
  {
   "cell_type": "markdown",
   "metadata": {},
   "source": [
    "Then we're going to set a file path where we want all our MALLET topic modeling data to be dumped. I'm going to output everything onto my Desktop inside a folder called \"topic-model-output\" and a subfolder specific to the Reddit posts called \"Reddit.\"\n",
    "\n",
    "All the other necessary variables below `output_directory_path` will be automatically created inside this directory."
   ]
  },
  {
   "cell_type": "code",
   "execution_count": 22,
   "metadata": {},
   "outputs": [],
   "source": [
    "#Change to your desired output directory\n",
    "output_directory_path = 'topic-model-output/Trump-Tweets'\n",
    "\n",
    "#No need to change anything below here\n",
    "Path(f\"{output_directory_path}\").mkdir(parents=True, exist_ok=True)\n",
    "\n",
    "path_to_training_data           = f\"{output_directory_path}/training.txt\"\n",
    "path_to_formatted_training_data = f\"{output_directory_path}/mallet.training\"\n",
    "path_to_model                   = f\"{output_directory_path}/mallet.model.{str(num_topics)}\"\n",
    "path_to_topic_keys              = f\"{output_directory_path}/mallet.topic_keys.{str(num_topics)}\"\n",
    "path_to_topic_distributions     = f\"{output_directory_path}/mallet.topic_distributions.{str(num_topics)}\""
   ]
  },
  {
   "cell_type": "markdown",
   "metadata": {},
   "source": [
    "## Import Data"
   ]
  },
  {
   "cell_type": "markdown",
   "metadata": {},
   "source": [
    "We're going to import the data with `little_mallet_wrapper.import_data()`."
   ]
  },
  {
   "cell_type": "code",
   "execution_count": 23,
   "metadata": {},
   "outputs": [
    {
     "name": "stdout",
     "output_type": "stream",
     "text": [
      "Importing data...\n",
      "Complete\n"
     ]
    }
   ],
   "source": [
    "little_mallet_wrapper.import_data(path_to_mallet,\n",
    "                path_to_training_data,\n",
    "                path_to_formatted_training_data,\n",
    "                training_data)"
   ]
  },
  {
   "cell_type": "markdown",
   "metadata": {},
   "source": [
    "## Train Topic Model"
   ]
  },
  {
   "cell_type": "markdown",
   "metadata": {},
   "source": [
    "Then we're going to train our topic model with `little_mallet_wrapper.train_topic_model()`. The topic model should take about 1-1.5 minutes to train and complete. If you want it, you can look at your Terminal or PowerShell and see what the model looks like as it's training."
   ]
  },
  {
   "cell_type": "code",
   "execution_count": 25,
   "metadata": {},
   "outputs": [
    {
     "name": "stdout",
     "output_type": "stream",
     "text": [
      "Training topic model...\n",
      "Complete\n"
     ]
    }
   ],
   "source": [
    "little_mallet_wrapper.train_topic_model(path_to_mallet,\n",
    "                      path_to_formatted_training_data,\n",
    "                      path_to_model,\n",
    "                      path_to_topic_keys,\n",
    "                      path_to_topic_distributions,\n",
    "                      num_topics)"
   ]
  },
  {
   "cell_type": "markdown",
   "metadata": {},
   "source": [
    "# Display Topics and Top Words"
   ]
  },
  {
   "cell_type": "code",
   "execution_count": 58,
   "metadata": {
    "scrolled": true
   },
   "outputs": [
    {
     "name": "stdout",
     "output_type": "stream",
     "text": [
      "✨Topic 0✨\n",
      "\n",
      "['fbi', 'campaign', 'clinton', 'trump', 'collusion', 'russia', 'mueller', 'hillary', 'comey', 'report', 'general', 'investigation', 'james', 'information', 'dossier', 'russian', 'intelligence', 'former', 'emails', 'attorney']\n",
      "\n",
      "✨Topic 1✨\n",
      "\n",
      "['http', 'tonight', 'interview', 'enjoy', 'foxnews', 'foxandfriends', 'interviewed', 'morning', 'watch', 'discussing', 'show', 'fox', 'miss', 'seanhannity', 'tomorrow', 'today', 'friends', 'minutes', 'cnn', 'bit']\n",
      "\n",
      "✨Topic 2✨\n",
      "\n",
      "['https', 'women', 'today', 'law', 'american', 'people', 'nation', 'day', 'thank', 'god', 'men', 'families', 'enforcement', 'country', 'service', 'first', 'love', 'lives', 'america', 'bless']\n",
      "\n",
      "✨Topic 3✨\n",
      "\n",
      "['obama', 'iran', 'isis', 'attack', 'syria', 'iraq', 'back', 'president', 'many', 'people', 'stop', 'war', 'fight', 'must', 'nuclear', 'ebola', 'oil', 'turkey', 'home', 'time']\n",
      "\n",
      "✨Topic 4✨\n",
      "\n",
      "['china', 'trade', 'deal', 'money', 'dollars', 'much', 'countries', 'billion', 'tariffs', 'many', 'pay', 'billions', 'farmers', 'deals', 'mexico', 'big', 'make', 'country', 'made', 'want']\n",
      "\n",
      "✨Topic 5✨\n",
      "\n",
      "['https', 'thanks', 'thank', 'realdonaldtrump', 'true', 'nice', 'trump', 'words', 'great', 'agree', 'dbongino', 'kind', 'david', 'promises', 'donaldjtrumpjr', 'foxandfriends', 'comments', 'appreciate', 'teamtrump', 'greatly']\n",
      "\n",
      "✨Topic 6✨\n",
      "\n",
      "['think', 'big', 'like', 'work', 'success', 'entrepreneurs', 'keep', 'know', 'people', 'never', 'always', 'give', 'deal', 'focus', 'good', 'way', 'best', 'business', 'get', 'going']\n",
      "\n",
      "✨Topic 7✨\n",
      "\n",
      "['https', 'thank', 'trump', 'makeamericagreatagain', 'join', 'maga', 'tomorrow', 'see', 'soon', 'ohio', 'get', 'iowa', 'kag', 'florida', 'vote', 'rally', 'support', 'tonight', 'tickets', 'americafirst']\n",
      "\n",
      "✨Topic 8✨\n",
      "\n",
      "['https', 'great', 'today', 'honor', 'whitehouse', 'realdonaldtrump', 'president', 'first', 'thank', 'welcome', 'honored', 'national', 'flotus', 'melania', 'freedom', 'address', 'presidential', 'speech', 'potus', 'lady']\n",
      "\n",
      "✨Topic 9✨\n",
      "\n",
      "['border', 'wall', 'security', 'country', 'must', 'immigration', 'illegal', 'democrats', 'want', 'people', 'mexico', 'stop', 'southern', 'national', 'crime', 'laws', 'need', 'borders', 'get', 'strong']\n",
      "\n",
      "✨Topic 10✨\n",
      "\n",
      "['hillary', 'crooked', 'clinton', 'court', 'democrats', 'bernie', 'people', 'election', 'dems', 'mueller', 'bad', 'collusion', 'want', 'angry', 'supreme', 'never', 'report', 'even', 'justice', 'russia']\n",
      "\n",
      "✨Topic 11✨\n",
      "\n",
      "['obamacare', 'tax', 'bill', 'republicans', 'obama', 'get', 'must', 'cuts', 'healthcare', 'care', 'congress', 'plan', 'taxes', 'disaster', 'reform', 'cut', 'need', 'act', 'pass', 'vote']\n",
      "\n",
      "✨Topic 12✨\n",
      "\n",
      "['like', 'really', 'would', 'people', 'show', 'bad', 'got', 'total', 'time', 'never', 'losers', 'fired', 'badly', 'went', 'stupid', 'made', 'failing', 'see', 'magazine', 'haters']\n",
      "\n",
      "✨Topic 13✨\n",
      "\n",
      "['last', 'night', 'celebapprentice', 'http', 'apprentice', 'great', 'apprenticenbc', 'nbc', 'watch', 'week', 'season', 'celebrity', 'star', 'tonight', 'show', 'live', 'sunday', 'see', 'two', 'amazing']\n",
      "\n",
      "✨Topic 14✨\n",
      "\n",
      "['record', 'economy', 'ever', 'since', 'numbers', 'market', 'year', 'high', 'best', 'unemployment', 'time', 'stock', 'jobs', 'years', 'highest', 'low', 'rate', 'fed', 'history', 'economic']\n",
      "\n",
      "✨Topic 15✨\n",
      "\n",
      "['http', 'false', 'barackobama', 'twitter', 'client', 'web', 'cont', 'obama', 'china', 'mittromney', 'wind', 'oil', 'gas', 'debt', 'energy', 'beta', 'twitlonger', 'turbines', 'scotland', 'alexsalmond']\n",
      "\n",
      "✨Topic 16✨\n",
      "\n",
      "['president', 'obama', 'would', 'much', 'get', 'trump', 'said', 'better', 'even', 'could', 'think', 'never', 'like', 'done', 'right', 'far', 'know', 'thought', 'administration', 'else']\n",
      "\n",
      "✨Topic 17✨\n",
      "\n",
      "['great', 'vote', 'state', 'strong', 'endorsement', 'job', 'governor', 'total', 'crime', 'military', 'big', 'win', 'complete', 'vets', 'get', 'loves', 'senator', 'amendment', 'john', 'republican']\n",
      "\n",
      "✨Topic 18✨\n",
      "\n",
      "['news', 'fake', 'media', 'story', 'people', 'bad', 'dishonest', 'cnn', 'even', 'totally', 'never', 'reporting', 'nytimes', 'failing', 'many', 'stories', 'much', 'press', 'made', 'fact']\n",
      "\n",
      "✨Topic 19✨\n",
      "\n",
      "['great', 'america', 'make', 'https', 'hard', 'work', 'working', 'keep', 'thank', 'together', 'let', 'going', 'making', 'country', 'get', 'time', 'sure', 'safe', 'job', 'never']\n",
      "\n",
      "✨Topic 20✨\n",
      "\n",
      "['years', 'one', 'time', 'many', 'country', 'history', 'people', 'two', 'ever', 'long', 'ago', 'president', 'done', 'greatest', 'first', 'never', 'would', 'world', 'last', 'far']\n",
      "\n",
      "✨Topic 21✨\n",
      "\n",
      "['new', 'york', 'great', 'book', 'https', 'times', 'office', 'hampshire', 'washington', 'post', 'today', 'real', 'read', 'one', 'trump', 'america', 'old', 'order', 'story', 'really']\n",
      "\n",
      "✨Topic 22✨\n",
      "\n",
      "['happy', 'day', 'obama', 'year', 'everyone', 'https', 'birthday', 'million', 'hope', 'find', 'next', 'today', 'charity', 'see', 'ask', 'family', 'people', 'barackobama', 'answer', 'college']\n",
      "\n",
      "✨Topic 23✨\n",
      "\n",
      "['great', 'big', 'people', 'crowd', 'state', 'carolina', 'see', 'amazing', 'speech', 'south', 'florida', 'hurricane', 'back', 'iowa', 'going', 'ready', 'soon', 'day', 'rally', 'today']\n",
      "\n",
      "✨Topic 24✨\n",
      "\n",
      "['like', 'mike', 'debate', 'get', 'failed', 'campaign', 'presidential', 'time', 'mitt', 'romney', 'last', 'bad', 'paul', 'won', 'pence', 'candidate', 'way', 'run', 'put', 'win']\n",
      "\n",
      "✨Topic 25✨\n",
      "\n",
      "['poll', 'cruz', 'bush', 'wow', 'cnn', 'ted', 'jeb', 'ratings', 'debate', 'polls', 'total', 'big', 'rubio', 'lightweight', 'one', 'show', 'trump', 'said', 'foxnews', 'new']\n",
      "\n",
      "✨Topic 26✨\n",
      "\n",
      "['witch', 'hunt', 'president', 'call', 'schiff', 'never', 'nothing', 'biden', 'said', 'ukraine', 'joe', 'democrats', 'whistleblower', 'impeachment', 'read', 'even', 'adam', 'scam', 'wrong', 'hoax']\n",
      "\n",
      "✨Topic 27✨\n",
      "\n",
      "['democrats', 'party', 'republican', 'impeachment', 'nothing', 'pelosi', 'house', 'dems', 'republicans', 'nancy', 'left', 'democrat', 'senate', 'vote', 'want', 'radical', 'realdonaldtrump', 'going', 'chuck', 'win']\n",
      "\n",
      "✨Topic 28✨\n",
      "\n",
      "['united', 'states', 'one', 'minister', 'prime', 'people', 'president', 'force', 'may', 'israel', 'nations', 'country', 'time', 'air', 'around', 'continue', 'japan', 'see', 'world', 'warren']\n",
      "\n",
      "✨Topic 29✨\n",
      "\n",
      "['trump', 'http', 'via', 'donald', 'tower', 'hotel', 'breitbartnews', 'media', 'com', 'newsmax', 'macys', 'gop', 'best', 'star', 'trumpchicago', 'nyc', 'ties', 'collection', 'signature', 'top']\n",
      "\n",
      "✨Topic 30✨\n",
      "\n",
      "['trump', 'http', 'golf', 'course', 'national', 'world', 'club', 'doral', 'beautiful', 'top', 'new', 'best', 'great', 'trumpdoral', 'scotland', 'miami', 'secretary', 'one', 'blue', 'open']\n",
      "\n",
      "✨Topic 31✨\n",
      "\n",
      "['jobs', 'american', 'back', 'https', 'america', 'bring', 'workers', 'new', 'business', 'coming', 'companies', 'create', 'economy', 'country', 'americans', 'small', 'tax', 'right', 'usa', 'reagan']\n",
      "\n",
      "✨Topic 32✨\n",
      "\n",
      "['forward', 'looking', 'house', 'white', 'look', 'meeting', 'good', 'korea', 'great', 'north', 'president', 'many', 'big', 'much', 'china', 'today', 'well', 'kim', 'also', 'day']\n",
      "\n",
      "✨Topic 33✨\n",
      "\n",
      "['great', 'good', 'congratulations', 'job', 'guy', 'luck', 'well', 'win', 'really', 'friend', 'wonderful', 'truly', 'mark', 'team', 'fantastic', 'amazing', 'game', 'man', 'thanks', 'proud']\n",
      "\n",
      "✨Topic 34✨\n",
      "\n",
      "['global', 'warming', 'even', 'many', 'change', 'case', 'country', 'could', 'fast', 'control', 'california', 'others', 'problem', 'right', 'worse', 'never', 'bad', 'mayor', 'gun', 'sad']\n",
      "\n"
     ]
    }
   ],
   "source": [
    "topics = little_mallet_wrapper.load_topic_keys(path_to_topic_keys)\n",
    "\n",
    "for topic_number, topic in enumerate(topics):\n",
    "    print(f\"✨Topic {topic_number}✨\\n\\n{topic}\\n\")"
   ]
  },
  {
   "cell_type": "markdown",
   "metadata": {},
   "source": [
    "# Display Top Tweets For Topic"
   ]
  },
  {
   "cell_type": "markdown",
   "metadata": {},
   "source": [
    "## Load Topic Distributions"
   ]
  },
  {
   "cell_type": "code",
   "execution_count": 393,
   "metadata": {},
   "outputs": [],
   "source": [
    "topic_distributions = little_mallet_wrapper.load_topic_distributions(path_to_topic_distributions)"
   ]
  },
  {
   "cell_type": "code",
   "execution_count": 210,
   "metadata": {},
   "outputs": [],
   "source": [
    "tweet_dict = dict(zip(training_data, original_trump_tweets))"
   ]
  },
  {
   "cell_type": "code",
   "execution_count": 219,
   "metadata": {},
   "outputs": [],
   "source": [
    "def display_top_tweets_per_topic(topic_number=0, number_of_documents=5):\n",
    "    \n",
    "    print(f\"✨Topic {topic_number}✨\\n\\n{topics[topic_number]}\\n\")\n",
    "\n",
    "    for probability, document in little_mallet_wrapper.get_top_docs(training_data, topic_distributions, topic_number, n=number_of_documents):\n",
    "        print(round(probability, 4), tweet_dict[document] + \"\\n\")\n",
    "    return"
   ]
  },
  {
   "cell_type": "code",
   "execution_count": 220,
   "metadata": {},
   "outputs": [
    {
     "name": "stdout",
     "output_type": "stream",
     "text": [
      "✨Topic 0✨\n",
      "\n",
      "['fbi', 'campaign', 'clinton', 'trump', 'collusion', 'russia', 'mueller', 'hillary', 'comey', 'report', 'general', 'investigation', 'james', 'information', 'dossier', 'russian', 'intelligence', 'former', 'emails', 'attorney']\n",
      "\n",
      "0.7257 Not only did Senator Burr’s Committee find No Collusion by the Trump Campaign and Russia it’s important because they interviewed 200 witnesses and 300000 pages of documents &amp; the Committee has direct access to intelligence information that’s Classified. @GreggJarrett\n",
      "\n",
      "0.7211 Wow FBI confirms report that James Comey drafted letter exonerating  Crooked Hillary Clinton long before investigation was complete. Many..\n",
      "\n",
      "0.7211 RT @TomFitton: .@JudicialWatch uncovers major Ohr-Steele-Fusion GPS collusion docs PLUS did Schiff conspire with Cohen to smear @RealDonald…\n",
      "\n",
      "0.7143 Former FBI top lawyer James Baker just admitted involvement in FISA Warrant and further admitted there  were IRREGULARITIES in the way the Russia probe was handled. They relied heavily on the unverified Trump “Dossier” paid for by the DNC &amp; Clinton Campaign &amp; funded through a...\n",
      "\n",
      "0.7101 Why aren’t the Democrats in the House calling Comey Brennan Clapper Page and her FBI lover (whose invaluable phone records were illegally deleted) Crooked Hillary Podesta Ohr (and Nellie) the GPS Fusion characters Christopher Steele the DNC (&amp; their missing server)....\n",
      "\n"
     ]
    }
   ],
   "source": [
    "display_top_tweets_per_topic(topic_number=0, number_of_documents=5)"
   ]
  },
  {
   "cell_type": "markdown",
   "metadata": {},
   "source": [
    "# Show Topic Words in Context of Full Tweet"
   ]
  },
  {
   "cell_type": "code",
   "execution_count": 232,
   "metadata": {},
   "outputs": [],
   "source": [
    "from IPython.display import Markdown, display\n",
    "import re\n",
    "\n",
    "def display_bolded_topic_words_in_context(topic_number=3, number_of_documents=3, custom_words=None):\n",
    "\n",
    "    print(f\"✨Topic {topic_number}✨\\n\\n{topics[topic_number]}\\n\")\n",
    "\n",
    "    for probability, document in little_mallet_wrapper.get_top_docs(training_data, topic_distributions, topic_number, n=number_of_documents):\n",
    "\n",
    "        probability = f\"✨✨✨\\n\\n**{probability}**\"\n",
    "        original_text = tweet_dict[document]\n",
    "        original_text_lowered = original_text.lower()\n",
    "        topic_words = topics[topic_number]\n",
    "        topic_words = custom_words if custom_words != None else topic_words\n",
    "\n",
    "        for word in topic_words:\n",
    "            if word in original_text_lowered:\n",
    "                original_text = re.sub(f\"\\\\b{word}\\\\b\", f\"**{word.upper()}**\", original_text, flags=re.I)\n",
    "\n",
    "        display(Markdown(probability)), display(Markdown(original_text))\n",
    "    return"
   ]
  },
  {
   "cell_type": "code",
   "execution_count": 239,
   "metadata": {},
   "outputs": [
    {
     "name": "stdout",
     "output_type": "stream",
     "text": [
      "✨Topic 0✨\n",
      "\n",
      "['fbi', 'campaign', 'clinton', 'trump', 'collusion', 'russia', 'mueller', 'hillary', 'comey', 'report', 'general', 'investigation', 'james', 'information', 'dossier', 'russian', 'intelligence', 'former', 'emails', 'attorney']\n",
      "\n"
     ]
    },
    {
     "data": {
      "text/markdown": [
       "✨✨✨\n",
       "\n",
       "**0.7257142857142856**"
      ],
      "text/plain": [
       "<IPython.core.display.Markdown object>"
      ]
     },
     "metadata": {},
     "output_type": "display_data"
    },
    {
     "data": {
      "text/markdown": [
       "Not only did Senator Burr’s Committee find No **COLLUSION** by the **TRUMP** **CAMPAIGN** and **RUSSIA** it’s important because they interviewed 200 witnesses and 300000 pages of documents &amp; the Committee has direct access to **INTELLIGENCE** **INFORMATION** that’s Classified. @GreggJarrett"
      ],
      "text/plain": [
       "<IPython.core.display.Markdown object>"
      ]
     },
     "metadata": {},
     "output_type": "display_data"
    },
    {
     "data": {
      "text/markdown": [
       "✨✨✨\n",
       "\n",
       "**0.7210884353741497**"
      ],
      "text/plain": [
       "<IPython.core.display.Markdown object>"
      ]
     },
     "metadata": {},
     "output_type": "display_data"
    },
    {
     "data": {
      "text/markdown": [
       "Wow **FBI** confirms **REPORT** that **JAMES** **COMEY** drafted letter exonerating  Crooked **HILLARY** **CLINTON** long before **INVESTIGATION** was complete. Many.."
      ],
      "text/plain": [
       "<IPython.core.display.Markdown object>"
      ]
     },
     "metadata": {},
     "output_type": "display_data"
    },
    {
     "data": {
      "text/markdown": [
       "✨✨✨\n",
       "\n",
       "**0.7210884353741497**"
      ],
      "text/plain": [
       "<IPython.core.display.Markdown object>"
      ]
     },
     "metadata": {},
     "output_type": "display_data"
    },
    {
     "data": {
      "text/markdown": [
       "RT @TomFitton: .@JudicialWatch uncovers major Ohr-Steele-Fusion GPS **COLLUSION** docs PLUS did Schiff conspire with Cohen to smear @RealDonald…"
      ],
      "text/plain": [
       "<IPython.core.display.Markdown object>"
      ]
     },
     "metadata": {},
     "output_type": "display_data"
    },
    {
     "data": {
      "text/markdown": [
       "✨✨✨\n",
       "\n",
       "**0.7142857142857143**"
      ],
      "text/plain": [
       "<IPython.core.display.Markdown object>"
      ]
     },
     "metadata": {},
     "output_type": "display_data"
    },
    {
     "data": {
      "text/markdown": [
       "**FORMER** **FBI** top lawyer **JAMES** Baker just admitted involvement in FISA Warrant and further admitted there  were IRREGULARITIES in the way the **RUSSIA** probe was handled. They relied heavily on the unverified **TRUMP** “**DOSSIER**” paid for by the DNC &amp; **CLINTON** **CAMPAIGN** &amp; funded through a..."
      ],
      "text/plain": [
       "<IPython.core.display.Markdown object>"
      ]
     },
     "metadata": {},
     "output_type": "display_data"
    }
   ],
   "source": [
    "display_bolded_topic_words_in_context(topic_number=0, number_of_documents=4)"
   ]
  },
  {
   "cell_type": "markdown",
   "metadata": {},
   "source": [
    "# Plot Topics Over Time"
   ]
  },
  {
   "cell_type": "markdown",
   "metadata": {},
   "source": [
    "## Load Topic Distributions"
   ]
  },
  {
   "cell_type": "code",
   "execution_count": 200,
   "metadata": {},
   "outputs": [],
   "source": [
    "topic_distributions = little_mallet_wrapper.load_topic_distributions(path_to_topic_distributions)"
   ]
  },
  {
   "cell_type": "markdown",
   "metadata": {},
   "source": [
    "## Add Topic Distribution Columns"
   ]
  },
  {
   "cell_type": "markdown",
   "metadata": {},
   "source": [
    "Add column with all topic distributions for every tweet"
   ]
  },
  {
   "cell_type": "code",
   "execution_count": 60,
   "metadata": {},
   "outputs": [],
   "source": [
    "trump_df['topic_distributions'] = pd.Series(topic_distributions)"
   ]
  },
  {
   "cell_type": "markdown",
   "metadata": {},
   "source": [
    "Make a separate dataframe with each topic distribution as a separate column"
   ]
  },
  {
   "cell_type": "code",
   "execution_count": 70,
   "metadata": {},
   "outputs": [],
   "source": [
    "topic_distributions_df = trump_df['topic_distributions'].apply(pd.Series)"
   ]
  },
  {
   "cell_type": "markdown",
   "metadata": {},
   "source": [
    "Rename each of those columns with the first four words from the topic"
   ]
  },
  {
   "cell_type": "code",
   "execution_count": 72,
   "metadata": {},
   "outputs": [],
   "source": [
    "topic_distributions_df.columns = [\" \".join(topic[:4]) for topic in topics]"
   ]
  },
  {
   "cell_type": "markdown",
   "metadata": {},
   "source": [
    "Merge that column into the dataframe"
   ]
  },
  {
   "cell_type": "code",
   "execution_count": 73,
   "metadata": {},
   "outputs": [],
   "source": [
    "trump_df = pd.concat([trump_df, topic_distributions_df], axis=1)"
   ]
  },
  {
   "cell_type": "markdown",
   "metadata": {},
   "source": [
    "## Date Formatting For Time Series Plot"
   ]
  },
  {
   "cell_type": "markdown",
   "metadata": {},
   "source": [
    "Convert to datetime"
   ]
  },
  {
   "cell_type": "code",
   "execution_count": 61,
   "metadata": {},
   "outputs": [],
   "source": [
    "trump_df['date'] = pd.to_datetime(trump_df['created_at'])"
   ]
  },
  {
   "cell_type": "markdown",
   "metadata": {},
   "source": [
    "Extract year"
   ]
  },
  {
   "cell_type": "code",
   "execution_count": 62,
   "metadata": {},
   "outputs": [],
   "source": [
    "trump_df['year'] = pd.to_datetime(trump_df['date'].dt.year, format='%Y')"
   ]
  },
  {
   "cell_type": "markdown",
   "metadata": {},
   "source": [
    "Extract year and month"
   ]
  },
  {
   "cell_type": "code",
   "execution_count": 63,
   "metadata": {},
   "outputs": [],
   "source": [
    "trump_df['year-month'] = trump_df['date'].dt.to_period('M')"
   ]
  },
  {
   "cell_type": "code",
   "execution_count": 65,
   "metadata": {},
   "outputs": [],
   "source": [
    "trump_df['Date (by month)'] = [month.to_timestamp() for month in trump_df['year-month']]"
   ]
  },
  {
   "cell_type": "markdown",
   "metadata": {},
   "source": [
    "Set year and month as index"
   ]
  },
  {
   "cell_type": "code",
   "execution_count": 67,
   "metadata": {},
   "outputs": [],
   "source": [
    "trump_df = trump_df.set_index('Date (by month)')"
   ]
  },
  {
   "cell_type": "markdown",
   "metadata": {},
   "source": [
    "## Plot All Topics as Times Series"
   ]
  },
  {
   "cell_type": "code",
   "execution_count": null,
   "metadata": {
    "scrolled": true
   },
   "outputs": [],
   "source": [
    "#Ignore warning about opening too many plots\n",
    "import matplotlib as plt\n",
    "plt.rcParams.update({'figure.max_open_warning': 0})\n",
    "\n",
    "for number in range(0,33):\n",
    "    topic_number = number\n",
    "    topic_label = \" \".join(topics[topic_number][:4])\n",
    "    trump_df.groupby(trump_df.index)[[topic_label]].mean().plot(title=f'Trump Tweets \\n Topic {topic_number}: {topic_label}\\n ', linewidth=2)"
   ]
  },
  {
   "cell_type": "markdown",
   "metadata": {},
   "source": [
    "## Plot Individual Topics as Time Series"
   ]
  },
  {
   "cell_type": "markdown",
   "metadata": {},
   "source": [
    "**Topic 10**: Hillary Clinton"
   ]
  },
  {
   "cell_type": "markdown",
   "metadata": {},
   "source": [
    "For every Trump tweet, plot the probability of Topic 10 \"hillary crooked clinton court\""
   ]
  },
  {
   "cell_type": "code",
   "execution_count": 272,
   "metadata": {},
   "outputs": [
    {
     "data": {
      "text/plain": [
       "<matplotlib.axes._subplots.AxesSubplot at 0x1a69ef4590>"
      ]
     },
     "execution_count": 272,
     "metadata": {},
     "output_type": "execute_result"
    },
    {
     "data": {
      "image/png": "[encoded data removed]",
      "text/plain": [
       "<Figure size 432x288 with 1 Axes>"
      ]
     },
     "metadata": {},
     "output_type": "display_data"
    }
   ],
   "source": [
    "topic_number = 10\n",
    "\n",
    "topic_label = \" \".join(topics[topic_number][:4])\n",
    "\n",
    "trump_df[topic_label].plot(style='.', title='Trump Tweets By Topic')"
   ]
  },
  {
   "cell_type": "markdown",
   "metadata": {},
   "source": [
    "For every month of Trump tweets, plot the average probability of Topic 10 \"hillary crooked clinton court\""
   ]
  },
  {
   "cell_type": "code",
   "execution_count": 266,
   "metadata": {},
   "outputs": [
    {
     "data": {
      "text/plain": [
       "<matplotlib.axes._subplots.AxesSubplot at 0x1a68eac310>"
      ]
     },
     "execution_count": 266,
     "metadata": {},
     "output_type": "execute_result"
    },
    {
     "data": {
      "image/png": "[encoded data removed]",
      "text/plain": [
       "<Figure size 432x288 with 1 Axes>"
      ]
     },
     "metadata": {},
     "output_type": "display_data"
    }
   ],
   "source": [
    "topic_number = 10\n",
    "\n",
    "topic_label = \" \".join(topics[topic_number][:4])\n",
    "\n",
    "trump_df.groupby(trump_df.index)[[topic_label]].mean().plot(title='Trump Tweets By Topic', linewidth=2)"
   ]
  },
  {
   "cell_type": "markdown",
   "metadata": {},
   "source": [
    "**Topic 18** Fake News"
   ]
  },
  {
   "cell_type": "markdown",
   "metadata": {},
   "source": [
    "For every month of Trump tweets, plot the average probability of Topic 18 \"news fake media story\""
   ]
  },
  {
   "cell_type": "code",
   "execution_count": 274,
   "metadata": {},
   "outputs": [
    {
     "data": {
      "text/plain": [
       "<matplotlib.axes._subplots.AxesSubplot at 0x1a6a29fad0>"
      ]
     },
     "execution_count": 274,
     "metadata": {},
     "output_type": "execute_result"
    },
    {
     "data": {
      "image/png": "[encoded data removed]",
      "text/plain": [
       "<Figure size 432x288 with 1 Axes>"
      ]
     },
     "metadata": {},
     "output_type": "display_data"
    }
   ],
   "source": [
    "topic_number = 18\n",
    "\n",
    "topic_label = \" \".join(topics[topic_number][:4])\n",
    "\n",
    "trump_df.groupby(trump_df.index)[[topic_label]].mean().plot(title='Trump Tweets By Topic', linewidth=2)"
   ]
  },
  {
   "cell_type": "markdown",
   "metadata": {},
   "source": [
    "**Topic 9** Border Wall"
   ]
  },
  {
   "cell_type": "markdown",
   "metadata": {},
   "source": [
    "For every month of Trump tweets, plot the average probability of Topic 9 \"border wall security country\""
   ]
  },
  {
   "cell_type": "code",
   "execution_count": 306,
   "metadata": {},
   "outputs": [
    {
     "data": {
      "text/plain": [
       "<matplotlib.axes._subplots.AxesSubplot at 0x1a6eac2090>"
      ]
     },
     "execution_count": 306,
     "metadata": {},
     "output_type": "execute_result"
    },
    {
     "data": {
      "image/png": "[encoded data removed]",
      "text/plain": [
       "<Figure size 432x288 with 1 Axes>"
      ]
     },
     "metadata": {},
     "output_type": "display_data"
    }
   ],
   "source": [
    "topic_number = 9\n",
    "\n",
    "topic_label = \" \".join(topics[topic_number][:4])\n",
    "\n",
    "trump_df.groupby(trump_df.index)[[topic_label]].mean().plot(title='Trump Tweets By Topic', linewidth=2)"
   ]
  },
  {
   "cell_type": "markdown",
   "metadata": {},
   "source": [
    "**Topic 19** Make America Great Again"
   ]
  },
  {
   "cell_type": "markdown",
   "metadata": {},
   "source": [
    "For every month of Trump tweets, plot the average probability of Topic 19 \"great america make https\""
   ]
  },
  {
   "cell_type": "code",
   "execution_count": 280,
   "metadata": {},
   "outputs": [
    {
     "data": {
      "text/plain": [
       "<matplotlib.axes._subplots.AxesSubplot at 0x1a6a68c210>"
      ]
     },
     "execution_count": 280,
     "metadata": {},
     "output_type": "execute_result"
    },
    {
     "data": {
      "image/png": "[encoded data removed]",
      "text/plain": [
       "<Figure size 432x288 with 1 Axes>"
      ]
     },
     "metadata": {},
     "output_type": "display_data"
    }
   ],
   "source": [
    "topic_number = 19\n",
    "\n",
    "topic_label = \" \".join(topics[topic_number][:4])\n",
    "\n",
    "trump_df.groupby(trump_df.index)[[topic_label]].mean().plot(title='Trump Tweets By Topic', linewidth=2)"
   ]
  },
  {
   "cell_type": "markdown",
   "metadata": {},
   "source": [
    "**Topic 13** The Apprentice"
   ]
  },
  {
   "cell_type": "markdown",
   "metadata": {},
   "source": [
    "For every month of Trump tweets, plot the average probability of Topic 13 \"last night celebapprentice http\""
   ]
  },
  {
   "cell_type": "code",
   "execution_count": 307,
   "metadata": {},
   "outputs": [
    {
     "data": {
      "text/plain": [
       "<matplotlib.axes._subplots.AxesSubplot at 0x1a6c612410>"
      ]
     },
     "execution_count": 307,
     "metadata": {},
     "output_type": "execute_result"
    },
    {
     "data": {
      "image/png": "[encoded data removed]",
      "text/plain": [
       "<Figure size 432x288 with 1 Axes>"
      ]
     },
     "metadata": {},
     "output_type": "display_data"
    }
   ],
   "source": [
    "topic_number = 13\n",
    "\n",
    "topic_label = \" \".join(topics[topic_number][:4])\n",
    "\n",
    "trump_df.groupby(trump_df.index)[[topic_label]].mean().plot(title='Trump Tweets By Topic', linewidth=2)"
   ]
  }
 ],
 "metadata": {
  "kernelspec": {
   "display_name": "Python 3",
   "language": "python",
   "name": "python3"
  },
  "language_info": {
   "codemirror_mode": {
    "name": "ipython",
    "version": 3
   },
   "file_extension": ".py",
   "mimetype": "text/x-python",
   "name": "python",
   "nbconvert_exporter": "python",
   "pygments_lexer": "ipython3",
   "version": "3.7.5"
  }
 },
 "nbformat": 4,
 "nbformat_minor": 4
}
