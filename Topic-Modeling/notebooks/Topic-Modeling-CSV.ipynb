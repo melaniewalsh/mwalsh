{
 "cells": [
  {
   "cell_type": "markdown",
   "metadata": {},
   "source": [
    "# Topic Modeling — CSV Files"
   ]
  },
  {
   "cell_type": "markdown",
   "metadata": {},
   "source": [
    "[Download relevant files here](https://melaniewalsh.org/Topic-Modeling.zip)"
   ]
  },
  {
   "cell_type": "markdown",
   "metadata": {},
   "source": [
    "<img src=\"https://pngimg.com/uploads/palette/palette_PNG68293.png\">"
   ]
  },
  {
   "cell_type": "markdown",
   "metadata": {},
   "source": [
    "In these lessons, we're learning about a text analysis method called **topic modeling**. This method will help us identify the main topics or discourses within a collection of texts (or within a single text that has been separated into smaller text chunks)."
   ]
  },
  {
   "cell_type": "markdown",
   "metadata": {},
   "source": [
    "In this particular lesson, we're going to use [Little MALLET Wrapper](https://github.com/maria-antoniak/little-mallet-wrapper), a Python wrapper for [MALLET](http://mallet.cs.umass.edu/topics.php), to topic model a CSV file with 5,000 Reddit posts from the subreddit [r/AmITheAsshole](https://www.reddit.com/r/AmItheAsshole/). This is an online forum where people share their personal conflicts and ask the community to judge who's the a**hole in the story."
   ]
  },
  {
   "cell_type": "markdown",
   "metadata": {},
   "source": [
    "# What You Need To Get Started"
   ]
  },
  {
   "cell_type": "markdown",
   "metadata": {},
   "source": [
    "*If you're working in this Jupyter notebook on your own computer, you'll need to have both the Java Development Kit and MALLET pre-installed. For set up instructions, please see [the previous lesson](http://melaniewalsh.github.io/Intro-Cultural-Analytics/Text-Analysis/Topic-Modeling-Set-Up.html).\n",
    "\n",
    "*If you're working in this Jupyter notebook in the cloud via Binder, then the Java Development Kit and Mallet will already be installed. You're good to go!"
   ]
  },
  {
   "cell_type": "markdown",
   "metadata": {},
   "source": [
    "# Set MALLET Path"
   ]
  },
  {
   "cell_type": "markdown",
   "metadata": {},
   "source": [
    "Since Little MALLET Wrapper is a Python package built around MALLET, we first need to tell it where the bigger, Java-based MALLET lives.\n",
    "\n",
    "We're going to make a variable called `path_to_mallet` and assign it the file path of our MALLET program. We need to point it, specifically, to the \"mallet\" file inside the \"bin\" folder inside the \"mallet-2.0.8\" folder. "
   ]
  },
  {
   "cell_type": "markdown",
   "metadata": {},
   "source": [
    "Run the cell below if you're working in the cloud via Binder or if MALLET if is located in your current directory:"
   ]
  },
  {
   "cell_type": "code",
   "execution_count": null,
   "metadata": {},
   "outputs": [],
   "source": [
    "path_to_mallet = 'mallet-2.0.8/bin/mallet'"
   ]
  },
  {
   "cell_type": "markdown",
   "metadata": {},
   "source": [
    "Uncomment and run the cell below if MALLET is in your home directory on a Mac:"
   ]
  },
  {
   "cell_type": "code",
   "execution_count": 5,
   "metadata": {},
   "outputs": [],
   "source": [
    "#path_to_mallet = '~/mallet-2.0.8/bin/mallet' "
   ]
  },
  {
   "cell_type": "markdown",
   "metadata": {},
   "source": [
    "Uncomment and run the cell below if MALLET is in your C:/ directory on a Windows computer:"
   ]
  },
  {
   "cell_type": "code",
   "execution_count": 6,
   "metadata": {},
   "outputs": [],
   "source": [
    "#path_to_mallet = 'C:/mallet-2.0.8/bin/mallet'"
   ]
  },
  {
   "cell_type": "markdown",
   "metadata": {},
   "source": [
    "If MALLET is located in another directory, then set your `path_to_mallet` to that file path."
   ]
  },
  {
   "cell_type": "markdown",
   "metadata": {},
   "source": [
    "*Remember that \"uncomment\" means delete the initial `#`*"
   ]
  },
  {
   "cell_type": "markdown",
   "metadata": {},
   "source": [
    "*Remember that the tilde `~` automatically fills in your home directory on Mac/Linux machines*"
   ]
  },
  {
   "cell_type": "markdown",
   "metadata": {},
   "source": [
    "# Import Libraries"
   ]
  },
  {
   "cell_type": "code",
   "execution_count": 7,
   "metadata": {},
   "outputs": [],
   "source": [
    "#!pip install little_mallet_wrapper\n",
    "#!pip install seaborn"
   ]
  },
  {
   "cell_type": "markdown",
   "metadata": {},
   "source": [
    "Now let's `import` the `little_mallet_wrapper` and the data viz library `seaborn`."
   ]
  },
  {
   "cell_type": "code",
   "execution_count": 8,
   "metadata": {},
   "outputs": [],
   "source": [
    "import little_mallet_wrapper\n",
    "import seaborn"
   ]
  },
  {
   "cell_type": "markdown",
   "metadata": {},
   "source": [
    "We're also going to import the `random` module for generating random numbers; the `pandas` library for reading CSV data (we're also changing its default column width display setting); and  [`glob`](https://docs.python.org/3/library/glob.html) and [`pathlib`](https://docs.python.org/3/library/pathlib.html#basic-use) for working with files and the file system."
   ]
  },
  {
   "cell_type": "code",
   "execution_count": 9,
   "metadata": {},
   "outputs": [],
   "source": [
    "import random"
   ]
  },
  {
   "cell_type": "code",
   "execution_count": 10,
   "metadata": {},
   "outputs": [],
   "source": [
    "import pandas as pd\n",
    "pd.set_option(\"max_colwidth\", 500)"
   ]
  },
  {
   "cell_type": "code",
   "execution_count": 11,
   "metadata": {},
   "outputs": [],
   "source": [
    "import glob\n",
    "from pathlib import Path"
   ]
  },
  {
   "cell_type": "markdown",
   "metadata": {},
   "source": [
    "# Get Training Data From CSV File"
   ]
  },
  {
   "cell_type": "markdown",
   "metadata": {},
   "source": [
    "Before we topic model the Reddit posts, we need to process the posts and prepare them for analysis. The steps below demonstrate how to process texts if they come from a CSV file.\n",
    "\n",
    "Note: We're calling these text files our *training data*, because we're *training* our topic model with these texts. The topic model will be learning and extracting topics based on these texts."
   ]
  },
  {
   "cell_type": "markdown",
   "metadata": {},
   "source": [
    "## Reddit — Am I The Asshole?"
   ]
  },
  {
   "cell_type": "markdown",
   "metadata": {},
   "source": [
    "This dataset of Reddit posts is a sample of a larger dataset published by [Elle O'Brien](https://dvc.org/blog/a-public-reddit-dataset) and [Iterative](https://github.com/iterative/aita_dataset). To read in the CSV file, we're going to use Pandas."
   ]
  },
  {
   "cell_type": "code",
   "execution_count": 13,
   "metadata": {},
   "outputs": [],
   "source": [
    "reddit_df = pd.read_csv(\"../texts/social-media/reddit-aita-sample.csv\")"
   ]
  },
  {
   "cell_type": "code",
   "execution_count": 14,
   "metadata": {},
   "outputs": [
    {
     "data": {
      "text/html": [
       "<div>\n",
       "<style scoped>\n",
       "    .dataframe tbody tr th:only-of-type {\n",
       "        vertical-align: middle;\n",
       "    }\n",
       "\n",
       "    .dataframe tbody tr th {\n",
       "        vertical-align: top;\n",
       "    }\n",
       "\n",
       "    .dataframe thead th {\n",
       "        text-align: right;\n",
       "    }\n",
       "</style>\n",
       "<table border=\"1\" class=\"dataframe\">\n",
       "  <thead>\n",
       "    <tr style=\"text-align: right;\">\n",
       "      <th></th>\n",
       "      <th>id</th>\n",
       "      <th>date</th>\n",
       "      <th>title</th>\n",
       "      <th>body</th>\n",
       "      <th>edited</th>\n",
       "      <th>verdict</th>\n",
       "      <th>score</th>\n",
       "      <th>num_comments</th>\n",
       "      <th>is_asshole</th>\n",
       "    </tr>\n",
       "  </thead>\n",
       "  <tbody>\n",
       "    <tr>\n",
       "      <th>0</th>\n",
       "      <td>edvd64</td>\n",
       "      <td>2019-12-21</td>\n",
       "      <td>AITA if I stop talking to my best friend for choosing her bf over me</td>\n",
       "      <td>I have been best friends with this person for over 13 years and just recently she (23f) just started dating a guy who is 40 and is a yoga teacher/float guide, doesn’t have a stable job, doesn’t have a home, and travels a lot. They constantly break up with eachother because he has dreams that she is cheating on him with a girl and she doesn’t want to acknowledge her identity. He thinks she is going to cheat on him with ME. My best friend has identified as being bisexual however I am in a very...</td>\n",
       "      <td>False</td>\n",
       "      <td>not the asshole</td>\n",
       "      <td>5</td>\n",
       "      <td>9.0</td>\n",
       "      <td>0</td>\n",
       "    </tr>\n",
       "    <tr>\n",
       "      <th>1</th>\n",
       "      <td>dk3p0w</td>\n",
       "      <td>2019-10-19</td>\n",
       "      <td>AITA for calling the police on my neighbors son?</td>\n",
       "      <td>I've recently noticed the garden near my fence looking a little different - trees suddenly missing branches, shrubbery looking a lot smaller, certain plants looking damaged. At first I thought I was imagining things, but over time I realized there was absolutely a difference and it was only getting worse. I wasn't sure what exactly could be causing it, and at first I assumed it could be animals until I actually got in there and started inspecting things. When I did that, I noticed it was as ...</td>\n",
       "      <td>1571492660.0</td>\n",
       "      <td>not the asshole</td>\n",
       "      <td>8</td>\n",
       "      <td>67.0</td>\n",
       "      <td>0</td>\n",
       "    </tr>\n",
       "    <tr>\n",
       "      <th>2</th>\n",
       "      <td>aibiat</td>\n",
       "      <td>2019-01-21</td>\n",
       "      <td>AITA for having a half-day off on Dr. MLK Jr. Day?</td>\n",
       "      <td>I work full-time in a blue collar profession. I also am a full-time biology student.\\n\\nAt the start of this school semester when asked what my schedule will be for school and what I needed off I texted my boss back this:\\n\\n\"All I need off is the mornings of Mon and Tues . . . will need to come in at 12 those days.\"\\n\\nHer reply was this:\\n\\n\"Ok.  so you will work everyday just come in at 12 on Mon and Tues . . . got it\"\\n\\nThis has worked since the start of the semester.\\n\\nFast forward to...</td>\n",
       "      <td>1548096430.0</td>\n",
       "      <td>not the asshole</td>\n",
       "      <td>6</td>\n",
       "      <td>33.0</td>\n",
       "      <td>0</td>\n",
       "    </tr>\n",
       "    <tr>\n",
       "      <th>3</th>\n",
       "      <td>esrb1g</td>\n",
       "      <td>2020-01-23</td>\n",
       "      <td>AITA for \"stealing\" a hamster from someone who didn't look after it</td>\n",
       "      <td>AITA for stealing a hamster from someone who neglects/mistreats it. I had a friend (loosely using the term) who since I've gotten to know them more is a bit of a twat. Little hammer wasn't abused persay but the little dude wasn't being properly cleaned out, wasn't being fed properly and my 'friend' teased him by dropping food pellets on him, bedding and just generally agitating him. I agonised over it for a bit before deciding to rescue the lad and walked out of my friend's place with the ca...</td>\n",
       "      <td>1579776211.0</td>\n",
       "      <td>asshole</td>\n",
       "      <td>63</td>\n",
       "      <td>65.0</td>\n",
       "      <td>1</td>\n",
       "    </tr>\n",
       "    <tr>\n",
       "      <th>4</th>\n",
       "      <td>cz27cm</td>\n",
       "      <td>2019-09-03</td>\n",
       "      <td>AITA for talking to my sisters husband (who is currently incarcerated) regularly?</td>\n",
       "      <td>I feel as if I have gotten myself in quite a pickle here. Quick run down goes as follows. Sisters husband is in jail for hit and run (to make matters worse, he was also driving on a revoked license). Hitting someone’s motorcycle and drove off is what it entailed. \\n\\nNow, none of my family is speaking to him. My sister at the moment doesn’t want to deal with him (the reason he was driving on a revoked is due to DUI). From my understanding he has been clean for quite some time. \\n\\nBasically ...</td>\n",
       "      <td>False</td>\n",
       "      <td>asshole</td>\n",
       "      <td>1704</td>\n",
       "      <td>600.0</td>\n",
       "      <td>1</td>\n",
       "    </tr>\n",
       "  </tbody>\n",
       "</table>\n",
       "</div>"
      ],
      "text/plain": [
       "       id        date  \\\n",
       "0  edvd64  2019-12-21   \n",
       "1  dk3p0w  2019-10-19   \n",
       "2  aibiat  2019-01-21   \n",
       "3  esrb1g  2020-01-23   \n",
       "4  cz27cm  2019-09-03   \n",
       "\n",
       "                                                                               title  \\\n",
       "0               AITA if I stop talking to my best friend for choosing her bf over me   \n",
       "1                                   AITA for calling the police on my neighbors son?   \n",
       "2                                 AITA for having a half-day off on Dr. MLK Jr. Day?   \n",
       "3                AITA for \"stealing\" a hamster from someone who didn't look after it   \n",
       "4  AITA for talking to my sisters husband (who is currently incarcerated) regularly?   \n",
       "\n",
       "                                                                                                                                                                                                                                                                                                                                                                                                                                                                                                                  body  \\\n",
       "0  I have been best friends with this person for over 13 years and just recently she (23f) just started dating a guy who is 40 and is a yoga teacher/float guide, doesn’t have a stable job, doesn’t have a home, and travels a lot. They constantly break up with eachother because he has dreams that she is cheating on him with a girl and she doesn’t want to acknowledge her identity. He thinks she is going to cheat on him with ME. My best friend has identified as being bisexual however I am in a very...   \n",
       "1  I've recently noticed the garden near my fence looking a little different - trees suddenly missing branches, shrubbery looking a lot smaller, certain plants looking damaged. At first I thought I was imagining things, but over time I realized there was absolutely a difference and it was only getting worse. I wasn't sure what exactly could be causing it, and at first I assumed it could be animals until I actually got in there and started inspecting things. When I did that, I noticed it was as ...   \n",
       "2  I work full-time in a blue collar profession. I also am a full-time biology student.\\n\\nAt the start of this school semester when asked what my schedule will be for school and what I needed off I texted my boss back this:\\n\\n\"All I need off is the mornings of Mon and Tues . . . will need to come in at 12 those days.\"\\n\\nHer reply was this:\\n\\n\"Ok.  so you will work everyday just come in at 12 on Mon and Tues . . . got it\"\\n\\nThis has worked since the start of the semester.\\n\\nFast forward to...   \n",
       "3  AITA for stealing a hamster from someone who neglects/mistreats it. I had a friend (loosely using the term) who since I've gotten to know them more is a bit of a twat. Little hammer wasn't abused persay but the little dude wasn't being properly cleaned out, wasn't being fed properly and my 'friend' teased him by dropping food pellets on him, bedding and just generally agitating him. I agonised over it for a bit before deciding to rescue the lad and walked out of my friend's place with the ca...   \n",
       "4  I feel as if I have gotten myself in quite a pickle here. Quick run down goes as follows. Sisters husband is in jail for hit and run (to make matters worse, he was also driving on a revoked license). Hitting someone’s motorcycle and drove off is what it entailed. \\n\\nNow, none of my family is speaking to him. My sister at the moment doesn’t want to deal with him (the reason he was driving on a revoked is due to DUI). From my understanding he has been clean for quite some time. \\n\\nBasically ...   \n",
       "\n",
       "         edited          verdict  score  num_comments  is_asshole  \n",
       "0         False  not the asshole      5           9.0           0  \n",
       "1  1571492660.0  not the asshole      8          67.0           0  \n",
       "2  1548096430.0  not the asshole      6          33.0           0  \n",
       "3  1579776211.0          asshole     63          65.0           1  \n",
       "4         False          asshole   1704         600.0           1  "
      ]
     },
     "execution_count": 14,
     "metadata": {},
     "output_type": "execute_result"
    }
   ],
   "source": [
    "reddit_df.head()"
   ]
  },
  {
   "cell_type": "code",
   "execution_count": 15,
   "metadata": {},
   "outputs": [],
   "source": [
    "reddit_df['body'] = reddit_df['body'].astype(str)"
   ]
  },
  {
   "cell_type": "markdown",
   "metadata": {},
   "source": [
    "### Process Reddit Posts"
   ]
  },
  {
   "cell_type": "markdown",
   "metadata": {},
   "source": [
    "`little_mallet_wrapper.process_string(text, numbers='remove')`"
   ]
  },
  {
   "cell_type": "markdown",
   "metadata": {},
   "source": [
    "Next we're going to process our texts with the function `little_mallet_wrapper.process_string()`. This function will take every individual post, transform all the text to lowercase as well as remove stopwords, punctuation, and numbers, and then add the processed text to our master list `training_data`."
   ]
  },
  {
   "cell_type": "code",
   "execution_count": 16,
   "metadata": {},
   "outputs": [],
   "source": [
    "training_data = [little_mallet_wrapper.process_string(text, numbers='remove') for text in reddit_df['body']]"
   ]
  },
  {
   "cell_type": "code",
   "execution_count": 17,
   "metadata": {},
   "outputs": [],
   "source": [
    "original_texts = [text for text in reddit_df['body']]"
   ]
  },
  {
   "cell_type": "markdown",
   "metadata": {},
   "source": [
    "### Process Reddit Post Titles"
   ]
  },
  {
   "cell_type": "markdown",
   "metadata": {},
   "source": [
    "We're also going to extract the file name for each Reddit post."
   ]
  },
  {
   "cell_type": "code",
   "execution_count": 18,
   "metadata": {},
   "outputs": [],
   "source": [
    "reddit_titles = [title for title in reddit_df['title']]"
   ]
  },
  {
   "cell_type": "markdown",
   "metadata": {},
   "source": [
    "### Get Dataset Statistics"
   ]
  },
  {
   "cell_type": "markdown",
   "metadata": {},
   "source": [
    "We can get training data summary statisitcs by using the funciton `little_mallet_wrapper.print_dataset_stats()`."
   ]
  },
  {
   "cell_type": "code",
   "execution_count": 19,
   "metadata": {},
   "outputs": [
    {
     "name": "stdout",
     "output_type": "stream",
     "text": [
      "Number of Documents: 5000\n",
      "Mean Number of Words: 148.1\n",
      "Vocabulary Size: 22854\n"
     ]
    }
   ],
   "source": [
    "little_mallet_wrapper.print_dataset_stats(training_data)"
   ]
  },
  {
   "cell_type": "markdown",
   "metadata": {},
   "source": [
    "# Training the Topic Model"
   ]
  },
  {
   "cell_type": "markdown",
   "metadata": {},
   "source": [
    "`little_mallet_wrapper.train_topic_model(path_to_mallet,\n",
    "                      path_to_formatted_training_data,\n",
    "                      path_to_model,\n",
    "                      path_to_topic_keys,\n",
    "                      path_to_topic_distributions,\n",
    "                      num_topics)`"
   ]
  },
  {
   "cell_type": "markdown",
   "metadata": {},
   "source": [
    "We're going to train our topic model with the `little_mallet_wrapper.train_topic_model()` function. As you can see above, however, this function requires 6 different arguments and file paths to run properly:\n",
    "\n",
    "- `path_to_mallet`\n",
    "- `path_to_formatted_training_data`\n",
    "- `path_to_model`\n",
    "- `path_to_topic_keys`\n",
    "- `path_to_topic_distributions`\n",
    "- `num_topics`\n",
    "\n",
    "So we have to set a few things up first."
   ]
  },
  {
   "cell_type": "markdown",
   "metadata": {},
   "source": [
    "## Set Number of Topics"
   ]
  },
  {
   "cell_type": "markdown",
   "metadata": {},
   "source": [
    "We need to make a variable `num_topics` and assign it the number of topics we want returned."
   ]
  },
  {
   "cell_type": "code",
   "execution_count": 20,
   "metadata": {},
   "outputs": [],
   "source": [
    "num_topics = 15"
   ]
  },
  {
   "cell_type": "markdown",
   "metadata": {},
   "source": [
    "## Set Training Data"
   ]
  },
  {
   "cell_type": "markdown",
   "metadata": {},
   "source": [
    "We already made a variable called `training_data`, which includes all of our processed Reddit post texts, so we can just set it equal to itself."
   ]
  },
  {
   "cell_type": "code",
   "execution_count": 21,
   "metadata": {},
   "outputs": [],
   "source": [
    "training_data = training_data"
   ]
  },
  {
   "cell_type": "markdown",
   "metadata": {},
   "source": [
    "## Set Other MALLET File Paths"
   ]
  },
  {
   "cell_type": "markdown",
   "metadata": {},
   "source": [
    "Then we're going to set a file path where we want all our MALLET topic modeling data to be dumped. I'm going to output everything onto my Desktop inside a folder called \"topic-model-output\" and a subfolder specific to the Reddit posts called \"Reddit.\"\n",
    "\n",
    "All the other necessary variables below `output_directory_path` will be automatically created inside this directory."
   ]
  },
  {
   "cell_type": "code",
   "execution_count": 22,
   "metadata": {},
   "outputs": [],
   "source": [
    "#Change to your desired output directory\n",
    "output_directory_path = 'topic-model-output/reddit'\n",
    "\n",
    "#No need to change anything below here\n",
    "Path(f\"{output_directory_path}\").mkdir(parents=True, exist_ok=True)\n",
    "\n",
    "path_to_training_data           = f\"{output_directory_path}/training.txt\"\n",
    "path_to_formatted_training_data = f\"{output_directory_path}/mallet.training\"\n",
    "path_to_model                   = f\"{output_directory_path}/mallet.model.{str(num_topics)}\"\n",
    "path_to_topic_keys              = f\"{output_directory_path}/mallet.topic_keys.{str(num_topics)}\"\n",
    "path_to_topic_distributions     = f\"{output_directory_path}/mallet.topic_distributions.{str(num_topics)}\""
   ]
  },
  {
   "cell_type": "markdown",
   "metadata": {},
   "source": [
    "## Import Data"
   ]
  },
  {
   "cell_type": "markdown",
   "metadata": {},
   "source": [
    "We're going to import the data with `little_mallet_wrapper.import_data()`."
   ]
  },
  {
   "cell_type": "code",
   "execution_count": 23,
   "metadata": {},
   "outputs": [
    {
     "name": "stdout",
     "output_type": "stream",
     "text": [
      "Importing data...\n",
      "Complete\n"
     ]
    }
   ],
   "source": [
    "little_mallet_wrapper.import_data(path_to_mallet,\n",
    "                path_to_training_data,\n",
    "                path_to_formatted_training_data,\n",
    "                training_data)"
   ]
  },
  {
   "cell_type": "markdown",
   "metadata": {},
   "source": [
    "## Train Topic Model"
   ]
  },
  {
   "cell_type": "markdown",
   "metadata": {},
   "source": [
    "Then we're going to train our topic model with `little_mallet_wrapper.train_topic_model()`. The topic model should take about 1-1.5 minutes to train and complete. If you want it, you can look at your Terminal or PowerShell and see what the model looks like as it's training."
   ]
  },
  {
   "cell_type": "code",
   "execution_count": 25,
   "metadata": {},
   "outputs": [
    {
     "name": "stdout",
     "output_type": "stream",
     "text": [
      "Training topic model...\n",
      "Complete\n"
     ]
    }
   ],
   "source": [
    "little_mallet_wrapper.train_topic_model(path_to_mallet,\n",
    "                      path_to_formatted_training_data,\n",
    "                      path_to_model,\n",
    "                      path_to_topic_keys,\n",
    "                      path_to_topic_distributions,\n",
    "                      num_topics)"
   ]
  },
  {
   "cell_type": "markdown",
   "metadata": {},
   "source": [
    "# Display Topics and Top Words"
   ]
  },
  {
   "cell_type": "markdown",
   "metadata": {},
   "source": [
    "To examine the 15 topics that the topic model extracted from the Reddit posts, run the cell below. This code uses the `little_mallet_wrapper.load_topic_keys()` function to read and process the MALLET topic model output from your computer, specifically the file \"mallet.topic_keys.15\"."
   ]
  },
  {
   "cell_type": "code",
   "execution_count": 27,
   "metadata": {},
   "outputs": [
    {
     "name": "stdout",
     "output_type": "stream",
     "text": [
      "✨Topic 0✨\n",
      "\n",
      "['said', 'didn', 'told', 'friend', 'got', 'friends', 'asked', 'back', 'went', 'would', 'wanted', 'later', 'saying', 'call', 'one', 'wasn', 'could', 'thought', 'came', 'still']\n",
      "\n",
      "✨Topic 1✨\n",
      "\n",
      "['play', 'like', 'dont', 'playing', 'game', 'said', 'games', 'people', 'one', 'didnt', 'around', 'time', 'started', 'back', 'get', 'show', 'music', 'friends', 'got', 'movie']\n",
      "\n",
      "✨Topic 2✨\n",
      "\n",
      "['school', 'help', 'would', 'years', 'feel', 'life', 'also', 'still', 'even', 'time', 'get', 'started', 'issues', 'could', 'much', 'year', 'going', 'since', 'bad', 'high']\n",
      "\n",
      "✨Topic 3✨\n",
      "\n",
      "['work', 'job', 'one', 'class', 'people', 'told', 'company', 'know', 'boss', 'working', 'manager', 'would', 'office', 'new', 'everyone', 'well', 'school', 'teacher', 'business', 'worked']\n",
      "\n",
      "✨Topic 4✨\n",
      "\n",
      "['car', 'back', 'get', 'front', 'minutes', 'guy', 'went', 'people', 'right', 'way', 'away', 'walk', 'drive', 'around', 'one', 'aita', 'driving', 'see', 'store', 'walking']\n",
      "\n",
      "✨Topic 5✨\n",
      "\n",
      "['room', 'house', 'apartment', 'roommate', 'home', 'clean', 'bed', 'sleep', 'living', 'door', 'live', 'one', 'move', 'moved', 'place', 'bathroom', 'night', 'use', 'stuff', 'time']\n",
      "\n",
      "✨Topic 6✨\n",
      "\n",
      "['family', 'wedding', 'party', 'want', 'birthday', 'would', 'going', 'one', 'year', 'people', 'christmas', 'friends', 'trip', 'everyone', 'get', 'invited', 'married', 'make', 'know', 'even']\n",
      "\n",
      "✨Topic 7✨\n",
      "\n",
      "['money', 'pay', 'would', 'get', 'job', 'paid', 'paying', 'buy', 'back', 'give', 'got', 'could', 'didn', 'bought', 'new', 'asked', 'like', 'help', 'told', 'use']\n",
      "\n",
      "✨Topic 8✨\n",
      "\n",
      "['like', 'said', 'think', 'people', 'really', 'thought', 'didn', 'something', 'know', 'asshole', 'say', 'name', 'pretty', 'look', 'one', 'wasn', 'first', 'girl', 'also', 'would']\n",
      "\n",
      "✨Topic 9✨\n",
      "\n",
      "['time', 'work', 'home', 'day', 'get', 'week', 'would', 'hours', 'said', 'going', 'days', 'night', 'take', 'back', 'come', 'got', 'last', 'really', 'since', 'didn']\n",
      "\n",
      "✨Topic 10✨\n",
      "\n",
      "['friends', 'friend', 'like', 'relationship', 'together', 'time', 'want', 'years', 'really', 'boyfriend', 'would', 'know', 'girlfriend', 'feel', 'best', 'one', 'since', 'never', 'dating', 'guy']\n",
      "\n",
      "✨Topic 11✨\n",
      "\n",
      "['food', 'eat', 'said', 'get', 'went', 'didn', 'dinner', 'drink', 'one', 'told', 'eating', 'got', 'like', 'restaurant', 'asked', 'make', 'table', 'order', 'made', 'want']\n",
      "\n",
      "✨Topic 12✨\n",
      "\n",
      "['like', 'feel', 'even', 'really', 'know', 'want', 'always', 'get', 'things', 'doesn', 'something', 'say', 'time', 'make', 'way', 'every', 'says', 'tell', 'talk', 'think']\n",
      "\n",
      "✨Topic 13✨\n",
      "\n",
      "['mom', 'sister', 'dad', 'family', 'mother', 'parents', 'kids', 'brother', 'wife', 'told', 'son', 'daughter', 'father', 'years', 'husband', 'would', 'never', 'child', 'house', 'old']\n",
      "\n",
      "✨Topic 14✨\n",
      "\n",
      "['dog', 'cat', 'dogs', 'house', 'would', 'take', 'get', 'home', 'one', 'neighbor', 'time', 'cats', 'care', 'want', 'outside', 'around', 'keep', 'neighbors', 'like', 'let']\n",
      "\n"
     ]
    }
   ],
   "source": [
    "topics = little_mallet_wrapper.load_topic_keys(path_to_topic_keys)\n",
    "\n",
    "for topic_number, topic in enumerate(topics):\n",
    "    print(f\"✨Topic {topic_number}✨\\n\\n{topic}\\n\")"
   ]
  },
  {
   "cell_type": "markdown",
   "metadata": {},
   "source": [
    "# Load Topic Distributions"
   ]
  },
  {
   "cell_type": "markdown",
   "metadata": {},
   "source": [
    "MALLET also calculates the likely mixture of these topics for every single Reddit post in the corpus. This mixture is really a probability distribution, that is, the probability that each topic exists in the document. We can use these probability distributions to examine which of the above topics are strongly associated with which specific posts.\n",
    "\n",
    "To get the topic distributions, we're going to use the `little_mallet_wrapper.load_topic_distributions()` function, which will read and process the MALLET topic model output, specifically the file \"mallet.topic_distributions.15\". "
   ]
  },
  {
   "cell_type": "code",
   "execution_count": 28,
   "metadata": {},
   "outputs": [],
   "source": [
    "topic_distributions = little_mallet_wrapper.load_topic_distributions(path_to_topic_distributions)"
   ]
  },
  {
   "cell_type": "code",
   "execution_count": 29,
   "metadata": {
    "scrolled": true,
    "tags": [
     "output_scroll"
    ]
   },
   "outputs": [
    {
     "data": {
      "text/plain": [
       "[0.14942528735632182,\n",
       " 0.0028735632183908046,\n",
       " 0.13218390804597702,\n",
       " 0.020114942528735632,\n",
       " 0.08045977011494253,\n",
       " 0.0028735632183908046,\n",
       " 0.011494252873563218,\n",
       " 0.0028735632183908046,\n",
       " 0.020114942528735632,\n",
       " 0.08908045977011494,\n",
       " 0.40804597701149425,\n",
       " 0.0028735632183908046,\n",
       " 0.05459770114942528,\n",
       " 0.020114942528735632,\n",
       " 0.0028735632183908046]"
      ]
     },
     "execution_count": 29,
     "metadata": {},
     "output_type": "execute_result"
    }
   ],
   "source": [
    "topic_distributions[0]"
   ]
  },
  {
   "cell_type": "markdown",
   "metadata": {},
   "source": [
    "It's a bit easier to understand if we pair these probabilities with the topics themselves. As you can see below, Topic 6 \"family wedding party want birthday would\" has a relatively high probability of existing in the Reddit post \"AITA for not attending holiday gatherings?\" `.124` while Topic 14 \"dog cats dog house would take\" has a relatively low probability `.006`."
   ]
  },
  {
   "cell_type": "code",
   "execution_count": 30,
   "metadata": {
    "scrolled": true,
    "tags": [
     "output_scroll"
    ]
   },
   "outputs": [
    {
     "name": "stdout",
     "output_type": "stream",
     "text": [
      "Topic Distributions for AITA for not attending holiday gatherings?\n",
      "\n",
      "✨Topic 0 ['said', 'didn', 'told', 'friend', 'got', 'friends'] ✨\n",
      "Probability: 0.153\n",
      "\n",
      "✨Topic 1 ['play', 'like', 'dont', 'playing', 'game', 'said'] ✨\n",
      "Probability: 0.001\n",
      "\n",
      "✨Topic 2 ['school', 'help', 'would', 'years', 'feel', 'life'] ✨\n",
      "Probability: 0.048\n",
      "\n",
      "✨Topic 3 ['work', 'job', 'one', 'class', 'people', 'told'] ✨\n",
      "Probability: 0.018\n",
      "\n",
      "✨Topic 4 ['car', 'back', 'get', 'front', 'minutes', 'guy'] ✨\n",
      "Probability: 0.023\n",
      "\n",
      "✨Topic 5 ['room', 'house', 'apartment', 'roommate', 'home', 'clean'] ✨\n",
      "Probability: 0.06\n",
      "\n",
      "✨Topic 6 ['family', 'wedding', 'party', 'want', 'birthday', 'would'] ✨\n",
      "Probability: 0.124\n",
      "\n",
      "✨Topic 7 ['money', 'pay', 'would', 'get', 'job', 'paid'] ✨\n",
      "Probability: 0.001\n",
      "\n",
      "✨Topic 8 ['like', 'said', 'think', 'people', 'really', 'thought'] ✨\n",
      "Probability: 0.001\n",
      "\n",
      "✨Topic 9 ['time', 'work', 'home', 'day', 'get', 'week'] ✨\n",
      "Probability: 0.305\n",
      "\n",
      "✨Topic 10 ['friends', 'friend', 'like', 'relationship', 'together', 'time'] ✨\n",
      "Probability: 0.069\n",
      "\n",
      "✨Topic 11 ['food', 'eat', 'said', 'get', 'went', 'didn'] ✨\n",
      "Probability: 0.027\n",
      "\n",
      "✨Topic 12 ['like', 'feel', 'even', 'really', 'know', 'want'] ✨\n",
      "Probability: 0.018\n",
      "\n",
      "✨Topic 13 ['mom', 'sister', 'dad', 'family', 'mother', 'parents'] ✨\n",
      "Probability: 0.145\n",
      "\n",
      "✨Topic 14 ['dog', 'cat', 'dogs', 'house', 'would', 'take'] ✨\n",
      "Probability: 0.006\n",
      "\n"
     ]
    }
   ],
   "source": [
    "reddit_post_to_check = \"AITA for not attending holiday gatherings?\"\n",
    "\n",
    "reddit_post_number = reddit_titles.index(reddit_post_to_check)\n",
    "\n",
    "print(f\"Topic Distributions for {reddit_titles[reddit_post_number]}\\n\")\n",
    "for topic_number, (topic, topic_distribution) in enumerate(zip(topics, topic_distributions[reddit_post_number])):\n",
    "    print(f\"✨Topic {topic_number} {topic[:6]} ✨\\nProbability: {round(topic_distribution, 3)}\\n\")"
   ]
  },
  {
   "cell_type": "markdown",
   "metadata": {},
   "source": [
    "# Explore Heatmap of Topics and Texts"
   ]
  },
  {
   "cell_type": "markdown",
   "metadata": {},
   "source": [
    "`little_mallet_wrapper.plot_categories_by_topics_heatmap(all_labels,\n",
    "                                      topic_distributions,\n",
    "                                      topics, \n",
    "                                      output_directory_path + '/categories_by_topics.pdf',\n",
    "                                      target_labels=target_labels,\n",
    "                                      dim= (10, 9)\n",
    "                                     )`"
   ]
  },
  {
   "cell_type": "markdown",
   "metadata": {},
   "source": [
    "We can visualize and compare these topic probability distributions with a heatmap by using the `little_mallet_wrapper.plot_categories_by_topics_heatmap()` function. This function requires six arguments and file paths:\n",
    "\n",
    "* `all_labels` all the labels for the texts in your collection \n",
    "* `topic_distributions` your list of topic distributions\n",
    "* `topics` your list of topics \n",
    "* `output_directory_path + '/categories_by_topics.pdf'` the file path where you want to save a PDF of the heatmap\n",
    "* `target_labels=target_labels` the sample of texts that you want to visualize \n",
    "* `dim= (10, 9)` the size or dimensions of the heatmap\n",
    "\n",
    "We have everything we need for the heatmap except for our list of `target_labels`, the sample of texts that we'd like to visualize and compare with the heatmap. Below we make our list of desired target labels."
   ]
  },
  {
   "cell_type": "code",
   "execution_count": 31,
   "metadata": {},
   "outputs": [],
   "source": [
    "target_labels = [\"AITA For putting a dog poop bag sidewalk and picking it up on my way home?\",\n",
    " \"AITA for telling my friend that she shouldn't get a tattoo?\",\n",
    " \"AITA for cutting off all contact with my dad?\",\n",
    " \"AITA for being upset/disappointed my bf went and worked out when we had arranged to go to the cinema for a date without letting me know he was going to be late?\",\n",
    " \"WIBTA if I refused to pay for half of the groceries when my boyfriend eats all of the things I get for myself?\",\n",
    " \"WIBTA if I got students from my school to sign a petition to have a teacher 'talked' too?\",\n",
    " \"AITA if I don't invite my aunt to my birthday\"]"
   ]
  },
  {
   "cell_type": "markdown",
   "metadata": {},
   "source": [
    "If you'd like to make a random list of target labels, you can uncomment and run the cell below."
   ]
  },
  {
   "cell_type": "code",
   "execution_count": 32,
   "metadata": {},
   "outputs": [],
   "source": [
    "#target_labels = random.sample(reddit_titles, 7)"
   ]
  },
  {
   "cell_type": "code",
   "execution_count": 33,
   "metadata": {},
   "outputs": [
    {
     "data": {
      "image/png": "[encoded data removed]",
      "text/plain": [
       "<Figure size 1800x576 with 2 Axes>"
      ]
     },
     "metadata": {
      "needs_background": "light"
     },
     "output_type": "display_data"
    }
   ],
   "source": [
    "little_mallet_wrapper.plot_categories_by_topics_heatmap(reddit_titles,\n",
    "                                      topic_distributions,\n",
    "                                      topics, \n",
    "                                      #output_directory_path + '/categories_by_topics.pdf',\n",
    "                                      target_labels=target_labels,\n",
    "                                      dim= (25, 8)\n",
    "                                     )"
   ]
  },
  {
   "cell_type": "markdown",
   "metadata": {},
   "source": [
    "# Display Top Titles Per Topic"
   ]
  },
  {
   "cell_type": "markdown",
   "metadata": {},
   "source": [
    "`little_mallet_wrapper.get_top_docs(training_data,\n",
    "                                    topic_distributions,\n",
    "                                    topic=topic_number,\n",
    "                                    n=number_of_documents)`"
   ]
  },
  {
   "cell_type": "markdown",
   "metadata": {},
   "source": [
    "We can also display the Reddit posts and titles that have the highest probability for every topic with the `little_mallet_wrapper.get_top_docs()` function."
   ]
  },
  {
   "cell_type": "code",
   "execution_count": 40,
   "metadata": {},
   "outputs": [],
   "source": [
    "training_data_reddit_titles = dict(zip(training_data, reddit_titles))\n",
    "training_data_original_text = dict(zip(training_data, original_texts))"
   ]
  },
  {
   "cell_type": "markdown",
   "metadata": {},
   "source": [
    "We'll make our own function `display_top_titles_per_topic()` that will display the top Reddit post titles for every topic. This function accepts a given `topic_number` as well as a desired `number_of_documents` to display."
   ]
  },
  {
   "cell_type": "code",
   "execution_count": 41,
   "metadata": {},
   "outputs": [],
   "source": [
    "def display_top_titles_per_topic(topic_number=0, number_of_documents=5):\n",
    "    \n",
    "    print(f\"✨Topic {topic_number}✨\\n\\n{topics[topic_number]}\\n\")\n",
    "\n",
    "    for probability, document in little_mallet_wrapper.get_top_docs(training_data, topic_distributions, topic_number, n=number_of_documents):\n",
    "        print(round(probability, 4), training_data_reddit_titles[document] + \"\\n\")\n",
    "    return"
   ]
  },
  {
   "cell_type": "markdown",
   "metadata": {},
   "source": [
    "**Topic 0**"
   ]
  },
  {
   "cell_type": "markdown",
   "metadata": {},
   "source": [
    "To display the top 5 Reddit post titles with the highest probability of containing Topic 0, we will run:"
   ]
  },
  {
   "cell_type": "code",
   "execution_count": 42,
   "metadata": {},
   "outputs": [
    {
     "name": "stdout",
     "output_type": "stream",
     "text": [
      "✨Topic 0✨\n",
      "\n",
      "['said', 'didn', 'told', 'friend', 'got', 'friends', 'asked', 'back', 'went', 'would', 'wanted', 'later', 'saying', 'call', 'one', 'wasn', 'could', 'thought', 'came', 'still']\n",
      "\n",
      "0.6461 AITA for not listening to a friend? [19M]\n",
      "\n",
      "0.6388 AITA for telling a classmate that my friends were accusing her behind her back of giving out my best friend's number to a stranger?\n",
      "\n",
      "0.637 AITA for going out with my gfs sister for her birthday ?\n",
      "\n",
      "0.6138 AITA for saying my friend was being childish?\n",
      "\n",
      "0.5978 AITA for not attending my friends wedding for how they treated a mutual friend?\n",
      "\n"
     ]
    }
   ],
   "source": [
    "display_top_titles_per_topic(topic_number=0, number_of_documents=5)"
   ]
  },
  {
   "cell_type": "markdown",
   "metadata": {},
   "source": [
    "**Topic 9**"
   ]
  },
  {
   "cell_type": "markdown",
   "metadata": {},
   "source": [
    "To display the top 5 Reddit post titles with the highest probability of containing Topic 9, we will run:"
   ]
  },
  {
   "cell_type": "code",
   "execution_count": 43,
   "metadata": {},
   "outputs": [
    {
     "name": "stdout",
     "output_type": "stream",
     "text": [
      "✨Topic 9✨\n",
      "\n",
      "['time', 'work', 'home', 'day', 'get', 'week', 'would', 'hours', 'said', 'going', 'days', 'night', 'take', 'back', 'come', 'got', 'last', 'really', 'since', 'didn']\n",
      "\n",
      "0.7216 AITA for not making my boyfriend breakfast?\n",
      "\n",
      "0.7129 WIBTA for going to the gym instead of spending that time with my child ?\n",
      "\n",
      "0.6537 AITA for wanting to sleep by myself?\n",
      "\n",
      "0.6468 AITA for wanting to stay home to do my homework than go to a Valentines dance with my girlfriend?\n",
      "\n",
      "0.6181 AITA for telling my SO when to come home from work?\n",
      "\n"
     ]
    }
   ],
   "source": [
    "display_top_titles_per_topic(topic_number=9, number_of_documents=5)"
   ]
  },
  {
   "cell_type": "markdown",
   "metadata": {},
   "source": [
    "**Topic 8**"
   ]
  },
  {
   "cell_type": "markdown",
   "metadata": {},
   "source": [
    "To display the top 7 Reddit posts with the highest probability of containing Topic 8, we will run:"
   ]
  },
  {
   "cell_type": "code",
   "execution_count": 44,
   "metadata": {},
   "outputs": [
    {
     "name": "stdout",
     "output_type": "stream",
     "text": [
      "✨Topic 8✨\n",
      "\n",
      "['like', 'said', 'think', 'people', 'really', 'thought', 'didn', 'something', 'know', 'asshole', 'say', 'name', 'pretty', 'look', 'one', 'wasn', 'first', 'girl', 'also', 'would']\n",
      "\n",
      "0.6111 AITA for telling my date she's not black and needs to stop pretending\n",
      "\n",
      "0.5867 AITA for pushing back about an image being racist?\n",
      "\n",
      "0.5774 AITA for making a joke about a black girl’s skin?\n",
      "\n",
      "0.5658 AITA for telling my skinny friend to stop calling herself curvy?\n",
      "\n",
      "0.5627 AITA for telling my Muslim friends if I were Muslim I wouldn’t name my kid Mohammed\n",
      "\n",
      "0.5584 AITA for saying asexual people don't have to \"come out\"?\n",
      "\n",
      "0.5556 AITA for calling my friend \"evil\" in a joking way??\n",
      "\n"
     ]
    }
   ],
   "source": [
    "display_top_titles_per_topic(topic_number=8, number_of_documents=7)"
   ]
  },
  {
   "cell_type": "markdown",
   "metadata": {},
   "source": [
    "# Display Topic Words in Context of Original Text"
   ]
  },
  {
   "cell_type": "markdown",
   "metadata": {},
   "source": [
    "Often it's useful to actually look at the document that has ranked highly for a given topic and puzzle out why it ranks so highly."
   ]
  },
  {
   "cell_type": "markdown",
   "metadata": {},
   "source": [
    "To display the original Reddit post texts that rank highly for a given topic, with the relevant topic words **bolded** for emphasis, we are going to make the function `display_bolded_topic_words_in_context()`.\n",
    "\n",
    "In the cell below, we're importing two special Jupyter notebook display modules, which will allow us to make the relevant topic words **bolded**, as well as the regular expressions library `re`, which will allow us to find and replace the correct words."
   ]
  },
  {
   "cell_type": "code",
   "execution_count": 45,
   "metadata": {
    "scrolled": true
   },
   "outputs": [],
   "source": [
    "from IPython.display import Markdown, display\n",
    "import re\n",
    "\n",
    "def display_bolded_topic_words_in_context(topic_number=3, number_of_documents=3, custom_words=None):\n",
    "\n",
    "    for probability, document in little_mallet_wrapper.get_top_docs(training_data, topic_distributions, topic_number, n=number_of_documents):\n",
    "        \n",
    "        print(f\"✨Topic {topic_number}✨\\n\\n{topics[topic_number]}\\n\")\n",
    "        \n",
    "        probability = f\"✨✨✨\\n\\n**{probability}**\"\n",
    "        reddit_title = f\"**{training_data_reddit_titles[document]}**\"\n",
    "        original_text = training_data_original_text[document]\n",
    "        topic_words = topics[topic_number]\n",
    "        topic_words = custom_words if custom_words != None else topic_words\n",
    "\n",
    "        for word in topic_words:\n",
    "            if word in original_text:\n",
    "                original_text = re.sub(f\"\\\\b{word}\\\\b\", f\"**{word}**\", original_text)\n",
    "\n",
    "        display(Markdown(probability)), display(Markdown(reddit_title)), display(Markdown(original_text))\n",
    "    return"
   ]
  },
  {
   "cell_type": "markdown",
   "metadata": {},
   "source": [
    "**Topic 3**"
   ]
  },
  {
   "cell_type": "markdown",
   "metadata": {},
   "source": [
    "To display the top 3 original Reddit posts with the highest probability of containing Topic 0 and with relevant topic words bolded, we will run:"
   ]
  },
  {
   "cell_type": "code",
   "execution_count": 46,
   "metadata": {
    "scrolled": true,
    "tags": [
     "output_scroll"
    ]
   },
   "outputs": [
    {
     "name": "stdout",
     "output_type": "stream",
     "text": [
      "✨Topic 3✨\n",
      "\n",
      "['work', 'job', 'one', 'class', 'people', 'told', 'company', 'know', 'boss', 'working', 'manager', 'would', 'office', 'new', 'everyone', 'well', 'school', 'teacher', 'business', 'worked']\n",
      "\n"
     ]
    },
    {
     "data": {
      "text/markdown": [
       "✨✨✨\n",
       "\n",
       "**0.6047619047619048**"
      ],
      "text/plain": [
       "<IPython.core.display.Markdown object>"
      ]
     },
     "metadata": {},
     "output_type": "display_data"
    },
    {
     "data": {
      "text/markdown": [
       "**AITA for terminating the employment of an immigrant which will lead to them being deported**"
      ],
      "text/plain": [
       "<IPython.core.display.Markdown object>"
      ]
     },
     "metadata": {},
     "output_type": "display_data"
    },
    {
     "data": {
      "text/markdown": [
       "I am on the board of a non profit in the US. An employee of ours is on a **work** visa and a condition of her visa is that she must remain employed full time doing the type of **work** our organization does. We have had numerous challenges with this employee which fall into the category of the employee not performing up to the standard expected and being unreceptive to feedback to improve performance. We ended up voting to terminate their employment in two months and informed the employee of this. Their termination will result in them being forced to leave the county along with their spouse and two kids. They **would** have to return to Mexico in about 3 months. It is highly unlikely the employee will be able to find other employment which **would** enable them do stay in the US given their visa conditions. So AITA for terminating this employee?"
      ],
      "text/plain": [
       "<IPython.core.display.Markdown object>"
      ]
     },
     "metadata": {},
     "output_type": "display_data"
    },
    {
     "name": "stdout",
     "output_type": "stream",
     "text": [
      "✨Topic 3✨\n",
      "\n",
      "['work', 'job', 'one', 'class', 'people', 'told', 'company', 'know', 'boss', 'working', 'manager', 'would', 'office', 'new', 'everyone', 'well', 'school', 'teacher', 'business', 'worked']\n",
      "\n"
     ]
    },
    {
     "data": {
      "text/markdown": [
       "✨✨✨\n",
       "\n",
       "**0.5690235690235691**"
      ],
      "text/plain": [
       "<IPython.core.display.Markdown object>"
      ]
     },
     "metadata": {},
     "output_type": "display_data"
    },
    {
     "data": {
      "text/markdown": [
       "**WIBTA if I asked for a higher wage when I’m forced to train new employees?**"
      ],
      "text/plain": [
       "<IPython.core.display.Markdown object>"
      ]
     },
     "metadata": {},
     "output_type": "display_data"
    },
    {
     "data": {
      "text/markdown": [
       "When I was hired at my current **job** management went over my responsibilities and there was no mention of me training **new** employees. About four months in I was asked to train a **new** hire because they had no **one** else during that time frame. I agreed, but what was expected of me was to spend 7+ hours having this employee shadow me while I’m interacting with customers, and then me shadow them, while going over a 70 page manual for four to five days. It’s very draining and doubles my workload, and I find I preform better while doing my **job** solo. I’ve been asked to train many more times now because my **boss** likes my training style, and now she prefers me to train every **new** hire, but I hate training. I found out from another coworker that my **boss** has scheduled me to train someone **new** next week, but I think I should be getting compensated for all the extra **work** I’m doing. WIBTA if I emailed my **boss** asking that if she wants me to continue training **new** employees that I **would** like a higher hourly wage or extra benefits? Or **would** I be damaging my reputation/relationship with my **boss** if I do this?"
      ],
      "text/plain": [
       "<IPython.core.display.Markdown object>"
      ]
     },
     "metadata": {},
     "output_type": "display_data"
    },
    {
     "name": "stdout",
     "output_type": "stream",
     "text": [
      "✨Topic 3✨\n",
      "\n",
      "['work', 'job', 'one', 'class', 'people', 'told', 'company', 'know', 'boss', 'working', 'manager', 'would', 'office', 'new', 'everyone', 'well', 'school', 'teacher', 'business', 'worked']\n",
      "\n"
     ]
    },
    {
     "data": {
      "text/markdown": [
       "✨✨✨\n",
       "\n",
       "**0.526797385620915**"
      ],
      "text/plain": [
       "<IPython.core.display.Markdown object>"
      ]
     },
     "metadata": {},
     "output_type": "display_data"
    },
    {
     "data": {
      "text/markdown": [
       "**AITA for going through a clearance interview and wasting the officer’s time when the job that requires a clearance was withdrawn?**"
      ],
      "text/plain": [
       "<IPython.core.display.Markdown object>"
      ]
     },
     "metadata": {},
     "output_type": "display_data"
    },
    {
     "data": {
      "text/markdown": [
       "Second post on this throwaway, again, small community and I am a federal employee.\n",
       "Back story:\n",
       "\n",
       "I was in the military from 2003 to 2014.  My original intentions were to make it a career, but I had some trouble in 2013, bad enough where I was interviewed by investigators. My commander also ordered me to do a mental health evaluation.  \n",
       "Based on the mental health eval, the commander recommended me for an admin discharge board because I was diagnosed with an adjustment disorder.  To fight this, I got two add’l evals (**one** off base, **one** on base) to prove this diagnoses wrong. It **worked** and the discharge board was cancelled.  But the commander wasn’t happy I proved him wrong, so he opted to take my clearance because “You revealed too much personal info with the investigators to be trusted.”  (I had high debt of $5K, I liked to drink, I like to flirt with women even though I’m married, I like to gamble, I had a roe with my direct supervisor over an eval rating, and I made comments about visiting a middle east country). \n",
       "\n",
       "At the end of 2013, I got an email stating I was selected to be Force Reduction in 2014...great!  \n",
       "\n",
       "In 2014, while my clearance was in the process to be revoked, I fought it with every ounce of energy I had, but I was forced out in Sept 2014.  I never received a formal notice that my clearance was revoked. \n",
       "\n",
       "Now here’s the catch-22 about clearances: If its is revoked while you are **working** for the gov’t, you can fight to get it back...but if you’re not **working** with the gov’t, you cannot.  You cannot apply for a clearance yourself because you don’t need it. And if you have a bad record, without a **job**, you cannot appeal it to anyone because you cannot appeal something you don’t need but Without a clearance, you cannot apply for certain jobs...you get the picture (I hope).\n",
       "\n",
       "Well, I applied for a federal **job** in Jan 2016 that doesn’t require a clearance and was hired on in July 2016.\n",
       "\n",
       "Fast Forward to July 2019, I am browsing for overseas federal jobs.  I found **one** in Asia.  The **job** looked promising and I was offered an initial offer in Nov 2019 with a firm offer if I get a clearance.  So, I start the process all over again for a clearance.  Then out of nowhere, I got an email that the **job** offer was withdrawn because it **would** take a long time to complete a clearance check.  HOWEVER, last week, a clearance officer contacted me to go over my application for a clearance and schedule an interview.  Granted I should’ve said that the **job** was withdrawn, but I thought...fuck it! Here’s my chance to finally clear my name!\n",
       "\n",
       "The interview was almost 3 hours long. My entire military history was reviewed, along with any discrepancies in my application.  I gave my entire point of views on everything. When it was over, The investigator said a decision will be made later on about granting me a clearance for my **new** **job**.  But again, the **job** offer was withdrawn and I don’t need the clearance, so am I an AH for wasting the investigator’s time and gov’t resources?"
      ],
      "text/plain": [
       "<IPython.core.display.Markdown object>"
      ]
     },
     "metadata": {},
     "output_type": "display_data"
    }
   ],
   "source": [
    "display_bolded_topic_words_in_context(topic_number=3, number_of_documents=3)"
   ]
  },
  {
   "cell_type": "markdown",
   "metadata": {},
   "source": [
    "**Topic 8**"
   ]
  },
  {
   "cell_type": "markdown",
   "metadata": {},
   "source": [
    "To display the top 3 original Reddit posts with the highest probability of containing Topic 8 and with relevant topic words bolded, we will run:"
   ]
  },
  {
   "cell_type": "code",
   "execution_count": 48,
   "metadata": {
    "scrolled": true,
    "tags": [
     "output_scroll"
    ]
   },
   "outputs": [
    {
     "name": "stdout",
     "output_type": "stream",
     "text": [
      "✨Topic 14✨\n",
      "\n",
      "['dog', 'cat', 'dogs', 'house', 'would', 'take', 'get', 'home', 'one', 'neighbor', 'time', 'cats', 'care', 'want', 'outside', 'around', 'keep', 'neighbors', 'like', 'let']\n",
      "\n"
     ]
    },
    {
     "data": {
      "text/markdown": [
       "✨✨✨\n",
       "\n",
       "**0.6618357487922705**"
      ],
      "text/plain": [
       "<IPython.core.display.Markdown object>"
      ]
     },
     "metadata": {},
     "output_type": "display_data"
    },
    {
     "data": {
      "text/markdown": [
       "**WIBTA if I took my neighbor's cat to a shelter?**"
      ],
      "text/plain": [
       "<IPython.core.display.Markdown object>"
      ]
     },
     "metadata": {},
     "output_type": "display_data"
    },
    {
     "data": {
      "text/markdown": [
       "My **neighbor** has a small scrawny **cat** that they got in the winter, it wasn't adopted from a shelter. She isn't spayed, doesn't have shots, and they don't **let** her inside. They kept her **outside** even as a kitten in the winter. I'll feed her when she looks **like** she hasn't eaten in a while.\n",
       "\n",
       "She hangs in my yard all day and doesn't look great. She's thin, has fleas, and has scabs all over her and **around** her eyes. She goes to the bathroom in my yard and it doesn't look **like** normal **cat** poop. She definitely isn't healthy. \n",
       "\n",
       "I have a **cat** of my own who goes **outside** when I'm **outside** and is inside the rest of the **time**. When my **cat** is out, my **neighbor**'s **cat** follows him **around** and they play. The issue is that I don't **want** my **cat** getting sick or getting fleas from her. I even put a flea collar on her, but that only lasted a couple of days before it was gone. \n",
       "\n",
       "I feel bad for her but I honestly don't **want** another **cat** (my **neighbors** wouldn't **care** if I took her in, I wouldn't be surprise if they **want** me to **take** her off their hands). I adopted my **cat** from a shelter, he's fixed, up to date on shots, & eats real good (read: spoiled). I don't **want** the responsibility of a second **cat**, **let** alone a sick **one**. I **want** to **take** her to a shelter so at least she'll be fed & indoors. WIBTA if I did this? My **neighbors** don't treat her as their own and they wouldn't miss her.\n",
       "\n",
       "Edit: I've told them where to **get** her spayed and shots for free but they're not interested. They have a small **dog** they **take** **care** of though."
      ],
      "text/plain": [
       "<IPython.core.display.Markdown object>"
      ]
     },
     "metadata": {},
     "output_type": "display_data"
    },
    {
     "name": "stdout",
     "output_type": "stream",
     "text": [
      "✨Topic 14✨\n",
      "\n",
      "['dog', 'cat', 'dogs', 'house', 'would', 'take', 'get', 'home', 'one', 'neighbor', 'time', 'cats', 'care', 'want', 'outside', 'around', 'keep', 'neighbors', 'like', 'let']\n",
      "\n"
     ]
    },
    {
     "data": {
      "text/markdown": [
       "✨✨✨\n",
       "\n",
       "**0.5708333333333333**"
      ],
      "text/plain": [
       "<IPython.core.display.Markdown object>"
      ]
     },
     "metadata": {},
     "output_type": "display_data"
    },
    {
     "data": {
      "text/markdown": [
       "**AITA for tying my neighbor’s dog to his door?**"
      ],
      "text/plain": [
       "<IPython.core.display.Markdown object>"
      ]
     },
     "metadata": {},
     "output_type": "display_data"
    },
    {
     "data": {
      "text/markdown": [
       "My **neighbors** got a new **dog**, a smart boarder collie type **dog** who is full size but very much still a puppy. We live on a small street in a rural setting, most **neighbors** have an acre, we have 3. The **neighbor** in question lives a few houses down. \n",
       "\n",
       "For the past week, this **dog** has run **around** on its own for several hours during the day. She’ll be at our place barking at our two **cats**, barking at the chicken coop and generally letting us know she’s there. We **like** letting our chickens out to scratch **around** the yard but can’t knowing she could be over. It’s important to add that another **neighbor** has a **dog** who is always roaming on its own and frequently in our yard, but he’s way more tame and doesn’t bother chickens or **cats** so we don’t mind at all. \n",
       "\n",
       "Anyway, this past weekend we tried each day to **take** the **dog** **home**. Both times we knocked but the **neighbor** didn’t answer. The second **time** we decided to try tying her to their door, but the string broke so that didn’t last a second. We left the string on their door and the **dog** hoping that **would** send a message. \n",
       "\n",
       "It did. My **neighbor** came over pretty angry that we did something “passive aggressive” instead of talking to him. He said he’ll **keep** the **dog** at his **house** since it’s a problem but “nobody told him.” Another **neighbor** told us that **dog** kept jumping on his daughter and was also a pain to him. The rope really was meant to **keep** the **dog** at his **house** but we also hoped it **would** send a message. Since the **neighbor** was nice but angry now I feel bad and am not sure, AITA?\n",
       "\n",
       "TL/DR: **neighbor**’s **dog** kept bothering our **cats**, chickens and us so we tried knocking but tied the **dog** to his door."
      ],
      "text/plain": [
       "<IPython.core.display.Markdown object>"
      ]
     },
     "metadata": {},
     "output_type": "display_data"
    },
    {
     "name": "stdout",
     "output_type": "stream",
     "text": [
      "✨Topic 14✨\n",
      "\n",
      "['dog', 'cat', 'dogs', 'house', 'would', 'take', 'get', 'home', 'one', 'neighbor', 'time', 'cats', 'care', 'want', 'outside', 'around', 'keep', 'neighbors', 'like', 'let']\n",
      "\n"
     ]
    },
    {
     "data": {
      "text/markdown": [
       "✨✨✨\n",
       "\n",
       "**0.5691056910569106**"
      ],
      "text/plain": [
       "<IPython.core.display.Markdown object>"
      ]
     },
     "metadata": {},
     "output_type": "display_data"
    },
    {
     "data": {
      "text/markdown": [
       "**AITA For running late at night (10pm-12am) and waking the neighbors due to their barking dogs?**"
      ],
      "text/plain": [
       "<IPython.core.display.Markdown object>"
      ]
     },
     "metadata": {},
     "output_type": "display_data"
    },
    {
     "data": {
      "text/markdown": [
       "When I run late at night in my neighborhood some of the houses I run past have **dogs** and they start barking at me from inside their **house** (supposedly disturbing their owners).  I run laps so I pass the same houses 5 or more times per night as I run. I've been asked to **take** a different route or not run so late. Is it my fault that their **dogs** bark at me? I usually have headphones on so I can't hear the **dogs**."
      ],
      "text/plain": [
       "<IPython.core.display.Markdown object>"
      ]
     },
     "metadata": {},
     "output_type": "display_data"
    }
   ],
   "source": [
    "display_bolded_topic_words_in_context(topic_number=14, number_of_documents=3)"
   ]
  }
 ],
 "metadata": {
  "kernelspec": {
   "display_name": "Python 3",
   "language": "python",
   "name": "python3"
  },
  "language_info": {
   "codemirror_mode": {
    "name": "ipython",
    "version": 3
   },
   "file_extension": ".py",
   "mimetype": "text/x-python",
   "name": "python",
   "nbconvert_exporter": "python",
   "pygments_lexer": "ipython3",
   "version": "3.7.5"
  }
 },
 "nbformat": 4,
 "nbformat_minor": 4
}
