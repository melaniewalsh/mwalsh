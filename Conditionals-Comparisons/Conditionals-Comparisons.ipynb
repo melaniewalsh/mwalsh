{
 "cells": [
  {
   "cell_type": "markdown",
   "metadata": {},
   "source": [
    "# Conditionals and Comparisons"
   ]
  },
  {
   "cell_type": "markdown",
   "metadata": {},
   "source": [
    "[Download this file and Bellevue Almshouse data (not necessary but optional to explore)](https://melaniewalsh.org/Comparisons-Conditionals.zip)"
   ]
  },
  {
   "cell_type": "markdown",
   "metadata": {},
   "source": [
    "| **Comparison Operator** | **Explanation**                                                                                   |\n",
    "|:-------------:|:---------------------------------------------------------------------------------------------------:|\n",
    "| `x == y `         | `True` if x is equal to y                                                                                |\n",
    "| `x != y `         | `True` if x is not equal to y                                               |\n",
    "| `x > y`       |  `True` if x is greater than y                                                        |\n",
    "| `x < y`       |   `True` if x is less than y  \n",
    "| `x >= y`       |   `True` if x is greater than or equal to y |\n",
    "| `x <= y`      | `True` if x is less than or equal to y`                                                                             |\n",
    "                                                                      |\n",
    "                                                            "
   ]
  },
  {
   "cell_type": "markdown",
   "metadata": {},
   "source": [
    "| **Logical Operator** | **Explanation**                                                                                   |\n",
    "|:-------------:|:---------------------------------------------------------------------------------------------------:|\n",
    "| `x and y`         | `True` if x and y are both True                                                                             |\n",
    "| `x or y`         | `True` if either x or y is True                                              |\n",
    "| `not x`       |  `True` if is x is not True                                                       |\n",
    "                                                            "
   ]
  },
  {
   "cell_type": "markdown",
   "metadata": {},
   "source": [
    "Last lesson, we talked about the four Python data types, which included Booleans or True/False statements. We discussed how if we make a variable called `beyonce` and assign it the value \"Grammy award-winner\"..."
   ]
  },
  {
   "cell_type": "code",
   "execution_count": 5,
   "metadata": {},
   "outputs": [],
   "source": [
    "beyonce = \"Grammy award-winner\""
   ]
  },
  {
   "cell_type": "markdown",
   "metadata": {},
   "source": [
    "...and then we evaluate that statement with the equals operator `==`..."
   ]
  },
  {
   "cell_type": "code",
   "execution_count": 6,
   "metadata": {},
   "outputs": [
    {
     "data": {
      "text/plain": [
       "True"
      ]
     },
     "execution_count": 6,
     "metadata": {},
     "output_type": "execute_result"
    }
   ],
   "source": [
    "beyonce == \"Grammy award-winner\""
   ]
  },
  {
   "cell_type": "code",
   "execution_count": 23,
   "metadata": {},
   "outputs": [
    {
     "data": {
      "text/plain": [
       "bool"
      ]
     },
     "execution_count": 23,
     "metadata": {},
     "output_type": "execute_result"
    }
   ],
   "source": [
    "type(beyonce == \"Grammy award-winner\")"
   ]
  },
  {
   "cell_type": "markdown",
   "metadata": {},
   "source": [
    "...the operator will return a Boolean, which will tell us whether the statement is True or False.\n",
    "\n",
    "Booleans may seem simple, but they're extremely powerful and function as the engine of a lot of code. They allow us to instruct the computer to do things based on different \"conditions.\""
   ]
  },
  {
   "cell_type": "markdown",
   "metadata": {},
   "source": [
    "# If Statement"
   ]
  },
  {
   "cell_type": "markdown",
   "metadata": {},
   "source": [
    "An `if` statement is an instruction to do something *if* a particular condition is met.\n",
    "\n",
    "A common conditional will consist of two lines. On the first line, you will type the English word `if` followed by an evaluation `beyonce == \"Grammy award-winner\"` and then a colon `:`. On the second line, you will indent (press `Tab`), then write an instruction to be completed if the condition is met, such as `print(\"Congratulations, Beyonce!\")`"
   ]
  },
  {
   "cell_type": "code",
   "execution_count": null,
   "metadata": {},
   "outputs": [],
   "source": [
    "beyonce = \"Grammy award-winner\""
   ]
  },
  {
   "cell_type": "code",
   "execution_count": 25,
   "metadata": {},
   "outputs": [
    {
     "name": "stdout",
     "output_type": "stream",
     "text": [
      "Congratulations, Beyonce!\n"
     ]
    }
   ],
   "source": [
    "if beyonce == \"Grammy award-winner\":\n",
    "    print(\"Congratulations, Beyonce!\")"
   ]
  },
  {
   "cell_type": "markdown",
   "metadata": {},
   "source": [
    "Python is picky about how you format `if` statements. Look what happens if we forget to tab over on the second line or if we forget the colon:"
   ]
  },
  {
   "cell_type": "code",
   "execution_count": 26,
   "metadata": {},
   "outputs": [
    {
     "ename": "IndentationError",
     "evalue": "expected an indented block (<ipython-input-26-d73728e9035a>, line 2)",
     "output_type": "error",
     "traceback": [
      "\u001b[0;36m  File \u001b[0;32m\"<ipython-input-26-d73728e9035a>\"\u001b[0;36m, line \u001b[0;32m2\u001b[0m\n\u001b[0;31m    print(\"Congratulations, Beyonce!\")\u001b[0m\n\u001b[0m        ^\u001b[0m\n\u001b[0;31mIndentationError\u001b[0m\u001b[0;31m:\u001b[0m expected an indented block\n"
     ]
    }
   ],
   "source": [
    "if beyonce == \"Grammy award-winner\":\n",
    "print(\"Congratulations, Beyonce!\")"
   ]
  },
  {
   "cell_type": "code",
   "execution_count": 38,
   "metadata": {},
   "outputs": [
    {
     "ename": "SyntaxError",
     "evalue": "invalid syntax (<ipython-input-38-4a91584b2aab>, line 1)",
     "output_type": "error",
     "traceback": [
      "\u001b[0;36m  File \u001b[0;32m\"<ipython-input-38-4a91584b2aab>\"\u001b[0;36m, line \u001b[0;32m1\u001b[0m\n\u001b[0;31m    if beyonce == \"Grammy award-winner\"\u001b[0m\n\u001b[0m                                       ^\u001b[0m\n\u001b[0;31mSyntaxError\u001b[0m\u001b[0;31m:\u001b[0m invalid syntax\n"
     ]
    }
   ],
   "source": [
    "if beyonce == \"Grammy award-winner\"\n",
    "    print(\"Congratulations, Beyonce!\")"
   ]
  },
  {
   "cell_type": "markdown",
   "metadata": {},
   "source": [
    "# Else Statement"
   ]
  },
  {
   "cell_type": "markdown",
   "metadata": {},
   "source": [
    "You can add even more complexity in a conditional by adding an `else` statement. This will instruct the program to do something in case the condition is not met. You put it after an `if` statement and format it the same way."
   ]
  },
  {
   "cell_type": "code",
   "execution_count": 39,
   "metadata": {},
   "outputs": [],
   "source": [
    "beyonce = \"not a Grammy award-winner this year\""
   ]
  },
  {
   "cell_type": "code",
   "execution_count": 40,
   "metadata": {},
   "outputs": [
    {
     "name": "stdout",
     "output_type": "stream",
     "text": [
      "They messed up, Beyonce.\n"
     ]
    }
   ],
   "source": [
    "if beyonce == \"Grammy award-winner\":\n",
    "    print(\"Congratulations, Beyonce!\")\n",
    "else:\n",
    "    print(\"They messed up, Beyonce.\")"
   ]
  },
  {
   "cell_type": "markdown",
   "metadata": {},
   "source": [
    "# Elif Statement"
   ]
  },
  {
   "cell_type": "markdown",
   "metadata": {},
   "source": [
    "Sometimes you want even more nuance to respond to slightly different conditions. For example, if Beyonce was nominated for a Grammy but didn't win, then we might want to express a slightly different sentiment than if she won or was not nominated at all. You can add in this nuance with an `elif` state or else if statement, which will evaluate the first `if` statement and then *if* that statement is not True, it will evaluate the `elif` statement."
   ]
  },
  {
   "cell_type": "code",
   "execution_count": 137,
   "metadata": {},
   "outputs": [],
   "source": [
    "beyonce = \"Grammy award-nominee\""
   ]
  },
  {
   "cell_type": "code",
   "execution_count": 138,
   "metadata": {},
   "outputs": [
    {
     "name": "stdout",
     "output_type": "stream",
     "text": [
      "Ok well at least they nominated you, Beyonce.\n"
     ]
    }
   ],
   "source": [
    "if beyonce == \"Grammy award-winner\":\n",
    "    print(\"Congratulations, Beyonce!\")\n",
    "elif beyonce == \"Grammy award-nominee\":\n",
    "    print(\"Ok well at least they nominated you, Beyonce.\")\n",
    "else:\n",
    "    print(\"They messed up, Beyonce.\")"
   ]
  },
  {
   "cell_type": "markdown",
   "metadata": {},
   "source": [
    "# Group Exercise / HW Assignment 3 (Part I)"
   ]
  },
  {
   "cell_type": "markdown",
   "metadata": {},
   "source": [
    "For this group exercise and HW assignment, we're going to draw on Anelise Shrout's [Bellevue Almshouse data](https://www.nyuirish.net/almshouse/the-almshouse-records/). Below I'm displaying the dataset with the Python library \"Pandas\" just so we can get a peek at it. We won't actually be working directly with this CSV file at the moment, and we'll talk about Pandas more in a few lessons."
   ]
  },
  {
   "cell_type": "code",
   "execution_count": 60,
   "metadata": {},
   "outputs": [
    {
     "data": {
      "text/html": [
       "<div>\n",
       "<style scoped>\n",
       "    .dataframe tbody tr th:only-of-type {\n",
       "        vertical-align: middle;\n",
       "    }\n",
       "\n",
       "    .dataframe tbody tr th {\n",
       "        vertical-align: top;\n",
       "    }\n",
       "\n",
       "    .dataframe thead th {\n",
       "        text-align: right;\n",
       "    }\n",
       "</style>\n",
       "<table border=\"1\" class=\"dataframe\">\n",
       "  <thead>\n",
       "    <tr style=\"text-align: right;\">\n",
       "      <th></th>\n",
       "      <th>date_in</th>\n",
       "      <th>first_name</th>\n",
       "      <th>last_name</th>\n",
       "      <th>age</th>\n",
       "      <th>disease</th>\n",
       "      <th>profession</th>\n",
       "      <th>gender</th>\n",
       "      <th>children</th>\n",
       "    </tr>\n",
       "  </thead>\n",
       "  <tbody>\n",
       "    <tr>\n",
       "      <th>0</th>\n",
       "      <td>1847-04-17</td>\n",
       "      <td>Mary</td>\n",
       "      <td>Gallagher</td>\n",
       "      <td>28.0</td>\n",
       "      <td>recent emigrant</td>\n",
       "      <td>married</td>\n",
       "      <td>f</td>\n",
       "      <td>Child Alana 10 days</td>\n",
       "    </tr>\n",
       "    <tr>\n",
       "      <th>1</th>\n",
       "      <td>1847-04-08</td>\n",
       "      <td>John</td>\n",
       "      <td>Sanin (?)</td>\n",
       "      <td>19.0</td>\n",
       "      <td>recent emigrant</td>\n",
       "      <td>laborer</td>\n",
       "      <td>m</td>\n",
       "      <td>Catherine 2 mo</td>\n",
       "    </tr>\n",
       "    <tr>\n",
       "      <th>2</th>\n",
       "      <td>1847-04-17</td>\n",
       "      <td>Anthony</td>\n",
       "      <td>Clark</td>\n",
       "      <td>60.0</td>\n",
       "      <td>recent emigrant</td>\n",
       "      <td>laborer</td>\n",
       "      <td>m</td>\n",
       "      <td>Charles Riley afed 10 days</td>\n",
       "    </tr>\n",
       "    <tr>\n",
       "      <th>3</th>\n",
       "      <td>1847-04-08</td>\n",
       "      <td>Lawrence</td>\n",
       "      <td>Feeney</td>\n",
       "      <td>32.0</td>\n",
       "      <td>recent emigrant</td>\n",
       "      <td>laborer</td>\n",
       "      <td>m</td>\n",
       "      <td>Child</td>\n",
       "    </tr>\n",
       "    <tr>\n",
       "      <th>4</th>\n",
       "      <td>1847-04-13</td>\n",
       "      <td>Henry</td>\n",
       "      <td>Joyce</td>\n",
       "      <td>21.0</td>\n",
       "      <td>recent emigrant</td>\n",
       "      <td>NaN</td>\n",
       "      <td>m</td>\n",
       "      <td>Child 1 mo</td>\n",
       "    </tr>\n",
       "    <tr>\n",
       "      <th>5</th>\n",
       "      <td>1847-04-14</td>\n",
       "      <td>Bridget</td>\n",
       "      <td>Hart</td>\n",
       "      <td>20.0</td>\n",
       "      <td>recent emigrant</td>\n",
       "      <td>spinster</td>\n",
       "      <td>f</td>\n",
       "      <td>Child</td>\n",
       "    </tr>\n",
       "    <tr>\n",
       "      <th>6</th>\n",
       "      <td>1847-04-14</td>\n",
       "      <td>Mary</td>\n",
       "      <td>Green</td>\n",
       "      <td>40.0</td>\n",
       "      <td>recent emigrant</td>\n",
       "      <td>spinster</td>\n",
       "      <td>f</td>\n",
       "      <td>And child 2 months</td>\n",
       "    </tr>\n",
       "    <tr>\n",
       "      <th>7</th>\n",
       "      <td>1847-04-19</td>\n",
       "      <td>Daniel</td>\n",
       "      <td>Loftus</td>\n",
       "      <td>27.0</td>\n",
       "      <td>destitution</td>\n",
       "      <td>laborer</td>\n",
       "      <td>m</td>\n",
       "      <td>NaN</td>\n",
       "    </tr>\n",
       "    <tr>\n",
       "      <th>8</th>\n",
       "      <td>1847-04-10</td>\n",
       "      <td>James</td>\n",
       "      <td>Day</td>\n",
       "      <td>35.0</td>\n",
       "      <td>recent emigrant</td>\n",
       "      <td>laborer</td>\n",
       "      <td>m</td>\n",
       "      <td>NaN</td>\n",
       "    </tr>\n",
       "    <tr>\n",
       "      <th>9</th>\n",
       "      <td>1847-04-10</td>\n",
       "      <td>Margaret</td>\n",
       "      <td>Farrell</td>\n",
       "      <td>30.0</td>\n",
       "      <td>recent emigrant</td>\n",
       "      <td>widow</td>\n",
       "      <td>f</td>\n",
       "      <td>NaN</td>\n",
       "    </tr>\n",
       "    <tr>\n",
       "      <th>10</th>\n",
       "      <td>1847-04-10</td>\n",
       "      <td>Bridget</td>\n",
       "      <td>Day</td>\n",
       "      <td>30.0</td>\n",
       "      <td>recent emigrant</td>\n",
       "      <td>married</td>\n",
       "      <td>f</td>\n",
       "      <td>NaN</td>\n",
       "    </tr>\n",
       "    <tr>\n",
       "      <th>11</th>\n",
       "      <td>1847-04-10</td>\n",
       "      <td>Anthony</td>\n",
       "      <td>Day</td>\n",
       "      <td>0.5</td>\n",
       "      <td>recent emigrant</td>\n",
       "      <td>NaN</td>\n",
       "      <td>m</td>\n",
       "      <td>NaN</td>\n",
       "    </tr>\n",
       "    <tr>\n",
       "      <th>12</th>\n",
       "      <td>1847-04-07</td>\n",
       "      <td>James</td>\n",
       "      <td>Collins</td>\n",
       "      <td>22.0</td>\n",
       "      <td>recent emigrant</td>\n",
       "      <td>laborer</td>\n",
       "      <td>m</td>\n",
       "      <td>NaN</td>\n",
       "    </tr>\n",
       "    <tr>\n",
       "      <th>13</th>\n",
       "      <td>1847-04-07</td>\n",
       "      <td>Thomas</td>\n",
       "      <td>Collins</td>\n",
       "      <td>21.0</td>\n",
       "      <td>recent emigrant</td>\n",
       "      <td>laborer</td>\n",
       "      <td>m</td>\n",
       "      <td>NaN</td>\n",
       "    </tr>\n",
       "    <tr>\n",
       "      <th>14</th>\n",
       "      <td>1847-04-07</td>\n",
       "      <td>Pat</td>\n",
       "      <td>Whalen</td>\n",
       "      <td>25.0</td>\n",
       "      <td>recent emigrant</td>\n",
       "      <td>laborer</td>\n",
       "      <td>m</td>\n",
       "      <td>NaN</td>\n",
       "    </tr>\n",
       "    <tr>\n",
       "      <th>15</th>\n",
       "      <td>1847-04-17</td>\n",
       "      <td>Dan</td>\n",
       "      <td>Delany</td>\n",
       "      <td>10.0</td>\n",
       "      <td>typhus</td>\n",
       "      <td>NaN</td>\n",
       "      <td>m</td>\n",
       "      <td>NaN</td>\n",
       "    </tr>\n",
       "    <tr>\n",
       "      <th>16</th>\n",
       "      <td>1847-04-09</td>\n",
       "      <td>Catherine</td>\n",
       "      <td>O'Harra</td>\n",
       "      <td>23.0</td>\n",
       "      <td>recent emigrant</td>\n",
       "      <td>married</td>\n",
       "      <td>f</td>\n",
       "      <td>NaN</td>\n",
       "    </tr>\n",
       "    <tr>\n",
       "      <th>17</th>\n",
       "      <td>1847-04-09</td>\n",
       "      <td>Damiel</td>\n",
       "      <td>O'Harra</td>\n",
       "      <td>25.0</td>\n",
       "      <td>recent emigrant</td>\n",
       "      <td>laborer</td>\n",
       "      <td>m</td>\n",
       "      <td>NaN</td>\n",
       "    </tr>\n",
       "    <tr>\n",
       "      <th>18</th>\n",
       "      <td>1847-04-12</td>\n",
       "      <td>Margaret</td>\n",
       "      <td>Delaney</td>\n",
       "      <td>26.0</td>\n",
       "      <td>recent emigrant</td>\n",
       "      <td>married</td>\n",
       "      <td>f</td>\n",
       "      <td>NaN</td>\n",
       "    </tr>\n",
       "    <tr>\n",
       "      <th>19</th>\n",
       "      <td>1847-04-12</td>\n",
       "      <td>Michael</td>\n",
       "      <td>Delany</td>\n",
       "      <td>3.0</td>\n",
       "      <td>recent emigrant</td>\n",
       "      <td>NaN</td>\n",
       "      <td>m</td>\n",
       "      <td>NaN</td>\n",
       "    </tr>\n",
       "  </tbody>\n",
       "</table>\n",
       "</div>"
      ],
      "text/plain": [
       "       date_in first_name  last_name   age          disease profession gender  \\\n",
       "0   1847-04-17       Mary  Gallagher  28.0  recent emigrant    married      f   \n",
       "1   1847-04-08       John  Sanin (?)  19.0  recent emigrant    laborer      m   \n",
       "2   1847-04-17    Anthony      Clark  60.0  recent emigrant    laborer      m   \n",
       "3   1847-04-08   Lawrence     Feeney  32.0  recent emigrant    laborer      m   \n",
       "4   1847-04-13      Henry      Joyce  21.0  recent emigrant        NaN      m   \n",
       "5   1847-04-14    Bridget       Hart  20.0  recent emigrant   spinster      f   \n",
       "6   1847-04-14       Mary      Green  40.0  recent emigrant   spinster      f   \n",
       "7   1847-04-19     Daniel     Loftus  27.0      destitution    laborer      m   \n",
       "8   1847-04-10      James        Day  35.0  recent emigrant    laborer      m   \n",
       "9   1847-04-10   Margaret    Farrell  30.0  recent emigrant      widow      f   \n",
       "10  1847-04-10    Bridget        Day  30.0  recent emigrant    married      f   \n",
       "11  1847-04-10    Anthony        Day   0.5  recent emigrant        NaN      m   \n",
       "12  1847-04-07      James    Collins  22.0  recent emigrant    laborer      m   \n",
       "13  1847-04-07     Thomas    Collins  21.0  recent emigrant    laborer      m   \n",
       "14  1847-04-07        Pat     Whalen  25.0  recent emigrant    laborer      m   \n",
       "15  1847-04-17        Dan     Delany  10.0           typhus        NaN      m   \n",
       "16  1847-04-09  Catherine    O'Harra  23.0  recent emigrant    married      f   \n",
       "17  1847-04-09     Damiel    O'Harra  25.0  recent emigrant    laborer      m   \n",
       "18  1847-04-12   Margaret    Delaney  26.0  recent emigrant    married      f   \n",
       "19  1847-04-12    Michael     Delany   3.0  recent emigrant        NaN      m   \n",
       "\n",
       "                      children  \n",
       "0          Child Alana 10 days  \n",
       "1               Catherine 2 mo  \n",
       "2   Charles Riley afed 10 days  \n",
       "3                        Child  \n",
       "4                   Child 1 mo  \n",
       "5                        Child  \n",
       "6           And child 2 months  \n",
       "7                          NaN  \n",
       "8                          NaN  \n",
       "9                          NaN  \n",
       "10                         NaN  \n",
       "11                         NaN  \n",
       "12                         NaN  \n",
       "13                         NaN  \n",
       "14                         NaN  \n",
       "15                         NaN  \n",
       "16                         NaN  \n",
       "17                         NaN  \n",
       "18                         NaN  \n",
       "19                         NaN  "
      ]
     },
     "execution_count": 60,
     "metadata": {},
     "output_type": "execute_result"
    }
   ],
   "source": [
    "import pandas as pd\n",
    "almshouse_data = pd.read_csv('../data/bellevue_almshouse_modified.csv')\n",
    "almshouse_data.head(20)"
   ]
  },
  {
   "cell_type": "markdown",
   "metadata": {},
   "source": [
    "We're going to make a series of variables and assign them values based on the Bellevue Almshouse dataset. Make sure you run these cells."
   ]
  },
  {
   "cell_type": "markdown",
   "metadata": {},
   "source": [
    "### Person 1"
   ]
  },
  {
   "cell_type": "code",
   "execution_count": 134,
   "metadata": {},
   "outputs": [],
   "source": [
    "person1_name = 'Mary Gallagher'\n",
    "person1_age = 28\n",
    "person1_disease = 'recent emigrant'\n",
    "person1_profession = 'married'\n",
    "person1_gender = 'f'\n",
    "person1_child_status = 'Child Alana 10 days'"
   ]
  },
  {
   "cell_type": "markdown",
   "metadata": {},
   "source": [
    "### Person 2"
   ]
  },
  {
   "cell_type": "code",
   "execution_count": 77,
   "metadata": {},
   "outputs": [],
   "source": [
    "person2_name = 'John Sanin(?)'\n",
    "person2_age = 19\n",
    "person2_disease = 'recent emigrant'\n",
    "person2_profession = 'laborer'\n",
    "person2_gender = 'm'\n",
    "person2_child_status = 'Catherine 2 mo'"
   ]
  },
  {
   "cell_type": "markdown",
   "metadata": {},
   "source": [
    "### Person 3"
   ]
  },
  {
   "cell_type": "code",
   "execution_count": null,
   "metadata": {},
   "outputs": [],
   "source": [
    "person3_name = 'Anthony Clark'\n",
    "person3_age = 60\n",
    "person3_disease = 'recent emigrant'\n",
    "person3_profession = 'laborer'\n",
    "person3_gender = 'm'\n",
    "person3_child_status = 'Charles Riley afed 10 days'"
   ]
  },
  {
   "cell_type": "markdown",
   "metadata": {},
   "source": [
    "### Person 4"
   ]
  },
  {
   "cell_type": "code",
   "execution_count": 85,
   "metadata": {},
   "outputs": [],
   "source": [
    "person4_name = 'Margaret Farrell'\n",
    "person4_age = 30\n",
    "person4_disease = 'recent emigrant'\n",
    "person4_profession = 'widow'\n",
    "person4_gender = 'w'\n",
    "person4_child_status = ''"
   ]
  },
  {
   "cell_type": "markdown",
   "metadata": {},
   "source": [
    "**1.** Write an `if` statement that reports whether `person1_age` is less than 30 years old."
   ]
  },
  {
   "cell_type": "code",
   "execution_count": 109,
   "metadata": {},
   "outputs": [
    {
     "name": "stdout",
     "output_type": "stream",
     "text": [
      "Person is less than 30 years old.\n"
     ]
    }
   ],
   "source": [
    "#Your code here\n",
    "    print('Person is less than 30 years old.')"
   ]
  },
  {
   "cell_type": "markdown",
   "metadata": {},
   "source": [
    "**2.** Write an `if` statement that reports whether `person1_profession` is \"married.\""
   ]
  },
  {
   "cell_type": "code",
   "execution_count": 107,
   "metadata": {},
   "outputs": [
    {
     "name": "stdout",
     "output_type": "stream",
     "text": [
      "Person is married.\n"
     ]
    }
   ],
   "source": [
    "#Your code here\n",
    "    print('Person is married.')"
   ]
  },
  {
   "cell_type": "markdown",
   "metadata": {},
   "source": [
    "**3.** Write an `if` statement that reports whether `person1_age` is less than 30 years old *and* `person1_profession` is \"married.\""
   ]
  },
  {
   "cell_type": "code",
   "execution_count": 135,
   "metadata": {},
   "outputs": [
    {
     "name": "stdout",
     "output_type": "stream",
     "text": [
      "Person is less than 30 years old and married.\n"
     ]
    }
   ],
   "source": [
    "#Your code here\n",
    "    print('Person is less than 30 years old and married.')"
   ]
  },
  {
   "cell_type": "markdown",
   "metadata": {},
   "source": [
    "**4.** Complicate your `if` statement from Question 1 by adding an `else` statement that prints \"Person is older than 30 years old\". Then evaluate whether `person3_age` is less than 30 years old. "
   ]
  },
  {
   "cell_type": "code",
   "execution_count": 83,
   "metadata": {},
   "outputs": [
    {
     "name": "stdout",
     "output_type": "stream",
     "text": [
      "Person is more than 30 years old.\n"
     ]
    }
   ],
   "source": [
    "#Your code here\n",
    "    print('Person is less than 30 years old.')\n",
    "#Your code here\n",
    "    print('Person is more than 30 years old.')"
   ]
  },
  {
   "cell_type": "markdown",
   "metadata": {},
   "source": [
    "**5.** Now evaluate whether `person4_age` is less than 30 years using the same code as Question 4."
   ]
  },
  {
   "cell_type": "code",
   "execution_count": 89,
   "metadata": {},
   "outputs": [
    {
     "name": "stdout",
     "output_type": "stream",
     "text": [
      "Person is more than 30 years old.\n"
     ]
    }
   ],
   "source": [
    "#Your code here\n",
    "    print('Person is less than 30 years old')\n",
    "#Your code here\n",
    "    print('Person is more than 30 years old.')"
   ]
  },
  {
   "cell_type": "markdown",
   "metadata": {},
   "source": [
    "Hmmm, with the code as written, it's telling us that Margaret Farrell, who is 30 years old, is *more* than 30 years old. Add an `elif` statement that reports whether the person is exactly 30 years old."
   ]
  },
  {
   "cell_type": "code",
   "execution_count": 90,
   "metadata": {},
   "outputs": [
    {
     "name": "stdout",
     "output_type": "stream",
     "text": [
      "Person is exactly 30 years old.\n"
     ]
    }
   ],
   "source": [
    "#Your code here\n",
    "    print('Person is less than 30 years old.')\n",
    "#Your code here\n",
    "    print('Person is exactly 30 years old.')\n",
    "#Your code here\n",
    "    print('Person is more than 30 years old.')"
   ]
  },
  {
   "cell_type": "markdown",
   "metadata": {},
   "source": [
    "**6.** Write an `if` statement that will report whether `person1_child_status` includes children."
   ]
  },
  {
   "cell_type": "code",
   "execution_count": 100,
   "metadata": {},
   "outputs": [
    {
     "name": "stdout",
     "output_type": "stream",
     "text": [
      "Person has children.\n"
     ]
    }
   ],
   "source": [
    "#Your code here\n",
    "    print('Person has children.')"
   ]
  },
  {
   "cell_type": "markdown",
   "metadata": {},
   "source": [
    "**7.** Write one `if` statement that will accurately report whether `person1_child_status` includes children and, separately, if `person2_child_status` includes children. (Hint: think about how you might use the `!=` operator.)"
   ]
  },
  {
   "cell_type": "code",
   "execution_count": null,
   "metadata": {},
   "outputs": [],
   "source": [
    "if person1_child_status #Your Code Here\n",
    "    print('Person has children.')"
   ]
  },
  {
   "cell_type": "code",
   "execution_count": null,
   "metadata": {},
   "outputs": [],
   "source": [
    "if person2_child_status #Same Code Here\n",
    "    print('Person has children.')"
   ]
  },
  {
   "cell_type": "markdown",
   "metadata": {},
   "source": [
    "**8.** Write a conditional that will report whether `person1_profession` is \"married,\" \"laborer,\" \"widow,\" or \"unknown profession.\" Test your code by reassigning the variable as indicated below."
   ]
  },
  {
   "cell_type": "code",
   "execution_count": 113,
   "metadata": {},
   "outputs": [],
   "source": [
    "person1_profession = 'married'"
   ]
  },
  {
   "cell_type": "code",
   "execution_count": 114,
   "metadata": {},
   "outputs": [
    {
     "name": "stdout",
     "output_type": "stream",
     "text": [
      "Person is married.\n"
     ]
    }
   ],
   "source": [
    "#Your code here\n",
    "    print('Person is married.')\n",
    "#Your code here\n",
    "    print('Person is a laborer.')\n",
    "#Your code here\n",
    "    print('Person is a widow.')\n",
    "#Your code here\n",
    "    print('Person has unknown profession.')"
   ]
  },
  {
   "cell_type": "code",
   "execution_count": 115,
   "metadata": {},
   "outputs": [],
   "source": [
    "person1_profession = 'laborer'"
   ]
  },
  {
   "cell_type": "code",
   "execution_count": 116,
   "metadata": {},
   "outputs": [
    {
     "name": "stdout",
     "output_type": "stream",
     "text": [
      "Person is a laborer.\n"
     ]
    }
   ],
   "source": [
    "#Your code here\n",
    "    print('Person is married.')\n",
    "#Your code here\n",
    "    print('Person is a laborer.')\n",
    "#Your code here\n",
    "    print('Person is a widow.')\n",
    "#Your code here\n",
    "    print('Person has unknown profession.')"
   ]
  },
  {
   "cell_type": "code",
   "execution_count": 119,
   "metadata": {},
   "outputs": [],
   "source": [
    "person1_profession = 'widow'"
   ]
  },
  {
   "cell_type": "code",
   "execution_count": 120,
   "metadata": {},
   "outputs": [
    {
     "name": "stdout",
     "output_type": "stream",
     "text": [
      "Person is a widow.\n"
     ]
    }
   ],
   "source": [
    "#Your code here\n",
    "    print('Person is married.')\n",
    "#Your code here\n",
    "    print('Person is a laborer.')\n",
    "#Your code here\n",
    "    print('Person is a widow.')\n",
    "#Your code here\n",
    "    print('Person has unknown profession.')"
   ]
  },
  {
   "cell_type": "code",
   "execution_count": 121,
   "metadata": {},
   "outputs": [],
   "source": [
    "person1_profession = 'student'"
   ]
  },
  {
   "cell_type": "code",
   "execution_count": 122,
   "metadata": {},
   "outputs": [
    {
     "name": "stdout",
     "output_type": "stream",
     "text": [
      "Person has unknown profession.\n"
     ]
    }
   ],
   "source": [
    "#Your code here\n",
    "    print('Person is married.')\n",
    "#Your code here\n",
    "    print('Person is a laborer.')\n",
    "#Your code here\n",
    "    print('Person is a widow.')\n",
    "#Your code here\n",
    "    print('Person has unknown profession.')"
   ]
  },
  {
   "cell_type": "markdown",
   "metadata": {},
   "source": [
    "**9.** Some of the Irish immigrants' names have question marks after them. Let's clean up some of the data and remove the question marks. You can use the Python keyword `in` to test whether a string appears within another string. Print `person2_name` with the question mark and parentheses removed. (Hint: think about f-strings and string methods!)"
   ]
  },
  {
   "cell_type": "code",
   "execution_count": 132,
   "metadata": {},
   "outputs": [
    {
     "name": "stdout",
     "output_type": "stream",
     "text": [
      "John Sanin\n"
     ]
    }
   ],
   "source": [
    "if \"(?)\" in person2_name:\n",
    "    #Your code here"
   ]
  },
  {
   "cell_type": "markdown",
   "metadata": {},
   "source": [
    "**10.** In a few sentences, write about your experiencing using and manipulating the Bellevue Almshouse data after reading Shrout's essay. How, if at all, did using this data influence your understanding of how Python works?"
   ]
  },
  {
   "cell_type": "markdown",
   "metadata": {},
   "source": [
    "**#Your thoughts here**"
   ]
  }
 ],
 "metadata": {
  "kernelspec": {
   "display_name": "Python 3",
   "language": "python",
   "name": "python3"
  },
  "language_info": {
   "codemirror_mode": {
    "name": "ipython",
    "version": 3
   },
   "file_extension": ".py",
   "mimetype": "text/x-python",
   "name": "python",
   "nbconvert_exporter": "python",
   "pygments_lexer": "ipython3",
   "version": "3.7.5"
  }
 },
 "nbformat": 4,
 "nbformat_minor": 4
}
