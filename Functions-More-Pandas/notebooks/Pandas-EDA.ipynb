{
 "cells": [
  {
   "cell_type": "markdown",
   "metadata": {},
   "source": [
    "# Pandas — Exploratory Data Analysis"
   ]
  },
  {
   "cell_type": "markdown",
   "metadata": {},
   "source": [
    "[Download this \"Pandas — Exploratory Data Analysis\" notebook and other relevant files here](https://melaniewalsh.org/Functions-More-Pandas.zip)"
   ]
  },
  {
   "cell_type": "markdown",
   "metadata": {},
   "source": [
    "<img src='../images/Pudding-film-dialogue-Mean-Girls.png' width=100%>\n",
    "\n",
    "Over the next few lessons, we're going work with the film dialogue data behind Hannah Andersen and Matt Daniels's [\"Film Dialogue from 2,000 screenplays, Broken Down by Gender and Age\"](https://pudding.cool/2017/03/film-dialogue/). These authors claim that their project is a \"census rather than a study.\" In other words, they're not super interested in making analytical arguments. But we're going to use this data to practice developing analytical research questions about culture, specifically films.\n",
    "\n",
    "<img src='../images/Pudding-Github-data.png' width=100%>\n",
    "\n",
    "Before we get to developing our research questions, we need to critically examine this [film dialogue data](https://github.com/matthewfdaniels/scripts/), much like we did with the Trans-Atlantic Slave Trade Data. This is a process called Exploratory Data Analysis (EDA). EDA is a common first step in statistics and data science research. It will be an integral first step for us, too. With EDA, we're looking to get a sense of our dataset's general scope as well as potential patterns, anomalies, and problems.\n",
    "\n",
    "We're going to reinforce some of the Pandas concepts that we learned before as well as introduce a few new things that we can do with Pandas, such as:\n",
    "\n",
    "- Check for duplicate data\n",
    "- Check for null/missing values\n",
    "- Make histogram plots\n",
    "- Manipulate strings\n",
    "- Apply functions\n",
    "- Write a CSV file"
   ]
  },
  {
   "cell_type": "markdown",
   "metadata": {},
   "source": [
    "# Data Biography"
   ]
  },
  {
   "cell_type": "markdown",
   "metadata": {},
   "source": [
    "The very first step of a responsible cultural analytics/digital humanities EDA, however, doesn't require any code or computation at all. The very first step is to understand the data's \"biography,\" as Heather Krause lays it out in [\"Data Biographies\"](https://gijn.org/2017/03/27/data-biographies-getting-to-know-your-data/). Your assignment for Thursday is to make sure you can answer these questions. It will be helpful to read [\"FAQ for the “Film Dialogue, By Gender” Project](https://medium.com/@matthew_daniels/faq-for-the-film-dialogue-by-gender-project-40078209f751)."
   ]
  },
  {
   "cell_type": "markdown",
   "metadata": {},
   "source": [
    "### Where did the data come from?"
   ]
  },
  {
   "cell_type": "code",
   "execution_count": null,
   "metadata": {},
   "outputs": [],
   "source": []
  },
  {
   "cell_type": "markdown",
   "metadata": {},
   "source": [
    "### Who collected the data?"
   ]
  },
  {
   "cell_type": "code",
   "execution_count": null,
   "metadata": {},
   "outputs": [],
   "source": []
  },
  {
   "cell_type": "markdown",
   "metadata": {},
   "source": [
    "### How was data collected? And how was \"gender\" calculated?"
   ]
  },
  {
   "cell_type": "code",
   "execution_count": null,
   "metadata": {},
   "outputs": [],
   "source": []
  },
  {
   "cell_type": "markdown",
   "metadata": {},
   "source": [
    "### Why was the data collected?"
   ]
  },
  {
   "cell_type": "code",
   "execution_count": null,
   "metadata": {},
   "outputs": [],
   "source": []
  },
  {
   "cell_type": "markdown",
   "metadata": {},
   "source": [
    "# Import Pandas"
   ]
  },
  {
   "cell_type": "markdown",
   "metadata": {},
   "source": [
    "The rest of our EDA will be accomplished with the help of the Python library Pandas."
   ]
  },
  {
   "cell_type": "code",
   "execution_count": 54,
   "metadata": {},
   "outputs": [],
   "source": [
    "import pandas as pd"
   ]
  },
  {
   "cell_type": "markdown",
   "metadata": {},
   "source": [
    "# Read in CSV File"
   ]
  },
  {
   "cell_type": "markdown",
   "metadata": {},
   "source": [
    "We will read in our Pudding film dialogue dataset, which we created by merging together a few different datasets that were published by Hannah Andersen and Matt Daniels. This CSV file includes the word **salty**—'../data/Pudding/Pudding-Film-Dialogue-**Salty**.csv'—because it contains a few artificially added problems and errors. It's inspired by Matthew Lincoln's R Package for artificially creating messy data, [salty](https://rdrr.io/cran/salty/)."
   ]
  },
  {
   "cell_type": "code",
   "execution_count": 204,
   "metadata": {},
   "outputs": [],
   "source": [
    "pudding_film_df = pd.read_csv('../data/Pudding/Pudding-Film-Dialogue-Salty.csv', delimiter=',', encoding='utf-8')"
   ]
  },
  {
   "cell_type": "code",
   "execution_count": 207,
   "metadata": {},
   "outputs": [
    {
     "data": {
      "text/html": [
       "<div>\n",
       "<style scoped>\n",
       "    .dataframe tbody tr th:only-of-type {\n",
       "        vertical-align: middle;\n",
       "    }\n",
       "\n",
       "    .dataframe tbody tr th {\n",
       "        vertical-align: top;\n",
       "    }\n",
       "\n",
       "    .dataframe thead th {\n",
       "        text-align: right;\n",
       "    }\n",
       "</style>\n",
       "<table border=\"1\" class=\"dataframe\">\n",
       "  <thead>\n",
       "    <tr style=\"text-align: right;\">\n",
       "      <th></th>\n",
       "      <th>script_id</th>\n",
       "      <th>imdb_character_name</th>\n",
       "      <th>words</th>\n",
       "      <th>gender</th>\n",
       "      <th>age</th>\n",
       "      <th>imdb_id</th>\n",
       "      <th>title</th>\n",
       "      <th>year</th>\n",
       "      <th>gross</th>\n",
       "      <th>proportion_of_dialogue</th>\n",
       "    </tr>\n",
       "  </thead>\n",
       "  <tbody>\n",
       "    <tr>\n",
       "      <th>21672</th>\n",
       "      <td>8431</td>\n",
       "      <td>katsushiro</td>\n",
       "      <td>481</td>\n",
       "      <td>m</td>\n",
       "      <td>31.0</td>\n",
       "      <td>tt0047478</td>\n",
       "      <td>Seven Samurai</td>\n",
       "      <td>1954</td>\n",
       "      <td>NaN</td>\n",
       "      <td>0.088795</td>\n",
       "    </tr>\n",
       "    <tr>\n",
       "      <th>9418</th>\n",
       "      <td>3033</td>\n",
       "      <td>drew</td>\n",
       "      <td>376</td>\n",
       "      <td>m</td>\n",
       "      <td>29.0</td>\n",
       "      <td>tt0151804</td>\n",
       "      <td>Office Space</td>\n",
       "      <td>1999</td>\n",
       "      <td>18.0</td>\n",
       "      <td>0.021767</td>\n",
       "    </tr>\n",
       "    <tr>\n",
       "      <th>18999</th>\n",
       "      <td>7243</td>\n",
       "      <td>smith</td>\n",
       "      <td>119</td>\n",
       "      <td>m</td>\n",
       "      <td>20.0</td>\n",
       "      <td>tt0265086</td>\n",
       "      <td>Black Hawk Down</td>\n",
       "      <td>2001</td>\n",
       "      <td>167.0</td>\n",
       "      <td>0.015562</td>\n",
       "    </tr>\n",
       "    <tr>\n",
       "      <th>17918</th>\n",
       "      <td>6611</td>\n",
       "      <td>custodian</td>\n",
       "      <td>440</td>\n",
       "      <td>m</td>\n",
       "      <td>36.0</td>\n",
       "      <td>tt0101545</td>\n",
       "      <td>Career Opportunities</td>\n",
       "      <td>1991</td>\n",
       "      <td>23.0</td>\n",
       "      <td>0.041018</td>\n",
       "    </tr>\n",
       "    <tr>\n",
       "      <th>5701</th>\n",
       "      <td>2075</td>\n",
       "      <td>dr. gully</td>\n",
       "      <td>235</td>\n",
       "      <td>m</td>\n",
       "      <td>64.0</td>\n",
       "      <td>tt0974014</td>\n",
       "      <td>Creation</td>\n",
       "      <td>2009</td>\n",
       "      <td>NaN</td>\n",
       "      <td>0.028905</td>\n",
       "    </tr>\n",
       "    <tr>\n",
       "      <th>21243</th>\n",
       "      <td>8219</td>\n",
       "      <td>claire</td>\n",
       "      <td>180</td>\n",
       "      <td>f</td>\n",
       "      <td>31.0</td>\n",
       "      <td>tt0078444</td>\n",
       "      <td>An Unmarried Woman</td>\n",
       "      <td>1978</td>\n",
       "      <td>NaN</td>\n",
       "      <td>0.017523</td>\n",
       "    </tr>\n",
       "    <tr>\n",
       "      <th>20765</th>\n",
       "      <td>8007</td>\n",
       "      <td>sarah stall</td>\n",
       "      <td>110</td>\n",
       "      <td>f</td>\n",
       "      <td>NaN</td>\n",
       "      <td>tt0399146</td>\n",
       "      <td>A History of Violence</td>\n",
       "      <td>2005</td>\n",
       "      <td>42.0</td>\n",
       "      <td>0.010272</td>\n",
       "    </tr>\n",
       "    <tr>\n",
       "      <th>10095</th>\n",
       "      <td>3270</td>\n",
       "      <td>captain miller</td>\n",
       "      <td>5134</td>\n",
       "      <td>m</td>\n",
       "      <td>42.0</td>\n",
       "      <td>tt0120815</td>\n",
       "      <td>Saving Private Ryan</td>\n",
       "      <td>1998</td>\n",
       "      <td>400.0</td>\n",
       "      <td>0.510947</td>\n",
       "    </tr>\n",
       "    <tr>\n",
       "      <th>7329</th>\n",
       "      <td>2519</td>\n",
       "      <td>julia</td>\n",
       "      <td>1466</td>\n",
       "      <td>f</td>\n",
       "      <td>32.0</td>\n",
       "      <td>tt0093177</td>\n",
       "      <td>Hellraiser</td>\n",
       "      <td>1987</td>\n",
       "      <td>32.0</td>\n",
       "      <td>0.199077</td>\n",
       "    </tr>\n",
       "    <tr>\n",
       "      <th>331</th>\n",
       "      <td>708</td>\n",
       "      <td>detective sanch</td>\n",
       "      <td>126</td>\n",
       "      <td>m</td>\n",
       "      <td>40.0</td>\n",
       "      <td>tt0112442</td>\n",
       "      <td>Bad Boys</td>\n",
       "      <td>1995</td>\n",
       "      <td>131.0</td>\n",
       "      <td>0.010584</td>\n",
       "    </tr>\n",
       "  </tbody>\n",
       "</table>\n",
       "</div>"
      ],
      "text/plain": [
       "       script_id imdb_character_name  words gender   age    imdb_id  \\\n",
       "21672       8431          katsushiro    481      m  31.0  tt0047478   \n",
       "9418        3033                drew    376      m  29.0  tt0151804   \n",
       "18999       7243               smith    119      m  20.0  tt0265086   \n",
       "17918       6611           custodian    440      m  36.0  tt0101545   \n",
       "5701        2075           dr. gully    235      m  64.0  tt0974014   \n",
       "21243       8219              claire    180      f  31.0  tt0078444   \n",
       "20765       8007         sarah stall    110      f   NaN  tt0399146   \n",
       "10095       3270      captain miller   5134      m  42.0  tt0120815   \n",
       "7329        2519               julia   1466      f  32.0  tt0093177   \n",
       "331          708     detective sanch    126      m  40.0  tt0112442   \n",
       "\n",
       "                       title  year  gross  proportion_of_dialogue  \n",
       "21672          Seven Samurai  1954    NaN                0.088795  \n",
       "9418            Office Space  1999   18.0                0.021767  \n",
       "18999        Black Hawk Down  2001  167.0                0.015562  \n",
       "17918   Career Opportunities  1991   23.0                0.041018  \n",
       "5701                Creation  2009    NaN                0.028905  \n",
       "21243     An Unmarried Woman  1978    NaN                0.017523  \n",
       "20765  A History of Violence  2005   42.0                0.010272  \n",
       "10095    Saving Private Ryan  1998  400.0                0.510947  \n",
       "7329              Hellraiser  1987   32.0                0.199077  \n",
       "331                 Bad Boys  1995  131.0                0.010584  "
      ]
     },
     "execution_count": 207,
     "metadata": {},
     "output_type": "execute_result"
    }
   ],
   "source": [
    "pudding_film_df.sample(10)"
   ]
  },
  {
   "cell_type": "markdown",
   "metadata": {},
   "source": [
    "# Examine the Data"
   ]
  },
  {
   "cell_type": "markdown",
   "metadata": {},
   "source": [
    "How many rows and columns are in our dataset? What types of data are here? What are the names of the columns?"
   ]
  },
  {
   "cell_type": "code",
   "execution_count": 135,
   "metadata": {},
   "outputs": [
    {
     "data": {
      "text/plain": [
       "(23052, 10)"
      ]
     },
     "execution_count": 135,
     "metadata": {},
     "output_type": "execute_result"
    }
   ],
   "source": [
    "pudding_film_df.shape"
   ]
  },
  {
   "cell_type": "code",
   "execution_count": 136,
   "metadata": {},
   "outputs": [
    {
     "data": {
      "text/plain": [
       "script_id                   int64\n",
       "imdb_character_name        object\n",
       "words                       int64\n",
       "gender                     object\n",
       "age                       float64\n",
       "imdb_id                    object\n",
       "title                      object\n",
       "year                        int64\n",
       "gross                     float64\n",
       "proportion_of_dialogue    float64\n",
       "dtype: object"
      ]
     },
     "execution_count": 136,
     "metadata": {},
     "output_type": "execute_result"
    }
   ],
   "source": [
    "pudding_film_df.dtypes"
   ]
  },
  {
   "cell_type": "code",
   "execution_count": 137,
   "metadata": {},
   "outputs": [
    {
     "data": {
      "text/plain": [
       "Index(['script_id', 'imdb_character_name', 'words', 'gender', 'age', 'imdb_id',\n",
       "       'title', 'year', 'gross', 'proportion_of_dialogue'],\n",
       "      dtype='object')"
      ]
     },
     "execution_count": 137,
     "metadata": {},
     "output_type": "execute_result"
    }
   ],
   "source": [
    "pudding_film_df.columns"
   ]
  },
  {
   "cell_type": "markdown",
   "metadata": {},
   "source": [
    "## `.describe()`"
   ]
  },
  {
   "cell_type": "markdown",
   "metadata": {},
   "source": [
    "The `.describe()` method will give you a summary table of all the numerical values in your dataframe."
   ]
  },
  {
   "cell_type": "code",
   "execution_count": 199,
   "metadata": {},
   "outputs": [
    {
     "data": {
      "text/html": [
       "<div>\n",
       "<style scoped>\n",
       "    .dataframe tbody tr th:only-of-type {\n",
       "        vertical-align: middle;\n",
       "    }\n",
       "\n",
       "    .dataframe tbody tr th {\n",
       "        vertical-align: top;\n",
       "    }\n",
       "\n",
       "    .dataframe thead th {\n",
       "        text-align: right;\n",
       "    }\n",
       "</style>\n",
       "<table border=\"1\" class=\"dataframe\">\n",
       "  <thead>\n",
       "    <tr style=\"text-align: right;\">\n",
       "      <th></th>\n",
       "      <th>script_id</th>\n",
       "      <th>words</th>\n",
       "      <th>age</th>\n",
       "      <th>release_year</th>\n",
       "      <th>gross</th>\n",
       "      <th>proportion_of_dialogue</th>\n",
       "    </tr>\n",
       "  </thead>\n",
       "  <tbody>\n",
       "    <tr>\n",
       "      <th>count</th>\n",
       "      <td>23048.000000</td>\n",
       "      <td>23048.000000</td>\n",
       "      <td>18263.000000</td>\n",
       "      <td>23048.000000</td>\n",
       "      <td>19387.00000</td>\n",
       "      <td>23048.000000</td>\n",
       "    </tr>\n",
       "    <tr>\n",
       "      <th>mean</th>\n",
       "      <td>4194.784623</td>\n",
       "      <td>907.871486</td>\n",
       "      <td>42.382960</td>\n",
       "      <td>1998.133070</td>\n",
       "      <td>106.73637</td>\n",
       "      <td>0.086515</td>\n",
       "    </tr>\n",
       "    <tr>\n",
       "      <th>std</th>\n",
       "      <td>2472.985787</td>\n",
       "      <td>1399.593759</td>\n",
       "      <td>59.718859</td>\n",
       "      <td>14.746058</td>\n",
       "      <td>145.85823</td>\n",
       "      <td>0.107745</td>\n",
       "    </tr>\n",
       "    <tr>\n",
       "      <th>min</th>\n",
       "      <td>280.000000</td>\n",
       "      <td>101.000000</td>\n",
       "      <td>3.000000</td>\n",
       "      <td>1929.000000</td>\n",
       "      <td>0.00000</td>\n",
       "      <td>0.001537</td>\n",
       "    </tr>\n",
       "    <tr>\n",
       "      <th>25%</th>\n",
       "      <td>2095.000000</td>\n",
       "      <td>193.000000</td>\n",
       "      <td>30.000000</td>\n",
       "      <td>1992.000000</td>\n",
       "      <td>22.00000</td>\n",
       "      <td>0.019771</td>\n",
       "    </tr>\n",
       "    <tr>\n",
       "      <th>50%</th>\n",
       "      <td>3694.000000</td>\n",
       "      <td>396.000000</td>\n",
       "      <td>39.000000</td>\n",
       "      <td>2001.000000</td>\n",
       "      <td>56.00000</td>\n",
       "      <td>0.042421</td>\n",
       "    </tr>\n",
       "    <tr>\n",
       "      <th>75%</th>\n",
       "      <td>6219.750000</td>\n",
       "      <td>980.000000</td>\n",
       "      <td>50.000000</td>\n",
       "      <td>2009.000000</td>\n",
       "      <td>136.00000</td>\n",
       "      <td>0.104166</td>\n",
       "    </tr>\n",
       "    <tr>\n",
       "      <th>max</th>\n",
       "      <td>9254.000000</td>\n",
       "      <td>28102.000000</td>\n",
       "      <td>2013.000000</td>\n",
       "      <td>2015.000000</td>\n",
       "      <td>1798.00000</td>\n",
       "      <td>0.923422</td>\n",
       "    </tr>\n",
       "  </tbody>\n",
       "</table>\n",
       "</div>"
      ],
      "text/plain": [
       "          script_id         words           age  release_year        gross  \\\n",
       "count  23048.000000  23048.000000  18263.000000  23048.000000  19387.00000   \n",
       "mean    4194.784623    907.871486     42.382960   1998.133070    106.73637   \n",
       "std     2472.985787   1399.593759     59.718859     14.746058    145.85823   \n",
       "min      280.000000    101.000000      3.000000   1929.000000      0.00000   \n",
       "25%     2095.000000    193.000000     30.000000   1992.000000     22.00000   \n",
       "50%     3694.000000    396.000000     39.000000   2001.000000     56.00000   \n",
       "75%     6219.750000    980.000000     50.000000   2009.000000    136.00000   \n",
       "max     9254.000000  28102.000000   2013.000000   2015.000000   1798.00000   \n",
       "\n",
       "       proportion_of_dialogue  \n",
       "count            23048.000000  \n",
       "mean                 0.086515  \n",
       "std                  0.107745  \n",
       "min                  0.001537  \n",
       "25%                  0.019771  \n",
       "50%                  0.042421  \n",
       "75%                  0.104166  \n",
       "max                  0.923422  "
      ]
     },
     "execution_count": 199,
     "metadata": {},
     "output_type": "execute_result"
    }
   ],
   "source": [
    "pudding_film_df.describe()"
   ]
  },
  {
   "cell_type": "markdown",
   "metadata": {},
   "source": [
    "Do you notice any outliers, anomalies, or potential problems here?"
   ]
  },
  {
   "cell_type": "code",
   "execution_count": 200,
   "metadata": {},
   "outputs": [
    {
     "data": {
      "text/html": [
       "<div>\n",
       "<style scoped>\n",
       "    .dataframe tbody tr th:only-of-type {\n",
       "        vertical-align: middle;\n",
       "    }\n",
       "\n",
       "    .dataframe tbody tr th {\n",
       "        vertical-align: top;\n",
       "    }\n",
       "\n",
       "    .dataframe thead th {\n",
       "        text-align: right;\n",
       "    }\n",
       "</style>\n",
       "<table border=\"1\" class=\"dataframe\">\n",
       "  <thead>\n",
       "    <tr style=\"text-align: right;\">\n",
       "      <th></th>\n",
       "      <th>script_id</th>\n",
       "      <th>character</th>\n",
       "      <th>words</th>\n",
       "      <th>gender</th>\n",
       "      <th>age</th>\n",
       "      <th>title</th>\n",
       "      <th>release_year</th>\n",
       "      <th>gross</th>\n",
       "      <th>proportion_of_dialogue</th>\n",
       "      <th>after_2000</th>\n",
       "    </tr>\n",
       "  </thead>\n",
       "  <tbody>\n",
       "    <tr>\n",
       "      <th>11639</th>\n",
       "      <td>3737</td>\n",
       "      <td>Lucas Solomon</td>\n",
       "      <td>190</td>\n",
       "      <td>Man</td>\n",
       "      <td>2013.0</td>\n",
       "      <td>The Wolf of Wall Street</td>\n",
       "      <td>2013</td>\n",
       "      <td>125.0</td>\n",
       "      <td>0.011077</td>\n",
       "      <td>True</td>\n",
       "    </tr>\n",
       "  </tbody>\n",
       "</table>\n",
       "</div>"
      ],
      "text/plain": [
       "       script_id      character  words gender     age  \\\n",
       "11639       3737  Lucas Solomon    190    Man  2013.0   \n",
       "\n",
       "                         title  release_year  gross  proportion_of_dialogue  \\\n",
       "11639  The Wolf of Wall Street          2013  125.0                0.011077   \n",
       "\n",
       "       after_2000  \n",
       "11639        True  "
      ]
     },
     "execution_count": 200,
     "metadata": {},
     "output_type": "execute_result"
    }
   ],
   "source": [
    "pudding_film_df[pudding_film_df['age'] == 2013]"
   ]
  },
  {
   "cell_type": "markdown",
   "metadata": {},
   "source": [
    "# Rename and Drop Columns"
   ]
  },
  {
   "cell_type": "markdown",
   "metadata": {},
   "source": [
    "EDA often includes renaming and dropping columns to make the data easier to work with and more legible."
   ]
  },
  {
   "cell_type": "code",
   "execution_count": 211,
   "metadata": {},
   "outputs": [],
   "source": [
    "pudding_film_df = pudding_film_df.rename(columns={'imdb_character_name': 'character', 'year': 'release_year'})"
   ]
  },
  {
   "cell_type": "code",
   "execution_count": 212,
   "metadata": {},
   "outputs": [
    {
     "data": {
      "text/html": [
       "<div>\n",
       "<style scoped>\n",
       "    .dataframe tbody tr th:only-of-type {\n",
       "        vertical-align: middle;\n",
       "    }\n",
       "\n",
       "    .dataframe tbody tr th {\n",
       "        vertical-align: top;\n",
       "    }\n",
       "\n",
       "    .dataframe thead th {\n",
       "        text-align: right;\n",
       "    }\n",
       "</style>\n",
       "<table border=\"1\" class=\"dataframe\">\n",
       "  <thead>\n",
       "    <tr style=\"text-align: right;\">\n",
       "      <th></th>\n",
       "      <th>script_id</th>\n",
       "      <th>character</th>\n",
       "      <th>words</th>\n",
       "      <th>gender</th>\n",
       "      <th>age</th>\n",
       "      <th>imdb_id</th>\n",
       "      <th>title</th>\n",
       "      <th>release_year</th>\n",
       "      <th>gross</th>\n",
       "      <th>proportion_of_dialogue</th>\n",
       "    </tr>\n",
       "  </thead>\n",
       "  <tbody>\n",
       "    <tr>\n",
       "      <th>0</th>\n",
       "      <td>280</td>\n",
       "      <td>betty</td>\n",
       "      <td>311</td>\n",
       "      <td>f</td>\n",
       "      <td>35.0</td>\n",
       "      <td>tt0112579</td>\n",
       "      <td>The Bridges of Madison County</td>\n",
       "      <td>1995</td>\n",
       "      <td>142.0</td>\n",
       "      <td>0.048639</td>\n",
       "    </tr>\n",
       "    <tr>\n",
       "      <th>1</th>\n",
       "      <td>280</td>\n",
       "      <td>carolyn johnson</td>\n",
       "      <td>873</td>\n",
       "      <td>f</td>\n",
       "      <td>NaN</td>\n",
       "      <td>tt0112579</td>\n",
       "      <td>The Bridges of Madison County</td>\n",
       "      <td>1995</td>\n",
       "      <td>142.0</td>\n",
       "      <td>0.136534</td>\n",
       "    </tr>\n",
       "    <tr>\n",
       "      <th>2</th>\n",
       "      <td>280</td>\n",
       "      <td>eleanor</td>\n",
       "      <td>138</td>\n",
       "      <td>f</td>\n",
       "      <td>NaN</td>\n",
       "      <td>tt0112579</td>\n",
       "      <td>The Bridges of Madison County</td>\n",
       "      <td>1995</td>\n",
       "      <td>142.0</td>\n",
       "      <td>0.021583</td>\n",
       "    </tr>\n",
       "    <tr>\n",
       "      <th>3</th>\n",
       "      <td>280</td>\n",
       "      <td>francesca johns</td>\n",
       "      <td>2251</td>\n",
       "      <td>f</td>\n",
       "      <td>46.0</td>\n",
       "      <td>tt0112579</td>\n",
       "      <td>The Bridges of Madison County</td>\n",
       "      <td>1995</td>\n",
       "      <td>142.0</td>\n",
       "      <td>0.352049</td>\n",
       "    </tr>\n",
       "    <tr>\n",
       "      <th>4</th>\n",
       "      <td>280</td>\n",
       "      <td>madge</td>\n",
       "      <td>190</td>\n",
       "      <td>f</td>\n",
       "      <td>46.0</td>\n",
       "      <td>tt0112579</td>\n",
       "      <td>The Bridges of Madison County</td>\n",
       "      <td>1995</td>\n",
       "      <td>142.0</td>\n",
       "      <td>0.029715</td>\n",
       "    </tr>\n",
       "  </tbody>\n",
       "</table>\n",
       "</div>"
      ],
      "text/plain": [
       "   script_id        character  words gender   age    imdb_id  \\\n",
       "0        280            betty    311      f  35.0  tt0112579   \n",
       "1        280  carolyn johnson    873      f   NaN  tt0112579   \n",
       "2        280          eleanor    138      f   NaN  tt0112579   \n",
       "3        280  francesca johns   2251      f  46.0  tt0112579   \n",
       "4        280            madge    190      f  46.0  tt0112579   \n",
       "\n",
       "                           title  release_year  gross  proportion_of_dialogue  \n",
       "0  The Bridges of Madison County          1995  142.0                0.048639  \n",
       "1  The Bridges of Madison County          1995  142.0                0.136534  \n",
       "2  The Bridges of Madison County          1995  142.0                0.021583  \n",
       "3  The Bridges of Madison County          1995  142.0                0.352049  \n",
       "4  The Bridges of Madison County          1995  142.0                0.029715  "
      ]
     },
     "execution_count": 212,
     "metadata": {},
     "output_type": "execute_result"
    }
   ],
   "source": [
    "pudding_film_df.head()"
   ]
  },
  {
   "cell_type": "code",
   "execution_count": 213,
   "metadata": {},
   "outputs": [],
   "source": [
    "pudding_film_df = pudding_film_df.drop(columns='imdb_id')"
   ]
  },
  {
   "cell_type": "markdown",
   "metadata": {},
   "source": [
    "# Check for Duplicates or Missing Values (`NaN`)"
   ]
  },
  {
   "cell_type": "markdown",
   "metadata": {},
   "source": [
    "## Duplicates"
   ]
  },
  {
   "cell_type": "markdown",
   "metadata": {},
   "source": [
    "You can check for duplicate rows by using the `.duplicated()` method and seting the parameter `keep=False` (which will display both duplicated values as opposed to only the first value `keep='first'` or the last value `keep='last'`)."
   ]
  },
  {
   "cell_type": "code",
   "execution_count": 214,
   "metadata": {},
   "outputs": [
    {
     "data": {
      "text/plain": [
       "0        False\n",
       "1        False\n",
       "2        False\n",
       "3        False\n",
       "4        False\n",
       "         ...  \n",
       "23047    False\n",
       "23048    False\n",
       "23049     True\n",
       "23050    False\n",
       "23051     True\n",
       "Length: 23052, dtype: bool"
      ]
     },
     "execution_count": 214,
     "metadata": {},
     "output_type": "execute_result"
    }
   ],
   "source": [
    "pudding_film_df.duplicated(keep=False)"
   ]
  },
  {
   "cell_type": "markdown",
   "metadata": {},
   "source": [
    "The output above is reporting whether each row in the dataset is a duplicate `True` or not `False`. We can use the `.duplicated()` method inside a filter to isolate only the rows in the dataframe that are exact duplicates."
   ]
  },
  {
   "cell_type": "code",
   "execution_count": 215,
   "metadata": {},
   "outputs": [
    {
     "data": {
      "text/html": [
       "<div>\n",
       "<style scoped>\n",
       "    .dataframe tbody tr th:only-of-type {\n",
       "        vertical-align: middle;\n",
       "    }\n",
       "\n",
       "    .dataframe tbody tr th {\n",
       "        vertical-align: top;\n",
       "    }\n",
       "\n",
       "    .dataframe thead th {\n",
       "        text-align: right;\n",
       "    }\n",
       "</style>\n",
       "<table border=\"1\" class=\"dataframe\">\n",
       "  <thead>\n",
       "    <tr style=\"text-align: right;\">\n",
       "      <th></th>\n",
       "      <th>script_id</th>\n",
       "      <th>character</th>\n",
       "      <th>words</th>\n",
       "      <th>gender</th>\n",
       "      <th>age</th>\n",
       "      <th>title</th>\n",
       "      <th>release_year</th>\n",
       "      <th>gross</th>\n",
       "      <th>proportion_of_dialogue</th>\n",
       "    </tr>\n",
       "  </thead>\n",
       "  <tbody>\n",
       "    <tr>\n",
       "      <th>21001</th>\n",
       "      <td>8099</td>\n",
       "      <td>c-3po</td>\n",
       "      <td>138</td>\n",
       "      <td>m</td>\n",
       "      <td>69.0</td>\n",
       "      <td>Star Wars: Episode VII - The Force Awakens</td>\n",
       "      <td>2015</td>\n",
       "      <td>927.0</td>\n",
       "      <td>0.020702</td>\n",
       "    </tr>\n",
       "    <tr>\n",
       "      <th>21002</th>\n",
       "      <td>8099</td>\n",
       "      <td>c-3po</td>\n",
       "      <td>138</td>\n",
       "      <td>m</td>\n",
       "      <td>69.0</td>\n",
       "      <td>Star Wars: Episode VII - The Force Awakens</td>\n",
       "      <td>2015</td>\n",
       "      <td>927.0</td>\n",
       "      <td>0.020702</td>\n",
       "    </tr>\n",
       "    <tr>\n",
       "      <th>21963</th>\n",
       "      <td>8560</td>\n",
       "      <td>kilgore trout</td>\n",
       "      <td>2673</td>\n",
       "      <td>m</td>\n",
       "      <td>63.0</td>\n",
       "      <td>Breakfast of Champions</td>\n",
       "      <td>1999</td>\n",
       "      <td>NaN</td>\n",
       "      <td>0.197211</td>\n",
       "    </tr>\n",
       "    <tr>\n",
       "      <th>21964</th>\n",
       "      <td>8560</td>\n",
       "      <td>kilgore trout</td>\n",
       "      <td>2673</td>\n",
       "      <td>m</td>\n",
       "      <td>63.0</td>\n",
       "      <td>Breakfast of Champions</td>\n",
       "      <td>1999</td>\n",
       "      <td>NaN</td>\n",
       "      <td>0.197211</td>\n",
       "    </tr>\n",
       "    <tr>\n",
       "      <th>22935</th>\n",
       "      <td>9222</td>\n",
       "      <td>groomsman #5</td>\n",
       "      <td>238</td>\n",
       "      <td>m</td>\n",
       "      <td>NaN</td>\n",
       "      <td>Wedding Crashers</td>\n",
       "      <td>2005</td>\n",
       "      <td>283.0</td>\n",
       "      <td>0.012032</td>\n",
       "    </tr>\n",
       "    <tr>\n",
       "      <th>22936</th>\n",
       "      <td>9222</td>\n",
       "      <td>groomsman #5</td>\n",
       "      <td>238</td>\n",
       "      <td>m</td>\n",
       "      <td>NaN</td>\n",
       "      <td>Wedding Crashers</td>\n",
       "      <td>2005</td>\n",
       "      <td>283.0</td>\n",
       "      <td>0.012032</td>\n",
       "    </tr>\n",
       "    <tr>\n",
       "      <th>23049</th>\n",
       "      <td>9254</td>\n",
       "      <td>mrs. potts</td>\n",
       "      <td>564</td>\n",
       "      <td>f</td>\n",
       "      <td>66.0</td>\n",
       "      <td>Beauty and the Beast</td>\n",
       "      <td>1991</td>\n",
       "      <td>452.0</td>\n",
       "      <td>0.055517</td>\n",
       "    </tr>\n",
       "    <tr>\n",
       "      <th>23051</th>\n",
       "      <td>9254</td>\n",
       "      <td>mrs. potts</td>\n",
       "      <td>564</td>\n",
       "      <td>f</td>\n",
       "      <td>66.0</td>\n",
       "      <td>Beauty and the Beast</td>\n",
       "      <td>1991</td>\n",
       "      <td>452.0</td>\n",
       "      <td>0.055517</td>\n",
       "    </tr>\n",
       "  </tbody>\n",
       "</table>\n",
       "</div>"
      ],
      "text/plain": [
       "       script_id      character  words gender   age  \\\n",
       "21001       8099          c-3po    138      m  69.0   \n",
       "21002       8099          c-3po    138      m  69.0   \n",
       "21963       8560  kilgore trout   2673      m  63.0   \n",
       "21964       8560  kilgore trout   2673      m  63.0   \n",
       "22935       9222   groomsman #5    238      m   NaN   \n",
       "22936       9222   groomsman #5    238      m   NaN   \n",
       "23049       9254     mrs. potts    564      f  66.0   \n",
       "23051       9254     mrs. potts    564      f  66.0   \n",
       "\n",
       "                                            title  release_year  gross  \\\n",
       "21001  Star Wars: Episode VII - The Force Awakens          2015  927.0   \n",
       "21002  Star Wars: Episode VII - The Force Awakens          2015  927.0   \n",
       "21963                      Breakfast of Champions          1999    NaN   \n",
       "21964                      Breakfast of Champions          1999    NaN   \n",
       "22935                            Wedding Crashers          2005  283.0   \n",
       "22936                            Wedding Crashers          2005  283.0   \n",
       "23049                        Beauty and the Beast          1991  452.0   \n",
       "23051                        Beauty and the Beast          1991  452.0   \n",
       "\n",
       "       proportion_of_dialogue  \n",
       "21001                0.020702  \n",
       "21002                0.020702  \n",
       "21963                0.197211  \n",
       "21964                0.197211  \n",
       "22935                0.012032  \n",
       "22936                0.012032  \n",
       "23049                0.055517  \n",
       "23051                0.055517  "
      ]
     },
     "execution_count": 215,
     "metadata": {},
     "output_type": "execute_result"
    }
   ],
   "source": [
    "pudding_film_df[pudding_film_df.duplicated(keep=False)]"
   ]
  },
  {
   "cell_type": "markdown",
   "metadata": {},
   "source": [
    "You can drop duplicates from the dataframe with the `.drop_duplicates()` method and choose to \"keep\" the \"first\" instance of the duplicate or the \"last\" instance."
   ]
  },
  {
   "cell_type": "code",
   "execution_count": 216,
   "metadata": {},
   "outputs": [],
   "source": [
    "pudding_film_df = pudding_film_df.drop_duplicates(keep='first')"
   ]
  },
  {
   "cell_type": "markdown",
   "metadata": {},
   "source": [
    "Now if we check the data for duplicates again, they should be all gone."
   ]
  },
  {
   "cell_type": "code",
   "execution_count": 217,
   "metadata": {},
   "outputs": [
    {
     "data": {
      "text/html": [
       "<div>\n",
       "<style scoped>\n",
       "    .dataframe tbody tr th:only-of-type {\n",
       "        vertical-align: middle;\n",
       "    }\n",
       "\n",
       "    .dataframe tbody tr th {\n",
       "        vertical-align: top;\n",
       "    }\n",
       "\n",
       "    .dataframe thead th {\n",
       "        text-align: right;\n",
       "    }\n",
       "</style>\n",
       "<table border=\"1\" class=\"dataframe\">\n",
       "  <thead>\n",
       "    <tr style=\"text-align: right;\">\n",
       "      <th></th>\n",
       "      <th>script_id</th>\n",
       "      <th>character</th>\n",
       "      <th>words</th>\n",
       "      <th>gender</th>\n",
       "      <th>age</th>\n",
       "      <th>title</th>\n",
       "      <th>release_year</th>\n",
       "      <th>gross</th>\n",
       "      <th>proportion_of_dialogue</th>\n",
       "    </tr>\n",
       "  </thead>\n",
       "  <tbody>\n",
       "  </tbody>\n",
       "</table>\n",
       "</div>"
      ],
      "text/plain": [
       "Empty DataFrame\n",
       "Columns: [script_id, character, words, gender, age, title, release_year, gross, proportion_of_dialogue]\n",
       "Index: []"
      ]
     },
     "execution_count": 217,
     "metadata": {},
     "output_type": "execute_result"
    }
   ],
   "source": [
    "pudding_film_df[pudding_film_df.duplicated(keep=False)]"
   ]
  },
  {
   "cell_type": "markdown",
   "metadata": {},
   "source": [
    "## Missing/Null Values"
   ]
  },
  {
   "cell_type": "markdown",
   "metadata": {},
   "source": [
    "Missing values in a Pandas dataframe are interpreted as a special `NaN` value. This is important to remember for a few reasons.\n",
    "\n",
    "First, if we want to find out how many rows in our dataset contain blank or missing values, we'll need to use a special `.isnull()` method that checks for `NaN` values. If we check for missing values in our \"character\" column, for example, we will discover that there are two rows that don't have any character names."
   ]
  },
  {
   "cell_type": "code",
   "execution_count": 218,
   "metadata": {},
   "outputs": [
    {
     "data": {
      "text/plain": [
       "0        False\n",
       "1        False\n",
       "2        False\n",
       "3        False\n",
       "4        False\n",
       "         ...  \n",
       "23046    False\n",
       "23047    False\n",
       "23048    False\n",
       "23049    False\n",
       "23050    False\n",
       "Name: character, Length: 23048, dtype: bool"
      ]
     },
     "execution_count": 218,
     "metadata": {},
     "output_type": "execute_result"
    }
   ],
   "source": [
    "pudding_film_df['character'].isnull() == True"
   ]
  },
  {
   "cell_type": "code",
   "execution_count": 219,
   "metadata": {},
   "outputs": [
    {
     "data": {
      "text/html": [
       "<div>\n",
       "<style scoped>\n",
       "    .dataframe tbody tr th:only-of-type {\n",
       "        vertical-align: middle;\n",
       "    }\n",
       "\n",
       "    .dataframe tbody tr th {\n",
       "        vertical-align: top;\n",
       "    }\n",
       "\n",
       "    .dataframe thead th {\n",
       "        text-align: right;\n",
       "    }\n",
       "</style>\n",
       "<table border=\"1\" class=\"dataframe\">\n",
       "  <thead>\n",
       "    <tr style=\"text-align: right;\">\n",
       "      <th></th>\n",
       "      <th>script_id</th>\n",
       "      <th>character</th>\n",
       "      <th>words</th>\n",
       "      <th>gender</th>\n",
       "      <th>age</th>\n",
       "      <th>title</th>\n",
       "      <th>release_year</th>\n",
       "      <th>gross</th>\n",
       "      <th>proportion_of_dialogue</th>\n",
       "    </tr>\n",
       "  </thead>\n",
       "  <tbody>\n",
       "    <tr>\n",
       "      <th>4656</th>\n",
       "      <td>1807</td>\n",
       "      <td>NaN</td>\n",
       "      <td>146</td>\n",
       "      <td>f</td>\n",
       "      <td>NaN</td>\n",
       "      <td>Beloved</td>\n",
       "      <td>1998</td>\n",
       "      <td>42.0</td>\n",
       "      <td>0.005162</td>\n",
       "    </tr>\n",
       "    <tr>\n",
       "      <th>19448</th>\n",
       "      <td>7445</td>\n",
       "      <td>NaN</td>\n",
       "      <td>520</td>\n",
       "      <td>f</td>\n",
       "      <td>NaN</td>\n",
       "      <td>House of Games</td>\n",
       "      <td>1987</td>\n",
       "      <td>5.0</td>\n",
       "      <td>0.165184</td>\n",
       "    </tr>\n",
       "  </tbody>\n",
       "</table>\n",
       "</div>"
      ],
      "text/plain": [
       "       script_id character  words gender  age           title  release_year  \\\n",
       "4656        1807       NaN    146      f  NaN         Beloved          1998   \n",
       "19448       7445       NaN    520      f  NaN  House of Games          1987   \n",
       "\n",
       "       gross  proportion_of_dialogue  \n",
       "4656    42.0                0.005162  \n",
       "19448    5.0                0.165184  "
      ]
     },
     "execution_count": 219,
     "metadata": {},
     "output_type": "execute_result"
    }
   ],
   "source": [
    "pudding_film_df[pudding_film_df['character'].isnull() == True]"
   ]
  },
  {
   "cell_type": "markdown",
   "metadata": {},
   "source": [
    "This is important information for the sake of better understanding our dataset. But it's also important because `NaN` values can mess up later calculations or transformations that you might attempt. For this reason, we're going to replace or \"fill\" these `NaN` values with the string \"No Character Data\" by using the `.fillna()` method."
   ]
  },
  {
   "cell_type": "code",
   "execution_count": 149,
   "metadata": {},
   "outputs": [],
   "source": [
    "pudding_film_df['character'] = pudding_film_df['character'].fillna('No Character Data')"
   ]
  },
  {
   "cell_type": "code",
   "execution_count": 150,
   "metadata": {},
   "outputs": [
    {
     "data": {
      "text/html": [
       "<div>\n",
       "<style scoped>\n",
       "    .dataframe tbody tr th:only-of-type {\n",
       "        vertical-align: middle;\n",
       "    }\n",
       "\n",
       "    .dataframe tbody tr th {\n",
       "        vertical-align: top;\n",
       "    }\n",
       "\n",
       "    .dataframe thead th {\n",
       "        text-align: right;\n",
       "    }\n",
       "</style>\n",
       "<table border=\"1\" class=\"dataframe\">\n",
       "  <thead>\n",
       "    <tr style=\"text-align: right;\">\n",
       "      <th></th>\n",
       "      <th>script_id</th>\n",
       "      <th>character</th>\n",
       "      <th>words</th>\n",
       "      <th>gender</th>\n",
       "      <th>age</th>\n",
       "      <th>title</th>\n",
       "      <th>release_year</th>\n",
       "      <th>gross</th>\n",
       "      <th>proportion_of_dialogue</th>\n",
       "    </tr>\n",
       "  </thead>\n",
       "  <tbody>\n",
       "  </tbody>\n",
       "</table>\n",
       "</div>"
      ],
      "text/plain": [
       "Empty DataFrame\n",
       "Columns: [script_id, character, words, gender, age, title, release_year, gross, proportion_of_dialogue]\n",
       "Index: []"
      ]
     },
     "execution_count": 150,
     "metadata": {},
     "output_type": "execute_result"
    }
   ],
   "source": [
    "pudding_film_df[pudding_film_df['character'].isnull() == True]"
   ]
  },
  {
   "cell_type": "code",
   "execution_count": 151,
   "metadata": {},
   "outputs": [
    {
     "data": {
      "text/html": [
       "<div>\n",
       "<style scoped>\n",
       "    .dataframe tbody tr th:only-of-type {\n",
       "        vertical-align: middle;\n",
       "    }\n",
       "\n",
       "    .dataframe tbody tr th {\n",
       "        vertical-align: top;\n",
       "    }\n",
       "\n",
       "    .dataframe thead th {\n",
       "        text-align: right;\n",
       "    }\n",
       "</style>\n",
       "<table border=\"1\" class=\"dataframe\">\n",
       "  <thead>\n",
       "    <tr style=\"text-align: right;\">\n",
       "      <th></th>\n",
       "      <th>script_id</th>\n",
       "      <th>character</th>\n",
       "      <th>words</th>\n",
       "      <th>gender</th>\n",
       "      <th>age</th>\n",
       "      <th>title</th>\n",
       "      <th>release_year</th>\n",
       "      <th>gross</th>\n",
       "      <th>proportion_of_dialogue</th>\n",
       "    </tr>\n",
       "  </thead>\n",
       "  <tbody>\n",
       "    <tr>\n",
       "      <th>4656</th>\n",
       "      <td>1807</td>\n",
       "      <td>No Character Data</td>\n",
       "      <td>146</td>\n",
       "      <td>f</td>\n",
       "      <td>NaN</td>\n",
       "      <td>Beloved</td>\n",
       "      <td>1998</td>\n",
       "      <td>42.0</td>\n",
       "      <td>0.005162</td>\n",
       "    </tr>\n",
       "    <tr>\n",
       "      <th>19448</th>\n",
       "      <td>7445</td>\n",
       "      <td>No Character Data</td>\n",
       "      <td>520</td>\n",
       "      <td>f</td>\n",
       "      <td>NaN</td>\n",
       "      <td>House of Games</td>\n",
       "      <td>1987</td>\n",
       "      <td>5.0</td>\n",
       "      <td>0.165184</td>\n",
       "    </tr>\n",
       "  </tbody>\n",
       "</table>\n",
       "</div>"
      ],
      "text/plain": [
       "       script_id          character  words gender  age           title  \\\n",
       "4656        1807  No Character Data    146      f  NaN         Beloved   \n",
       "19448       7445  No Character Data    520      f  NaN  House of Games   \n",
       "\n",
       "       release_year  gross  proportion_of_dialogue  \n",
       "4656           1998   42.0                0.005162  \n",
       "19448          1987    5.0                0.165184  "
      ]
     },
     "execution_count": 151,
     "metadata": {},
     "output_type": "execute_result"
    }
   ],
   "source": [
    "pudding_film_df[pudding_film_df['character'] == 'No Character Data']"
   ]
  },
  {
   "cell_type": "markdown",
   "metadata": {},
   "source": [
    "With the `.isnull()` method, we can also discover that there are thousands of rows that don't contain any box office gross information as well as thousands of characters that don't have any associated age information."
   ]
  },
  {
   "cell_type": "code",
   "execution_count": 152,
   "metadata": {},
   "outputs": [
    {
     "data": {
      "text/html": [
       "<div>\n",
       "<style scoped>\n",
       "    .dataframe tbody tr th:only-of-type {\n",
       "        vertical-align: middle;\n",
       "    }\n",
       "\n",
       "    .dataframe tbody tr th {\n",
       "        vertical-align: top;\n",
       "    }\n",
       "\n",
       "    .dataframe thead th {\n",
       "        text-align: right;\n",
       "    }\n",
       "</style>\n",
       "<table border=\"1\" class=\"dataframe\">\n",
       "  <thead>\n",
       "    <tr style=\"text-align: right;\">\n",
       "      <th></th>\n",
       "      <th>script_id</th>\n",
       "      <th>character</th>\n",
       "      <th>words</th>\n",
       "      <th>gender</th>\n",
       "      <th>age</th>\n",
       "      <th>title</th>\n",
       "      <th>release_year</th>\n",
       "      <th>gross</th>\n",
       "      <th>proportion_of_dialogue</th>\n",
       "    </tr>\n",
       "  </thead>\n",
       "  <tbody>\n",
       "    <tr>\n",
       "      <th>59</th>\n",
       "      <td>640</td>\n",
       "      <td>buckaroo banzai</td>\n",
       "      <td>1723</td>\n",
       "      <td>m</td>\n",
       "      <td>37.0</td>\n",
       "      <td>The Adventures of Buckaroo Banzai Across the 8...</td>\n",
       "      <td>1984</td>\n",
       "      <td>NaN</td>\n",
       "      <td>0.280985</td>\n",
       "    </tr>\n",
       "    <tr>\n",
       "      <th>60</th>\n",
       "      <td>640</td>\n",
       "      <td>general catburd</td>\n",
       "      <td>334</td>\n",
       "      <td>m</td>\n",
       "      <td>54.0</td>\n",
       "      <td>The Adventures of Buckaroo Banzai Across the 8...</td>\n",
       "      <td>1984</td>\n",
       "      <td>NaN</td>\n",
       "      <td>0.054468</td>\n",
       "    </tr>\n",
       "    <tr>\n",
       "      <th>61</th>\n",
       "      <td>640</td>\n",
       "      <td>highway patrolm</td>\n",
       "      <td>126</td>\n",
       "      <td>m</td>\n",
       "      <td>36.0</td>\n",
       "      <td>The Adventures of Buckaroo Banzai Across the 8...</td>\n",
       "      <td>1984</td>\n",
       "      <td>NaN</td>\n",
       "      <td>0.020548</td>\n",
       "    </tr>\n",
       "    <tr>\n",
       "      <th>62</th>\n",
       "      <td>640</td>\n",
       "      <td>john emdall</td>\n",
       "      <td>226</td>\n",
       "      <td>f</td>\n",
       "      <td>46.0</td>\n",
       "      <td>The Adventures of Buckaroo Banzai Across the 8...</td>\n",
       "      <td>1984</td>\n",
       "      <td>NaN</td>\n",
       "      <td>0.036856</td>\n",
       "    </tr>\n",
       "    <tr>\n",
       "      <th>63</th>\n",
       "      <td>640</td>\n",
       "      <td>lord john whorf</td>\n",
       "      <td>330</td>\n",
       "      <td>m</td>\n",
       "      <td>39.0</td>\n",
       "      <td>The Adventures of Buckaroo Banzai Across the 8...</td>\n",
       "      <td>1984</td>\n",
       "      <td>NaN</td>\n",
       "      <td>0.053816</td>\n",
       "    </tr>\n",
       "    <tr>\n",
       "      <th>...</th>\n",
       "      <td>...</td>\n",
       "      <td>...</td>\n",
       "      <td>...</td>\n",
       "      <td>...</td>\n",
       "      <td>...</td>\n",
       "      <td>...</td>\n",
       "      <td>...</td>\n",
       "      <td>...</td>\n",
       "      <td>...</td>\n",
       "    </tr>\n",
       "    <tr>\n",
       "      <th>22917</th>\n",
       "      <td>9214</td>\n",
       "      <td>michael</td>\n",
       "      <td>554</td>\n",
       "      <td>m</td>\n",
       "      <td>NaN</td>\n",
       "      <td>The Utah Murder Project</td>\n",
       "      <td>2006</td>\n",
       "      <td>NaN</td>\n",
       "      <td>0.048317</td>\n",
       "    </tr>\n",
       "    <tr>\n",
       "      <th>22918</th>\n",
       "      <td>9214</td>\n",
       "      <td>mr gold</td>\n",
       "      <td>1066</td>\n",
       "      <td>m</td>\n",
       "      <td>NaN</td>\n",
       "      <td>The Utah Murder Project</td>\n",
       "      <td>2006</td>\n",
       "      <td>NaN</td>\n",
       "      <td>0.092971</td>\n",
       "    </tr>\n",
       "    <tr>\n",
       "      <th>22919</th>\n",
       "      <td>9214</td>\n",
       "      <td>mrs gold</td>\n",
       "      <td>828</td>\n",
       "      <td>f</td>\n",
       "      <td>NaN</td>\n",
       "      <td>The Utah Murder Project</td>\n",
       "      <td>2006</td>\n",
       "      <td>NaN</td>\n",
       "      <td>0.072214</td>\n",
       "    </tr>\n",
       "    <tr>\n",
       "      <th>22920</th>\n",
       "      <td>9214</td>\n",
       "      <td>ms newman</td>\n",
       "      <td>492</td>\n",
       "      <td>f</td>\n",
       "      <td>NaN</td>\n",
       "      <td>The Utah Murder Project</td>\n",
       "      <td>2006</td>\n",
       "      <td>NaN</td>\n",
       "      <td>0.042909</td>\n",
       "    </tr>\n",
       "    <tr>\n",
       "      <th>22921</th>\n",
       "      <td>9214</td>\n",
       "      <td>sheriff dan pat</td>\n",
       "      <td>1820</td>\n",
       "      <td>m</td>\n",
       "      <td>56.0</td>\n",
       "      <td>The Utah Murder Project</td>\n",
       "      <td>2006</td>\n",
       "      <td>NaN</td>\n",
       "      <td>0.158730</td>\n",
       "    </tr>\n",
       "  </tbody>\n",
       "</table>\n",
       "<p>3661 rows × 9 columns</p>\n",
       "</div>"
      ],
      "text/plain": [
       "       script_id        character  words gender   age  \\\n",
       "59           640  buckaroo banzai   1723      m  37.0   \n",
       "60           640  general catburd    334      m  54.0   \n",
       "61           640  highway patrolm    126      m  36.0   \n",
       "62           640      john emdall    226      f  46.0   \n",
       "63           640  lord john whorf    330      m  39.0   \n",
       "...          ...              ...    ...    ...   ...   \n",
       "22917       9214          michael    554      m   NaN   \n",
       "22918       9214          mr gold   1066      m   NaN   \n",
       "22919       9214         mrs gold    828      f   NaN   \n",
       "22920       9214        ms newman    492      f   NaN   \n",
       "22921       9214  sheriff dan pat   1820      m  56.0   \n",
       "\n",
       "                                                   title  release_year  gross  \\\n",
       "59     The Adventures of Buckaroo Banzai Across the 8...          1984    NaN   \n",
       "60     The Adventures of Buckaroo Banzai Across the 8...          1984    NaN   \n",
       "61     The Adventures of Buckaroo Banzai Across the 8...          1984    NaN   \n",
       "62     The Adventures of Buckaroo Banzai Across the 8...          1984    NaN   \n",
       "63     The Adventures of Buckaroo Banzai Across the 8...          1984    NaN   \n",
       "...                                                  ...           ...    ...   \n",
       "22917                            The Utah Murder Project          2006    NaN   \n",
       "22918                            The Utah Murder Project          2006    NaN   \n",
       "22919                            The Utah Murder Project          2006    NaN   \n",
       "22920                            The Utah Murder Project          2006    NaN   \n",
       "22921                            The Utah Murder Project          2006    NaN   \n",
       "\n",
       "       proportion_of_dialogue  \n",
       "59                   0.280985  \n",
       "60                   0.054468  \n",
       "61                   0.020548  \n",
       "62                   0.036856  \n",
       "63                   0.053816  \n",
       "...                       ...  \n",
       "22917                0.048317  \n",
       "22918                0.092971  \n",
       "22919                0.072214  \n",
       "22920                0.042909  \n",
       "22921                0.158730  \n",
       "\n",
       "[3661 rows x 9 columns]"
      ]
     },
     "execution_count": 152,
     "metadata": {},
     "output_type": "execute_result"
    }
   ],
   "source": [
    "pudding_film_df[pudding_film_df['gross'].isnull() == True]"
   ]
  },
  {
   "cell_type": "code",
   "execution_count": 153,
   "metadata": {},
   "outputs": [
    {
     "data": {
      "text/html": [
       "<div>\n",
       "<style scoped>\n",
       "    .dataframe tbody tr th:only-of-type {\n",
       "        vertical-align: middle;\n",
       "    }\n",
       "\n",
       "    .dataframe tbody tr th {\n",
       "        vertical-align: top;\n",
       "    }\n",
       "\n",
       "    .dataframe thead th {\n",
       "        text-align: right;\n",
       "    }\n",
       "</style>\n",
       "<table border=\"1\" class=\"dataframe\">\n",
       "  <thead>\n",
       "    <tr style=\"text-align: right;\">\n",
       "      <th></th>\n",
       "      <th>script_id</th>\n",
       "      <th>character</th>\n",
       "      <th>words</th>\n",
       "      <th>gender</th>\n",
       "      <th>age</th>\n",
       "      <th>title</th>\n",
       "      <th>release_year</th>\n",
       "      <th>gross</th>\n",
       "      <th>proportion_of_dialogue</th>\n",
       "    </tr>\n",
       "  </thead>\n",
       "  <tbody>\n",
       "    <tr>\n",
       "      <th>1</th>\n",
       "      <td>280</td>\n",
       "      <td>carolyn johnson</td>\n",
       "      <td>873</td>\n",
       "      <td>f</td>\n",
       "      <td>NaN</td>\n",
       "      <td>The Bridges of Madison County</td>\n",
       "      <td>1995</td>\n",
       "      <td>142.0</td>\n",
       "      <td>0.136534</td>\n",
       "    </tr>\n",
       "    <tr>\n",
       "      <th>2</th>\n",
       "      <td>280</td>\n",
       "      <td>eleanor</td>\n",
       "      <td>138</td>\n",
       "      <td>f</td>\n",
       "      <td>NaN</td>\n",
       "      <td>The Bridges of Madison County</td>\n",
       "      <td>1995</td>\n",
       "      <td>142.0</td>\n",
       "      <td>0.021583</td>\n",
       "    </tr>\n",
       "    <tr>\n",
       "      <th>7</th>\n",
       "      <td>623</td>\n",
       "      <td>bobby korfin</td>\n",
       "      <td>328</td>\n",
       "      <td>m</td>\n",
       "      <td>NaN</td>\n",
       "      <td>15 Minutes</td>\n",
       "      <td>2001</td>\n",
       "      <td>37.0</td>\n",
       "      <td>0.036012</td>\n",
       "    </tr>\n",
       "    <tr>\n",
       "      <th>9</th>\n",
       "      <td>623</td>\n",
       "      <td>deputy chief fi</td>\n",
       "      <td>347</td>\n",
       "      <td>m</td>\n",
       "      <td>NaN</td>\n",
       "      <td>15 Minutes</td>\n",
       "      <td>2001</td>\n",
       "      <td>37.0</td>\n",
       "      <td>0.038098</td>\n",
       "    </tr>\n",
       "    <tr>\n",
       "      <th>15</th>\n",
       "      <td>623</td>\n",
       "      <td>honey the hooke</td>\n",
       "      <td>148</td>\n",
       "      <td>f</td>\n",
       "      <td>NaN</td>\n",
       "      <td>15 Minutes</td>\n",
       "      <td>2001</td>\n",
       "      <td>37.0</td>\n",
       "      <td>0.016249</td>\n",
       "    </tr>\n",
       "    <tr>\n",
       "      <th>...</th>\n",
       "      <td>...</td>\n",
       "      <td>...</td>\n",
       "      <td>...</td>\n",
       "      <td>...</td>\n",
       "      <td>...</td>\n",
       "      <td>...</td>\n",
       "      <td>...</td>\n",
       "      <td>...</td>\n",
       "      <td>...</td>\n",
       "    </tr>\n",
       "    <tr>\n",
       "      <th>23020</th>\n",
       "      <td>9247</td>\n",
       "      <td>helen holloway</td>\n",
       "      <td>124</td>\n",
       "      <td>f</td>\n",
       "      <td>NaN</td>\n",
       "      <td>Lee Daniels' The Butler</td>\n",
       "      <td>2013</td>\n",
       "      <td>125.0</td>\n",
       "      <td>0.013358</td>\n",
       "    </tr>\n",
       "    <tr>\n",
       "      <th>23024</th>\n",
       "      <td>9247</td>\n",
       "      <td>lbj aide</td>\n",
       "      <td>317</td>\n",
       "      <td>m</td>\n",
       "      <td>NaN</td>\n",
       "      <td>Lee Daniels' The Butler</td>\n",
       "      <td>2013</td>\n",
       "      <td>125.0</td>\n",
       "      <td>0.034148</td>\n",
       "    </tr>\n",
       "    <tr>\n",
       "      <th>23029</th>\n",
       "      <td>9247</td>\n",
       "      <td>senator kasseba</td>\n",
       "      <td>129</td>\n",
       "      <td>f</td>\n",
       "      <td>NaN</td>\n",
       "      <td>Lee Daniels' The Butler</td>\n",
       "      <td>2013</td>\n",
       "      <td>125.0</td>\n",
       "      <td>0.013896</td>\n",
       "    </tr>\n",
       "    <tr>\n",
       "      <th>23031</th>\n",
       "      <td>9253</td>\n",
       "      <td>girl in pool</td>\n",
       "      <td>118</td>\n",
       "      <td>f</td>\n",
       "      <td>NaN</td>\n",
       "      <td>Let Me In</td>\n",
       "      <td>2010</td>\n",
       "      <td>13.0</td>\n",
       "      <td>0.035192</td>\n",
       "    </tr>\n",
       "    <tr>\n",
       "      <th>23045</th>\n",
       "      <td>9254</td>\n",
       "      <td>lefou</td>\n",
       "      <td>415</td>\n",
       "      <td>m</td>\n",
       "      <td>NaN</td>\n",
       "      <td>Beauty and the Beast</td>\n",
       "      <td>1991</td>\n",
       "      <td>452.0</td>\n",
       "      <td>0.040850</td>\n",
       "    </tr>\n",
       "  </tbody>\n",
       "</table>\n",
       "<p>4785 rows × 9 columns</p>\n",
       "</div>"
      ],
      "text/plain": [
       "       script_id        character  words gender  age  \\\n",
       "1            280  carolyn johnson    873      f  NaN   \n",
       "2            280          eleanor    138      f  NaN   \n",
       "7            623     bobby korfin    328      m  NaN   \n",
       "9            623  deputy chief fi    347      m  NaN   \n",
       "15           623  honey the hooke    148      f  NaN   \n",
       "...          ...              ...    ...    ...  ...   \n",
       "23020       9247   helen holloway    124      f  NaN   \n",
       "23024       9247         lbj aide    317      m  NaN   \n",
       "23029       9247  senator kasseba    129      f  NaN   \n",
       "23031       9253     girl in pool    118      f  NaN   \n",
       "23045       9254            lefou    415      m  NaN   \n",
       "\n",
       "                               title  release_year  gross  \\\n",
       "1      The Bridges of Madison County          1995  142.0   \n",
       "2      The Bridges of Madison County          1995  142.0   \n",
       "7                         15 Minutes          2001   37.0   \n",
       "9                         15 Minutes          2001   37.0   \n",
       "15                        15 Minutes          2001   37.0   \n",
       "...                              ...           ...    ...   \n",
       "23020        Lee Daniels' The Butler          2013  125.0   \n",
       "23024        Lee Daniels' The Butler          2013  125.0   \n",
       "23029        Lee Daniels' The Butler          2013  125.0   \n",
       "23031                      Let Me In          2010   13.0   \n",
       "23045           Beauty and the Beast          1991  452.0   \n",
       "\n",
       "       proportion_of_dialogue  \n",
       "1                    0.136534  \n",
       "2                    0.021583  \n",
       "7                    0.036012  \n",
       "9                    0.038098  \n",
       "15                   0.016249  \n",
       "...                       ...  \n",
       "23020                0.013358  \n",
       "23024                0.034148  \n",
       "23029                0.013896  \n",
       "23031                0.035192  \n",
       "23045                0.040850  \n",
       "\n",
       "[4785 rows x 9 columns]"
      ]
     },
     "execution_count": 153,
     "metadata": {},
     "output_type": "execute_result"
    }
   ],
   "source": [
    "pudding_film_df[pudding_film_df['age'].isnull() == True]"
   ]
  },
  {
   "cell_type": "markdown",
   "metadata": {},
   "source": [
    "# Check Distributions of Data"
   ]
  },
  {
   "cell_type": "markdown",
   "metadata": {},
   "source": [
    "## `.hist()`"
   ]
  },
  {
   "cell_type": "markdown",
   "metadata": {},
   "source": [
    "One quick way to get a sense of the distributions of your data is with the [`hist()` method](https://pandas.pydata.org/pandas-docs/stable/reference/api/pandas.DataFrame.hist.html#pandas.DataFrame.hist), which creates a \"histogram\" of every numerical category in your dataframe. A histogram is a chart the represents the frequency of each value. A histogram looks a lot like a bar chart — and it *is* a lot like a bar chart — except a histogram represents quantitative values as opposed to qualitative values."
   ]
  },
  {
   "cell_type": "code",
   "execution_count": 154,
   "metadata": {},
   "outputs": [
    {
     "data": {
      "text/plain": [
       "array([[<matplotlib.axes._subplots.AxesSubplot object at 0x12220d7d0>,\n",
       "        <matplotlib.axes._subplots.AxesSubplot object at 0x122dd2d50>],\n",
       "       [<matplotlib.axes._subplots.AxesSubplot object at 0x123066bd0>,\n",
       "        <matplotlib.axes._subplots.AxesSubplot object at 0x123098890>],\n",
       "       [<matplotlib.axes._subplots.AxesSubplot object at 0x120add550>,\n",
       "        <matplotlib.axes._subplots.AxesSubplot object at 0x1222bbd90>]],\n",
       "      dtype=object)"
      ]
     },
     "execution_count": 154,
     "metadata": {},
     "output_type": "execute_result"
    },
    {
     "data": {
      "image/png": "[encoded data removed]",
      "text/plain": [
       "<Figure size 432x288 with 6 Axes>"
      ]
     },
     "metadata": {
      "needs_background": "light"
     },
     "output_type": "display_data"
    }
   ],
   "source": [
    "pudding_film_df.hist()"
   ]
  },
  {
   "cell_type": "markdown",
   "metadata": {},
   "source": [
    "If you use the parameter `figsize(x_size, y_size)` and specify specific sizes, you can make the grid of histogram charts bigger."
   ]
  },
  {
   "cell_type": "code",
   "execution_count": 159,
   "metadata": {},
   "outputs": [
    {
     "data": {
      "text/plain": [
       "array([[<matplotlib.axes._subplots.AxesSubplot object at 0x123c15850>,\n",
       "        <matplotlib.axes._subplots.AxesSubplot object at 0x123880bd0>],\n",
       "       [<matplotlib.axes._subplots.AxesSubplot object at 0x11dd94c10>,\n",
       "        <matplotlib.axes._subplots.AxesSubplot object at 0x11ddc78d0>],\n",
       "       [<matplotlib.axes._subplots.AxesSubplot object at 0x11de00c50>,\n",
       "        <matplotlib.axes._subplots.AxesSubplot object at 0x11de35910>]],\n",
       "      dtype=object)"
      ]
     },
     "execution_count": 159,
     "metadata": {},
     "output_type": "execute_result"
    },
    {
     "data": {
      "image/png": "[encoded data removed]",
      "text/plain": [
       "<Figure size 720x720 with 6 Axes>"
      ]
     },
     "metadata": {
      "needs_background": "light"
     },
     "output_type": "display_data"
    }
   ],
   "source": [
    "pudding_film_df.hist(figsize=(10,10))"
   ]
  },
  {
   "cell_type": "markdown",
   "metadata": {},
   "source": [
    "You can also select individual columns and plot histograms based on that column. "
   ]
  },
  {
   "cell_type": "code",
   "execution_count": 75,
   "metadata": {},
   "outputs": [
    {
     "data": {
      "text/plain": [
       "<matplotlib.axes._subplots.AxesSubplot at 0x11d1dfa90>"
      ]
     },
     "execution_count": 75,
     "metadata": {},
     "output_type": "execute_result"
    },
    {
     "data": {
      "image/png": "[encoded data removed]",
      "text/plain": [
       "<Figure size 432x288 with 1 Axes>"
      ]
     },
     "metadata": {
      "needs_background": "light"
     },
     "output_type": "display_data"
    }
   ],
   "source": [
    "pudding_film_df['age'].hist()"
   ]
  },
  {
   "cell_type": "markdown",
   "metadata": {},
   "source": [
    "If you add in the `range= (x_size, y_size)` parameter, you can focus your histogram on a specific area."
   ]
  },
  {
   "cell_type": "code",
   "execution_count": 163,
   "metadata": {},
   "outputs": [
    {
     "data": {
      "text/plain": [
       "<matplotlib.axes._subplots.AxesSubplot at 0x1245572d0>"
      ]
     },
     "execution_count": 163,
     "metadata": {},
     "output_type": "execute_result"
    },
    {
     "data": {
      "image/png": "[encoded data removed]",
      "text/plain": [
       "<Figure size 432x288 with 1 Axes>"
      ]
     },
     "metadata": {
      "needs_background": "light"
     },
     "output_type": "display_data"
    }
   ],
   "source": [
    "pudding_film_df['age'].hist(range=(0, 100))"
   ]
  },
  {
   "cell_type": "code",
   "execution_count": 77,
   "metadata": {},
   "outputs": [
    {
     "data": {
      "text/plain": [
       "<matplotlib.axes._subplots.AxesSubplot at 0x11f15ef50>"
      ]
     },
     "execution_count": 77,
     "metadata": {},
     "output_type": "execute_result"
    },
    {
     "data": {
      "image/png": "[encoded data removed]",
      "text/plain": [
       "<Figure size 432x288 with 1 Axes>"
      ]
     },
     "metadata": {
      "needs_background": "light"
     },
     "output_type": "display_data"
    }
   ],
   "source": [
    "pudding_film_df['gross'].hist()"
   ]
  },
  {
   "cell_type": "markdown",
   "metadata": {},
   "source": [
    "You can also specify how finely to group the data with the `bins` parameter. You might think about it like putting the data into a bunch of physical bins 🗑️  If we set the `bins` parameter to 100, we can a more nuanced view of the box office gross distribution."
   ]
  },
  {
   "cell_type": "code",
   "execution_count": 78,
   "metadata": {},
   "outputs": [
    {
     "data": {
      "text/plain": [
       "<matplotlib.axes._subplots.AxesSubplot at 0x1210ab650>"
      ]
     },
     "execution_count": 78,
     "metadata": {},
     "output_type": "execute_result"
    },
    {
     "data": {
      "image/png": "[encoded data removed]",
      "text/plain": [
       "<Figure size 432x288 with 1 Axes>"
      ]
     },
     "metadata": {
      "needs_background": "light"
     },
     "output_type": "display_data"
    }
   ],
   "source": [
    "pudding_film_df['gross'].hist(bins=100, range=(0, 1000))"
   ]
  },
  {
   "cell_type": "code",
   "execution_count": 121,
   "metadata": {},
   "outputs": [
    {
     "data": {
      "text/plain": [
       "<matplotlib.axes._subplots.AxesSubplot at 0x122276290>"
      ]
     },
     "execution_count": 121,
     "metadata": {},
     "output_type": "execute_result"
    },
    {
     "data": {
      "image/png": "[encoded data removed]",
      "text/plain": [
       "<Figure size 432x288 with 1 Axes>"
      ]
     },
     "metadata": {
      "needs_background": "light"
     },
     "output_type": "display_data"
    }
   ],
   "source": [
    "pudding_film_df['release_year'].hist()"
   ]
  },
  {
   "cell_type": "code",
   "execution_count": 165,
   "metadata": {},
   "outputs": [
    {
     "data": {
      "text/plain": [
       "<matplotlib.axes._subplots.AxesSubplot at 0x1246096d0>"
      ]
     },
     "execution_count": 165,
     "metadata": {},
     "output_type": "execute_result"
    },
    {
     "data": {
      "image/png": "[encoded data removed]",
      "text/plain": [
       "<Figure size 432x288 with 1 Axes>"
      ]
     },
     "metadata": {
      "needs_background": "light"
     },
     "output_type": "display_data"
    }
   ],
   "source": [
    "pudding_film_df['release_year'].hist(bins=50, range=(1940, 2020))"
   ]
  },
  {
   "cell_type": "markdown",
   "metadata": {},
   "source": [
    "If you specifically select a column that contains qualitative data as opposed to quantitative data, you can also force Pandas to make a histogram."
   ]
  },
  {
   "cell_type": "code",
   "execution_count": 80,
   "metadata": {},
   "outputs": [
    {
     "data": {
      "text/plain": [
       "<matplotlib.axes._subplots.AxesSubplot at 0x1212c2050>"
      ]
     },
     "execution_count": 80,
     "metadata": {},
     "output_type": "execute_result"
    },
    {
     "data": {
      "image/png": "[encoded data removed]",
      "text/plain": [
       "<Figure size 432x288 with 1 Axes>"
      ]
     },
     "metadata": {
      "needs_background": "light"
     },
     "output_type": "display_data"
    }
   ],
   "source": [
    "pudding_film_df['gender'].hist()"
   ]
  },
  {
   "cell_type": "markdown",
   "metadata": {},
   "source": [
    "# Clean and Transform Data"
   ]
  },
  {
   "cell_type": "markdown",
   "metadata": {},
   "source": [
    "## Pandas `.str` Methods"
   ]
  },
  {
   "cell_type": "markdown",
   "metadata": {},
   "source": [
    "| **Pandas String Method** | **Explanation**                                                                                   |\n",
    "|:-------------:|:---------------------------------------------------------------------------------------------------:|\n",
    "| `pandas_column.str.lower()`         | makes the string in each row lowercase                                                                                |\n",
    "| `pandas_column.str.upper()`         | makes the string in each row uppercase                                                |\n",
    "| `pandas_column.str.title()`         | makes the string in each row titlecase                                                |\n",
    "| `pandas_column.str.replace('old string', 'new string')`      | replaces `old string` with `new string` for each row |\n",
    "| `pandas_column.str.contains('some string')`      | tests whether string in each row contains \"some string\" |\n",
    "| `pandas_column.str.split('delim')`          | returns a list of substrings separated by the given delimiter |\n",
    "| `pandas_column.str.join(list)`         | opposite of split(), joins the elements in the given list together using the string                                                                        |\n",
    "                                                            "
   ]
  },
  {
   "cell_type": "markdown",
   "metadata": {},
   "source": [
    "Remember all the special things that you can do with string data aka [string methods](https://melaniewalsh.github.io/Intro-Cultural-Analytics/Python/String-Methods.html)? Well Pandas columns that contain string data also have special [Pandas string methods](https://pandas.pydata.org/pandas-docs/stable/user_guide/text.html#string-methods). Many of them are the same or almost the same as regular Python string methods, except  they will transform every single string value in a column, and you have to add the code `.str` to the method chain."
   ]
  },
  {
   "cell_type": "markdown",
   "metadata": {},
   "source": [
    "For example, to transform every character's name in the \"character\" column from lowercase to uppercase, you can add `.str.upper()` to `pudding_film_df['character']`"
   ]
  },
  {
   "cell_type": "code",
   "execution_count": 168,
   "metadata": {},
   "outputs": [],
   "source": [
    "pudding_film_df['character'] = pudding_film_df['character'].str.upper()"
   ]
  },
  {
   "cell_type": "code",
   "execution_count": 169,
   "metadata": {},
   "outputs": [
    {
     "data": {
      "text/html": [
       "<div>\n",
       "<style scoped>\n",
       "    .dataframe tbody tr th:only-of-type {\n",
       "        vertical-align: middle;\n",
       "    }\n",
       "\n",
       "    .dataframe tbody tr th {\n",
       "        vertical-align: top;\n",
       "    }\n",
       "\n",
       "    .dataframe thead th {\n",
       "        text-align: right;\n",
       "    }\n",
       "</style>\n",
       "<table border=\"1\" class=\"dataframe\">\n",
       "  <thead>\n",
       "    <tr style=\"text-align: right;\">\n",
       "      <th></th>\n",
       "      <th>script_id</th>\n",
       "      <th>character</th>\n",
       "      <th>words</th>\n",
       "      <th>gender</th>\n",
       "      <th>age</th>\n",
       "      <th>title</th>\n",
       "      <th>release_year</th>\n",
       "      <th>gross</th>\n",
       "      <th>proportion_of_dialogue</th>\n",
       "    </tr>\n",
       "  </thead>\n",
       "  <tbody>\n",
       "    <tr>\n",
       "      <th>0</th>\n",
       "      <td>280</td>\n",
       "      <td>BETTY</td>\n",
       "      <td>311</td>\n",
       "      <td>f</td>\n",
       "      <td>35.0</td>\n",
       "      <td>The Bridges of Madison County</td>\n",
       "      <td>1995</td>\n",
       "      <td>142.0</td>\n",
       "      <td>0.048639</td>\n",
       "    </tr>\n",
       "    <tr>\n",
       "      <th>1</th>\n",
       "      <td>280</td>\n",
       "      <td>CAROLYN JOHNSON</td>\n",
       "      <td>873</td>\n",
       "      <td>f</td>\n",
       "      <td>NaN</td>\n",
       "      <td>The Bridges of Madison County</td>\n",
       "      <td>1995</td>\n",
       "      <td>142.0</td>\n",
       "      <td>0.136534</td>\n",
       "    </tr>\n",
       "    <tr>\n",
       "      <th>2</th>\n",
       "      <td>280</td>\n",
       "      <td>ELEANOR</td>\n",
       "      <td>138</td>\n",
       "      <td>f</td>\n",
       "      <td>NaN</td>\n",
       "      <td>The Bridges of Madison County</td>\n",
       "      <td>1995</td>\n",
       "      <td>142.0</td>\n",
       "      <td>0.021583</td>\n",
       "    </tr>\n",
       "    <tr>\n",
       "      <th>3</th>\n",
       "      <td>280</td>\n",
       "      <td>FRANCESCA JOHNS</td>\n",
       "      <td>2251</td>\n",
       "      <td>f</td>\n",
       "      <td>46.0</td>\n",
       "      <td>The Bridges of Madison County</td>\n",
       "      <td>1995</td>\n",
       "      <td>142.0</td>\n",
       "      <td>0.352049</td>\n",
       "    </tr>\n",
       "    <tr>\n",
       "      <th>4</th>\n",
       "      <td>280</td>\n",
       "      <td>MADGE</td>\n",
       "      <td>190</td>\n",
       "      <td>f</td>\n",
       "      <td>46.0</td>\n",
       "      <td>The Bridges of Madison County</td>\n",
       "      <td>1995</td>\n",
       "      <td>142.0</td>\n",
       "      <td>0.029715</td>\n",
       "    </tr>\n",
       "  </tbody>\n",
       "</table>\n",
       "</div>"
      ],
      "text/plain": [
       "   script_id        character  words gender   age  \\\n",
       "0        280            BETTY    311      f  35.0   \n",
       "1        280  CAROLYN JOHNSON    873      f   NaN   \n",
       "2        280          ELEANOR    138      f   NaN   \n",
       "3        280  FRANCESCA JOHNS   2251      f  46.0   \n",
       "4        280            MADGE    190      f  46.0   \n",
       "\n",
       "                           title  release_year  gross  proportion_of_dialogue  \n",
       "0  The Bridges of Madison County          1995  142.0                0.048639  \n",
       "1  The Bridges of Madison County          1995  142.0                0.136534  \n",
       "2  The Bridges of Madison County          1995  142.0                0.021583  \n",
       "3  The Bridges of Madison County          1995  142.0                0.352049  \n",
       "4  The Bridges of Madison County          1995  142.0                0.029715  "
      ]
     },
     "execution_count": 169,
     "metadata": {},
     "output_type": "execute_result"
    }
   ],
   "source": [
    "pudding_film_df.head()"
   ]
  },
  {
   "cell_type": "markdown",
   "metadata": {},
   "source": [
    "To transform every character's name in the \"character\" column back to lowercase, you can add`.str.lower()` to `pudding_film_df['character']`"
   ]
  },
  {
   "cell_type": "code",
   "execution_count": 170,
   "metadata": {},
   "outputs": [],
   "source": [
    "pudding_film_df['character'] = pudding_film_df['character'].str.lower()"
   ]
  },
  {
   "cell_type": "code",
   "execution_count": 171,
   "metadata": {},
   "outputs": [
    {
     "data": {
      "text/html": [
       "<div>\n",
       "<style scoped>\n",
       "    .dataframe tbody tr th:only-of-type {\n",
       "        vertical-align: middle;\n",
       "    }\n",
       "\n",
       "    .dataframe tbody tr th {\n",
       "        vertical-align: top;\n",
       "    }\n",
       "\n",
       "    .dataframe thead th {\n",
       "        text-align: right;\n",
       "    }\n",
       "</style>\n",
       "<table border=\"1\" class=\"dataframe\">\n",
       "  <thead>\n",
       "    <tr style=\"text-align: right;\">\n",
       "      <th></th>\n",
       "      <th>script_id</th>\n",
       "      <th>character</th>\n",
       "      <th>words</th>\n",
       "      <th>gender</th>\n",
       "      <th>age</th>\n",
       "      <th>title</th>\n",
       "      <th>release_year</th>\n",
       "      <th>gross</th>\n",
       "      <th>proportion_of_dialogue</th>\n",
       "    </tr>\n",
       "  </thead>\n",
       "  <tbody>\n",
       "    <tr>\n",
       "      <th>18089</th>\n",
       "      <td>6727</td>\n",
       "      <td>eddie valentine</td>\n",
       "      <td>447</td>\n",
       "      <td>m</td>\n",
       "      <td>52.0</td>\n",
       "      <td>The Rocketeer</td>\n",
       "      <td>1991</td>\n",
       "      <td>96.0</td>\n",
       "      <td>0.054426</td>\n",
       "    </tr>\n",
       "    <tr>\n",
       "      <th>20332</th>\n",
       "      <td>7849</td>\n",
       "      <td>sgt. jerry woot</td>\n",
       "      <td>1448</td>\n",
       "      <td>m</td>\n",
       "      <td>33.0</td>\n",
       "      <td>Gangster Squad</td>\n",
       "      <td>2013</td>\n",
       "      <td>49.0</td>\n",
       "      <td>0.152985</td>\n",
       "    </tr>\n",
       "    <tr>\n",
       "      <th>10910</th>\n",
       "      <td>3500</td>\n",
       "      <td>freddie miles</td>\n",
       "      <td>958</td>\n",
       "      <td>m</td>\n",
       "      <td>32.0</td>\n",
       "      <td>The Talented Mr. Ripley</td>\n",
       "      <td>1999</td>\n",
       "      <td>139.0</td>\n",
       "      <td>0.043223</td>\n",
       "    </tr>\n",
       "    <tr>\n",
       "      <th>16358</th>\n",
       "      <td>5482</td>\n",
       "      <td>gran</td>\n",
       "      <td>325</td>\n",
       "      <td>f</td>\n",
       "      <td>87.0</td>\n",
       "      <td>The Croods</td>\n",
       "      <td>2013</td>\n",
       "      <td>200.0</td>\n",
       "      <td>0.045493</td>\n",
       "    </tr>\n",
       "    <tr>\n",
       "      <th>15780</th>\n",
       "      <td>5342</td>\n",
       "      <td>doug butabi</td>\n",
       "      <td>5399</td>\n",
       "      <td>m</td>\n",
       "      <td>28.0</td>\n",
       "      <td>A Night at the Roxbury</td>\n",
       "      <td>1998</td>\n",
       "      <td>56.0</td>\n",
       "      <td>0.369061</td>\n",
       "    </tr>\n",
       "    <tr>\n",
       "      <th>536</th>\n",
       "      <td>761</td>\n",
       "      <td>rawlie thorpe</td>\n",
       "      <td>118</td>\n",
       "      <td>m</td>\n",
       "      <td>40.0</td>\n",
       "      <td>The Bonfire of the Vanities</td>\n",
       "      <td>1990</td>\n",
       "      <td>32.0</td>\n",
       "      <td>0.008302</td>\n",
       "    </tr>\n",
       "    <tr>\n",
       "      <th>9870</th>\n",
       "      <td>3189</td>\n",
       "      <td>teenage boy</td>\n",
       "      <td>368</td>\n",
       "      <td>m</td>\n",
       "      <td>NaN</td>\n",
       "      <td>Red Riding Hood</td>\n",
       "      <td>2011</td>\n",
       "      <td>41.0</td>\n",
       "      <td>0.019562</td>\n",
       "    </tr>\n",
       "    <tr>\n",
       "      <th>12871</th>\n",
       "      <td>4236</td>\n",
       "      <td>sissy</td>\n",
       "      <td>289</td>\n",
       "      <td>f</td>\n",
       "      <td>28.0</td>\n",
       "      <td>Jason Lives: Friday the 13th Part VI</td>\n",
       "      <td>1986</td>\n",
       "      <td>44.0</td>\n",
       "      <td>0.054569</td>\n",
       "    </tr>\n",
       "    <tr>\n",
       "      <th>7847</th>\n",
       "      <td>2642</td>\n",
       "      <td>mrs. bailey</td>\n",
       "      <td>133</td>\n",
       "      <td>f</td>\n",
       "      <td>57.0</td>\n",
       "      <td>It's a Wonderful Life</td>\n",
       "      <td>1946</td>\n",
       "      <td>NaN</td>\n",
       "      <td>0.009724</td>\n",
       "    </tr>\n",
       "    <tr>\n",
       "      <th>18198</th>\n",
       "      <td>6833</td>\n",
       "      <td>ian</td>\n",
       "      <td>235</td>\n",
       "      <td>m</td>\n",
       "      <td>43.0</td>\n",
       "      <td>Match Point</td>\n",
       "      <td>2005</td>\n",
       "      <td>31.0</td>\n",
       "      <td>0.011876</td>\n",
       "    </tr>\n",
       "  </tbody>\n",
       "</table>\n",
       "</div>"
      ],
      "text/plain": [
       "       script_id        character  words gender   age  \\\n",
       "18089       6727  eddie valentine    447      m  52.0   \n",
       "20332       7849  sgt. jerry woot   1448      m  33.0   \n",
       "10910       3500    freddie miles    958      m  32.0   \n",
       "16358       5482             gran    325      f  87.0   \n",
       "15780       5342      doug butabi   5399      m  28.0   \n",
       "536          761    rawlie thorpe    118      m  40.0   \n",
       "9870        3189      teenage boy    368      m   NaN   \n",
       "12871       4236            sissy    289      f  28.0   \n",
       "7847        2642      mrs. bailey    133      f  57.0   \n",
       "18198       6833              ian    235      m  43.0   \n",
       "\n",
       "                                      title  release_year  gross  \\\n",
       "18089                         The Rocketeer          1991   96.0   \n",
       "20332                        Gangster Squad          2013   49.0   \n",
       "10910               The Talented Mr. Ripley          1999  139.0   \n",
       "16358                            The Croods          2013  200.0   \n",
       "15780                A Night at the Roxbury          1998   56.0   \n",
       "536             The Bonfire of the Vanities          1990   32.0   \n",
       "9870                        Red Riding Hood          2011   41.0   \n",
       "12871  Jason Lives: Friday the 13th Part VI          1986   44.0   \n",
       "7847                  It's a Wonderful Life          1946    NaN   \n",
       "18198                           Match Point          2005   31.0   \n",
       "\n",
       "       proportion_of_dialogue  \n",
       "18089                0.054426  \n",
       "20332                0.152985  \n",
       "10910                0.043223  \n",
       "16358                0.045493  \n",
       "15780                0.369061  \n",
       "536                  0.008302  \n",
       "9870                 0.019562  \n",
       "12871                0.054569  \n",
       "7847                 0.009724  \n",
       "18198                0.011876  "
      ]
     },
     "execution_count": 171,
     "metadata": {},
     "output_type": "execute_result"
    }
   ],
   "source": [
    "pudding_film_df.sample(10)"
   ]
  },
  {
   "cell_type": "markdown",
   "metadata": {},
   "source": [
    "If we want to replace the gender columns's single letter abbreviation for \"male\" / \"female\" (sex) with \"man\" / \"woman\" (gender identity), we could use the `.str.replace()` method. "
   ]
  },
  {
   "cell_type": "code",
   "execution_count": 172,
   "metadata": {},
   "outputs": [],
   "source": [
    "pudding_film_df['gender'] = pudding_film_df['gender'].str.replace('m', 'man')"
   ]
  },
  {
   "cell_type": "code",
   "execution_count": 173,
   "metadata": {},
   "outputs": [],
   "source": [
    "pudding_film_df['gender'] = pudding_film_df['gender'].str.replace('f', 'woman')"
   ]
  },
  {
   "cell_type": "code",
   "execution_count": 174,
   "metadata": {},
   "outputs": [
    {
     "data": {
      "text/html": [
       "<div>\n",
       "<style scoped>\n",
       "    .dataframe tbody tr th:only-of-type {\n",
       "        vertical-align: middle;\n",
       "    }\n",
       "\n",
       "    .dataframe tbody tr th {\n",
       "        vertical-align: top;\n",
       "    }\n",
       "\n",
       "    .dataframe thead th {\n",
       "        text-align: right;\n",
       "    }\n",
       "</style>\n",
       "<table border=\"1\" class=\"dataframe\">\n",
       "  <thead>\n",
       "    <tr style=\"text-align: right;\">\n",
       "      <th></th>\n",
       "      <th>script_id</th>\n",
       "      <th>character</th>\n",
       "      <th>words</th>\n",
       "      <th>gender</th>\n",
       "      <th>age</th>\n",
       "      <th>title</th>\n",
       "      <th>release_year</th>\n",
       "      <th>gross</th>\n",
       "      <th>proportion_of_dialogue</th>\n",
       "    </tr>\n",
       "  </thead>\n",
       "  <tbody>\n",
       "    <tr>\n",
       "      <th>2715</th>\n",
       "      <td>1291</td>\n",
       "      <td>max fischer</td>\n",
       "      <td>2983</td>\n",
       "      <td>man</td>\n",
       "      <td>18.0</td>\n",
       "      <td>Rushmore</td>\n",
       "      <td>1998</td>\n",
       "      <td>31.0</td>\n",
       "      <td>0.552101</td>\n",
       "    </tr>\n",
       "    <tr>\n",
       "      <th>10196</th>\n",
       "      <td>3294</td>\n",
       "      <td>mr. universe</td>\n",
       "      <td>750</td>\n",
       "      <td>man</td>\n",
       "      <td>27.0</td>\n",
       "      <td>Serenity</td>\n",
       "      <td>2005</td>\n",
       "      <td>34.0</td>\n",
       "      <td>0.025805</td>\n",
       "    </tr>\n",
       "    <tr>\n",
       "      <th>14438</th>\n",
       "      <td>4787</td>\n",
       "      <td>chief weirzbows</td>\n",
       "      <td>679</td>\n",
       "      <td>man</td>\n",
       "      <td>55.0</td>\n",
       "      <td>The Place Beyond the Pines</td>\n",
       "      <td>2012</td>\n",
       "      <td>23.0</td>\n",
       "      <td>0.062231</td>\n",
       "    </tr>\n",
       "    <tr>\n",
       "      <th>19760</th>\n",
       "      <td>7607</td>\n",
       "      <td>miranda sampson</td>\n",
       "      <td>287</td>\n",
       "      <td>woman</td>\n",
       "      <td>24.0</td>\n",
       "      <td>Harper</td>\n",
       "      <td>1966</td>\n",
       "      <td>NaN</td>\n",
       "      <td>0.127216</td>\n",
       "    </tr>\n",
       "    <tr>\n",
       "      <th>16612</th>\n",
       "      <td>5528</td>\n",
       "      <td>kerchak</td>\n",
       "      <td>250</td>\n",
       "      <td>man</td>\n",
       "      <td>59.0</td>\n",
       "      <td>Tarzan</td>\n",
       "      <td>1999</td>\n",
       "      <td>292.0</td>\n",
       "      <td>0.055175</td>\n",
       "    </tr>\n",
       "    <tr>\n",
       "      <th>1684</th>\n",
       "      <td>1036</td>\n",
       "      <td>willie scott</td>\n",
       "      <td>1564</td>\n",
       "      <td>woman</td>\n",
       "      <td>31.0</td>\n",
       "      <td>Indiana Jones and the Temple of Doom</td>\n",
       "      <td>1984</td>\n",
       "      <td>466.0</td>\n",
       "      <td>0.298359</td>\n",
       "    </tr>\n",
       "    <tr>\n",
       "      <th>7318</th>\n",
       "      <td>2510</td>\n",
       "      <td>mc hammer</td>\n",
       "      <td>6342</td>\n",
       "      <td>man</td>\n",
       "      <td>NaN</td>\n",
       "      <td>The Hebrew Hammer</td>\n",
       "      <td>2003</td>\n",
       "      <td>NaN</td>\n",
       "      <td>0.438226</td>\n",
       "    </tr>\n",
       "    <tr>\n",
       "      <th>6835</th>\n",
       "      <td>2358</td>\n",
       "      <td>waiter</td>\n",
       "      <td>168</td>\n",
       "      <td>man</td>\n",
       "      <td>NaN</td>\n",
       "      <td>Game 6</td>\n",
       "      <td>2005</td>\n",
       "      <td>NaN</td>\n",
       "      <td>0.010474</td>\n",
       "    </tr>\n",
       "    <tr>\n",
       "      <th>13905</th>\n",
       "      <td>4596</td>\n",
       "      <td>javier</td>\n",
       "      <td>548</td>\n",
       "      <td>man</td>\n",
       "      <td>57.0</td>\n",
       "      <td>Maria Full of Grace</td>\n",
       "      <td>2004</td>\n",
       "      <td>9.0</td>\n",
       "      <td>0.068509</td>\n",
       "    </tr>\n",
       "    <tr>\n",
       "      <th>4853</th>\n",
       "      <td>1863</td>\n",
       "      <td>barbara buckley</td>\n",
       "      <td>538</td>\n",
       "      <td>woman</td>\n",
       "      <td>27.0</td>\n",
       "      <td>Blow</td>\n",
       "      <td>2001</td>\n",
       "      <td>81.0</td>\n",
       "      <td>0.021450</td>\n",
       "    </tr>\n",
       "  </tbody>\n",
       "</table>\n",
       "</div>"
      ],
      "text/plain": [
       "       script_id        character  words gender   age  \\\n",
       "2715        1291      max fischer   2983    man  18.0   \n",
       "10196       3294     mr. universe    750    man  27.0   \n",
       "14438       4787  chief weirzbows    679    man  55.0   \n",
       "19760       7607  miranda sampson    287  woman  24.0   \n",
       "16612       5528          kerchak    250    man  59.0   \n",
       "1684        1036     willie scott   1564  woman  31.0   \n",
       "7318        2510        mc hammer   6342    man   NaN   \n",
       "6835        2358           waiter    168    man   NaN   \n",
       "13905       4596           javier    548    man  57.0   \n",
       "4853        1863  barbara buckley    538  woman  27.0   \n",
       "\n",
       "                                      title  release_year  gross  \\\n",
       "2715                               Rushmore          1998   31.0   \n",
       "10196                              Serenity          2005   34.0   \n",
       "14438            The Place Beyond the Pines          2012   23.0   \n",
       "19760                                Harper          1966    NaN   \n",
       "16612                                Tarzan          1999  292.0   \n",
       "1684   Indiana Jones and the Temple of Doom          1984  466.0   \n",
       "7318                      The Hebrew Hammer          2003    NaN   \n",
       "6835                                 Game 6          2005    NaN   \n",
       "13905                   Maria Full of Grace          2004    9.0   \n",
       "4853                                   Blow          2001   81.0   \n",
       "\n",
       "       proportion_of_dialogue  \n",
       "2715                 0.552101  \n",
       "10196                0.025805  \n",
       "14438                0.062231  \n",
       "19760                0.127216  \n",
       "16612                0.055175  \n",
       "1684                 0.298359  \n",
       "7318                 0.438226  \n",
       "6835                 0.010474  \n",
       "13905                0.068509  \n",
       "4853                 0.021450  "
      ]
     },
     "execution_count": 174,
     "metadata": {},
     "output_type": "execute_result"
    }
   ],
   "source": [
    "pudding_film_df.sample(10)"
   ]
  },
  {
   "cell_type": "markdown",
   "metadata": {},
   "source": [
    "We can also use the `.str.contains()` to search for particular words or phrases in a column, such as \"Star Wars\" or \"Mean Girls\"."
   ]
  },
  {
   "cell_type": "code",
   "execution_count": 176,
   "metadata": {},
   "outputs": [
    {
     "data": {
      "text/html": [
       "<div>\n",
       "<style scoped>\n",
       "    .dataframe tbody tr th:only-of-type {\n",
       "        vertical-align: middle;\n",
       "    }\n",
       "\n",
       "    .dataframe tbody tr th {\n",
       "        vertical-align: top;\n",
       "    }\n",
       "\n",
       "    .dataframe thead th {\n",
       "        text-align: right;\n",
       "    }\n",
       "</style>\n",
       "<table border=\"1\" class=\"dataframe\">\n",
       "  <thead>\n",
       "    <tr style=\"text-align: right;\">\n",
       "      <th></th>\n",
       "      <th>script_id</th>\n",
       "      <th>character</th>\n",
       "      <th>words</th>\n",
       "      <th>gender</th>\n",
       "      <th>age</th>\n",
       "      <th>title</th>\n",
       "      <th>release_year</th>\n",
       "      <th>gross</th>\n",
       "      <th>proportion_of_dialogue</th>\n",
       "    </tr>\n",
       "  </thead>\n",
       "  <tbody>\n",
       "    <tr>\n",
       "      <th>3017</th>\n",
       "      <td>1359</td>\n",
       "      <td>admiral ackbar</td>\n",
       "      <td>199</td>\n",
       "      <td>man</td>\n",
       "      <td>61.0</td>\n",
       "      <td>Star Wars: Episode VI - Return of the Jedi</td>\n",
       "      <td>1983</td>\n",
       "      <td>853.0</td>\n",
       "      <td>0.039096</td>\n",
       "    </tr>\n",
       "    <tr>\n",
       "      <th>3018</th>\n",
       "      <td>1359</td>\n",
       "      <td>ben 'obi-wan' k</td>\n",
       "      <td>462</td>\n",
       "      <td>man</td>\n",
       "      <td>69.0</td>\n",
       "      <td>Star Wars: Episode VI - Return of the Jedi</td>\n",
       "      <td>1983</td>\n",
       "      <td>853.0</td>\n",
       "      <td>0.090766</td>\n",
       "    </tr>\n",
       "    <tr>\n",
       "      <th>3019</th>\n",
       "      <td>1359</td>\n",
       "      <td>c-3po</td>\n",
       "      <td>881</td>\n",
       "      <td>man</td>\n",
       "      <td>37.0</td>\n",
       "      <td>Star Wars: Episode VI - Return of the Jedi</td>\n",
       "      <td>1983</td>\n",
       "      <td>853.0</td>\n",
       "      <td>0.173084</td>\n",
       "    </tr>\n",
       "    <tr>\n",
       "      <th>3020</th>\n",
       "      <td>1359</td>\n",
       "      <td>darth vader</td>\n",
       "      <td>381</td>\n",
       "      <td>man</td>\n",
       "      <td>48.0</td>\n",
       "      <td>Star Wars: Episode VI - Return of the Jedi</td>\n",
       "      <td>1983</td>\n",
       "      <td>853.0</td>\n",
       "      <td>0.074853</td>\n",
       "    </tr>\n",
       "    <tr>\n",
       "      <th>3021</th>\n",
       "      <td>1359</td>\n",
       "      <td>han solo</td>\n",
       "      <td>835</td>\n",
       "      <td>man</td>\n",
       "      <td>41.0</td>\n",
       "      <td>Star Wars: Episode VI - Return of the Jedi</td>\n",
       "      <td>1983</td>\n",
       "      <td>853.0</td>\n",
       "      <td>0.164047</td>\n",
       "    </tr>\n",
       "    <tr>\n",
       "      <th>...</th>\n",
       "      <td>...</td>\n",
       "      <td>...</td>\n",
       "      <td>...</td>\n",
       "      <td>...</td>\n",
       "      <td>...</td>\n",
       "      <td>...</td>\n",
       "      <td>...</td>\n",
       "      <td>...</td>\n",
       "      <td>...</td>\n",
       "    </tr>\n",
       "    <tr>\n",
       "      <th>21008</th>\n",
       "      <td>8099</td>\n",
       "      <td>poe dameron</td>\n",
       "      <td>604</td>\n",
       "      <td>man</td>\n",
       "      <td>36.0</td>\n",
       "      <td>Star Wars: Episode VII - The Force Awakens</td>\n",
       "      <td>2015</td>\n",
       "      <td>927.0</td>\n",
       "      <td>0.090609</td>\n",
       "    </tr>\n",
       "    <tr>\n",
       "      <th>21009</th>\n",
       "      <td>8099</td>\n",
       "      <td>princess leia</td>\n",
       "      <td>252</td>\n",
       "      <td>woman</td>\n",
       "      <td>59.0</td>\n",
       "      <td>Star Wars: Episode VII - The Force Awakens</td>\n",
       "      <td>2015</td>\n",
       "      <td>927.0</td>\n",
       "      <td>0.037804</td>\n",
       "    </tr>\n",
       "    <tr>\n",
       "      <th>21010</th>\n",
       "      <td>8099</td>\n",
       "      <td>rey</td>\n",
       "      <td>1363</td>\n",
       "      <td>woman</td>\n",
       "      <td>23.0</td>\n",
       "      <td>Star Wars: Episode VII - The Force Awakens</td>\n",
       "      <td>2015</td>\n",
       "      <td>927.0</td>\n",
       "      <td>0.204470</td>\n",
       "    </tr>\n",
       "    <tr>\n",
       "      <th>21011</th>\n",
       "      <td>8099</td>\n",
       "      <td>stormtrooper</td>\n",
       "      <td>114</td>\n",
       "      <td>man</td>\n",
       "      <td>NaN</td>\n",
       "      <td>Star Wars: Episode VII - The Force Awakens</td>\n",
       "      <td>2015</td>\n",
       "      <td>927.0</td>\n",
       "      <td>0.017102</td>\n",
       "    </tr>\n",
       "    <tr>\n",
       "      <th>21012</th>\n",
       "      <td>8099</td>\n",
       "      <td>supreme leader</td>\n",
       "      <td>168</td>\n",
       "      <td>man</td>\n",
       "      <td>51.0</td>\n",
       "      <td>Star Wars: Episode VII - The Force Awakens</td>\n",
       "      <td>2015</td>\n",
       "      <td>927.0</td>\n",
       "      <td>0.025203</td>\n",
       "    </tr>\n",
       "  </tbody>\n",
       "</table>\n",
       "<p>97 rows × 9 columns</p>\n",
       "</div>"
      ],
      "text/plain": [
       "       script_id        character  words gender   age  \\\n",
       "3017        1359   admiral ackbar    199    man  61.0   \n",
       "3018        1359  ben 'obi-wan' k    462    man  69.0   \n",
       "3019        1359            c-3po    881    man  37.0   \n",
       "3020        1359      darth vader    381    man  48.0   \n",
       "3021        1359         han solo    835    man  41.0   \n",
       "...          ...              ...    ...    ...   ...   \n",
       "21008       8099      poe dameron    604    man  36.0   \n",
       "21009       8099    princess leia    252  woman  59.0   \n",
       "21010       8099              rey   1363  woman  23.0   \n",
       "21011       8099     stormtrooper    114    man   NaN   \n",
       "21012       8099  supreme leader     168    man  51.0   \n",
       "\n",
       "                                            title  release_year  gross  \\\n",
       "3017   Star Wars: Episode VI - Return of the Jedi          1983  853.0   \n",
       "3018   Star Wars: Episode VI - Return of the Jedi          1983  853.0   \n",
       "3019   Star Wars: Episode VI - Return of the Jedi          1983  853.0   \n",
       "3020   Star Wars: Episode VI - Return of the Jedi          1983  853.0   \n",
       "3021   Star Wars: Episode VI - Return of the Jedi          1983  853.0   \n",
       "...                                           ...           ...    ...   \n",
       "21008  Star Wars: Episode VII - The Force Awakens          2015  927.0   \n",
       "21009  Star Wars: Episode VII - The Force Awakens          2015  927.0   \n",
       "21010  Star Wars: Episode VII - The Force Awakens          2015  927.0   \n",
       "21011  Star Wars: Episode VII - The Force Awakens          2015  927.0   \n",
       "21012  Star Wars: Episode VII - The Force Awakens          2015  927.0   \n",
       "\n",
       "       proportion_of_dialogue  \n",
       "3017                 0.039096  \n",
       "3018                 0.090766  \n",
       "3019                 0.173084  \n",
       "3020                 0.074853  \n",
       "3021                 0.164047  \n",
       "...                       ...  \n",
       "21008                0.090609  \n",
       "21009                0.037804  \n",
       "21010                0.204470  \n",
       "21011                0.017102  \n",
       "21012                0.025203  \n",
       "\n",
       "[97 rows x 9 columns]"
      ]
     },
     "execution_count": 176,
     "metadata": {},
     "output_type": "execute_result"
    }
   ],
   "source": [
    "pudding_film_df[pudding_film_df['title'].str.contains('Star Wars')]"
   ]
  },
  {
   "cell_type": "code",
   "execution_count": 177,
   "metadata": {},
   "outputs": [
    {
     "data": {
      "text/html": [
       "<div>\n",
       "<style scoped>\n",
       "    .dataframe tbody tr th:only-of-type {\n",
       "        vertical-align: middle;\n",
       "    }\n",
       "\n",
       "    .dataframe tbody tr th {\n",
       "        vertical-align: top;\n",
       "    }\n",
       "\n",
       "    .dataframe thead th {\n",
       "        text-align: right;\n",
       "    }\n",
       "</style>\n",
       "<table border=\"1\" class=\"dataframe\">\n",
       "  <thead>\n",
       "    <tr style=\"text-align: right;\">\n",
       "      <th></th>\n",
       "      <th>script_id</th>\n",
       "      <th>character</th>\n",
       "      <th>words</th>\n",
       "      <th>gender</th>\n",
       "      <th>age</th>\n",
       "      <th>title</th>\n",
       "      <th>release_year</th>\n",
       "      <th>gross</th>\n",
       "      <th>proportion_of_dialogue</th>\n",
       "    </tr>\n",
       "  </thead>\n",
       "  <tbody>\n",
       "    <tr>\n",
       "      <th>13938</th>\n",
       "      <td>4605</td>\n",
       "      <td>aaron samuels</td>\n",
       "      <td>426</td>\n",
       "      <td>man</td>\n",
       "      <td>23.0</td>\n",
       "      <td>Mean Girls</td>\n",
       "      <td>2004</td>\n",
       "      <td>120.0</td>\n",
       "      <td>0.053890</td>\n",
       "    </tr>\n",
       "    <tr>\n",
       "      <th>13939</th>\n",
       "      <td>4605</td>\n",
       "      <td>cady heron</td>\n",
       "      <td>2798</td>\n",
       "      <td>woman</td>\n",
       "      <td>18.0</td>\n",
       "      <td>Mean Girls</td>\n",
       "      <td>2004</td>\n",
       "      <td>120.0</td>\n",
       "      <td>0.353953</td>\n",
       "    </tr>\n",
       "    <tr>\n",
       "      <th>13940</th>\n",
       "      <td>4605</td>\n",
       "      <td>damian</td>\n",
       "      <td>624</td>\n",
       "      <td>man</td>\n",
       "      <td>26.0</td>\n",
       "      <td>Mean Girls</td>\n",
       "      <td>2004</td>\n",
       "      <td>120.0</td>\n",
       "      <td>0.078937</td>\n",
       "    </tr>\n",
       "    <tr>\n",
       "      <th>13941</th>\n",
       "      <td>4605</td>\n",
       "      <td>gretchen wiener</td>\n",
       "      <td>609</td>\n",
       "      <td>woman</td>\n",
       "      <td>22.0</td>\n",
       "      <td>Mean Girls</td>\n",
       "      <td>2004</td>\n",
       "      <td>120.0</td>\n",
       "      <td>0.077040</td>\n",
       "    </tr>\n",
       "    <tr>\n",
       "      <th>13942</th>\n",
       "      <td>4605</td>\n",
       "      <td>janis ian</td>\n",
       "      <td>907</td>\n",
       "      <td>woman</td>\n",
       "      <td>22.0</td>\n",
       "      <td>Mean Girls</td>\n",
       "      <td>2004</td>\n",
       "      <td>120.0</td>\n",
       "      <td>0.114738</td>\n",
       "    </tr>\n",
       "    <tr>\n",
       "      <th>13943</th>\n",
       "      <td>4605</td>\n",
       "      <td>karen smith</td>\n",
       "      <td>301</td>\n",
       "      <td>woman</td>\n",
       "      <td>19.0</td>\n",
       "      <td>Mean Girls</td>\n",
       "      <td>2004</td>\n",
       "      <td>120.0</td>\n",
       "      <td>0.038077</td>\n",
       "    </tr>\n",
       "    <tr>\n",
       "      <th>13944</th>\n",
       "      <td>4605</td>\n",
       "      <td>mr. duvall</td>\n",
       "      <td>365</td>\n",
       "      <td>man</td>\n",
       "      <td>43.0</td>\n",
       "      <td>Mean Girls</td>\n",
       "      <td>2004</td>\n",
       "      <td>120.0</td>\n",
       "      <td>0.046173</td>\n",
       "    </tr>\n",
       "    <tr>\n",
       "      <th>13945</th>\n",
       "      <td>4605</td>\n",
       "      <td>mrs. george</td>\n",
       "      <td>125</td>\n",
       "      <td>woman</td>\n",
       "      <td>33.0</td>\n",
       "      <td>Mean Girls</td>\n",
       "      <td>2004</td>\n",
       "      <td>120.0</td>\n",
       "      <td>0.015813</td>\n",
       "    </tr>\n",
       "    <tr>\n",
       "      <th>13946</th>\n",
       "      <td>4605</td>\n",
       "      <td>ms. norbury</td>\n",
       "      <td>720</td>\n",
       "      <td>woman</td>\n",
       "      <td>34.0</td>\n",
       "      <td>Mean Girls</td>\n",
       "      <td>2004</td>\n",
       "      <td>120.0</td>\n",
       "      <td>0.091082</td>\n",
       "    </tr>\n",
       "    <tr>\n",
       "      <th>13947</th>\n",
       "      <td>4605</td>\n",
       "      <td>regina george</td>\n",
       "      <td>1030</td>\n",
       "      <td>woman</td>\n",
       "      <td>26.0</td>\n",
       "      <td>Mean Girls</td>\n",
       "      <td>2004</td>\n",
       "      <td>120.0</td>\n",
       "      <td>0.130297</td>\n",
       "    </tr>\n",
       "  </tbody>\n",
       "</table>\n",
       "</div>"
      ],
      "text/plain": [
       "       script_id        character  words gender   age       title  \\\n",
       "13938       4605    aaron samuels    426    man  23.0  Mean Girls   \n",
       "13939       4605       cady heron   2798  woman  18.0  Mean Girls   \n",
       "13940       4605           damian    624    man  26.0  Mean Girls   \n",
       "13941       4605  gretchen wiener    609  woman  22.0  Mean Girls   \n",
       "13942       4605        janis ian    907  woman  22.0  Mean Girls   \n",
       "13943       4605      karen smith    301  woman  19.0  Mean Girls   \n",
       "13944       4605       mr. duvall    365    man  43.0  Mean Girls   \n",
       "13945       4605      mrs. george    125  woman  33.0  Mean Girls   \n",
       "13946       4605      ms. norbury    720  woman  34.0  Mean Girls   \n",
       "13947       4605    regina george   1030  woman  26.0  Mean Girls   \n",
       "\n",
       "       release_year  gross  proportion_of_dialogue  \n",
       "13938          2004  120.0                0.053890  \n",
       "13939          2004  120.0                0.353953  \n",
       "13940          2004  120.0                0.078937  \n",
       "13941          2004  120.0                0.077040  \n",
       "13942          2004  120.0                0.114738  \n",
       "13943          2004  120.0                0.038077  \n",
       "13944          2004  120.0                0.046173  \n",
       "13945          2004  120.0                0.015813  \n",
       "13946          2004  120.0                0.091082  \n",
       "13947          2004  120.0                0.130297  "
      ]
     },
     "execution_count": 177,
     "metadata": {},
     "output_type": "execute_result"
    }
   ],
   "source": [
    "pudding_film_df[pudding_film_df['title'].str.contains('Mean Girls')]"
   ]
  },
  {
   "cell_type": "markdown",
   "metadata": {},
   "source": [
    "## Applying Functions"
   ]
  },
  {
   "cell_type": "markdown",
   "metadata": {},
   "source": [
    "With the `.apply()` method, you can run a function on every single row in a Pandas column or dataframe."
   ]
  },
  {
   "cell_type": "code",
   "execution_count": 178,
   "metadata": {},
   "outputs": [],
   "source": [
    "def make_text_lower_case(text):\n",
    "    lower_case_text = text.upper()\n",
    "    return lower_case_text"
   ]
  },
  {
   "cell_type": "code",
   "execution_count": 220,
   "metadata": {},
   "outputs": [],
   "source": [
    "def make_text_upper_case(text):\n",
    "    upper_case_text = text.upper()\n",
    "    return upper_case_text"
   ]
  },
  {
   "cell_type": "code",
   "execution_count": 180,
   "metadata": {},
   "outputs": [],
   "source": [
    "def make_text_title_case(text):\n",
    "    title_case_text = text.title()\n",
    "    return title_case_text"
   ]
  },
  {
   "cell_type": "code",
   "execution_count": 221,
   "metadata": {},
   "outputs": [
    {
     "data": {
      "text/plain": [
       "'BETTY'"
      ]
     },
     "execution_count": 221,
     "metadata": {},
     "output_type": "execute_result"
    }
   ],
   "source": [
    "make_text_upper_case(\"betty\")"
   ]
  },
  {
   "cell_type": "code",
   "execution_count": 181,
   "metadata": {},
   "outputs": [
    {
     "data": {
      "text/plain": [
       "0                  BETTY\n",
       "1        CAROLYN JOHNSON\n",
       "2                ELEANOR\n",
       "3        FRANCESCA JOHNS\n",
       "4                  MADGE\n",
       "              ...       \n",
       "23046            LUMIERE\n",
       "23047            MAURICE\n",
       "23048    MONSIEUR D'ARQU\n",
       "23049         MRS. POTTS\n",
       "23050           WARDROBE\n",
       "Name: character, Length: 23048, dtype: object"
      ]
     },
     "execution_count": 181,
     "metadata": {},
     "output_type": "execute_result"
    }
   ],
   "source": [
    "pudding_film_df['character'].apply(make_text_upper_case)"
   ]
  },
  {
   "cell_type": "code",
   "execution_count": 182,
   "metadata": {},
   "outputs": [
    {
     "data": {
      "text/plain": [
       "0                  Betty\n",
       "1        Carolyn Johnson\n",
       "2                Eleanor\n",
       "3        Francesca Johns\n",
       "4                  Madge\n",
       "              ...       \n",
       "23046            Lumiere\n",
       "23047            Maurice\n",
       "23048    Monsieur D'Arqu\n",
       "23049         Mrs. Potts\n",
       "23050           Wardrobe\n",
       "Name: character, Length: 23048, dtype: object"
      ]
     },
     "execution_count": 182,
     "metadata": {},
     "output_type": "execute_result"
    }
   ],
   "source": [
    "pudding_film_df['character'].apply(make_text_title_case)"
   ]
  },
  {
   "cell_type": "code",
   "execution_count": 183,
   "metadata": {},
   "outputs": [],
   "source": [
    "pudding_film_df['character'] = pudding_film_df['character'].apply(make_text_title_case)"
   ]
  },
  {
   "cell_type": "code",
   "execution_count": 184,
   "metadata": {},
   "outputs": [
    {
     "data": {
      "text/html": [
       "<div>\n",
       "<style scoped>\n",
       "    .dataframe tbody tr th:only-of-type {\n",
       "        vertical-align: middle;\n",
       "    }\n",
       "\n",
       "    .dataframe tbody tr th {\n",
       "        vertical-align: top;\n",
       "    }\n",
       "\n",
       "    .dataframe thead th {\n",
       "        text-align: right;\n",
       "    }\n",
       "</style>\n",
       "<table border=\"1\" class=\"dataframe\">\n",
       "  <thead>\n",
       "    <tr style=\"text-align: right;\">\n",
       "      <th></th>\n",
       "      <th>script_id</th>\n",
       "      <th>character</th>\n",
       "      <th>words</th>\n",
       "      <th>gender</th>\n",
       "      <th>age</th>\n",
       "      <th>title</th>\n",
       "      <th>release_year</th>\n",
       "      <th>gross</th>\n",
       "      <th>proportion_of_dialogue</th>\n",
       "    </tr>\n",
       "  </thead>\n",
       "  <tbody>\n",
       "    <tr>\n",
       "      <th>16354</th>\n",
       "      <td>5481</td>\n",
       "      <td>Mr. Pickles</td>\n",
       "      <td>556</td>\n",
       "      <td>man</td>\n",
       "      <td>37.0</td>\n",
       "      <td>The Boxtrolls</td>\n",
       "      <td>2014</td>\n",
       "      <td>54.0</td>\n",
       "      <td>0.106289</td>\n",
       "    </tr>\n",
       "    <tr>\n",
       "      <th>4089</th>\n",
       "      <td>1652</td>\n",
       "      <td>Scott Macnamara</td>\n",
       "      <td>254</td>\n",
       "      <td>man</td>\n",
       "      <td>79.0</td>\n",
       "      <td>Analyze This</td>\n",
       "      <td>1999</td>\n",
       "      <td>183.0</td>\n",
       "      <td>0.008807</td>\n",
       "    </tr>\n",
       "    <tr>\n",
       "      <th>20974</th>\n",
       "      <td>8089</td>\n",
       "      <td>Marty Baron</td>\n",
       "      <td>1143</td>\n",
       "      <td>man</td>\n",
       "      <td>48.0</td>\n",
       "      <td>Spotlight</td>\n",
       "      <td>2015</td>\n",
       "      <td>35.0</td>\n",
       "      <td>0.081266</td>\n",
       "    </tr>\n",
       "    <tr>\n",
       "      <th>15421</th>\n",
       "      <td>5164</td>\n",
       "      <td>Dr. Carlisle Cu</td>\n",
       "      <td>318</td>\n",
       "      <td>man</td>\n",
       "      <td>36.0</td>\n",
       "      <td>The Twilight Saga: New Moon</td>\n",
       "      <td>2009</td>\n",
       "      <td>344.0</td>\n",
       "      <td>0.017614</td>\n",
       "    </tr>\n",
       "    <tr>\n",
       "      <th>11942</th>\n",
       "      <td>3866</td>\n",
       "      <td>Dick Liddil</td>\n",
       "      <td>719</td>\n",
       "      <td>man</td>\n",
       "      <td>31.0</td>\n",
       "      <td>The Assassination of Jesse James by the Coward...</td>\n",
       "      <td>2007</td>\n",
       "      <td>4.0</td>\n",
       "      <td>0.073062</td>\n",
       "    </tr>\n",
       "    <tr>\n",
       "      <th>5313</th>\n",
       "      <td>1973</td>\n",
       "      <td>Film Commission</td>\n",
       "      <td>408</td>\n",
       "      <td>man</td>\n",
       "      <td>NaN</td>\n",
       "      <td>Cecil B. DeMented</td>\n",
       "      <td>2000</td>\n",
       "      <td>2.0</td>\n",
       "      <td>0.052530</td>\n",
       "    </tr>\n",
       "    <tr>\n",
       "      <th>7729</th>\n",
       "      <td>2613</td>\n",
       "      <td>Lydia Maxwell</td>\n",
       "      <td>1010</td>\n",
       "      <td>woman</td>\n",
       "      <td>26.0</td>\n",
       "      <td>Innerspace</td>\n",
       "      <td>1987</td>\n",
       "      <td>57.0</td>\n",
       "      <td>0.133070</td>\n",
       "    </tr>\n",
       "    <tr>\n",
       "      <th>21155</th>\n",
       "      <td>8192</td>\n",
       "      <td>Rob Hawkins</td>\n",
       "      <td>2026</td>\n",
       "      <td>man</td>\n",
       "      <td>26.0</td>\n",
       "      <td>Cloverfield</td>\n",
       "      <td>2008</td>\n",
       "      <td>96.0</td>\n",
       "      <td>0.291721</td>\n",
       "    </tr>\n",
       "    <tr>\n",
       "      <th>12738</th>\n",
       "      <td>4190</td>\n",
       "      <td>Zeke Tyler</td>\n",
       "      <td>421</td>\n",
       "      <td>man</td>\n",
       "      <td>20.0</td>\n",
       "      <td>The Faculty</td>\n",
       "      <td>1998</td>\n",
       "      <td>74.0</td>\n",
       "      <td>0.067631</td>\n",
       "    </tr>\n",
       "    <tr>\n",
       "      <th>19801</th>\n",
       "      <td>7627</td>\n",
       "      <td>David Ershon</td>\n",
       "      <td>110</td>\n",
       "      <td>man</td>\n",
       "      <td>45.0</td>\n",
       "      <td>The Other Guys</td>\n",
       "      <td>2010</td>\n",
       "      <td>131.0</td>\n",
       "      <td>0.010366</td>\n",
       "    </tr>\n",
       "  </tbody>\n",
       "</table>\n",
       "</div>"
      ],
      "text/plain": [
       "       script_id        character  words gender   age  \\\n",
       "16354       5481      Mr. Pickles    556    man  37.0   \n",
       "4089        1652  Scott Macnamara    254    man  79.0   \n",
       "20974       8089      Marty Baron   1143    man  48.0   \n",
       "15421       5164  Dr. Carlisle Cu    318    man  36.0   \n",
       "11942       3866      Dick Liddil    719    man  31.0   \n",
       "5313        1973  Film Commission    408    man   NaN   \n",
       "7729        2613    Lydia Maxwell   1010  woman  26.0   \n",
       "21155       8192      Rob Hawkins   2026    man  26.0   \n",
       "12738       4190       Zeke Tyler    421    man  20.0   \n",
       "19801       7627     David Ershon    110    man  45.0   \n",
       "\n",
       "                                                   title  release_year  gross  \\\n",
       "16354                                      The Boxtrolls          2014   54.0   \n",
       "4089                                        Analyze This          1999  183.0   \n",
       "20974                                          Spotlight          2015   35.0   \n",
       "15421                        The Twilight Saga: New Moon          2009  344.0   \n",
       "11942  The Assassination of Jesse James by the Coward...          2007    4.0   \n",
       "5313                                   Cecil B. DeMented          2000    2.0   \n",
       "7729                                          Innerspace          1987   57.0   \n",
       "21155                                        Cloverfield          2008   96.0   \n",
       "12738                                        The Faculty          1998   74.0   \n",
       "19801                                     The Other Guys          2010  131.0   \n",
       "\n",
       "       proportion_of_dialogue  \n",
       "16354                0.106289  \n",
       "4089                 0.008807  \n",
       "20974                0.081266  \n",
       "15421                0.017614  \n",
       "11942                0.073062  \n",
       "5313                 0.052530  \n",
       "7729                 0.133070  \n",
       "21155                0.291721  \n",
       "12738                0.067631  \n",
       "19801                0.010366  "
      ]
     },
     "execution_count": 184,
     "metadata": {},
     "output_type": "execute_result"
    }
   ],
   "source": [
    "pudding_film_df.sample(10)"
   ]
  },
  {
   "cell_type": "code",
   "execution_count": 185,
   "metadata": {},
   "outputs": [],
   "source": [
    "def clarify_gender(text):\n",
    "    gender = ''\n",
    "    if text == 'woman':\n",
    "        gender = 'Woman'\n",
    "    elif text == 'man':\n",
    "        gender = 'Man'\n",
    "    return gender"
   ]
  },
  {
   "cell_type": "code",
   "execution_count": 186,
   "metadata": {},
   "outputs": [],
   "source": [
    "def calculate_after_2000(year):\n",
    "    is_millennium = ''\n",
    "    if year >= 2000:\n",
    "        is_millennium = True\n",
    "    elif year < 2000:\n",
    "        is_millennium = False\n",
    "    return is_millennium"
   ]
  },
  {
   "cell_type": "code",
   "execution_count": 187,
   "metadata": {},
   "outputs": [],
   "source": [
    "pudding_film_df['gender'] = pudding_film_df['gender'].apply(clarify_gender)"
   ]
  },
  {
   "cell_type": "code",
   "execution_count": 188,
   "metadata": {},
   "outputs": [
    {
     "data": {
      "text/html": [
       "<div>\n",
       "<style scoped>\n",
       "    .dataframe tbody tr th:only-of-type {\n",
       "        vertical-align: middle;\n",
       "    }\n",
       "\n",
       "    .dataframe tbody tr th {\n",
       "        vertical-align: top;\n",
       "    }\n",
       "\n",
       "    .dataframe thead th {\n",
       "        text-align: right;\n",
       "    }\n",
       "</style>\n",
       "<table border=\"1\" class=\"dataframe\">\n",
       "  <thead>\n",
       "    <tr style=\"text-align: right;\">\n",
       "      <th></th>\n",
       "      <th>script_id</th>\n",
       "      <th>character</th>\n",
       "      <th>words</th>\n",
       "      <th>gender</th>\n",
       "      <th>age</th>\n",
       "      <th>title</th>\n",
       "      <th>release_year</th>\n",
       "      <th>gross</th>\n",
       "      <th>proportion_of_dialogue</th>\n",
       "    </tr>\n",
       "  </thead>\n",
       "  <tbody>\n",
       "    <tr>\n",
       "      <th>0</th>\n",
       "      <td>280</td>\n",
       "      <td>Betty</td>\n",
       "      <td>311</td>\n",
       "      <td>Woman</td>\n",
       "      <td>35.0</td>\n",
       "      <td>The Bridges of Madison County</td>\n",
       "      <td>1995</td>\n",
       "      <td>142.0</td>\n",
       "      <td>0.048639</td>\n",
       "    </tr>\n",
       "    <tr>\n",
       "      <th>1</th>\n",
       "      <td>280</td>\n",
       "      <td>Carolyn Johnson</td>\n",
       "      <td>873</td>\n",
       "      <td>Woman</td>\n",
       "      <td>NaN</td>\n",
       "      <td>The Bridges of Madison County</td>\n",
       "      <td>1995</td>\n",
       "      <td>142.0</td>\n",
       "      <td>0.136534</td>\n",
       "    </tr>\n",
       "    <tr>\n",
       "      <th>2</th>\n",
       "      <td>280</td>\n",
       "      <td>Eleanor</td>\n",
       "      <td>138</td>\n",
       "      <td>Woman</td>\n",
       "      <td>NaN</td>\n",
       "      <td>The Bridges of Madison County</td>\n",
       "      <td>1995</td>\n",
       "      <td>142.0</td>\n",
       "      <td>0.021583</td>\n",
       "    </tr>\n",
       "    <tr>\n",
       "      <th>3</th>\n",
       "      <td>280</td>\n",
       "      <td>Francesca Johns</td>\n",
       "      <td>2251</td>\n",
       "      <td>Woman</td>\n",
       "      <td>46.0</td>\n",
       "      <td>The Bridges of Madison County</td>\n",
       "      <td>1995</td>\n",
       "      <td>142.0</td>\n",
       "      <td>0.352049</td>\n",
       "    </tr>\n",
       "    <tr>\n",
       "      <th>4</th>\n",
       "      <td>280</td>\n",
       "      <td>Madge</td>\n",
       "      <td>190</td>\n",
       "      <td>Woman</td>\n",
       "      <td>46.0</td>\n",
       "      <td>The Bridges of Madison County</td>\n",
       "      <td>1995</td>\n",
       "      <td>142.0</td>\n",
       "      <td>0.029715</td>\n",
       "    </tr>\n",
       "  </tbody>\n",
       "</table>\n",
       "</div>"
      ],
      "text/plain": [
       "   script_id        character  words gender   age  \\\n",
       "0        280            Betty    311  Woman  35.0   \n",
       "1        280  Carolyn Johnson    873  Woman   NaN   \n",
       "2        280          Eleanor    138  Woman   NaN   \n",
       "3        280  Francesca Johns   2251  Woman  46.0   \n",
       "4        280            Madge    190  Woman  46.0   \n",
       "\n",
       "                           title  release_year  gross  proportion_of_dialogue  \n",
       "0  The Bridges of Madison County          1995  142.0                0.048639  \n",
       "1  The Bridges of Madison County          1995  142.0                0.136534  \n",
       "2  The Bridges of Madison County          1995  142.0                0.021583  \n",
       "3  The Bridges of Madison County          1995  142.0                0.352049  \n",
       "4  The Bridges of Madison County          1995  142.0                0.029715  "
      ]
     },
     "execution_count": 188,
     "metadata": {},
     "output_type": "execute_result"
    }
   ],
   "source": [
    "pudding_film_df.head()"
   ]
  },
  {
   "cell_type": "code",
   "execution_count": 189,
   "metadata": {},
   "outputs": [],
   "source": [
    "pudding_film_df['after_2000'] = pudding_film_df['release_year'].apply(calculate_after_2000)"
   ]
  },
  {
   "cell_type": "code",
   "execution_count": 190,
   "metadata": {},
   "outputs": [
    {
     "data": {
      "text/html": [
       "<div>\n",
       "<style scoped>\n",
       "    .dataframe tbody tr th:only-of-type {\n",
       "        vertical-align: middle;\n",
       "    }\n",
       "\n",
       "    .dataframe tbody tr th {\n",
       "        vertical-align: top;\n",
       "    }\n",
       "\n",
       "    .dataframe thead th {\n",
       "        text-align: right;\n",
       "    }\n",
       "</style>\n",
       "<table border=\"1\" class=\"dataframe\">\n",
       "  <thead>\n",
       "    <tr style=\"text-align: right;\">\n",
       "      <th></th>\n",
       "      <th>script_id</th>\n",
       "      <th>character</th>\n",
       "      <th>words</th>\n",
       "      <th>gender</th>\n",
       "      <th>age</th>\n",
       "      <th>title</th>\n",
       "      <th>release_year</th>\n",
       "      <th>gross</th>\n",
       "      <th>proportion_of_dialogue</th>\n",
       "      <th>after_2000</th>\n",
       "    </tr>\n",
       "  </thead>\n",
       "  <tbody>\n",
       "    <tr>\n",
       "      <th>0</th>\n",
       "      <td>280</td>\n",
       "      <td>Betty</td>\n",
       "      <td>311</td>\n",
       "      <td>Woman</td>\n",
       "      <td>35.0</td>\n",
       "      <td>The Bridges of Madison County</td>\n",
       "      <td>1995</td>\n",
       "      <td>142.0</td>\n",
       "      <td>0.048639</td>\n",
       "      <td>False</td>\n",
       "    </tr>\n",
       "    <tr>\n",
       "      <th>1</th>\n",
       "      <td>280</td>\n",
       "      <td>Carolyn Johnson</td>\n",
       "      <td>873</td>\n",
       "      <td>Woman</td>\n",
       "      <td>NaN</td>\n",
       "      <td>The Bridges of Madison County</td>\n",
       "      <td>1995</td>\n",
       "      <td>142.0</td>\n",
       "      <td>0.136534</td>\n",
       "      <td>False</td>\n",
       "    </tr>\n",
       "    <tr>\n",
       "      <th>2</th>\n",
       "      <td>280</td>\n",
       "      <td>Eleanor</td>\n",
       "      <td>138</td>\n",
       "      <td>Woman</td>\n",
       "      <td>NaN</td>\n",
       "      <td>The Bridges of Madison County</td>\n",
       "      <td>1995</td>\n",
       "      <td>142.0</td>\n",
       "      <td>0.021583</td>\n",
       "      <td>False</td>\n",
       "    </tr>\n",
       "    <tr>\n",
       "      <th>3</th>\n",
       "      <td>280</td>\n",
       "      <td>Francesca Johns</td>\n",
       "      <td>2251</td>\n",
       "      <td>Woman</td>\n",
       "      <td>46.0</td>\n",
       "      <td>The Bridges of Madison County</td>\n",
       "      <td>1995</td>\n",
       "      <td>142.0</td>\n",
       "      <td>0.352049</td>\n",
       "      <td>False</td>\n",
       "    </tr>\n",
       "    <tr>\n",
       "      <th>4</th>\n",
       "      <td>280</td>\n",
       "      <td>Madge</td>\n",
       "      <td>190</td>\n",
       "      <td>Woman</td>\n",
       "      <td>46.0</td>\n",
       "      <td>The Bridges of Madison County</td>\n",
       "      <td>1995</td>\n",
       "      <td>142.0</td>\n",
       "      <td>0.029715</td>\n",
       "      <td>False</td>\n",
       "    </tr>\n",
       "  </tbody>\n",
       "</table>\n",
       "</div>"
      ],
      "text/plain": [
       "   script_id        character  words gender   age  \\\n",
       "0        280            Betty    311  Woman  35.0   \n",
       "1        280  Carolyn Johnson    873  Woman   NaN   \n",
       "2        280          Eleanor    138  Woman   NaN   \n",
       "3        280  Francesca Johns   2251  Woman  46.0   \n",
       "4        280            Madge    190  Woman  46.0   \n",
       "\n",
       "                           title  release_year  gross  proportion_of_dialogue  \\\n",
       "0  The Bridges of Madison County          1995  142.0                0.048639   \n",
       "1  The Bridges of Madison County          1995  142.0                0.136534   \n",
       "2  The Bridges of Madison County          1995  142.0                0.021583   \n",
       "3  The Bridges of Madison County          1995  142.0                0.352049   \n",
       "4  The Bridges of Madison County          1995  142.0                0.029715   \n",
       "\n",
       "   after_2000  \n",
       "0       False  \n",
       "1       False  \n",
       "2       False  \n",
       "3       False  \n",
       "4       False  "
      ]
     },
     "execution_count": 190,
     "metadata": {},
     "output_type": "execute_result"
    }
   ],
   "source": [
    "pudding_film_df.head()"
   ]
  },
  {
   "cell_type": "markdown",
   "metadata": {},
   "source": [
    "# Write to CSV"
   ]
  },
  {
   "cell_type": "markdown",
   "metadata": {},
   "source": [
    "To write a dataframe to a new CSV file, you can add the `.to_csv()` method after the name of your dataframe.\n",
    "\n",
    "`your_dataframe.to_csv('Your-Desired-File-Name', encoding='utf-8', sep=',', index=False)`"
   ]
  },
  {
   "cell_type": "code",
   "execution_count": 198,
   "metadata": {},
   "outputs": [],
   "source": [
    "pudding_film_df.to_csv('../data/Pudding/Pudding-Film-Dialogue-Clean.csv', encoding='utf-8', sep=',', index=False)"
   ]
  },
  {
   "cell_type": "code",
   "execution_count": null,
   "metadata": {},
   "outputs": [],
   "source": []
  }
 ],
 "metadata": {
  "kernelspec": {
   "display_name": "Python 3",
   "language": "python",
   "name": "python3"
  },
  "language_info": {
   "codemirror_mode": {
    "name": "ipython",
    "version": 3
   },
   "file_extension": ".py",
   "mimetype": "text/x-python",
   "name": "python",
   "nbconvert_exporter": "python",
   "pygments_lexer": "ipython3",
   "version": "3.7.5"
  }
 },
 "nbformat": 4,
 "nbformat_minor": 4
}
