{
 "cells": [
  {
   "cell_type": "markdown",
   "metadata": {},
   "source": [
    "# Data Types"
   ]
  },
  {
   "cell_type": "markdown",
   "metadata": {},
   "source": [
    "* 4 essential kinds of Python data with different powers and capabilities, like starter pack Pokémon    \n",
    "    - Strings (Words)\n",
    "    - Integers (Whole Numbers)\n",
    "    - Floats (Decimal Numbers)\n",
    "    - Booleans (True/False)"
   ]
  },
  {
   "cell_type": "markdown",
   "metadata": {},
   "source": [
    "<img src=\"https://hips.hearstapps.com/digitalspyuk.cdnds.net/16/08/1456483171-pokemon2.jpg?resize=768:*\">"
   ]
  },
  {
   "cell_type": "markdown",
   "metadata": {},
   "source": [
    "**HEADS UP!**"
   ]
  },
  {
   "cell_type": "markdown",
   "metadata": {},
   "source": [
    "🚨 To run any of the code on this page, you need to run this cell first!!🚨"
   ]
  },
  {
   "cell_type": "code",
   "execution_count": null,
   "metadata": {},
   "outputs": [],
   "source": [
    "import nltk\n",
    "nltk.download('stopwords')"
   ]
  },
  {
   "cell_type": "code",
   "execution_count": 1,
   "metadata": {},
   "outputs": [
    {
     "name": "stdout",
     "output_type": "stream",
     "text": [
      "[('love', 93), ('like', 50), ('slay', 49), ('sorry', 44), ('okay', 42), ('oh', 38), ('get', 32), ('daddy', 28), ('let', 28), ('back', 24), ('said', 22), ('work', 21), ('cause', 21), ('ft', 21), ('hold', 20), ('night', 19), ('feel', 19), ('hurt', 19), ('best', 19), ('winner', 19), ('every', 18), ('bout', 18), ('money', 17), ('baby', 16), ('boy', 16), ('long', 16), ('shoot', 16), ('good', 16), ('catch', 16), ('know', 15), ('ooh', 15), ('got', 14), ('come', 14), ('pray', 14), ('way', 13), ('gon', 13), ('kiss', 13), ('rub', 12), ('girl', 12), ('see', 12)]\n"
     ]
    }
   ],
   "source": [
    "import re\n",
    "from collections import Counter\n",
    "from nltk.corpus import stopwords\n",
    "\n",
    "def split_into_words(any_chunk_of_text):\n",
    "    lowercase_text = any_chunk_of_text.lower()\n",
    "    split_words = re.split(\"\\W+\", lowercase_text)\n",
    "    return split_words\n",
    "\n",
    "filepath_of_text = \"../texts/music/Beyonce-Lemonade.txt\"\n",
    "nltk_stop_words = stopwords.words(\"english\")\n",
    "number_of_desired_words = 40\n",
    "\n",
    "full_text = open(filepath_of_text, encoding=\"utf-8\").read()\n",
    "\n",
    "all_the_words = split_into_words(full_text)\n",
    "meaningful_words = [word for word in all_the_words if word not in nltk_stop_words]\n",
    "meaningful_words_tally = Counter(meaningful_words)\n",
    "most_frequent_meaningful_words = meaningful_words_tally.most_common(number_of_desired_words)\n",
    "\n",
    "print(most_frequent_meaningful_words)"
   ]
  },
  {
   "cell_type": "markdown",
   "metadata": {},
   "source": [
    "You might be wondering why we put quotation marks around `\"../texts/Beyonce-Lemonade.txt\"` and not around `40`,  or why the file path shows up in red and 40 shows up in green."
   ]
  },
  {
   "cell_type": "code",
   "execution_count": 13,
   "metadata": {},
   "outputs": [],
   "source": [
    "filepath_of_text = \"../texts/music/Beyonce-Lemonade.txt\"\n",
    "number_of_desired_words = 40"
   ]
  },
  {
   "cell_type": "markdown",
   "metadata": {},
   "source": [
    "That's because these are two different \"types\" of Python data. The file path is what's called a \"string,\" or words, and 40 is an \"integer,\" or a whole number.\n",
    "\n",
    "In Python, there are four basic data types:\n",
    "\n",
    "    - Strings (Words)\n",
    "    - Integers (Whole Numbers)\n",
    "    - Floats (Decimal Numbers)\n",
    "    - Booleans (True/False)\n",
    "\n",
    "Each data type has different properties and different capabilities. You can check a data type if you use the function `type()`\n"
   ]
  },
  {
   "cell_type": "code",
   "execution_count": 14,
   "metadata": {},
   "outputs": [
    {
     "data": {
      "text/plain": [
       "str"
      ]
     },
     "execution_count": 14,
     "metadata": {},
     "output_type": "execute_result"
    }
   ],
   "source": [
    "type(filepath_of_text, encoding=\"utf-8\")"
   ]
  },
  {
   "cell_type": "code",
   "execution_count": 15,
   "metadata": {},
   "outputs": [
    {
     "data": {
      "text/plain": [
       "int"
      ]
     },
     "execution_count": 15,
     "metadata": {},
     "output_type": "execute_result"
    }
   ],
   "source": [
    "type(number_of_desired_words)"
   ]
  },
  {
   "cell_type": "markdown",
   "metadata": {},
   "source": [
    "Let's look at what happens if we change the data types of `filepath_of_text` and `number_of_desired_words`"
   ]
  },
  {
   "cell_type": "code",
   "execution_count": 235,
   "metadata": {},
   "outputs": [
    {
     "ename": "SyntaxError",
     "evalue": "invalid syntax (<ipython-input-235-82fd123c8c66>, line 10)",
     "output_type": "error",
     "traceback": [
      "\u001b[0;36m  File \u001b[0;32m\"<ipython-input-235-82fd123c8c66>\"\u001b[0;36m, line \u001b[0;32m10\u001b[0m\n\u001b[0;31m    filepath_of_text = ../texts/Beyonce-Lemonade.txt\u001b[0m\n\u001b[0m                       ^\u001b[0m\n\u001b[0;31mSyntaxError\u001b[0m\u001b[0;31m:\u001b[0m invalid syntax\n"
     ]
    }
   ],
   "source": [
    "import re\n",
    "from collections import Counter\n",
    "from nltk.corpus import stopwords\n",
    "\n",
    "def split_into_words(any_chunk_of_text):\n",
    "    lowercase_text = any_chunk_of_text.lower()\n",
    "    split_words = re.split(\"\\W+\", lowercase_text)\n",
    "    return split_words\n",
    "\n",
    "filepath_of_text = ../texts/music/Beyonce-Lemonade.txt\n",
    "nltk_stop_words = stopwords.words(\"english\")\n",
    "number_of_desired_words = 40\n",
    "\n",
    "full_text = open(filepath_of_text, encoding=\"utf-8\").read()\n",
    "\n",
    "all_the_words = split_into_words(full_text)\n",
    "meaningful_words = [word for word in all_the_words if word not in nltk_stop_words]\n",
    "meaningful_words_tally = Counter(meaningful_words)\n",
    "most_frequent_meaningful_words = meaningful_words_tally.most_common(number_of_desired_words)\n",
    "\n",
    "print(most_frequent_meaningful_words)"
   ]
  },
  {
   "cell_type": "code",
   "execution_count": 240,
   "metadata": {},
   "outputs": [
    {
     "ename": "TypeError",
     "evalue": "'>=' not supported between instances of 'str' and 'int'",
     "output_type": "error",
     "traceback": [
      "\u001b[0;31m---------------------------------------------------------------------------\u001b[0m",
      "\u001b[0;31mTypeError\u001b[0m                                 Traceback (most recent call last)",
      "\u001b[0;32m<ipython-input-240-079485b7b154>\u001b[0m in \u001b[0;36m<module>\u001b[0;34m\u001b[0m\n\u001b[1;32m     17\u001b[0m \u001b[0mmeaningful_words\u001b[0m \u001b[0;34m=\u001b[0m \u001b[0;34m[\u001b[0m\u001b[0mword\u001b[0m \u001b[0;32mfor\u001b[0m \u001b[0mword\u001b[0m \u001b[0;32min\u001b[0m \u001b[0mall_the_words\u001b[0m \u001b[0;32mif\u001b[0m \u001b[0mword\u001b[0m \u001b[0;32mnot\u001b[0m \u001b[0;32min\u001b[0m \u001b[0mnltk_stop_words\u001b[0m\u001b[0;34m]\u001b[0m\u001b[0;34m\u001b[0m\u001b[0;34m\u001b[0m\u001b[0m\n\u001b[1;32m     18\u001b[0m \u001b[0mmeaningful_words_tally\u001b[0m \u001b[0;34m=\u001b[0m \u001b[0mCounter\u001b[0m\u001b[0;34m(\u001b[0m\u001b[0mmeaningful_words\u001b[0m\u001b[0;34m)\u001b[0m\u001b[0;34m\u001b[0m\u001b[0;34m\u001b[0m\u001b[0m\n\u001b[0;32m---> 19\u001b[0;31m \u001b[0mmost_frequent_meaningful_words\u001b[0m \u001b[0;34m=\u001b[0m \u001b[0mmeaningful_words_tally\u001b[0m\u001b[0;34m.\u001b[0m\u001b[0mmost_common\u001b[0m\u001b[0;34m(\u001b[0m\u001b[0mnumber_of_desired_words\u001b[0m\u001b[0;34m)\u001b[0m\u001b[0;34m\u001b[0m\u001b[0;34m\u001b[0m\u001b[0m\n\u001b[0m\u001b[1;32m     20\u001b[0m \u001b[0;34m\u001b[0m\u001b[0m\n\u001b[1;32m     21\u001b[0m \u001b[0mprint\u001b[0m\u001b[0;34m(\u001b[0m\u001b[0mmost_frequent_meaningful_words\u001b[0m\u001b[0;34m)\u001b[0m\u001b[0;34m\u001b[0m\u001b[0;34m\u001b[0m\u001b[0m\n",
      "\u001b[0;32m~/anaconda3/lib/python3.7/collections/__init__.py\u001b[0m in \u001b[0;36mmost_common\u001b[0;34m(self, n)\u001b[0m\n\u001b[1;32m    584\u001b[0m         \u001b[0;32mif\u001b[0m \u001b[0mn\u001b[0m \u001b[0;32mis\u001b[0m \u001b[0;32mNone\u001b[0m\u001b[0;34m:\u001b[0m\u001b[0;34m\u001b[0m\u001b[0;34m\u001b[0m\u001b[0m\n\u001b[1;32m    585\u001b[0m             \u001b[0;32mreturn\u001b[0m \u001b[0msorted\u001b[0m\u001b[0;34m(\u001b[0m\u001b[0mself\u001b[0m\u001b[0;34m.\u001b[0m\u001b[0mitems\u001b[0m\u001b[0;34m(\u001b[0m\u001b[0;34m)\u001b[0m\u001b[0;34m,\u001b[0m \u001b[0mkey\u001b[0m\u001b[0;34m=\u001b[0m\u001b[0m_itemgetter\u001b[0m\u001b[0;34m(\u001b[0m\u001b[0;36m1\u001b[0m\u001b[0;34m)\u001b[0m\u001b[0;34m,\u001b[0m \u001b[0mreverse\u001b[0m\u001b[0;34m=\u001b[0m\u001b[0;32mTrue\u001b[0m\u001b[0;34m)\u001b[0m\u001b[0;34m\u001b[0m\u001b[0;34m\u001b[0m\u001b[0m\n\u001b[0;32m--> 586\u001b[0;31m         \u001b[0;32mreturn\u001b[0m \u001b[0m_heapq\u001b[0m\u001b[0;34m.\u001b[0m\u001b[0mnlargest\u001b[0m\u001b[0;34m(\u001b[0m\u001b[0mn\u001b[0m\u001b[0;34m,\u001b[0m \u001b[0mself\u001b[0m\u001b[0;34m.\u001b[0m\u001b[0mitems\u001b[0m\u001b[0;34m(\u001b[0m\u001b[0;34m)\u001b[0m\u001b[0;34m,\u001b[0m \u001b[0mkey\u001b[0m\u001b[0;34m=\u001b[0m\u001b[0m_itemgetter\u001b[0m\u001b[0;34m(\u001b[0m\u001b[0;36m1\u001b[0m\u001b[0;34m)\u001b[0m\u001b[0;34m)\u001b[0m\u001b[0;34m\u001b[0m\u001b[0;34m\u001b[0m\u001b[0m\n\u001b[0m\u001b[1;32m    587\u001b[0m \u001b[0;34m\u001b[0m\u001b[0m\n\u001b[1;32m    588\u001b[0m     \u001b[0;32mdef\u001b[0m \u001b[0melements\u001b[0m\u001b[0;34m(\u001b[0m\u001b[0mself\u001b[0m\u001b[0;34m)\u001b[0m\u001b[0;34m:\u001b[0m\u001b[0;34m\u001b[0m\u001b[0;34m\u001b[0m\u001b[0m\n",
      "\u001b[0;32m~/anaconda3/lib/python3.7/heapq.py\u001b[0m in \u001b[0;36mnlargest\u001b[0;34m(n, iterable, key)\u001b[0m\n\u001b[1;32m    544\u001b[0m         \u001b[0;32mpass\u001b[0m\u001b[0;34m\u001b[0m\u001b[0;34m\u001b[0m\u001b[0m\n\u001b[1;32m    545\u001b[0m     \u001b[0;32melse\u001b[0m\u001b[0;34m:\u001b[0m\u001b[0;34m\u001b[0m\u001b[0;34m\u001b[0m\u001b[0m\n\u001b[0;32m--> 546\u001b[0;31m         \u001b[0;32mif\u001b[0m \u001b[0mn\u001b[0m \u001b[0;34m>=\u001b[0m \u001b[0msize\u001b[0m\u001b[0;34m:\u001b[0m\u001b[0;34m\u001b[0m\u001b[0;34m\u001b[0m\u001b[0m\n\u001b[0m\u001b[1;32m    547\u001b[0m             \u001b[0;32mreturn\u001b[0m \u001b[0msorted\u001b[0m\u001b[0;34m(\u001b[0m\u001b[0miterable\u001b[0m\u001b[0;34m,\u001b[0m \u001b[0mkey\u001b[0m\u001b[0;34m=\u001b[0m\u001b[0mkey\u001b[0m\u001b[0;34m,\u001b[0m \u001b[0mreverse\u001b[0m\u001b[0;34m=\u001b[0m\u001b[0;32mTrue\u001b[0m\u001b[0;34m)\u001b[0m\u001b[0;34m[\u001b[0m\u001b[0;34m:\u001b[0m\u001b[0mn\u001b[0m\u001b[0;34m]\u001b[0m\u001b[0;34m\u001b[0m\u001b[0;34m\u001b[0m\u001b[0m\n\u001b[1;32m    548\u001b[0m \u001b[0;34m\u001b[0m\u001b[0m\n",
      "\u001b[0;31mTypeError\u001b[0m: '>=' not supported between instances of 'str' and 'int'"
     ]
    }
   ],
   "source": [
    "import re\n",
    "from collections import Counter\n",
    "from nltk.corpus import stopwords\n",
    "\n",
    "def split_into_words(any_chunk_of_text):\n",
    "    lowercase_text = any_chunk_of_text.lower()\n",
    "    split_words = re.split(\"\\W+\", lowercase_text)\n",
    "    return split_words\n",
    "\n",
    "filepath_of_text = \"../texts/music/Beyonce-Lemonade.txt\"\n",
    "nltk_stop_words = stopwords.words(\"english\")\n",
    "number_of_desired_words = \"40\"\n",
    "\n",
    "full_text = open(filepath_of_text, encoding=\"utf-8\").read()\n",
    "\n",
    "all_the_words = split_into_words(full_text)\n",
    "meaningful_words = [word for word in all_the_words if word not in nltk_stop_words]\n",
    "meaningful_words_tally = Counter(meaningful_words)\n",
    "most_frequent_meaningful_words = meaningful_words_tally.most_common(number_of_desired_words)\n",
    "\n",
    "print(most_frequent_meaningful_words)"
   ]
  },
  {
   "cell_type": "markdown",
   "metadata": {},
   "source": [
    "# Strings (Words)"
   ]
  },
  {
   "cell_type": "markdown",
   "metadata": {},
   "source": [
    "- Enclosed by either single or double quotation marks (doesn't matter which but you have to be consistent)\n",
    "- Ability to combine strings with `+`\n",
    "- Ability to manipulate in special ways (make lowercase or uppercase, replace parts, grab slices, etc.)"
   ]
  },
  {
   "cell_type": "code",
   "execution_count": 21,
   "metadata": {
    "scrolled": true,
    "tags": [
     "output_scroll"
    ]
   },
   "outputs": [
    {
     "name": "stdout",
     "output_type": "stream",
     "text": [
      "Six inch heels, she walked in the club like nobody's business\n",
      "Goddamn, she murdered everybody and I was her witness\n",
      "\n",
      "She's stacking money, money everywhere she goes\n",
      "You know, pesos out of Mexico\n",
      "De uno, commas and them decimals\n",
      "She don't gotta give it up, she professional\n",
      "She mixing up that Ace with that Hennessy\n",
      "She love the way it tastes, that's her recipe\n",
      "Rushing through her veins like it's ecstasy (Oh no)\n",
      "She already made enough, but she'll never leave\n",
      "\n",
      "Six inch heels, she walked in the club like nobody's business\n",
      "Goddamn, she murdered everybody and I was her witness\n",
      "She works for the money, she work for the money\n",
      "From the start to the finish\n",
      "And she worth every dollar, she worth every dollar\n",
      "And she worth every minute\n",
      "\n",
      "She work for the money\n",
      "She work for the money\n",
      "She work for the money\n",
      "She work for the money\n",
      "\n",
      "She stack her money, money everywhere she goes\n",
      "She got that Sake, her Yamazaki straight from Tokyo\n",
      "Oh baby, you know, she got them commas and them decimals\n",
      "She don't gotta give it up 'cause she professional\n",
      "\n",
      "Six inch heels, she walked in the club like nobody's business\n",
      "Goddamn (Goddamn, babe)\n",
      "She murdered everybody and I was her witness (Oh)\n",
      "She works for the money (Work for the)\n",
      "She work for the money (Work for the)\n",
      "From the start to the finish (Oh baby)\n",
      "And she worth every dollar (Worth every)\n",
      "She worth every dollar (Work for the)\n",
      "And she worth every minute\n",
      "\n",
      "Stars in her eyes\n",
      "She fights for the power, keeping time\n",
      "She grinds day and night\n",
      "She grinds from Monday to Friday\n",
      "Work from Friday to Sunday, oh\n",
      "She gon' slang\n",
      "She too smart to crave material things\n",
      "She pushing herself day and night\n",
      "She grinds from Monday to Friday\n",
      "Work from Friday to Sunday, oh\n",
      "Stars in her eyes\n",
      "She fights and she sweats those sleepless nights\n",
      "But she don't mind, she loves the grind\n",
      "She grinds from Monday to Friday\n",
      "Works from Friday to Sunday, yeah, yeah\n",
      "She gon' slang\n",
      "Too smart to crave material things\n",
      "Stacking her paper, stacking her cake up\n",
      "She grinds from Monday to Friday\n",
      "Works from Friday to Sunday\n",
      "\n",
      "Six inch heels, she walked in the club like nobody's business\n",
      "Goddamn, she murdered everybody and I was her witness\n",
      "She works for the money, she work for the money\n",
      "(Know just what to do to make you love me)\n",
      "From the start to the finish\n",
      "And she worth every dollar, she worth every dollar (Love me)\n",
      "And she worth every minute\n",
      "\n",
      "Ooh, boy, I'll make you feel\n",
      "You'll always come back to me\n",
      "Come back, come back\n",
      "Come back, come back\n",
      "Come back, come backI found the truth beneath your lies\n",
      "And true love never has to hide\n",
      "True love never has to hide\n",
      "I'll trade your broken wings for mine\n",
      "Trade your broken wings for mine\n",
      "I've seen your scars and kissed your crime, oh\n",
      "Seen your scars and kissed your crime\n",
      "\n",
      "So many people that I know, they're just tryna touch ya\n",
      "Kiss up and rub up and feel up\n",
      "Kiss up and rub up and feel up on you\n",
      "Give you some time to prove that I can trust you again\n",
      "I'm gonna kiss up and rub up and feel up\n",
      "Kiss up and rub up and feel up on you\n",
      "\n",
      "All night long\n",
      "Love all night long\n",
      "Sweet love all night long\n",
      "Sweet love all night long\n",
      "All I wanna, ain't no other\n",
      "We together, I remember\n",
      "Sweet love all night long\n",
      "\n",
      "Our love was stronger than your pride\n",
      "Beyond your darkness, I'm your light, oh\n",
      "If you get deep, you touch my mind\n",
      "If you get deep, you touch my mind\n",
      "Baptize your tears and dry your eyes, oh\n",
      "Baptize your tears and dry your eyes\n",
      "\n",
      "So many people, I know that they're just tryna touch ya\n",
      "Kiss up and rub up and feel up\n",
      "Kiss up and rub up and feel up on you\n",
      "Give you some time to prove that I can trust you again\n",
      "I'm gonna kiss up and rub up and feel up\n",
      "Kiss up and rub up and feel up on you\n",
      "\n",
      "All night long\n",
      "Love all night long\n",
      "Sweet love all night long\n",
      "Sweet love all night long\n",
      "All I wanna, ain't no other\n",
      "We together, I remember\n",
      "Sweet love all night long\n",
      "\n",
      "They say true love's the greatest weapon\n",
      "To win the war caused by pain, pain\n",
      "But every diamond has imperfections\n",
      "But my love's too pure to watch it chip away\n",
      "Boy, nothing real can be threatened\n",
      "True love breathes salvation back into me\n",
      "With every tear came redemption\n",
      "And my torturer became my remedy\n",
      "\n",
      "So many people, I know that they're just tryna touch ya\n",
      "Kiss up and rub up and feel up\n",
      "Kiss up and rub up and feel up on you\n",
      "Give you some time to prove that I can trust you again\n",
      "I'm gonna kiss up and rub up and feel up\n",
      "Kiss up and rub up and feel up on you\n",
      "\n",
      "All night long\n",
      "Love all night long\n",
      "Sweet love all night long\n",
      "Sweet love all night long\n",
      "All I wanna, ain't no other\n",
      "We together, I remember\n",
      "Sweet love all night long\n",
      "\n",
      "How I missed you, my loveYee-haw\n",
      "Ooh\n",
      "Texas, Texas (Ooh) Texas\n",
      "\n",
      "Came into this world, daddy's little girl\n",
      "And Daddy made a soldier out of me (Ooh)\n",
      "Daddy made me dance and Daddy held my hand (Ooh)\n",
      "And Daddy liked his whiskey with his tea\n",
      "\n",
      "And we rode motorcycles\n",
      "Blackjack, classic vinyl\n",
      "Tough girl is what I had to be\n",
      "He said, \"Take care of your mother\n",
      "Watch out for your sister\"\n",
      "And oh, that's when he gave to me\n",
      "\n",
      "With his gun and his head held high, he told me not to cry\n",
      "Oh, my daddy said shoot\n",
      "Oh, my daddy said shoot\n",
      "With his right hand on his rifle, he swore it on the bible\n",
      "My daddy said shoot\n",
      "Oh, my daddy said shoot\n",
      "He held me in his arms and he taught me to be strong\n",
      "He told me when he's gone, \"Here's what you do\n",
      "When trouble comes in town and men like me come around\"\n",
      "Oh, my daddy said shoot\n",
      "Oh, my daddy said shoot\n",
      "\n",
      "Ooh\n",
      "Yee, woo\n",
      "Ooh\n",
      "Yee-haw (Woo)\n",
      "\n",
      "Daddy made me fight, it wasn't always right\n",
      "But he said, \"Girl, it's your second amendment\" (Ooh)\n",
      "He always played it cool, but Daddy was no fool\n",
      "And right before he died, he said, \"Remember...\"\n",
      "\n",
      "He said, \"Take care of your mother\n",
      "Watch out for your sister\"\n",
      "That's when Daddy looked at me\n",
      "\n",
      "With his gun, with his head held high, he told me not to cry\n",
      "Oh, my daddy said shoot\n",
      "Oh, my daddy said shoot\n",
      "With his right hand on his rifle, he swore it on the bible\n",
      "My daddy said shoot (Yee)\n",
      "Oh, my daddy said shoot (Yee-haw)\n",
      "'Cause he held me in his arms and he taught me to be strong\n",
      "And he told me when he's gone, \"Here's what you do\n",
      "When trouble comes in town and men like me come around\"\n",
      "Oh, my daddy said shoot\n",
      "Oh, my daddy said shoot (Woo)\n",
      "\n",
      "Ooh (Woo)\n",
      "Ooh (Woo)\n",
      "Ooh (Yee)\n",
      "Ooh (Yee-haw)\n",
      "\n",
      "My daddy warned me about men like you\n",
      "He said, \"Baby girl, he's playing you, he's playing you\" (Ooh)\n",
      "My daddy warned me about men like you\n",
      "He said, \"Baby girl, he's playing you, he's playing you (Ooh)\n",
      "'Cause when trouble comes in town and men like me come around\"\n",
      "Oh, my daddy said shoot (Yee)\n",
      "Oh, my daddy said shoot (Yee-haw)\n",
      "\"'Cause when trouble comes to town and men like me come around\"\n",
      "Oh, my daddy said shoot\n",
      "Oh, my daddy said shoot\n",
      "(Good job, Bey)Oh na na na\n",
      "Oh na na na\n",
      "Oh na na na\n",
      "Don't hurt yourself\n",
      "Don't hurt yourself\n",
      "\n",
      "Who the fuck do you think I is?\n",
      "You ain't married to no average bitch, boy\n",
      "You can watch my fat ass twist, boy\n",
      "As I bounce to the next dick, boy\n",
      "And keep your money, I got my own\n",
      "Keep a bigger smile on my face being alone\n",
      "Bad motherfucker, God complex\n",
      "Motivate your ass, call me Malcolm X\n",
      "Yo operator, or innovator\n",
      "Fuck you hater, you can't recreate her, no, nuh-uh\n",
      "You'll never recreate her no, hell no\n",
      "\n",
      "We just got to let it be\n",
      "Let it be, let it be, let it be, baby\n",
      "You just got to let it be\n",
      "Let it be, let it be, let it be, babe\n",
      "\n",
      "When you hurt me, you hurt yourself\n",
      "Don't hurt yourself\n",
      "When you diss me, you diss yourself\n",
      "Don't hurt yourself\n",
      "When you hurt me, you hurt yourself\n",
      "Don't hurt yourself (Don't hurt yourself)\n",
      "Don't hurt yourself\n",
      "When you love me, you love yourself\n",
      "Love God herself\n",
      "\n",
      "I am the dragon breathing fire\n",
      "Beautiful mane, I'm the lion\n",
      "Beautiful man, I know you're lying\n",
      "I am not broken, I'm not crying, I'm not crying\n",
      "You ain't trying hard enough\n",
      "You ain't loving hard enough\n",
      "You don't love me deep enough\n",
      "We not reaching peaks enough\n",
      "Blindly in love, I fucks with you\n",
      "'Til I realize I'm just too much for you\n",
      "I'm just too much for you\n",
      "\n",
      "You just got to let it be\n",
      "Let it be, let it be, let it be, baby\n",
      "Hey baby, who the fuck do you think I is?\n",
      "I smell that fragrance on your Louis knit, boy\n",
      "Just give my fat ass a big kiss, boy\n",
      "Tonight I'm fucking up all your shit, boy\n",
      "\n",
      "When you hurt me, you hurt yourself\n",
      "Try not to hurt yourself\n",
      "When you play me, you play yourself\n",
      "Don't play yourself\n",
      "When you lie to me, you lie to yourself\n",
      "You only lying to yourself (Don't hurt yourself)\n",
      "When you love me, you love yourself\n",
      "Love God herself\n",
      "\n",
      "We just got to let it be\n",
      "Let it be, let it be, let it be, let it be, babe\n",
      "Uh, this is your final warning (Don't hurt yourself)\n",
      "You know I give you life (Don't hurt yourself)\n",
      "If you try this shit again (Don't hurt yourself)\n",
      "You gon' lose your wifeWhat happened at the New Wil'ins?\n",
      "Bitch, I'm back by popular demand\n",
      "\n",
      "Y'all haters corny with that Illuminati mess\n",
      "Paparazzi, catch my fly and my cocky fresh\n",
      "I'm so reckless when I rock my Givenchy dress (Stylin')\n",
      "I'm so possessive so I rock his Roc necklaces\n",
      "My daddy Alabama, momma Louisiana\n",
      "You mix that negro with that Creole, make a Texas bama\n",
      "I like my baby hair with baby hair and afros\n",
      "I like my negro nose with Jackson Five nostrils\n",
      "Earned all this money, but they never take the country out me\n",
      "I got hot sauce in my bag, swag\n",
      "\n",
      "Oh yeah, baby, oh yeah I, ohhhhh, oh, yes, I like that\n",
      "I did not come to play with you hoes, haha\n",
      "I came to slay, bitch\n",
      "I like cornbreads and collard greens, bitch\n",
      "Oh, yes, you besta believe it\n",
      "\n",
      "Y'all haters corny with that lluminati mess\n",
      "Paparazzi, catch my fly and my cocky fresh\n",
      "I'm so reckless when I rock my Givenchy dress (Stylin')\n",
      "I'm so possessive so I rock his Roc necklaces\n",
      "My daddy Alabama, momma Louisiana\n",
      "You mix that negro with that Creole, make a Texas bama\n",
      "I like my baby heir with baby hair and afros\n",
      "I like my negro nose with Jackson Five nostrils\n",
      "Earned all this money but they never take the country out me\n",
      "I got hot sauce in my bag, swag\n",
      "\n",
      "I see it, I want it, I stunt; yellow bone-it\n",
      "I dream it, I work hard, I grind 'til I own it\n",
      "I twirl on them haters, albino alligators\n",
      "El Camino with the seat low, sippin' Cuervo with no chaser\n",
      "Sometimes I go off (I go off), I go hard (I go hard)\n",
      "Get what's mine (Take what's mine), I'm a star (I'm a star)\n",
      "'Cause I slay (Slay), I slay (Hey), I slay (Okay), I slay (Okay)\n",
      "All day (Okay), I slay (Okay), I slay (Okay), I slay (Okay)\n",
      "We gon' slay (Slay), gon' slay (Okay), we slay (Okay), I slay (Okay)\n",
      "I slay (Okay), okay (Okay), I slay (Okay), okay, okay, okay, okay\n",
      "Okay, okay, ladies, now let's get in formation, 'cause I slay\n",
      "Okay, ladies, now let's get in formation, 'cause I slay\n",
      "Prove to me you got some coordination, 'cause I slay\n",
      "Slay trick, or you get eliminated\n",
      "\n",
      "When he fuck me good, I take his ass to Red Lobster, 'cause I slay\n",
      "When he fuck me good, I take his ass to Red Lobster, we gon slay\n",
      "If he hit it right, I might take him on a flight on my chopper, I slay\n",
      "Drop him off at the mall, let him buy some J's, let him shop up, 'cause I slay\n",
      "I might get your song played on the radio station, 'cause I slay\n",
      "I might get your song played on the radio station, 'cause I slay\n",
      "You just might be a black Bill Gates in the making, 'cause I slay\n",
      "I just might be a black Bill Gates in the making\n",
      "\n",
      "I see it, I want it, I stunt; yellow bone-it\n",
      "I dream it, I work hard, I grind 'til I own it\n",
      "I twirl on them haters, albino alligators\n",
      "El Camino with the seat low, sippin' Cuervo with no chaser\n",
      "Sometimes I go off (I go off), I go hard (I go hard)\n",
      "Take what's mine (Take what's mine), I'm a star (I'm a star)\n",
      "'Cause I slay (Slay), I slay (Hey), I slay (Okay), I slay (Okay)\n",
      "I slay (Okay), I slay (Okay), I slay (Okay), I slay (Okay)\n",
      "We gon' slay (Slay), gon' slay (Okay), we slay (Okay), I slay (Okay)\n",
      "I slay (Okay), okay (Okay), I slay (Okay), okay, okay, okay, okay\n",
      "Okay, okay, ladies, now let's get in formation, I slay\n",
      "Okay, ladies, now let's get in formation, 'cause I slay\n",
      "Prove to me you got some coordination, 'cause I slay\n",
      "Slay trick, or you get eliminated, I slay\n",
      "\n",
      "Okay, ladies, now let's get in formation, I slay\n",
      "Okay, ladies, now let's get in formation\n",
      "You know you that bitch when you cause all this conversation\n",
      "Always stay gracious, best revenge is your paper\n",
      "\n",
      "Girl, I hear some thunder\n",
      "Golly, look at that water, boy, oh LordForward\n",
      "Best foot first just in case\n",
      "When we made our way 'til now\n",
      "It's time to listen, it's time to fight\n",
      "Forward\n",
      "Now we're going to hold doors open for a while\n",
      "Now we can be open for a while\n",
      "Forward\n",
      "I love you more than this job, please don't work for me\n",
      "Forward\n",
      "Go back to your sleep in your favorite spot just next to me\n",
      "Forward, ooh, forward\n",
      "\n",
      "Forward, forwardBest Rap Album\n",
      "WINNER: Macklemore and Ryan Lewis - The Heist\n",
      "Drake - Nothing Was The Same\n",
      "JAY Z - Magna Carta…Holy Grail\n",
      "Kendrick Lamar - Good Kid, m.A.A.d City\n",
      "Kanye West - Yeezus\n",
      "Album of the Year\n",
      "WINNER: Daft Punk – Random Access Memories\n",
      "Kendrick Lamar – Good Kid, m.A.A.d City\n",
      "Sara Bareilles - The Blessed Unrest\n",
      "Macklemore and Ryan Lewis – The Heist\n",
      "Taylor Swift – Red\n",
      "Song of the Year\n",
      "WINNER: Lorde – Royals\n",
      "Pink ft. Nate Ruess – Just Give Me A Reason\n",
      "Bruno Mars – Locked Out Of Heaven\n",
      "Katy Perry – Roar\n",
      "Macklemore and Ryan Lewis ft. Mary Lambert – Same Love\n",
      "Best Rap Song\n",
      "WINNER: Macklemore and Ryan Lewis ft. Wanz - Thrift Shop\n",
      "ASAP Rocky ft. Drake, 2 Chainz & Kendrick Lamar - Fuckin' Problems\n",
      "JAY Z ft. Justin Timberlake - Holy Grail\n",
      "Kanye West - New Slaves\n",
      "Drake - Started From The Bottom\n",
      "Best Pop Duo Or Group Performance\n",
      "WINNER: Daft Punk ft. Pharrell – Get Lucky\n",
      "Pink ft. Nate Ruess – Just Give Me A Reason\n",
      "Rihanna ft. Mikky Ekko – Stay\n",
      "Robin Thicke ft. Pharrell and T.I. – Blurred Lines\n",
      "Justin Timberlake ft. JAY Z – Suit & Tie\n",
      "Best R&B Album\n",
      "WINNER: Alicia Keys - Girl On Fire\n",
      "Faith Evans - R&B Divas\n",
      "John Legend - Love In The Future\n",
      "TGT - Three Kings\n",
      "Best Urban Contemporary Album\n",
      "WINNER: Rihanna - Unapologetic\n",
      "Tamar Braxton - Love And War\n",
      "Fantasia - Side Effects Of You\n",
      "Salaam Remi - One: In The Chamber\n",
      "Mack Wilds -  New York: A Love Story\n",
      "Best Country Album\n",
      "WINNER: Kacey Musgraves – Same Trailer Different Park\n",
      "Jason Aldean – Night Train\n",
      "Tim McGraw – Two Lanes of Freedom\n",
      "Blake Shelton – Based on a True Story\n",
      "Taylor Swift – Red\n",
      "Best New Artist\n",
      "WINNER: Macklemore and Ryan Lewis\n",
      "James Blake\n",
      "Ed Sheeran\n",
      "Kendrick Lamar\n",
      "Kacey Musgraves\n",
      "Record of the Year\n",
      "WINNER: Daft Punk ft. Pharrell – Get Lucky\n",
      "Imagine Dragons – Radioactive\n",
      "Lorde – Royals\n",
      "Bruno Mars – Locked Out Of Heaven\n",
      "Robin Thicke ft. T.I. and Pharrell – Blurred Lines\n",
      "Best Rap/Sung Collaboration\n",
      "WINNER: JAY Z ft. Justin Timberlake - Holy Grail\n",
      "J. Cole ft. Miguel - Power Trip\n",
      "JAY Z ft. Beyoncé - Part II (On The Run)\n",
      "Kendrick Lamar ft. Mary J. Blige - Now Or Never\n",
      "Wiz Khalifa ft. The Weeknd - Remember You\n",
      "Best Rap Performance\n",
      "WINNER: Macklemore and Ryan Lewis ft. Wanz - Thrift Shop\n",
      "Drake - Started From The Bottom\n",
      "Eminem - Berzerk\n",
      "Jay Z - Tom Ford\n",
      "Kendrick Lamar - Swimming Pools (Drank)\n",
      "Best Pop Vocal Album\n",
      "WINNER: Bruno Mars - Unorthodox Jukebox\n",
      "Lana Del Rey - Paradise\n",
      "Lorde - Pure Heroine\n",
      "Robin Thicke - Blurred Lines\n",
      "Justin Timberlake - The 20/20 Experience\n",
      "Best R&B Song (A Songwriters Award)\n",
      "WINNER: James Fauntleroy, Jerome Harmon, Timothy Mosley & Justin Timberlake - Pusher Love Girl\n",
      "Anthony Hamilton & Jairus Mozee - Best Of Me\n",
      "Tamar Braxton, Darhyl Camper, Jr., LaShawn Daniels & Makeba Riddick - Love And War\n",
      "PJ Morton ft. Stevie Wonder - Only One\n",
      "Fantasia Barrino, Missy Elliott, Al Sherrod Lambert, Harmony Samuels & Kyle Stewart - Without Me\n",
      "Best Traditional R&B Performance\n",
      "WINNER: Gary Clark Jr. - Please Come Home\n",
      "Fantasia - Get It Right\n",
      "Maysa - Quiet Fire\n",
      "Gregory Porter - Hey Laura\n",
      "Ryan Shaw - Yesterday\n",
      "Best R&B Performance\n",
      "WINNER: Snarky Puppy With Lalah Hathaway - Something\n",
      "Tamar Braxton - Love And War\n",
      "Anthony Hamilton - Best Of Me\n",
      "Hiatus Kaiyote ft. Q-Tip - Nakamarra\n",
      "Miguel ft. Kendrick Lamar - How Many Drinks?\n",
      "Best Reggae Album\n",
      "WINNER: Ziggy Marley - Ziggy Marley In Concert\n",
      "Beres Hammond - One Love, One Life\n",
      "Sizzla - The Messiah\n",
      "Sly & Robbie And The Jam Masters - Reggae Connection\n",
      "Snoop Lion - Reincarnated\n",
      "Best Dance/Electronica Album\n",
      "WINNER: Daft Punk - Random Access Memories\n",
      "Disclosure - Settle\n",
      "Calvin Harris - 18 Months\n",
      "Kaskade - Atmosphere\n",
      "Pretty Lights - A Color Map Of The Sun\n",
      "Best Alternative Album\n",
      "WINNER: Vampire Weekend - Modern Vampires Of The City\n",
      "Neko Case - The Worse Things Get, The Harder I Fight, The Harder I Fight, The More I Love You\n",
      "The National - Trouble Will Find Me\n",
      "Nine Inch Nails - Hesitation Marks\n",
      "Tame Impala - LonerismHold up, they don't love you like I love you\n",
      "Slow down, they don't love you like I love you\n",
      "Back up, they don't love you like I love you\n",
      "Step down, they don't love you like I love you\n",
      "Can't you see there's no other man above you?\n",
      "What a wicked way to treat the girl that loves you\n",
      "Hold up, they don't love you like I love you\n",
      "Oh, down, they don't love you like I love you\n",
      "\n",
      "Something don't feel right because it ain't right\n",
      "Especially comin' up after midnight\n",
      "I smell your secrets, and I'm not too perfect\n",
      "To ever feel this worthless\n",
      "How did it come down to this? Scrolling through your call list\n",
      "I don't wanna lose my pride, but I'ma fuck me up a bitch\n",
      "Know that I kept it sexy, you know I kept it fun\n",
      "There's something that I'm missing, maybe my head for one\n",
      "\n",
      "What's worst, lookin' jealous or crazy? Jealous or crazy?\n",
      "Or like being walked all over lately, walked all over lately\n",
      "I'd rather be crazy\n",
      "\n",
      "Hold up, they don't love you like I love you\n",
      "Slow down, they don't love you like I love you\n",
      "Back up, they don't love you like I love you\n",
      "Step down, they don't love you like I love you\n",
      "Can't you see there's no other man above you?\n",
      "What a wicked way to treat the girl that loves you\n",
      "Hold up, they don't love you like I love you\n",
      "Slow down, they don't love you like I love you\n",
      "\n",
      "Let's imagine for a moment that you never made a name for yourself\n",
      "Or mastered wealth, they had you labeled as a king\n",
      "Never made it out the cage, still out there movin' in them streets\n",
      "Never had the baddest woman in the game up in your sheets\n",
      "Would they be down to ride? No\n",
      "They used to hide from you, lie to you\n",
      "But y'all know we were made for each other\n",
      "So I find you and hold you down\n",
      "Me sing se\n",
      "\n",
      "Hold up, they don't love you like I love you\n",
      "Slow down, they don't love you like I love you\n",
      "Back up, they don't love you like I love you\n",
      "Step down, they don't love you like I love you\n",
      "Can't you see there's no other man above you?\n",
      "What a wicked way to treat the girl that loves you\n",
      "Hold up, they don't love you like I love you\n",
      "Slow down, they don't love you like I love you\n",
      "\n",
      "Hey, this such a shame\n",
      "You let this good love go to waste\n",
      "I always keep the top tier, 5 star\n",
      "Backseat lovin' in the car\n",
      "Like make that wood, like make that wood\n",
      "Holly like a boulevard\n",
      "\n",
      "What's worse, lookin' jealous or crazy? Jealous and crazy?\n",
      "Or like being walked all over lately, walked all over lately\n",
      "I'd rather be crazy\n",
      "\n",
      "Hold up, they don't love you like I love you\n",
      "Slow down, they don't love you like I love you\n",
      "Back up, they don't love you like I love you\n",
      "Step down, they don't love you like I love you\n",
      "Can't you see there's no other man above you?\n",
      "What a wicked way to treat the girl that loves you\n",
      "Hold up, they don't love you like I love you\n",
      "Oh, down, they don't love you like I love you\n",
      "\n",
      "I hop up out my bed and get my swag on\n",
      "I look in the mirror, say, \"What's up?\"\n",
      "What's up, what's up, what's up\n",
      "I hop up out my bed and get my swag on\n",
      "I look in the mirror, say, \"What's up?\"\n",
      "What's up, what's up, what's upTen times out of nine, I know you‘re lying\n",
      "But nine times out of ten, I know you're trying\n",
      "So I'm trying to be fair\n",
      "And you're trying to be there and to care\n",
      "And you're caught up in your permanent emotions\n",
      "And all the loving I've been giving goes unnoticed\n",
      "It's just floating in the air, lookie there\n",
      "Are you aware you're my lifeline, are you tryna kill me?\n",
      "If I wasn't me, would you still feel me?\n",
      "Like on my worst day? Or am I not thirsty, enough?\n",
      "I don't care about the lights or the beams\n",
      "Spend my life in the dark for the sake of you and me\n",
      "Only way to go is up, skin thick, too tough, mmm\n",
      "\n",
      "'Cause you, you, you, you and me could move a mountain\n",
      "You, you, you, you and me could calm a war down\n",
      "You, you, you, you and me could make it rain now\n",
      "You, you, you, you and me could stop this love drought\n",
      "\n",
      "Nine times out of ten, I'm in my feelings\n",
      "But ten times out of nine, I'm only human\n",
      "Tell me, what did I do wrong?\n",
      "Feel like that question has been posed, I'm movin' on\n",
      "I always been committed, I been focused\n",
      "I always paid attention, been devoted\n",
      "Tell me, what did I do wrong?\n",
      "Oh, already asked that, my bad\n",
      "But you my lifeline, think you tryna kill me\n",
      "If I wasn't B, would you still feel me?\n",
      "Like on my worst day? Or am I not thirsty, enough?\n",
      "I don't care about the lights or the beams\n",
      "Spend my life in the dark for the sake of you and me\n",
      "Only way to go is up, them old bitches so wack\n",
      "I'm so tough, wassup?\n",
      "\n",
      "'Cause you, you, you, you and me could move a mountain\n",
      "You, you, you, you and me could calm a war down\n",
      "You, you, you, you and me could make it rain now\n",
      "And you, you, you, you and me will stop this love drought\n",
      "\n",
      "You, you, you, you and me will stop this love drought\n",
      "You, you, you, you and me will stop this love droughtYou can taste the dishonesty\n",
      "It's all over your breath as you pass it off so cavalier\n",
      "But even that's a test\n",
      "Constantly aware of it all\n",
      "My lonely ear pressed against the walls of your world\n",
      "\n",
      "Pray to catch you whispering\n",
      "I pray you catch me listening\n",
      "I'm prayin' to catch you whispering\n",
      "I pray you catch me\n",
      "I'm prayin' to catch you whispering\n",
      "I pray you catch me listening\n",
      "I pray you catch me\n",
      "\n",
      "Nothing else ever seems to hurt like the smile on your face\n",
      "When it's only in my memory, it don't hit me quite the same\n",
      "Maybe it's a cause for concern, but I'm not at ease\n",
      "Keeping my head to the curb\n",
      "\n",
      "Pray to catch you whispering\n",
      "I pray you catch me listening\n",
      "I pray to catch you whispering (Whisper, whisper)\n",
      "I pray you catch me (Whisper, whisper)\n",
      "I pray you catch me\n",
      "I pray you catch me (Pray you)\n",
      "I'm praying you catch me\n",
      "\n",
      "What are you doing, my love?We built sandcastles that washed away\n",
      "I made you cry when I walked away, oh\n",
      "And although I promised that I couldn't stay, baby\n",
      "Every promise don't work out that way, oh, babe\n",
      "Every promise don't work out that way\n",
      "\n",
      "Dishes smashed on my counter from our last encounter\n",
      "Pictures snatched out the frame\n",
      "Bitch, I scratched out your name and your face\n",
      "What is it about you that I can't erase, baby?\n",
      "When every promise don't work out that way, no no, babe\n",
      "When every promise don't work out that way\n",
      "\n",
      "And your heart is broken 'cause I walked away\n",
      "Show me your scars and I won't walk away, oh\n",
      "And I know I promised that I couldn't stay, baby\n",
      "Every promise don't work out that way, no, no, no, no, no\n",
      "Every promise don't work out that waySorry, I ain't sorry\n",
      "Sorry, I ain't sorry\n",
      "I ain't sorry, nigga, nah\n",
      "Sorry, I ain't sorry\n",
      "Sorry, I ain't sorry\n",
      "I ain't sorry\n",
      "\n",
      "He trying to roll me up (I ain't sorry)\n",
      "I ain't picking up (I ain't sorry)\n",
      "Headed to the club (I ain't sorry)\n",
      "I ain't thinking 'bout you (I ain't sorry)\n",
      "Me and my ladies sip my D'USSÉ cups\n",
      "I don't give a fuck, chucking my deuces up\n",
      "Suck on my balls, pause, I had enough (Sorry, I ain't sorry)\n",
      "I ain't thinking 'bout you\n",
      "I ain't thinking 'bout\n",
      "\n",
      "Middle fingers up, put them hands high\n",
      "Wave it in his face, tell him, boy, bye (Sorry, I ain't sorry)\n",
      "Tell him, boy, bye, boy, bye, middle fingers up\n",
      "I ain't thinking 'bout you\n",
      "\n",
      "Sorry, I ain't sorry (You)\n",
      "Sorry, I ain't sorry (You)\n",
      "I ain't sorry, nigga, nah\n",
      "I ain't thinking 'bout you\n",
      "Sorry, I ain't sorry\n",
      "Sorry, I ain't sorry, I ain't sorry\n",
      "No, no, hell nah\n",
      "\n",
      "Now you wanna say you're sorry\n",
      "Now you wanna call me crying\n",
      "Now you gotta see me wilding\n",
      "Now I'm the one that's lying\n",
      "And I don't feel bad about it\n",
      "It's exactly what you get\n",
      "Stop interrupting my grinding\n",
      "(You interrupting my grinding)\n",
      "I ain't thinking 'bout you\n",
      "\n",
      "Sorry, I ain't sorry\n",
      "I ain't thinking 'bout you\n",
      "I ain't thinking 'bout you\n",
      "Sorry, I ain't sorry\n",
      "I ain't thinking 'bout you\n",
      "I ain't thinking 'bout you\n",
      "\n",
      "Middle fingers up, put them hands high\n",
      "Wave it in his face, tell him, boy, bye (Bye) (Sorry, I ain't sorry)\n",
      "Tell him, boy, bye (Bye), boy, bye (Bye)\n",
      "Middle fingers up, I ain't thinking 'bout you\n",
      "\n",
      "Sorry, I ain't sorry\n",
      "Sorry, I ain't sorry\n",
      "I ain't sorry, nigga, nah\n",
      "Sorry, I ain't sorry\n",
      "Sorry, I ain't sorry\n",
      "I ain't sorry\n",
      "No, no, hell nah\n",
      "\n",
      "Looking at my watch, he shoulda been home\n",
      "Today, I regret the night I put that ring on\n",
      "He always got them fucking excuses\n",
      "I pray to the Lord you reveal what his truth is\n",
      "\n",
      "I left a note in the hallway\n",
      "By the time you read it, I'll be far away\n",
      "I'm far away\n",
      "But I ain't fucking with nobody\n",
      "Let's have a toast to the good life\n",
      "Suicide before you see this tear fall down my eyes\n",
      "Me and my baby, we gon' be alright\n",
      "We gon' live a good life\n",
      "Big homie better grow up\n",
      "Me and my whoadies 'bout to stroll up\n",
      "I see them boppers in the corner\n",
      "They sneaking out the back door\n",
      "He only want me when I'm not there\n",
      "He better call Becky with the good hair\n",
      "He better call Becky with the good hairThe big homie better hold up (Hold up)\n",
      "Big homie better hold up (Hold up)\n",
      "My whoadies 'bout to roll up (Roll up)\n",
      "Young whoadies 'bout to stroll up (Stroll up)\n",
      "They comin' through the back door\n",
      "The big homie better hold up (Hold up)\n",
      "Me and my whoadies 'bout to roll up (Roll up)\n",
      "I see them boppers in the corner (Corner)\n",
      "Sneaking out the back door\n",
      "\n",
      "We really could be\n",
      "Living young, wild and free\n",
      "\n",
      "I left a note in the hallway (Hallway)\n",
      "By the time you read it, I'll be far away (Far away)\n",
      "I ain't fucking with nobody (Nobody)\n",
      "Toast to the good life (Good life)\n",
      "Suicide before you see my tears in my eyes (In my eyes)\n",
      "Me and my daughter, we gon' be alright\n",
      "We gon' live a good life (Good life)\n",
      "\n",
      "Big homie better hold up (Hold up)\n",
      "Me and my whoadies 'bout to roll up (Roll up)\n",
      "I say my whoadies 'bout to stroll up (Stroll up)\n",
      "They comin' through the back door\n",
      "Big homie better hold up (Hold up)\n",
      "Me and my whoadies 'bout to stroll up (Stroll up)\n",
      "I see them boppers in the corner (Corner)\n",
      "Sneaking out the back door\n",
      "\n",
      "We really could be\n",
      "Living young, wild and free\n",
      "\n",
      "Hell no, I ain't gon' call you back (Call you back)\n",
      "Chase me 'round the world just to fall back (Fall back)\n",
      "Ain't nobody got no time for that\n",
      "Tryna keep my family right\n",
      "Swear you're giving me your heart, but I don't care (Don't care)\n",
      "Better call Becky with the good hair (The good hair)\n",
      "You only want me when I'm not there\n",
      "Boy, you better get in line\n",
      "\n",
      "Sometimes I regret the day I put this ring on (Get in line)\n",
      "Looking at my watch he should've been home (Get in line)\n",
      "He always got them motherfucking excuses (Get in line)\n",
      "I pray to God you reveal to me what his truth is (Get in line)\n",
      "\n",
      "Hey, big homie better grow up (Get in line)\n",
      "Ask you something then you choke up (Get in line)\n",
      "Me and my whoadies gonna roll up\n",
      "Beating down your back door (Get in line)\n",
      "Big homie better hold up (Get in line)\n",
      "You've been running game on the wrong one (Get in line)\n",
      "I'm runnin' so fast for the long run\n",
      "Runnin' out the back door (Get in line)\n",
      "\n",
      "We truly could have been\n",
      "Living young, wild and free (Get in line)\n",
      "We truly could have been\n",
      "Living young, wild and free\n"
     ]
    }
   ],
   "source": [
    "print(full_text)"
   ]
  },
  {
   "cell_type": "code",
   "execution_count": 19,
   "metadata": {},
   "outputs": [
    {
     "data": {
      "text/plain": [
       "str"
      ]
     },
     "execution_count": 19,
     "metadata": {},
     "output_type": "execute_result"
    }
   ],
   "source": [
    "type(full_text)"
   ]
  },
  {
   "cell_type": "markdown",
   "metadata": {},
   "source": [
    "## Extract Parts of Strings"
   ]
  },
  {
   "cell_type": "markdown",
   "metadata": {},
   "source": [
    "By using square brackets `[]`, you can \"index\"—or grab—part of a string based on its character number. The first line of Beyonce's album Lemonade is \"Six inch heels, she walked in the club like nobody's business.\" If we index the first character, what do you think we'll get?"
   ]
  },
  {
   "cell_type": "code",
   "execution_count": 24,
   "metadata": {},
   "outputs": [
    {
     "data": {
      "text/plain": [
       "'i'"
      ]
     },
     "execution_count": 24,
     "metadata": {},
     "output_type": "execute_result"
    }
   ],
   "source": [
    "full_text[1]"
   ]
  },
  {
   "cell_type": "code",
   "execution_count": 25,
   "metadata": {},
   "outputs": [
    {
     "data": {
      "text/plain": [
       "'S'"
      ]
     },
     "execution_count": 25,
     "metadata": {},
     "output_type": "execute_result"
    }
   ],
   "source": [
    "full_text[0]"
   ]
  },
  {
   "cell_type": "markdown",
   "metadata": {},
   "source": [
    "This is one weird thing about Python that you're just going to have to commit to memory. The zero-th place in a Python index is actually the very first place. Its number system starts with zero."
   ]
  },
  {
   "cell_type": "markdown",
   "metadata": {},
   "source": [
    "By using a colon `:`, we can index a string up to a certain character."
   ]
  },
  {
   "cell_type": "code",
   "execution_count": 27,
   "metadata": {},
   "outputs": [
    {
     "data": {
      "text/plain": [
       "\"Six inch heels, she walked in the club like nobody's business\""
      ]
     },
     "execution_count": 27,
     "metadata": {},
     "output_type": "execute_result"
    }
   ],
   "source": [
    "full_text[:61]"
   ]
  },
  {
   "cell_type": "code",
   "execution_count": 263,
   "metadata": {},
   "outputs": [],
   "source": [
    "lemonade_first_line = full_text[:61]"
   ]
  },
  {
   "cell_type": "markdown",
   "metadata": {},
   "source": [
    "## Add Strings Together"
   ]
  },
  {
   "cell_type": "code",
   "execution_count": 266,
   "metadata": {},
   "outputs": [
    {
     "data": {
      "text/plain": [
       "\"Six inch heels, she walked in the club like nobody's business, and then she took off her shoes because they were pretty tall\""
      ]
     },
     "execution_count": 266,
     "metadata": {},
     "output_type": "execute_result"
    }
   ],
   "source": [
    "lemonade_first_line + \", and then she took off her shoes because they were pretty tall\""
   ]
  },
  {
   "cell_type": "code",
   "execution_count": 293,
   "metadata": {},
   "outputs": [
    {
     "data": {
      "text/plain": [
       "\"SIX INCH HEELS, SHE WALKED IN THE CLUB LIKE NOBODY'S BUSINESS\""
      ]
     },
     "execution_count": 293,
     "metadata": {},
     "output_type": "execute_result"
    }
   ],
   "source": [
    "lemonade_first_line.upper()"
   ]
  },
  {
   "cell_type": "markdown",
   "metadata": {},
   "source": [
    "## Put Variables Inside Strings"
   ]
  },
  {
   "cell_type": "markdown",
   "metadata": {},
   "source": [
    "You can also insert variables into a string with something called **f-Strings**! They're amazing. An f-string must begin with an `f` outside the quotation marks, and then the variable must be be placed within curly brackets `{}`, like so:"
   ]
  },
  {
   "cell_type": "code",
   "execution_count": 267,
   "metadata": {},
   "outputs": [
    {
     "name": "stdout",
     "output_type": "stream",
     "text": [
      "Beyonce stepped on stage and sang: \n",
      "\n",
      "'Six inch heels, she walked in the club like nobody's business'\n"
     ]
    }
   ],
   "source": [
    "print(f\"Beyonce stepped on stage and sang: \\n\\n'{lemonade_first_line}'\")"
   ]
  },
  {
   "cell_type": "markdown",
   "metadata": {},
   "source": [
    "### Your Turn"
   ]
  },
  {
   "cell_type": "markdown",
   "metadata": {},
   "source": [
    "Remix! Make a variable called `new_first_line` and assign it the value of:\n",
    "\n",
    "`lemonade_first_line` plus (`+`) your new remixed ending\n",
    "\n",
    "Then print it."
   ]
  },
  {
   "cell_type": "code",
   "execution_count": null,
   "metadata": {},
   "outputs": [],
   "source": [
    "new_first_line = #Your Code Here"
   ]
  },
  {
   "cell_type": "code",
   "execution_count": null,
   "metadata": {},
   "outputs": [],
   "source": [
    "print(f\"Beyonce stepped on stage and sang: \\n\\n'{#Your Code Here}'\")"
   ]
  },
  {
   "cell_type": "markdown",
   "metadata": {},
   "source": [
    "# Integers & Floats (Numbers)"
   ]
  },
  {
   "cell_type": "markdown",
   "metadata": {},
   "source": [
    "- You can do math with them!"
   ]
  },
  {
   "cell_type": "code",
   "execution_count": 268,
   "metadata": {},
   "outputs": [],
   "source": [
    "number_of_desired_words = 40"
   ]
  },
  {
   "cell_type": "code",
   "execution_count": 269,
   "metadata": {},
   "outputs": [
    {
     "data": {
      "text/plain": [
       "int"
      ]
     },
     "execution_count": 269,
     "metadata": {},
     "output_type": "execute_result"
    }
   ],
   "source": [
    "type(number_of_desired_words)"
   ]
  },
  {
   "cell_type": "code",
   "execution_count": 270,
   "metadata": {},
   "outputs": [
    {
     "data": {
      "text/plain": [
       "97"
      ]
     },
     "execution_count": 270,
     "metadata": {},
     "output_type": "execute_result"
    }
   ],
   "source": [
    "number_of_desired_words + 57"
   ]
  },
  {
   "cell_type": "code",
   "execution_count": 272,
   "metadata": {},
   "outputs": [],
   "source": [
    "number_of_desired_words = 40.5"
   ]
  },
  {
   "cell_type": "code",
   "execution_count": 273,
   "metadata": {},
   "outputs": [
    {
     "data": {
      "text/plain": [
       "float"
      ]
     },
     "execution_count": 273,
     "metadata": {},
     "output_type": "execute_result"
    }
   ],
   "source": [
    "type(number_of_desired_words)"
   ]
  },
  {
   "cell_type": "code",
   "execution_count": 274,
   "metadata": {},
   "outputs": [
    {
     "data": {
      "text/plain": [
       "97.5"
      ]
     },
     "execution_count": 274,
     "metadata": {},
     "output_type": "execute_result"
    }
   ],
   "source": [
    "number_of_desired_words + 57"
   ]
  },
  {
   "cell_type": "code",
   "execution_count": 275,
   "metadata": {},
   "outputs": [
    {
     "data": {
      "text/plain": [
       "float"
      ]
     },
     "execution_count": 275,
     "metadata": {},
     "output_type": "execute_result"
    }
   ],
   "source": [
    "type(40.555555555555)"
   ]
  },
  {
   "cell_type": "markdown",
   "metadata": {},
   "source": [
    "# Booleans (True/False)"
   ]
  },
  {
   "cell_type": "markdown",
   "metadata": {},
   "source": [
    "Booleans are like little judgments. They report on whether things in your Python universe are `True` or `False`."
   ]
  },
  {
   "cell_type": "code",
   "execution_count": 10,
   "metadata": {},
   "outputs": [],
   "source": [
    "beyonce = \"Grammy award-winner\""
   ]
  },
  {
   "cell_type": "code",
   "execution_count": 6,
   "metadata": {},
   "outputs": [
    {
     "data": {
      "text/plain": [
       "True"
      ]
     },
     "execution_count": 6,
     "metadata": {},
     "output_type": "execute_result"
    }
   ],
   "source": [
    "beyonce == \"Grammy award-winner\""
   ]
  },
  {
   "cell_type": "code",
   "execution_count": 7,
   "metadata": {},
   "outputs": [
    {
     "data": {
      "text/plain": [
       "False"
      ]
     },
     "execution_count": 7,
     "metadata": {},
     "output_type": "execute_result"
    }
   ],
   "source": [
    "beyonce == \"Oscar award-winner\""
   ]
  },
  {
   "cell_type": "code",
   "execution_count": 11,
   "metadata": {},
   "outputs": [
    {
     "data": {
      "text/plain": [
       "False"
      ]
     },
     "execution_count": 11,
     "metadata": {},
     "output_type": "execute_result"
    }
   ],
   "source": [
    "beyonce == \"Grammy award winner\""
   ]
  },
  {
   "cell_type": "code",
   "execution_count": 8,
   "metadata": {},
   "outputs": [
    {
     "data": {
      "text/plain": [
       "bool"
      ]
     },
     "execution_count": 8,
     "metadata": {},
     "output_type": "execute_result"
    }
   ],
   "source": [
    "type(beyonce == \"Oscar award-winner\")"
   ]
  },
  {
   "cell_type": "markdown",
   "metadata": {},
   "source": [
    "# In-Class Exercise"
   ]
  },
  {
   "cell_type": "code",
   "execution_count": 29,
   "metadata": {},
   "outputs": [],
   "source": [
    "name = 'Melanie'\n",
    "age = 1000\n",
    "home_town = 'Chicago'\n",
    "favorite_food = 'tacos'\n",
    "dog_years_age = age * 7"
   ]
  },
  {
   "cell_type": "code",
   "execution_count": 30,
   "metadata": {},
   "outputs": [
    {
     "name": "stdout",
     "output_type": "stream",
     "text": [
      "Introducing.....Melanie!\n",
      "Melanie likes tacos and once lived in Chicago. Additionally Melanie is 1000 years old (7000 in dog years).\n"
     ]
    }
   ],
   "source": [
    "print(f'Introducing.....{name}!')\n",
    "\n",
    "print(f'{name} likes {favorite_food} and once lived in {home_town}. Additionally {name} is {age} years old ({dog_years_age} in dog years).')"
   ]
  },
  {
   "cell_type": "markdown",
   "metadata": {},
   "source": [
    "Your turn!"
   ]
  },
  {
   "cell_type": "code",
   "execution_count": null,
   "metadata": {},
   "outputs": [],
   "source": [
    "name = \n",
    "age = \n",
    "home_town = \n",
    "favorite_food = \n",
    "dog_years_age ="
   ]
  },
  {
   "cell_type": "code",
   "execution_count": null,
   "metadata": {},
   "outputs": [],
   "source": [
    "print(f'Introducing.....{name}!')\n",
    "\n",
    "print(f'{name} likes {favorite_food} and once lived in {home_town}. Additionally {name} is {age} years old ({dog_years_age} in dog years).')"
   ]
  }
 ],
 "metadata": {
  "kernelspec": {
   "display_name": "Python 3",
   "language": "python",
   "name": "python3"
  },
  "language_info": {
   "codemirror_mode": {
    "name": "ipython",
    "version": 3
   },
   "file_extension": ".py",
   "mimetype": "text/x-python",
   "name": "python",
   "nbconvert_exporter": "python",
   "pygments_lexer": "ipython3",
   "version": "3.7.5"
  }
 },
 "nbformat": 4,
 "nbformat_minor": 4
}
