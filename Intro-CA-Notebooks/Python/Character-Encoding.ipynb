{
 "cells": [
  {
   "cell_type": "markdown",
   "metadata": {},
   "source": [
    "# Files and Character Encoding"
   ]
  },
  {
   "cell_type": "markdown",
   "metadata": {},
   "source": [
    "## Open a Text File"
   ]
  },
  {
   "cell_type": "markdown",
   "metadata": {},
   "source": [
    "The most basic way to open a file is to use Python's built-in `open()` function and to insert your desired file path surrounded by quotation marks. That creates a file object. Then we tack on the `.read()` method to transform the file object into one big string. But, as we will see below, it's good practice to add an extra step here in order to accommodate character encoding issues."
   ]
  },
  {
   "cell_type": "code",
   "execution_count": 3,
   "metadata": {},
   "outputs": [
    {
     "data": {
      "text/plain": [
       "'***\\nThis is an example of curly quotation marks:\\n“She said, ‘I won’t bungle the encoding!’”\\n***\\n\\n***\\nThis is an example of an emoji:\\n💩\\n***\\n\\n***\\nThis is an example of Bengali:\\nআদিত্য মুখোপাধ্যায় টাইপ করতে পারেন - তবে নিজের নাম বানান করতে পারবেন না\\n(Aditya Mukerjee can type 💩 but cannot spell his own name)\\n***\\n\\n***\\nThis is an example of German:\\nWas ist, wenn wir über deutsche Sprachen recherchieren wollen?\\n(What if we want to research German languages?)\\n***'"
      ]
     },
     "execution_count": 3,
     "metadata": {},
     "output_type": "execute_result"
    }
   ],
   "source": [
    "open('sample-character-encoding.txt').read()"
   ]
  },
  {
   "cell_type": "markdown",
   "metadata": {},
   "source": [
    "## Character Encoding"
   ]
  },
  {
   "cell_type": "markdown",
   "metadata": {},
   "source": [
    "> Written text is a sequence of graphemes – characters. Every character you type – whether letters like ‘a’ and ‘b’, punctuation marks like ‘?’, or even emoji like 💪👬👍 – has an ID number that computers use to store it. In order to communicate, computers need to agree on a common roster of how to assign these graphemes to numbers and vice versa. These rosters are known as character encodings.\n",
    "\n",
    "> -Aditya Mukerjee, \"[I Can Text You A Pile of Poo, But I Can’t Write My Name](https://modelviewculture.com/pieces/i-can-text-you-a-pile-of-poo-but-i-cant-write-my-name)\""
   ]
  },
  {
   "cell_type": "markdown",
   "metadata": {},
   "source": [
    "Python uses the UTF-8 character encoding, or Unicode, by default. Unicode is the most popular character encoding on the internet and even includes emojis.\n",
    "\n",
    "However, as Mukerjee points out in his essay, Unicode still does not include characters that are essential to the Bengali alphabet as well as to many other non-English languages."
   ]
  },
  {
   "cell_type": "code",
   "execution_count": 64,
   "metadata": {},
   "outputs": [],
   "source": [
    "sample_text_default = open('sample-character-encoding.txt').read()"
   ]
  },
  {
   "cell_type": "code",
   "execution_count": 65,
   "metadata": {},
   "outputs": [
    {
     "name": "stdout",
     "output_type": "stream",
     "text": [
      "***\n",
      "This is an example of curly quotation marks:\n",
      "“She said, ‘I won’t bungle the encoding!’”\n",
      "***\n",
      "\n",
      "***\n",
      "This is an example of an emoji:\n",
      "💩\n",
      "***\n",
      "\n",
      "***\n",
      "This is an example of Bengali:\n",
      "আদিত্য মুখোপাধ্যায় টাইপ করতে পারেন - তবে নিজের নাম বানান করতে পারবেন না\n",
      "(Aditya Mukerjee can type 💩 but cannot spell his own name)\n",
      "***\n",
      "\n",
      "***\n",
      "This is an example of German:\n",
      "Was ist, wenn wir über deutsche Sprachen recherchieren wollen?\n",
      "(What if we want to research German languages?)\n",
      "***\n"
     ]
    }
   ],
   "source": [
    "print(sample_text_default)"
   ]
  },
  {
   "cell_type": "markdown",
   "metadata": {},
   "source": [
    "Though Python reads UTF-8 by default, it's good practice to explicitly declare UTF-8 encoding, as below."
   ]
  },
  {
   "cell_type": "code",
   "execution_count": 66,
   "metadata": {},
   "outputs": [],
   "source": [
    "sample_text_default = open('sample-character-encoding.txt', encoding='utf-8').read()"
   ]
  },
  {
   "cell_type": "code",
   "execution_count": 67,
   "metadata": {},
   "outputs": [
    {
     "name": "stdout",
     "output_type": "stream",
     "text": [
      "***\n",
      "This is an example of curly quotation marks:\n",
      "“She said, ‘I won’t bungle the encoding!’”\n",
      "***\n",
      "\n",
      "***\n",
      "This is an example of an emoji:\n",
      "💩\n",
      "***\n",
      "\n",
      "***\n",
      "This is an example of Bengali:\n",
      "আদিত্য মুখোপাধ্যায় টাইপ করতে পারেন - তবে নিজের নাম বানান করতে পারবেন না\n",
      "(Aditya Mukerjee can type 💩 but cannot spell his own name)\n",
      "***\n",
      "\n",
      "***\n",
      "This is an example of German:\n",
      "Was ist, wenn wir über deutsche Sprachen recherchieren wollen?\n",
      "(What if we want to research German languages?)\n",
      "***\n"
     ]
    }
   ],
   "source": [
    "print(sample_text_default)"
   ]
  },
  {
   "cell_type": "markdown",
   "metadata": {},
   "source": [
    "Look what happens if we read in the exact same text with a different encoding."
   ]
  },
  {
   "cell_type": "code",
   "execution_count": 69,
   "metadata": {},
   "outputs": [
    {
     "name": "stdout",
     "output_type": "stream",
     "text": [
      "***\n",
      "This is an example of curly quotation marks:\n",
      "âShe said, âI wonât bungle the encoding!ââ\n",
      "***\n",
      "\n",
      "***\n",
      "This is an example of an emoji:\n",
      "ð©\n",
      "***\n",
      "\n",
      "***\n",
      "This is an example of Bengali:\n",
      "à¦à¦¦à¦¿à¦¤à§à¦¯ à¦®à§à¦à§à¦ªà¦¾à¦§à§à¦¯à¦¾à¦¯à¦¼ à¦à¦¾à¦à¦ª à¦à¦°à¦¤à§ à¦ªà¦¾à¦°à§à¦¨ - à¦¤à¦¬à§ à¦¨à¦¿à¦à§à¦° à¦¨à¦¾à¦® à¦¬à¦¾à¦¨à¦¾à¦¨ à¦à¦°à¦¤à§ à¦ªà¦¾à¦°à¦¬à§à¦¨ à¦¨à¦¾\n",
      "(Aditya Mukerjee can type ð© but cannot spell his own name)\n",
      "***\n",
      "\n",
      "***\n",
      "This is an example of German:\n",
      "Was ist, wenn wir Ã¼ber deutsche Sprachen recherchieren wollen?\n",
      "(What if we want to research German languages?)\n",
      "***\n"
     ]
    }
   ],
   "source": [
    "sample_text_iso = open('sample-character-encoding.txt', encoding='iso-8859-1').read()\n",
    "print(sample_text_iso)"
   ]
  },
  {
   "cell_type": "code",
   "execution_count": 70,
   "metadata": {},
   "outputs": [
    {
     "ename": "UnicodeDecodeError",
     "evalue": "'ascii' codec can't decode byte 0xe2 in position 49: ordinal not in range(128)",
     "output_type": "error",
     "traceback": [
      "\u001b[0;31m---------------------------------------------------------------------------\u001b[0m",
      "\u001b[0;31mUnicodeDecodeError\u001b[0m                        Traceback (most recent call last)",
      "\u001b[0;32m<ipython-input-70-1d14095d0aa9>\u001b[0m in \u001b[0;36m<module>\u001b[0;34m\u001b[0m\n\u001b[0;32m----> 1\u001b[0;31m \u001b[0mfull_text_ascii\u001b[0m \u001b[0;34m=\u001b[0m \u001b[0mopen\u001b[0m\u001b[0;34m(\u001b[0m\u001b[0;34m'sample-character-encoding.txt'\u001b[0m\u001b[0;34m,\u001b[0m \u001b[0mencoding\u001b[0m\u001b[0;34m=\u001b[0m\u001b[0;34m'ascii'\u001b[0m\u001b[0;34m)\u001b[0m\u001b[0;34m.\u001b[0m\u001b[0mread\u001b[0m\u001b[0;34m(\u001b[0m\u001b[0;34m)\u001b[0m\u001b[0;34m\u001b[0m\u001b[0;34m\u001b[0m\u001b[0m\n\u001b[0m\u001b[1;32m      2\u001b[0m \u001b[0mprint\u001b[0m\u001b[0;34m(\u001b[0m\u001b[0mfull_text_ascii\u001b[0m\u001b[0;34m)\u001b[0m\u001b[0;34m\u001b[0m\u001b[0;34m\u001b[0m\u001b[0m\n",
      "\u001b[0;32m~/anaconda3/lib/python3.7/encodings/ascii.py\u001b[0m in \u001b[0;36mdecode\u001b[0;34m(self, input, final)\u001b[0m\n\u001b[1;32m     24\u001b[0m \u001b[0;32mclass\u001b[0m \u001b[0mIncrementalDecoder\u001b[0m\u001b[0;34m(\u001b[0m\u001b[0mcodecs\u001b[0m\u001b[0;34m.\u001b[0m\u001b[0mIncrementalDecoder\u001b[0m\u001b[0;34m)\u001b[0m\u001b[0;34m:\u001b[0m\u001b[0;34m\u001b[0m\u001b[0;34m\u001b[0m\u001b[0m\n\u001b[1;32m     25\u001b[0m     \u001b[0;32mdef\u001b[0m \u001b[0mdecode\u001b[0m\u001b[0;34m(\u001b[0m\u001b[0mself\u001b[0m\u001b[0;34m,\u001b[0m \u001b[0minput\u001b[0m\u001b[0;34m,\u001b[0m \u001b[0mfinal\u001b[0m\u001b[0;34m=\u001b[0m\u001b[0;32mFalse\u001b[0m\u001b[0;34m)\u001b[0m\u001b[0;34m:\u001b[0m\u001b[0;34m\u001b[0m\u001b[0;34m\u001b[0m\u001b[0m\n\u001b[0;32m---> 26\u001b[0;31m         \u001b[0;32mreturn\u001b[0m \u001b[0mcodecs\u001b[0m\u001b[0;34m.\u001b[0m\u001b[0mascii_decode\u001b[0m\u001b[0;34m(\u001b[0m\u001b[0minput\u001b[0m\u001b[0;34m,\u001b[0m \u001b[0mself\u001b[0m\u001b[0;34m.\u001b[0m\u001b[0merrors\u001b[0m\u001b[0;34m)\u001b[0m\u001b[0;34m[\u001b[0m\u001b[0;36m0\u001b[0m\u001b[0;34m]\u001b[0m\u001b[0;34m\u001b[0m\u001b[0;34m\u001b[0m\u001b[0m\n\u001b[0m\u001b[1;32m     27\u001b[0m \u001b[0;34m\u001b[0m\u001b[0m\n\u001b[1;32m     28\u001b[0m \u001b[0;32mclass\u001b[0m \u001b[0mStreamWriter\u001b[0m\u001b[0;34m(\u001b[0m\u001b[0mCodec\u001b[0m\u001b[0;34m,\u001b[0m\u001b[0mcodecs\u001b[0m\u001b[0;34m.\u001b[0m\u001b[0mStreamWriter\u001b[0m\u001b[0;34m)\u001b[0m\u001b[0;34m:\u001b[0m\u001b[0;34m\u001b[0m\u001b[0;34m\u001b[0m\u001b[0m\n",
      "\u001b[0;31mUnicodeDecodeError\u001b[0m: 'ascii' codec can't decode byte 0xe2 in position 49: ordinal not in range(128)"
     ]
    }
   ],
   "source": [
    "sample_text_ascii = open('sample-character-encoding.txt', encoding='ascii').read()\n",
    "print(sample_text_ascii)"
   ]
  },
  {
   "cell_type": "markdown",
   "metadata": {},
   "source": [
    "> If you open a document and it looks like this, there's one and only one reason for it: Your text editor, browser, word processor or whatever else that's trying to read the document is assuming the wrong encoding. That's all. The document is not broken (well, unless it is, see below), there's no magic you need to perform, you simply need to select the right encoding to display the document.\n",
    "\n",
    "> -[What Every Programmer Absolutely, Positively Needs to Know About Encodings and Character Sets to Work With Text](http://kunststube.net/encoding/)"
   ]
  }
 ],
 "metadata": {
  "kernelspec": {
   "display_name": "Python 3",
   "language": "python",
   "name": "python3"
  },
  "language_info": {
   "codemirror_mode": {
    "name": "ipython",
    "version": 3
   },
   "file_extension": ".py",
   "mimetype": "text/x-python",
   "name": "python",
   "nbconvert_exporter": "python",
   "pygments_lexer": "ipython3",
   "version": "3.7.5"
  }
 },
 "nbformat": 4,
 "nbformat_minor": 4
}
