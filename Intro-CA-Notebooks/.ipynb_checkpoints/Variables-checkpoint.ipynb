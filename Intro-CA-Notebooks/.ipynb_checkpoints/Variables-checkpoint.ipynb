{
 "cells": [
  {
   "cell_type": "markdown",
   "metadata": {},
   "source": [
    "# Variables"
   ]
  },
  {
   "cell_type": "markdown",
   "metadata": {},
   "source": [
    "Download files for today's class: "
   ]
  },
  {
   "cell_type": "markdown",
   "metadata": {},
   "source": [
    "* Storage containers for data values, like little data gift boxes"
   ]
  },
  {
   "cell_type": "markdown",
   "metadata": {},
   "source": [
    "![](https://cdn.pixabay.com/photo/2016/09/14/20/48/birthday-1670415_960_720.png)"
   ]
  },
  {
   "cell_type": "markdown",
   "metadata": {},
   "source": [
    "## Example Word Count Python Code"
   ]
  },
  {
   "cell_type": "code",
   "execution_count": 13,
   "metadata": {},
   "outputs": [
    {
     "name": "stdout",
     "output_type": "stream",
     "text": [
      "[('john', 45), ('one', 33), ('said', 30), ('would', 27), ('get', 24), ('see', 24), ('room', 24), ('pattern', 24), ('paper', 23), ('like', 21), ('little', 20), ('much', 16), ('good', 16), ('think', 16), ('well', 15), ('know', 15), ('go', 15), ('really', 14), ('thing', 14), ('wallpaper', 13), ('night', 13), ('long', 12), ('course', 12), ('things', 12), ('take', 12), ('always', 12), ('could', 12), ('jennie', 12), ('great', 11), ('says', 11), ('feel', 11), ('even', 11), ('used', 11), ('dear', 11), ('time', 11), ('enough', 11), ('away', 11), ('want', 11), ('never', 10), ('must', 10)]\n"
     ]
    },
    {
     "name": "stderr",
     "output_type": "stream",
     "text": [
      "[nltk_data] Downloading package stopwords to\n",
      "[nltk_data]     /Users/melaniewalsh/nltk_data...\n",
      "[nltk_data]   Package stopwords is already up-to-date!\n"
     ]
    }
   ],
   "source": [
    "\"\"\"\n",
    "Example Python code for\n",
    "calculating word frequency\n",
    "in a text file\n",
    "\"\"\"\n",
    "\n",
    "#Import Libraries and Modules\n",
    "\n",
    "import re\n",
    "from collections import Counter\n",
    "import nltk\n",
    "nltk.download('stopwords')\n",
    "from nltk.corpus import stopwords\n",
    "\n",
    "# Define Functions\n",
    "\n",
    "def split_into_words(any_chunk_of_text):\n",
    "    lowercase_text = any_chunk_of_text.lower()\n",
    "    split_words = re.split(\"\\W+\", lowercase_text)\n",
    "    return split_words\n",
    "\n",
    "# Define Filepaths and Assign Variables\n",
    "\n",
    "filepath_of_text = \"../texts/literature/The-Yellow-Wallpaper.txt\"\n",
    "nltk_stop_words = stopwords.words(\"english\")\n",
    "number_of_desired_words = 40\n",
    "\n",
    "# Read in File\n",
    "\n",
    "full_text = open(filepath_of_text).read()\n",
    "\n",
    "# Manipulate and Analyze File\n",
    "\n",
    "all_the_words = split_into_words(full_text)\n",
    "meaningful_words = [word for word in all_the_words if word not in nltk_stop_words]\n",
    "meaningful_words_tally = Counter(meaningful_words)\n",
    "most_frequent_meaningful_words = meaningful_words_tally.most_common(number_of_desired_words)\n",
    "\n",
    "# Output Results\n",
    "\n",
    "print(most_frequent_meaningful_words)"
   ]
  },
  {
   "cell_type": "markdown",
   "metadata": {},
   "source": [
    "# Assigning Variables"
   ]
  },
  {
   "cell_type": "markdown",
   "metadata": {},
   "source": [
    "Variables are one of the fundamental building blocks of Python. A variable is like a tiny container where you store values and data — filenames, words, numbers, collections of words and numbers, etc. You can name variables almost anything you want (more on that below). The variable name will point to a value that you \"assign\" it. You might think about variable assignment like putting a value \"into\" the variable, as if the variable is a little box 🎁\n",
    "\n",
    "You assign variables with an equals `=` sign, which is slightly confusing. In Python, a single equals sign `=` is the \"assignment operator,\" and a double equals sign `==` is the \"real\" equals sign, e.g. `2 * 2 == 4`."
   ]
  },
  {
   "cell_type": "markdown",
   "metadata": {},
   "source": [
    "Let's look at some of the variables that we used when we counted the most frequent words in Charlotte Perkins Gilman's \"The Yellow Wallpaper.\""
   ]
  },
  {
   "cell_type": "code",
   "execution_count": 73,
   "metadata": {},
   "outputs": [],
   "source": [
    "filepath_of_text = \"../texts/literature/The-Yellow-Wallpaper.txt\"\n",
    "nltk_stop_words = stopwords.words(\"english\")\n",
    "number_of_desired_words = 40\n",
    "\n",
    "full_text = open(filepath_of_text).read()"
   ]
  },
  {
   "cell_type": "markdown",
   "metadata": {},
   "source": [
    "We made the variables:\n",
    "- `filepath_of_text` and assigned it `=` the location of our \"The Yellow Wallpaper\" text file (\"../texts/The-Yellow-Wallpaper.txt\")\n",
    "- `nltk_stop_words` and assigned it `=` the stopwords from the `nltk` library\n",
    "- `number_of_desired_words` and assigned it `=` `40` because we wanted the 40 most frequently occuring words\n",
    "- `full_text` and assigned it `=` the contents of \"The Yellow Wallpaper\" text file"
   ]
  },
  {
   "cell_type": "markdown",
   "metadata": {},
   "source": [
    "## `Print()` Vs Jupyter Display"
   ]
  },
  {
   "cell_type": "markdown",
   "metadata": {},
   "source": [
    "We can check to see what's \"inside\" these variables by running a cell with the variable's name. This is one of the handiest features of a Jupyter notebook. Outside the Jupyter environment, you would need to run `print(filepath_of_text)` to display the variable."
   ]
  },
  {
   "cell_type": "code",
   "execution_count": 5,
   "metadata": {},
   "outputs": [
    {
     "data": {
      "text/plain": [
       "'../texts/The-Yellow-Wallpaper.txt'"
      ]
     },
     "execution_count": 5,
     "metadata": {},
     "output_type": "execute_result"
    }
   ],
   "source": [
    "filepath_of_text"
   ]
  },
  {
   "cell_type": "code",
   "execution_count": 106,
   "metadata": {
    "scrolled": true,
    "tags": [
     "output_scroll"
    ]
   },
   "outputs": [
    {
     "data": {
      "text/plain": [
       "['i',\n",
       " 'me',\n",
       " 'my',\n",
       " 'myself',\n",
       " 'we',\n",
       " 'our',\n",
       " 'ours',\n",
       " 'ourselves',\n",
       " 'you',\n",
       " \"you're\",\n",
       " \"you've\",\n",
       " \"you'll\",\n",
       " \"you'd\",\n",
       " 'your',\n",
       " 'yours',\n",
       " 'yourself',\n",
       " 'yourselves',\n",
       " 'he',\n",
       " 'him',\n",
       " 'his',\n",
       " 'himself',\n",
       " 'she',\n",
       " \"she's\",\n",
       " 'her',\n",
       " 'hers',\n",
       " 'herself',\n",
       " 'it',\n",
       " \"it's\",\n",
       " 'its',\n",
       " 'itself',\n",
       " 'they',\n",
       " 'them',\n",
       " 'their',\n",
       " 'theirs',\n",
       " 'themselves',\n",
       " 'what',\n",
       " 'which',\n",
       " 'who',\n",
       " 'whom',\n",
       " 'this',\n",
       " 'that',\n",
       " \"that'll\",\n",
       " 'these',\n",
       " 'those',\n",
       " 'am',\n",
       " 'is',\n",
       " 'are',\n",
       " 'was',\n",
       " 'were',\n",
       " 'be',\n",
       " 'been',\n",
       " 'being',\n",
       " 'have',\n",
       " 'has',\n",
       " 'had',\n",
       " 'having',\n",
       " 'do',\n",
       " 'does',\n",
       " 'did',\n",
       " 'doing',\n",
       " 'a',\n",
       " 'an',\n",
       " 'the',\n",
       " 'and',\n",
       " 'but',\n",
       " 'if',\n",
       " 'or',\n",
       " 'because',\n",
       " 'as',\n",
       " 'until',\n",
       " 'while',\n",
       " 'of',\n",
       " 'at',\n",
       " 'by',\n",
       " 'for',\n",
       " 'with',\n",
       " 'about',\n",
       " 'against',\n",
       " 'between',\n",
       " 'into',\n",
       " 'through',\n",
       " 'during',\n",
       " 'before',\n",
       " 'after',\n",
       " 'above',\n",
       " 'below',\n",
       " 'to',\n",
       " 'from',\n",
       " 'up',\n",
       " 'down',\n",
       " 'in',\n",
       " 'out',\n",
       " 'on',\n",
       " 'off',\n",
       " 'over',\n",
       " 'under',\n",
       " 'again',\n",
       " 'further',\n",
       " 'then',\n",
       " 'once',\n",
       " 'here',\n",
       " 'there',\n",
       " 'when',\n",
       " 'where',\n",
       " 'why',\n",
       " 'how',\n",
       " 'all',\n",
       " 'any',\n",
       " 'both',\n",
       " 'each',\n",
       " 'few',\n",
       " 'more',\n",
       " 'most',\n",
       " 'other',\n",
       " 'some',\n",
       " 'such',\n",
       " 'no',\n",
       " 'nor',\n",
       " 'not',\n",
       " 'only',\n",
       " 'own',\n",
       " 'same',\n",
       " 'so',\n",
       " 'than',\n",
       " 'too',\n",
       " 'very',\n",
       " 's',\n",
       " 't',\n",
       " 'can',\n",
       " 'will',\n",
       " 'just',\n",
       " 'don',\n",
       " \"don't\",\n",
       " 'should',\n",
       " \"should've\",\n",
       " 'now',\n",
       " 'd',\n",
       " 'll',\n",
       " 'm',\n",
       " 'o',\n",
       " 're',\n",
       " 've',\n",
       " 'y',\n",
       " 'ain',\n",
       " 'aren',\n",
       " \"aren't\",\n",
       " 'couldn',\n",
       " \"couldn't\",\n",
       " 'didn',\n",
       " \"didn't\",\n",
       " 'doesn',\n",
       " \"doesn't\",\n",
       " 'hadn',\n",
       " \"hadn't\",\n",
       " 'hasn',\n",
       " \"hasn't\",\n",
       " 'haven',\n",
       " \"haven't\",\n",
       " 'isn',\n",
       " \"isn't\",\n",
       " 'ma',\n",
       " 'mightn',\n",
       " \"mightn't\",\n",
       " 'mustn',\n",
       " \"mustn't\",\n",
       " 'needn',\n",
       " \"needn't\",\n",
       " 'shan',\n",
       " \"shan't\",\n",
       " 'shouldn',\n",
       " \"shouldn't\",\n",
       " 'wasn',\n",
       " \"wasn't\",\n",
       " 'weren',\n",
       " \"weren't\",\n",
       " 'won',\n",
       " \"won't\",\n",
       " 'wouldn',\n",
       " \"wouldn't\"]"
      ]
     },
     "execution_count": 106,
     "metadata": {},
     "output_type": "execute_result"
    }
   ],
   "source": [
    "nltk_stop_words"
   ]
  },
  {
   "cell_type": "code",
   "execution_count": 74,
   "metadata": {},
   "outputs": [
    {
     "data": {
      "text/plain": [
       "40"
      ]
     },
     "execution_count": 74,
     "metadata": {},
     "output_type": "execute_result"
    }
   ],
   "source": [
    "number_of_desired_words"
   ]
  },
  {
   "cell_type": "code",
   "execution_count": 107,
   "metadata": {
    "scrolled": true
   },
   "outputs": [
    {
     "data": {
      "text/plain": [
       "'THE YELLOW WALLPAPER\\n\\nBy Charlotte Perkins Gilman\\n\\n\\n\\nIt is very seldom that mere ordinary people like John and myself secure\\nancestral halls for the summer.\\n\\nA colonial mansion, a hereditary estate, I would say a haunted house, and\\nreach the height of romantic felicity—but that would be asking too\\nmuch of fate!\\n\\nStill I will proudly declare that there is something queer about it.\\n\\nElse, why should it be let so cheaply? And why have stood so long\\nuntenanted?\\n\\nJohn laughs at me, of course, but one expects that in marriage.\\n\\nJohn is practical in the extreme. He has no patience with faith, an\\nintense horror of superstition, and he scoffs openly at any talk of things\\nnot to be felt and seen and put down in figures.\\n\\nJohn is a physician, and perhaps—(I would not say it to a living\\nsoul, of course, but this is dead paper and a great relief to my\\nmind)—perhaps that is one reason I do not get well faster.\\n\\nYou see, he does not believe I am sick!\\n\\nAnd what can one do?\\n\\nIf a physician of high standing, and one’s own husband, assures friends\\nand relatives that there is really nothing the matter with one but\\ntemporary nervous depression—a slight hysterical tendency—what\\nis one to do?\\n\\nMy brother is also a physician, and also of high standing, and he says the\\nsame thing.\\n\\nSo I take phosphates or phosphites—whichever it is, and tonics, and\\njourneys, and air, and exercise, and am absolutely forbidden to “work”\\nuntil I am well again.\\n\\nPersonally, I disagree with their ideas.\\n\\nPersonally, I believe that congenial work, with excitement and change,\\nwould do me good.\\n\\nBut what is one to do?\\n\\nI did write for a while in spite of them; but it does exhaust me a good\\ndeal—having to be so sly about it, or else meet with heavy\\nopposition.\\n\\nI sometimes fancy that in my condition if I had less opposition and more\\nsociety and stimulus—but John says the very worst thing I can do is\\nto think about my condition, and I confess it always makes me feel bad.\\n\\nSo I will let it alone and talk about the house.\\n\\nThe most beautiful place! It is quite alone, standing well back from the\\nroad, quite three miles from the village. It makes me think of English\\nplaces that you read about, for there are hedges and walls and gates that\\nlock, and lots of separate little houses for the gardeners and people.\\n\\nThere is a delicious garden! I never saw such a garden—large and\\nshady, full of box-bordered paths, and lined with long grape-covered\\narbors with seats under them.\\n\\nThere were greenhouses, too, but they are all broken now.\\n\\nThere was some legal trouble, I believe, something about the heirs and\\nco-heirs; anyhow, the place has been empty for years.\\n\\nThat spoils my ghostliness, I am afraid; but I don’t care—there is\\nsomething strange about the house—I can feel it.\\n\\nI even said so to John one moonlight evening, but he said what I felt was\\na draught, and shut the window.\\n\\nI get unreasonably angry with John sometimes. I’m sure I never used to be\\nso sensitive. I think it is due to this nervous condition.\\n\\nBut John says if I feel so I shall neglect proper self-control; so I take\\npains to control myself,—before him, at least,—and that makes\\nme very tired.\\n\\nI don’t like our room a bit. I wanted one downstairs that opened on the\\npiazza and had roses all over the window, and such pretty old-fashioned\\nchintz hangings! but John would not hear of it.\\n\\nHe said there was only one window and not room for two beds, and no near\\nroom for him if he took another.\\n\\nHe is very careful and loving, and hardly lets me stir without special\\ndirection.\\n\\nI have a schedule prescription for each hour in the day; he takes all care\\nfrom me, and so I feel basely ungrateful not to value it more.\\n\\nHe said we came here solely on my account, that I was to have perfect rest\\nand all the air I could get. “Your exercise depends on your strength, my\\ndear,” said he, “and your food somewhat on your appetite; but air you\\ncan absorb all the time.” So we took the nursery, at the top of the house.\\n\\nIt is a big, airy room, the whole floor nearly, with windows that look all\\nways, and air and sunshine galore. It was nursery first and then\\nplayground\\nand gymnasium, I should judge; for the windows are barred for little\\nchildren, and there are rings and things in the walls.\\n\\nThe paint and paper look as if a boys’ school had used it. It is stripped\\noff—the paper—in great patches all around the head of my bed,\\nabout as far as I can reach, and in a great place on the other side of the\\nroom low down. I never saw a worse paper in my life.\\n\\nOne of those sprawling flamboyant patterns committing every artistic sin.\\n\\nIt is dull enough to confuse the eye in following, pronounced enough to\\nconstantly irritate, and provoke study, and when you follow the lame,\\nuncertain curves for a little distance they suddenly commit suicide—plunge\\noff at outrageous angles, destroy themselves in unheard-of contradictions.\\n\\nThe color is repellant, almost revolting; a smouldering, unclean yellow,\\nstrangely faded by the slow-turning sunlight.\\n\\nIt is a dull yet lurid orange in some places, a sickly sulphur tint in\\nothers.\\n\\nNo wonder the children hated it! I should hate it myself if I had to live\\nin this room long.\\n\\nThere comes John, and I must put this away,—he hates to have me\\nwrite a word.\\n\\nWe have been here two weeks, and I haven’t felt like writing before, since\\nthat first day.\\n\\nI am sitting by the window now, up in this atrocious nursery, and there is\\nnothing to hinder my writing as much as I please, save lack of strength.\\n\\nJohn is away all day, and even some nights when his cases are serious.\\n\\nI am glad my case is not serious!\\n\\nBut these nervous troubles are dreadfully depressing.\\n\\nJohn does not know how much I really suffer. He knows there is no reason\\nto suffer, and that satisfies him.\\n\\nOf course it is only nervousness. It does weigh on me so not to do my duty\\nin any way!\\n\\nI meant to be such a help to John, such a real rest and comfort, and here\\nI am a comparative burden already!\\n\\nNobody would believe what an effort it is to do what little I am able—to\\ndress and entertain, and order things.\\n\\nIt is fortunate Mary is so good with the baby. Such a dear baby!\\n\\nAnd yet I cannot be with him, it makes me so nervous.\\n\\nI suppose John never was nervous in his life. He laughs at me so about\\nthis wallpaper!\\n\\nAt first he meant to repaper the room, but afterwards he said that I was\\nletting it get the better of me, and that nothing was worse for a nervous\\npatient than to give way to such fancies.\\n\\nHe said that after the wallpaper was changed it would be the heavy\\nbedstead, and then the barred windows, and then that gate at the head of\\nthe stairs, and so on.\\n\\n“You know the place is doing you good,” he said, “and really, dear, I\\ndon’t care to renovate the house just for a three months’ rental.”\\n\\n“Then do let us go downstairs,” I said, “there are such pretty rooms\\nthere.”\\n\\nThen he took me in his arms and called me a blessed little goose, and said\\nhe would go down cellar if I wished, and have it whitewashed into\\nthe bargain.\\n\\nBut he is right enough about the beds and windows and things.\\n\\nIt is as airy and comfortable a room as any one need wish, and, of course,\\nI\\nwould not be so silly as to make him uncomfortable just for a whim.\\n\\nI’m really getting quite fond of the big room, all but that horrid paper.\\n\\nOut of one window I can see the garden, those mysterious deep-shaded\\narbors, the riotous old-fashioned flowers, and bushes and gnarly trees.\\n\\nOut of another I get a lovely view of the bay and a little private wharf\\nbelonging to the estate. There is a beautiful shaded lane that runs down\\nthere from the house. I always fancy I see people walking in these\\nnumerous paths and arbors, but John has cautioned me not to give way to\\nfancy in the least. He says that with my imaginative power and habit of\\nstory-making a nervous weakness like mine is sure to lead to all manner\\nof excited fancies, and that I ought to use my will and good sense to\\ncheck the tendency. So I try.\\n\\nI think sometimes that if I were only well enough to write a little it\\nwould relieve the press of ideas and rest me.\\n\\nBut I find I get pretty tired when I try.\\n\\nIt is so discouraging not to have any advice and companionship about my\\nwork. When I get really well John says we will ask Cousin Henry and Julia\\ndown for a long visit; but he says he would as soon put fire-works in my\\npillow-case as to let me have those stimulating people about now.\\n\\nI wish I could get well faster.\\n\\nBut I must not think about that. This paper looks to me as if it knew what\\na vicious influence it had!\\n\\nThere is a recurrent spot where the pattern lolls like a broken neck and\\ntwo bulbous eyes stare at you upside-down.\\n\\nI get positively angry with the impertinence of it and the\\neverlastingness. Up and down and sideways they crawl, and those absurd,\\nunblinking eyes are everywhere. There is one place where two breadths\\ndidn’t match, and the eyes go all up and down the line, one a little\\nhigher than the other.\\n\\nI never saw so much expression in an inanimate thing before, and we all\\nknow how much expression they have! I used to lie awake as a child and get\\nmore entertainment and terror out of blank walls and plain furniture than\\nmost children could find in a toy-store.\\n\\nI remember what a kindly wink the knobs of our big old bureau used to\\nhave, and there was one chair that always seemed like a strong friend.\\n\\nI used to feel that if any of the other things looked too fierce I could\\nalways hop into that chair and be safe.\\n\\nThe furniture in this room is no worse than inharmonious, however, for we\\nhad to bring it all from downstairs. I suppose when this was used as a\\nplayroom they had to take the nursery things out, and no wonder! I never\\nsaw such ravages as the children have made here.\\n\\nThe wallpaper, as I said before, is torn off in spots, and it sticketh\\ncloser than a brother—they must have had perseverance as well as\\nhatred.\\n\\nThen the floor is scratched and gouged and splintered, the plaster itself\\nis dug out here and there, and this great heavy bed, which is all we found\\nin the room, looks as if it had been through the wars.\\n\\nBut I don’t mind it a bit—only the paper.\\n\\nThere comes John’s sister. Such a dear girl as she is, and so careful of\\nme! I must not let her find me writing.\\n\\nShe is a perfect, and enthusiastic housekeeper, and hopes for no better\\nprofession. I verily believe she thinks it is the writing which made me\\nsick!\\n\\nBut I can write when she is out, and see her a long way off from these\\nwindows.\\n\\nThere is one that commands the road, a lovely, shaded, winding road, and\\none\\nthat just looks off over the country. A lovely country, too, full of great\\nelms and velvet meadows.\\n\\nThis wallpaper has a kind of sub-pattern in a different shade, a\\nparticularly irritating one, for you can only see it in certain lights,\\nand not clearly then.\\n\\nBut in the places where it isn’t faded, and where the sun is just so, I\\ncan see a strange, provoking, formless sort of figure, that seems to sulk\\nabout behind that silly and conspicuous front design.\\n\\nThere’s sister on the stairs!\\n\\nWell, the Fourth of July is over! The people are gone and I am tired out.\\nJohn thought it might do me good to see a little company, so we just had\\nmother and Nellie and the children down for a week.\\n\\nOf course I didn’t do a thing. Jennie sees to everything now.\\n\\nBut it tired me all the same.\\n\\nJohn says if I don’t pick up faster he shall send me to Weir Mitchell in\\nthe fall.\\n\\nBut I don’t want to go there at all. I had a friend who was in his hands\\nonce, and she says he is just like John and my brother, only more so!\\n\\nBesides, it is such an undertaking to go so far.\\n\\nI don’t feel as if it was worth while to turn my hand over for anything,\\nand I’m getting dreadfully fretful and querulous.\\n\\nI cry at nothing, and cry most of the time.\\n\\nOf course I don’t when John is here, or anybody else, but when I am alone.\\n\\nAnd I am alone a good deal just now. John is kept in town very often by\\nserious cases, and Jennie is good and lets me alone when I want her to.\\n\\nSo I walk a little in the garden or down that lovely lane, sit on the\\nporch under the roses, and lie down up here a good deal.\\n\\nI’m getting really fond of the room in spite of the wallpaper. Perhaps\\nbecause of the wallpaper.\\n\\nIt dwells in my mind so!\\n\\nI lie here on this great immovable bed—it is nailed down, I believe—and\\nfollow that pattern about by the hour. It is as good as gymnastics, I\\nassure you. I start, we’ll say, at the bottom, down in the corner over\\nthere where it has not been touched, and I determine for the thousandth\\ntime that I will follow that pointless pattern to some sort of a\\nconclusion.\\n\\nI know a little of the principle of design, and I know this thing was not\\narranged on any laws of radiation, or alternation, or repetition, or\\nsymmetry, or anything else that I ever heard of.\\n\\nIt is repeated, of course, by the breadths, but not otherwise.\\n\\nLooked at in one way each breadth stands alone, the bloated curves and\\nflourishes—a kind of “debased Romanesque” with delirium\\ntremens—go waddling up and down in isolated columns of fatuity.\\n\\nBut, on the other hand, they connect diagonally, and the sprawling\\noutlines run off in great slanting waves of optic horror, like a lot of\\nwallowing seaweeds in full chase.\\n\\nThe whole thing goes horizontally, too, at least it seems so, and I\\nexhaust myself in trying to distinguish the order of its going in that\\ndirection.\\n\\nThey have used a horizontal breadth for a frieze, and that adds\\nwonderfully to the confusion.\\n\\nThere is one end of the room where it is almost intact, and there, when\\nthe cross-lights fade and the low sun shines directly upon it, I can\\nalmost\\nfancy radiation after all,—the interminable grotesques seem to form\\naround a common centre and rush off in headlong plunges of equal\\ndistraction.\\n\\nIt makes me tired to follow it. I will take a nap, I guess.\\n\\nI don’t know why I should write this.\\n\\nI don’t want to.\\n\\nI don’t feel able.\\n\\nAnd I know John would think it absurd. But I must say what I feel and\\nthink in some way—it is such a relief!\\n\\nBut the effort is getting to be greater than the relief.\\n\\nHalf the time now I am awfully lazy, and lie down ever so much.\\n\\nJohn says I musn’t lose my strength, and has me take cod-liver oil and\\nlots of tonics and things, to say nothing of ale and wine and rare meat.\\n\\nDear John! He loves me very dearly, and hates to have me sick. I tried to\\nhave a real earnest reasonable talk with him the other day, and tell him\\nhow I wish he would let me go and make a visit to Cousin Henry and Julia.\\n\\nBut he said I wasn’t able to go, nor able to stand it after I got there;\\nand I did not make out a very good case for myself, for I was crying\\nbefore I had finished.\\n\\nIt is getting to be a great effort for me to think straight. Just this\\nnervous weakness, I suppose.\\n\\nAnd dear John gathered me up in his arms, and just carried me upstairs and\\nlaid me on the bed, and sat by me and read to me till it tired my head.\\n\\nHe said I was his darling and his comfort and all he had, and that I must\\ntake care of myself for his sake, and keep well.\\n\\nHe says no one but myself can help me out of it, that I must use my will\\nand self-control and not let any silly fancies run away with me.\\n\\nThere’s one comfort, the baby is well and happy, and does not have to\\noccupy this nursery with the horrid wallpaper.\\n\\nIf we had not used it that blessed child would have! What a fortunate\\nescape! Why, I wouldn’t have a child of mine, an impressionable little\\nthing, live in such a room for worlds.\\n\\nI never thought of it before, but it is lucky that John kept me here after\\nall. I can stand it so much easier than a baby, you see.\\n\\nOf course I never mention it to them any more,—I am too wise,—but\\nI keep watch of it all the same.\\n\\nThere are things in that paper that nobody knows but me, or ever will.\\n\\nBehind that outside pattern the dim shapes get clearer every day.\\n\\nIt is always the same shape, only very numerous.\\n\\nAnd it is like a woman stooping down and creeping about behind that\\npattern. I don’t like it a bit. I wonder—I begin to think—I\\nwish John would take me away from here!\\n\\nIt is so hard to talk with John about my case, because he is so wise, and\\nbecause he loves me so.\\n\\nBut I tried it last night.\\n\\nIt was moonlight. The moon shines in all around, just as the sun does.\\n\\nI hate to see it sometimes, it creeps so slowly, and always comes in by\\none window or another.\\n\\nJohn was asleep and I hated to waken him, so I kept still and watched the\\nmoonlight on that undulating wallpaper till I felt creepy.\\n\\nThe faint figure behind seemed to shake the pattern, just as if she wanted\\nto get out.\\n\\nI got up softly and went to feel and see if the paper did move, and when I\\ncame back John was awake.\\n\\n“What is it, little girl?” he said. “Don’t go walking\\nabout like that—you’ll get cold.”\\n\\nI though it was a good time to talk, so I told him that I really was not\\ngaining here, and that I wished he would take me away.\\n\\n“Why darling!” said he, “our lease will be up in three\\nweeks, and I can’t see how to leave before.\\n\\n“The repairs are not done at home, and I cannot possibly leave town just\\nnow. Of course if you were in any danger I could and would, but you\\nreally are better, dear, whether you can see it or not. I am a doctor,\\ndear, and I know. You are gaining flesh and color, your appetite is\\nbetter. I feel really much easier about you.”\\n\\n“I don’t weigh a bit more,” said I, “nor as much; and\\nmy appetite may be better in the evening, when you are here, but it is\\nworse\\nin the morning when you are away.”\\n\\n“Bless her little heart!” said he with a big hug; “she shall be as sick as\\nshe pleases! But now let’s improve the shining hours by going to sleep,\\nand talk about it in the morning!”\\n\\n“And you won’t go away?” I asked gloomily.\\n\\n“Why, how can I, dear? It is only three weeks more and then we will take a\\nnice little trip of a few days while Jennie is getting the house ready.\\nReally, dear, you are better!”\\n\\n“Better in body perhaps”—I began, and stopped short, for he sat up\\nstraight and looked at me with such a stern, reproachful look that I could\\nnot say another word.\\n\\n“My darling,” said he, “I beg of you, for my sake and for our child’s\\nsake, as well as for your own, that you will never for one instant let\\nthat idea enter your mind! There is nothing so dangerous, so fascinating,\\nto a temperament like yours. It is a false and foolish fancy. Can you not\\ntrust me as a physician when I tell you so?”\\n\\nSo of course I said no more on that score, and we went to sleep before\\nlong. He thought I was asleep first, but I wasn’t,—I lay there for hours\\ntrying to decide whether that front pattern and the back pattern really\\ndid move together or separately.\\n\\nOn a pattern like this, by daylight, there is a lack of sequence, a\\ndefiance of law, that is a constant irritant to a normal mind.\\n\\nThe color is hideous enough, and unreliable enough, and infuriating\\nenough, but the pattern is torturing.\\n\\nYou think you have mastered it, but just as you get well under way in\\nfollowing, it turns a back somersault and there you are. It slaps you in\\nthe face, knocks you down, and tramples upon you. It is like a bad dream.\\n\\nThe outside pattern is a florid arabesque, reminding one of a fungus. If\\nyou can imagine a toadstool in joints, an interminable string of\\ntoadstools, budding and sprouting in endless convolutions,—why, that\\nis something like it.\\n\\nThat is, sometimes!\\n\\nThere is one marked peculiarity about this paper, a thing nobody seems to\\nnotice but myself, and that is that it changes as the light changes.\\n\\nWhen the sun shoots in through the east window—I always watch for\\nthat first long, straight ray—it changes so quickly that I never can\\nquite believe it.\\n\\nThat is why I watch it always.\\n\\nBy moonlight—the moon shines in all night when there is a moon—I\\nwouldn’t know it was the same paper.\\n\\nAt night in any kind of light, in twilight, candlelight, lamplight, and\\nworst of all by moonlight, it becomes bars! The outside pattern I mean,\\nand the woman behind it is as plain as can be.\\n\\nI didn’t realize for a long time what the thing was that showed\\nbehind,—that dim sub-pattern,—but now I am quite sure it is a woman.\\n\\nBy daylight she is subdued, quiet. I fancy it is the pattern that keeps\\nher so still. It is so puzzling. It keeps me quiet by the hour.\\n\\nI lie down ever so much now. John says it is good for me, and to sleep all\\nI can.\\n\\nIndeed, he started the habit by making me lie down for an hour after each\\nmeal.\\n\\nIt is a very bad habit, I am convinced, for, you see, I don’t sleep.\\n\\nAnd that cultivates deceit, for I don’t tell them I’m\\nawake,—oh, no!\\n\\nThe fact is, I am getting a little afraid of John.\\n\\nHe seems very queer sometimes, and even Jennie has an inexplicable look.\\n\\nIt strikes me occasionally, just as a scientific hypothesis, that\\nperhaps it is the paper!\\n\\nI have watched John when he did not know I was looking, and come into the\\nroom suddenly on the most innocent excuses, and I’ve caught him several\\ntimes looking at the paper! And Jennie too. I caught Jennie with her hand\\non it once.\\n\\nShe didn’t know I was in the room, and when I asked her in a quiet, a very\\nquiet voice, with the most restrained manner possible, what she was doing\\nwith the paper she turned around as if she had been caught stealing,\\nand looked quite angry—asked me why I should frighten her so!\\n\\nThen she said that the paper stained everything it touched, that she had\\nfound yellow smooches on all my clothes and John’s, and she wished we\\nwould be more careful!\\n\\nDid not that sound innocent? But I know she was studying that pattern, and\\nI am determined that nobody shall find it out but myself!\\n\\nLife is very much more exciting now than it used to be. You see I have\\nsomething more to expect, to look forward to, to watch. I really do eat\\nbetter, and am more quiet than I was.\\n\\nJohn is so pleased to see me improve! He laughed a little the other day,\\nand said I seemed to be flourishing in spite of my wallpaper.\\n\\nI turned it off with a laugh. I had no intention of telling him it was\\nbecause of the wallpaper—he would make fun of me. He might even\\nwant to take me away.\\n\\nI don’t want to leave now until I have found it out. There is a week more,\\nand I think that will be enough.\\n\\nI’m feeling ever so much better! I don’t sleep much at night, for it is so\\ninteresting to watch developments; but I sleep a good deal in the daytime.\\n\\nIn the daytime it is tiresome and perplexing.\\n\\nThere are always new shoots on the fungus, and new shades of yellow all\\nover it. I cannot keep count of them, though I have tried conscientiously.\\n\\nIt is the strangest yellow, that wallpaper! It makes me think of all the\\nyellow things I ever saw—not beautiful ones like buttercups, but old\\nfoul, bad yellow things.\\n\\nBut there is something else about that paper—the smell! I noticed it\\nthe moment we came into the room, but with so much air and sun it was not\\nbad. Now we have had a week of fog and rain, and whether the windows are\\nopen or not, the smell is here.\\n\\nIt creeps all over the house.\\n\\nI find it hovering in the dining-room, skulking in the parlor, hiding in\\nthe hall, lying in wait for me on the stairs.\\n\\nIt gets into my hair.\\n\\nEven when I go to ride, if I turn my head suddenly and surprise it—there\\nis that smell!\\n\\nSuch a peculiar odor, too! I have spent hours in trying to analyze it, to\\nfind what it smelled like.\\n\\nIt is not bad—at first, and very gentle, but quite the subtlest,\\nmost enduring odor I ever met.\\n\\nIn this damp weather it is awful. I wake up in the night and find it\\nhanging over me.\\n\\nIt used to disturb me at first. I thought seriously of burning the\\nhouse—to\\nreach the smell.\\n\\nBut now I am used to it. The only thing I can think of that it is like is\\nthe color of the paper! A yellow smell.\\n\\nThere is a very funny mark on this wall, low down, near the mopboard. A\\nstreak that runs round the room. It goes behind every piece of furniture,\\nexcept the bed, a long, straight, even smooch, as if it had been rubbed\\nover and over.\\n\\nI wonder how it was done and who did it, and what they did it for. Round\\nand round and round—round and round and round—it makes me\\ndizzy!\\n\\nI really have discovered something at last.\\n\\nThrough watching so much at night, when it changes so, I have finally\\nfound out.\\n\\nThe front pattern does move—and no wonder! The woman behind shakes\\nit!\\n\\nSometimes I think there are a great many women behind, and sometimes only\\none, and she crawls around fast, and her crawling shakes it all over.\\n\\nThen in the very bright spots she keeps still, and in the very shady spots\\nshe just takes hold of the bars and shakes them hard.\\n\\nAnd she is all the time trying to climb through. But nobody could climb\\nthrough that pattern—it strangles so; I think that is why it has so\\nmany heads.\\n\\nThey get through, and then the pattern strangles them off and turns them\\nupside-down, and makes their eyes white!\\n\\nIf those heads were covered or taken off it would not be half so bad.\\n\\nI think that woman gets out in the daytime!\\n\\nAnd I’ll tell you why—privately—I’ve seen her!\\n\\nI can see her out of every one of my windows!\\n\\nIt is the same woman, I know, for she is always creeping, and most women\\ndo not creep by daylight.\\n\\nI see her on that long shaded lane, creeping up and down. I see her in\\nthose\\ndark grape arbors, creeping all around the garden.\\n\\nI see her on that long road under the trees, creeping along, and when a\\ncarriage comes she hides under the blackberry vines.\\n\\nI don’t blame her a bit. It must be very humiliating to be caught creeping\\nby daylight!\\n\\nI always lock the door when I creep by daylight. I can’t do it at night,\\nfor I know John would suspect something at once.\\n\\nAnd John is so queer now, that I don’t want to irritate him. I wish he\\nwould take another room! Besides, I don’t want anybody to get that woman\\nout at night but myself.\\n\\nI often wonder if I could see her out of all the windows at once.\\n\\nBut, turn as fast as I can, I can only see out of one at one time.\\n\\nAnd though I always see her she may be able to creep faster than I can\\nturn!\\n\\nI have watched her sometimes away off in the open country, creeping as\\nfast as a cloud shadow in a high wind.\\n\\nIf only that top pattern could be gotten off from the under one! I mean to\\ntry it, little by little.\\n\\nI have found out another funny thing, but I shan’t tell it this time! It\\ndoes not do to trust people too much.\\n\\nThere are only two more days to get this paper off, and I believe John is\\nbeginning to notice. I don’t like the look in his eyes.\\n\\nAnd I heard him ask Jennie a lot of professional questions about me. She\\nhad a very good report to give.\\n\\nShe said I slept a good deal in the daytime.\\n\\nJohn knows I don’t sleep very well at night, for all I’m so quiet!\\n\\nHe asked me all sorts of questions, too, and pretended to be very loving\\nand kind.\\n\\nAs if I couldn’t see through him!\\n\\nStill, I don’t wonder he acts so, sleeping under this paper for three\\nmonths.\\n\\nIt only interests me, but I feel sure John and Jennie are secretly\\naffected by it.\\n\\nHurrah! This is the last day, but it is enough. John is to stay in town\\nover night, and won’t be out until this evening.\\n\\nJennie wanted to sleep with me—the sly thing! but I told her I\\nshould undoubtedly rest better for a night all alone.\\n\\nThat was clever, for really I wasn’t alone a bit! As soon as it was\\nmoonlight, and that poor thing began to crawl and shake the pattern, I got\\nup and ran to help her.\\n\\nI pulled and she shook, I shook and she pulled, and before morning we had\\npeeled off yards of that paper.\\n\\nA strip about as high as my head and half around the room.\\n\\nAnd then when the sun came and that awful pattern began to laugh at me I\\ndeclared I would finish it to-day!\\n\\nWe go away to-morrow, and they are moving all my furniture down again to\\nleave things as they were before.\\n\\nJennie looked at the wall in amazement, but I told her merrily that I did\\nit out of pure spite at the vicious thing.\\n\\nShe laughed and said she wouldn’t mind doing it herself, but I must not\\nget tired.\\n\\nHow she betrayed herself that time!\\n\\nBut I am here, and no person touches this paper but me—not alive!\\n\\nShe tried to get me out of the room—it was too patent! But I said it\\nwas so quiet and empty and clean now that I believed I would lie down\\nagain and sleep all I could; and not to wake me even for dinner—I\\nwould call when I woke.\\n\\nSo now she is gone, and the servants are gone, and the things are gone,\\nand there is nothing left but that great bedstead nailed down, with the\\ncanvas mattress we found on it.\\n\\nWe shall sleep downstairs to-night, and take the boat home to-morrow.\\n\\nI quite enjoy the room, now it is bare again.\\n\\nHow those children did tear about here!\\n\\nThis bedstead is fairly gnawed!\\n\\nBut I must get to work.\\n\\nI have locked the door and thrown the key down into the front path.\\n\\nI don’t want to go out, and I don’t want to have anybody come in, till\\nJohn comes.\\n\\nI want to astonish him.\\n\\nI’ve got a rope up here that even Jennie did not find. If that woman does\\nget out, and tries to get away, I can tie her!\\n\\nBut I forgot I could not reach far without anything to stand on!\\n\\nThis bed will not move!\\n\\nI tried to lift and push it until I was lame, and then I got so angry I\\nbit off a little piece at one corner—but it hurt my teeth.\\n\\nThen I peeled off all the paper I could reach standing on the floor. It\\nsticks horribly and the pattern just enjoys it! All those strangled heads\\nand bulbous eyes and waddling fungus growths just shriek with derision!\\n\\nI am getting angry enough to do something desperate. To jump out of the\\nwindow would be admirable exercise, but the bars are too strong even to\\ntry.\\n\\nBesides I wouldn’t do it. Of course not. I know well enough that a step\\nlike that is improper and might be misconstrued.\\n\\nI don’t like to look out of the windows even—there are so many of\\nthose creeping women, and they creep so fast.\\n\\nI wonder if they all come out of that wallpaper as I did?\\n\\nBut I am securely fastened now by my well-hidden rope—you don’t get\\nme out in the road there!\\n\\nI suppose I shall have to get back behind the pattern when it comes night,\\nand that is hard!\\n\\nIt is so pleasant to be out in this great room and creep around as I\\nplease!\\n\\nI don’t want to go outside. I won’t, even if Jennie asks me to.\\n\\nFor outside you have to creep on the ground, and everything is green\\ninstead of yellow.\\n\\nBut here I can creep smoothly on the floor, and my shoulder just fits in\\nthat long smooch around the wall, so I cannot lose my way.\\n\\nWhy, there’s John at the door!\\n\\nIt is no use, young man, you can’t open it!\\n\\nHow he does call and pound!\\n\\nNow he’s crying for an axe.\\n\\nIt would be a shame to break down that beautiful door!\\n\\n“John dear!” said I in the gentlest voice, “the key is down by the front\\nsteps, under a plantain leaf!”\\n\\nThat silenced him for a few moments.\\n\\nThen he said—very quietly indeed, “Open the door, my darling!”\\n\\n“I can’t,” said I. “The key is down by the front door under a plantain\\nleaf!”\\n\\nAnd then I said it again, several times, very gently and slowly, and said\\nit so often that he had to go and see, and he got it, of course, and came\\nin. He stopped short by the door.\\n\\n“What is the matter?” he cried. “For God’s sake, what are you doing!”\\n\\nI kept on creeping just the same, but I looked at him over my shoulder.\\n\\n“I’ve got out at last,” said I, “in spite of you and Jane!\\nAnd I’ve pulled off most of the paper, so you can’t put me back!”\\n\\nNow why should that man have fainted? But he did, and right across my path\\nby the wall, so that I had to creep over him every time!\\n'"
      ]
     },
     "execution_count": 107,
     "metadata": {},
     "output_type": "execute_result"
    }
   ],
   "source": [
    "full_text"
   ]
  },
  {
   "cell_type": "markdown",
   "metadata": {},
   "source": [
    "Your turn! Pick another variable from the script above and see what's inside it below."
   ]
  },
  {
   "cell_type": "code",
   "execution_count": 224,
   "metadata": {},
   "outputs": [],
   "source": [
    "#your_chosen_variable"
   ]
  },
  {
   "cell_type": "markdown",
   "metadata": {},
   "source": [
    "You can run the `print` function inside the Jupyter environment, too, which is sometimes useful because:\n",
    "\n",
    "- Jupyter will only display the last variable in a cell, but `print()` can display multiple variables\n",
    "- Jupyter will display text with `\\n` characters (which means \"new line\") but `print()` will display the text appropriately formatted with new lines\n"
   ]
  },
  {
   "cell_type": "code",
   "execution_count": 111,
   "metadata": {
    "scrolled": true,
    "tags": [
     "output_scroll"
    ]
   },
   "outputs": [
    {
     "data": {
      "text/plain": [
       "'THE YELLOW WALLPAPER\\n\\nBy Charlotte Perkins Gilman\\n\\n\\n\\nIt is very seldom that mere ordinary people like John and myself secure\\nancestral halls for the summer.\\n\\nA colonial mansion, a hereditary estate, I would say a haunted house, and\\nreach the height of romantic felicity—but that would be asking too\\nmuch of fate!\\n\\nStill I will proudly declare that there is something queer about it.\\n\\nElse, why should it be let so cheaply? And why have stood so long\\nuntenanted?\\n\\nJohn laughs at me, of course, but one expects that in marriage.\\n\\nJohn is practical in the extreme. He has no patience with faith, an\\nintense horror of superstition, and he scoffs openly at any talk of things\\nnot to be felt and seen and put down in figures.\\n\\nJohn is a physician, and perhaps—(I would not say it to a living\\nsoul, of course, but this is dead paper and a great relief to my\\nmind)—perhaps that is one reason I do not get well faster.\\n\\nYou see, he does not believe I am sick!\\n\\nAnd what can one do?\\n\\nIf a physician of high standing, and one’s own husband, assures friends\\nand relatives that there is really nothing the matter with one but\\ntemporary nervous depression—a slight hysterical tendency—what\\nis one to do?\\n\\nMy brother is also a physician, and also of high standing, and he says the\\nsame thing.\\n\\nSo I take phosphates or phosphites—whichever it is, and tonics, and\\njourneys, and air, and exercise, and am absolutely forbidden to “work”\\nuntil I am well again.\\n\\nPersonally, I disagree with their ideas.\\n\\nPersonally, I believe that congenial work, with excitement and change,\\nwould do me good.\\n\\nBut what is one to do?\\n\\nI did write for a while in spite of them; but it does exhaust me a good\\ndeal—having to be so sly about it, or else meet with heavy\\nopposition.\\n\\nI sometimes fancy that in my condition if I had less opposition and more\\nsociety and stimulus—but John says the very worst thing I can do is\\nto think about my condition, and I confess it always makes me feel bad.\\n\\nSo I will let it alone and talk about the house.\\n\\nThe most beautiful place! It is quite alone, standing well back from the\\nroad, quite three miles from the village. It makes me think of English\\nplaces that you read about, for there are hedges and walls and gates that\\nlock, and lots of separate little houses for the gardeners and people.\\n\\nThere is a delicious garden! I never saw such a garden—large and\\nshady, full of box-bordered paths, and lined with long grape-covered\\narbors with seats under them.\\n\\nThere were greenhouses, too, but they are all broken now.\\n\\nThere was some legal trouble, I believe, something about the heirs and\\nco-heirs; anyhow, the place has been empty for years.\\n\\nThat spoils my ghostliness, I am afraid; but I don’t care—there is\\nsomething strange about the house—I can feel it.\\n\\nI even said so to John one moonlight evening, but he said what I felt was\\na draught, and shut the window.\\n\\nI get unreasonably angry with John sometimes. I’m sure I never used to be\\nso sensitive. I think it is due to this nervous condition.\\n\\nBut John says if I feel so I shall neglect proper self-control; so I take\\npains to control myself,—before him, at least,—and that makes\\nme very tired.\\n\\nI don’t like our room a bit. I wanted one downstairs that opened on the\\npiazza and had roses all over the window, and such pretty old-fashioned\\nchintz hangings! but John would not hear of it.\\n\\nHe said there was only one window and not room for two beds, and no near\\nroom for him if he took another.\\n\\nHe is very careful and loving, and hardly lets me stir without special\\ndirection.\\n\\nI have a schedule prescription for each hour in the day; he takes all care\\nfrom me, and so I feel basely ungrateful not to value it more.\\n\\nHe said we came here solely on my account, that I was to have perfect rest\\nand all the air I could get. “Your exercise depends on your strength, my\\ndear,” said he, “and your food somewhat on your appetite; but air you\\ncan absorb all the time.” So we took the nursery, at the top of the house.\\n\\nIt is a big, airy room, the whole floor nearly, with windows that look all\\nways, and air and sunshine galore. It was nursery first and then\\nplayground\\nand gymnasium, I should judge; for the windows are barred for little\\nchildren, and there are rings and things in the walls.\\n\\nThe paint and paper look as if a boys’ school had used it. It is stripped\\noff—the paper—in great patches all around the head of my bed,\\nabout as far as I can reach, and in a great place on the other side of the\\nroom low down. I never saw a worse paper in my life.\\n\\nOne of those sprawling flamboyant patterns committing every artistic sin.\\n\\nIt is dull enough to confuse the eye in following, pronounced enough to\\nconstantly irritate, and provoke study, and when you follow the lame,\\nuncertain curves for a little distance they suddenly commit suicide—plunge\\noff at outrageous angles, destroy themselves in unheard-of contradictions.\\n\\nThe color is repellant, almost revolting; a smouldering, unclean yellow,\\nstrangely faded by the slow-turning sunlight.\\n\\nIt is a dull yet lurid orange in some places, a sickly sulphur tint in\\nothers.\\n\\nNo wonder the children hated it! I should hate it myself if I had to live\\nin this room long.\\n\\nThere comes John, and I must put this away,—he hates to have me\\nwrite a word.\\n\\nWe have been here two weeks, and I haven’t felt like writing before, since\\nthat first day.\\n\\nI am sitting by the window now, up in this atrocious nursery, and there is\\nnothing to hinder my writing as much as I please, save lack of strength.\\n\\nJohn is away all day, and even some nights when his cases are serious.\\n\\nI am glad my case is not serious!\\n\\nBut these nervous troubles are dreadfully depressing.\\n\\nJohn does not know how much I really suffer. He knows there is no reason\\nto suffer, and that satisfies him.\\n\\nOf course it is only nervousness. It does weigh on me so not to do my duty\\nin any way!\\n\\nI meant to be such a help to John, such a real rest and comfort, and here\\nI am a comparative burden already!\\n\\nNobody would believe what an effort it is to do what little I am able—to\\ndress and entertain, and order things.\\n\\nIt is fortunate Mary is so good with the baby. Such a dear baby!\\n\\nAnd yet I cannot be with him, it makes me so nervous.\\n\\nI suppose John never was nervous in his life. He laughs at me so about\\nthis wallpaper!\\n\\nAt first he meant to repaper the room, but afterwards he said that I was\\nletting it get the better of me, and that nothing was worse for a nervous\\npatient than to give way to such fancies.\\n\\nHe said that after the wallpaper was changed it would be the heavy\\nbedstead, and then the barred windows, and then that gate at the head of\\nthe stairs, and so on.\\n\\n“You know the place is doing you good,” he said, “and really, dear, I\\ndon’t care to renovate the house just for a three months’ rental.”\\n\\n“Then do let us go downstairs,” I said, “there are such pretty rooms\\nthere.”\\n\\nThen he took me in his arms and called me a blessed little goose, and said\\nhe would go down cellar if I wished, and have it whitewashed into\\nthe bargain.\\n\\nBut he is right enough about the beds and windows and things.\\n\\nIt is as airy and comfortable a room as any one need wish, and, of course,\\nI\\nwould not be so silly as to make him uncomfortable just for a whim.\\n\\nI’m really getting quite fond of the big room, all but that horrid paper.\\n\\nOut of one window I can see the garden, those mysterious deep-shaded\\narbors, the riotous old-fashioned flowers, and bushes and gnarly trees.\\n\\nOut of another I get a lovely view of the bay and a little private wharf\\nbelonging to the estate. There is a beautiful shaded lane that runs down\\nthere from the house. I always fancy I see people walking in these\\nnumerous paths and arbors, but John has cautioned me not to give way to\\nfancy in the least. He says that with my imaginative power and habit of\\nstory-making a nervous weakness like mine is sure to lead to all manner\\nof excited fancies, and that I ought to use my will and good sense to\\ncheck the tendency. So I try.\\n\\nI think sometimes that if I were only well enough to write a little it\\nwould relieve the press of ideas and rest me.\\n\\nBut I find I get pretty tired when I try.\\n\\nIt is so discouraging not to have any advice and companionship about my\\nwork. When I get really well John says we will ask Cousin Henry and Julia\\ndown for a long visit; but he says he would as soon put fire-works in my\\npillow-case as to let me have those stimulating people about now.\\n\\nI wish I could get well faster.\\n\\nBut I must not think about that. This paper looks to me as if it knew what\\na vicious influence it had!\\n\\nThere is a recurrent spot where the pattern lolls like a broken neck and\\ntwo bulbous eyes stare at you upside-down.\\n\\nI get positively angry with the impertinence of it and the\\neverlastingness. Up and down and sideways they crawl, and those absurd,\\nunblinking eyes are everywhere. There is one place where two breadths\\ndidn’t match, and the eyes go all up and down the line, one a little\\nhigher than the other.\\n\\nI never saw so much expression in an inanimate thing before, and we all\\nknow how much expression they have! I used to lie awake as a child and get\\nmore entertainment and terror out of blank walls and plain furniture than\\nmost children could find in a toy-store.\\n\\nI remember what a kindly wink the knobs of our big old bureau used to\\nhave, and there was one chair that always seemed like a strong friend.\\n\\nI used to feel that if any of the other things looked too fierce I could\\nalways hop into that chair and be safe.\\n\\nThe furniture in this room is no worse than inharmonious, however, for we\\nhad to bring it all from downstairs. I suppose when this was used as a\\nplayroom they had to take the nursery things out, and no wonder! I never\\nsaw such ravages as the children have made here.\\n\\nThe wallpaper, as I said before, is torn off in spots, and it sticketh\\ncloser than a brother—they must have had perseverance as well as\\nhatred.\\n\\nThen the floor is scratched and gouged and splintered, the plaster itself\\nis dug out here and there, and this great heavy bed, which is all we found\\nin the room, looks as if it had been through the wars.\\n\\nBut I don’t mind it a bit—only the paper.\\n\\nThere comes John’s sister. Such a dear girl as she is, and so careful of\\nme! I must not let her find me writing.\\n\\nShe is a perfect, and enthusiastic housekeeper, and hopes for no better\\nprofession. I verily believe she thinks it is the writing which made me\\nsick!\\n\\nBut I can write when she is out, and see her a long way off from these\\nwindows.\\n\\nThere is one that commands the road, a lovely, shaded, winding road, and\\none\\nthat just looks off over the country. A lovely country, too, full of great\\nelms and velvet meadows.\\n\\nThis wallpaper has a kind of sub-pattern in a different shade, a\\nparticularly irritating one, for you can only see it in certain lights,\\nand not clearly then.\\n\\nBut in the places where it isn’t faded, and where the sun is just so, I\\ncan see a strange, provoking, formless sort of figure, that seems to sulk\\nabout behind that silly and conspicuous front design.\\n\\nThere’s sister on the stairs!\\n\\nWell, the Fourth of July is over! The people are gone and I am tired out.\\nJohn thought it might do me good to see a little company, so we just had\\nmother and Nellie and the children down for a week.\\n\\nOf course I didn’t do a thing. Jennie sees to everything now.\\n\\nBut it tired me all the same.\\n\\nJohn says if I don’t pick up faster he shall send me to Weir Mitchell in\\nthe fall.\\n\\nBut I don’t want to go there at all. I had a friend who was in his hands\\nonce, and she says he is just like John and my brother, only more so!\\n\\nBesides, it is such an undertaking to go so far.\\n\\nI don’t feel as if it was worth while to turn my hand over for anything,\\nand I’m getting dreadfully fretful and querulous.\\n\\nI cry at nothing, and cry most of the time.\\n\\nOf course I don’t when John is here, or anybody else, but when I am alone.\\n\\nAnd I am alone a good deal just now. John is kept in town very often by\\nserious cases, and Jennie is good and lets me alone when I want her to.\\n\\nSo I walk a little in the garden or down that lovely lane, sit on the\\nporch under the roses, and lie down up here a good deal.\\n\\nI’m getting really fond of the room in spite of the wallpaper. Perhaps\\nbecause of the wallpaper.\\n\\nIt dwells in my mind so!\\n\\nI lie here on this great immovable bed—it is nailed down, I believe—and\\nfollow that pattern about by the hour. It is as good as gymnastics, I\\nassure you. I start, we’ll say, at the bottom, down in the corner over\\nthere where it has not been touched, and I determine for the thousandth\\ntime that I will follow that pointless pattern to some sort of a\\nconclusion.\\n\\nI know a little of the principle of design, and I know this thing was not\\narranged on any laws of radiation, or alternation, or repetition, or\\nsymmetry, or anything else that I ever heard of.\\n\\nIt is repeated, of course, by the breadths, but not otherwise.\\n\\nLooked at in one way each breadth stands alone, the bloated curves and\\nflourishes—a kind of “debased Romanesque” with delirium\\ntremens—go waddling up and down in isolated columns of fatuity.\\n\\nBut, on the other hand, they connect diagonally, and the sprawling\\noutlines run off in great slanting waves of optic horror, like a lot of\\nwallowing seaweeds in full chase.\\n\\nThe whole thing goes horizontally, too, at least it seems so, and I\\nexhaust myself in trying to distinguish the order of its going in that\\ndirection.\\n\\nThey have used a horizontal breadth for a frieze, and that adds\\nwonderfully to the confusion.\\n\\nThere is one end of the room where it is almost intact, and there, when\\nthe cross-lights fade and the low sun shines directly upon it, I can\\nalmost\\nfancy radiation after all,—the interminable grotesques seem to form\\naround a common centre and rush off in headlong plunges of equal\\ndistraction.\\n\\nIt makes me tired to follow it. I will take a nap, I guess.\\n\\nI don’t know why I should write this.\\n\\nI don’t want to.\\n\\nI don’t feel able.\\n\\nAnd I know John would think it absurd. But I must say what I feel and\\nthink in some way—it is such a relief!\\n\\nBut the effort is getting to be greater than the relief.\\n\\nHalf the time now I am awfully lazy, and lie down ever so much.\\n\\nJohn says I musn’t lose my strength, and has me take cod-liver oil and\\nlots of tonics and things, to say nothing of ale and wine and rare meat.\\n\\nDear John! He loves me very dearly, and hates to have me sick. I tried to\\nhave a real earnest reasonable talk with him the other day, and tell him\\nhow I wish he would let me go and make a visit to Cousin Henry and Julia.\\n\\nBut he said I wasn’t able to go, nor able to stand it after I got there;\\nand I did not make out a very good case for myself, for I was crying\\nbefore I had finished.\\n\\nIt is getting to be a great effort for me to think straight. Just this\\nnervous weakness, I suppose.\\n\\nAnd dear John gathered me up in his arms, and just carried me upstairs and\\nlaid me on the bed, and sat by me and read to me till it tired my head.\\n\\nHe said I was his darling and his comfort and all he had, and that I must\\ntake care of myself for his sake, and keep well.\\n\\nHe says no one but myself can help me out of it, that I must use my will\\nand self-control and not let any silly fancies run away with me.\\n\\nThere’s one comfort, the baby is well and happy, and does not have to\\noccupy this nursery with the horrid wallpaper.\\n\\nIf we had not used it that blessed child would have! What a fortunate\\nescape! Why, I wouldn’t have a child of mine, an impressionable little\\nthing, live in such a room for worlds.\\n\\nI never thought of it before, but it is lucky that John kept me here after\\nall. I can stand it so much easier than a baby, you see.\\n\\nOf course I never mention it to them any more,—I am too wise,—but\\nI keep watch of it all the same.\\n\\nThere are things in that paper that nobody knows but me, or ever will.\\n\\nBehind that outside pattern the dim shapes get clearer every day.\\n\\nIt is always the same shape, only very numerous.\\n\\nAnd it is like a woman stooping down and creeping about behind that\\npattern. I don’t like it a bit. I wonder—I begin to think—I\\nwish John would take me away from here!\\n\\nIt is so hard to talk with John about my case, because he is so wise, and\\nbecause he loves me so.\\n\\nBut I tried it last night.\\n\\nIt was moonlight. The moon shines in all around, just as the sun does.\\n\\nI hate to see it sometimes, it creeps so slowly, and always comes in by\\none window or another.\\n\\nJohn was asleep and I hated to waken him, so I kept still and watched the\\nmoonlight on that undulating wallpaper till I felt creepy.\\n\\nThe faint figure behind seemed to shake the pattern, just as if she wanted\\nto get out.\\n\\nI got up softly and went to feel and see if the paper did move, and when I\\ncame back John was awake.\\n\\n“What is it, little girl?” he said. “Don’t go walking\\nabout like that—you’ll get cold.”\\n\\nI though it was a good time to talk, so I told him that I really was not\\ngaining here, and that I wished he would take me away.\\n\\n“Why darling!” said he, “our lease will be up in three\\nweeks, and I can’t see how to leave before.\\n\\n“The repairs are not done at home, and I cannot possibly leave town just\\nnow. Of course if you were in any danger I could and would, but you\\nreally are better, dear, whether you can see it or not. I am a doctor,\\ndear, and I know. You are gaining flesh and color, your appetite is\\nbetter. I feel really much easier about you.”\\n\\n“I don’t weigh a bit more,” said I, “nor as much; and\\nmy appetite may be better in the evening, when you are here, but it is\\nworse\\nin the morning when you are away.”\\n\\n“Bless her little heart!” said he with a big hug; “she shall be as sick as\\nshe pleases! But now let’s improve the shining hours by going to sleep,\\nand talk about it in the morning!”\\n\\n“And you won’t go away?” I asked gloomily.\\n\\n“Why, how can I, dear? It is only three weeks more and then we will take a\\nnice little trip of a few days while Jennie is getting the house ready.\\nReally, dear, you are better!”\\n\\n“Better in body perhaps”—I began, and stopped short, for he sat up\\nstraight and looked at me with such a stern, reproachful look that I could\\nnot say another word.\\n\\n“My darling,” said he, “I beg of you, for my sake and for our child’s\\nsake, as well as for your own, that you will never for one instant let\\nthat idea enter your mind! There is nothing so dangerous, so fascinating,\\nto a temperament like yours. It is a false and foolish fancy. Can you not\\ntrust me as a physician when I tell you so?”\\n\\nSo of course I said no more on that score, and we went to sleep before\\nlong. He thought I was asleep first, but I wasn’t,—I lay there for hours\\ntrying to decide whether that front pattern and the back pattern really\\ndid move together or separately.\\n\\nOn a pattern like this, by daylight, there is a lack of sequence, a\\ndefiance of law, that is a constant irritant to a normal mind.\\n\\nThe color is hideous enough, and unreliable enough, and infuriating\\nenough, but the pattern is torturing.\\n\\nYou think you have mastered it, but just as you get well under way in\\nfollowing, it turns a back somersault and there you are. It slaps you in\\nthe face, knocks you down, and tramples upon you. It is like a bad dream.\\n\\nThe outside pattern is a florid arabesque, reminding one of a fungus. If\\nyou can imagine a toadstool in joints, an interminable string of\\ntoadstools, budding and sprouting in endless convolutions,—why, that\\nis something like it.\\n\\nThat is, sometimes!\\n\\nThere is one marked peculiarity about this paper, a thing nobody seems to\\nnotice but myself, and that is that it changes as the light changes.\\n\\nWhen the sun shoots in through the east window—I always watch for\\nthat first long, straight ray—it changes so quickly that I never can\\nquite believe it.\\n\\nThat is why I watch it always.\\n\\nBy moonlight—the moon shines in all night when there is a moon—I\\nwouldn’t know it was the same paper.\\n\\nAt night in any kind of light, in twilight, candlelight, lamplight, and\\nworst of all by moonlight, it becomes bars! The outside pattern I mean,\\nand the woman behind it is as plain as can be.\\n\\nI didn’t realize for a long time what the thing was that showed\\nbehind,—that dim sub-pattern,—but now I am quite sure it is a woman.\\n\\nBy daylight she is subdued, quiet. I fancy it is the pattern that keeps\\nher so still. It is so puzzling. It keeps me quiet by the hour.\\n\\nI lie down ever so much now. John says it is good for me, and to sleep all\\nI can.\\n\\nIndeed, he started the habit by making me lie down for an hour after each\\nmeal.\\n\\nIt is a very bad habit, I am convinced, for, you see, I don’t sleep.\\n\\nAnd that cultivates deceit, for I don’t tell them I’m\\nawake,—oh, no!\\n\\nThe fact is, I am getting a little afraid of John.\\n\\nHe seems very queer sometimes, and even Jennie has an inexplicable look.\\n\\nIt strikes me occasionally, just as a scientific hypothesis, that\\nperhaps it is the paper!\\n\\nI have watched John when he did not know I was looking, and come into the\\nroom suddenly on the most innocent excuses, and I’ve caught him several\\ntimes looking at the paper! And Jennie too. I caught Jennie with her hand\\non it once.\\n\\nShe didn’t know I was in the room, and when I asked her in a quiet, a very\\nquiet voice, with the most restrained manner possible, what she was doing\\nwith the paper she turned around as if she had been caught stealing,\\nand looked quite angry—asked me why I should frighten her so!\\n\\nThen she said that the paper stained everything it touched, that she had\\nfound yellow smooches on all my clothes and John’s, and she wished we\\nwould be more careful!\\n\\nDid not that sound innocent? But I know she was studying that pattern, and\\nI am determined that nobody shall find it out but myself!\\n\\nLife is very much more exciting now than it used to be. You see I have\\nsomething more to expect, to look forward to, to watch. I really do eat\\nbetter, and am more quiet than I was.\\n\\nJohn is so pleased to see me improve! He laughed a little the other day,\\nand said I seemed to be flourishing in spite of my wallpaper.\\n\\nI turned it off with a laugh. I had no intention of telling him it was\\nbecause of the wallpaper—he would make fun of me. He might even\\nwant to take me away.\\n\\nI don’t want to leave now until I have found it out. There is a week more,\\nand I think that will be enough.\\n\\nI’m feeling ever so much better! I don’t sleep much at night, for it is so\\ninteresting to watch developments; but I sleep a good deal in the daytime.\\n\\nIn the daytime it is tiresome and perplexing.\\n\\nThere are always new shoots on the fungus, and new shades of yellow all\\nover it. I cannot keep count of them, though I have tried conscientiously.\\n\\nIt is the strangest yellow, that wallpaper! It makes me think of all the\\nyellow things I ever saw—not beautiful ones like buttercups, but old\\nfoul, bad yellow things.\\n\\nBut there is something else about that paper—the smell! I noticed it\\nthe moment we came into the room, but with so much air and sun it was not\\nbad. Now we have had a week of fog and rain, and whether the windows are\\nopen or not, the smell is here.\\n\\nIt creeps all over the house.\\n\\nI find it hovering in the dining-room, skulking in the parlor, hiding in\\nthe hall, lying in wait for me on the stairs.\\n\\nIt gets into my hair.\\n\\nEven when I go to ride, if I turn my head suddenly and surprise it—there\\nis that smell!\\n\\nSuch a peculiar odor, too! I have spent hours in trying to analyze it, to\\nfind what it smelled like.\\n\\nIt is not bad—at first, and very gentle, but quite the subtlest,\\nmost enduring odor I ever met.\\n\\nIn this damp weather it is awful. I wake up in the night and find it\\nhanging over me.\\n\\nIt used to disturb me at first. I thought seriously of burning the\\nhouse—to\\nreach the smell.\\n\\nBut now I am used to it. The only thing I can think of that it is like is\\nthe color of the paper! A yellow smell.\\n\\nThere is a very funny mark on this wall, low down, near the mopboard. A\\nstreak that runs round the room. It goes behind every piece of furniture,\\nexcept the bed, a long, straight, even smooch, as if it had been rubbed\\nover and over.\\n\\nI wonder how it was done and who did it, and what they did it for. Round\\nand round and round—round and round and round—it makes me\\ndizzy!\\n\\nI really have discovered something at last.\\n\\nThrough watching so much at night, when it changes so, I have finally\\nfound out.\\n\\nThe front pattern does move—and no wonder! The woman behind shakes\\nit!\\n\\nSometimes I think there are a great many women behind, and sometimes only\\none, and she crawls around fast, and her crawling shakes it all over.\\n\\nThen in the very bright spots she keeps still, and in the very shady spots\\nshe just takes hold of the bars and shakes them hard.\\n\\nAnd she is all the time trying to climb through. But nobody could climb\\nthrough that pattern—it strangles so; I think that is why it has so\\nmany heads.\\n\\nThey get through, and then the pattern strangles them off and turns them\\nupside-down, and makes their eyes white!\\n\\nIf those heads were covered or taken off it would not be half so bad.\\n\\nI think that woman gets out in the daytime!\\n\\nAnd I’ll tell you why—privately—I’ve seen her!\\n\\nI can see her out of every one of my windows!\\n\\nIt is the same woman, I know, for she is always creeping, and most women\\ndo not creep by daylight.\\n\\nI see her on that long shaded lane, creeping up and down. I see her in\\nthose\\ndark grape arbors, creeping all around the garden.\\n\\nI see her on that long road under the trees, creeping along, and when a\\ncarriage comes she hides under the blackberry vines.\\n\\nI don’t blame her a bit. It must be very humiliating to be caught creeping\\nby daylight!\\n\\nI always lock the door when I creep by daylight. I can’t do it at night,\\nfor I know John would suspect something at once.\\n\\nAnd John is so queer now, that I don’t want to irritate him. I wish he\\nwould take another room! Besides, I don’t want anybody to get that woman\\nout at night but myself.\\n\\nI often wonder if I could see her out of all the windows at once.\\n\\nBut, turn as fast as I can, I can only see out of one at one time.\\n\\nAnd though I always see her she may be able to creep faster than I can\\nturn!\\n\\nI have watched her sometimes away off in the open country, creeping as\\nfast as a cloud shadow in a high wind.\\n\\nIf only that top pattern could be gotten off from the under one! I mean to\\ntry it, little by little.\\n\\nI have found out another funny thing, but I shan’t tell it this time! It\\ndoes not do to trust people too much.\\n\\nThere are only two more days to get this paper off, and I believe John is\\nbeginning to notice. I don’t like the look in his eyes.\\n\\nAnd I heard him ask Jennie a lot of professional questions about me. She\\nhad a very good report to give.\\n\\nShe said I slept a good deal in the daytime.\\n\\nJohn knows I don’t sleep very well at night, for all I’m so quiet!\\n\\nHe asked me all sorts of questions, too, and pretended to be very loving\\nand kind.\\n\\nAs if I couldn’t see through him!\\n\\nStill, I don’t wonder he acts so, sleeping under this paper for three\\nmonths.\\n\\nIt only interests me, but I feel sure John and Jennie are secretly\\naffected by it.\\n\\nHurrah! This is the last day, but it is enough. John is to stay in town\\nover night, and won’t be out until this evening.\\n\\nJennie wanted to sleep with me—the sly thing! but I told her I\\nshould undoubtedly rest better for a night all alone.\\n\\nThat was clever, for really I wasn’t alone a bit! As soon as it was\\nmoonlight, and that poor thing began to crawl and shake the pattern, I got\\nup and ran to help her.\\n\\nI pulled and she shook, I shook and she pulled, and before morning we had\\npeeled off yards of that paper.\\n\\nA strip about as high as my head and half around the room.\\n\\nAnd then when the sun came and that awful pattern began to laugh at me I\\ndeclared I would finish it to-day!\\n\\nWe go away to-morrow, and they are moving all my furniture down again to\\nleave things as they were before.\\n\\nJennie looked at the wall in amazement, but I told her merrily that I did\\nit out of pure spite at the vicious thing.\\n\\nShe laughed and said she wouldn’t mind doing it herself, but I must not\\nget tired.\\n\\nHow she betrayed herself that time!\\n\\nBut I am here, and no person touches this paper but me—not alive!\\n\\nShe tried to get me out of the room—it was too patent! But I said it\\nwas so quiet and empty and clean now that I believed I would lie down\\nagain and sleep all I could; and not to wake me even for dinner—I\\nwould call when I woke.\\n\\nSo now she is gone, and the servants are gone, and the things are gone,\\nand there is nothing left but that great bedstead nailed down, with the\\ncanvas mattress we found on it.\\n\\nWe shall sleep downstairs to-night, and take the boat home to-morrow.\\n\\nI quite enjoy the room, now it is bare again.\\n\\nHow those children did tear about here!\\n\\nThis bedstead is fairly gnawed!\\n\\nBut I must get to work.\\n\\nI have locked the door and thrown the key down into the front path.\\n\\nI don’t want to go out, and I don’t want to have anybody come in, till\\nJohn comes.\\n\\nI want to astonish him.\\n\\nI’ve got a rope up here that even Jennie did not find. If that woman does\\nget out, and tries to get away, I can tie her!\\n\\nBut I forgot I could not reach far without anything to stand on!\\n\\nThis bed will not move!\\n\\nI tried to lift and push it until I was lame, and then I got so angry I\\nbit off a little piece at one corner—but it hurt my teeth.\\n\\nThen I peeled off all the paper I could reach standing on the floor. It\\nsticks horribly and the pattern just enjoys it! All those strangled heads\\nand bulbous eyes and waddling fungus growths just shriek with derision!\\n\\nI am getting angry enough to do something desperate. To jump out of the\\nwindow would be admirable exercise, but the bars are too strong even to\\ntry.\\n\\nBesides I wouldn’t do it. Of course not. I know well enough that a step\\nlike that is improper and might be misconstrued.\\n\\nI don’t like to look out of the windows even—there are so many of\\nthose creeping women, and they creep so fast.\\n\\nI wonder if they all come out of that wallpaper as I did?\\n\\nBut I am securely fastened now by my well-hidden rope—you don’t get\\nme out in the road there!\\n\\nI suppose I shall have to get back behind the pattern when it comes night,\\nand that is hard!\\n\\nIt is so pleasant to be out in this great room and creep around as I\\nplease!\\n\\nI don’t want to go outside. I won’t, even if Jennie asks me to.\\n\\nFor outside you have to creep on the ground, and everything is green\\ninstead of yellow.\\n\\nBut here I can creep smoothly on the floor, and my shoulder just fits in\\nthat long smooch around the wall, so I cannot lose my way.\\n\\nWhy, there’s John at the door!\\n\\nIt is no use, young man, you can’t open it!\\n\\nHow he does call and pound!\\n\\nNow he’s crying for an axe.\\n\\nIt would be a shame to break down that beautiful door!\\n\\n“John dear!” said I in the gentlest voice, “the key is down by the front\\nsteps, under a plantain leaf!”\\n\\nThat silenced him for a few moments.\\n\\nThen he said—very quietly indeed, “Open the door, my darling!”\\n\\n“I can’t,” said I. “The key is down by the front door under a plantain\\nleaf!”\\n\\nAnd then I said it again, several times, very gently and slowly, and said\\nit so often that he had to go and see, and he got it, of course, and came\\nin. He stopped short by the door.\\n\\n“What is the matter?” he cried. “For God’s sake, what are you doing!”\\n\\nI kept on creeping just the same, but I looked at him over my shoulder.\\n\\n“I’ve got out at last,” said I, “in spite of you and Jane!\\nAnd I’ve pulled off most of the paper, so you can’t put me back!”\\n\\nNow why should that man have fainted? But he did, and right across my path\\nby the wall, so that I had to creep over him every time!\\n'"
      ]
     },
     "execution_count": 111,
     "metadata": {},
     "output_type": "execute_result"
    }
   ],
   "source": [
    "filepath_of_text\n",
    "nltk_stop_words\n",
    "number_of_desired_words\n",
    "full_text"
   ]
  },
  {
   "cell_type": "markdown",
   "metadata": {},
   "source": [
    "Only the last variable in the cell above, `full_text`, is displayed with `\\n` characters. But if you `print()` each variable..."
   ]
  },
  {
   "cell_type": "code",
   "execution_count": 108,
   "metadata": {
    "scrolled": true,
    "tags": [
     "output_scroll"
    ]
   },
   "outputs": [
    {
     "name": "stdout",
     "output_type": "stream",
     "text": [
      "../texts/The-Yellow-Wallpaper.txt\n",
      "['i', 'me', 'my', 'myself', 'we', 'our', 'ours', 'ourselves', 'you', \"you're\", \"you've\", \"you'll\", \"you'd\", 'your', 'yours', 'yourself', 'yourselves', 'he', 'him', 'his', 'himself', 'she', \"she's\", 'her', 'hers', 'herself', 'it', \"it's\", 'its', 'itself', 'they', 'them', 'their', 'theirs', 'themselves', 'what', 'which', 'who', 'whom', 'this', 'that', \"that'll\", 'these', 'those', 'am', 'is', 'are', 'was', 'were', 'be', 'been', 'being', 'have', 'has', 'had', 'having', 'do', 'does', 'did', 'doing', 'a', 'an', 'the', 'and', 'but', 'if', 'or', 'because', 'as', 'until', 'while', 'of', 'at', 'by', 'for', 'with', 'about', 'against', 'between', 'into', 'through', 'during', 'before', 'after', 'above', 'below', 'to', 'from', 'up', 'down', 'in', 'out', 'on', 'off', 'over', 'under', 'again', 'further', 'then', 'once', 'here', 'there', 'when', 'where', 'why', 'how', 'all', 'any', 'both', 'each', 'few', 'more', 'most', 'other', 'some', 'such', 'no', 'nor', 'not', 'only', 'own', 'same', 'so', 'than', 'too', 'very', 's', 't', 'can', 'will', 'just', 'don', \"don't\", 'should', \"should've\", 'now', 'd', 'll', 'm', 'o', 're', 've', 'y', 'ain', 'aren', \"aren't\", 'couldn', \"couldn't\", 'didn', \"didn't\", 'doesn', \"doesn't\", 'hadn', \"hadn't\", 'hasn', \"hasn't\", 'haven', \"haven't\", 'isn', \"isn't\", 'ma', 'mightn', \"mightn't\", 'mustn', \"mustn't\", 'needn', \"needn't\", 'shan', \"shan't\", 'shouldn', \"shouldn't\", 'wasn', \"wasn't\", 'weren', \"weren't\", 'won', \"won't\", 'wouldn', \"wouldn't\"]\n",
      "40\n",
      "THE YELLOW WALLPAPER\n",
      "\n",
      "By Charlotte Perkins Gilman\n",
      "\n",
      "\n",
      "\n",
      "It is very seldom that mere ordinary people like John and myself secure\n",
      "ancestral halls for the summer.\n",
      "\n",
      "A colonial mansion, a hereditary estate, I would say a haunted house, and\n",
      "reach the height of romantic felicity—but that would be asking too\n",
      "much of fate!\n",
      "\n",
      "Still I will proudly declare that there is something queer about it.\n",
      "\n",
      "Else, why should it be let so cheaply? And why have stood so long\n",
      "untenanted?\n",
      "\n",
      "John laughs at me, of course, but one expects that in marriage.\n",
      "\n",
      "John is practical in the extreme. He has no patience with faith, an\n",
      "intense horror of superstition, and he scoffs openly at any talk of things\n",
      "not to be felt and seen and put down in figures.\n",
      "\n",
      "John is a physician, and perhaps—(I would not say it to a living\n",
      "soul, of course, but this is dead paper and a great relief to my\n",
      "mind)—perhaps that is one reason I do not get well faster.\n",
      "\n",
      "You see, he does not believe I am sick!\n",
      "\n",
      "And what can one do?\n",
      "\n",
      "If a physician of high standing, and one’s own husband, assures friends\n",
      "and relatives that there is really nothing the matter with one but\n",
      "temporary nervous depression—a slight hysterical tendency—what\n",
      "is one to do?\n",
      "\n",
      "My brother is also a physician, and also of high standing, and he says the\n",
      "same thing.\n",
      "\n",
      "So I take phosphates or phosphites—whichever it is, and tonics, and\n",
      "journeys, and air, and exercise, and am absolutely forbidden to “work”\n",
      "until I am well again.\n",
      "\n",
      "Personally, I disagree with their ideas.\n",
      "\n",
      "Personally, I believe that congenial work, with excitement and change,\n",
      "would do me good.\n",
      "\n",
      "But what is one to do?\n",
      "\n",
      "I did write for a while in spite of them; but it does exhaust me a good\n",
      "deal—having to be so sly about it, or else meet with heavy\n",
      "opposition.\n",
      "\n",
      "I sometimes fancy that in my condition if I had less opposition and more\n",
      "society and stimulus—but John says the very worst thing I can do is\n",
      "to think about my condition, and I confess it always makes me feel bad.\n",
      "\n",
      "So I will let it alone and talk about the house.\n",
      "\n",
      "The most beautiful place! It is quite alone, standing well back from the\n",
      "road, quite three miles from the village. It makes me think of English\n",
      "places that you read about, for there are hedges and walls and gates that\n",
      "lock, and lots of separate little houses for the gardeners and people.\n",
      "\n",
      "There is a delicious garden! I never saw such a garden—large and\n",
      "shady, full of box-bordered paths, and lined with long grape-covered\n",
      "arbors with seats under them.\n",
      "\n",
      "There were greenhouses, too, but they are all broken now.\n",
      "\n",
      "There was some legal trouble, I believe, something about the heirs and\n",
      "co-heirs; anyhow, the place has been empty for years.\n",
      "\n",
      "That spoils my ghostliness, I am afraid; but I don’t care—there is\n",
      "something strange about the house—I can feel it.\n",
      "\n",
      "I even said so to John one moonlight evening, but he said what I felt was\n",
      "a draught, and shut the window.\n",
      "\n",
      "I get unreasonably angry with John sometimes. I’m sure I never used to be\n",
      "so sensitive. I think it is due to this nervous condition.\n",
      "\n",
      "But John says if I feel so I shall neglect proper self-control; so I take\n",
      "pains to control myself,—before him, at least,—and that makes\n",
      "me very tired.\n",
      "\n",
      "I don’t like our room a bit. I wanted one downstairs that opened on the\n",
      "piazza and had roses all over the window, and such pretty old-fashioned\n",
      "chintz hangings! but John would not hear of it.\n",
      "\n",
      "He said there was only one window and not room for two beds, and no near\n",
      "room for him if he took another.\n",
      "\n",
      "He is very careful and loving, and hardly lets me stir without special\n",
      "direction.\n",
      "\n",
      "I have a schedule prescription for each hour in the day; he takes all care\n",
      "from me, and so I feel basely ungrateful not to value it more.\n",
      "\n",
      "He said we came here solely on my account, that I was to have perfect rest\n",
      "and all the air I could get. “Your exercise depends on your strength, my\n",
      "dear,” said he, “and your food somewhat on your appetite; but air you\n",
      "can absorb all the time.” So we took the nursery, at the top of the house.\n",
      "\n",
      "It is a big, airy room, the whole floor nearly, with windows that look all\n",
      "ways, and air and sunshine galore. It was nursery first and then\n",
      "playground\n",
      "and gymnasium, I should judge; for the windows are barred for little\n",
      "children, and there are rings and things in the walls.\n",
      "\n",
      "The paint and paper look as if a boys’ school had used it. It is stripped\n",
      "off—the paper—in great patches all around the head of my bed,\n",
      "about as far as I can reach, and in a great place on the other side of the\n",
      "room low down. I never saw a worse paper in my life.\n",
      "\n",
      "One of those sprawling flamboyant patterns committing every artistic sin.\n",
      "\n",
      "It is dull enough to confuse the eye in following, pronounced enough to\n",
      "constantly irritate, and provoke study, and when you follow the lame,\n",
      "uncertain curves for a little distance they suddenly commit suicide—plunge\n",
      "off at outrageous angles, destroy themselves in unheard-of contradictions.\n",
      "\n",
      "The color is repellant, almost revolting; a smouldering, unclean yellow,\n",
      "strangely faded by the slow-turning sunlight.\n",
      "\n",
      "It is a dull yet lurid orange in some places, a sickly sulphur tint in\n",
      "others.\n",
      "\n",
      "No wonder the children hated it! I should hate it myself if I had to live\n",
      "in this room long.\n",
      "\n",
      "There comes John, and I must put this away,—he hates to have me\n",
      "write a word.\n",
      "\n",
      "We have been here two weeks, and I haven’t felt like writing before, since\n",
      "that first day.\n",
      "\n",
      "I am sitting by the window now, up in this atrocious nursery, and there is\n",
      "nothing to hinder my writing as much as I please, save lack of strength.\n",
      "\n",
      "John is away all day, and even some nights when his cases are serious.\n",
      "\n",
      "I am glad my case is not serious!\n",
      "\n",
      "But these nervous troubles are dreadfully depressing.\n",
      "\n",
      "John does not know how much I really suffer. He knows there is no reason\n",
      "to suffer, and that satisfies him.\n",
      "\n",
      "Of course it is only nervousness. It does weigh on me so not to do my duty\n",
      "in any way!\n",
      "\n",
      "I meant to be such a help to John, such a real rest and comfort, and here\n",
      "I am a comparative burden already!\n",
      "\n",
      "Nobody would believe what an effort it is to do what little I am able—to\n",
      "dress and entertain, and order things.\n",
      "\n",
      "It is fortunate Mary is so good with the baby. Such a dear baby!\n",
      "\n",
      "And yet I cannot be with him, it makes me so nervous.\n",
      "\n",
      "I suppose John never was nervous in his life. He laughs at me so about\n",
      "this wallpaper!\n",
      "\n",
      "At first he meant to repaper the room, but afterwards he said that I was\n",
      "letting it get the better of me, and that nothing was worse for a nervous\n",
      "patient than to give way to such fancies.\n",
      "\n",
      "He said that after the wallpaper was changed it would be the heavy\n",
      "bedstead, and then the barred windows, and then that gate at the head of\n",
      "the stairs, and so on.\n",
      "\n",
      "“You know the place is doing you good,” he said, “and really, dear, I\n",
      "don’t care to renovate the house just for a three months’ rental.”\n",
      "\n",
      "“Then do let us go downstairs,” I said, “there are such pretty rooms\n",
      "there.”\n",
      "\n",
      "Then he took me in his arms and called me a blessed little goose, and said\n",
      "he would go down cellar if I wished, and have it whitewashed into\n",
      "the bargain.\n",
      "\n",
      "But he is right enough about the beds and windows and things.\n",
      "\n",
      "It is as airy and comfortable a room as any one need wish, and, of course,\n",
      "I\n",
      "would not be so silly as to make him uncomfortable just for a whim.\n",
      "\n",
      "I’m really getting quite fond of the big room, all but that horrid paper.\n",
      "\n",
      "Out of one window I can see the garden, those mysterious deep-shaded\n",
      "arbors, the riotous old-fashioned flowers, and bushes and gnarly trees.\n",
      "\n",
      "Out of another I get a lovely view of the bay and a little private wharf\n",
      "belonging to the estate. There is a beautiful shaded lane that runs down\n",
      "there from the house. I always fancy I see people walking in these\n",
      "numerous paths and arbors, but John has cautioned me not to give way to\n",
      "fancy in the least. He says that with my imaginative power and habit of\n",
      "story-making a nervous weakness like mine is sure to lead to all manner\n",
      "of excited fancies, and that I ought to use my will and good sense to\n",
      "check the tendency. So I try.\n",
      "\n",
      "I think sometimes that if I were only well enough to write a little it\n",
      "would relieve the press of ideas and rest me.\n",
      "\n",
      "But I find I get pretty tired when I try.\n",
      "\n",
      "It is so discouraging not to have any advice and companionship about my\n",
      "work. When I get really well John says we will ask Cousin Henry and Julia\n",
      "down for a long visit; but he says he would as soon put fire-works in my\n",
      "pillow-case as to let me have those stimulating people about now.\n",
      "\n",
      "I wish I could get well faster.\n",
      "\n",
      "But I must not think about that. This paper looks to me as if it knew what\n",
      "a vicious influence it had!\n",
      "\n",
      "There is a recurrent spot where the pattern lolls like a broken neck and\n",
      "two bulbous eyes stare at you upside-down.\n",
      "\n",
      "I get positively angry with the impertinence of it and the\n",
      "everlastingness. Up and down and sideways they crawl, and those absurd,\n",
      "unblinking eyes are everywhere. There is one place where two breadths\n",
      "didn’t match, and the eyes go all up and down the line, one a little\n",
      "higher than the other.\n",
      "\n",
      "I never saw so much expression in an inanimate thing before, and we all\n",
      "know how much expression they have! I used to lie awake as a child and get\n",
      "more entertainment and terror out of blank walls and plain furniture than\n",
      "most children could find in a toy-store.\n",
      "\n",
      "I remember what a kindly wink the knobs of our big old bureau used to\n",
      "have, and there was one chair that always seemed like a strong friend.\n",
      "\n",
      "I used to feel that if any of the other things looked too fierce I could\n",
      "always hop into that chair and be safe.\n",
      "\n",
      "The furniture in this room is no worse than inharmonious, however, for we\n",
      "had to bring it all from downstairs. I suppose when this was used as a\n",
      "playroom they had to take the nursery things out, and no wonder! I never\n",
      "saw such ravages as the children have made here.\n",
      "\n",
      "The wallpaper, as I said before, is torn off in spots, and it sticketh\n",
      "closer than a brother—they must have had perseverance as well as\n",
      "hatred.\n",
      "\n",
      "Then the floor is scratched and gouged and splintered, the plaster itself\n",
      "is dug out here and there, and this great heavy bed, which is all we found\n",
      "in the room, looks as if it had been through the wars.\n",
      "\n",
      "But I don’t mind it a bit—only the paper.\n",
      "\n",
      "There comes John’s sister. Such a dear girl as she is, and so careful of\n",
      "me! I must not let her find me writing.\n",
      "\n",
      "She is a perfect, and enthusiastic housekeeper, and hopes for no better\n",
      "profession. I verily believe she thinks it is the writing which made me\n",
      "sick!\n",
      "\n",
      "But I can write when she is out, and see her a long way off from these\n",
      "windows.\n",
      "\n",
      "There is one that commands the road, a lovely, shaded, winding road, and\n",
      "one\n",
      "that just looks off over the country. A lovely country, too, full of great\n",
      "elms and velvet meadows.\n",
      "\n",
      "This wallpaper has a kind of sub-pattern in a different shade, a\n",
      "particularly irritating one, for you can only see it in certain lights,\n",
      "and not clearly then.\n",
      "\n",
      "But in the places where it isn’t faded, and where the sun is just so, I\n",
      "can see a strange, provoking, formless sort of figure, that seems to sulk\n",
      "about behind that silly and conspicuous front design.\n",
      "\n",
      "There’s sister on the stairs!\n",
      "\n",
      "Well, the Fourth of July is over! The people are gone and I am tired out.\n",
      "John thought it might do me good to see a little company, so we just had\n",
      "mother and Nellie and the children down for a week.\n",
      "\n",
      "Of course I didn’t do a thing. Jennie sees to everything now.\n",
      "\n",
      "But it tired me all the same.\n",
      "\n",
      "John says if I don’t pick up faster he shall send me to Weir Mitchell in\n",
      "the fall.\n",
      "\n",
      "But I don’t want to go there at all. I had a friend who was in his hands\n",
      "once, and she says he is just like John and my brother, only more so!\n",
      "\n",
      "Besides, it is such an undertaking to go so far.\n",
      "\n",
      "I don’t feel as if it was worth while to turn my hand over for anything,\n",
      "and I’m getting dreadfully fretful and querulous.\n",
      "\n",
      "I cry at nothing, and cry most of the time.\n",
      "\n",
      "Of course I don’t when John is here, or anybody else, but when I am alone.\n",
      "\n",
      "And I am alone a good deal just now. John is kept in town very often by\n",
      "serious cases, and Jennie is good and lets me alone when I want her to.\n",
      "\n",
      "So I walk a little in the garden or down that lovely lane, sit on the\n",
      "porch under the roses, and lie down up here a good deal.\n",
      "\n",
      "I’m getting really fond of the room in spite of the wallpaper. Perhaps\n",
      "because of the wallpaper.\n",
      "\n",
      "It dwells in my mind so!\n",
      "\n",
      "I lie here on this great immovable bed—it is nailed down, I believe—and\n",
      "follow that pattern about by the hour. It is as good as gymnastics, I\n",
      "assure you. I start, we’ll say, at the bottom, down in the corner over\n",
      "there where it has not been touched, and I determine for the thousandth\n",
      "time that I will follow that pointless pattern to some sort of a\n",
      "conclusion.\n",
      "\n",
      "I know a little of the principle of design, and I know this thing was not\n",
      "arranged on any laws of radiation, or alternation, or repetition, or\n",
      "symmetry, or anything else that I ever heard of.\n",
      "\n",
      "It is repeated, of course, by the breadths, but not otherwise.\n",
      "\n",
      "Looked at in one way each breadth stands alone, the bloated curves and\n",
      "flourishes—a kind of “debased Romanesque” with delirium\n",
      "tremens—go waddling up and down in isolated columns of fatuity.\n",
      "\n",
      "But, on the other hand, they connect diagonally, and the sprawling\n",
      "outlines run off in great slanting waves of optic horror, like a lot of\n",
      "wallowing seaweeds in full chase.\n",
      "\n",
      "The whole thing goes horizontally, too, at least it seems so, and I\n",
      "exhaust myself in trying to distinguish the order of its going in that\n",
      "direction.\n",
      "\n",
      "They have used a horizontal breadth for a frieze, and that adds\n",
      "wonderfully to the confusion.\n",
      "\n",
      "There is one end of the room where it is almost intact, and there, when\n",
      "the cross-lights fade and the low sun shines directly upon it, I can\n",
      "almost\n",
      "fancy radiation after all,—the interminable grotesques seem to form\n",
      "around a common centre and rush off in headlong plunges of equal\n",
      "distraction.\n",
      "\n",
      "It makes me tired to follow it. I will take a nap, I guess.\n",
      "\n",
      "I don’t know why I should write this.\n",
      "\n",
      "I don’t want to.\n",
      "\n",
      "I don’t feel able.\n",
      "\n",
      "And I know John would think it absurd. But I must say what I feel and\n",
      "think in some way—it is such a relief!\n",
      "\n",
      "But the effort is getting to be greater than the relief.\n",
      "\n",
      "Half the time now I am awfully lazy, and lie down ever so much.\n",
      "\n",
      "John says I musn’t lose my strength, and has me take cod-liver oil and\n",
      "lots of tonics and things, to say nothing of ale and wine and rare meat.\n",
      "\n",
      "Dear John! He loves me very dearly, and hates to have me sick. I tried to\n",
      "have a real earnest reasonable talk with him the other day, and tell him\n",
      "how I wish he would let me go and make a visit to Cousin Henry and Julia.\n",
      "\n",
      "But he said I wasn’t able to go, nor able to stand it after I got there;\n",
      "and I did not make out a very good case for myself, for I was crying\n",
      "before I had finished.\n",
      "\n",
      "It is getting to be a great effort for me to think straight. Just this\n",
      "nervous weakness, I suppose.\n",
      "\n",
      "And dear John gathered me up in his arms, and just carried me upstairs and\n",
      "laid me on the bed, and sat by me and read to me till it tired my head.\n",
      "\n",
      "He said I was his darling and his comfort and all he had, and that I must\n",
      "take care of myself for his sake, and keep well.\n",
      "\n",
      "He says no one but myself can help me out of it, that I must use my will\n",
      "and self-control and not let any silly fancies run away with me.\n",
      "\n",
      "There’s one comfort, the baby is well and happy, and does not have to\n",
      "occupy this nursery with the horrid wallpaper.\n",
      "\n",
      "If we had not used it that blessed child would have! What a fortunate\n",
      "escape! Why, I wouldn’t have a child of mine, an impressionable little\n",
      "thing, live in such a room for worlds.\n",
      "\n",
      "I never thought of it before, but it is lucky that John kept me here after\n",
      "all. I can stand it so much easier than a baby, you see.\n",
      "\n",
      "Of course I never mention it to them any more,—I am too wise,—but\n",
      "I keep watch of it all the same.\n",
      "\n",
      "There are things in that paper that nobody knows but me, or ever will.\n",
      "\n",
      "Behind that outside pattern the dim shapes get clearer every day.\n",
      "\n",
      "It is always the same shape, only very numerous.\n",
      "\n",
      "And it is like a woman stooping down and creeping about behind that\n",
      "pattern. I don’t like it a bit. I wonder—I begin to think—I\n",
      "wish John would take me away from here!\n",
      "\n",
      "It is so hard to talk with John about my case, because he is so wise, and\n",
      "because he loves me so.\n",
      "\n",
      "But I tried it last night.\n",
      "\n",
      "It was moonlight. The moon shines in all around, just as the sun does.\n",
      "\n",
      "I hate to see it sometimes, it creeps so slowly, and always comes in by\n",
      "one window or another.\n",
      "\n",
      "John was asleep and I hated to waken him, so I kept still and watched the\n",
      "moonlight on that undulating wallpaper till I felt creepy.\n",
      "\n",
      "The faint figure behind seemed to shake the pattern, just as if she wanted\n",
      "to get out.\n",
      "\n",
      "I got up softly and went to feel and see if the paper did move, and when I\n",
      "came back John was awake.\n",
      "\n",
      "“What is it, little girl?” he said. “Don’t go walking\n",
      "about like that—you’ll get cold.”\n",
      "\n",
      "I though it was a good time to talk, so I told him that I really was not\n",
      "gaining here, and that I wished he would take me away.\n",
      "\n",
      "“Why darling!” said he, “our lease will be up in three\n",
      "weeks, and I can’t see how to leave before.\n",
      "\n",
      "“The repairs are not done at home, and I cannot possibly leave town just\n",
      "now. Of course if you were in any danger I could and would, but you\n",
      "really are better, dear, whether you can see it or not. I am a doctor,\n",
      "dear, and I know. You are gaining flesh and color, your appetite is\n",
      "better. I feel really much easier about you.”\n",
      "\n",
      "“I don’t weigh a bit more,” said I, “nor as much; and\n",
      "my appetite may be better in the evening, when you are here, but it is\n",
      "worse\n",
      "in the morning when you are away.”\n",
      "\n",
      "“Bless her little heart!” said he with a big hug; “she shall be as sick as\n",
      "she pleases! But now let’s improve the shining hours by going to sleep,\n",
      "and talk about it in the morning!”\n",
      "\n",
      "“And you won’t go away?” I asked gloomily.\n",
      "\n",
      "“Why, how can I, dear? It is only three weeks more and then we will take a\n",
      "nice little trip of a few days while Jennie is getting the house ready.\n",
      "Really, dear, you are better!”\n",
      "\n",
      "“Better in body perhaps”—I began, and stopped short, for he sat up\n",
      "straight and looked at me with such a stern, reproachful look that I could\n",
      "not say another word.\n",
      "\n",
      "“My darling,” said he, “I beg of you, for my sake and for our child’s\n",
      "sake, as well as for your own, that you will never for one instant let\n",
      "that idea enter your mind! There is nothing so dangerous, so fascinating,\n",
      "to a temperament like yours. It is a false and foolish fancy. Can you not\n",
      "trust me as a physician when I tell you so?”\n",
      "\n",
      "So of course I said no more on that score, and we went to sleep before\n",
      "long. He thought I was asleep first, but I wasn’t,—I lay there for hours\n",
      "trying to decide whether that front pattern and the back pattern really\n",
      "did move together or separately.\n",
      "\n",
      "On a pattern like this, by daylight, there is a lack of sequence, a\n",
      "defiance of law, that is a constant irritant to a normal mind.\n",
      "\n",
      "The color is hideous enough, and unreliable enough, and infuriating\n",
      "enough, but the pattern is torturing.\n",
      "\n",
      "You think you have mastered it, but just as you get well under way in\n",
      "following, it turns a back somersault and there you are. It slaps you in\n",
      "the face, knocks you down, and tramples upon you. It is like a bad dream.\n",
      "\n",
      "The outside pattern is a florid arabesque, reminding one of a fungus. If\n",
      "you can imagine a toadstool in joints, an interminable string of\n",
      "toadstools, budding and sprouting in endless convolutions,—why, that\n",
      "is something like it.\n",
      "\n",
      "That is, sometimes!\n",
      "\n",
      "There is one marked peculiarity about this paper, a thing nobody seems to\n",
      "notice but myself, and that is that it changes as the light changes.\n",
      "\n",
      "When the sun shoots in through the east window—I always watch for\n",
      "that first long, straight ray—it changes so quickly that I never can\n",
      "quite believe it.\n",
      "\n",
      "That is why I watch it always.\n",
      "\n",
      "By moonlight—the moon shines in all night when there is a moon—I\n",
      "wouldn’t know it was the same paper.\n",
      "\n",
      "At night in any kind of light, in twilight, candlelight, lamplight, and\n",
      "worst of all by moonlight, it becomes bars! The outside pattern I mean,\n",
      "and the woman behind it is as plain as can be.\n",
      "\n",
      "I didn’t realize for a long time what the thing was that showed\n",
      "behind,—that dim sub-pattern,—but now I am quite sure it is a woman.\n",
      "\n",
      "By daylight she is subdued, quiet. I fancy it is the pattern that keeps\n",
      "her so still. It is so puzzling. It keeps me quiet by the hour.\n",
      "\n",
      "I lie down ever so much now. John says it is good for me, and to sleep all\n",
      "I can.\n",
      "\n",
      "Indeed, he started the habit by making me lie down for an hour after each\n",
      "meal.\n",
      "\n",
      "It is a very bad habit, I am convinced, for, you see, I don’t sleep.\n",
      "\n",
      "And that cultivates deceit, for I don’t tell them I’m\n",
      "awake,—oh, no!\n",
      "\n",
      "The fact is, I am getting a little afraid of John.\n",
      "\n",
      "He seems very queer sometimes, and even Jennie has an inexplicable look.\n",
      "\n",
      "It strikes me occasionally, just as a scientific hypothesis, that\n",
      "perhaps it is the paper!\n",
      "\n",
      "I have watched John when he did not know I was looking, and come into the\n",
      "room suddenly on the most innocent excuses, and I’ve caught him several\n",
      "times looking at the paper! And Jennie too. I caught Jennie with her hand\n",
      "on it once.\n",
      "\n",
      "She didn’t know I was in the room, and when I asked her in a quiet, a very\n",
      "quiet voice, with the most restrained manner possible, what she was doing\n",
      "with the paper she turned around as if she had been caught stealing,\n",
      "and looked quite angry—asked me why I should frighten her so!\n",
      "\n",
      "Then she said that the paper stained everything it touched, that she had\n",
      "found yellow smooches on all my clothes and John’s, and she wished we\n",
      "would be more careful!\n",
      "\n",
      "Did not that sound innocent? But I know she was studying that pattern, and\n",
      "I am determined that nobody shall find it out but myself!\n",
      "\n",
      "Life is very much more exciting now than it used to be. You see I have\n",
      "something more to expect, to look forward to, to watch. I really do eat\n",
      "better, and am more quiet than I was.\n",
      "\n",
      "John is so pleased to see me improve! He laughed a little the other day,\n",
      "and said I seemed to be flourishing in spite of my wallpaper.\n",
      "\n",
      "I turned it off with a laugh. I had no intention of telling him it was\n",
      "because of the wallpaper—he would make fun of me. He might even\n",
      "want to take me away.\n",
      "\n",
      "I don’t want to leave now until I have found it out. There is a week more,\n",
      "and I think that will be enough.\n",
      "\n",
      "I’m feeling ever so much better! I don’t sleep much at night, for it is so\n",
      "interesting to watch developments; but I sleep a good deal in the daytime.\n",
      "\n",
      "In the daytime it is tiresome and perplexing.\n",
      "\n",
      "There are always new shoots on the fungus, and new shades of yellow all\n",
      "over it. I cannot keep count of them, though I have tried conscientiously.\n",
      "\n",
      "It is the strangest yellow, that wallpaper! It makes me think of all the\n",
      "yellow things I ever saw—not beautiful ones like buttercups, but old\n",
      "foul, bad yellow things.\n",
      "\n",
      "But there is something else about that paper—the smell! I noticed it\n",
      "the moment we came into the room, but with so much air and sun it was not\n",
      "bad. Now we have had a week of fog and rain, and whether the windows are\n",
      "open or not, the smell is here.\n",
      "\n",
      "It creeps all over the house.\n",
      "\n",
      "I find it hovering in the dining-room, skulking in the parlor, hiding in\n",
      "the hall, lying in wait for me on the stairs.\n",
      "\n",
      "It gets into my hair.\n",
      "\n",
      "Even when I go to ride, if I turn my head suddenly and surprise it—there\n",
      "is that smell!\n",
      "\n",
      "Such a peculiar odor, too! I have spent hours in trying to analyze it, to\n",
      "find what it smelled like.\n",
      "\n",
      "It is not bad—at first, and very gentle, but quite the subtlest,\n",
      "most enduring odor I ever met.\n",
      "\n",
      "In this damp weather it is awful. I wake up in the night and find it\n",
      "hanging over me.\n",
      "\n",
      "It used to disturb me at first. I thought seriously of burning the\n",
      "house—to\n",
      "reach the smell.\n",
      "\n",
      "But now I am used to it. The only thing I can think of that it is like is\n",
      "the color of the paper! A yellow smell.\n",
      "\n",
      "There is a very funny mark on this wall, low down, near the mopboard. A\n",
      "streak that runs round the room. It goes behind every piece of furniture,\n",
      "except the bed, a long, straight, even smooch, as if it had been rubbed\n",
      "over and over.\n",
      "\n",
      "I wonder how it was done and who did it, and what they did it for. Round\n",
      "and round and round—round and round and round—it makes me\n",
      "dizzy!\n",
      "\n",
      "I really have discovered something at last.\n",
      "\n",
      "Through watching so much at night, when it changes so, I have finally\n",
      "found out.\n",
      "\n",
      "The front pattern does move—and no wonder! The woman behind shakes\n",
      "it!\n",
      "\n",
      "Sometimes I think there are a great many women behind, and sometimes only\n",
      "one, and she crawls around fast, and her crawling shakes it all over.\n",
      "\n",
      "Then in the very bright spots she keeps still, and in the very shady spots\n",
      "she just takes hold of the bars and shakes them hard.\n",
      "\n",
      "And she is all the time trying to climb through. But nobody could climb\n",
      "through that pattern—it strangles so; I think that is why it has so\n",
      "many heads.\n",
      "\n",
      "They get through, and then the pattern strangles them off and turns them\n",
      "upside-down, and makes their eyes white!\n",
      "\n",
      "If those heads were covered or taken off it would not be half so bad.\n",
      "\n",
      "I think that woman gets out in the daytime!\n",
      "\n",
      "And I’ll tell you why—privately—I’ve seen her!\n",
      "\n",
      "I can see her out of every one of my windows!\n",
      "\n",
      "It is the same woman, I know, for she is always creeping, and most women\n",
      "do not creep by daylight.\n",
      "\n",
      "I see her on that long shaded lane, creeping up and down. I see her in\n",
      "those\n",
      "dark grape arbors, creeping all around the garden.\n",
      "\n",
      "I see her on that long road under the trees, creeping along, and when a\n",
      "carriage comes she hides under the blackberry vines.\n",
      "\n",
      "I don’t blame her a bit. It must be very humiliating to be caught creeping\n",
      "by daylight!\n",
      "\n",
      "I always lock the door when I creep by daylight. I can’t do it at night,\n",
      "for I know John would suspect something at once.\n",
      "\n",
      "And John is so queer now, that I don’t want to irritate him. I wish he\n",
      "would take another room! Besides, I don’t want anybody to get that woman\n",
      "out at night but myself.\n",
      "\n",
      "I often wonder if I could see her out of all the windows at once.\n",
      "\n",
      "But, turn as fast as I can, I can only see out of one at one time.\n",
      "\n",
      "And though I always see her she may be able to creep faster than I can\n",
      "turn!\n",
      "\n",
      "I have watched her sometimes away off in the open country, creeping as\n",
      "fast as a cloud shadow in a high wind.\n",
      "\n",
      "If only that top pattern could be gotten off from the under one! I mean to\n",
      "try it, little by little.\n",
      "\n",
      "I have found out another funny thing, but I shan’t tell it this time! It\n",
      "does not do to trust people too much.\n",
      "\n",
      "There are only two more days to get this paper off, and I believe John is\n",
      "beginning to notice. I don’t like the look in his eyes.\n",
      "\n",
      "And I heard him ask Jennie a lot of professional questions about me. She\n",
      "had a very good report to give.\n",
      "\n",
      "She said I slept a good deal in the daytime.\n",
      "\n",
      "John knows I don’t sleep very well at night, for all I’m so quiet!\n",
      "\n",
      "He asked me all sorts of questions, too, and pretended to be very loving\n",
      "and kind.\n",
      "\n",
      "As if I couldn’t see through him!\n",
      "\n",
      "Still, I don’t wonder he acts so, sleeping under this paper for three\n",
      "months.\n",
      "\n",
      "It only interests me, but I feel sure John and Jennie are secretly\n",
      "affected by it.\n",
      "\n",
      "Hurrah! This is the last day, but it is enough. John is to stay in town\n",
      "over night, and won’t be out until this evening.\n",
      "\n",
      "Jennie wanted to sleep with me—the sly thing! but I told her I\n",
      "should undoubtedly rest better for a night all alone.\n",
      "\n",
      "That was clever, for really I wasn’t alone a bit! As soon as it was\n",
      "moonlight, and that poor thing began to crawl and shake the pattern, I got\n",
      "up and ran to help her.\n",
      "\n",
      "I pulled and she shook, I shook and she pulled, and before morning we had\n",
      "peeled off yards of that paper.\n",
      "\n",
      "A strip about as high as my head and half around the room.\n",
      "\n",
      "And then when the sun came and that awful pattern began to laugh at me I\n",
      "declared I would finish it to-day!\n",
      "\n",
      "We go away to-morrow, and they are moving all my furniture down again to\n",
      "leave things as they were before.\n",
      "\n",
      "Jennie looked at the wall in amazement, but I told her merrily that I did\n",
      "it out of pure spite at the vicious thing.\n",
      "\n",
      "She laughed and said she wouldn’t mind doing it herself, but I must not\n",
      "get tired.\n",
      "\n",
      "How she betrayed herself that time!\n",
      "\n",
      "But I am here, and no person touches this paper but me—not alive!\n",
      "\n",
      "She tried to get me out of the room—it was too patent! But I said it\n",
      "was so quiet and empty and clean now that I believed I would lie down\n",
      "again and sleep all I could; and not to wake me even for dinner—I\n",
      "would call when I woke.\n",
      "\n",
      "So now she is gone, and the servants are gone, and the things are gone,\n",
      "and there is nothing left but that great bedstead nailed down, with the\n",
      "canvas mattress we found on it.\n",
      "\n",
      "We shall sleep downstairs to-night, and take the boat home to-morrow.\n",
      "\n",
      "I quite enjoy the room, now it is bare again.\n",
      "\n",
      "How those children did tear about here!\n",
      "\n",
      "This bedstead is fairly gnawed!\n",
      "\n",
      "But I must get to work.\n",
      "\n",
      "I have locked the door and thrown the key down into the front path.\n",
      "\n",
      "I don’t want to go out, and I don’t want to have anybody come in, till\n",
      "John comes.\n",
      "\n",
      "I want to astonish him.\n",
      "\n",
      "I’ve got a rope up here that even Jennie did not find. If that woman does\n",
      "get out, and tries to get away, I can tie her!\n",
      "\n",
      "But I forgot I could not reach far without anything to stand on!\n",
      "\n",
      "This bed will not move!\n",
      "\n",
      "I tried to lift and push it until I was lame, and then I got so angry I\n",
      "bit off a little piece at one corner—but it hurt my teeth.\n",
      "\n",
      "Then I peeled off all the paper I could reach standing on the floor. It\n",
      "sticks horribly and the pattern just enjoys it! All those strangled heads\n",
      "and bulbous eyes and waddling fungus growths just shriek with derision!\n",
      "\n",
      "I am getting angry enough to do something desperate. To jump out of the\n",
      "window would be admirable exercise, but the bars are too strong even to\n",
      "try.\n",
      "\n",
      "Besides I wouldn’t do it. Of course not. I know well enough that a step\n",
      "like that is improper and might be misconstrued.\n",
      "\n",
      "I don’t like to look out of the windows even—there are so many of\n",
      "those creeping women, and they creep so fast.\n",
      "\n",
      "I wonder if they all come out of that wallpaper as I did?\n",
      "\n",
      "But I am securely fastened now by my well-hidden rope—you don’t get\n",
      "me out in the road there!\n",
      "\n",
      "I suppose I shall have to get back behind the pattern when it comes night,\n",
      "and that is hard!\n",
      "\n",
      "It is so pleasant to be out in this great room and creep around as I\n",
      "please!\n",
      "\n",
      "I don’t want to go outside. I won’t, even if Jennie asks me to.\n",
      "\n",
      "For outside you have to creep on the ground, and everything is green\n",
      "instead of yellow.\n",
      "\n",
      "But here I can creep smoothly on the floor, and my shoulder just fits in\n",
      "that long smooch around the wall, so I cannot lose my way.\n",
      "\n",
      "Why, there’s John at the door!\n",
      "\n",
      "It is no use, young man, you can’t open it!\n",
      "\n",
      "How he does call and pound!\n",
      "\n",
      "Now he’s crying for an axe.\n",
      "\n",
      "It would be a shame to break down that beautiful door!\n",
      "\n",
      "“John dear!” said I in the gentlest voice, “the key is down by the front\n",
      "steps, under a plantain leaf!”\n",
      "\n",
      "That silenced him for a few moments.\n",
      "\n",
      "Then he said—very quietly indeed, “Open the door, my darling!”\n",
      "\n",
      "“I can’t,” said I. “The key is down by the front door under a plantain\n",
      "leaf!”\n",
      "\n",
      "And then I said it again, several times, very gently and slowly, and said\n",
      "it so often that he had to go and see, and he got it, of course, and came\n",
      "in. He stopped short by the door.\n",
      "\n",
      "“What is the matter?” he cried. “For God’s sake, what are you doing!”\n",
      "\n",
      "I kept on creeping just the same, but I looked at him over my shoulder.\n",
      "\n",
      "“I’ve got out at last,” said I, “in spite of you and Jane!\n",
      "And I’ve pulled off most of the paper, so you can’t put me back!”\n",
      "\n",
      "Now why should that man have fainted? But he did, and right across my path\n",
      "by the wall, so that I had to creep over him every time!\n",
      "\n"
     ]
    }
   ],
   "source": [
    "print(filepath_of_text)\n",
    "print(nltk_stop_words)\n",
    "print(number_of_desired_words)\n",
    "print(full_text)"
   ]
  },
  {
   "cell_type": "markdown",
   "metadata": {},
   "source": [
    "...then each of the variables are displayed, plus the \"The Yellow Wallpaper\" is properly formatted with new lines."
   ]
  },
  {
   "cell_type": "markdown",
   "metadata": {},
   "source": [
    " "
   ]
  },
  {
   "cell_type": "markdown",
   "metadata": {},
   "source": [
    "## Variable Names"
   ]
  },
  {
   "cell_type": "markdown",
   "metadata": {},
   "source": [
    "Though we named our variables `filepath_of_text`, `nltk_stop_words`,`number_of_desired_words`, and `full_text`, we could have named them almost anything else.\n",
    "\n",
    "Variable names can be as long or as short as you want, and they can include:\n",
    "- upper and lower-case letters (A-Z)\n",
    "- digits (0-9)\n",
    "- underscores (_)\n",
    "\n",
    "Variable names *cannot* include:\n",
    "- ❌ other punctuation (-.!?@)\n",
    "- ❌ spaces ( )\n",
    "- ❌ a reserved Python word"
   ]
  },
  {
   "cell_type": "markdown",
   "metadata": {},
   "source": [
    "Instead of `filepath_of_text`, we could have simply named the variable `filepath`."
   ]
  },
  {
   "cell_type": "code",
   "execution_count": 50,
   "metadata": {},
   "outputs": [],
   "source": [
    "filepath = \"../texts/literature/The-Yellow-Wallpaper.txt\""
   ]
  },
  {
   "cell_type": "code",
   "execution_count": 12,
   "metadata": {},
   "outputs": [],
   "source": [
    "filepath = \"../texts/literature/The-Yellow-Wallpaper.txt\""
   ]
  },
  {
   "cell_type": "code",
   "execution_count": 13,
   "metadata": {},
   "outputs": [
    {
     "data": {
      "text/plain": [
       "'../texts/The-Yellow-Wallpaper.txt'"
      ]
     },
     "execution_count": 13,
     "metadata": {},
     "output_type": "execute_result"
    }
   ],
   "source": [
    "filepath"
   ]
  },
  {
   "cell_type": "markdown",
   "metadata": {},
   "source": [
    "Or we could have gone even simpler and named the filepath `f`."
   ]
  },
  {
   "cell_type": "code",
   "execution_count": 13,
   "metadata": {},
   "outputs": [],
   "source": [
    "f = \"../texts/literature/The-Yellow-Wallpaper.txt\""
   ]
  },
  {
   "cell_type": "code",
   "execution_count": 14,
   "metadata": {},
   "outputs": [
    {
     "data": {
      "text/plain": [
       "'../texts/The-Yellow-Wallpaper.txt'"
      ]
     },
     "execution_count": 14,
     "metadata": {},
     "output_type": "execute_result"
    }
   ],
   "source": [
    "f"
   ]
  },
  {
   "cell_type": "markdown",
   "metadata": {},
   "source": [
    "### Striving for Good Variable Names"
   ]
  },
  {
   "cell_type": "markdown",
   "metadata": {},
   "source": [
    "As you start to code, you will almost certainly be tempted to use extremely short variables names like `f`.\n",
    "\n",
    "Your fingers will get tired, your coffee will wear off, you will see other people using variables like `f`, and you'll promise yourself that you'll definitely remember what `f` means. But you probably won't.\n",
    "\n",
    "Thus, you must resist the temptation of bad variable names. Clear and precisely-named variables will:\n",
    "\n",
    "1. Make your code more readable (both to yourself and others)\n",
    "2. Reinforce your understanding of Python and what's happening in the code\n",
    "3. Clarify and strengthen your thinking\n"
   ]
  },
  {
   "cell_type": "markdown",
   "metadata": {},
   "source": [
    "### Example Python Code ❌ **With Bad Variable Names** ❌"
   ]
  },
  {
   "cell_type": "markdown",
   "metadata": {},
   "source": [
    "For the sake of illustration, here's our same word count Python code with poorly named variables. The code works exactly the same as our original code and outputs the 40 most frequently occurring words in \"The Yellow Wallpaper\" — but it's *so much harder to read*!\n",
    "\n",
    "Imagine if you stumbled across this code for the first time and were trying to figure out how it works. Or imagine that you wrote this code two summers ago and were returning to it to do some updates. You'd have to spend a lot more time deciphering and decoding."
   ]
  },
  {
   "cell_type": "code",
   "execution_count": 15,
   "metadata": {},
   "outputs": [
    {
     "name": "stdout",
     "output_type": "stream",
     "text": [
      "[('john', 45), ('one', 33), ('said', 30), ('would', 27), ('get', 24), ('see', 24), ('room', 24), ('pattern', 24), ('paper', 23), ('like', 21), ('little', 20), ('much', 16), ('good', 16), ('think', 16), ('well', 15), ('know', 15), ('go', 15), ('really', 14), ('thing', 14), ('wallpaper', 13), ('night', 13), ('long', 12), ('course', 12), ('things', 12), ('take', 12), ('always', 12), ('could', 12), ('jennie', 12), ('great', 11), ('says', 11), ('feel', 11), ('even', 11), ('used', 11), ('dear', 11), ('time', 11), ('enough', 11), ('away', 11), ('want', 11), ('never', 10), ('must', 10)]\n"
     ]
    }
   ],
   "source": [
    "import re\n",
    "from collections import Counter\n",
    "from nltk.corpus import stopwords\n",
    "\n",
    "def sp(t):\n",
    "    lt = t.lower()\n",
    "    sw = re.split(\"\\W+\", lt)\n",
    "    return sw\n",
    "\n",
    "f = \"../texts/literature/The-Yellow-Wallpaper.txt\"\n",
    "st = stopwords.words(\"english\")\n",
    "\n",
    "with open(f, encoding=\"utf-8\") as fo:\n",
    "    ft = fo.read()\n",
    "\n",
    "words = sp(ft)\n",
    "words = [w for w in words if w not in st]\n",
    "words = Counter(words)\n",
    "words = words.most_common(40)\n",
    "\n",
    "print(words)"
   ]
  },
  {
   "cell_type": "markdown",
   "metadata": {},
   "source": [
    "### Example Python Code ✨ **With Good Variable Names** ✨"
   ]
  },
  {
   "cell_type": "code",
   "execution_count": 17,
   "metadata": {},
   "outputs": [
    {
     "name": "stdout",
     "output_type": "stream",
     "text": [
      "[('john', 45), ('one', 33), ('said', 30), ('would', 27), ('get', 24), ('see', 24), ('room', 24), ('pattern', 24), ('paper', 23), ('like', 21), ('little', 20), ('much', 16), ('good', 16), ('think', 16), ('well', 15), ('know', 15), ('go', 15), ('really', 14), ('thing', 14), ('wallpaper', 13), ('night', 13), ('long', 12), ('course', 12), ('things', 12), ('take', 12), ('always', 12), ('could', 12), ('jennie', 12), ('great', 11), ('says', 11), ('feel', 11), ('even', 11), ('used', 11), ('dear', 11), ('time', 11), ('enough', 11), ('away', 11), ('want', 11), ('never', 10), ('must', 10)]\n"
     ]
    }
   ],
   "source": [
    "import re\n",
    "from collections import Counter\n",
    "from nltk.corpus import stopwords\n",
    "\n",
    "def split_into_words(any_chunk_of_text):\n",
    "    lowercase_text = any_chunk_of_text.lower()\n",
    "    split_words = re.split(\"\\W+\", lowercase_text)\n",
    "    return split_words\n",
    "\n",
    "filepath_of_text = \"../texts/literature/The-Yellow-Wallpaper.txt\"\n",
    "nltk_stop_words = stopwords.words(\"english\")\n",
    "number_of_desired_words = 40\n",
    "\n",
    "full_text = open(filepath_of_text).read()\n",
    "\n",
    "all_the_words = split_into_words(full_text)\n",
    "meaningful_words = [word for word in all_the_words if word not in nltk_stop_words]\n",
    "meaningful_words_tally = Counter(meaningful_words)\n",
    "most_frequent_meaningful_words = meaningful_words_tally.most_common(number_of_desired_words)\n",
    "\n",
    "print(most_frequent_meaningful_words)"
   ]
  },
  {
   "cell_type": "markdown",
   "metadata": {},
   "source": [
    "### Off-Limit Names"
   ]
  },
  {
   "cell_type": "markdown",
   "metadata": {},
   "source": [
    "The only variable names that are off-limits are names that are reserved by, or built into, the Python programming language itself, such as `print`, `True`, and `list`. It's not something to worry too much about. You'll know very quickly if a name is reserved by Python because it will show up in green and often give you an error message."
   ]
  },
  {
   "cell_type": "code",
   "execution_count": 10,
   "metadata": {},
   "outputs": [
    {
     "ename": "SyntaxError",
     "evalue": "can't assign to keyword (<ipython-input-10-fbaebf398d20>, line 1)",
     "output_type": "error",
     "traceback": [
      "\u001b[0;36m  File \u001b[0;32m\"<ipython-input-10-fbaebf398d20>\"\u001b[0;36m, line \u001b[0;32m1\u001b[0m\n\u001b[0;31m    True = \"../texts/The-Yellow-Wallpaper.txt\"\u001b[0m\n\u001b[0m                                              ^\u001b[0m\n\u001b[0;31mSyntaxError\u001b[0m\u001b[0;31m:\u001b[0m can't assign to keyword\n"
     ]
    }
   ],
   "source": [
    "True = \"../texts/literature/The-Yellow-Wallpaper.txt\""
   ]
  },
  {
   "cell_type": "code",
   "execution_count": 29,
   "metadata": {},
   "outputs": [
    {
     "ename": "SyntaxError",
     "evalue": "can't assign to operator (<ipython-input-29-d608198cf705>, line 1)",
     "output_type": "error",
     "traceback": [
      "\u001b[0;36m  File \u001b[0;32m\"<ipython-input-29-d608198cf705>\"\u001b[0;36m, line \u001b[0;32m1\u001b[0m\n\u001b[0;31m    filepath-of-text = \"../texts/The-Yellow-Wallpaper.txt\"\u001b[0m\n\u001b[0m                                                          ^\u001b[0m\n\u001b[0;31mSyntaxError\u001b[0m\u001b[0;31m:\u001b[0m can't assign to operator\n"
     ]
    }
   ],
   "source": [
    "filepath-of-text = \"../texts/literature/The-Yellow-Wallpaper.txt\""
   ]
  },
  {
   "cell_type": "markdown",
   "metadata": {},
   "source": [
    "## Re-Assigning Variables"
   ]
  },
  {
   "cell_type": "markdown",
   "metadata": {},
   "source": [
    "Variable assignment does not set a variable in stone. You can later re-assign the same variable a different value."
   ]
  },
  {
   "cell_type": "markdown",
   "metadata": {},
   "source": [
    "For instance, I could re-assign `filepath_of_text` to the filepath for the lyrics of Beyonce's album *Lemonade* instead of Perkins-Gilman's \"The Yellow Wallpaper.\""
   ]
  },
  {
   "cell_type": "code",
   "execution_count": 225,
   "metadata": {},
   "outputs": [],
   "source": [
    "filepath_of_text = \"../texts/music/Beyonce-Lemonade.txt\""
   ]
  },
  {
   "cell_type": "code",
   "execution_count": 226,
   "metadata": {},
   "outputs": [
    {
     "data": {
      "text/plain": [
       "'../texts/Beyonce-Lemonade.txt'"
      ]
     },
     "execution_count": 226,
     "metadata": {},
     "output_type": "execute_result"
    }
   ],
   "source": [
    "filepath_of_text"
   ]
  },
  {
   "cell_type": "markdown",
   "metadata": {},
   "source": [
    "If I change this one variable in our example code, then we get the most frequent words for *Lemonade*."
   ]
  },
  {
   "cell_type": "code",
   "execution_count": 23,
   "metadata": {},
   "outputs": [
    {
     "name": "stdout",
     "output_type": "stream",
     "text": [
      "[('love', 93), ('like', 50), ('slay', 49), ('sorry', 44), ('okay', 42), ('oh', 38), ('get', 32), ('daddy', 28), ('let', 28), ('back', 24), ('said', 22), ('work', 21), ('cause', 21), ('ft', 21), ('hold', 20), ('night', 19), ('feel', 19), ('hurt', 19), ('best', 19), ('winner', 19), ('every', 18), ('bout', 18), ('money', 17), ('baby', 16), ('boy', 16), ('long', 16), ('shoot', 16), ('good', 16), ('catch', 16), ('know', 15), ('ooh', 15), ('got', 14), ('come', 14), ('pray', 14), ('way', 13), ('gon', 13), ('kiss', 13), ('rub', 12), ('girl', 12), ('see', 12)]\n"
     ]
    }
   ],
   "source": [
    "import re\n",
    "from collections import Counter\n",
    "from nltk.corpus import stopwords\n",
    "\n",
    "def split_into_words(any_chunk_of_text):\n",
    "    lowercase_text = any_chunk_of_text.lower()\n",
    "    split_words = re.split(\"\\W+\", lowercase_text)\n",
    "    return split_words\n",
    "\n",
    "filepath_of_text = \"../texts/music/Beyonce-Lemonade.txt\"\n",
    "nltk_stop_words = stopwords.words(\"english\")\n",
    "number_of_desired_words = 40\n",
    "\n",
    "full_text = open(filepath_of_text).read()\n",
    "\n",
    "all_the_words = split_into_words(full_text)\n",
    "meaningful_words = [word for word in all_the_words if word not in nltk_stop_words]\n",
    "meaningful_words_tally = Counter(meaningful_words)\n",
    "most_frequent_meaningful_words = meaningful_words_tally.most_common(number_of_desired_words)\n",
    "\n",
    "print(most_frequent_meaningful_words)"
   ]
  },
  {
   "cell_type": "markdown",
   "metadata": {},
   "source": [
    "### Your Turn"
   ]
  },
  {
   "cell_type": "markdown",
   "metadata": {},
   "source": [
    "Ok now it's your turn to insert a new file path and calculate a new word frequency! Take a look inside our `/texts` directory and see which texts you can choose from."
   ]
  },
  {
   "cell_type": "markdown",
   "metadata": {},
   "source": [
    "(Do you remember how to look inside a directory and see what's there? Go back to [the command line lesson](https://melaniewalsh.github.io/Intro-Cultural-Analytics/Command-Line/The-Command-Line.htm) if you need a refresher. Hint: To look at the contents of a directory *inside* a directory, you can use the `-R` flag, short for \"recursive.\")"
   ]
  },
  {
   "cell_type": "code",
   "execution_count": null,
   "metadata": {},
   "outputs": [],
   "source": [
    "!ls # your code here"
   ]
  },
  {
   "cell_type": "code",
   "execution_count": null,
   "metadata": {},
   "outputs": [],
   "source": [
    "!ls -R #your code here"
   ]
  },
  {
   "cell_type": "markdown",
   "metadata": {},
   "source": [
    "Pick a file from the list above and assign `filepath_of_text` to its corresponding filepath below:"
   ]
  },
  {
   "cell_type": "code",
   "execution_count": null,
   "metadata": {},
   "outputs": [],
   "source": [
    "import re\n",
    "from collections import Counter\n",
    "from nltk.corpus import stopwords\n",
    "\n",
    "def split_into_words(any_chunk_of_text):\n",
    "    lowercase_text = any_chunk_of_text.lower()\n",
    "    split_words = re.split(\"\\W+\", lowercase_text)\n",
    "    return split_words\n",
    "\n",
    "filepath_of_text = #Insert a New Text File Here\n",
    "nltk_stop_words = stopwords.words(\"english\")\n",
    "number_of_desired_words = 40\n",
    "\n",
    "full_text = open(filepath_of_text).read()\n",
    "\n",
    "all_the_words = split_into_words(full_text)\n",
    "meaningful_words = [word for word in all_the_words if word not in nltk_stop_words]\n",
    "meaningful_words_tally = Counter(meaningful_words)\n",
    "most_frequent_meaningful_words = meaningful_words_tally.most_common(number_of_desired_words)\n",
    "\n",
    "print(most_frequent_meaningful_words)"
   ]
  },
  {
   "cell_type": "markdown",
   "metadata": {},
   "source": [
    "Now let's change the `number_of_desired_words` variable! Rename the variable and then chooose a value other than 40 and see what happens."
   ]
  },
  {
   "cell_type": "code",
   "execution_count": null,
   "metadata": {},
   "outputs": [],
   "source": [
    "import re\n",
    "from collections import Counter\n",
    "from nltk.corpus import stopwords\n",
    "\n",
    "def split_into_words(any_chunk_of_text):\n",
    "    lowercase_text = any_chunk_of_text.lower()\n",
    "    split_words = re.split(\"\\W+\", lowercase_text)\n",
    "    return split_words\n",
    "\n",
    "filepath_of_text = #Insert a New Text File Here\n",
    "nltk_stop_words = stopwords.words(\"english\")\n",
    "#your_new_variable_name = #number\n",
    "\n",
    "full_text = open(filepath_of_text).read()\n",
    "\n",
    "all_the_words = split_into_words(full_text)\n",
    "meaningful_words = [word for word in all_the_words if word not in nltk_stop_words]\n",
    "meaningful_words_tally = Counter(meaningful_words)\n",
    "most_frequent_meaningful_words = meaningful_words_tally.most_common(#your_new_variable_name)\n",
    "\n",
    "print(most_frequent_meaningful_words)"
   ]
  },
  {
   "cell_type": "markdown",
   "metadata": {},
   "source": [
    "Bonus: how might you put the stopwords back in?"
   ]
  },
  {
   "cell_type": "code",
   "execution_count": null,
   "metadata": {},
   "outputs": [],
   "source": [
    "import re\n",
    "from collections import Counter\n",
    "from nltk.corpus import stopwords\n",
    "\n",
    "def split_into_words(any_chunk_of_text):\n",
    "    lowercase_text = any_chunk_of_text.lower()\n",
    "    split_words = re.split(\"\\W+\", lowercase_text)\n",
    "    return split_words\n",
    "\n",
    "filepath_of_text = #Insert a New Text File Here\n",
    "nltk_stop_words = stopwords.words(\"english\")\n",
    "#your_new_variable_name = #number\n",
    "\n",
    "full_text = open(filepath_of_text).read()\n",
    "\n",
    "all_the_words = split_into_words(full_text)\n",
    "meaningful_words = [word for word in all_the_words if word not in nltk_stop_words]\n",
    "meaningful_words_tally = Counter(meaningful_words)\n",
    "most_frequent_meaningful_words = meaningful_words_tally.most_common(#your_new_variable_name)\n",
    "\n",
    "print(most_frequent_meaningful_words)"
   ]
  }
 ],
 "metadata": {
  "kernelspec": {
   "display_name": "Python 3",
   "language": "python",
   "name": "python3"
  },
  "language_info": {
   "codemirror_mode": {
    "name": "ipython",
    "version": 3
   },
   "file_extension": ".py",
   "mimetype": "text/x-python",
   "name": "python",
   "nbconvert_exporter": "python",
   "pygments_lexer": "ipython3",
   "version": "3.7.5"
  }
 },
 "nbformat": 4,
 "nbformat_minor": 4
}
