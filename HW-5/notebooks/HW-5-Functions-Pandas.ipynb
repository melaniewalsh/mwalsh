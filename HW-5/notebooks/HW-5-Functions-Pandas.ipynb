{
 "cells": [
  {
   "cell_type": "markdown",
   "metadata": {},
   "source": [
    "# HW 5 — Functions and Pandas"
   ]
  },
  {
   "cell_type": "markdown",
   "metadata": {},
   "source": [
    "[Download this Jupyter notebook and relevant files here](https://melaniewalsh.org/HW-5.zip)"
   ]
  },
  {
   "cell_type": "markdown",
   "metadata": {},
   "source": [
    "This HW assignment draws on Hannah Andersen and Matt Daniels's [\"Film Dialogue from 2,000 screenplays, Broken Down by Gender and Age\"](https://pudding.cool/2017/03/film-dialogue/). By following the steps below, you're going to explore and analyze women's proportion of dialogue in film over time. When you're finished, save this file as \"Your-Last-Name-HW-5.ipynb\" and submit it to Canvas by Thursday, February 27th at 9am.\n",
    "\n",
    "Remember that you can edit [Markdown](https://guides.github.com/features/mastering-markdown/) cells (like this one) by double-clicking on them and that you can change a cell [from Code to Markdown through the menu bar](../images/Markdown-to-Code.mov).\n",
    "\n"
   ]
  },
  {
   "cell_type": "markdown",
   "metadata": {},
   "source": [
    "**1.** Make a data biography ([inspired by Heather Krause](https://gijn.org/2017/03/27/data-biographies-getting-to-know-your-data/)) for The Pudding's film dialogue data. Refer to [Film Dialogue from 2,000 screenplays, Broken Down by Gender and Age](https://pudding.cool/2017/03/film-dialogue/) and [\"FAQ for the “Film Dialogue, By Gender” Project](https://medium.com/@matthew_daniels/faq-for-the-film-dialogue-by-gender-project-40078209f751). "
   ]
  },
  {
   "cell_type": "markdown",
   "metadata": {},
   "source": [
    "### Where did the data come from? Include at least three specific sources."
   ]
  },
  {
   "cell_type": "markdown",
   "metadata": {},
   "source": [
    "**#**Your Text Here"
   ]
  },
  {
   "cell_type": "markdown",
   "metadata": {},
   "source": [
    "### Who collected the data?"
   ]
  },
  {
   "cell_type": "markdown",
   "metadata": {},
   "source": [
    "**#**Your Text Here"
   ]
  },
  {
   "cell_type": "markdown",
   "metadata": {},
   "source": [
    "### How was the data collected? How was character \"gender\" calculated?"
   ]
  },
  {
   "cell_type": "markdown",
   "metadata": {},
   "source": [
    "**#**Your Text Here"
   ]
  },
  {
   "cell_type": "markdown",
   "metadata": {},
   "source": [
    "### Why was the data collected?"
   ]
  },
  {
   "cell_type": "markdown",
   "metadata": {},
   "source": [
    "**#**Your Text Here"
   ]
  },
  {
   "cell_type": "markdown",
   "metadata": {},
   "source": [
    "**2.** Use the code below to make a function called `decade_chunker()` with a parameter called `year` that returns a value called `decade`. The function `decade_chunker` should take in a year value and report what decade that year falls in. For help, refer to [Functions](https://melaniewalsh.github.io/Intro-Cultural-Analytics/Python/Functions.html) and [Conditionals & Comparisons](https://melaniewalsh.github.io/Intro-Cultural-Analytics/Python/Conditionals-Comparisons.html)."
   ]
  },
  {
   "cell_type": "code",
   "execution_count": null,
   "metadata": {},
   "outputs": [],
   "source": [
    "#Your Code Here\n",
    "    decade = ''\n",
    "    if year >= 1940 and year < 1950:\n",
    "        decade = '1940s'\n",
    "    elif year >=  1950 and year < 1960:\n",
    "        decade = '1950s'\n",
    "    elif year >= 1960 and year < 1970:\n",
    "        decade = '1960s'\n",
    "    #Your Code Here\n",
    "        decade = '1970s'\n",
    "    elif year >= 1980 and year < 1990:\n",
    "        decade = '1980s'\n",
    "    elif year >= 1990 and year < 2000:\n",
    "        #Your Code Here\n",
    "    elif year >= 2000 and year < 2010:\n",
    "        decade = '2000s'\n",
    "    elif year >= 2010 and year < 2020:\n",
    "        decade = '2010s'\n",
    "    #Your Code Here"
   ]
  },
  {
   "cell_type": "markdown",
   "metadata": {},
   "source": [
    "Test the function `decade_chunker` by running `decade_chunker(1975)`."
   ]
  },
  {
   "cell_type": "code",
   "execution_count": 53,
   "metadata": {},
   "outputs": [
    {
     "data": {
      "text/plain": [
       "'1970s'"
      ]
     },
     "execution_count": 53,
     "metadata": {},
     "output_type": "execute_result"
    }
   ],
   "source": [
    "decade_chunker(1975)"
   ]
  },
  {
   "cell_type": "markdown",
   "metadata": {},
   "source": [
    "**3.**\n",
    "\n",
    "Import Pandas."
   ]
  },
  {
   "cell_type": "code",
   "execution_count": 5,
   "metadata": {},
   "outputs": [],
   "source": [
    "#Your Code Here"
   ]
  },
  {
   "cell_type": "markdown",
   "metadata": {},
   "source": [
    "Read in the CSV file \"../data/Pudding-Film-Dialogue-Clean.csv\" as `pudding_film_df`. (That's where the data should be if you downloaded the zip file from our course website, but if it's not working, then you might have to re-direct it elsewhere.)"
   ]
  },
  {
   "cell_type": "code",
   "execution_count": 6,
   "metadata": {},
   "outputs": [],
   "source": [
    "#Your Code Here"
   ]
  },
  {
   "cell_type": "markdown",
   "metadata": {},
   "source": [
    "Display a random sample of 10 rows"
   ]
  },
  {
   "cell_type": "code",
   "execution_count": 7,
   "metadata": {},
   "outputs": [
    {
     "data": {
      "text/html": [
       "<div>\n",
       "<style scoped>\n",
       "    .dataframe tbody tr th:only-of-type {\n",
       "        vertical-align: middle;\n",
       "    }\n",
       "\n",
       "    .dataframe tbody tr th {\n",
       "        vertical-align: top;\n",
       "    }\n",
       "\n",
       "    .dataframe thead th {\n",
       "        text-align: right;\n",
       "    }\n",
       "</style>\n",
       "<table border=\"1\" class=\"dataframe\">\n",
       "  <thead>\n",
       "    <tr style=\"text-align: right;\">\n",
       "      <th></th>\n",
       "      <th>script_id</th>\n",
       "      <th>character</th>\n",
       "      <th>words</th>\n",
       "      <th>gender</th>\n",
       "      <th>age</th>\n",
       "      <th>title</th>\n",
       "      <th>release_year</th>\n",
       "      <th>gross</th>\n",
       "      <th>proportion_of_dialogue</th>\n",
       "      <th>after_2000</th>\n",
       "    </tr>\n",
       "  </thead>\n",
       "  <tbody>\n",
       "    <tr>\n",
       "      <th>20954</th>\n",
       "      <td>8073</td>\n",
       "      <td>Hotel Clerk</td>\n",
       "      <td>110</td>\n",
       "      <td>Man</td>\n",
       "      <td>NaN</td>\n",
       "      <td>Drugstore Cowboy</td>\n",
       "      <td>1989</td>\n",
       "      <td>10.0</td>\n",
       "      <td>0.009281</td>\n",
       "      <td>False</td>\n",
       "    </tr>\n",
       "    <tr>\n",
       "      <th>20113</th>\n",
       "      <td>7759</td>\n",
       "      <td>Mary</td>\n",
       "      <td>153</td>\n",
       "      <td>Woman</td>\n",
       "      <td>30.0</td>\n",
       "      <td>Pan</td>\n",
       "      <td>2015</td>\n",
       "      <td>36.0</td>\n",
       "      <td>0.012825</td>\n",
       "      <td>True</td>\n",
       "    </tr>\n",
       "    <tr>\n",
       "      <th>14445</th>\n",
       "      <td>4787</td>\n",
       "      <td>Mediator</td>\n",
       "      <td>206</td>\n",
       "      <td>Woman</td>\n",
       "      <td>NaN</td>\n",
       "      <td>The Place Beyond the Pines</td>\n",
       "      <td>2012</td>\n",
       "      <td>23.0</td>\n",
       "      <td>0.018880</td>\n",
       "      <td>True</td>\n",
       "    </tr>\n",
       "    <tr>\n",
       "      <th>5544</th>\n",
       "      <td>2035</td>\n",
       "      <td>Morgue Attendan</td>\n",
       "      <td>120</td>\n",
       "      <td>Man</td>\n",
       "      <td>NaN</td>\n",
       "      <td>Collateral</td>\n",
       "      <td>2004</td>\n",
       "      <td>140.0</td>\n",
       "      <td>0.010541</td>\n",
       "      <td>True</td>\n",
       "    </tr>\n",
       "    <tr>\n",
       "      <th>5333</th>\n",
       "      <td>1974</td>\n",
       "      <td>Tim Lippe</td>\n",
       "      <td>5051</td>\n",
       "      <td>Man</td>\n",
       "      <td>NaN</td>\n",
       "      <td>Cedar Rapids</td>\n",
       "      <td>2011</td>\n",
       "      <td>7.0</td>\n",
       "      <td>0.381582</td>\n",
       "      <td>True</td>\n",
       "    </tr>\n",
       "    <tr>\n",
       "      <th>14058</th>\n",
       "      <td>4647</td>\n",
       "      <td>Paul</td>\n",
       "      <td>713</td>\n",
       "      <td>Man</td>\n",
       "      <td>61.0</td>\n",
       "      <td>Mother and Child</td>\n",
       "      <td>2009</td>\n",
       "      <td>1.0</td>\n",
       "      <td>0.073894</td>\n",
       "      <td>True</td>\n",
       "    </tr>\n",
       "    <tr>\n",
       "      <th>4808</th>\n",
       "      <td>1855</td>\n",
       "      <td>Denise Oher</td>\n",
       "      <td>161</td>\n",
       "      <td>Woman</td>\n",
       "      <td>53.0</td>\n",
       "      <td>The Blind Side</td>\n",
       "      <td>2009</td>\n",
       "      <td>296.0</td>\n",
       "      <td>0.010709</td>\n",
       "      <td>True</td>\n",
       "    </tr>\n",
       "    <tr>\n",
       "      <th>13552</th>\n",
       "      <td>4464</td>\n",
       "      <td>Roland Tembo</td>\n",
       "      <td>1385</td>\n",
       "      <td>Man</td>\n",
       "      <td>51.0</td>\n",
       "      <td>The Lost World: Jurassic Park</td>\n",
       "      <td>1997</td>\n",
       "      <td>434.0</td>\n",
       "      <td>0.182141</td>\n",
       "      <td>False</td>\n",
       "    </tr>\n",
       "    <tr>\n",
       "      <th>19850</th>\n",
       "      <td>7633</td>\n",
       "      <td>Texas Mayor</td>\n",
       "      <td>110</td>\n",
       "      <td>Woman</td>\n",
       "      <td>NaN</td>\n",
       "      <td>The Town That Dreaded Sundown</td>\n",
       "      <td>2014</td>\n",
       "      <td>NaN</td>\n",
       "      <td>0.014575</td>\n",
       "      <td>True</td>\n",
       "    </tr>\n",
       "    <tr>\n",
       "      <th>20721</th>\n",
       "      <td>7986</td>\n",
       "      <td>Bob</td>\n",
       "      <td>155</td>\n",
       "      <td>Man</td>\n",
       "      <td>NaN</td>\n",
       "      <td>Minions</td>\n",
       "      <td>2015</td>\n",
       "      <td>346.0</td>\n",
       "      <td>0.042723</td>\n",
       "      <td>True</td>\n",
       "    </tr>\n",
       "  </tbody>\n",
       "</table>\n",
       "</div>"
      ],
      "text/plain": [
       "       script_id        character  words gender   age  \\\n",
       "20954       8073      Hotel Clerk    110    Man   NaN   \n",
       "20113       7759             Mary    153  Woman  30.0   \n",
       "14445       4787         Mediator    206  Woman   NaN   \n",
       "5544        2035  Morgue Attendan    120    Man   NaN   \n",
       "5333        1974        Tim Lippe   5051    Man   NaN   \n",
       "14058       4647             Paul    713    Man  61.0   \n",
       "4808        1855      Denise Oher    161  Woman  53.0   \n",
       "13552       4464     Roland Tembo   1385    Man  51.0   \n",
       "19850       7633      Texas Mayor    110  Woman   NaN   \n",
       "20721       7986              Bob    155    Man   NaN   \n",
       "\n",
       "                               title  release_year  gross  \\\n",
       "20954               Drugstore Cowboy          1989   10.0   \n",
       "20113                            Pan          2015   36.0   \n",
       "14445     The Place Beyond the Pines          2012   23.0   \n",
       "5544                      Collateral          2004  140.0   \n",
       "5333                    Cedar Rapids          2011    7.0   \n",
       "14058               Mother and Child          2009    1.0   \n",
       "4808                  The Blind Side          2009  296.0   \n",
       "13552  The Lost World: Jurassic Park          1997  434.0   \n",
       "19850  The Town That Dreaded Sundown          2014    NaN   \n",
       "20721                        Minions          2015  346.0   \n",
       "\n",
       "       proportion_of_dialogue  after_2000  \n",
       "20954                0.009281       False  \n",
       "20113                0.012825        True  \n",
       "14445                0.018880        True  \n",
       "5544                 0.010541        True  \n",
       "5333                 0.381582        True  \n",
       "14058                0.073894        True  \n",
       "4808                 0.010709        True  \n",
       "13552                0.182141       False  \n",
       "19850                0.014575        True  \n",
       "20721                0.042723        True  "
      ]
     },
     "execution_count": 7,
     "metadata": {},
     "output_type": "execute_result"
    }
   ],
   "source": [
    "#Your Code Here"
   ]
  },
  {
   "cell_type": "markdown",
   "metadata": {},
   "source": [
    "**4.** Make a new column \"decade\" in `pudding_film_df` by applying the `decade_chunker()` function to the \"release_year\" column. For help, refer to [Applying Functions](https://melaniewalsh.github.io/Intro-Cultural-Analytics/Pandas/Pandas-EDA.html#Applying-Functions)."
   ]
  },
  {
   "cell_type": "code",
   "execution_count": 54,
   "metadata": {},
   "outputs": [],
   "source": [
    "#Your Code Here"
   ]
  },
  {
   "cell_type": "markdown",
   "metadata": {},
   "source": [
    "Disaply a random sample of 10 rows."
   ]
  },
  {
   "cell_type": "code",
   "execution_count": 55,
   "metadata": {},
   "outputs": [
    {
     "data": {
      "text/html": [
       "<div>\n",
       "<style scoped>\n",
       "    .dataframe tbody tr th:only-of-type {\n",
       "        vertical-align: middle;\n",
       "    }\n",
       "\n",
       "    .dataframe tbody tr th {\n",
       "        vertical-align: top;\n",
       "    }\n",
       "\n",
       "    .dataframe thead th {\n",
       "        text-align: right;\n",
       "    }\n",
       "</style>\n",
       "<table border=\"1\" class=\"dataframe\">\n",
       "  <thead>\n",
       "    <tr style=\"text-align: right;\">\n",
       "      <th></th>\n",
       "      <th>script_id</th>\n",
       "      <th>character</th>\n",
       "      <th>words</th>\n",
       "      <th>gender</th>\n",
       "      <th>age</th>\n",
       "      <th>title</th>\n",
       "      <th>release_year</th>\n",
       "      <th>gross</th>\n",
       "      <th>proportion_of_dialogue</th>\n",
       "      <th>after_2000</th>\n",
       "      <th>decade</th>\n",
       "    </tr>\n",
       "  </thead>\n",
       "  <tbody>\n",
       "    <tr>\n",
       "      <th>1784</th>\n",
       "      <td>1071</td>\n",
       "      <td>Masha</td>\n",
       "      <td>568</td>\n",
       "      <td>Woman</td>\n",
       "      <td>27.0</td>\n",
       "      <td>The King of Comedy</td>\n",
       "      <td>1982</td>\n",
       "      <td>7.0</td>\n",
       "      <td>0.054458</td>\n",
       "      <td>False</td>\n",
       "      <td>1980s</td>\n",
       "    </tr>\n",
       "    <tr>\n",
       "      <th>15238</th>\n",
       "      <td>5083</td>\n",
       "      <td>Pirelli</td>\n",
       "      <td>317</td>\n",
       "      <td>Man</td>\n",
       "      <td>36.0</td>\n",
       "      <td>Sweeney Todd: The Demon Barber of Fleet Street</td>\n",
       "      <td>2007</td>\n",
       "      <td>66.0</td>\n",
       "      <td>0.036647</td>\n",
       "      <td>True</td>\n",
       "      <td>2000s</td>\n",
       "    </tr>\n",
       "    <tr>\n",
       "      <th>5251</th>\n",
       "      <td>1962</td>\n",
       "      <td>Emily Jenkins</td>\n",
       "      <td>3402</td>\n",
       "      <td>Woman</td>\n",
       "      <td>40.0</td>\n",
       "      <td>Case 39</td>\n",
       "      <td>2009</td>\n",
       "      <td>15.0</td>\n",
       "      <td>0.416401</td>\n",
       "      <td>True</td>\n",
       "      <td>2000s</td>\n",
       "    </tr>\n",
       "    <tr>\n",
       "      <th>15929</th>\n",
       "      <td>5388</td>\n",
       "      <td>Bates</td>\n",
       "      <td>132</td>\n",
       "      <td>Man</td>\n",
       "      <td>36.0</td>\n",
       "      <td>Bridge of Spies</td>\n",
       "      <td>2015</td>\n",
       "      <td>74.0</td>\n",
       "      <td>0.014300</td>\n",
       "      <td>True</td>\n",
       "      <td>2010s</td>\n",
       "    </tr>\n",
       "    <tr>\n",
       "      <th>3868</th>\n",
       "      <td>1597</td>\n",
       "      <td>Ripley</td>\n",
       "      <td>4910</td>\n",
       "      <td>Woman</td>\n",
       "      <td>37.0</td>\n",
       "      <td>Aliens</td>\n",
       "      <td>1986</td>\n",
       "      <td>199.0</td>\n",
       "      <td>0.359181</td>\n",
       "      <td>False</td>\n",
       "      <td>1980s</td>\n",
       "    </tr>\n",
       "    <tr>\n",
       "      <th>4840</th>\n",
       "      <td>1858</td>\n",
       "      <td>Victor 'Vic' Sp</td>\n",
       "      <td>1644</td>\n",
       "      <td>Man</td>\n",
       "      <td>63.0</td>\n",
       "      <td>Blood and Wine</td>\n",
       "      <td>1996</td>\n",
       "      <td>2.0</td>\n",
       "      <td>0.109113</td>\n",
       "      <td>False</td>\n",
       "      <td>1990s</td>\n",
       "    </tr>\n",
       "    <tr>\n",
       "      <th>3824</th>\n",
       "      <td>1564</td>\n",
       "      <td>Mother Miriam R</td>\n",
       "      <td>4534</td>\n",
       "      <td>Woman</td>\n",
       "      <td>54.0</td>\n",
       "      <td>Agnes of God</td>\n",
       "      <td>1985</td>\n",
       "      <td>NaN</td>\n",
       "      <td>0.265861</td>\n",
       "      <td>False</td>\n",
       "      <td>1980s</td>\n",
       "    </tr>\n",
       "    <tr>\n",
       "      <th>21457</th>\n",
       "      <td>8301</td>\n",
       "      <td>Howard Johnson</td>\n",
       "      <td>182</td>\n",
       "      <td>Man</td>\n",
       "      <td>42.0</td>\n",
       "      <td>Blazing Saddles</td>\n",
       "      <td>1974</td>\n",
       "      <td>558.0</td>\n",
       "      <td>0.035954</td>\n",
       "      <td>False</td>\n",
       "      <td>1970s</td>\n",
       "    </tr>\n",
       "    <tr>\n",
       "      <th>19943</th>\n",
       "      <td>7698</td>\n",
       "      <td>Athena</td>\n",
       "      <td>218</td>\n",
       "      <td>Woman</td>\n",
       "      <td>NaN</td>\n",
       "      <td>My Big Fat Greek Wedding</td>\n",
       "      <td>2002</td>\n",
       "      <td>360.0</td>\n",
       "      <td>0.027470</td>\n",
       "      <td>True</td>\n",
       "      <td>2000s</td>\n",
       "    </tr>\n",
       "    <tr>\n",
       "      <th>10922</th>\n",
       "      <td>3503</td>\n",
       "      <td>Diggory</td>\n",
       "      <td>143</td>\n",
       "      <td>Man</td>\n",
       "      <td>61.0</td>\n",
       "      <td>Tamara Drewe</td>\n",
       "      <td>2010</td>\n",
       "      <td>0.0</td>\n",
       "      <td>0.007693</td>\n",
       "      <td>True</td>\n",
       "      <td>2010s</td>\n",
       "    </tr>\n",
       "  </tbody>\n",
       "</table>\n",
       "</div>"
      ],
      "text/plain": [
       "       script_id        character  words gender   age  \\\n",
       "1784        1071            Masha    568  Woman  27.0   \n",
       "15238       5083          Pirelli    317    Man  36.0   \n",
       "5251        1962    Emily Jenkins   3402  Woman  40.0   \n",
       "15929       5388            Bates    132    Man  36.0   \n",
       "3868        1597           Ripley   4910  Woman  37.0   \n",
       "4840        1858  Victor 'Vic' Sp   1644    Man  63.0   \n",
       "3824        1564  Mother Miriam R   4534  Woman  54.0   \n",
       "21457       8301   Howard Johnson    182    Man  42.0   \n",
       "19943       7698           Athena    218  Woman   NaN   \n",
       "10922       3503          Diggory    143    Man  61.0   \n",
       "\n",
       "                                                title  release_year  gross  \\\n",
       "1784                               The King of Comedy          1982    7.0   \n",
       "15238  Sweeney Todd: The Demon Barber of Fleet Street          2007   66.0   \n",
       "5251                                          Case 39          2009   15.0   \n",
       "15929                                 Bridge of Spies          2015   74.0   \n",
       "3868                                           Aliens          1986  199.0   \n",
       "4840                                   Blood and Wine          1996    2.0   \n",
       "3824                                     Agnes of God          1985    NaN   \n",
       "21457                                 Blazing Saddles          1974  558.0   \n",
       "19943                        My Big Fat Greek Wedding          2002  360.0   \n",
       "10922                                    Tamara Drewe          2010    0.0   \n",
       "\n",
       "       proportion_of_dialogue  after_2000 decade  \n",
       "1784                 0.054458       False  1980s  \n",
       "15238                0.036647        True  2000s  \n",
       "5251                 0.416401        True  2000s  \n",
       "15929                0.014300        True  2010s  \n",
       "3868                 0.359181       False  1980s  \n",
       "4840                 0.109113       False  1990s  \n",
       "3824                 0.265861       False  1980s  \n",
       "21457                0.035954       False  1970s  \n",
       "19943                0.027470        True  2000s  \n",
       "10922                0.007693        True  2010s  "
      ]
     },
     "execution_count": 55,
     "metadata": {},
     "output_type": "execute_result"
    }
   ],
   "source": [
    "pudding_film_df.sample(10)"
   ]
  },
  {
   "cell_type": "markdown",
   "metadata": {},
   "source": [
    "**5.** Filter the `pudding_film_df` dataframe so that it only includes characters who are women."
   ]
  },
  {
   "cell_type": "code",
   "execution_count": 56,
   "metadata": {},
   "outputs": [
    {
     "data": {
      "text/html": [
       "<div>\n",
       "<style scoped>\n",
       "    .dataframe tbody tr th:only-of-type {\n",
       "        vertical-align: middle;\n",
       "    }\n",
       "\n",
       "    .dataframe tbody tr th {\n",
       "        vertical-align: top;\n",
       "    }\n",
       "\n",
       "    .dataframe thead th {\n",
       "        text-align: right;\n",
       "    }\n",
       "</style>\n",
       "<table border=\"1\" class=\"dataframe\">\n",
       "  <thead>\n",
       "    <tr style=\"text-align: right;\">\n",
       "      <th></th>\n",
       "      <th>script_id</th>\n",
       "      <th>character</th>\n",
       "      <th>words</th>\n",
       "      <th>gender</th>\n",
       "      <th>age</th>\n",
       "      <th>title</th>\n",
       "      <th>release_year</th>\n",
       "      <th>gross</th>\n",
       "      <th>proportion_of_dialogue</th>\n",
       "      <th>after_2000</th>\n",
       "      <th>decade</th>\n",
       "    </tr>\n",
       "  </thead>\n",
       "  <tbody>\n",
       "    <tr>\n",
       "      <th>0</th>\n",
       "      <td>280</td>\n",
       "      <td>Betty</td>\n",
       "      <td>311</td>\n",
       "      <td>Woman</td>\n",
       "      <td>35.0</td>\n",
       "      <td>The Bridges of Madison County</td>\n",
       "      <td>1995</td>\n",
       "      <td>142.0</td>\n",
       "      <td>0.048639</td>\n",
       "      <td>False</td>\n",
       "      <td>1990s</td>\n",
       "    </tr>\n",
       "    <tr>\n",
       "      <th>1</th>\n",
       "      <td>280</td>\n",
       "      <td>Carolyn Johnson</td>\n",
       "      <td>873</td>\n",
       "      <td>Woman</td>\n",
       "      <td>NaN</td>\n",
       "      <td>The Bridges of Madison County</td>\n",
       "      <td>1995</td>\n",
       "      <td>142.0</td>\n",
       "      <td>0.136534</td>\n",
       "      <td>False</td>\n",
       "      <td>1990s</td>\n",
       "    </tr>\n",
       "    <tr>\n",
       "      <th>2</th>\n",
       "      <td>280</td>\n",
       "      <td>Eleanor</td>\n",
       "      <td>138</td>\n",
       "      <td>Woman</td>\n",
       "      <td>NaN</td>\n",
       "      <td>The Bridges of Madison County</td>\n",
       "      <td>1995</td>\n",
       "      <td>142.0</td>\n",
       "      <td>0.021583</td>\n",
       "      <td>False</td>\n",
       "      <td>1990s</td>\n",
       "    </tr>\n",
       "    <tr>\n",
       "      <th>3</th>\n",
       "      <td>280</td>\n",
       "      <td>Francesca Johns</td>\n",
       "      <td>2251</td>\n",
       "      <td>Woman</td>\n",
       "      <td>46.0</td>\n",
       "      <td>The Bridges of Madison County</td>\n",
       "      <td>1995</td>\n",
       "      <td>142.0</td>\n",
       "      <td>0.352049</td>\n",
       "      <td>False</td>\n",
       "      <td>1990s</td>\n",
       "    </tr>\n",
       "    <tr>\n",
       "      <th>4</th>\n",
       "      <td>280</td>\n",
       "      <td>Madge</td>\n",
       "      <td>190</td>\n",
       "      <td>Woman</td>\n",
       "      <td>46.0</td>\n",
       "      <td>The Bridges of Madison County</td>\n",
       "      <td>1995</td>\n",
       "      <td>142.0</td>\n",
       "      <td>0.029715</td>\n",
       "      <td>False</td>\n",
       "      <td>1990s</td>\n",
       "    </tr>\n",
       "    <tr>\n",
       "      <th>...</th>\n",
       "      <td>...</td>\n",
       "      <td>...</td>\n",
       "      <td>...</td>\n",
       "      <td>...</td>\n",
       "      <td>...</td>\n",
       "      <td>...</td>\n",
       "      <td>...</td>\n",
       "      <td>...</td>\n",
       "      <td>...</td>\n",
       "      <td>...</td>\n",
       "      <td>...</td>\n",
       "    </tr>\n",
       "    <tr>\n",
       "      <th>23028</th>\n",
       "      <td>9253</td>\n",
       "      <td>Girl In Pool</td>\n",
       "      <td>118</td>\n",
       "      <td>Woman</td>\n",
       "      <td>NaN</td>\n",
       "      <td>Let Me In</td>\n",
       "      <td>2010</td>\n",
       "      <td>13.0</td>\n",
       "      <td>0.035192</td>\n",
       "      <td>True</td>\n",
       "      <td>2010s</td>\n",
       "    </tr>\n",
       "    <tr>\n",
       "      <th>23034</th>\n",
       "      <td>9253</td>\n",
       "      <td>Owen'S Mother</td>\n",
       "      <td>286</td>\n",
       "      <td>Woman</td>\n",
       "      <td>39.0</td>\n",
       "      <td>Let Me In</td>\n",
       "      <td>2010</td>\n",
       "      <td>13.0</td>\n",
       "      <td>0.085297</td>\n",
       "      <td>True</td>\n",
       "      <td>2010s</td>\n",
       "    </tr>\n",
       "    <tr>\n",
       "      <th>23038</th>\n",
       "      <td>9254</td>\n",
       "      <td>Belle</td>\n",
       "      <td>2183</td>\n",
       "      <td>Woman</td>\n",
       "      <td>35.0</td>\n",
       "      <td>Beauty and the Beast</td>\n",
       "      <td>1991</td>\n",
       "      <td>452.0</td>\n",
       "      <td>0.214883</td>\n",
       "      <td>False</td>\n",
       "      <td>1990s</td>\n",
       "    </tr>\n",
       "    <tr>\n",
       "      <th>23046</th>\n",
       "      <td>9254</td>\n",
       "      <td>Mrs. Potts</td>\n",
       "      <td>564</td>\n",
       "      <td>Woman</td>\n",
       "      <td>66.0</td>\n",
       "      <td>Beauty and the Beast</td>\n",
       "      <td>1991</td>\n",
       "      <td>452.0</td>\n",
       "      <td>0.055517</td>\n",
       "      <td>False</td>\n",
       "      <td>1990s</td>\n",
       "    </tr>\n",
       "    <tr>\n",
       "      <th>23047</th>\n",
       "      <td>9254</td>\n",
       "      <td>Wardrobe</td>\n",
       "      <td>121</td>\n",
       "      <td>Woman</td>\n",
       "      <td>54.0</td>\n",
       "      <td>Beauty and the Beast</td>\n",
       "      <td>1991</td>\n",
       "      <td>452.0</td>\n",
       "      <td>0.011911</td>\n",
       "      <td>False</td>\n",
       "      <td>1990s</td>\n",
       "    </tr>\n",
       "  </tbody>\n",
       "</table>\n",
       "<p>6911 rows × 11 columns</p>\n",
       "</div>"
      ],
      "text/plain": [
       "       script_id        character  words gender   age  \\\n",
       "0            280            Betty    311  Woman  35.0   \n",
       "1            280  Carolyn Johnson    873  Woman   NaN   \n",
       "2            280          Eleanor    138  Woman   NaN   \n",
       "3            280  Francesca Johns   2251  Woman  46.0   \n",
       "4            280            Madge    190  Woman  46.0   \n",
       "...          ...              ...    ...    ...   ...   \n",
       "23028       9253     Girl In Pool    118  Woman   NaN   \n",
       "23034       9253    Owen'S Mother    286  Woman  39.0   \n",
       "23038       9254            Belle   2183  Woman  35.0   \n",
       "23046       9254       Mrs. Potts    564  Woman  66.0   \n",
       "23047       9254         Wardrobe    121  Woman  54.0   \n",
       "\n",
       "                               title  release_year  gross  \\\n",
       "0      The Bridges of Madison County          1995  142.0   \n",
       "1      The Bridges of Madison County          1995  142.0   \n",
       "2      The Bridges of Madison County          1995  142.0   \n",
       "3      The Bridges of Madison County          1995  142.0   \n",
       "4      The Bridges of Madison County          1995  142.0   \n",
       "...                              ...           ...    ...   \n",
       "23028                      Let Me In          2010   13.0   \n",
       "23034                      Let Me In          2010   13.0   \n",
       "23038           Beauty and the Beast          1991  452.0   \n",
       "23046           Beauty and the Beast          1991  452.0   \n",
       "23047           Beauty and the Beast          1991  452.0   \n",
       "\n",
       "       proportion_of_dialogue  after_2000 decade  \n",
       "0                    0.048639       False  1990s  \n",
       "1                    0.136534       False  1990s  \n",
       "2                    0.021583       False  1990s  \n",
       "3                    0.352049       False  1990s  \n",
       "4                    0.029715       False  1990s  \n",
       "...                       ...         ...    ...  \n",
       "23028                0.035192        True  2010s  \n",
       "23034                0.085297        True  2010s  \n",
       "23038                0.214883       False  1990s  \n",
       "23046                0.055517       False  1990s  \n",
       "23047                0.011911       False  1990s  \n",
       "\n",
       "[6911 rows x 11 columns]"
      ]
     },
     "execution_count": 56,
     "metadata": {},
     "output_type": "execute_result"
    }
   ],
   "source": [
    "#Your Code Here"
   ]
  },
  {
   "cell_type": "markdown",
   "metadata": {},
   "source": [
    "Save this dataframe as `women_film_df`."
   ]
  },
  {
   "cell_type": "code",
   "execution_count": 57,
   "metadata": {},
   "outputs": [],
   "source": [
    "#Your Code Here"
   ]
  },
  {
   "cell_type": "markdown",
   "metadata": {},
   "source": [
    "Display a random sample of 10 rows from `women_film_df`."
   ]
  },
  {
   "cell_type": "code",
   "execution_count": 58,
   "metadata": {},
   "outputs": [
    {
     "data": {
      "text/html": [
       "<div>\n",
       "<style scoped>\n",
       "    .dataframe tbody tr th:only-of-type {\n",
       "        vertical-align: middle;\n",
       "    }\n",
       "\n",
       "    .dataframe tbody tr th {\n",
       "        vertical-align: top;\n",
       "    }\n",
       "\n",
       "    .dataframe thead th {\n",
       "        text-align: right;\n",
       "    }\n",
       "</style>\n",
       "<table border=\"1\" class=\"dataframe\">\n",
       "  <thead>\n",
       "    <tr style=\"text-align: right;\">\n",
       "      <th></th>\n",
       "      <th>script_id</th>\n",
       "      <th>character</th>\n",
       "      <th>words</th>\n",
       "      <th>gender</th>\n",
       "      <th>age</th>\n",
       "      <th>title</th>\n",
       "      <th>release_year</th>\n",
       "      <th>gross</th>\n",
       "      <th>proportion_of_dialogue</th>\n",
       "      <th>after_2000</th>\n",
       "      <th>decade</th>\n",
       "    </tr>\n",
       "  </thead>\n",
       "  <tbody>\n",
       "    <tr>\n",
       "      <th>12355</th>\n",
       "      <td>4034</td>\n",
       "      <td>Ruth Mayer</td>\n",
       "      <td>556</td>\n",
       "      <td>Woman</td>\n",
       "      <td>25.0</td>\n",
       "      <td>Crazylove</td>\n",
       "      <td>2005</td>\n",
       "      <td>NaN</td>\n",
       "      <td>0.049537</td>\n",
       "      <td>True</td>\n",
       "      <td>2000s</td>\n",
       "    </tr>\n",
       "    <tr>\n",
       "      <th>6637</th>\n",
       "      <td>2316</td>\n",
       "      <td>Drama Teacher</td>\n",
       "      <td>266</td>\n",
       "      <td>Woman</td>\n",
       "      <td>46.0</td>\n",
       "      <td>Frances</td>\n",
       "      <td>1982</td>\n",
       "      <td>14.0</td>\n",
       "      <td>0.009894</td>\n",
       "      <td>False</td>\n",
       "      <td>1980s</td>\n",
       "    </tr>\n",
       "    <tr>\n",
       "      <th>6546</th>\n",
       "      <td>2294</td>\n",
       "      <td>Kat</td>\n",
       "      <td>432</td>\n",
       "      <td>Woman</td>\n",
       "      <td>32.0</td>\n",
       "      <td>Final Destination 2</td>\n",
       "      <td>2003</td>\n",
       "      <td>67.0</td>\n",
       "      <td>0.055321</td>\n",
       "      <td>True</td>\n",
       "      <td>2000s</td>\n",
       "    </tr>\n",
       "    <tr>\n",
       "      <th>19286</th>\n",
       "      <td>7364</td>\n",
       "      <td>Maria</td>\n",
       "      <td>110</td>\n",
       "      <td>Woman</td>\n",
       "      <td>32.0</td>\n",
       "      <td>The Devil's Rejects</td>\n",
       "      <td>2005</td>\n",
       "      <td>22.0</td>\n",
       "      <td>0.006179</td>\n",
       "      <td>True</td>\n",
       "      <td>2000s</td>\n",
       "    </tr>\n",
       "    <tr>\n",
       "      <th>13212</th>\n",
       "      <td>4353</td>\n",
       "      <td>Melanie</td>\n",
       "      <td>601</td>\n",
       "      <td>Woman</td>\n",
       "      <td>29.0</td>\n",
       "      <td>Hereafter</td>\n",
       "      <td>2010</td>\n",
       "      <td>36.0</td>\n",
       "      <td>0.085115</td>\n",
       "      <td>True</td>\n",
       "      <td>2010s</td>\n",
       "    </tr>\n",
       "    <tr>\n",
       "      <th>22225</th>\n",
       "      <td>8672</td>\n",
       "      <td>Trish</td>\n",
       "      <td>1420</td>\n",
       "      <td>Woman</td>\n",
       "      <td>46.0</td>\n",
       "      <td>The 40-Year-Old Virgin</td>\n",
       "      <td>2005</td>\n",
       "      <td>147.0</td>\n",
       "      <td>0.153381</td>\n",
       "      <td>True</td>\n",
       "      <td>2000s</td>\n",
       "    </tr>\n",
       "    <tr>\n",
       "      <th>4436</th>\n",
       "      <td>1735</td>\n",
       "      <td>Helen Mccaffrey</td>\n",
       "      <td>604</td>\n",
       "      <td>Woman</td>\n",
       "      <td>32.0</td>\n",
       "      <td>Backdraft</td>\n",
       "      <td>1991</td>\n",
       "      <td>160.0</td>\n",
       "      <td>0.025744</td>\n",
       "      <td>False</td>\n",
       "      <td>1990s</td>\n",
       "    </tr>\n",
       "    <tr>\n",
       "      <th>2627</th>\n",
       "      <td>1282</td>\n",
       "      <td>Carla Pestalozz</td>\n",
       "      <td>182</td>\n",
       "      <td>Woman</td>\n",
       "      <td>28.0</td>\n",
       "      <td>The Rock</td>\n",
       "      <td>1996</td>\n",
       "      <td>263.0</td>\n",
       "      <td>0.024538</td>\n",
       "      <td>False</td>\n",
       "      <td>1990s</td>\n",
       "    </tr>\n",
       "    <tr>\n",
       "      <th>1011</th>\n",
       "      <td>871</td>\n",
       "      <td>Pamela Courson</td>\n",
       "      <td>1210</td>\n",
       "      <td>Woman</td>\n",
       "      <td>30.0</td>\n",
       "      <td>The Doors</td>\n",
       "      <td>1991</td>\n",
       "      <td>72.0</td>\n",
       "      <td>0.096184</td>\n",
       "      <td>False</td>\n",
       "      <td>1990s</td>\n",
       "    </tr>\n",
       "    <tr>\n",
       "      <th>5838</th>\n",
       "      <td>2106</td>\n",
       "      <td>Rachel</td>\n",
       "      <td>2108</td>\n",
       "      <td>Woman</td>\n",
       "      <td>31.0</td>\n",
       "      <td>The Dark Knight</td>\n",
       "      <td>2008</td>\n",
       "      <td>645.0</td>\n",
       "      <td>0.062858</td>\n",
       "      <td>True</td>\n",
       "      <td>2000s</td>\n",
       "    </tr>\n",
       "  </tbody>\n",
       "</table>\n",
       "</div>"
      ],
      "text/plain": [
       "       script_id        character  words gender   age                   title  \\\n",
       "12355       4034       Ruth Mayer    556  Woman  25.0               Crazylove   \n",
       "6637        2316    Drama Teacher    266  Woman  46.0                 Frances   \n",
       "6546        2294              Kat    432  Woman  32.0     Final Destination 2   \n",
       "19286       7364            Maria    110  Woman  32.0     The Devil's Rejects   \n",
       "13212       4353          Melanie    601  Woman  29.0               Hereafter   \n",
       "22225       8672            Trish   1420  Woman  46.0  The 40-Year-Old Virgin   \n",
       "4436        1735  Helen Mccaffrey    604  Woman  32.0               Backdraft   \n",
       "2627        1282  Carla Pestalozz    182  Woman  28.0                The Rock   \n",
       "1011         871   Pamela Courson   1210  Woman  30.0               The Doors   \n",
       "5838        2106           Rachel   2108  Woman  31.0         The Dark Knight   \n",
       "\n",
       "       release_year  gross  proportion_of_dialogue  after_2000 decade  \n",
       "12355          2005    NaN                0.049537        True  2000s  \n",
       "6637           1982   14.0                0.009894       False  1980s  \n",
       "6546           2003   67.0                0.055321        True  2000s  \n",
       "19286          2005   22.0                0.006179        True  2000s  \n",
       "13212          2010   36.0                0.085115        True  2010s  \n",
       "22225          2005  147.0                0.153381        True  2000s  \n",
       "4436           1991  160.0                0.025744       False  1990s  \n",
       "2627           1996  263.0                0.024538       False  1990s  \n",
       "1011           1991   72.0                0.096184       False  1990s  \n",
       "5838           2008  645.0                0.062858        True  2000s  "
      ]
     },
     "execution_count": 58,
     "metadata": {},
     "output_type": "execute_result"
    }
   ],
   "source": [
    "women_film_df.sample(10)"
   ]
  },
  {
   "cell_type": "markdown",
   "metadata": {},
   "source": [
    "**6.** Find out the top two women who have the highest proportion of dialogue in the entire dataset. Sort `women_film_df`  by \"proportion_of_dialogue\" from the highest proportion to the lowest proportion."
   ]
  },
  {
   "cell_type": "code",
   "execution_count": null,
   "metadata": {},
   "outputs": [],
   "source": [
    "#Your Code Here"
   ]
  },
  {
   "cell_type": "markdown",
   "metadata": {},
   "source": [
    "***Output display not included here because it gives away the answer"
   ]
  },
  {
   "cell_type": "markdown",
   "metadata": {},
   "source": [
    "The two women characters in this dataset with the highest proportion of film dialogue are:"
   ]
  },
  {
   "cell_type": "markdown",
   "metadata": {},
   "source": [
    "**1)** **#Your Answer Here** from the movie **#Your Answer Here** with approximately **#Your Answer Here** percent of the dialogue"
   ]
  },
  {
   "cell_type": "markdown",
   "metadata": {},
   "source": [
    "**2)** **#Your Answer Here** from the movie **#Your Answer Here** with approximately **#Your Answer Here** percent of the dialogue"
   ]
  },
  {
   "cell_type": "markdown",
   "metadata": {},
   "source": [
    "**7.** Let's find out how many women characters from each decade appear in this dataset. For `women_film_df`, count the values in the column \"decade\". For help, refer to [Count Values in Columns](https://melaniewalsh.github.io/Intro-Cultural-Analytics/Pandas/Pandas.html#Count-Values-in-Columns). "
   ]
  },
  {
   "cell_type": "code",
   "execution_count": 59,
   "metadata": {},
   "outputs": [
    {
     "data": {
      "text/plain": [
       "2000s    2303\n",
       "2010s    1692\n",
       "1990s    1676\n",
       "1980s     707\n",
       "1970s     265\n",
       "1940s      86\n",
       "1960s      78\n",
       "1950s      60\n",
       "           44\n",
       "Name: decade, dtype: int64"
      ]
     },
     "execution_count": 59,
     "metadata": {},
     "output_type": "execute_result"
    }
   ],
   "source": [
    "#Your Code Here"
   ]
  },
  {
   "cell_type": "markdown",
   "metadata": {},
   "source": [
    "**8.** Let's look at the percentage of women's dialogue in film across the decades. For `women_film_df`, groupby the column \"decade\" and then calculate the `.sum()` total of \"words\" spoken by women for each decade."
   ]
  },
  {
   "cell_type": "code",
   "execution_count": 35,
   "metadata": {},
   "outputs": [
    {
     "data": {
      "text/plain": [
       "decade\n",
       "           54852\n",
       "1940s      82921\n",
       "1950s      72272\n",
       "1960s      56645\n",
       "1970s     239294\n",
       "1980s     592899\n",
       "1990s    1676332\n",
       "2000s    2033556\n",
       "2010s    1068886\n",
       "Name: words, dtype: int64"
      ]
     },
     "execution_count": 35,
     "metadata": {},
     "output_type": "execute_result"
    }
   ],
   "source": [
    "#Your Code Here"
   ]
  },
  {
   "cell_type": "markdown",
   "metadata": {},
   "source": [
    "Save this groupby into a variable called `women_dialogue_per_decade`"
   ]
  },
  {
   "cell_type": "code",
   "execution_count": 44,
   "metadata": {},
   "outputs": [],
   "source": [
    "#Your Code Here"
   ]
  },
  {
   "cell_type": "markdown",
   "metadata": {},
   "source": [
    "**9.** The above information isn't very useful unless we compare it to the total number of words spoken across the decades. For `pudding_film_df`, groupby the column \"decade\" and then calculate the `.sum()` total of \"words\" spoken by all characters for each decade."
   ]
  },
  {
   "cell_type": "code",
   "execution_count": 66,
   "metadata": {},
   "outputs": [
    {
     "data": {
      "text/plain": [
       "decade\n",
       "          237159\n",
       "1940s     276707\n",
       "1950s     255757\n",
       "1960s     241264\n",
       "1970s     883666\n",
       "1980s    2101408\n",
       "1990s    5799632\n",
       "2000s    6804819\n",
       "2010s    4324210\n",
       "Name: words, dtype: int64"
      ]
     },
     "execution_count": 66,
     "metadata": {},
     "output_type": "execute_result"
    }
   ],
   "source": [
    "#Your Code Here"
   ]
  },
  {
   "cell_type": "markdown",
   "metadata": {},
   "source": [
    "Save this groupby into a variable called `all_dialogue_per_decade`"
   ]
  },
  {
   "cell_type": "code",
   "execution_count": 45,
   "metadata": {},
   "outputs": [],
   "source": [
    "#Your Code Here"
   ]
  },
  {
   "cell_type": "markdown",
   "metadata": {},
   "source": [
    "**10.** Now divide `women_dialogue_per_decade` by `all_dialogue_per_decade`"
   ]
  },
  {
   "cell_type": "code",
   "execution_count": 46,
   "metadata": {},
   "outputs": [
    {
     "data": {
      "text/plain": [
       "decade\n",
       "         0.231288\n",
       "1940s    0.287067\n",
       "1950s    0.240661\n",
       "1960s    0.220187\n",
       "1970s    0.234047\n",
       "1980s    0.268541\n",
       "1990s    0.269048\n",
       "2000s    0.293643\n",
       "2010s    0.309381\n",
       "Name: words, dtype: float64"
      ]
     },
     "execution_count": 46,
     "metadata": {},
     "output_type": "execute_result"
    }
   ],
   "source": [
    "#Your Code Here"
   ]
  },
  {
   "cell_type": "markdown",
   "metadata": {},
   "source": [
    "Save this calculation into a variable called `women_dialogue_across_decades`"
   ]
  },
  {
   "cell_type": "code",
   "execution_count": 68,
   "metadata": {},
   "outputs": [],
   "source": [
    "#Your Code Here"
   ]
  },
  {
   "cell_type": "markdown",
   "metadata": {},
   "source": [
    "**11.**"
   ]
  },
  {
   "cell_type": "markdown",
   "metadata": {},
   "source": [
    "Make a bar plot of `women_dialogue_across_decades`"
   ]
  },
  {
   "cell_type": "code",
   "execution_count": 69,
   "metadata": {},
   "outputs": [
    {
     "data": {
      "text/plain": [
       "<matplotlib.axes._subplots.AxesSubplot at 0x11da2b110>"
      ]
     },
     "execution_count": 69,
     "metadata": {},
     "output_type": "execute_result"
    },
    {
     "data": {
      "image/png": "[encoded data removed]",
      "text/plain": [
       "<Figure size 432x288 with 1 Axes>"
      ]
     },
     "metadata": {
      "needs_background": "light"
     },
     "output_type": "display_data"
    }
   ],
   "source": [
    "#Your Code Here"
   ]
  },
  {
   "cell_type": "markdown",
   "metadata": {},
   "source": [
    "# Reflection and Analysis"
   ]
  },
  {
   "cell_type": "markdown",
   "metadata": {},
   "source": [
    "Answer the following questions in a few or more sentences."
   ]
  },
  {
   "cell_type": "markdown",
   "metadata": {},
   "source": [
    "**12.** What, if anything, can you conclude based on the percentage of women's dialogue across the decades shown in this data — regarding film, the film industry, gender, society and culture, etc.?"
   ]
  },
  {
   "cell_type": "markdown",
   "metadata": {},
   "source": [
    "**#**Your Answer Here"
   ]
  },
  {
   "cell_type": "markdown",
   "metadata": {},
   "source": [
    "**13.** What are some of the limitations of this dataset?"
   ]
  },
  {
   "cell_type": "markdown",
   "metadata": {},
   "source": [
    "**#**Your Answer Here"
   ]
  },
  {
   "cell_type": "markdown",
   "metadata": {},
   "source": [
    "**14.** If you had unlimited time and technical resources, what would be another research question that you would want to pursue with this data or similar data?"
   ]
  },
  {
   "cell_type": "markdown",
   "metadata": {},
   "source": [
    "**#**Your Answer Here"
   ]
  },
  {
   "cell_type": "markdown",
   "metadata": {},
   "source": [
    "**15.** What's another cultural dataset that you could imagine yourself using Pandas with in the future?"
   ]
  },
  {
   "cell_type": "markdown",
   "metadata": {},
   "source": [
    "**#**Your Answer Here"
   ]
  }
 ],
 "metadata": {
  "kernelspec": {
   "display_name": "Python 3",
   "language": "python",
   "name": "python3"
  },
  "language_info": {
   "codemirror_mode": {
    "name": "ipython",
    "version": 3
   },
   "file_extension": ".py",
   "mimetype": "text/x-python",
   "name": "python",
   "nbconvert_exporter": "python",
   "pygments_lexer": "ipython3",
   "version": "3.7.5"
  }
 },
 "nbformat": 4,
 "nbformat_minor": 4
}
